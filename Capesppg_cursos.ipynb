{
  "nbformat": 4,
  "nbformat_minor": 0,
  "metadata": {
    "colab": {
      "name": "Capesppg_cursos.ipynb",
      "provenance": [],
      "collapsed_sections": []
    },
    "kernelspec": {
      "name": "python3",
      "display_name": "Python 3"
    },
    "language_info": {
      "name": "python"
    }
  },
  "cells": [
    {
      "cell_type": "code",
      "metadata": {
        "colab": {
          "base_uri": "https://localhost:8080/"
        },
        "id": "TtylTNsmpGoT",
        "outputId": "ec9ab197-e17b-4667-e836-bce5776acbfa"
      },
      "source": [
        "from google.colab import drive\n",
        "drive.mount('/content/drive')"
      ],
      "execution_count": null,
      "outputs": [
        {
          "output_type": "stream",
          "text": [
            "Drive already mounted at /content/drive; to attempt to forcibly remount, call drive.mount(\"/content/drive\", force_remount=True).\n"
          ],
          "name": "stdout"
        }
      ]
    },
    {
      "cell_type": "code",
      "metadata": {
        "id": "6JtZ2hfipIWk"
      },
      "source": [
        "import pandas as pd\n",
        "import numpy as np\n",
        "import matplotlib.pyplot as plt\n",
        "import seaborn as sns\n",
        "%matplotlib inline\n",
        "import sklearn as skt"
      ],
      "execution_count": null,
      "outputs": []
    },
    {
      "cell_type": "code",
      "metadata": {
        "colab": {
          "base_uri": "https://localhost:8080/"
        },
        "id": "Xv_CvugzpSLG",
        "outputId": "9bbb6b1c-949a-4431-dded-92eaee99a3af"
      },
      "source": [
        "path = '/content/drive/My Drive/bases_capes_cursos/cursos_2013-2019.csv'\n",
        "df = pd.read_csv(path)"
      ],
      "execution_count": null,
      "outputs": [
        {
          "output_type": "stream",
          "text": [
            "/usr/local/lib/python3.7/dist-packages/IPython/core/interactiveshell.py:2718: DtypeWarning: Columns (22) have mixed types.Specify dtype option on import or set low_memory=False.\n",
            "  interactivity=interactivity, compiler=compiler, result=result)\n"
          ],
          "name": "stderr"
        }
      ]
    },
    {
      "cell_type": "code",
      "metadata": {
        "id": "JD3lZ3lwpYpl",
        "colab": {
          "base_uri": "https://localhost:8080/",
          "height": 297
        },
        "outputId": "5d01565b-fade-4656-e907-535fd156647c"
      },
      "source": [
        "sns.countplot(x='AN_BASE', data = df)"
      ],
      "execution_count": null,
      "outputs": [
        {
          "output_type": "execute_result",
          "data": {
            "text/plain": [
              "<matplotlib.axes._subplots.AxesSubplot at 0x7f5bcc3caa90>"
            ]
          },
          "metadata": {
            "tags": []
          },
          "execution_count": 119
        },
        {
          "output_type": "display_data",
          "data": {
            "image/png": "[encoded data removed]",
            "text/plain": [
              "<Figure size 432x288 with 1 Axes>"
            ]
          },
          "metadata": {
            "tags": [],
            "needs_background": "light"
          }
        }
      ]
    },
    {
      "cell_type": "code",
      "metadata": {
        "id": "1uuwCzv6pdYL",
        "colab": {
          "base_uri": "https://localhost:8080/",
          "height": 384
        },
        "outputId": "09258d14-34bd-4fc2-ac2d-fe8e2d90515d"
      },
      "source": [
        "df.head()"
      ],
      "execution_count": null,
      "outputs": [
        {
          "output_type": "execute_result",
          "data": {
            "text/html": [
              "<div>\n",
              "<style scoped>\n",
              "    .dataframe tbody tr th:only-of-type {\n",
              "        vertical-align: middle;\n",
              "    }\n",
              "\n",
              "    .dataframe tbody tr th {\n",
              "        vertical-align: top;\n",
              "    }\n",
              "\n",
              "    .dataframe thead th {\n",
              "        text-align: right;\n",
              "    }\n",
              "</style>\n",
              "<table border=\"1\" class=\"dataframe\">\n",
              "  <thead>\n",
              "    <tr style=\"text-align: right;\">\n",
              "      <th></th>\n",
              "      <th>AN_BASE</th>\n",
              "      <th>NM_GRANDE_AREA_CONHECIMENTO</th>\n",
              "      <th>NM_AREA_CONHECIMENTO</th>\n",
              "      <th>NM_SUBAREA_CONHECIMENTO</th>\n",
              "      <th>NM_ESPECIALIDADE</th>\n",
              "      <th>CD_AREA_AVALIACAO</th>\n",
              "      <th>NM_AREA_AVALIACAO</th>\n",
              "      <th>CD_ENTIDADE_CAPES</th>\n",
              "      <th>CD_ENTIDADE_EMEC</th>\n",
              "      <th>SG_ENTIDADE_ENSINO</th>\n",
              "      <th>NM_ENTIDADE_ENSINO</th>\n",
              "      <th>CS_STATUS_JURIDICO</th>\n",
              "      <th>DS_DEPENDENCIA_ADMINISTRATIVA</th>\n",
              "      <th>DS_ORGANIZACAO_ACADEMICA</th>\n",
              "      <th>NM_REGIAO</th>\n",
              "      <th>SG_UF_PROGRAMA</th>\n",
              "      <th>NM_MUNICIPIO_PROGRAMA_IES</th>\n",
              "      <th>CD_PROGRAMA_IES</th>\n",
              "      <th>NM_PROGRAMA_IES</th>\n",
              "      <th>CD_CURSO_PPG</th>\n",
              "      <th>NM_CURSO</th>\n",
              "      <th>NM_GRAU_CURSO</th>\n",
              "      <th>CD_CONCEITO_CURSO</th>\n",
              "      <th>AN_INICIO_PREVISTO</th>\n",
              "      <th>DS_SITUACAO_CURSO</th>\n",
              "      <th>DT_SITUACAO_CURSO</th>\n",
              "      <th>ID_ADD_FOTO_PROGRAMA_IES</th>\n",
              "      <th>ID_ADD_FOTO_PROGRAMA</th>\n",
              "    </tr>\n",
              "  </thead>\n",
              "  <tbody>\n",
              "    <tr>\n",
              "      <th>0</th>\n",
              "      <td>2013</td>\n",
              "      <td>CIÊNCIAS AGRÁRIAS</td>\n",
              "      <td>AGRONOMIA</td>\n",
              "      <td>NÃO SE APLICA</td>\n",
              "      <td>NÃO SE APLICA</td>\n",
              "      <td>42</td>\n",
              "      <td>CIÊNCIAS AGRÁRIAS I</td>\n",
              "      <td>41002016</td>\n",
              "      <td>43</td>\n",
              "      <td>UDESC</td>\n",
              "      <td>UNIVERSIDADE DO ESTADO DE SANTA CATARINA</td>\n",
              "      <td>ESTADUAL</td>\n",
              "      <td>PÚBLICA</td>\n",
              "      <td>NÃO INFORMADO</td>\n",
              "      <td>SUL</td>\n",
              "      <td>SC</td>\n",
              "      <td>LAGES</td>\n",
              "      <td>41002016003P1</td>\n",
              "      <td>CIENCIA DO SOLO</td>\n",
              "      <td>41002016003D2</td>\n",
              "      <td>CIENCIA DO SOLO</td>\n",
              "      <td>DOUTORADO</td>\n",
              "      <td>5</td>\n",
              "      <td>2008</td>\n",
              "      <td>EM FUNCIONAMENTO</td>\n",
              "      <td>28FEB2014:00:00:00</td>\n",
              "      <td>113412</td>\n",
              "      <td>50194</td>\n",
              "    </tr>\n",
              "    <tr>\n",
              "      <th>1</th>\n",
              "      <td>2013</td>\n",
              "      <td>CIÊNCIAS DA SAÚDE</td>\n",
              "      <td>SAÚDE COLETIVA</td>\n",
              "      <td>NÃO SE APLICA</td>\n",
              "      <td>NÃO SE APLICA</td>\n",
              "      <td>22</td>\n",
              "      <td>SAÚDE COLETIVA</td>\n",
              "      <td>32005016</td>\n",
              "      <td>576</td>\n",
              "      <td>UFJF</td>\n",
              "      <td>UNIVERSIDADE FEDERAL DE JUIZ DE FORA</td>\n",
              "      <td>FEDERAL</td>\n",
              "      <td>PÚBLICA</td>\n",
              "      <td>NÃO INFORMADO</td>\n",
              "      <td>SUDESTE</td>\n",
              "      <td>MG</td>\n",
              "      <td>JUIZ DE FORA</td>\n",
              "      <td>32005016021P3</td>\n",
              "      <td>SAÚDE COLETIVA</td>\n",
              "      <td>32005016021M3</td>\n",
              "      <td>SAÚDE COLETIVA</td>\n",
              "      <td>MESTRADO</td>\n",
              "      <td>4</td>\n",
              "      <td>2007</td>\n",
              "      <td>EM FUNCIONAMENTO</td>\n",
              "      <td>18SEP2012:00:00:00</td>\n",
              "      <td>112193</td>\n",
              "      <td>49128</td>\n",
              "    </tr>\n",
              "    <tr>\n",
              "      <th>2</th>\n",
              "      <td>2013</td>\n",
              "      <td>CIÊNCIAS DA SAÚDE</td>\n",
              "      <td>EDUCAÇÃO FÍSICA</td>\n",
              "      <td>NÃO SE APLICA</td>\n",
              "      <td>NÃO SE APLICA</td>\n",
              "      <td>21</td>\n",
              "      <td>EDUCAÇÃO FÍSICA</td>\n",
              "      <td>33072019</td>\n",
              "      <td>203</td>\n",
              "      <td>USJT</td>\n",
              "      <td>UNIVERSIDADE SÃO JUDAS TADEU</td>\n",
              "      <td>PARTICULAR</td>\n",
              "      <td>PRIVADA</td>\n",
              "      <td>UNIVERSIDADE</td>\n",
              "      <td>SUDESTE</td>\n",
              "      <td>SP</td>\n",
              "      <td>SÃO PAULO</td>\n",
              "      <td>33072019002P5</td>\n",
              "      <td>EDUCAÇÃO FÍSICA</td>\n",
              "      <td>33072019002D6</td>\n",
              "      <td>EDUCAÇÃO FÍSICA</td>\n",
              "      <td>DOUTORADO</td>\n",
              "      <td>3</td>\n",
              "      <td>2010</td>\n",
              "      <td>EM FUNCIONAMENTO</td>\n",
              "      <td>11MAR2011:00:00:00</td>\n",
              "      <td>112743</td>\n",
              "      <td>49561</td>\n",
              "    </tr>\n",
              "    <tr>\n",
              "      <th>3</th>\n",
              "      <td>2013</td>\n",
              "      <td>CIÊNCIAS SOCIAIS APLICADAS</td>\n",
              "      <td>DIREITO</td>\n",
              "      <td>TEORIA DO DIREITO</td>\n",
              "      <td>NÃO SE APLICA</td>\n",
              "      <td>26</td>\n",
              "      <td>DIREITO</td>\n",
              "      <td>31005012</td>\n",
              "      <td>528</td>\n",
              "      <td>PUC-RIO</td>\n",
              "      <td>PONTIFÍCIA UNIVERSIDADE CATÓLICA DO RIO DE JAN...</td>\n",
              "      <td>PARTICULAR</td>\n",
              "      <td>PRIVADA</td>\n",
              "      <td>UNIVERSIDADE</td>\n",
              "      <td>SUDESTE</td>\n",
              "      <td>RJ</td>\n",
              "      <td>RIO DE JANEIRO</td>\n",
              "      <td>31005012020P4</td>\n",
              "      <td>DIREITO</td>\n",
              "      <td>31005012020M4</td>\n",
              "      <td>DIREITO</td>\n",
              "      <td>MESTRADO</td>\n",
              "      <td>4</td>\n",
              "      <td>1972</td>\n",
              "      <td>EM FUNCIONAMENTO</td>\n",
              "      <td>18SEP2012:00:00:00</td>\n",
              "      <td>112124</td>\n",
              "      <td>49039</td>\n",
              "    </tr>\n",
              "    <tr>\n",
              "      <th>4</th>\n",
              "      <td>2013</td>\n",
              "      <td>CIÊNCIAS DA SAÚDE</td>\n",
              "      <td>MEDICINA</td>\n",
              "      <td>CLÍNICA MÉDICA</td>\n",
              "      <td>CANCEROLOGIA</td>\n",
              "      <td>15</td>\n",
              "      <td>MEDICINA I</td>\n",
              "      <td>31061010</td>\n",
              "      <td>NI</td>\n",
              "      <td>INCA</td>\n",
              "      <td>INSTITUTO NACIONAL DE CÂNCER</td>\n",
              "      <td>FEDERAL</td>\n",
              "      <td>PÚBLICA</td>\n",
              "      <td>NÃO INFORMADO</td>\n",
              "      <td>SUDESTE</td>\n",
              "      <td>RJ</td>\n",
              "      <td>RIO DE JANEIRO</td>\n",
              "      <td>31061010001P9</td>\n",
              "      <td>ONCOLOGIA</td>\n",
              "      <td>31061010001M9</td>\n",
              "      <td>ONCOLOGIA</td>\n",
              "      <td>MESTRADO</td>\n",
              "      <td>6</td>\n",
              "      <td>2005</td>\n",
              "      <td>EM FUNCIONAMENTO</td>\n",
              "      <td>18SEP2012:00:00:00</td>\n",
              "      <td>113692</td>\n",
              "      <td>50473</td>\n",
              "    </tr>\n",
              "  </tbody>\n",
              "</table>\n",
              "</div>"
            ],
            "text/plain": [
              "   AN_BASE  ... ID_ADD_FOTO_PROGRAMA\n",
              "0     2013  ...                50194\n",
              "1     2013  ...                49128\n",
              "2     2013  ...                49561\n",
              "3     2013  ...                49039\n",
              "4     2013  ...                50473\n",
              "\n",
              "[5 rows x 28 columns]"
            ]
          },
          "metadata": {
            "tags": []
          },
          "execution_count": 120
        }
      ]
    },
    {
      "cell_type": "code",
      "metadata": {
        "colab": {
          "base_uri": "https://localhost:8080/"
        },
        "id": "Z7rKdE1LpuCq",
        "outputId": "ef726f78-5404-4b76-def3-637e02f91fad"
      },
      "source": [
        "df.info()"
      ],
      "execution_count": null,
      "outputs": [
        {
          "output_type": "stream",
          "text": [
            "<class 'pandas.core.frame.DataFrame'>\n",
            "RangeIndex: 43988 entries, 0 to 43987\n",
            "Data columns (total 28 columns):\n",
            " #   Column                         Non-Null Count  Dtype \n",
            "---  ------                         --------------  ----- \n",
            " 0   AN_BASE                        43988 non-null  int64 \n",
            " 1   NM_GRANDE_AREA_CONHECIMENTO    43988 non-null  object\n",
            " 2   NM_AREA_CONHECIMENTO           43988 non-null  object\n",
            " 3   NM_SUBAREA_CONHECIMENTO        43988 non-null  object\n",
            " 4   NM_ESPECIALIDADE               43988 non-null  object\n",
            " 5   CD_AREA_AVALIACAO              43988 non-null  int64 \n",
            " 6   NM_AREA_AVALIACAO              43988 non-null  object\n",
            " 7   CD_ENTIDADE_CAPES              43988 non-null  int64 \n",
            " 8   CD_ENTIDADE_EMEC               43988 non-null  object\n",
            " 9   SG_ENTIDADE_ENSINO             43988 non-null  object\n",
            " 10  NM_ENTIDADE_ENSINO             43988 non-null  object\n",
            " 11  CS_STATUS_JURIDICO             43988 non-null  object\n",
            " 12  DS_DEPENDENCIA_ADMINISTRATIVA  43988 non-null  object\n",
            " 13  DS_ORGANIZACAO_ACADEMICA       43988 non-null  object\n",
            " 14  NM_REGIAO                      43988 non-null  object\n",
            " 15  SG_UF_PROGRAMA                 43988 non-null  object\n",
            " 16  NM_MUNICIPIO_PROGRAMA_IES      43988 non-null  object\n",
            " 17  CD_PROGRAMA_IES                43988 non-null  object\n",
            " 18  NM_PROGRAMA_IES                43988 non-null  object\n",
            " 19  CD_CURSO_PPG                   43988 non-null  object\n",
            " 20  NM_CURSO                       43988 non-null  object\n",
            " 21  NM_GRAU_CURSO                  43988 non-null  object\n",
            " 22  CD_CONCEITO_CURSO              43988 non-null  object\n",
            " 23  AN_INICIO_PREVISTO             43988 non-null  int64 \n",
            " 24  DS_SITUACAO_CURSO              43988 non-null  object\n",
            " 25  DT_SITUACAO_CURSO              43988 non-null  object\n",
            " 26  ID_ADD_FOTO_PROGRAMA_IES       43988 non-null  int64 \n",
            " 27  ID_ADD_FOTO_PROGRAMA           43988 non-null  int64 \n",
            "dtypes: int64(6), object(22)\n",
            "memory usage: 9.4+ MB\n"
          ],
          "name": "stdout"
        }
      ]
    },
    {
      "cell_type": "code",
      "metadata": {
        "colab": {
          "base_uri": "https://localhost:8080/"
        },
        "id": "WiVt45CmUNa1",
        "outputId": "3cfc2730-7264-40ae-c5bb-7d61160d5193"
      },
      "source": [
        "df['DS_SITUACAO_CURSO'].unique()"
      ],
      "execution_count": null,
      "outputs": [
        {
          "output_type": "execute_result",
          "data": {
            "text/plain": [
              "array(['EM FUNCIONAMENTO', 'EM PROJETO', 'EM DESATIVACAO'], dtype=object)"
            ]
          },
          "metadata": {
            "tags": []
          },
          "execution_count": 122
        }
      ]
    },
    {
      "cell_type": "code",
      "metadata": {
        "colab": {
          "base_uri": "https://localhost:8080/",
          "height": 197
        },
        "id": "HZPQBDZApwjr",
        "outputId": "948c60e1-065c-47a8-9eaf-d19e2d21d76e"
      },
      "source": [
        "df = df.drop(columns=['NM_AREA_CONHECIMENTO', 'NM_SUBAREA_CONHECIMENTO','NM_ESPECIALIDADE','CD_ENTIDADE_CAPES', 'CD_ENTIDADE_EMEC', 'SG_ENTIDADE_ENSINO', 'NM_ENTIDADE_ENSINO', 'CS_STATUS_JURIDICO', 'DS_DEPENDENCIA_ADMINISTRATIVA','DS_ORGANIZACAO_ACADEMICA', 'NM_REGIAO', 'SG_UF_PROGRAMA', 'NM_MUNICIPIO_PROGRAMA_IES', 'ID_ADD_FOTO_PROGRAMA_IES', 'ID_ADD_FOTO_PROGRAMA'])\n",
        "df.head()\n",
        "\n",
        "#chaves com docentes: CD_area_avaliacao , CD_programa_IES"
      ],
      "execution_count": null,
      "outputs": [
        {
          "output_type": "execute_result",
          "data": {
            "text/html": [
              "<div>\n",
              "<style scoped>\n",
              "    .dataframe tbody tr th:only-of-type {\n",
              "        vertical-align: middle;\n",
              "    }\n",
              "\n",
              "    .dataframe tbody tr th {\n",
              "        vertical-align: top;\n",
              "    }\n",
              "\n",
              "    .dataframe thead th {\n",
              "        text-align: right;\n",
              "    }\n",
              "</style>\n",
              "<table border=\"1\" class=\"dataframe\">\n",
              "  <thead>\n",
              "    <tr style=\"text-align: right;\">\n",
              "      <th></th>\n",
              "      <th>AN_BASE</th>\n",
              "      <th>NM_GRANDE_AREA_CONHECIMENTO</th>\n",
              "      <th>CD_AREA_AVALIACAO</th>\n",
              "      <th>NM_AREA_AVALIACAO</th>\n",
              "      <th>CD_PROGRAMA_IES</th>\n",
              "      <th>NM_PROGRAMA_IES</th>\n",
              "      <th>CD_CURSO_PPG</th>\n",
              "      <th>NM_CURSO</th>\n",
              "      <th>NM_GRAU_CURSO</th>\n",
              "      <th>CD_CONCEITO_CURSO</th>\n",
              "      <th>AN_INICIO_PREVISTO</th>\n",
              "      <th>DS_SITUACAO_CURSO</th>\n",
              "      <th>DT_SITUACAO_CURSO</th>\n",
              "    </tr>\n",
              "  </thead>\n",
              "  <tbody>\n",
              "    <tr>\n",
              "      <th>0</th>\n",
              "      <td>2013</td>\n",
              "      <td>CIÊNCIAS AGRÁRIAS</td>\n",
              "      <td>42</td>\n",
              "      <td>CIÊNCIAS AGRÁRIAS I</td>\n",
              "      <td>41002016003P1</td>\n",
              "      <td>CIENCIA DO SOLO</td>\n",
              "      <td>41002016003D2</td>\n",
              "      <td>CIENCIA DO SOLO</td>\n",
              "      <td>DOUTORADO</td>\n",
              "      <td>5</td>\n",
              "      <td>2008</td>\n",
              "      <td>EM FUNCIONAMENTO</td>\n",
              "      <td>28FEB2014:00:00:00</td>\n",
              "    </tr>\n",
              "    <tr>\n",
              "      <th>1</th>\n",
              "      <td>2013</td>\n",
              "      <td>CIÊNCIAS DA SAÚDE</td>\n",
              "      <td>22</td>\n",
              "      <td>SAÚDE COLETIVA</td>\n",
              "      <td>32005016021P3</td>\n",
              "      <td>SAÚDE COLETIVA</td>\n",
              "      <td>32005016021M3</td>\n",
              "      <td>SAÚDE COLETIVA</td>\n",
              "      <td>MESTRADO</td>\n",
              "      <td>4</td>\n",
              "      <td>2007</td>\n",
              "      <td>EM FUNCIONAMENTO</td>\n",
              "      <td>18SEP2012:00:00:00</td>\n",
              "    </tr>\n",
              "    <tr>\n",
              "      <th>2</th>\n",
              "      <td>2013</td>\n",
              "      <td>CIÊNCIAS DA SAÚDE</td>\n",
              "      <td>21</td>\n",
              "      <td>EDUCAÇÃO FÍSICA</td>\n",
              "      <td>33072019002P5</td>\n",
              "      <td>EDUCAÇÃO FÍSICA</td>\n",
              "      <td>33072019002D6</td>\n",
              "      <td>EDUCAÇÃO FÍSICA</td>\n",
              "      <td>DOUTORADO</td>\n",
              "      <td>3</td>\n",
              "      <td>2010</td>\n",
              "      <td>EM FUNCIONAMENTO</td>\n",
              "      <td>11MAR2011:00:00:00</td>\n",
              "    </tr>\n",
              "    <tr>\n",
              "      <th>3</th>\n",
              "      <td>2013</td>\n",
              "      <td>CIÊNCIAS SOCIAIS APLICADAS</td>\n",
              "      <td>26</td>\n",
              "      <td>DIREITO</td>\n",
              "      <td>31005012020P4</td>\n",
              "      <td>DIREITO</td>\n",
              "      <td>31005012020M4</td>\n",
              "      <td>DIREITO</td>\n",
              "      <td>MESTRADO</td>\n",
              "      <td>4</td>\n",
              "      <td>1972</td>\n",
              "      <td>EM FUNCIONAMENTO</td>\n",
              "      <td>18SEP2012:00:00:00</td>\n",
              "    </tr>\n",
              "    <tr>\n",
              "      <th>4</th>\n",
              "      <td>2013</td>\n",
              "      <td>CIÊNCIAS DA SAÚDE</td>\n",
              "      <td>15</td>\n",
              "      <td>MEDICINA I</td>\n",
              "      <td>31061010001P9</td>\n",
              "      <td>ONCOLOGIA</td>\n",
              "      <td>31061010001M9</td>\n",
              "      <td>ONCOLOGIA</td>\n",
              "      <td>MESTRADO</td>\n",
              "      <td>6</td>\n",
              "      <td>2005</td>\n",
              "      <td>EM FUNCIONAMENTO</td>\n",
              "      <td>18SEP2012:00:00:00</td>\n",
              "    </tr>\n",
              "  </tbody>\n",
              "</table>\n",
              "</div>"
            ],
            "text/plain": [
              "   AN_BASE NM_GRANDE_AREA_CONHECIMENTO  ...  DS_SITUACAO_CURSO   DT_SITUACAO_CURSO\n",
              "0     2013           CIÊNCIAS AGRÁRIAS  ...   EM FUNCIONAMENTO  28FEB2014:00:00:00\n",
              "1     2013           CIÊNCIAS DA SAÚDE  ...   EM FUNCIONAMENTO  18SEP2012:00:00:00\n",
              "2     2013           CIÊNCIAS DA SAÚDE  ...   EM FUNCIONAMENTO  11MAR2011:00:00:00\n",
              "3     2013  CIÊNCIAS SOCIAIS APLICADAS  ...   EM FUNCIONAMENTO  18SEP2012:00:00:00\n",
              "4     2013           CIÊNCIAS DA SAÚDE  ...   EM FUNCIONAMENTO  18SEP2012:00:00:00\n",
              "\n",
              "[5 rows x 13 columns]"
            ]
          },
          "metadata": {
            "tags": []
          },
          "execution_count": 123
        }
      ]
    },
    {
      "cell_type": "code",
      "metadata": {
        "id": "8-v8MkvDHQY0"
      },
      "source": [
        "x = df['CD_CURSO_PPG'].count()"
      ],
      "execution_count": null,
      "outputs": []
    },
    {
      "cell_type": "code",
      "metadata": {
        "colab": {
          "base_uri": "https://localhost:8080/"
        },
        "id": "oAmXUSmEIOUb",
        "outputId": "0be94572-d639-49e4-d90b-d2463dae7ea2"
      },
      "source": [
        "print(x)"
      ],
      "execution_count": null,
      "outputs": [
        {
          "output_type": "stream",
          "text": [
            "43988\n"
          ],
          "name": "stdout"
        }
      ]
    },
    {
      "cell_type": "code",
      "metadata": {
        "colab": {
          "base_uri": "https://localhost:8080/"
        },
        "id": "TKxyJLgPr_iV",
        "outputId": "c0bb8e4e-7799-4d02-cf3f-fde5bce42782"
      },
      "source": [
        "# Tratar dados para eventualmente termos uma media de conceitos de curso por programa\n",
        "\n",
        "df['CD_CONCEITO_CURSO'].unique()"
      ],
      "execution_count": null,
      "outputs": [
        {
          "output_type": "execute_result",
          "data": {
            "text/plain": [
              "array([5, 4, 3, 6, 7, -1, 2, 1, '7', '4', '3', '5', '6', '2', '1', 'A'],\n",
              "      dtype=object)"
            ]
          },
          "metadata": {
            "tags": []
          },
          "execution_count": 80
        }
      ]
    },
    {
      "cell_type": "code",
      "metadata": {
        "colab": {
          "base_uri": "https://localhost:8080/"
        },
        "id": "KRf-f_Rczndh",
        "outputId": "26103a5d-d3ae-4ad8-9d16-77a666b772ce"
      },
      "source": [
        "df1 = df[df['CD_CONCEITO_CURSO'] != 'A']\n",
        "df1.info()"
      ],
      "execution_count": null,
      "outputs": [
        {
          "output_type": "stream",
          "text": [
            "<class 'pandas.core.frame.DataFrame'>\n",
            "Int64Index: 43715 entries, 0 to 43987\n",
            "Data columns (total 13 columns):\n",
            " #   Column                       Non-Null Count  Dtype \n",
            "---  ------                       --------------  ----- \n",
            " 0   AN_BASE                      43715 non-null  int64 \n",
            " 1   NM_GRANDE_AREA_CONHECIMENTO  43715 non-null  object\n",
            " 2   CD_AREA_AVALIACAO            43715 non-null  int64 \n",
            " 3   NM_AREA_AVALIACAO            43715 non-null  object\n",
            " 4   CD_PROGRAMA_IES              43715 non-null  object\n",
            " 5   NM_PROGRAMA_IES              43715 non-null  object\n",
            " 6   CD_CURSO_PPG                 43715 non-null  object\n",
            " 7   NM_CURSO                     43715 non-null  object\n",
            " 8   NM_GRAU_CURSO                43715 non-null  object\n",
            " 9   CD_CONCEITO_CURSO            43715 non-null  object\n",
            " 10  AN_INICIO_PREVISTO           43715 non-null  int64 \n",
            " 11  DS_SITUACAO_CURSO            43715 non-null  object\n",
            " 12  DT_SITUACAO_CURSO            43715 non-null  object\n",
            "dtypes: int64(3), object(10)\n",
            "memory usage: 4.7+ MB\n"
          ],
          "name": "stdout"
        }
      ]
    },
    {
      "cell_type": "code",
      "metadata": {
        "colab": {
          "base_uri": "https://localhost:8080/"
        },
        "id": "Q3oig9u_z4JA",
        "outputId": "443ae61e-92d6-49a4-bc88-2ba35fd3725a"
      },
      "source": [
        "df1['CD_CONCEITO_CURSO'].unique()"
      ],
      "execution_count": null,
      "outputs": [
        {
          "output_type": "execute_result",
          "data": {
            "text/plain": [
              "array([5, 4, 3, 6, 7, -1, 2, 1, '7', '4', '3', '5', '6', '2', '1'],\n",
              "      dtype=object)"
            ]
          },
          "metadata": {
            "tags": []
          },
          "execution_count": 82
        }
      ]
    },
    {
      "cell_type": "code",
      "metadata": {
        "colab": {
          "base_uri": "https://localhost:8080/"
        },
        "id": "MAfX4kFJz8Le",
        "outputId": "d2fd7ec0-2b23-4f0a-91ac-8464ee8bcf60"
      },
      "source": [
        "df1.CD_CONCEITO_CURSO = df1.CD_CONCEITO_CURSO.astype('int64')"
      ],
      "execution_count": null,
      "outputs": [
        {
          "output_type": "stream",
          "text": [
            "/usr/local/lib/python3.7/dist-packages/pandas/core/generic.py:5170: SettingWithCopyWarning: \n",
            "A value is trying to be set on a copy of a slice from a DataFrame.\n",
            "Try using .loc[row_indexer,col_indexer] = value instead\n",
            "\n",
            "See the caveats in the documentation: https://pandas.pydata.org/pandas-docs/stable/user_guide/indexing.html#returning-a-view-versus-a-copy\n",
            "  self[name] = value\n"
          ],
          "name": "stderr"
        }
      ]
    },
    {
      "cell_type": "code",
      "metadata": {
        "colab": {
          "base_uri": "https://localhost:8080/"
        },
        "id": "osd7DM1Z0MTF",
        "outputId": "ff32af68-338e-4ed9-fe50-b77ba15ada54"
      },
      "source": [
        "df1['CD_CONCEITO_CURSO'].unique()"
      ],
      "execution_count": null,
      "outputs": [
        {
          "output_type": "execute_result",
          "data": {
            "text/plain": [
              "array([ 5,  4,  3,  6,  7, -1,  2,  1])"
            ]
          },
          "metadata": {
            "tags": []
          },
          "execution_count": 84
        }
      ]
    },
    {
      "cell_type": "code",
      "metadata": {
        "colab": {
          "base_uri": "https://localhost:8080/"
        },
        "id": "sfI6VZD20T-c",
        "outputId": "4b641ff8-405e-411f-e2e9-d738d4f51e90"
      },
      "source": [
        "df1 = df1[df1['CD_CONCEITO_CURSO'] != -1]\n",
        "df1.info()"
      ],
      "execution_count": null,
      "outputs": [
        {
          "output_type": "stream",
          "text": [
            "<class 'pandas.core.frame.DataFrame'>\n",
            "Int64Index: 43646 entries, 0 to 43987\n",
            "Data columns (total 13 columns):\n",
            " #   Column                       Non-Null Count  Dtype \n",
            "---  ------                       --------------  ----- \n",
            " 0   AN_BASE                      43646 non-null  int64 \n",
            " 1   NM_GRANDE_AREA_CONHECIMENTO  43646 non-null  object\n",
            " 2   CD_AREA_AVALIACAO            43646 non-null  int64 \n",
            " 3   NM_AREA_AVALIACAO            43646 non-null  object\n",
            " 4   CD_PROGRAMA_IES              43646 non-null  object\n",
            " 5   NM_PROGRAMA_IES              43646 non-null  object\n",
            " 6   CD_CURSO_PPG                 43646 non-null  object\n",
            " 7   NM_CURSO                     43646 non-null  object\n",
            " 8   NM_GRAU_CURSO                43646 non-null  object\n",
            " 9   CD_CONCEITO_CURSO            43646 non-null  int64 \n",
            " 10  AN_INICIO_PREVISTO           43646 non-null  int64 \n",
            " 11  DS_SITUACAO_CURSO            43646 non-null  object\n",
            " 12  DT_SITUACAO_CURSO            43646 non-null  object\n",
            "dtypes: int64(4), object(9)\n",
            "memory usage: 4.7+ MB\n"
          ],
          "name": "stdout"
        }
      ]
    },
    {
      "cell_type": "code",
      "metadata": {
        "colab": {
          "base_uri": "https://localhost:8080/"
        },
        "id": "sxzjOfXi0dYq",
        "outputId": "a18ce5f1-a162-4901-f58d-69244bf88e63"
      },
      "source": [
        "df1['CD_CONCEITO_CURSO'].unique()"
      ],
      "execution_count": null,
      "outputs": [
        {
          "output_type": "execute_result",
          "data": {
            "text/plain": [
              "array([5, 4, 3, 6, 7, 2, 1])"
            ]
          },
          "metadata": {
            "tags": []
          },
          "execution_count": 86
        }
      ]
    },
    {
      "cell_type": "code",
      "metadata": {
        "colab": {
          "base_uri": "https://localhost:8080/"
        },
        "id": "Lqxzuz7JEiRs",
        "outputId": "392e4db2-91c5-4f6c-ee9f-8ca51a0d2924"
      },
      "source": [
        "df1['CD_CURSO_PPG'].unique()"
      ],
      "execution_count": null,
      "outputs": [
        {
          "output_type": "execute_result",
          "data": {
            "text/plain": [
              "array(['41002016003D2', '32005016021M3', '33072019002D6', ...,\n",
              "       '33052018007D4', '33076014001M4', '33052018007M3'], dtype=object)"
            ]
          },
          "metadata": {
            "tags": []
          },
          "execution_count": 87
        }
      ]
    },
    {
      "cell_type": "code",
      "metadata": {
        "id": "5aDrM7uEsUY7"
      },
      "source": [
        "#utilizei o 'nunique' para contar valor distintos em codigo de curso - alternativa mais lenta pd.Series.nunique\n",
        "\n",
        "df2 = df1.groupby(['CD_PROGRAMA_IES','AN_BASE'],as_index=False).agg({'CD_AREA_AVALIACAO': np.mean, 'CD_CURSO_PPG': \"nunique\", 'CD_CONCEITO_CURSO': np.mean})\n"
      ],
      "execution_count": null,
      "outputs": []
    },
    {
      "cell_type": "code",
      "metadata": {
        "colab": {
          "base_uri": "https://localhost:8080/",
          "height": 406
        },
        "id": "Kem8-K7Ct0rb",
        "outputId": "914ed4e8-ffcb-418a-ed16-37120ab11fe0"
      },
      "source": [
        "# Duvida: está retornando realmente a quantidade de cursos unicos por programa ano?\n",
        "# média de conceito-curso por programa-ano\n",
        "\n",
        "df2.head(100)"
      ],
      "execution_count": null,
      "outputs": [
        {
          "output_type": "execute_result",
          "data": {
            "text/html": [
              "<div>\n",
              "<style scoped>\n",
              "    .dataframe tbody tr th:only-of-type {\n",
              "        vertical-align: middle;\n",
              "    }\n",
              "\n",
              "    .dataframe tbody tr th {\n",
              "        vertical-align: top;\n",
              "    }\n",
              "\n",
              "    .dataframe thead th {\n",
              "        text-align: right;\n",
              "    }\n",
              "</style>\n",
              "<table border=\"1\" class=\"dataframe\">\n",
              "  <thead>\n",
              "    <tr style=\"text-align: right;\">\n",
              "      <th></th>\n",
              "      <th>CD_PROGRAMA_IES</th>\n",
              "      <th>AN_BASE</th>\n",
              "      <th>CD_AREA_AVALIACAO</th>\n",
              "      <th>CD_CURSO_PPG</th>\n",
              "      <th>CD_CONCEITO_CURSO</th>\n",
              "    </tr>\n",
              "  </thead>\n",
              "  <tbody>\n",
              "    <tr>\n",
              "      <th>0</th>\n",
              "      <td>10001018002P1</td>\n",
              "      <td>2013</td>\n",
              "      <td>9</td>\n",
              "      <td>2</td>\n",
              "      <td>3.0</td>\n",
              "    </tr>\n",
              "    <tr>\n",
              "      <th>1</th>\n",
              "      <td>10001018002P1</td>\n",
              "      <td>2014</td>\n",
              "      <td>9</td>\n",
              "      <td>2</td>\n",
              "      <td>3.0</td>\n",
              "    </tr>\n",
              "    <tr>\n",
              "      <th>2</th>\n",
              "      <td>10001018002P1</td>\n",
              "      <td>2015</td>\n",
              "      <td>9</td>\n",
              "      <td>2</td>\n",
              "      <td>3.0</td>\n",
              "    </tr>\n",
              "    <tr>\n",
              "      <th>3</th>\n",
              "      <td>10001018002P1</td>\n",
              "      <td>2016</td>\n",
              "      <td>9</td>\n",
              "      <td>2</td>\n",
              "      <td>3.0</td>\n",
              "    </tr>\n",
              "    <tr>\n",
              "      <th>4</th>\n",
              "      <td>10001018002P1</td>\n",
              "      <td>2017</td>\n",
              "      <td>9</td>\n",
              "      <td>2</td>\n",
              "      <td>4.0</td>\n",
              "    </tr>\n",
              "    <tr>\n",
              "      <th>...</th>\n",
              "      <td>...</td>\n",
              "      <td>...</td>\n",
              "      <td>...</td>\n",
              "      <td>...</td>\n",
              "      <td>...</td>\n",
              "    </tr>\n",
              "    <tr>\n",
              "      <th>95</th>\n",
              "      <td>11001011003P0</td>\n",
              "      <td>2018</td>\n",
              "      <td>41</td>\n",
              "      <td>2</td>\n",
              "      <td>4.0</td>\n",
              "    </tr>\n",
              "    <tr>\n",
              "      <th>96</th>\n",
              "      <td>11001011003P0</td>\n",
              "      <td>2019</td>\n",
              "      <td>41</td>\n",
              "      <td>2</td>\n",
              "      <td>4.0</td>\n",
              "    </tr>\n",
              "    <tr>\n",
              "      <th>97</th>\n",
              "      <td>11001011004P7</td>\n",
              "      <td>2013</td>\n",
              "      <td>42</td>\n",
              "      <td>2</td>\n",
              "      <td>3.5</td>\n",
              "    </tr>\n",
              "    <tr>\n",
              "      <th>98</th>\n",
              "      <td>11001011004P7</td>\n",
              "      <td>2014</td>\n",
              "      <td>42</td>\n",
              "      <td>2</td>\n",
              "      <td>3.5</td>\n",
              "    </tr>\n",
              "    <tr>\n",
              "      <th>99</th>\n",
              "      <td>11001011004P7</td>\n",
              "      <td>2015</td>\n",
              "      <td>42</td>\n",
              "      <td>2</td>\n",
              "      <td>3.5</td>\n",
              "    </tr>\n",
              "  </tbody>\n",
              "</table>\n",
              "<p>100 rows × 5 columns</p>\n",
              "</div>"
            ],
            "text/plain": [
              "   CD_PROGRAMA_IES  AN_BASE  CD_AREA_AVALIACAO  CD_CURSO_PPG  CD_CONCEITO_CURSO\n",
              "0    10001018002P1     2013                  9             2                3.0\n",
              "1    10001018002P1     2014                  9             2                3.0\n",
              "2    10001018002P1     2015                  9             2                3.0\n",
              "3    10001018002P1     2016                  9             2                3.0\n",
              "4    10001018002P1     2017                  9             2                4.0\n",
              "..             ...      ...                ...           ...                ...\n",
              "95   11001011003P0     2018                 41             2                4.0\n",
              "96   11001011003P0     2019                 41             2                4.0\n",
              "97   11001011004P7     2013                 42             2                3.5\n",
              "98   11001011004P7     2014                 42             2                3.5\n",
              "99   11001011004P7     2015                 42             2                3.5\n",
              "\n",
              "[100 rows x 5 columns]"
            ]
          },
          "metadata": {
            "tags": []
          },
          "execution_count": 109
        }
      ]
    },
    {
      "cell_type": "code",
      "metadata": {
        "colab": {
          "base_uri": "https://localhost:8080/"
        },
        "id": "g8WrIWjcHBnf",
        "outputId": "3a69bf00-18bc-45e4-97ce-9fcca7f2b5bf"
      },
      "source": [
        "df2['CD_CURSO_PPG'].unique()"
      ],
      "execution_count": null,
      "outputs": [
        {
          "output_type": "execute_result",
          "data": {
            "text/plain": [
              "array([2, 1])"
            ]
          },
          "metadata": {
            "tags": []
          },
          "execution_count": 110
        }
      ]
    },
    {
      "cell_type": "code",
      "metadata": {
        "colab": {
          "base_uri": "https://localhost:8080/"
        },
        "id": "hXvRFxeiK6xy",
        "outputId": "da8740cb-f5bf-48f5-9074-8a399f0c79d3"
      },
      "source": [
        "df2['CD_AREA_AVALIACAO'].unique()"
      ],
      "execution_count": null,
      "outputs": [
        {
          "output_type": "execute_result",
          "data": {
            "text/plain": [
              "array([ 9, 45, 36, 27, 41, 37, 38, 49, 46,  7, 42, 22, 24, 16,  4, 25,  3,\n",
              "        5, 13,  2, 48,  1, 14, 10, 40, 34, 23, 32, 35, 31, 19, 47, 18, 17,\n",
              "       29,  6, 26, 15, 30, 39, 12,  8, 28, 11, 20, 33, 44, 21, 50])"
            ]
          },
          "metadata": {
            "tags": []
          },
          "execution_count": 111
        }
      ]
    },
    {
      "cell_type": "code",
      "metadata": {
        "id": "V7zgs5trJi8R"
      },
      "source": [
        "df3 = df1.groupby('CD_PROGRAMA_IES',as_index=False).agg({'CD_AREA_AVALIACAO': np.max, 'CD_CURSO_PPG': \"nunique\", 'CD_CONCEITO_CURSO': np.mean})"
      ],
      "execution_count": null,
      "outputs": []
    },
    {
      "cell_type": "code",
      "metadata": {
        "colab": {
          "base_uri": "https://localhost:8080/",
          "height": 406
        },
        "id": "PJnb7e47JxK4",
        "outputId": "7d44f177-253e-4ad4-8c4b-c6b55ccf7960"
      },
      "source": [
        "# média de conceito-curso por programa\n",
        "df3.head(100)"
      ],
      "execution_count": null,
      "outputs": [
        {
          "output_type": "execute_result",
          "data": {
            "text/html": [
              "<div>\n",
              "<style scoped>\n",
              "    .dataframe tbody tr th:only-of-type {\n",
              "        vertical-align: middle;\n",
              "    }\n",
              "\n",
              "    .dataframe tbody tr th {\n",
              "        vertical-align: top;\n",
              "    }\n",
              "\n",
              "    .dataframe thead th {\n",
              "        text-align: right;\n",
              "    }\n",
              "</style>\n",
              "<table border=\"1\" class=\"dataframe\">\n",
              "  <thead>\n",
              "    <tr style=\"text-align: right;\">\n",
              "      <th></th>\n",
              "      <th>CD_PROGRAMA_IES</th>\n",
              "      <th>CD_AREA_AVALIACAO</th>\n",
              "      <th>CD_CURSO_PPG</th>\n",
              "      <th>CD_CONCEITO_CURSO</th>\n",
              "    </tr>\n",
              "  </thead>\n",
              "  <tbody>\n",
              "    <tr>\n",
              "      <th>0</th>\n",
              "      <td>10001018002P1</td>\n",
              "      <td>9</td>\n",
              "      <td>2</td>\n",
              "      <td>3.428571</td>\n",
              "    </tr>\n",
              "    <tr>\n",
              "      <th>1</th>\n",
              "      <td>10001018004P4</td>\n",
              "      <td>45</td>\n",
              "      <td>2</td>\n",
              "      <td>4.000000</td>\n",
              "    </tr>\n",
              "    <tr>\n",
              "      <th>2</th>\n",
              "      <td>10001018005P0</td>\n",
              "      <td>36</td>\n",
              "      <td>2</td>\n",
              "      <td>4.000000</td>\n",
              "    </tr>\n",
              "    <tr>\n",
              "      <th>3</th>\n",
              "      <td>10001018006P7</td>\n",
              "      <td>27</td>\n",
              "      <td>1</td>\n",
              "      <td>3.571429</td>\n",
              "    </tr>\n",
              "    <tr>\n",
              "      <th>4</th>\n",
              "      <td>10001018008P0</td>\n",
              "      <td>41</td>\n",
              "      <td>1</td>\n",
              "      <td>2.000000</td>\n",
              "    </tr>\n",
              "    <tr>\n",
              "      <th>...</th>\n",
              "      <td>...</td>\n",
              "      <td>...</td>\n",
              "      <td>...</td>\n",
              "      <td>...</td>\n",
              "    </tr>\n",
              "    <tr>\n",
              "      <th>95</th>\n",
              "      <td>13001019007P1</td>\n",
              "      <td>45</td>\n",
              "      <td>1</td>\n",
              "      <td>3.000000</td>\n",
              "    </tr>\n",
              "    <tr>\n",
              "      <th>96</th>\n",
              "      <td>13001019008P8</td>\n",
              "      <td>45</td>\n",
              "      <td>1</td>\n",
              "      <td>3.000000</td>\n",
              "    </tr>\n",
              "    <tr>\n",
              "      <th>97</th>\n",
              "      <td>13001019009P4</td>\n",
              "      <td>30</td>\n",
              "      <td>1</td>\n",
              "      <td>3.000000</td>\n",
              "    </tr>\n",
              "    <tr>\n",
              "      <th>98</th>\n",
              "      <td>13001019039P0</td>\n",
              "      <td>35</td>\n",
              "      <td>1</td>\n",
              "      <td>3.000000</td>\n",
              "    </tr>\n",
              "    <tr>\n",
              "      <th>99</th>\n",
              "      <td>13003011001P6</td>\n",
              "      <td>46</td>\n",
              "      <td>1</td>\n",
              "      <td>3.428571</td>\n",
              "    </tr>\n",
              "  </tbody>\n",
              "</table>\n",
              "<p>100 rows × 4 columns</p>\n",
              "</div>"
            ],
            "text/plain": [
              "   CD_PROGRAMA_IES  CD_AREA_AVALIACAO  CD_CURSO_PPG  CD_CONCEITO_CURSO\n",
              "0    10001018002P1                  9             2           3.428571\n",
              "1    10001018004P4                 45             2           4.000000\n",
              "2    10001018005P0                 36             2           4.000000\n",
              "3    10001018006P7                 27             1           3.571429\n",
              "4    10001018008P0                 41             1           2.000000\n",
              "..             ...                ...           ...                ...\n",
              "95   13001019007P1                 45             1           3.000000\n",
              "96   13001019008P8                 45             1           3.000000\n",
              "97   13001019009P4                 30             1           3.000000\n",
              "98   13001019039P0                 35             1           3.000000\n",
              "99   13003011001P6                 46             1           3.428571\n",
              "\n",
              "[100 rows x 4 columns]"
            ]
          },
          "metadata": {
            "tags": []
          },
          "execution_count": 113
        }
      ]
    },
    {
      "cell_type": "markdown",
      "metadata": {
        "id": "eW2vgWleuueJ"
      },
      "source": [
        "To-do: \n",
        "\n",
        "1.   Fazer a analise exploratoria da base de **cursos**\n",
        "\n",
        "Done:\n",
        "\n",
        "1.   Quantidade de cursos por programa-ano - ok\n",
        "2.   Media de conceito dos cursos por programa-ano - ok\n",
        "3.   Agregar conceito-curso por programa-ano & qtde de cursos/programa-ano em docentes - ok\n",
        "\n",
        "Dúvida:\n",
        "\n",
        "\n",
        "> Devo fazer uma feature de DS_SITUACAO_CURSO ?\n",
        "\n",
        "\n",
        "\n",
        "\n",
        "Considerações:\n",
        "\n",
        "Extraímos desta base informações quantitativas pois algumas informações ou são muito específicas a nivel de curso ou já teremos na base de programas.\n"
      ]
    },
    {
      "cell_type": "code",
      "metadata": {
        "id": "aHy0szA3NKc6"
      },
      "source": [
        "df2.to_csv(r'/content/drive/My Drive/bases_capes_cursos/cursos_features.csv', index=False)"
      ],
      "execution_count": null,
      "outputs": []
    }
  ]
}