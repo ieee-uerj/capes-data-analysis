{
 "cells": [
  {
   "cell_type": "code",
   "execution_count": 1,
   "id": "billion-technique",
   "metadata": {},
   "outputs": [],
   "source": [
    "import pandas as pd\n",
    "import numpy as np\n",
    "import seaborn as sns\n",
    "import matplotlib.pyplot as plt"
   ]
  },
  {
   "cell_type": "code",
   "execution_count": 2,
   "id": "graduate-sigma",
   "metadata": {},
   "outputs": [],
   "source": [
    "And=lambda a,b: np.logical_and(a,b)"
   ]
  },
  {
   "cell_type": "markdown",
   "id": "limited-institution",
   "metadata": {},
   "source": [
    "# Importando as bases"
   ]
  },
  {
   "cell_type": "code",
   "execution_count": 3,
   "id": "sensitive-terrain",
   "metadata": {},
   "outputs": [
    {
     "name": "stderr",
     "output_type": "stream",
     "text": [
      "/home/gustavo/anaconda3/lib/python3.8/site-packages/IPython/core/interactiveshell.py:3155: DtypeWarning: Columns (21) have mixed types.Specify dtype option on import or set low_memory=False.\n",
      "  has_raised = await self.run_ast_nodes(code_ast.body, cell_name,\n"
     ]
    }
   ],
   "source": [
    "discentes=pd.read_csv('data/Discentes_2013-2019.csv',encoding='latin1')"
   ]
  },
  {
   "cell_type": "code",
   "execution_count": 4,
   "id": "fewer-stopping",
   "metadata": {},
   "outputs": [
    {
     "name": "stderr",
     "output_type": "stream",
     "text": [
      "/home/gustavo/anaconda3/lib/python3.8/site-packages/IPython/core/interactiveshell.py:3155: DtypeWarning: Columns (7) have mixed types.Specify dtype option on import or set low_memory=False.\n",
      "  has_raised = await self.run_ast_nodes(code_ast.body, cell_name,\n"
     ]
    }
   ],
   "source": [
    "docentes=pd.read_csv('data/Docentes_2013-2019.csv',encoding='latin1')\n",
    "\n",
    "colunas=['AN_BASE',\n",
    " 'CD_PROGRAMA_IES',\n",
    " 'TP_SEXO_DOCENTE',\n",
    " 'AN_NASCIMENTO_DOCENTE',\n",
    " 'DS_TIPO_NACIONALIDADE_DOCENTE',\n",
    " 'AN_TITULACAO','SG_ENTIDADE_ENSINO']\n",
    "\n",
    "docentes=docentes[colunas]"
   ]
  },
  {
   "cell_type": "code",
   "execution_count": 5,
   "id": "arranged-involvement",
   "metadata": {},
   "outputs": [],
   "source": [
    "teses=pd.read_csv('data/Teses-Dissertassoes_2013-2019.csv',encoding='latin1')"
   ]
  },
  {
   "cell_type": "markdown",
   "id": "deadly-quick",
   "metadata": {},
   "source": [
    "# Gerando as features para a base de Discentes"
   ]
  },
  {
   "cell_type": "code",
   "execution_count": 6,
   "id": "religious-jaguar",
   "metadata": {},
   "outputs": [],
   "source": [
    "def contar_homem(array):\n",
    "    L=[]\n",
    "    for i in array:\n",
    "        if i=='MASCULINO':\n",
    "            L.append(1)\n",
    "        else:\n",
    "            L.append(0)\n",
    "    return L\n",
    "\n",
    "def contar_mulher(array):\n",
    "    L=[]\n",
    "    for i in array:\n",
    "        if i=='MASCULINO':\n",
    "            L.append(0)\n",
    "        else:\n",
    "            L.append(1)\n",
    "    return L\n",
    "\n",
    "def contar_brasiliero(array):\n",
    "    L=[]\n",
    "    for i in array:\n",
    "        if i=='BRASILEIRO':\n",
    "            L.append(1)\n",
    "        else:\n",
    "            L.append(0)\n",
    "    return L\n",
    "\n",
    "def contar_estrangeiro(array):\n",
    "    L=[]\n",
    "    for i in array:\n",
    "        if i=='BRASILEIRO':\n",
    "            L.append(0)\n",
    "        else:\n",
    "            L.append(1)\n",
    "    return L\n",
    "\n",
    "def media_especial(array):\n",
    "    '''Tira a média dos valores do array ignorando-se os zeros.'''\n",
    "    valores_nao_nulos=[]\n",
    "    for i in array:\n",
    "        if i!=0:\n",
    "            valores_nao_nulos.append(i)\n",
    "    return np.mean(valores_nao_nulos)"
   ]
  },
  {
   "cell_type": "code",
   "execution_count": 7,
   "id": "heard-triumph",
   "metadata": {},
   "outputs": [],
   "source": [
    "discentes['Dis_Homens']=contar_homem(discentes.TP_SEXO_DISCENTE)\n",
    "discentes['Dis_Mulheres']=contar_mulher(discentes.TP_SEXO_DISCENTE)\n",
    "discentes['Dis_Brasileiros']=contar_brasiliero(discentes.DS_TIPO_NACIONALIDADE_DISCENTE)\n",
    "discentes['Dis_Estrangeiros']=contar_estrangeiro(discentes.DS_TIPO_NACIONALIDADE_DISCENTE)\n",
    "discentes['Quantidade_Discentes']=[1 for i in range(len(discentes))]"
   ]
  },
  {
   "cell_type": "code",
   "execution_count": 8,
   "id": "blessed-position",
   "metadata": {},
   "outputs": [
    {
     "name": "stderr",
     "output_type": "stream",
     "text": [
      "/home/gustavo/anaconda3/lib/python3.8/site-packages/numpy/core/fromnumeric.py:3372: RuntimeWarning: Mean of empty slice.\n",
      "  return _methods._mean(a, axis=axis, dtype=dtype,\n",
      "/home/gustavo/anaconda3/lib/python3.8/site-packages/numpy/core/_methods.py:170: RuntimeWarning: invalid value encountered in double_scalars\n",
      "  ret = ret.dtype.type(ret / rcount)\n"
     ]
    }
   ],
   "source": [
    "discentes=discentes.groupby(['CD_PROGRAMA_IES','AN_BASE'],as_index=False).agg({'Dis_Homens':np.sum,'Dis_Mulheres':np.sum,\n",
    "                                                              'Dis_Brasileiros':np.sum, 'Dis_Estrangeiros':np.sum,\n",
    "                                                             'Quantidade_Discentes':np.sum,\n",
    "                                                            'QT_MES_TITULACAO':media_especial,\n",
    "                                                            'CD_AREA_AVALIACAO':np.max,'CS_STATUS_JURIDICO':np.max,\n",
    "                                                            'AN_NASCIMENTO_DISCENTE':np.mean,'NM_REGIAO':np.max,\n",
    "                                                            'SG_UF_PROGRAMA':np.max,\n",
    "                                                            'CD_CONCEITO_PROGRAMA':np.max})\n",
    "\n",
    "\n",
    "#esse aviso aparece porque tem uns programas que só tem valor zero a coluna QT_MES_TITULACAO\n",
    "#(zero indica que o progama ainda não foi terminado )"
   ]
  },
  {
   "cell_type": "code",
   "execution_count": 9,
   "id": "polyphonic-temperature",
   "metadata": {},
   "outputs": [],
   "source": [
    "def proporcao_homens(df):\n",
    "    L=[]\n",
    "    for i in range(len(df)):\n",
    "        L.append(df.Dis_Homens[i]/df.Quantidade_Discentes[i])\n",
    "    return L\n",
    "\n",
    "def razao_aluno_tempo(df):\n",
    "    '''Retorna a razão aluno/tempo médio de titulação'''\n",
    "    L=[]\n",
    "    for i in range(len(df)):\n",
    "        L.append(df.Quantidade_Discentes[i]/df.QT_MES_TITULACAO[i])\n",
    "    return L"
   ]
  },
  {
   "cell_type": "code",
   "execution_count": 10,
   "id": "south-injection",
   "metadata": {},
   "outputs": [],
   "source": [
    "discentes.insert(7,'Dis_Prop_Homens',proporcao_homens(discentes),True)\n",
    "discentes.insert(8,'Dis_Aluno_Tempo',razao_aluno_tempo(discentes),True)"
   ]
  },
  {
   "cell_type": "code",
   "execution_count": 11,
   "id": "placed-shark",
   "metadata": {},
   "outputs": [
    {
     "data": {
      "text/html": [
       "<div>\n",
       "<style scoped>\n",
       "    .dataframe tbody tr th:only-of-type {\n",
       "        vertical-align: middle;\n",
       "    }\n",
       "\n",
       "    .dataframe tbody tr th {\n",
       "        vertical-align: top;\n",
       "    }\n",
       "\n",
       "    .dataframe thead th {\n",
       "        text-align: right;\n",
       "    }\n",
       "</style>\n",
       "<table border=\"1\" class=\"dataframe\">\n",
       "  <thead>\n",
       "    <tr style=\"text-align: right;\">\n",
       "      <th></th>\n",
       "      <th>CD_PROGRAMA_IES</th>\n",
       "      <th>AN_BASE</th>\n",
       "      <th>Dis_Homens</th>\n",
       "      <th>Dis_Mulheres</th>\n",
       "      <th>Dis_Brasileiros</th>\n",
       "      <th>Dis_Estrangeiros</th>\n",
       "      <th>Quantidade_Discentes</th>\n",
       "      <th>Dis_Prop_Homens</th>\n",
       "      <th>Dis_Aluno_Tempo</th>\n",
       "      <th>QT_MES_TITULACAO</th>\n",
       "      <th>CD_AREA_AVALIACAO</th>\n",
       "      <th>CS_STATUS_JURIDICO</th>\n",
       "      <th>AN_NASCIMENTO_DISCENTE</th>\n",
       "      <th>NM_REGIAO</th>\n",
       "      <th>SG_UF_PROGRAMA</th>\n",
       "      <th>CD_CONCEITO_PROGRAMA</th>\n",
       "    </tr>\n",
       "  </thead>\n",
       "  <tbody>\n",
       "    <tr>\n",
       "      <th>0</th>\n",
       "      <td>10001018002P1</td>\n",
       "      <td>2013</td>\n",
       "      <td>29</td>\n",
       "      <td>48</td>\n",
       "      <td>77</td>\n",
       "      <td>0</td>\n",
       "      <td>77</td>\n",
       "      <td>0.376623</td>\n",
       "      <td>1.889019</td>\n",
       "      <td>40.761905</td>\n",
       "      <td>9</td>\n",
       "      <td>FEDERAL</td>\n",
       "      <td>1981.000000</td>\n",
       "      <td>NORTE</td>\n",
       "      <td>RO</td>\n",
       "      <td>3</td>\n",
       "    </tr>\n",
       "    <tr>\n",
       "      <th>1</th>\n",
       "      <td>10001018002P1</td>\n",
       "      <td>2014</td>\n",
       "      <td>26</td>\n",
       "      <td>43</td>\n",
       "      <td>68</td>\n",
       "      <td>1</td>\n",
       "      <td>69</td>\n",
       "      <td>0.376812</td>\n",
       "      <td>2.193154</td>\n",
       "      <td>31.461538</td>\n",
       "      <td>9</td>\n",
       "      <td>FEDERAL</td>\n",
       "      <td>1983.275362</td>\n",
       "      <td>NORTE</td>\n",
       "      <td>RO</td>\n",
       "      <td>3</td>\n",
       "    </tr>\n",
       "    <tr>\n",
       "      <th>2</th>\n",
       "      <td>10001018002P1</td>\n",
       "      <td>2015</td>\n",
       "      <td>33</td>\n",
       "      <td>57</td>\n",
       "      <td>88</td>\n",
       "      <td>2</td>\n",
       "      <td>90</td>\n",
       "      <td>0.366667</td>\n",
       "      <td>3.082192</td>\n",
       "      <td>29.200000</td>\n",
       "      <td>9</td>\n",
       "      <td>FEDERAL</td>\n",
       "      <td>1984.311111</td>\n",
       "      <td>NORTE</td>\n",
       "      <td>RO</td>\n",
       "      <td>3</td>\n",
       "    </tr>\n",
       "    <tr>\n",
       "      <th>3</th>\n",
       "      <td>10001018002P1</td>\n",
       "      <td>2016</td>\n",
       "      <td>28</td>\n",
       "      <td>53</td>\n",
       "      <td>80</td>\n",
       "      <td>1</td>\n",
       "      <td>81</td>\n",
       "      <td>0.345679</td>\n",
       "      <td>2.685083</td>\n",
       "      <td>30.166667</td>\n",
       "      <td>9</td>\n",
       "      <td>FEDERAL</td>\n",
       "      <td>1986.493827</td>\n",
       "      <td>NORTE</td>\n",
       "      <td>RO</td>\n",
       "      <td>3</td>\n",
       "    </tr>\n",
       "    <tr>\n",
       "      <th>4</th>\n",
       "      <td>10001018002P1</td>\n",
       "      <td>2017</td>\n",
       "      <td>43</td>\n",
       "      <td>64</td>\n",
       "      <td>106</td>\n",
       "      <td>1</td>\n",
       "      <td>107</td>\n",
       "      <td>0.401869</td>\n",
       "      <td>3.763819</td>\n",
       "      <td>28.428571</td>\n",
       "      <td>9</td>\n",
       "      <td>FEDERAL</td>\n",
       "      <td>1987.579439</td>\n",
       "      <td>NORTE</td>\n",
       "      <td>RO</td>\n",
       "      <td>4</td>\n",
       "    </tr>\n",
       "  </tbody>\n",
       "</table>\n",
       "</div>"
      ],
      "text/plain": [
       "  CD_PROGRAMA_IES  AN_BASE  Dis_Homens  Dis_Mulheres  Dis_Brasileiros  \\\n",
       "0   10001018002P1     2013          29            48               77   \n",
       "1   10001018002P1     2014          26            43               68   \n",
       "2   10001018002P1     2015          33            57               88   \n",
       "3   10001018002P1     2016          28            53               80   \n",
       "4   10001018002P1     2017          43            64              106   \n",
       "\n",
       "   Dis_Estrangeiros  Quantidade_Discentes  Dis_Prop_Homens  Dis_Aluno_Tempo  \\\n",
       "0                 0                    77         0.376623         1.889019   \n",
       "1                 1                    69         0.376812         2.193154   \n",
       "2                 2                    90         0.366667         3.082192   \n",
       "3                 1                    81         0.345679         2.685083   \n",
       "4                 1                   107         0.401869         3.763819   \n",
       "\n",
       "   QT_MES_TITULACAO  CD_AREA_AVALIACAO CS_STATUS_JURIDICO  \\\n",
       "0         40.761905                  9            FEDERAL   \n",
       "1         31.461538                  9            FEDERAL   \n",
       "2         29.200000                  9            FEDERAL   \n",
       "3         30.166667                  9            FEDERAL   \n",
       "4         28.428571                  9            FEDERAL   \n",
       "\n",
       "   AN_NASCIMENTO_DISCENTE NM_REGIAO SG_UF_PROGRAMA  CD_CONCEITO_PROGRAMA  \n",
       "0             1981.000000     NORTE             RO                     3  \n",
       "1             1983.275362     NORTE             RO                     3  \n",
       "2             1984.311111     NORTE             RO                     3  \n",
       "3             1986.493827     NORTE             RO                     3  \n",
       "4             1987.579439     NORTE             RO                     4  "
      ]
     },
     "execution_count": 11,
     "metadata": {},
     "output_type": "execute_result"
    }
   ],
   "source": [
    "discentes.head()"
   ]
  },
  {
   "cell_type": "markdown",
   "id": "arabic-scheduling",
   "metadata": {},
   "source": [
    "# Gerando as features para a base de docentes"
   ]
  },
  {
   "cell_type": "code",
   "execution_count": 12,
   "id": "public-convert",
   "metadata": {},
   "outputs": [
    {
     "data": {
      "text/html": [
       "<div>\n",
       "<style scoped>\n",
       "    .dataframe tbody tr th:only-of-type {\n",
       "        vertical-align: middle;\n",
       "    }\n",
       "\n",
       "    .dataframe tbody tr th {\n",
       "        vertical-align: top;\n",
       "    }\n",
       "\n",
       "    .dataframe thead th {\n",
       "        text-align: right;\n",
       "    }\n",
       "</style>\n",
       "<table border=\"1\" class=\"dataframe\">\n",
       "  <thead>\n",
       "    <tr style=\"text-align: right;\">\n",
       "      <th></th>\n",
       "      <th>AN_BASE</th>\n",
       "      <th>CD_PROGRAMA_IES</th>\n",
       "      <th>TP_SEXO_DOCENTE</th>\n",
       "      <th>AN_NASCIMENTO_DOCENTE</th>\n",
       "      <th>DS_TIPO_NACIONALIDADE_DOCENTE</th>\n",
       "      <th>AN_TITULACAO</th>\n",
       "      <th>SG_ENTIDADE_ENSINO</th>\n",
       "    </tr>\n",
       "  </thead>\n",
       "  <tbody>\n",
       "    <tr>\n",
       "      <th>0</th>\n",
       "      <td>2019</td>\n",
       "      <td>10001018017P9</td>\n",
       "      <td>FEMININO</td>\n",
       "      <td>1968</td>\n",
       "      <td>BRASILEIRO</td>\n",
       "      <td>2004.0</td>\n",
       "      <td>UNIR</td>\n",
       "    </tr>\n",
       "    <tr>\n",
       "      <th>1</th>\n",
       "      <td>2019</td>\n",
       "      <td>10001018016P2</td>\n",
       "      <td>MASCULINO</td>\n",
       "      <td>1963</td>\n",
       "      <td>BRASILEIRO</td>\n",
       "      <td>2012.0</td>\n",
       "      <td>UNIR</td>\n",
       "    </tr>\n",
       "    <tr>\n",
       "      <th>2</th>\n",
       "      <td>2019</td>\n",
       "      <td>53045009001P3</td>\n",
       "      <td>FEMININO</td>\n",
       "      <td>1972</td>\n",
       "      <td>BRASILEIRO</td>\n",
       "      <td>2013.0</td>\n",
       "      <td>UNIR</td>\n",
       "    </tr>\n",
       "    <tr>\n",
       "      <th>3</th>\n",
       "      <td>2019</td>\n",
       "      <td>10001018004P4</td>\n",
       "      <td>MASCULINO</td>\n",
       "      <td>1978</td>\n",
       "      <td>BRASILEIRO</td>\n",
       "      <td>2007.0</td>\n",
       "      <td>UNIR</td>\n",
       "    </tr>\n",
       "    <tr>\n",
       "      <th>4</th>\n",
       "      <td>2019</td>\n",
       "      <td>10001018041P7</td>\n",
       "      <td>MASCULINO</td>\n",
       "      <td>1976</td>\n",
       "      <td>BRASILEIRO</td>\n",
       "      <td>2004.0</td>\n",
       "      <td>UNIR</td>\n",
       "    </tr>\n",
       "  </tbody>\n",
       "</table>\n",
       "</div>"
      ],
      "text/plain": [
       "   AN_BASE CD_PROGRAMA_IES TP_SEXO_DOCENTE  AN_NASCIMENTO_DOCENTE  \\\n",
       "0     2019   10001018017P9        FEMININO                   1968   \n",
       "1     2019   10001018016P2       MASCULINO                   1963   \n",
       "2     2019   53045009001P3        FEMININO                   1972   \n",
       "3     2019   10001018004P4       MASCULINO                   1978   \n",
       "4     2019   10001018041P7       MASCULINO                   1976   \n",
       "\n",
       "  DS_TIPO_NACIONALIDADE_DOCENTE  AN_TITULACAO SG_ENTIDADE_ENSINO  \n",
       "0                    BRASILEIRO        2004.0               UNIR  \n",
       "1                    BRASILEIRO        2012.0               UNIR  \n",
       "2                    BRASILEIRO        2013.0               UNIR  \n",
       "3                    BRASILEIRO        2007.0               UNIR  \n",
       "4                    BRASILEIRO        2004.0               UNIR  "
      ]
     },
     "execution_count": 12,
     "metadata": {},
     "output_type": "execute_result"
    }
   ],
   "source": [
    "docentes.head()"
   ]
  },
  {
   "cell_type": "code",
   "execution_count": 13,
   "id": "regulated-astrology",
   "metadata": {},
   "outputs": [],
   "source": [
    "def contar_homem(array):\n",
    "    L=[]\n",
    "    for i in array:\n",
    "        if i=='MASCULINO':\n",
    "            L.append(1)\n",
    "        else:\n",
    "            L.append(0)\n",
    "    return L\n",
    "\n",
    "def contar_mulher(array):\n",
    "    L=[]\n",
    "    for i in array:\n",
    "        if i=='MASCULINO':\n",
    "            L.append(0)\n",
    "        else:\n",
    "            L.append(1)\n",
    "    return L\n",
    "\n",
    "def contar_brasiliero(array):\n",
    "    L=[]\n",
    "    for i in array:\n",
    "        if i=='BRASILEIRO':\n",
    "            L.append(1)\n",
    "        else:\n",
    "            L.append(0)\n",
    "    return L\n",
    "\n",
    "def contar_estrangeiro(array):\n",
    "    L=[]\n",
    "    for i in array:\n",
    "        if i=='BRASILEIRO':\n",
    "            L.append(0)\n",
    "        else:\n",
    "            L.append(1)\n",
    "    return L"
   ]
  },
  {
   "cell_type": "code",
   "execution_count": 14,
   "id": "sublime-subdivision",
   "metadata": {},
   "outputs": [],
   "source": [
    "docentes['Do_Homens']=contar_homem(docentes.TP_SEXO_DOCENTE)\n",
    "docentes['Do_Mulheres']=contar_mulher(docentes.TP_SEXO_DOCENTE)\n",
    "docentes['Do_Brasileiros']=contar_brasiliero(docentes.DS_TIPO_NACIONALIDADE_DOCENTE)\n",
    "docentes['Do_Estrangeiros']=contar_estrangeiro(docentes.DS_TIPO_NACIONALIDADE_DOCENTE)\n",
    "docentes['Quantidade_Docentes']=[1 for i in range(len(docentes))]"
   ]
  },
  {
   "cell_type": "code",
   "execution_count": 15,
   "id": "aerial-farmer",
   "metadata": {},
   "outputs": [],
   "source": [
    "docentes=docentes.groupby(['CD_PROGRAMA_IES','AN_BASE'],as_index=False).agg({'Do_Homens':np.sum,'Do_Mulheres':np.sum,\n",
    "                                                              'Do_Brasileiros':np.sum, 'Do_Estrangeiros':np.sum,\n",
    "                                                             'Quantidade_Docentes':np.sum,\n",
    "                                                            'AN_NASCIMENTO_DOCENTE':np.mean, \n",
    "                                                            'SG_ENTIDADE_ENSINO':np.max})"
   ]
  },
  {
   "cell_type": "code",
   "execution_count": 16,
   "id": "cultural-identification",
   "metadata": {
    "scrolled": true
   },
   "outputs": [
    {
     "data": {
      "text/html": [
       "<div>\n",
       "<style scoped>\n",
       "    .dataframe tbody tr th:only-of-type {\n",
       "        vertical-align: middle;\n",
       "    }\n",
       "\n",
       "    .dataframe tbody tr th {\n",
       "        vertical-align: top;\n",
       "    }\n",
       "\n",
       "    .dataframe thead th {\n",
       "        text-align: right;\n",
       "    }\n",
       "</style>\n",
       "<table border=\"1\" class=\"dataframe\">\n",
       "  <thead>\n",
       "    <tr style=\"text-align: right;\">\n",
       "      <th></th>\n",
       "      <th>CD_PROGRAMA_IES</th>\n",
       "      <th>AN_BASE</th>\n",
       "      <th>Do_Homens</th>\n",
       "      <th>Do_Mulheres</th>\n",
       "      <th>Do_Brasileiros</th>\n",
       "      <th>Do_Estrangeiros</th>\n",
       "      <th>Quantidade_Docentes</th>\n",
       "      <th>AN_NASCIMENTO_DOCENTE</th>\n",
       "      <th>SG_ENTIDADE_ENSINO</th>\n",
       "    </tr>\n",
       "  </thead>\n",
       "  <tbody>\n",
       "    <tr>\n",
       "      <th>0</th>\n",
       "      <td>10001018002P1</td>\n",
       "      <td>2013</td>\n",
       "      <td>15</td>\n",
       "      <td>10</td>\n",
       "      <td>25</td>\n",
       "      <td>0</td>\n",
       "      <td>25</td>\n",
       "      <td>1967.560000</td>\n",
       "      <td>UNIR</td>\n",
       "    </tr>\n",
       "    <tr>\n",
       "      <th>1</th>\n",
       "      <td>10001018002P1</td>\n",
       "      <td>2014</td>\n",
       "      <td>14</td>\n",
       "      <td>8</td>\n",
       "      <td>22</td>\n",
       "      <td>0</td>\n",
       "      <td>22</td>\n",
       "      <td>1966.954545</td>\n",
       "      <td>UNIR</td>\n",
       "    </tr>\n",
       "    <tr>\n",
       "      <th>2</th>\n",
       "      <td>10001018002P1</td>\n",
       "      <td>2015</td>\n",
       "      <td>14</td>\n",
       "      <td>8</td>\n",
       "      <td>22</td>\n",
       "      <td>0</td>\n",
       "      <td>22</td>\n",
       "      <td>1971.136364</td>\n",
       "      <td>UNIR</td>\n",
       "    </tr>\n",
       "    <tr>\n",
       "      <th>3</th>\n",
       "      <td>10001018002P1</td>\n",
       "      <td>2016</td>\n",
       "      <td>13</td>\n",
       "      <td>7</td>\n",
       "      <td>20</td>\n",
       "      <td>0</td>\n",
       "      <td>20</td>\n",
       "      <td>1972.200000</td>\n",
       "      <td>UNIR</td>\n",
       "    </tr>\n",
       "    <tr>\n",
       "      <th>4</th>\n",
       "      <td>10001018002P1</td>\n",
       "      <td>2017</td>\n",
       "      <td>14</td>\n",
       "      <td>8</td>\n",
       "      <td>22</td>\n",
       "      <td>0</td>\n",
       "      <td>22</td>\n",
       "      <td>1973.727273</td>\n",
       "      <td>UNIR</td>\n",
       "    </tr>\n",
       "  </tbody>\n",
       "</table>\n",
       "</div>"
      ],
      "text/plain": [
       "  CD_PROGRAMA_IES  AN_BASE  Do_Homens  Do_Mulheres  Do_Brasileiros  \\\n",
       "0   10001018002P1     2013         15           10              25   \n",
       "1   10001018002P1     2014         14            8              22   \n",
       "2   10001018002P1     2015         14            8              22   \n",
       "3   10001018002P1     2016         13            7              20   \n",
       "4   10001018002P1     2017         14            8              22   \n",
       "\n",
       "   Do_Estrangeiros  Quantidade_Docentes  AN_NASCIMENTO_DOCENTE  \\\n",
       "0                0                   25            1967.560000   \n",
       "1                0                   22            1966.954545   \n",
       "2                0                   22            1971.136364   \n",
       "3                0                   20            1972.200000   \n",
       "4                0                   22            1973.727273   \n",
       "\n",
       "  SG_ENTIDADE_ENSINO  \n",
       "0               UNIR  \n",
       "1               UNIR  \n",
       "2               UNIR  \n",
       "3               UNIR  \n",
       "4               UNIR  "
      ]
     },
     "execution_count": 16,
     "metadata": {},
     "output_type": "execute_result"
    }
   ],
   "source": [
    "docentes.head()"
   ]
  },
  {
   "cell_type": "markdown",
   "id": "interested-effects",
   "metadata": {},
   "source": [
    "# Gerando para a base de teses e dissertações"
   ]
  },
  {
   "cell_type": "code",
   "execution_count": 17,
   "id": "obvious-peripheral",
   "metadata": {},
   "outputs": [],
   "source": [
    "teses=teses[teses.NR_PAGINAS<5000] #tirando os valores estranhos(só são 23)"
   ]
  },
  {
   "cell_type": "code",
   "execution_count": 18,
   "id": "specialized-strand",
   "metadata": {},
   "outputs": [],
   "source": [
    "def contar_lingua_estrangeira(array):\n",
    "    '''Conta quantos traballhos são esritos em língua estrangeira'''\n",
    "    L=[]\n",
    "    for i in array:\n",
    "        if i=='PORTUGUES':\n",
    "            L.append(0)\n",
    "        else:\n",
    "            L.append(1)\n",
    "    return L\n",
    "\n",
    "teses['Lingua_estrangeira']=contar_lingua_estrangeira(teses.NM_IDIOMA)\n",
    "\n",
    "teses['Quantidade_Trabalhos']=[1 for i in range(len(teses))]"
   ]
  },
  {
   "cell_type": "code",
   "execution_count": 19,
   "id": "dynamic-killing",
   "metadata": {},
   "outputs": [
    {
     "name": "stderr",
     "output_type": "stream",
     "text": [
      "/home/gustavo/anaconda3/lib/python3.8/site-packages/numpy/core/fromnumeric.py:3372: RuntimeWarning: Mean of empty slice.\n",
      "  return _methods._mean(a, axis=axis, dtype=dtype,\n",
      "/home/gustavo/anaconda3/lib/python3.8/site-packages/numpy/core/_methods.py:170: RuntimeWarning: invalid value encountered in double_scalars\n",
      "  ret = ret.dtype.type(ret / rcount)\n"
     ]
    }
   ],
   "source": [
    "teses=teses.groupby(['CD_PROGRAMA','AN_BASE'],as_index=False).agg({'ID_SUBTIPO_PRODUCAO':np.max,'NM_SUBTIPO_PRODUCAO':np.max,\n",
    "                                                           'IN_TRABALHO_MESMA_AREA':np.max,'NR_PAGINAS':media_especial,\n",
    "                                                           'Lingua_estrangeira':np.sum,\n",
    "                                                                  'Quantidade_Trabalhos':np.sum})"
   ]
  },
  {
   "cell_type": "code",
   "execution_count": 20,
   "id": "planned-bible",
   "metadata": {},
   "outputs": [
    {
     "data": {
      "text/html": [
       "<div>\n",
       "<style scoped>\n",
       "    .dataframe tbody tr th:only-of-type {\n",
       "        vertical-align: middle;\n",
       "    }\n",
       "\n",
       "    .dataframe tbody tr th {\n",
       "        vertical-align: top;\n",
       "    }\n",
       "\n",
       "    .dataframe thead th {\n",
       "        text-align: right;\n",
       "    }\n",
       "</style>\n",
       "<table border=\"1\" class=\"dataframe\">\n",
       "  <thead>\n",
       "    <tr style=\"text-align: right;\">\n",
       "      <th></th>\n",
       "      <th>CD_PROGRAMA</th>\n",
       "      <th>AN_BASE</th>\n",
       "      <th>ID_SUBTIPO_PRODUCAO</th>\n",
       "      <th>NM_SUBTIPO_PRODUCAO</th>\n",
       "      <th>IN_TRABALHO_MESMA_AREA</th>\n",
       "      <th>NR_PAGINAS</th>\n",
       "      <th>Lingua_estrangeira</th>\n",
       "      <th>Quantidade_Trabalhos</th>\n",
       "    </tr>\n",
       "  </thead>\n",
       "  <tbody>\n",
       "    <tr>\n",
       "      <th>0</th>\n",
       "      <td>10001018002P1</td>\n",
       "      <td>2013.0</td>\n",
       "      <td>2.0</td>\n",
       "      <td>TESE</td>\n",
       "      <td>0.0</td>\n",
       "      <td>NaN</td>\n",
       "      <td>0</td>\n",
       "      <td>21</td>\n",
       "    </tr>\n",
       "    <tr>\n",
       "      <th>1</th>\n",
       "      <td>10001018002P1</td>\n",
       "      <td>2014.0</td>\n",
       "      <td>2.0</td>\n",
       "      <td>TESE</td>\n",
       "      <td>1.0</td>\n",
       "      <td>80.0</td>\n",
       "      <td>0</td>\n",
       "      <td>13</td>\n",
       "    </tr>\n",
       "    <tr>\n",
       "      <th>2</th>\n",
       "      <td>10001018002P1</td>\n",
       "      <td>2015.0</td>\n",
       "      <td>2.0</td>\n",
       "      <td>TESE</td>\n",
       "      <td>0.0</td>\n",
       "      <td>NaN</td>\n",
       "      <td>0</td>\n",
       "      <td>20</td>\n",
       "    </tr>\n",
       "    <tr>\n",
       "      <th>3</th>\n",
       "      <td>10001018002P1</td>\n",
       "      <td>2016.0</td>\n",
       "      <td>2.0</td>\n",
       "      <td>TESE</td>\n",
       "      <td>0.0</td>\n",
       "      <td>NaN</td>\n",
       "      <td>0</td>\n",
       "      <td>18</td>\n",
       "    </tr>\n",
       "    <tr>\n",
       "      <th>4</th>\n",
       "      <td>10001018002P1</td>\n",
       "      <td>2017.0</td>\n",
       "      <td>2.0</td>\n",
       "      <td>TESE</td>\n",
       "      <td>1.0</td>\n",
       "      <td>NaN</td>\n",
       "      <td>0</td>\n",
       "      <td>21</td>\n",
       "    </tr>\n",
       "  </tbody>\n",
       "</table>\n",
       "</div>"
      ],
      "text/plain": [
       "     CD_PROGRAMA  AN_BASE  ID_SUBTIPO_PRODUCAO NM_SUBTIPO_PRODUCAO  \\\n",
       "0  10001018002P1   2013.0                  2.0                TESE   \n",
       "1  10001018002P1   2014.0                  2.0                TESE   \n",
       "2  10001018002P1   2015.0                  2.0                TESE   \n",
       "3  10001018002P1   2016.0                  2.0                TESE   \n",
       "4  10001018002P1   2017.0                  2.0                TESE   \n",
       "\n",
       "   IN_TRABALHO_MESMA_AREA  NR_PAGINAS  Lingua_estrangeira  \\\n",
       "0                     0.0         NaN                   0   \n",
       "1                     1.0        80.0                   0   \n",
       "2                     0.0         NaN                   0   \n",
       "3                     0.0         NaN                   0   \n",
       "4                     1.0         NaN                   0   \n",
       "\n",
       "   Quantidade_Trabalhos  \n",
       "0                    21  \n",
       "1                    13  \n",
       "2                    20  \n",
       "3                    18  \n",
       "4                    21  "
      ]
     },
     "execution_count": 20,
     "metadata": {},
     "output_type": "execute_result"
    }
   ],
   "source": [
    "teses.head()"
   ]
  },
  {
   "cell_type": "code",
   "execution_count": 21,
   "id": "useful-grace",
   "metadata": {},
   "outputs": [],
   "source": [
    "teses.columns=['CD_PROGRAMA_IES',\n",
    " 'AN_BASE',\n",
    " 'ID_SUBTIPO_PRODUCAO',\n",
    " 'NM_SUBTIPO_PRODUCAO',\n",
    " 'IN_TRABALHO_MESMA_AREA',\n",
    " 'NR_PAGINAS',\n",
    " 'Lingua_estrangeira','Quantidade_Trabalhos']"
   ]
  },
  {
   "cell_type": "markdown",
   "id": "systematic-native",
   "metadata": {},
   "source": [
    "# Juntando as bases de docentes, discentes e teses"
   ]
  },
  {
   "cell_type": "code",
   "execution_count": 22,
   "id": "amateur-choice",
   "metadata": {},
   "outputs": [],
   "source": [
    "df=pd.merge(docentes,discentes,on=['CD_PROGRAMA_IES','AN_BASE'])"
   ]
  },
  {
   "cell_type": "code",
   "execution_count": 23,
   "id": "sticky-leisure",
   "metadata": {},
   "outputs": [],
   "source": [
    "df=pd.merge(teses,df,on=['CD_PROGRAMA_IES','AN_BASE'])"
   ]
  },
  {
   "cell_type": "code",
   "execution_count": 24,
   "id": "swedish-suffering",
   "metadata": {},
   "outputs": [],
   "source": [
    "para_deletar=[discentes,docentes,teses]\n",
    "del para_deletar #esse é um jeito de forçar o garbage collector a remover esses dataframes da memória"
   ]
  },
  {
   "cell_type": "code",
   "execution_count": 25,
   "id": "reported-heath",
   "metadata": {
    "scrolled": true
   },
   "outputs": [
    {
     "data": {
      "text/html": [
       "<div>\n",
       "<style scoped>\n",
       "    .dataframe tbody tr th:only-of-type {\n",
       "        vertical-align: middle;\n",
       "    }\n",
       "\n",
       "    .dataframe tbody tr th {\n",
       "        vertical-align: top;\n",
       "    }\n",
       "\n",
       "    .dataframe thead th {\n",
       "        text-align: right;\n",
       "    }\n",
       "</style>\n",
       "<table border=\"1\" class=\"dataframe\">\n",
       "  <thead>\n",
       "    <tr style=\"text-align: right;\">\n",
       "      <th></th>\n",
       "      <th>CD_PROGRAMA_IES</th>\n",
       "      <th>AN_BASE</th>\n",
       "      <th>ID_SUBTIPO_PRODUCAO</th>\n",
       "      <th>NM_SUBTIPO_PRODUCAO</th>\n",
       "      <th>IN_TRABALHO_MESMA_AREA</th>\n",
       "      <th>NR_PAGINAS</th>\n",
       "      <th>Lingua_estrangeira</th>\n",
       "      <th>Quantidade_Trabalhos</th>\n",
       "      <th>Do_Homens</th>\n",
       "      <th>Do_Mulheres</th>\n",
       "      <th>...</th>\n",
       "      <th>Quantidade_Discentes</th>\n",
       "      <th>Dis_Prop_Homens</th>\n",
       "      <th>Dis_Aluno_Tempo</th>\n",
       "      <th>QT_MES_TITULACAO</th>\n",
       "      <th>CD_AREA_AVALIACAO</th>\n",
       "      <th>CS_STATUS_JURIDICO</th>\n",
       "      <th>AN_NASCIMENTO_DISCENTE</th>\n",
       "      <th>NM_REGIAO</th>\n",
       "      <th>SG_UF_PROGRAMA</th>\n",
       "      <th>CD_CONCEITO_PROGRAMA</th>\n",
       "    </tr>\n",
       "  </thead>\n",
       "  <tbody>\n",
       "    <tr>\n",
       "      <th>0</th>\n",
       "      <td>10001018002P1</td>\n",
       "      <td>2013.0</td>\n",
       "      <td>2.0</td>\n",
       "      <td>TESE</td>\n",
       "      <td>0.0</td>\n",
       "      <td>NaN</td>\n",
       "      <td>0</td>\n",
       "      <td>21</td>\n",
       "      <td>15</td>\n",
       "      <td>10</td>\n",
       "      <td>...</td>\n",
       "      <td>77</td>\n",
       "      <td>0.376623</td>\n",
       "      <td>1.889019</td>\n",
       "      <td>40.761905</td>\n",
       "      <td>9</td>\n",
       "      <td>FEDERAL</td>\n",
       "      <td>1981.000000</td>\n",
       "      <td>NORTE</td>\n",
       "      <td>RO</td>\n",
       "      <td>3</td>\n",
       "    </tr>\n",
       "    <tr>\n",
       "      <th>1</th>\n",
       "      <td>10001018002P1</td>\n",
       "      <td>2014.0</td>\n",
       "      <td>2.0</td>\n",
       "      <td>TESE</td>\n",
       "      <td>1.0</td>\n",
       "      <td>80.0</td>\n",
       "      <td>0</td>\n",
       "      <td>13</td>\n",
       "      <td>14</td>\n",
       "      <td>8</td>\n",
       "      <td>...</td>\n",
       "      <td>69</td>\n",
       "      <td>0.376812</td>\n",
       "      <td>2.193154</td>\n",
       "      <td>31.461538</td>\n",
       "      <td>9</td>\n",
       "      <td>FEDERAL</td>\n",
       "      <td>1983.275362</td>\n",
       "      <td>NORTE</td>\n",
       "      <td>RO</td>\n",
       "      <td>3</td>\n",
       "    </tr>\n",
       "    <tr>\n",
       "      <th>2</th>\n",
       "      <td>10001018002P1</td>\n",
       "      <td>2015.0</td>\n",
       "      <td>2.0</td>\n",
       "      <td>TESE</td>\n",
       "      <td>0.0</td>\n",
       "      <td>NaN</td>\n",
       "      <td>0</td>\n",
       "      <td>20</td>\n",
       "      <td>14</td>\n",
       "      <td>8</td>\n",
       "      <td>...</td>\n",
       "      <td>90</td>\n",
       "      <td>0.366667</td>\n",
       "      <td>3.082192</td>\n",
       "      <td>29.200000</td>\n",
       "      <td>9</td>\n",
       "      <td>FEDERAL</td>\n",
       "      <td>1984.311111</td>\n",
       "      <td>NORTE</td>\n",
       "      <td>RO</td>\n",
       "      <td>3</td>\n",
       "    </tr>\n",
       "    <tr>\n",
       "      <th>3</th>\n",
       "      <td>10001018002P1</td>\n",
       "      <td>2016.0</td>\n",
       "      <td>2.0</td>\n",
       "      <td>TESE</td>\n",
       "      <td>0.0</td>\n",
       "      <td>NaN</td>\n",
       "      <td>0</td>\n",
       "      <td>18</td>\n",
       "      <td>13</td>\n",
       "      <td>7</td>\n",
       "      <td>...</td>\n",
       "      <td>81</td>\n",
       "      <td>0.345679</td>\n",
       "      <td>2.685083</td>\n",
       "      <td>30.166667</td>\n",
       "      <td>9</td>\n",
       "      <td>FEDERAL</td>\n",
       "      <td>1986.493827</td>\n",
       "      <td>NORTE</td>\n",
       "      <td>RO</td>\n",
       "      <td>3</td>\n",
       "    </tr>\n",
       "    <tr>\n",
       "      <th>4</th>\n",
       "      <td>10001018002P1</td>\n",
       "      <td>2017.0</td>\n",
       "      <td>2.0</td>\n",
       "      <td>TESE</td>\n",
       "      <td>1.0</td>\n",
       "      <td>NaN</td>\n",
       "      <td>0</td>\n",
       "      <td>21</td>\n",
       "      <td>14</td>\n",
       "      <td>8</td>\n",
       "      <td>...</td>\n",
       "      <td>107</td>\n",
       "      <td>0.401869</td>\n",
       "      <td>3.763819</td>\n",
       "      <td>28.428571</td>\n",
       "      <td>9</td>\n",
       "      <td>FEDERAL</td>\n",
       "      <td>1987.579439</td>\n",
       "      <td>NORTE</td>\n",
       "      <td>RO</td>\n",
       "      <td>4</td>\n",
       "    </tr>\n",
       "  </tbody>\n",
       "</table>\n",
       "<p>5 rows × 29 columns</p>\n",
       "</div>"
      ],
      "text/plain": [
       "  CD_PROGRAMA_IES  AN_BASE  ID_SUBTIPO_PRODUCAO NM_SUBTIPO_PRODUCAO  \\\n",
       "0   10001018002P1   2013.0                  2.0                TESE   \n",
       "1   10001018002P1   2014.0                  2.0                TESE   \n",
       "2   10001018002P1   2015.0                  2.0                TESE   \n",
       "3   10001018002P1   2016.0                  2.0                TESE   \n",
       "4   10001018002P1   2017.0                  2.0                TESE   \n",
       "\n",
       "   IN_TRABALHO_MESMA_AREA  NR_PAGINAS  Lingua_estrangeira  \\\n",
       "0                     0.0         NaN                   0   \n",
       "1                     1.0        80.0                   0   \n",
       "2                     0.0         NaN                   0   \n",
       "3                     0.0         NaN                   0   \n",
       "4                     1.0         NaN                   0   \n",
       "\n",
       "   Quantidade_Trabalhos  Do_Homens  Do_Mulheres  ...  Quantidade_Discentes  \\\n",
       "0                    21         15           10  ...                    77   \n",
       "1                    13         14            8  ...                    69   \n",
       "2                    20         14            8  ...                    90   \n",
       "3                    18         13            7  ...                    81   \n",
       "4                    21         14            8  ...                   107   \n",
       "\n",
       "   Dis_Prop_Homens  Dis_Aluno_Tempo  QT_MES_TITULACAO CD_AREA_AVALIACAO  \\\n",
       "0         0.376623         1.889019         40.761905                 9   \n",
       "1         0.376812         2.193154         31.461538                 9   \n",
       "2         0.366667         3.082192         29.200000                 9   \n",
       "3         0.345679         2.685083         30.166667                 9   \n",
       "4         0.401869         3.763819         28.428571                 9   \n",
       "\n",
       "   CS_STATUS_JURIDICO  AN_NASCIMENTO_DISCENTE  NM_REGIAO  SG_UF_PROGRAMA  \\\n",
       "0             FEDERAL             1981.000000      NORTE              RO   \n",
       "1             FEDERAL             1983.275362      NORTE              RO   \n",
       "2             FEDERAL             1984.311111      NORTE              RO   \n",
       "3             FEDERAL             1986.493827      NORTE              RO   \n",
       "4             FEDERAL             1987.579439      NORTE              RO   \n",
       "\n",
       "   CD_CONCEITO_PROGRAMA  \n",
       "0                     3  \n",
       "1                     3  \n",
       "2                     3  \n",
       "3                     3  \n",
       "4                     4  \n",
       "\n",
       "[5 rows x 29 columns]"
      ]
     },
     "execution_count": 25,
     "metadata": {},
     "output_type": "execute_result"
    }
   ],
   "source": [
    "df.head()"
   ]
  },
  {
   "cell_type": "markdown",
   "id": "intelligent-fisher",
   "metadata": {},
   "source": [
    "# Criando features para as três bases juntas"
   ]
  },
  {
   "cell_type": "markdown",
   "id": "opening-skiing",
   "metadata": {},
   "source": [
    "## Docentes e discentes"
   ]
  },
  {
   "cell_type": "code",
   "execution_count": 26,
   "id": "other-swimming",
   "metadata": {},
   "outputs": [],
   "source": [
    "def diferenca_idade(df):\n",
    "    L=[]\n",
    "    for i in range(len(df)):\n",
    "        L.append(-df.AN_NASCIMENTO_DOCENTE[i]+df.AN_NASCIMENTO_DISCENTE[i])\n",
    "    return L\n",
    "\n",
    "def razao_aluno_prof(df):\n",
    "    L=[]\n",
    "    for i in range(len(df)):\n",
    "        L.append(df.Quantidade_Discentes[i]/df.Quantidade_Docentes[i])\n",
    "    return L   "
   ]
  },
  {
   "cell_type": "code",
   "execution_count": 27,
   "id": "suspected-benchmark",
   "metadata": {},
   "outputs": [],
   "source": [
    "df.insert(19,'diferenca_idade',diferenca_idade(df),True)\n",
    "df.insert(20,'razao_aluno_prof',razao_aluno_prof(df),True)"
   ]
  },
  {
   "cell_type": "code",
   "execution_count": 28,
   "id": "tender-egyptian",
   "metadata": {},
   "outputs": [],
   "source": [
    "x=df.groupby('CD_CONCEITO_PROGRAMA').mean()[['diferenca_idade','razao_aluno_prof']]"
   ]
  },
  {
   "cell_type": "code",
   "execution_count": 29,
   "id": "liable-delicious",
   "metadata": {},
   "outputs": [
    {
     "data": {
      "text/plain": [
       "Text(0, 0.5, 'Conceito')"
      ]
     },
     "execution_count": 29,
     "metadata": {},
     "output_type": "execute_result"
    },
    {
     "data": {
      "image/png": "[encoded data removed]",
      "text/plain": [
       "<Figure size 432x288 with 1 Axes>"
      ]
     },
     "metadata": {
      "needs_background": "light"
     },
     "output_type": "display_data"
    }
   ],
   "source": [
    "plt.scatter(x.diferenca_idade,x.index,color='black')\n",
    "plt.xlabel('Diferença de idade entre professor e aluno',size=13)\n",
    "plt.ylabel('Conceito',size=13)"
   ]
  },
  {
   "cell_type": "code",
   "execution_count": 30,
   "id": "fiscal-wisconsin",
   "metadata": {},
   "outputs": [
    {
     "data": {
      "text/plain": [
       "Text(0, 0.5, 'Conceito')"
      ]
     },
     "execution_count": 30,
     "metadata": {},
     "output_type": "execute_result"
    },
    {
     "data": {
      "image/png": "[encoded data removed]",
      "text/plain": [
       "<Figure size 432x288 with 1 Axes>"
      ]
     },
     "metadata": {
      "needs_background": "light"
     },
     "output_type": "display_data"
    }
   ],
   "source": [
    "plt.scatter(x.razao_aluno_prof,x.index,color='black')\n",
    "plt.xlabel('Razão aluno/professor',size=13)\n",
    "plt.ylabel('Conceito',size=13)"
   ]
  },
  {
   "cell_type": "markdown",
   "id": "responsible-karen",
   "metadata": {},
   "source": [
    "# Teses e dissertaçoes"
   ]
  },
  {
   "cell_type": "code",
   "execution_count": 31,
   "id": "structured-manor",
   "metadata": {},
   "outputs": [],
   "source": [
    "x=df.groupby('CD_CONCEITO_PROGRAMA').mean()[['NR_PAGINAS','Lingua_estrangeira','IN_TRABALHO_MESMA_AREA'\n",
    "                                             ,'Quantidade_Trabalhos']]\n",
    "conceito=x.index\n",
    "paginas=x.NR_PAGINAS\n",
    "lingua=x.Lingua_estrangeira\n",
    "trabalho=x.IN_TRABALHO_MESMA_AREA\n",
    "quantidade=x.Quantidade_Trabalhos"
   ]
  },
  {
   "cell_type": "code",
   "execution_count": 32,
   "id": "outdoor-study",
   "metadata": {
    "scrolled": true
   },
   "outputs": [
    {
     "data": {
      "text/plain": [
       "Text(0, 0.5, 'Conceito')"
      ]
     },
     "execution_count": 32,
     "metadata": {},
     "output_type": "execute_result"
    },
    {
     "data": {
      "image/png": "[encoded data removed]",
      "text/plain": [
       "<Figure size 432x288 with 1 Axes>"
      ]
     },
     "metadata": {
      "needs_background": "light"
     },
     "output_type": "display_data"
    }
   ],
   "source": [
    "plt.scatter(paginas,conceito,color='black')\n",
    "plt.xlabel('No de páginas',size=13)\n",
    "plt.ylabel('Conceito',size=13)"
   ]
  },
  {
   "cell_type": "code",
   "execution_count": 33,
   "id": "solved-healthcare",
   "metadata": {},
   "outputs": [
    {
     "data": {
      "text/plain": [
       "Text(0, 0.5, 'Conceito')"
      ]
     },
     "execution_count": 33,
     "metadata": {},
     "output_type": "execute_result"
    },
    {
     "data": {
      "image/png": "[encoded data removed]",
      "text/plain": [
       "<Figure size 432x288 with 1 Axes>"
      ]
     },
     "metadata": {
      "needs_background": "light"
     },
     "output_type": "display_data"
    }
   ],
   "source": [
    "plt.scatter(lingua,conceito,color='black')\n",
    "plt.xlabel('Lingua estrangeira',size=13)\n",
    "plt.ylabel('Conceito',size=13)"
   ]
  },
  {
   "cell_type": "code",
   "execution_count": 34,
   "id": "roman-ratio",
   "metadata": {},
   "outputs": [
    {
     "data": {
      "text/plain": [
       "Text(0, 0.5, 'Conceito')"
      ]
     },
     "execution_count": 34,
     "metadata": {},
     "output_type": "execute_result"
    },
    {
     "data": {
      "image/png": "[encoded data removed]",
      "text/plain": [
       "<Figure size 432x288 with 1 Axes>"
      ]
     },
     "metadata": {
      "needs_background": "light"
     },
     "output_type": "display_data"
    }
   ],
   "source": [
    "plt.scatter(trabalho,conceito,color='black')\n",
    "plt.xlabel('Probabilidade de trabalhar na mesma área',size=13)\n",
    "plt.ylabel('Conceito',size=13)"
   ]
  },
  {
   "cell_type": "code",
   "execution_count": 35,
   "id": "piano-treasury",
   "metadata": {
    "scrolled": false
   },
   "outputs": [
    {
     "data": {
      "text/plain": [
       "Text(0, 0.5, 'Conceito')"
      ]
     },
     "execution_count": 35,
     "metadata": {},
     "output_type": "execute_result"
    },
    {
     "data": {
      "image/png": "[encoded data removed]",
      "text/plain": [
       "<Figure size 432x288 with 1 Axes>"
      ]
     },
     "metadata": {
      "needs_background": "light"
     },
     "output_type": "display_data"
    }
   ],
   "source": [
    "plt.scatter(quantidade,conceito,color='black')\n",
    "plt.xlabel('Quantidade de trabalhos',size=13)\n",
    "plt.ylabel('Conceito',size=13)"
   ]
  },
  {
   "cell_type": "markdown",
   "id": "small-marina",
   "metadata": {},
   "source": [
    "## Discentes e teses e dissertações"
   ]
  },
  {
   "cell_type": "code",
   "execution_count": 36,
   "id": "coastal-seeking",
   "metadata": {},
   "outputs": [],
   "source": [
    "def pagina_por_aluno(df):\n",
    "    L=[]\n",
    "    for i in range(len(df)):\n",
    "        L.append(df.NR_PAGINAS[i]/df.Quantidade_Docentes[i])\n",
    "    return L  "
   ]
  },
  {
   "cell_type": "code",
   "execution_count": 37,
   "id": "considerable-allocation",
   "metadata": {},
   "outputs": [],
   "source": [
    "df.insert(26,'pag_por_aluno',pagina_por_aluno(df),True)"
   ]
  },
  {
   "cell_type": "code",
   "execution_count": 38,
   "id": "disturbed-dimension",
   "metadata": {
    "scrolled": false
   },
   "outputs": [
    {
     "data": {
      "text/html": [
       "<div>\n",
       "<style scoped>\n",
       "    .dataframe tbody tr th:only-of-type {\n",
       "        vertical-align: middle;\n",
       "    }\n",
       "\n",
       "    .dataframe tbody tr th {\n",
       "        vertical-align: top;\n",
       "    }\n",
       "\n",
       "    .dataframe thead th {\n",
       "        text-align: right;\n",
       "    }\n",
       "</style>\n",
       "<table border=\"1\" class=\"dataframe\">\n",
       "  <thead>\n",
       "    <tr style=\"text-align: right;\">\n",
       "      <th></th>\n",
       "      <th>CD_CONCEITO_PROGRAMA</th>\n",
       "      <th>AN_BASE</th>\n",
       "      <th>ID_SUBTIPO_PRODUCAO</th>\n",
       "      <th>IN_TRABALHO_MESMA_AREA</th>\n",
       "      <th>NR_PAGINAS</th>\n",
       "      <th>Lingua_estrangeira</th>\n",
       "      <th>Quantidade_Trabalhos</th>\n",
       "      <th>Do_Homens</th>\n",
       "      <th>Do_Mulheres</th>\n",
       "      <th>Do_Brasileiros</th>\n",
       "      <th>...</th>\n",
       "      <th>Dis_Estrangeiros</th>\n",
       "      <th>diferenca_idade</th>\n",
       "      <th>razao_aluno_prof</th>\n",
       "      <th>Quantidade_Discentes</th>\n",
       "      <th>Dis_Prop_Homens</th>\n",
       "      <th>Dis_Aluno_Tempo</th>\n",
       "      <th>QT_MES_TITULACAO</th>\n",
       "      <th>CD_AREA_AVALIACAO</th>\n",
       "      <th>pag_por_aluno</th>\n",
       "      <th>AN_NASCIMENTO_DISCENTE</th>\n",
       "    </tr>\n",
       "  </thead>\n",
       "  <tbody>\n",
       "    <tr>\n",
       "      <th>0</th>\n",
       "      <td>1</td>\n",
       "      <td>2016.400000</td>\n",
       "      <td>9.933333</td>\n",
       "      <td>0.400000</td>\n",
       "      <td>91.856036</td>\n",
       "      <td>0.000000</td>\n",
       "      <td>12.933333</td>\n",
       "      <td>8.866667</td>\n",
       "      <td>7.733333</td>\n",
       "      <td>16.533333</td>\n",
       "      <td>...</td>\n",
       "      <td>0.000000</td>\n",
       "      <td>12.436163</td>\n",
       "      <td>1.997024</td>\n",
       "      <td>35.266667</td>\n",
       "      <td>0.386666</td>\n",
       "      <td>1.308465</td>\n",
       "      <td>26.403900</td>\n",
       "      <td>37.066667</td>\n",
       "      <td>6.884968</td>\n",
       "      <td>1980.309073</td>\n",
       "    </tr>\n",
       "    <tr>\n",
       "      <th>1</th>\n",
       "      <td>2</td>\n",
       "      <td>2016.863874</td>\n",
       "      <td>4.570681</td>\n",
       "      <td>0.675393</td>\n",
       "      <td>105.243541</td>\n",
       "      <td>0.120419</td>\n",
       "      <td>12.895288</td>\n",
       "      <td>11.314136</td>\n",
       "      <td>6.251309</td>\n",
       "      <td>17.282723</td>\n",
       "      <td>...</td>\n",
       "      <td>0.214660</td>\n",
       "      <td>16.187758</td>\n",
       "      <td>2.542592</td>\n",
       "      <td>39.900524</td>\n",
       "      <td>0.527719</td>\n",
       "      <td>1.348534</td>\n",
       "      <td>29.550355</td>\n",
       "      <td>21.643979</td>\n",
       "      <td>7.582920</td>\n",
       "      <td>1982.817463</td>\n",
       "    </tr>\n",
       "    <tr>\n",
       "      <th>2</th>\n",
       "      <td>3</td>\n",
       "      <td>2016.245333</td>\n",
       "      <td>3.669855</td>\n",
       "      <td>0.771952</td>\n",
       "      <td>110.314473</td>\n",
       "      <td>0.075478</td>\n",
       "      <td>13.986402</td>\n",
       "      <td>10.370131</td>\n",
       "      <td>7.563148</td>\n",
       "      <td>17.582277</td>\n",
       "      <td>...</td>\n",
       "      <td>0.323577</td>\n",
       "      <td>14.610056</td>\n",
       "      <td>3.078844</td>\n",
       "      <td>53.530537</td>\n",
       "      <td>0.455876</td>\n",
       "      <td>2.046062</td>\n",
       "      <td>26.333461</td>\n",
       "      <td>27.876930</td>\n",
       "      <td>6.885187</td>\n",
       "      <td>1983.168707</td>\n",
       "    </tr>\n",
       "    <tr>\n",
       "      <th>3</th>\n",
       "      <td>4</td>\n",
       "      <td>2016.178704</td>\n",
       "      <td>2.711307</td>\n",
       "      <td>0.812999</td>\n",
       "      <td>122.049082</td>\n",
       "      <td>0.257100</td>\n",
       "      <td>20.172854</td>\n",
       "      <td>13.230401</td>\n",
       "      <td>9.834698</td>\n",
       "      <td>22.463036</td>\n",
       "      <td>...</td>\n",
       "      <td>0.943410</td>\n",
       "      <td>16.563447</td>\n",
       "      <td>4.019242</td>\n",
       "      <td>88.043506</td>\n",
       "      <td>0.447259</td>\n",
       "      <td>2.924636</td>\n",
       "      <td>30.622909</td>\n",
       "      <td>26.800128</td>\n",
       "      <td>6.386393</td>\n",
       "      <td>1982.917857</td>\n",
       "    </tr>\n",
       "    <tr>\n",
       "      <th>4</th>\n",
       "      <td>5</td>\n",
       "      <td>2016.207307</td>\n",
       "      <td>2.204121</td>\n",
       "      <td>0.844095</td>\n",
       "      <td>132.304971</td>\n",
       "      <td>0.643585</td>\n",
       "      <td>28.215590</td>\n",
       "      <td>15.945837</td>\n",
       "      <td>12.025913</td>\n",
       "      <td>27.054376</td>\n",
       "      <td>...</td>\n",
       "      <td>2.049915</td>\n",
       "      <td>18.377629</td>\n",
       "      <td>4.796197</td>\n",
       "      <td>125.884027</td>\n",
       "      <td>0.433144</td>\n",
       "      <td>3.728516</td>\n",
       "      <td>34.833213</td>\n",
       "      <td>26.119159</td>\n",
       "      <td>5.915904</td>\n",
       "      <td>1983.117175</td>\n",
       "    </tr>\n",
       "    <tr>\n",
       "      <th>5</th>\n",
       "      <td>6</td>\n",
       "      <td>2016.111389</td>\n",
       "      <td>1.981518</td>\n",
       "      <td>0.857143</td>\n",
       "      <td>138.458461</td>\n",
       "      <td>1.250749</td>\n",
       "      <td>34.471528</td>\n",
       "      <td>19.234266</td>\n",
       "      <td>12.688312</td>\n",
       "      <td>30.749251</td>\n",
       "      <td>...</td>\n",
       "      <td>4.275724</td>\n",
       "      <td>20.145725</td>\n",
       "      <td>5.039157</td>\n",
       "      <td>156.167333</td>\n",
       "      <td>0.456707</td>\n",
       "      <td>4.295139</td>\n",
       "      <td>36.855484</td>\n",
       "      <td>23.114386</td>\n",
       "      <td>5.202878</td>\n",
       "      <td>1984.260092</td>\n",
       "    </tr>\n",
       "    <tr>\n",
       "      <th>6</th>\n",
       "      <td>7</td>\n",
       "      <td>2016.214912</td>\n",
       "      <td>1.992105</td>\n",
       "      <td>0.818421</td>\n",
       "      <td>133.648273</td>\n",
       "      <td>3.614035</td>\n",
       "      <td>38.506140</td>\n",
       "      <td>25.321930</td>\n",
       "      <td>14.335965</td>\n",
       "      <td>37.655263</td>\n",
       "      <td>...</td>\n",
       "      <td>7.623684</td>\n",
       "      <td>21.976771</td>\n",
       "      <td>5.032915</td>\n",
       "      <td>184.114035</td>\n",
       "      <td>0.502117</td>\n",
       "      <td>4.856393</td>\n",
       "      <td>38.535816</td>\n",
       "      <td>18.359649</td>\n",
       "      <td>4.239113</td>\n",
       "      <td>1985.632385</td>\n",
       "    </tr>\n",
       "  </tbody>\n",
       "</table>\n",
       "<p>7 rows × 26 columns</p>\n",
       "</div>"
      ],
      "text/plain": [
       "   CD_CONCEITO_PROGRAMA      AN_BASE  ID_SUBTIPO_PRODUCAO  \\\n",
       "0                     1  2016.400000             9.933333   \n",
       "1                     2  2016.863874             4.570681   \n",
       "2                     3  2016.245333             3.669855   \n",
       "3                     4  2016.178704             2.711307   \n",
       "4                     5  2016.207307             2.204121   \n",
       "5                     6  2016.111389             1.981518   \n",
       "6                     7  2016.214912             1.992105   \n",
       "\n",
       "   IN_TRABALHO_MESMA_AREA  NR_PAGINAS  Lingua_estrangeira  \\\n",
       "0                0.400000   91.856036            0.000000   \n",
       "1                0.675393  105.243541            0.120419   \n",
       "2                0.771952  110.314473            0.075478   \n",
       "3                0.812999  122.049082            0.257100   \n",
       "4                0.844095  132.304971            0.643585   \n",
       "5                0.857143  138.458461            1.250749   \n",
       "6                0.818421  133.648273            3.614035   \n",
       "\n",
       "   Quantidade_Trabalhos  Do_Homens  Do_Mulheres  Do_Brasileiros  ...  \\\n",
       "0             12.933333   8.866667     7.733333       16.533333  ...   \n",
       "1             12.895288  11.314136     6.251309       17.282723  ...   \n",
       "2             13.986402  10.370131     7.563148       17.582277  ...   \n",
       "3             20.172854  13.230401     9.834698       22.463036  ...   \n",
       "4             28.215590  15.945837    12.025913       27.054376  ...   \n",
       "5             34.471528  19.234266    12.688312       30.749251  ...   \n",
       "6             38.506140  25.321930    14.335965       37.655263  ...   \n",
       "\n",
       "   Dis_Estrangeiros  diferenca_idade  razao_aluno_prof  Quantidade_Discentes  \\\n",
       "0          0.000000        12.436163          1.997024             35.266667   \n",
       "1          0.214660        16.187758          2.542592             39.900524   \n",
       "2          0.323577        14.610056          3.078844             53.530537   \n",
       "3          0.943410        16.563447          4.019242             88.043506   \n",
       "4          2.049915        18.377629          4.796197            125.884027   \n",
       "5          4.275724        20.145725          5.039157            156.167333   \n",
       "6          7.623684        21.976771          5.032915            184.114035   \n",
       "\n",
       "   Dis_Prop_Homens  Dis_Aluno_Tempo  QT_MES_TITULACAO  CD_AREA_AVALIACAO  \\\n",
       "0         0.386666         1.308465         26.403900          37.066667   \n",
       "1         0.527719         1.348534         29.550355          21.643979   \n",
       "2         0.455876         2.046062         26.333461          27.876930   \n",
       "3         0.447259         2.924636         30.622909          26.800128   \n",
       "4         0.433144         3.728516         34.833213          26.119159   \n",
       "5         0.456707         4.295139         36.855484          23.114386   \n",
       "6         0.502117         4.856393         38.535816          18.359649   \n",
       "\n",
       "   pag_por_aluno  AN_NASCIMENTO_DISCENTE  \n",
       "0       6.884968             1980.309073  \n",
       "1       7.582920             1982.817463  \n",
       "2       6.885187             1983.168707  \n",
       "3       6.386393             1982.917857  \n",
       "4       5.915904             1983.117175  \n",
       "5       5.202878             1984.260092  \n",
       "6       4.239113             1985.632385  \n",
       "\n",
       "[7 rows x 26 columns]"
      ]
     },
     "execution_count": 38,
     "metadata": {},
     "output_type": "execute_result"
    }
   ],
   "source": [
    "df1=df.copy()\n",
    "df1=df1.groupby('CD_CONCEITO_PROGRAMA',as_index=False).mean()\n",
    "df1.head(8)"
   ]
  },
  {
   "cell_type": "code",
   "execution_count": 39,
   "id": "christian-stable",
   "metadata": {},
   "outputs": [],
   "source": [
    "#tirando as colunas nada a ver\n",
    "\n",
    "colunas=['CD_CONCEITO_PROGRAMA',\n",
    " 'IN_TRABALHO_MESMA_AREA',\n",
    " 'NR_PAGINAS',\n",
    " 'Lingua_estrangeira',\n",
    " 'Quantidade_Trabalhos',\n",
    " 'Do_Homens',\n",
    " 'Do_Mulheres',\n",
    " 'Do_Brasileiros',\n",
    " 'Do_Estrangeiros',\n",
    " 'Quantidade_Docentes',\n",
    " 'AN_NASCIMENTO_DOCENTE',\n",
    " 'Dis_Homens',\n",
    " 'Dis_Mulheres',\n",
    " 'Dis_Brasileiros',\n",
    " 'Dis_Estrangeiros',\n",
    " 'Quantidade_Discentes',\n",
    " 'diferenca_idade',\n",
    " 'razao_aluno_prof',\n",
    " 'Dis_Prop_Homens',\n",
    " 'Dis_Aluno_Tempo',\n",
    " 'QT_MES_TITULACAO',\n",
    " 'pag_por_aluno',\n",
    " 'AN_NASCIMENTO_DISCENTE']\n",
    "\n",
    "df1=df1[colunas]"
   ]
  },
  {
   "cell_type": "markdown",
   "id": "palestinian-entertainment",
   "metadata": {},
   "source": [
    "\n",
    "### **Isso é CORRELAÇÃO DE SPEARMAN, não de Pearson(r)**\n",
    "\n",
    "Para quem tiver a curiosidade: \n",
    "https://pt.wikipedia.org/wiki/Coeficiente_de_correla%C3%A7%C3%A3o_de_postos_de_Spearman\n",
    "\n",
    "\"Pearson's correlation r measures the linear component of association.\n",
    "Spearman's correlation uses ranks instead of the values. Roughly speaking, it measures \n",
    "the degree to which the two variables rise (or fall) together, regardless whether the relationship linear.\"\n"
   ]
  },
  {
   "cell_type": "code",
   "execution_count": 40,
   "id": "logical-spotlight",
   "metadata": {
    "scrolled": false
   },
   "outputs": [
    {
     "data": {
      "text/html": [
       "<style  type=\"text/css\" >\n",
       "#T_dbdd9_row0_col0,#T_dbdd9_row7_col0,#T_dbdd9_row8_col0,#T_dbdd9_row9_col0,#T_dbdd9_row11_col0,#T_dbdd9_row13_col0,#T_dbdd9_row14_col0,#T_dbdd9_row15_col0,#T_dbdd9_row19_col0{\n",
       "            background-color:  #800000;\n",
       "            color:  #f1f1f1;\n",
       "        }#T_dbdd9_row1_col0,#T_dbdd9_row6_col0,#T_dbdd9_row20_col0,#T_dbdd9_row22_col0{\n",
       "            background-color:  #9c0000;\n",
       "            color:  #f1f1f1;\n",
       "        }#T_dbdd9_row2_col0,#T_dbdd9_row3_col0,#T_dbdd9_row4_col0,#T_dbdd9_row5_col0,#T_dbdd9_row12_col0,#T_dbdd9_row16_col0,#T_dbdd9_row17_col0{\n",
       "            background-color:  #880000;\n",
       "            color:  #f1f1f1;\n",
       "        }#T_dbdd9_row10_col0,#T_dbdd9_row21_col0{\n",
       "            background-color:  #00004c;\n",
       "            color:  #f1f1f1;\n",
       "        }#T_dbdd9_row18_col0{\n",
       "            background-color:  #ff6d6d;\n",
       "            color:  #000000;\n",
       "        }</style><table id=\"T_dbdd9_\" ><thead>    <tr>        <th class=\"blank level0\" ></th>        <th class=\"col_heading level0 col0\" >CD_CONCEITO_PROGRAMA</th>    </tr></thead><tbody>\n",
       "                <tr>\n",
       "                        <th id=\"T_dbdd9_level0_row0\" class=\"row_heading level0 row0\" >CD_CONCEITO_PROGRAMA</th>\n",
       "                        <td id=\"T_dbdd9_row0_col0\" class=\"data row0 col0\" >1.0000</td>\n",
       "            </tr>\n",
       "            <tr>\n",
       "                        <th id=\"T_dbdd9_level0_row1\" class=\"row_heading level0 row1\" >IN_TRABALHO_MESMA_AREA</th>\n",
       "                        <td id=\"T_dbdd9_row1_col0\" class=\"data row1 col0\" >0.8929</td>\n",
       "            </tr>\n",
       "            <tr>\n",
       "                        <th id=\"T_dbdd9_level0_row2\" class=\"row_heading level0 row2\" >NR_PAGINAS</th>\n",
       "                        <td id=\"T_dbdd9_row2_col0\" class=\"data row2 col0\" >0.9643</td>\n",
       "            </tr>\n",
       "            <tr>\n",
       "                        <th id=\"T_dbdd9_level0_row3\" class=\"row_heading level0 row3\" >Lingua_estrangeira</th>\n",
       "                        <td id=\"T_dbdd9_row3_col0\" class=\"data row3 col0\" >0.9643</td>\n",
       "            </tr>\n",
       "            <tr>\n",
       "                        <th id=\"T_dbdd9_level0_row4\" class=\"row_heading level0 row4\" >Quantidade_Trabalhos</th>\n",
       "                        <td id=\"T_dbdd9_row4_col0\" class=\"data row4 col0\" >0.9643</td>\n",
       "            </tr>\n",
       "            <tr>\n",
       "                        <th id=\"T_dbdd9_level0_row5\" class=\"row_heading level0 row5\" >Do_Homens</th>\n",
       "                        <td id=\"T_dbdd9_row5_col0\" class=\"data row5 col0\" >0.9643</td>\n",
       "            </tr>\n",
       "            <tr>\n",
       "                        <th id=\"T_dbdd9_level0_row6\" class=\"row_heading level0 row6\" >Do_Mulheres</th>\n",
       "                        <td id=\"T_dbdd9_row6_col0\" class=\"data row6 col0\" >0.8929</td>\n",
       "            </tr>\n",
       "            <tr>\n",
       "                        <th id=\"T_dbdd9_level0_row7\" class=\"row_heading level0 row7\" >Do_Brasileiros</th>\n",
       "                        <td id=\"T_dbdd9_row7_col0\" class=\"data row7 col0\" >1.0000</td>\n",
       "            </tr>\n",
       "            <tr>\n",
       "                        <th id=\"T_dbdd9_level0_row8\" class=\"row_heading level0 row8\" >Do_Estrangeiros</th>\n",
       "                        <td id=\"T_dbdd9_row8_col0\" class=\"data row8 col0\" >1.0000</td>\n",
       "            </tr>\n",
       "            <tr>\n",
       "                        <th id=\"T_dbdd9_level0_row9\" class=\"row_heading level0 row9\" >Quantidade_Docentes</th>\n",
       "                        <td id=\"T_dbdd9_row9_col0\" class=\"data row9 col0\" >1.0000</td>\n",
       "            </tr>\n",
       "            <tr>\n",
       "                        <th id=\"T_dbdd9_level0_row10\" class=\"row_heading level0 row10\" >AN_NASCIMENTO_DOCENTE</th>\n",
       "                        <td id=\"T_dbdd9_row10_col0\" class=\"data row10 col0\" >-0.8929</td>\n",
       "            </tr>\n",
       "            <tr>\n",
       "                        <th id=\"T_dbdd9_level0_row11\" class=\"row_heading level0 row11\" >Dis_Homens</th>\n",
       "                        <td id=\"T_dbdd9_row11_col0\" class=\"data row11 col0\" >1.0000</td>\n",
       "            </tr>\n",
       "            <tr>\n",
       "                        <th id=\"T_dbdd9_level0_row12\" class=\"row_heading level0 row12\" >Dis_Mulheres</th>\n",
       "                        <td id=\"T_dbdd9_row12_col0\" class=\"data row12 col0\" >0.9643</td>\n",
       "            </tr>\n",
       "            <tr>\n",
       "                        <th id=\"T_dbdd9_level0_row13\" class=\"row_heading level0 row13\" >Dis_Brasileiros</th>\n",
       "                        <td id=\"T_dbdd9_row13_col0\" class=\"data row13 col0\" >1.0000</td>\n",
       "            </tr>\n",
       "            <tr>\n",
       "                        <th id=\"T_dbdd9_level0_row14\" class=\"row_heading level0 row14\" >Dis_Estrangeiros</th>\n",
       "                        <td id=\"T_dbdd9_row14_col0\" class=\"data row14 col0\" >1.0000</td>\n",
       "            </tr>\n",
       "            <tr>\n",
       "                        <th id=\"T_dbdd9_level0_row15\" class=\"row_heading level0 row15\" >Quantidade_Discentes</th>\n",
       "                        <td id=\"T_dbdd9_row15_col0\" class=\"data row15 col0\" >1.0000</td>\n",
       "            </tr>\n",
       "            <tr>\n",
       "                        <th id=\"T_dbdd9_level0_row16\" class=\"row_heading level0 row16\" >diferenca_idade</th>\n",
       "                        <td id=\"T_dbdd9_row16_col0\" class=\"data row16 col0\" >0.9643</td>\n",
       "            </tr>\n",
       "            <tr>\n",
       "                        <th id=\"T_dbdd9_level0_row17\" class=\"row_heading level0 row17\" >razao_aluno_prof</th>\n",
       "                        <td id=\"T_dbdd9_row17_col0\" class=\"data row17 col0\" >0.9643</td>\n",
       "            </tr>\n",
       "            <tr>\n",
       "                        <th id=\"T_dbdd9_level0_row18\" class=\"row_heading level0 row18\" >Dis_Prop_Homens</th>\n",
       "                        <td id=\"T_dbdd9_row18_col0\" class=\"data row18 col0\" >0.3214</td>\n",
       "            </tr>\n",
       "            <tr>\n",
       "                        <th id=\"T_dbdd9_level0_row19\" class=\"row_heading level0 row19\" >Dis_Aluno_Tempo</th>\n",
       "                        <td id=\"T_dbdd9_row19_col0\" class=\"data row19 col0\" >1.0000</td>\n",
       "            </tr>\n",
       "            <tr>\n",
       "                        <th id=\"T_dbdd9_level0_row20\" class=\"row_heading level0 row20\" >QT_MES_TITULACAO</th>\n",
       "                        <td id=\"T_dbdd9_row20_col0\" class=\"data row20 col0\" >0.8929</td>\n",
       "            </tr>\n",
       "            <tr>\n",
       "                        <th id=\"T_dbdd9_level0_row21\" class=\"row_heading level0 row21\" >pag_por_aluno</th>\n",
       "                        <td id=\"T_dbdd9_row21_col0\" class=\"data row21 col0\" >-0.8929</td>\n",
       "            </tr>\n",
       "            <tr>\n",
       "                        <th id=\"T_dbdd9_level0_row22\" class=\"row_heading level0 row22\" >AN_NASCIMENTO_DISCENTE</th>\n",
       "                        <td id=\"T_dbdd9_row22_col0\" class=\"data row22 col0\" >0.8929</td>\n",
       "            </tr>\n",
       "    </tbody></table>"
      ],
      "text/plain": [
       "<pandas.io.formats.style.Styler at 0x7f26b1901700>"
      ]
     },
     "execution_count": 40,
     "metadata": {},
     "output_type": "execute_result"
    }
   ],
   "source": [
    "corr = df1.corr(method='spearman')\n",
    "x=corr[['CD_CONCEITO_PROGRAMA']]\n",
    "x.style.background_gradient(cmap='seismic').set_precision(4)"
   ]
  },
  {
   "cell_type": "code",
   "execution_count": 51,
   "id": "upper-paradise",
   "metadata": {},
   "outputs": [
    {
     "ename": "FileNotFoundError",
     "evalue": "[Errno 2] No such file or directory: '/data/docentes_dicentes_teses.csv'",
     "output_type": "error",
     "traceback": [
      "\u001b[0;31m---------------------------------------------------------------------------\u001b[0m",
      "\u001b[0;31mFileNotFoundError\u001b[0m                         Traceback (most recent call last)",
      "\u001b[0;32m<ipython-input-51-de898b7ab284>\u001b[0m in \u001b[0;36m<module>\u001b[0;34m\u001b[0m\n\u001b[0;32m----> 1\u001b[0;31m \u001b[0mdf\u001b[0m\u001b[0;34m.\u001b[0m\u001b[0mto_csv\u001b[0m\u001b[0;34m(\u001b[0m\u001b[0;34m'/data/docentes_dicentes_teses.csv'\u001b[0m\u001b[0;34m)\u001b[0m\u001b[0;34m\u001b[0m\u001b[0;34m\u001b[0m\u001b[0m\n\u001b[0m",
      "\u001b[0;32m~/anaconda3/lib/python3.8/site-packages/pandas/core/generic.py\u001b[0m in \u001b[0;36mto_csv\u001b[0;34m(self, path_or_buf, sep, na_rep, float_format, columns, header, index, index_label, mode, encoding, compression, quoting, quotechar, line_terminator, chunksize, date_format, doublequote, escapechar, decimal, errors, storage_options)\u001b[0m\n\u001b[1;32m   3384\u001b[0m         )\n\u001b[1;32m   3385\u001b[0m \u001b[0;34m\u001b[0m\u001b[0m\n\u001b[0;32m-> 3386\u001b[0;31m         return DataFrameRenderer(formatter).to_csv(\n\u001b[0m\u001b[1;32m   3387\u001b[0m             \u001b[0mpath_or_buf\u001b[0m\u001b[0;34m,\u001b[0m\u001b[0;34m\u001b[0m\u001b[0;34m\u001b[0m\u001b[0m\n\u001b[1;32m   3388\u001b[0m             \u001b[0mline_terminator\u001b[0m\u001b[0;34m=\u001b[0m\u001b[0mline_terminator\u001b[0m\u001b[0;34m,\u001b[0m\u001b[0;34m\u001b[0m\u001b[0;34m\u001b[0m\u001b[0m\n",
      "\u001b[0;32m~/anaconda3/lib/python3.8/site-packages/pandas/io/formats/format.py\u001b[0m in \u001b[0;36mto_csv\u001b[0;34m(self, path_or_buf, encoding, sep, columns, index_label, mode, compression, quoting, quotechar, line_terminator, chunksize, date_format, doublequote, escapechar, errors, storage_options)\u001b[0m\n\u001b[1;32m   1081\u001b[0m             \u001b[0mformatter\u001b[0m\u001b[0;34m=\u001b[0m\u001b[0mself\u001b[0m\u001b[0;34m.\u001b[0m\u001b[0mfmt\u001b[0m\u001b[0;34m,\u001b[0m\u001b[0;34m\u001b[0m\u001b[0;34m\u001b[0m\u001b[0m\n\u001b[1;32m   1082\u001b[0m         )\n\u001b[0;32m-> 1083\u001b[0;31m         \u001b[0mcsv_formatter\u001b[0m\u001b[0;34m.\u001b[0m\u001b[0msave\u001b[0m\u001b[0;34m(\u001b[0m\u001b[0;34m)\u001b[0m\u001b[0;34m\u001b[0m\u001b[0;34m\u001b[0m\u001b[0m\n\u001b[0m\u001b[1;32m   1084\u001b[0m \u001b[0;34m\u001b[0m\u001b[0m\n\u001b[1;32m   1085\u001b[0m         \u001b[0;32mif\u001b[0m \u001b[0mcreated_buffer\u001b[0m\u001b[0;34m:\u001b[0m\u001b[0;34m\u001b[0m\u001b[0;34m\u001b[0m\u001b[0m\n",
      "\u001b[0;32m~/anaconda3/lib/python3.8/site-packages/pandas/io/formats/csvs.py\u001b[0m in \u001b[0;36msave\u001b[0;34m(self)\u001b[0m\n\u001b[1;32m    226\u001b[0m         \"\"\"\n\u001b[1;32m    227\u001b[0m         \u001b[0;31m# apply compression and byte/text conversion\u001b[0m\u001b[0;34m\u001b[0m\u001b[0;34m\u001b[0m\u001b[0;34m\u001b[0m\u001b[0m\n\u001b[0;32m--> 228\u001b[0;31m         with get_handle(\n\u001b[0m\u001b[1;32m    229\u001b[0m             \u001b[0mself\u001b[0m\u001b[0;34m.\u001b[0m\u001b[0mfilepath_or_buffer\u001b[0m\u001b[0;34m,\u001b[0m\u001b[0;34m\u001b[0m\u001b[0;34m\u001b[0m\u001b[0m\n\u001b[1;32m    230\u001b[0m             \u001b[0mself\u001b[0m\u001b[0;34m.\u001b[0m\u001b[0mmode\u001b[0m\u001b[0;34m,\u001b[0m\u001b[0;34m\u001b[0m\u001b[0;34m\u001b[0m\u001b[0m\n",
      "\u001b[0;32m~/anaconda3/lib/python3.8/site-packages/pandas/io/common.py\u001b[0m in \u001b[0;36mget_handle\u001b[0;34m(path_or_buf, mode, encoding, compression, memory_map, is_text, errors, storage_options)\u001b[0m\n\u001b[1;32m    640\u001b[0m                 \u001b[0merrors\u001b[0m \u001b[0;34m=\u001b[0m \u001b[0;34m\"replace\"\u001b[0m\u001b[0;34m\u001b[0m\u001b[0;34m\u001b[0m\u001b[0m\n\u001b[1;32m    641\u001b[0m             \u001b[0;31m# Encoding\u001b[0m\u001b[0;34m\u001b[0m\u001b[0;34m\u001b[0m\u001b[0;34m\u001b[0m\u001b[0m\n\u001b[0;32m--> 642\u001b[0;31m             handle = open(\n\u001b[0m\u001b[1;32m    643\u001b[0m                 \u001b[0mhandle\u001b[0m\u001b[0;34m,\u001b[0m\u001b[0;34m\u001b[0m\u001b[0;34m\u001b[0m\u001b[0m\n\u001b[1;32m    644\u001b[0m                 \u001b[0mioargs\u001b[0m\u001b[0;34m.\u001b[0m\u001b[0mmode\u001b[0m\u001b[0;34m,\u001b[0m\u001b[0;34m\u001b[0m\u001b[0;34m\u001b[0m\u001b[0m\n",
      "\u001b[0;31mFileNotFoundError\u001b[0m: [Errno 2] No such file or directory: '/data/docentes_dicentes_teses.csv'"
     ]
    }
   ],
   "source": [
    "df.to_csv('/data/docentes_dicentes_teses.csv')"
   ]
  },
  {
   "cell_type": "code",
   "execution_count": null,
   "id": "mental-shepherd",
   "metadata": {},
   "outputs": [],
   "source": []
  }
 ],
 "metadata": {
  "kernelspec": {
   "display_name": "Python 3",
   "language": "python",
   "name": "python3"
  },
  "language_info": {
   "codemirror_mode": {
    "name": "ipython",
    "version": 3
   },
   "file_extension": ".py",
   "mimetype": "text/x-python",
   "name": "python",
   "nbconvert_exporter": "python",
   "pygments_lexer": "ipython3",
   "version": "3.8.5"
  },
  "varInspector": {
   "cols": {
    "lenName": 16,
    "lenType": 16,
    "lenVar": 40
   },
   "kernels_config": {
    "python": {
     "delete_cmd_postfix": "",
     "delete_cmd_prefix": "del ",
     "library": "var_list.py",
     "varRefreshCmd": "print(var_dic_list())"
    },
    "r": {
     "delete_cmd_postfix": ") ",
     "delete_cmd_prefix": "rm(",
     "library": "var_list.r",
     "varRefreshCmd": "cat(var_dic_list()) "
    }
   },
   "types_to_exclude": [
    "module",
    "function",
    "builtin_function_or_method",
    "instance",
    "_Feature"
   ],
   "window_display": false
  }
 },
 "nbformat": 4,
 "nbformat_minor": 5
}
