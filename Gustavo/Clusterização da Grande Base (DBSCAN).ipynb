{
 "cells": [
  {
   "cell_type": "code",
   "execution_count": 1,
   "id": "407011b5",
   "metadata": {},
   "outputs": [],
   "source": [
    "import pandas as pd\n",
    "import numpy as np\n",
    "import matplotlib.pyplot as plt\n",
    "from sklearn.cluster import DBSCAN\n",
    "from sklearn.preprocessing import StandardScaler"
   ]
  },
  {
   "cell_type": "code",
   "execution_count": 2,
   "id": "dfe56749",
   "metadata": {},
   "outputs": [],
   "source": [
    "#Gustavo/data/Para_juntar\n",
    "\n",
    "df=pd.read_csv('data/Para_juntar/Grande Base2.csv',encoding='latin1')"
   ]
  },
  {
   "cell_type": "code",
   "execution_count": 3,
   "id": "20462dad",
   "metadata": {},
   "outputs": [
    {
     "name": "stdout",
     "output_type": "stream",
     "text": [
      "20250\n",
      "18902\n"
     ]
    }
   ],
   "source": [
    "#tirando os valores nulos\n",
    "\n",
    "print(len(df))\n",
    "df=df.dropna()\n",
    "print(len(df))"
   ]
  },
  {
   "cell_type": "markdown",
   "id": "05bd3e6c",
   "metadata": {},
   "source": [
    "# Clusterização"
   ]
  },
  {
   "cell_type": "code",
   "execution_count": 4,
   "id": "7a998e11",
   "metadata": {},
   "outputs": [],
   "source": [
    "x=df.iloc[:,np.r_[4:24,25:29,36:47,48,51,52,54:6]]\n",
    "y=df.iloc[:,3]"
   ]
  },
  {
   "cell_type": "code",
   "execution_count": 5,
   "id": "5ccb0338",
   "metadata": {},
   "outputs": [],
   "source": [
    "#botando em escala\n",
    "\n",
    "scaler = StandardScaler().fit(x)\n",
    "x=scaler.transform(x)"
   ]
  },
  {
   "cell_type": "code",
   "execution_count": null,
   "id": "7fc4fc5a",
   "metadata": {},
   "outputs": [],
   "source": [
    "clustering=DBSCAN(eps=5,min_samples=8).fit(x)\n",
    "clusters=clustering.labels_\n",
    "print(\"Número de clusters =\",len(set(clusters)))"
   ]
  },
  {
   "cell_type": "code",
   "execution_count": 9,
   "id": "80d6f1ca",
   "metadata": {},
   "outputs": [
    {
     "ename": "ValueError",
     "evalue": "",
     "output_type": "error",
     "traceback": [
      "\u001b[0;31m---------------------------------------------------------------------------\u001b[0m",
      "\u001b[0;31mValueError\u001b[0m                                Traceback (most recent call last)",
      "\u001b[0;32m<ipython-input-9-064f0d36760f>\u001b[0m in \u001b[0;36m<module>\u001b[0;34m\u001b[0m\n\u001b[1;32m     10\u001b[0m         \u001b[0mcluster1\u001b[0m\u001b[0;34m+=\u001b[0m\u001b[0;36m1\u001b[0m\u001b[0;34m\u001b[0m\u001b[0;34m\u001b[0m\u001b[0m\n\u001b[1;32m     11\u001b[0m     \u001b[0;32melse\u001b[0m\u001b[0;34m:\u001b[0m\u001b[0;34m\u001b[0m\u001b[0;34m\u001b[0m\u001b[0m\n\u001b[0;32m---> 12\u001b[0;31m         \u001b[0;32mraise\u001b[0m \u001b[0mValueError\u001b[0m\u001b[0;34m\u001b[0m\u001b[0;34m\u001b[0m\u001b[0m\n\u001b[0m\u001b[1;32m     13\u001b[0m \u001b[0;34m\u001b[0m\u001b[0m\n\u001b[1;32m     14\u001b[0m \u001b[0mprint\u001b[0m\u001b[0;34m(\u001b[0m\u001b[0;34m'Outliers ='\u001b[0m\u001b[0;34m,\u001b[0m \u001b[0moutlier\u001b[0m\u001b[0;34m)\u001b[0m\u001b[0;34m\u001b[0m\u001b[0;34m\u001b[0m\u001b[0m\n",
      "\u001b[0;31mValueError\u001b[0m: "
     ]
    }
   ],
   "source": [
    "outlier=0\n",
    "cluster0=0\n",
    "cluster1=0\n",
    "for i in (clusters):\n",
    "    if i==-1:\n",
    "        outlier+=1\n",
    "    elif i==0:\n",
    "        cluster0+=1\n",
    "    elif i==1:\n",
    "        cluster1+=1\n",
    "    else:\n",
    "        raise ValueError\n",
    "\n",
    "print('Outliers =', outlier)\n",
    "print(\"Cluster 0 \", cluster0)\n",
    "print('Cluster 1=',cluster1)"
   ]
  },
  {
   "cell_type": "code",
   "execution_count": null,
   "id": "30b89a04",
   "metadata": {},
   "outputs": [],
   "source": []
  }
 ],
 "metadata": {
  "kernelspec": {
   "display_name": "Python 3",
   "language": "python",
   "name": "python3"
  },
  "language_info": {
   "codemirror_mode": {
    "name": "ipython",
    "version": 3
   },
   "file_extension": ".py",
   "mimetype": "text/x-python",
   "name": "python",
   "nbconvert_exporter": "python",
   "pygments_lexer": "ipython3",
   "version": "3.8.5"
  },
  "varInspector": {
   "cols": {
    "lenName": 16,
    "lenType": 16,
    "lenVar": 40
   },
   "kernels_config": {
    "python": {
     "delete_cmd_postfix": "",
     "delete_cmd_prefix": "del ",
     "library": "var_list.py",
     "varRefreshCmd": "print(var_dic_list())"
    },
    "r": {
     "delete_cmd_postfix": ") ",
     "delete_cmd_prefix": "rm(",
     "library": "var_list.r",
     "varRefreshCmd": "cat(var_dic_list()) "
    }
   },
   "types_to_exclude": [
    "module",
    "function",
    "builtin_function_or_method",
    "instance",
    "_Feature"
   ],
   "window_display": false
  }
 },
 "nbformat": 4,
 "nbformat_minor": 5
}
