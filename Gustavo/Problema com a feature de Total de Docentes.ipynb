{
 "cells": [
  {
   "cell_type": "code",
   "execution_count": 1,
   "id": "ccaf3b8d",
   "metadata": {},
   "outputs": [],
   "source": [
    "import pandas as pd\n",
    "import numpy as np\n",
    "import matplotlib.pyplot as plt\n",
    "import scipy.stats as stats\n",
    "from math import log10"
   ]
  },
  {
   "cell_type": "code",
   "execution_count": 2,
   "id": "8171ba52",
   "metadata": {},
   "outputs": [],
   "source": [
    "#Gustavo/data/Para_juntar\n",
    "\n",
    "df=pd.read_csv('data/Para_juntar/Grande Base.csv',encoding='latin1')"
   ]
  },
  {
   "cell_type": "markdown",
   "id": "9cdd4fb5",
   "metadata": {},
   "source": [
    "# Analisando os valores de docentes"
   ]
  },
  {
   "cell_type": "code",
   "execution_count": 3,
   "id": "5bfa3186",
   "metadata": {},
   "outputs": [],
   "source": [
    "docentes=df['IB_Total_docentes'].values"
   ]
  },
  {
   "cell_type": "code",
   "execution_count": 4,
   "id": "529b7cf3",
   "metadata": {},
   "outputs": [
    {
     "data": {
      "text/plain": [
       "(0.0, 100.0)"
      ]
     },
     "execution_count": 4,
     "metadata": {},
     "output_type": "execute_result"
    },
    {
     "data": {
      "image/png": "[encoded data removed]",
      "text/plain": [
       "<Figure size 432x288 with 2 Axes>"
      ]
     },
     "metadata": {
      "needs_background": "light"
     },
     "output_type": "display_data"
    }
   ],
   "source": [
    "fig, (ax1, ax2) = plt.subplots(1, 2)\n",
    "fig.subplots_adjust(wspace=0.5)\n",
    "fig.suptitle('Histograma do nº de docentes')\n",
    "ax1.hist(docentes, bins=int(len(docentes)**0.5),color='black');\n",
    "ax2.hist(docentes, bins=int(len(docentes)**0.5),color='black');\n",
    "plt.xlim(0,100)"
   ]
  },
  {
   "cell_type": "code",
   "execution_count": 5,
   "id": "0ae07389",
   "metadata": {},
   "outputs": [
    {
     "name": "stdout",
     "output_type": "stream",
     "text": [
      "Média = 23.86074074074074\n",
      "Desvio-padrão = 28.72958528271012\n"
     ]
    }
   ],
   "source": [
    "media=stats.tmean(docentes)\n",
    "desvp=stats.tstd(docentes)\n",
    "print('Média =',media)\n",
    "print('Desvio-padrão =',desvp)"
   ]
  },
  {
   "cell_type": "markdown",
   "id": "2607983b",
   "metadata": {},
   "source": [
    "## Usando o critério média + 3*desvp para tirar outliers"
   ]
  },
  {
   "cell_type": "code",
   "execution_count": 6,
   "id": "879f5565",
   "metadata": {},
   "outputs": [],
   "source": [
    "docentes1=[i for i in docentes if i <=media+3*desvp]"
   ]
  },
  {
   "cell_type": "code",
   "execution_count": 7,
   "id": "ebb5719b",
   "metadata": {},
   "outputs": [
    {
     "name": "stdout",
     "output_type": "stream",
     "text": [
      "Tamanho antes de limpar: 20250\n",
      "Tamanho depois de limpar: 20141\n"
     ]
    }
   ],
   "source": [
    "print('Tamanho antes de limpar:',len(docentes))\n",
    "print('Tamanho depois de limpar:',len(docentes1))"
   ]
  },
  {
   "cell_type": "code",
   "execution_count": 8,
   "id": "dce3e743",
   "metadata": {},
   "outputs": [
    {
     "name": "stdout",
     "output_type": "stream",
     "text": [
      "Máximo antes de limpar: 1378\n",
      "Máximo depois de limpar: 108\n"
     ]
    }
   ],
   "source": [
    "print('Máximo antes de limpar:',max(docentes))\n",
    "print('Máximo depois de limpar:',max(docentes1))"
   ]
  },
  {
   "cell_type": "code",
   "execution_count": 9,
   "id": "732199d5",
   "metadata": {},
   "outputs": [
    {
     "data": {
      "image/png": "[encoded data removed]",
      "text/plain": [
       "<Figure size 432x288 with 1 Axes>"
      ]
     },
     "metadata": {
      "needs_background": "light"
     },
     "output_type": "display_data"
    }
   ],
   "source": [
    "plt.hist(docentes1, bins=int(len(docentes1)**0.5),color='black')\n",
    "plt.title('Histograma do nº de docentes depois de limpar');"
   ]
  },
  {
   "cell_type": "code",
   "execution_count": null,
   "id": "5dd134db",
   "metadata": {},
   "outputs": [],
   "source": [
    "help(help)"
   ]
  },
  {
   "cell_type": "markdown",
   "id": "2cf7115e",
   "metadata": {},
   "source": [
    "# Limpando a base de dados e salvando"
   ]
  },
  {
   "cell_type": "code",
   "execution_count": 10,
   "id": "33b6f67b",
   "metadata": {},
   "outputs": [],
   "source": [
    "df1=df[df['IB_Total_docentes']<=media+3*desvp]"
   ]
  },
  {
   "cell_type": "code",
   "execution_count": 11,
   "id": "50a84b1c",
   "metadata": {},
   "outputs": [],
   "source": [
    "#df1.to_csv('data/Para_juntar/Grande Base 2.csv',encoding='latin1',index=False)"
   ]
  }
 ],
 "metadata": {
  "kernelspec": {
   "display_name": "Python 3",
   "language": "python",
   "name": "python3"
  },
  "language_info": {
   "codemirror_mode": {
    "name": "ipython",
    "version": 3
   },
   "file_extension": ".py",
   "mimetype": "text/x-python",
   "name": "python",
   "nbconvert_exporter": "python",
   "pygments_lexer": "ipython3",
   "version": "3.8.5"
  },
  "varInspector": {
   "cols": {
    "lenName": 16,
    "lenType": 16,
    "lenVar": 40
   },
   "kernels_config": {
    "python": {
     "delete_cmd_postfix": "",
     "delete_cmd_prefix": "del ",
     "library": "var_list.py",
     "varRefreshCmd": "print(var_dic_list())"
    },
    "r": {
     "delete_cmd_postfix": ") ",
     "delete_cmd_prefix": "rm(",
     "library": "var_list.r",
     "varRefreshCmd": "cat(var_dic_list()) "
    }
   },
   "types_to_exclude": [
    "module",
    "function",
    "builtin_function_or_method",
    "instance",
    "_Feature"
   ],
   "window_display": false
  }
 },
 "nbformat": 4,
 "nbformat_minor": 5
}
