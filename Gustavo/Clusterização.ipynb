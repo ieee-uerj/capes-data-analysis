{
 "cells": [
  {
   "cell_type": "markdown",
   "id": "alleged-matrix",
   "metadata": {},
   "source": [
    "# Importando as bibliotecas e o dataset"
   ]
  },
  {
   "cell_type": "code",
   "execution_count": 1,
   "id": "nutritional-acceptance",
   "metadata": {},
   "outputs": [],
   "source": [
    "import pandas as pd\n",
    "import numpy as np\n",
    "import seaborn as sns\n",
    "import matplotlib.pyplot as plt\n",
    "from sklearn.cluster import KMeans\n",
    "from sklearn.preprocessing import StandardScaler"
   ]
  },
  {
   "cell_type": "code",
   "execution_count": 2,
   "id": "liable-spice",
   "metadata": {},
   "outputs": [],
   "source": [
    "df=pd.read_csv('data/Para_juntar/juntar-Docentes_Cursos_features2013-2019.csv',encoding='latin1')"
   ]
  },
  {
   "cell_type": "code",
   "execution_count": 3,
   "id": "sufficient-antenna",
   "metadata": {},
   "outputs": [
    {
     "name": "stdout",
     "output_type": "stream",
     "text": [
      "<class 'pandas.core.frame.DataFrame'>\n",
      "RangeIndex: 28474 entries, 0 to 28473\n",
      "Data columns (total 23 columns):\n",
      " #   Column                       Non-Null Count  Dtype  \n",
      "---  ------                       --------------  -----  \n",
      " 0   CD_PROGRAMA_IES              28474 non-null  object \n",
      " 1   AN_BASE                      28474 non-null  int64  \n",
      " 2   CD_AREA_AVALIACAO            28474 non-null  int64  \n",
      " 3   CONCEITO_PROGRAMA            28474 non-null  int64  \n",
      " 4   IB_Total_docentes            28474 non-null  int64  \n",
      " 5   IB_Mulheres                  28474 non-null  int64  \n",
      " 6   IB_Homens                    28474 non-null  int64  \n",
      " 7   IB_Brasileiros               28474 non-null  int64  \n",
      " 8   IB_Estrangeiros              28474 non-null  int64  \n",
      " 9   IB_QTDE_Regime_Parcial       28474 non-null  int64  \n",
      " 10  IB_QTDE_Regime_Integral      28474 non-null  int64  \n",
      " 11  IB_QTDE_Regime_Exclusivo     28474 non-null  int64  \n",
      " 12  IB_QTDE_Prof_Doutor          28474 non-null  int64  \n",
      " 13  IB_QTDE_Prof_NaoDoutor       28474 non-null  int64  \n",
      " 14  IB_QTDE_titulados_Brasil     28474 non-null  int64  \n",
      " 15  IB_QTDE_titulados_Exterior   28474 non-null  int64  \n",
      " 16  IB_Profs_Colaboradores       28474 non-null  int64  \n",
      " 17  IB_Profs_ServidoresPublicos  28474 non-null  int64  \n",
      " 18  IB_Profs_VinculoCLT          28474 non-null  int64  \n",
      " 19  IB_Profs_Aposentados         28474 non-null  int64  \n",
      " 20  IB_Profs_BolsaDeFixacao      28474 non-null  int64  \n",
      " 21  IB_Total_cursos              28474 non-null  int64  \n",
      " 22  MEDIA_CONCEITO_CURSO         28474 non-null  float64\n",
      "dtypes: float64(1), int64(21), object(1)\n",
      "memory usage: 5.0+ MB\n"
     ]
    }
   ],
   "source": [
    "df.info()"
   ]
  },
  {
   "cell_type": "code",
   "execution_count": 4,
   "id": "diagnostic-geometry",
   "metadata": {
    "scrolled": true
   },
   "outputs": [
    {
     "name": "stdout",
     "output_type": "stream",
     "text": [
      "28474\n",
      "28474\n"
     ]
    }
   ],
   "source": [
    "print(len(df))\n",
    "df=df.dropna()\n",
    "print(len(df))"
   ]
  },
  {
   "cell_type": "markdown",
   "id": "fixed-grocery",
   "metadata": {},
   "source": [
    "# Fazendo a clusterização"
   ]
  },
  {
   "cell_type": "code",
   "execution_count": 6,
   "id": "anonymous-immunology",
   "metadata": {},
   "outputs": [],
   "source": [
    "x=df.iloc[:,2:23]\n",
    "y=df.iloc[:,0]"
   ]
  },
  {
   "cell_type": "code",
   "execution_count": 7,
   "id": "political-plate",
   "metadata": {},
   "outputs": [],
   "source": [
    "scaler = StandardScaler().fit(x)\n",
    "x=scaler.transform(x)"
   ]
  },
  {
   "cell_type": "code",
   "execution_count": null,
   "id": "fcd0d06c",
   "metadata": {},
   "outputs": [
    {
     "name": "stdout",
     "output_type": "stream",
     "text": [
      "1 597954\n",
      "2 452156\n",
      "3 382851\n",
      "4 342688\n",
      "5 304354\n",
      "6 288521\n",
      "7 269227\n",
      "8 255007\n"
     ]
    }
   ],
   "source": [
    "#boilerplate daqui: https://minerandodados.com.br/algoritmo-k-means-python-passo-passo/\n",
    "wcss = []\n",
    "for i in range(1, 11):\n",
    "    kmeans = KMeans(n_clusters = i, init = 'random')\n",
    "    kmeans.fit(x)\n",
    "    print (i,round(kmeans.inertia_))\n",
    "    wcss.append(kmeans.inertia_)\n",
    "plt.plot(range(1, 11), wcss,color='black')\n",
    "plt.title('O Metodo Elbow')\n",
    "plt.xlabel('Numero de Clusters')\n",
    "plt.ylabel('WSS') #within cluster sum of squares\n",
    "plt.xticks([1,2,3,4,5,6,7,8,9,10]);"
   ]
  },
  {
   "cell_type": "code",
   "execution_count": null,
   "id": "eastern-reduction",
   "metadata": {},
   "outputs": [],
   "source": [
    "#fazendo a clusterização em si\n",
    "km=KMeans(n_clusters=4)\n",
    "pred=km.fit_predict(x)\n",
    "df['Cluster']=pred"
   ]
  },
  {
   "cell_type": "code",
   "execution_count": null,
   "id": "indian-charger",
   "metadata": {},
   "outputs": [],
   "source": [
    "#df.to_csv('Bases_clusterizadas.csv',encoding='latin1',index=False)"
   ]
  }
 ],
 "metadata": {
  "kernelspec": {
   "display_name": "Python 3",
   "language": "python",
   "name": "python3"
  },
  "language_info": {
   "codemirror_mode": {
    "name": "ipython",
    "version": 3
   },
   "file_extension": ".py",
   "mimetype": "text/x-python",
   "name": "python",
   "nbconvert_exporter": "python",
   "pygments_lexer": "ipython3",
   "version": "3.8.5"
  },
  "varInspector": {
   "cols": {
    "lenName": 16,
    "lenType": 16,
    "lenVar": 40
   },
   "kernels_config": {
    "python": {
     "delete_cmd_postfix": "",
     "delete_cmd_prefix": "del ",
     "library": "var_list.py",
     "varRefreshCmd": "print(var_dic_list())"
    },
    "r": {
     "delete_cmd_postfix": ") ",
     "delete_cmd_prefix": "rm(",
     "library": "var_list.r",
     "varRefreshCmd": "cat(var_dic_list()) "
    }
   },
   "types_to_exclude": [
    "module",
    "function",
    "builtin_function_or_method",
    "instance",
    "_Feature"
   ],
   "window_display": false
  }
 },
 "nbformat": 4,
 "nbformat_minor": 5
}
