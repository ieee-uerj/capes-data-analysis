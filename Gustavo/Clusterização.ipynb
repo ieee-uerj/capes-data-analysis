{
 "cells": [
  {
   "cell_type": "markdown",
   "id": "alleged-matrix",
   "metadata": {},
   "source": [
    "# Importando as bibliotecas e o dataset"
   ]
  },
  {
   "cell_type": "code",
   "execution_count": 1,
   "id": "nutritional-acceptance",
   "metadata": {},
   "outputs": [],
   "source": [
    "import pandas as pd\n",
    "import numpy as np\n",
    "import seaborn as sns\n",
    "import matplotlib.pyplot as plt\n",
    "from sklearn.cluster import KMeans\n",
    "from sklearn.preprocessing import StandardScaler"
   ]
  },
  {
   "cell_type": "code",
   "execution_count": 2,
   "id": "liable-spice",
   "metadata": {},
   "outputs": [],
   "source": [
    "df=pd.read_csv('data/docentes_dicentes_teses.csv',encoding='latin1')"
   ]
  },
  {
   "cell_type": "code",
   "execution_count": 36,
   "id": "sufficient-antenna",
   "metadata": {},
   "outputs": [
    {
     "name": "stdout",
     "output_type": "stream",
     "text": [
      "<class 'pandas.core.frame.DataFrame'>\n",
      "Int64Index: 24299 entries, 1 to 26134\n",
      "Data columns (total 33 columns):\n",
      " #   Column                  Non-Null Count  Dtype  \n",
      "---  ------                  --------------  -----  \n",
      " 0   CD_PROGRAMA_IES         24299 non-null  object \n",
      " 1   AN_BASE                 24299 non-null  float64\n",
      " 2   ID_SUBTIPO_PRODUCAO     24299 non-null  float64\n",
      " 3   NM_SUBTIPO_PRODUCAO     24299 non-null  object \n",
      " 4   IN_TRABALHO_MESMA_AREA  24299 non-null  float64\n",
      " 5   NR_PAGINAS              24299 non-null  float64\n",
      " 6   Lingua_estrangeira      24299 non-null  int64  \n",
      " 7   Quantidade_Trabalhos    24299 non-null  int64  \n",
      " 8   Do_Homens               24299 non-null  int64  \n",
      " 9   Do_Mulheres             24299 non-null  int64  \n",
      " 10  Do_Brasileiros          24299 non-null  int64  \n",
      " 11  Do_Estrangeiros         24299 non-null  int64  \n",
      " 12  Quantidade_Docentes     24299 non-null  int64  \n",
      " 13  AN_NASCIMENTO_DOCENTE   24299 non-null  float64\n",
      " 14  SG_ENTIDADE_ENSINO      24299 non-null  object \n",
      " 15  Dis_Homens              24299 non-null  int64  \n",
      " 16  Dis_Mulheres            24299 non-null  int64  \n",
      " 17  Dis_Brasileiros         24299 non-null  int64  \n",
      " 18  Dis_Estrangeiros        24299 non-null  int64  \n",
      " 19  diferenca_idade         24299 non-null  float64\n",
      " 20  razao_aluno_prof        24299 non-null  float64\n",
      " 21  Quantidade_Discentes    24299 non-null  int64  \n",
      " 22  Dis_Prop_Homens         24299 non-null  float64\n",
      " 23  Dis_Aluno_Tempo         24299 non-null  float64\n",
      " 24  QT_MES_TITULACAO        24299 non-null  float64\n",
      " 25  CD_AREA_AVALIACAO       24299 non-null  int64  \n",
      " 26  pag_por_aluno           24299 non-null  float64\n",
      " 27  CS_STATUS_JURIDICO      24299 non-null  object \n",
      " 28  AN_NASCIMENTO_DISCENTE  24299 non-null  float64\n",
      " 29  NM_REGIAO               24299 non-null  object \n",
      " 30  SG_UF_PROGRAMA          24299 non-null  object \n",
      " 31  CD_CONCEITO_PROGRAMA    24299 non-null  int64  \n",
      " 32  Cluster                 24299 non-null  int32  \n",
      "dtypes: float64(12), int32(1), int64(14), object(6)\n",
      "memory usage: 6.2+ MB\n"
     ]
    }
   ],
   "source": [
    "df.info()"
   ]
  },
  {
   "cell_type": "code",
   "execution_count": 4,
   "id": "diagnostic-geometry",
   "metadata": {
    "scrolled": true
   },
   "outputs": [
    {
     "name": "stdout",
     "output_type": "stream",
     "text": [
      "26135\n",
      "24299\n"
     ]
    }
   ],
   "source": [
    "print(len(df))\n",
    "df=df.dropna()\n",
    "print(len(df))"
   ]
  },
  {
   "cell_type": "markdown",
   "id": "fixed-grocery",
   "metadata": {},
   "source": [
    "# Fazendo a clusterização"
   ]
  },
  {
   "cell_type": "code",
   "execution_count": 5,
   "id": "anonymous-immunology",
   "metadata": {},
   "outputs": [],
   "source": [
    "x=df.iloc[:,np.r_[4:14,15:25,26,28]]\n",
    "y=df.iloc[:,31]"
   ]
  },
  {
   "cell_type": "code",
   "execution_count": 6,
   "id": "political-plate",
   "metadata": {},
   "outputs": [],
   "source": [
    "scaler = StandardScaler().fit(x)\n",
    "x=scaler.transform(x)"
   ]
  },
  {
   "cell_type": "raw",
   "id": "lined-camel",
   "metadata": {},
   "source": [
    "#boilerplate daqui: https://minerandodados.com.br/algoritmo-k-means-python-passo-passo/\n",
    "wcss = []\n",
    "for i in range(1, 11):\n",
    "    kmeans = KMeans(n_clusters = i, init = 'random')\n",
    "    kmeans.fit(x)\n",
    "    print (i,round(kmeans.inertia_))\n",
    "    wcss.append(kmeans.inertia_)\n",
    "plt.plot(range(1, 11), wcss,color='black')\n",
    "plt.title('O Metodo Elbow')\n",
    "plt.xlabel('Numero de Clusters')\n",
    "plt.ylabel('WSS') #within cluster sum of squares\n",
    "plt.xticks([1,2,3,4,5,6,7,8,9,10]);"
   ]
  },
  {
   "cell_type": "code",
   "execution_count": 8,
   "id": "eastern-reduction",
   "metadata": {},
   "outputs": [],
   "source": [
    "#fazendo a clusterização em si\n",
    "km=KMeans(n_clusters=4)\n",
    "pred=km.fit_predict(x)\n",
    "df['Cluster']=pred"
   ]
  },
  {
   "cell_type": "code",
   "execution_count": 81,
   "id": "indian-charger",
   "metadata": {},
   "outputs": [],
   "source": [
    "#df.to_csv('Bases_clusterizadas.csv',encoding='latin1',index=False)"
   ]
  }
 ],
 "metadata": {
  "kernelspec": {
   "display_name": "Python 3",
   "language": "python",
   "name": "python3"
  },
  "language_info": {
   "codemirror_mode": {
    "name": "ipython",
    "version": 3
   },
   "file_extension": ".py",
   "mimetype": "text/x-python",
   "name": "python",
   "nbconvert_exporter": "python",
   "pygments_lexer": "ipython3",
   "version": "3.8.5"
  },
  "varInspector": {
   "cols": {
    "lenName": 16,
    "lenType": 16,
    "lenVar": 40
   },
   "kernels_config": {
    "python": {
     "delete_cmd_postfix": "",
     "delete_cmd_prefix": "del ",
     "library": "var_list.py",
     "varRefreshCmd": "print(var_dic_list())"
    },
    "r": {
     "delete_cmd_postfix": ") ",
     "delete_cmd_prefix": "rm(",
     "library": "var_list.r",
     "varRefreshCmd": "cat(var_dic_list()) "
    }
   },
   "types_to_exclude": [
    "module",
    "function",
    "builtin_function_or_method",
    "instance",
    "_Feature"
   ],
   "window_display": false
  }
 },
 "nbformat": 4,
 "nbformat_minor": 5
}
