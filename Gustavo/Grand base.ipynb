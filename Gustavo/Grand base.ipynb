{
 "cells": [
  {
   "cell_type": "markdown",
   "id": "52c9efa0",
   "metadata": {},
   "source": [
    "# Jutando todos os datasets com features geradas"
   ]
  },
  {
   "cell_type": "code",
   "execution_count": 1,
   "id": "f3aff128",
   "metadata": {},
   "outputs": [],
   "source": [
    "import pandas as pd"
   ]
  },
  {
   "cell_type": "code",
   "execution_count": 2,
   "id": "9ab8a42e",
   "metadata": {},
   "outputs": [],
   "source": [
    "df1=pd.read_csv('data/Features/Features_docentes_dicentes_teses.csv',encoding='latin1')"
   ]
  },
  {
   "cell_type": "code",
   "execution_count": 3,
   "id": "f06cb951",
   "metadata": {},
   "outputs": [],
   "source": [
    "df2=pd.read_csv('data/Features/Teses-Dissertassoes_2013-2019.csv',encoding='latin1')"
   ]
  },
  {
   "cell_type": "code",
   "execution_count": 10,
   "id": "e61e81b6",
   "metadata": {},
   "outputs": [
    {
     "name": "stdout",
     "output_type": "stream",
     "text": [
      "<class 'pandas.core.frame.DataFrame'>\n",
      "RangeIndex: 26135 entries, 0 to 26134\n",
      "Data columns (total 32 columns):\n",
      " #   Column                  Non-Null Count  Dtype  \n",
      "---  ------                  --------------  -----  \n",
      " 0   CD_PROGRAMA_IES         26135 non-null  object \n",
      " 1   AN_BASE                 26135 non-null  float64\n",
      " 2   ID_SUBTIPO_PRODUCAO     26135 non-null  float64\n",
      " 3   NM_SUBTIPO_PRODUCAO     26135 non-null  object \n",
      " 4   IN_TRABALHO_MESMA_AREA  26135 non-null  float64\n",
      " 5   NR_PAGINAS              24300 non-null  float64\n",
      " 6   Lingua_estrangeira      26135 non-null  int64  \n",
      " 7   Quantidade_Trabalhos    26135 non-null  int64  \n",
      " 8   Do_Homens               26135 non-null  int64  \n",
      " 9   Do_Mulheres             26135 non-null  int64  \n",
      " 10  Do_Brasileiros          26135 non-null  int64  \n",
      " 11  Do_Estrangeiros         26135 non-null  int64  \n",
      " 12  Quantidade_Docentes     26135 non-null  int64  \n",
      " 13  AN_NASCIMENTO_DOCENTE   26135 non-null  float64\n",
      " 14  SG_ENTIDADE_ENSINO      26135 non-null  object \n",
      " 15  Dis_Homens              26135 non-null  int64  \n",
      " 16  Dis_Mulheres            26135 non-null  int64  \n",
      " 17  Dis_Brasileiros         26135 non-null  int64  \n",
      " 18  Dis_Estrangeiros        26135 non-null  int64  \n",
      " 19  diferenca_idade         26135 non-null  float64\n",
      " 20  razao_aluno_prof        26135 non-null  float64\n",
      " 21  Quantidade_Discentes    26135 non-null  int64  \n",
      " 22  Dis_Prop_Homens         26135 non-null  float64\n",
      " 23  Dis_Aluno_Tempo         26134 non-null  float64\n",
      " 24  QT_MES_TITULACAO        26134 non-null  float64\n",
      " 25  CD_AREA_AVALIACAO       26135 non-null  int64  \n",
      " 26  pag_por_aluno           24300 non-null  float64\n",
      " 27  CS_STATUS_JURIDICO      26135 non-null  object \n",
      " 28  AN_NASCIMENTO_DISCENTE  26135 non-null  float64\n",
      " 29  NM_REGIAO               26135 non-null  object \n",
      " 30  SG_UF_PROGRAMA          26135 non-null  object \n",
      " 31  CD_CONCEITO_PROGRAMA    26135 non-null  int64  \n",
      "dtypes: float64(12), int64(14), object(6)\n",
      "memory usage: 6.4+ MB\n"
     ]
    }
   ],
   "source": [
    "df1.info()"
   ]
  },
  {
   "cell_type": "code",
   "execution_count": 16,
   "id": "284b4b21",
   "metadata": {},
   "outputs": [
    {
     "name": "stdout",
     "output_type": "stream",
     "text": [
      "<class 'pandas.core.frame.DataFrame'>\n",
      "RangeIndex: 559458 entries, 0 to 559457\n",
      "Data columns (total 7 columns):\n",
      " #   Column                  Non-Null Count   Dtype  \n",
      "---  ------                  --------------   -----  \n",
      " 0   AN_BASE                 559456 non-null  float64\n",
      " 1   CD_PROGRAMA             559458 non-null  object \n",
      " 2   ID_SUBTIPO_PRODUCAO     559457 non-null  float64\n",
      " 3   NM_SUBTIPO_PRODUCAO     559457 non-null  object \n",
      " 4   IN_TRABALHO_MESMA_AREA  559456 non-null  float64\n",
      " 5   NR_PAGINAS              559453 non-null  float64\n",
      " 6   NM_IDIOMA               559457 non-null  object \n",
      "dtypes: float64(4), object(3)\n",
      "memory usage: 29.9+ MB\n"
     ]
    }
   ],
   "source": [
    "df2.info()"
   ]
  },
  {
   "cell_type": "code",
   "execution_count": null,
   "id": "c9e003a9",
   "metadata": {},
   "outputs": [],
   "source": []
  }
 ],
 "metadata": {
  "kernelspec": {
   "display_name": "Python 3",
   "language": "python",
   "name": "python3"
  },
  "language_info": {
   "codemirror_mode": {
    "name": "ipython",
    "version": 3
   },
   "file_extension": ".py",
   "mimetype": "text/x-python",
   "name": "python",
   "nbconvert_exporter": "python",
   "pygments_lexer": "ipython3",
   "version": "3.8.5"
  },
  "varInspector": {
   "cols": {
    "lenName": 16,
    "lenType": 16,
    "lenVar": 40
   },
   "kernels_config": {
    "python": {
     "delete_cmd_postfix": "",
     "delete_cmd_prefix": "del ",
     "library": "var_list.py",
     "varRefreshCmd": "print(var_dic_list())"
    },
    "r": {
     "delete_cmd_postfix": ") ",
     "delete_cmd_prefix": "rm(",
     "library": "var_list.r",
     "varRefreshCmd": "cat(var_dic_list()) "
    }
   },
   "types_to_exclude": [
    "module",
    "function",
    "builtin_function_or_method",
    "instance",
    "_Feature"
   ],
   "window_display": false
  }
 },
 "nbformat": 4,
 "nbformat_minor": 5
}
