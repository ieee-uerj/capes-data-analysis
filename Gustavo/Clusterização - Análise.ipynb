{
 "cells": [
  {
   "cell_type": "code",
   "execution_count": 1,
   "id": "accredited-wells",
   "metadata": {},
   "outputs": [],
   "source": [
    "import pandas as pd\n",
    "import numpy as np\n",
    "import seaborn as sns\n",
    "import matplotlib.pyplot as plt\n",
    "And=lambda a,b: np.logical_and(a,b)"
   ]
  },
  {
   "cell_type": "code",
   "execution_count": 2,
   "id": "devoted-arthur",
   "metadata": {},
   "outputs": [],
   "source": [
    "df=pd.read_csv('data/Bases_clusterizadas.csv',encoding='latin1')"
   ]
  },
  {
   "cell_type": "code",
   "execution_count": 3,
   "id": "documentary-place",
   "metadata": {},
   "outputs": [],
   "source": [
    "df0=df[df.Cluster==0]\n",
    "df1=df[df.Cluster==1]\n",
    "df2=df[df.Cluster==2]"
   ]
  },
  {
   "cell_type": "code",
   "execution_count": 4,
   "id": "lesser-oklahoma",
   "metadata": {},
   "outputs": [
    {
     "data": {
      "text/html": [
       "<div>\n",
       "<style scoped>\n",
       "    .dataframe tbody tr th:only-of-type {\n",
       "        vertical-align: middle;\n",
       "    }\n",
       "\n",
       "    .dataframe tbody tr th {\n",
       "        vertical-align: top;\n",
       "    }\n",
       "\n",
       "    .dataframe thead th {\n",
       "        text-align: right;\n",
       "    }\n",
       "</style>\n",
       "<table border=\"1\" class=\"dataframe\">\n",
       "  <thead>\n",
       "    <tr style=\"text-align: right;\">\n",
       "      <th></th>\n",
       "      <th>AN_BASE</th>\n",
       "      <th>ID_SUBTIPO_PRODUCAO</th>\n",
       "      <th>IN_TRABALHO_MESMA_AREA</th>\n",
       "      <th>NR_PAGINAS</th>\n",
       "      <th>Lingua_estrangeira</th>\n",
       "      <th>Quantidade_Trabalhos</th>\n",
       "      <th>Do_Homens</th>\n",
       "      <th>Do_Mulheres</th>\n",
       "      <th>Do_Brasileiros</th>\n",
       "      <th>Do_Estrangeiros</th>\n",
       "      <th>...</th>\n",
       "      <th>diferenca_idade</th>\n",
       "      <th>razao_aluno_prof</th>\n",
       "      <th>Quantidade_Discentes</th>\n",
       "      <th>Dis_Prop_Homens</th>\n",
       "      <th>Dis_Aluno_Tempo</th>\n",
       "      <th>QT_MES_TITULACAO</th>\n",
       "      <th>CD_AREA_AVALIACAO</th>\n",
       "      <th>pag_por_aluno</th>\n",
       "      <th>AN_NASCIMENTO_DISCENTE</th>\n",
       "      <th>CD_CONCEITO_PROGRAMA</th>\n",
       "    </tr>\n",
       "    <tr>\n",
       "      <th>Cluster</th>\n",
       "      <th></th>\n",
       "      <th></th>\n",
       "      <th></th>\n",
       "      <th></th>\n",
       "      <th></th>\n",
       "      <th></th>\n",
       "      <th></th>\n",
       "      <th></th>\n",
       "      <th></th>\n",
       "      <th></th>\n",
       "      <th></th>\n",
       "      <th></th>\n",
       "      <th></th>\n",
       "      <th></th>\n",
       "      <th></th>\n",
       "      <th></th>\n",
       "      <th></th>\n",
       "      <th></th>\n",
       "      <th></th>\n",
       "      <th></th>\n",
       "      <th></th>\n",
       "    </tr>\n",
       "  </thead>\n",
       "  <tbody>\n",
       "    <tr>\n",
       "      <th>0</th>\n",
       "      <td>2015.999393</td>\n",
       "      <td>2.062494</td>\n",
       "      <td>0.868440</td>\n",
       "      <td>143.178134</td>\n",
       "      <td>0.544140</td>\n",
       "      <td>27.023966</td>\n",
       "      <td>14.353726</td>\n",
       "      <td>11.185357</td>\n",
       "      <td>24.646476</td>\n",
       "      <td>0.892608</td>\n",
       "      <td>...</td>\n",
       "      <td>19.464032</td>\n",
       "      <td>5.051804</td>\n",
       "      <td>120.710992</td>\n",
       "      <td>0.437427</td>\n",
       "      <td>3.489894</td>\n",
       "      <td>35.561804</td>\n",
       "      <td>26.440085</td>\n",
       "      <td>6.561846</td>\n",
       "      <td>1982.502598</td>\n",
       "      <td>4.790070</td>\n",
       "    </tr>\n",
       "    <tr>\n",
       "      <th>1</th>\n",
       "      <td>2016.293462</td>\n",
       "      <td>3.332307</td>\n",
       "      <td>0.792143</td>\n",
       "      <td>105.434726</td>\n",
       "      <td>0.156699</td>\n",
       "      <td>14.183157</td>\n",
       "      <td>10.846819</td>\n",
       "      <td>7.666300</td>\n",
       "      <td>18.104368</td>\n",
       "      <td>0.408751</td>\n",
       "      <td>...</td>\n",
       "      <td>14.781720</td>\n",
       "      <td>3.121492</td>\n",
       "      <td>55.751979</td>\n",
       "      <td>0.452924</td>\n",
       "      <td>2.087470</td>\n",
       "      <td>27.148623</td>\n",
       "      <td>26.928247</td>\n",
       "      <td>6.295131</td>\n",
       "      <td>1983.654338</td>\n",
       "      <td>3.581281</td>\n",
       "    </tr>\n",
       "    <tr>\n",
       "      <th>2</th>\n",
       "      <td>2016.272363</td>\n",
       "      <td>3.596796</td>\n",
       "      <td>0.819760</td>\n",
       "      <td>138.798705</td>\n",
       "      <td>5.819760</td>\n",
       "      <td>79.356475</td>\n",
       "      <td>47.826435</td>\n",
       "      <td>29.257677</td>\n",
       "      <td>74.388518</td>\n",
       "      <td>2.695594</td>\n",
       "      <td>...</td>\n",
       "      <td>19.631503</td>\n",
       "      <td>5.895038</td>\n",
       "      <td>373.822430</td>\n",
       "      <td>0.565085</td>\n",
       "      <td>10.888298</td>\n",
       "      <td>36.016729</td>\n",
       "      <td>20.125501</td>\n",
       "      <td>2.416051</td>\n",
       "      <td>1983.370336</td>\n",
       "      <td>5.666222</td>\n",
       "    </tr>\n",
       "    <tr>\n",
       "      <th>3</th>\n",
       "      <td>2016.823529</td>\n",
       "      <td>27.411765</td>\n",
       "      <td>1.000000</td>\n",
       "      <td>114.714973</td>\n",
       "      <td>0.000000</td>\n",
       "      <td>494.764706</td>\n",
       "      <td>549.058824</td>\n",
       "      <td>300.941176</td>\n",
       "      <td>832.470588</td>\n",
       "      <td>17.529412</td>\n",
       "      <td>...</td>\n",
       "      <td>9.164898</td>\n",
       "      <td>3.096042</td>\n",
       "      <td>2618.235294</td>\n",
       "      <td>0.589004</td>\n",
       "      <td>93.234731</td>\n",
       "      <td>27.916168</td>\n",
       "      <td>15.882353</td>\n",
       "      <td>0.158949</td>\n",
       "      <td>1979.876471</td>\n",
       "      <td>4.352941</td>\n",
       "    </tr>\n",
       "  </tbody>\n",
       "</table>\n",
       "<p>4 rows × 26 columns</p>\n",
       "</div>"
      ],
      "text/plain": [
       "             AN_BASE  ID_SUBTIPO_PRODUCAO  IN_TRABALHO_MESMA_AREA  NR_PAGINAS  \\\n",
       "Cluster                                                                         \n",
       "0        2015.999393             2.062494                0.868440  143.178134   \n",
       "1        2016.293462             3.332307                0.792143  105.434726   \n",
       "2        2016.272363             3.596796                0.819760  138.798705   \n",
       "3        2016.823529            27.411765                1.000000  114.714973   \n",
       "\n",
       "         Lingua_estrangeira  Quantidade_Trabalhos   Do_Homens  Do_Mulheres  \\\n",
       "Cluster                                                                      \n",
       "0                  0.544140             27.023966   14.353726    11.185357   \n",
       "1                  0.156699             14.183157   10.846819     7.666300   \n",
       "2                  5.819760             79.356475   47.826435    29.257677   \n",
       "3                  0.000000            494.764706  549.058824   300.941176   \n",
       "\n",
       "         Do_Brasileiros  Do_Estrangeiros  ...  diferenca_idade  \\\n",
       "Cluster                                   ...                    \n",
       "0             24.646476         0.892608  ...        19.464032   \n",
       "1             18.104368         0.408751  ...        14.781720   \n",
       "2             74.388518         2.695594  ...        19.631503   \n",
       "3            832.470588        17.529412  ...         9.164898   \n",
       "\n",
       "         razao_aluno_prof  Quantidade_Discentes  Dis_Prop_Homens  \\\n",
       "Cluster                                                            \n",
       "0                5.051804            120.710992         0.437427   \n",
       "1                3.121492             55.751979         0.452924   \n",
       "2                5.895038            373.822430         0.565085   \n",
       "3                3.096042           2618.235294         0.589004   \n",
       "\n",
       "         Dis_Aluno_Tempo  QT_MES_TITULACAO  CD_AREA_AVALIACAO  pag_por_aluno  \\\n",
       "Cluster                                                                        \n",
       "0               3.489894         35.561804          26.440085       6.561846   \n",
       "1               2.087470         27.148623          26.928247       6.295131   \n",
       "2              10.888298         36.016729          20.125501       2.416051   \n",
       "3              93.234731         27.916168          15.882353       0.158949   \n",
       "\n",
       "         AN_NASCIMENTO_DISCENTE  CD_CONCEITO_PROGRAMA  \n",
       "Cluster                                                \n",
       "0                   1982.502598              4.790070  \n",
       "1                   1983.654338              3.581281  \n",
       "2                   1983.370336              5.666222  \n",
       "3                   1979.876471              4.352941  \n",
       "\n",
       "[4 rows x 26 columns]"
      ]
     },
     "execution_count": 4,
     "metadata": {},
     "output_type": "execute_result"
    }
   ],
   "source": [
    "df.groupby('Cluster').mean()"
   ]
  },
  {
   "cell_type": "code",
   "execution_count": 5,
   "id": "thermal-protocol",
   "metadata": {},
   "outputs": [],
   "source": [
    "regiao=list(df.groupby('NM_REGIAO').mean().index)"
   ]
  },
  {
   "cell_type": "code",
   "execution_count": 6,
   "id": "static-vaccine",
   "metadata": {},
   "outputs": [
    {
     "data": {
      "text/plain": [
       "<matplotlib.legend.Legend at 0x7fa1330695b0>"
      ]
     },
     "execution_count": 6,
     "metadata": {},
     "output_type": "execute_result"
    },
    {
     "data": {
      "image/png": "[encoded data removed]",
      "text/plain": [
       "<Figure size 1080x432 with 1 Axes>"
      ]
     },
     "metadata": {
      "needs_background": "light"
     },
     "output_type": "display_data"
    }
   ],
   "source": [
    "plt.figure(figsize=(15,6))\n",
    "sns.countplot(x='NM_REGIAO',data=df0,hue='CD_CONCEITO_PROGRAMA',order=regiao)\n",
    "plt.title('Cluster 0',size=15)\n",
    "plt.legend(loc='upper left')"
   ]
  },
  {
   "cell_type": "code",
   "execution_count": 7,
   "id": "celtic-perspective",
   "metadata": {
    "scrolled": false
   },
   "outputs": [
    {
     "data": {
      "text/plain": [
       "<matplotlib.legend.Legend at 0x7fa1321e49a0>"
      ]
     },
     "execution_count": 7,
     "metadata": {},
     "output_type": "execute_result"
    },
    {
     "data": {
      "image/png": "[encoded data removed]",
      "text/plain": [
       "<Figure size 1080x432 with 1 Axes>"
      ]
     },
     "metadata": {
      "needs_background": "light"
     },
     "output_type": "display_data"
    }
   ],
   "source": [
    "plt.figure(figsize=(15,6))\n",
    "sns.countplot(x='NM_REGIAO',data=df1,hue='CD_CONCEITO_PROGRAMA',order=regiao)\n",
    "plt.title('Cluster 1',size=15)\n",
    "plt.legend(loc='upper left')"
   ]
  },
  {
   "cell_type": "code",
   "execution_count": 8,
   "id": "scheduled-reservoir",
   "metadata": {},
   "outputs": [
    {
     "data": {
      "text/plain": [
       "<matplotlib.legend.Legend at 0x7fa1605c1280>"
      ]
     },
     "execution_count": 8,
     "metadata": {},
     "output_type": "execute_result"
    },
    {
     "data": {
      "image/png": "[encoded data removed]",
      "text/plain": [
       "<Figure size 1080x432 with 1 Axes>"
      ]
     },
     "metadata": {
      "needs_background": "light"
     },
     "output_type": "display_data"
    }
   ],
   "source": [
    "plt.figure(figsize=(15,6))\n",
    "sns.countplot(x='NM_REGIAO',data=df2,hue='CD_CONCEITO_PROGRAMA',order=regiao)\n",
    "plt.title('Cluster 2',size=15)\n",
    "plt.legend(loc='upper left')"
   ]
  },
  {
   "cell_type": "code",
   "execution_count": null,
   "id": "tropical-fleet",
   "metadata": {},
   "outputs": [],
   "source": []
  }
 ],
 "metadata": {
  "kernelspec": {
   "display_name": "Python 3",
   "language": "python",
   "name": "python3"
  },
  "language_info": {
   "codemirror_mode": {
    "name": "ipython",
    "version": 3
   },
   "file_extension": ".py",
   "mimetype": "text/x-python",
   "name": "python",
   "nbconvert_exporter": "python",
   "pygments_lexer": "ipython3",
   "version": "3.8.5"
  },
  "varInspector": {
   "cols": {
    "lenName": 16,
    "lenType": 16,
    "lenVar": 40
   },
   "kernels_config": {
    "python": {
     "delete_cmd_postfix": "",
     "delete_cmd_prefix": "del ",
     "library": "var_list.py",
     "varRefreshCmd": "print(var_dic_list())"
    },
    "r": {
     "delete_cmd_postfix": ") ",
     "delete_cmd_prefix": "rm(",
     "library": "var_list.r",
     "varRefreshCmd": "cat(var_dic_list()) "
    }
   },
   "types_to_exclude": [
    "module",
    "function",
    "builtin_function_or_method",
    "instance",
    "_Feature"
   ],
   "window_display": false
  }
 },
 "nbformat": 4,
 "nbformat_minor": 5
}
