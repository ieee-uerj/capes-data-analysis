{
 "cells": [
  {
   "cell_type": "code",
   "execution_count": 1,
   "id": "b196d108",
   "metadata": {},
   "outputs": [],
   "source": [
    "import pandas as pd\n",
    "import numpy as np\n",
    "import seaborn as sns\n",
    "import matplotlib.pyplot as plt\n",
    "from sklearn.cluster import KMeans, DBSCAN\n",
    "from sklearn.preprocessing import StandardScaler\n",
    "from sklearn.metrics import silhouette_score\n",
    "from math import sqrt "
   ]
  },
  {
   "cell_type": "code",
   "execution_count": 2,
   "id": "e2499047",
   "metadata": {},
   "outputs": [],
   "source": [
    "#Gustavo/data/Para_juntar\n",
    "\n",
    "df=pd.read_csv('data/Para_juntar/Grande Base2.csv',encoding='latin1')\n",
    "#df=df[df['CD_PROGRAMA_IES']!='31075010001P2']"
   ]
  },
  {
   "cell_type": "code",
   "execution_count": 3,
   "id": "5750bda8",
   "metadata": {},
   "outputs": [
    {
     "data": {
      "text/html": [
       "<div>\n",
       "<style scoped>\n",
       "    .dataframe tbody tr th:only-of-type {\n",
       "        vertical-align: middle;\n",
       "    }\n",
       "\n",
       "    .dataframe tbody tr th {\n",
       "        vertical-align: top;\n",
       "    }\n",
       "\n",
       "    .dataframe thead th {\n",
       "        text-align: right;\n",
       "    }\n",
       "</style>\n",
       "<table border=\"1\" class=\"dataframe\">\n",
       "  <thead>\n",
       "    <tr style=\"text-align: right;\">\n",
       "      <th></th>\n",
       "      <th>CD_PROGRAMA_IES</th>\n",
       "      <th>AN_BASE</th>\n",
       "      <th>CD_AREA_AVALIACAO</th>\n",
       "      <th>CONCEITO_PROGRAMA</th>\n",
       "      <th>IB_Total_docentes</th>\n",
       "      <th>IB_Mulheres</th>\n",
       "      <th>IB_Homens</th>\n",
       "      <th>IB_Brasileiros</th>\n",
       "      <th>IB_Estrangeiros</th>\n",
       "      <th>IB_QTDE_Regime_Parcial</th>\n",
       "      <th>...</th>\n",
       "      <th>NM_MODALIDADE_PROGRAMA</th>\n",
       "      <th>Qtd_Proj</th>\n",
       "      <th>N_PESQUISA</th>\n",
       "      <th>Outros projetos</th>\n",
       "      <th>Qtd_Financiadores</th>\n",
       "      <th>BOLSA</th>\n",
       "      <th>OUTRO AUXÃÂLIO FINANCEIRO</th>\n",
       "      <th>SEM AUXÃÂLIO</th>\n",
       "      <th>PÃÂBLICA_OU_PRIVADA</th>\n",
       "      <th>QTD_FINANCIADORES</th>\n",
       "    </tr>\n",
       "  </thead>\n",
       "  <tbody>\n",
       "    <tr>\n",
       "      <th>0</th>\n",
       "      <td>10001018002P1</td>\n",
       "      <td>2013</td>\n",
       "      <td>9</td>\n",
       "      <td>3</td>\n",
       "      <td>25</td>\n",
       "      <td>10</td>\n",
       "      <td>15</td>\n",
       "      <td>25</td>\n",
       "      <td>0</td>\n",
       "      <td>16</td>\n",
       "      <td>...</td>\n",
       "      <td>1</td>\n",
       "      <td>19</td>\n",
       "      <td>17.0</td>\n",
       "      <td>2.0</td>\n",
       "      <td>16</td>\n",
       "      <td>1.0</td>\n",
       "      <td>15.0</td>\n",
       "      <td>0.0</td>\n",
       "      <td>1</td>\n",
       "      <td>3</td>\n",
       "    </tr>\n",
       "    <tr>\n",
       "      <th>1</th>\n",
       "      <td>10001018002P1</td>\n",
       "      <td>2014</td>\n",
       "      <td>9</td>\n",
       "      <td>3</td>\n",
       "      <td>22</td>\n",
       "      <td>8</td>\n",
       "      <td>14</td>\n",
       "      <td>22</td>\n",
       "      <td>0</td>\n",
       "      <td>16</td>\n",
       "      <td>...</td>\n",
       "      <td>1</td>\n",
       "      <td>26</td>\n",
       "      <td>23.0</td>\n",
       "      <td>3.0</td>\n",
       "      <td>20</td>\n",
       "      <td>1.0</td>\n",
       "      <td>19.0</td>\n",
       "      <td>0.0</td>\n",
       "      <td>1</td>\n",
       "      <td>3</td>\n",
       "    </tr>\n",
       "    <tr>\n",
       "      <th>2</th>\n",
       "      <td>10001018002P1</td>\n",
       "      <td>2015</td>\n",
       "      <td>9</td>\n",
       "      <td>3</td>\n",
       "      <td>22</td>\n",
       "      <td>8</td>\n",
       "      <td>14</td>\n",
       "      <td>22</td>\n",
       "      <td>0</td>\n",
       "      <td>15</td>\n",
       "      <td>...</td>\n",
       "      <td>1</td>\n",
       "      <td>26</td>\n",
       "      <td>23.0</td>\n",
       "      <td>3.0</td>\n",
       "      <td>19</td>\n",
       "      <td>1.0</td>\n",
       "      <td>18.0</td>\n",
       "      <td>0.0</td>\n",
       "      <td>1</td>\n",
       "      <td>3</td>\n",
       "    </tr>\n",
       "    <tr>\n",
       "      <th>3</th>\n",
       "      <td>10001018002P1</td>\n",
       "      <td>2016</td>\n",
       "      <td>9</td>\n",
       "      <td>3</td>\n",
       "      <td>20</td>\n",
       "      <td>7</td>\n",
       "      <td>13</td>\n",
       "      <td>20</td>\n",
       "      <td>0</td>\n",
       "      <td>14</td>\n",
       "      <td>...</td>\n",
       "      <td>1</td>\n",
       "      <td>40</td>\n",
       "      <td>35.0</td>\n",
       "      <td>5.0</td>\n",
       "      <td>32</td>\n",
       "      <td>2.0</td>\n",
       "      <td>30.0</td>\n",
       "      <td>0.0</td>\n",
       "      <td>1</td>\n",
       "      <td>4</td>\n",
       "    </tr>\n",
       "    <tr>\n",
       "      <th>4</th>\n",
       "      <td>10001018002P1</td>\n",
       "      <td>2017</td>\n",
       "      <td>9</td>\n",
       "      <td>4</td>\n",
       "      <td>22</td>\n",
       "      <td>8</td>\n",
       "      <td>14</td>\n",
       "      <td>22</td>\n",
       "      <td>0</td>\n",
       "      <td>16</td>\n",
       "      <td>...</td>\n",
       "      <td>1</td>\n",
       "      <td>68</td>\n",
       "      <td>61.0</td>\n",
       "      <td>7.0</td>\n",
       "      <td>58</td>\n",
       "      <td>6.0</td>\n",
       "      <td>52.0</td>\n",
       "      <td>0.0</td>\n",
       "      <td>1</td>\n",
       "      <td>4</td>\n",
       "    </tr>\n",
       "  </tbody>\n",
       "</table>\n",
       "<p>5 rows × 63 columns</p>\n",
       "</div>"
      ],
      "text/plain": [
       "  CD_PROGRAMA_IES  AN_BASE  CD_AREA_AVALIACAO  CONCEITO_PROGRAMA  \\\n",
       "0   10001018002P1     2013                  9                  3   \n",
       "1   10001018002P1     2014                  9                  3   \n",
       "2   10001018002P1     2015                  9                  3   \n",
       "3   10001018002P1     2016                  9                  3   \n",
       "4   10001018002P1     2017                  9                  4   \n",
       "\n",
       "   IB_Total_docentes  IB_Mulheres  IB_Homens  IB_Brasileiros  IB_Estrangeiros  \\\n",
       "0                 25           10         15              25                0   \n",
       "1                 22            8         14              22                0   \n",
       "2                 22            8         14              22                0   \n",
       "3                 20            7         13              20                0   \n",
       "4                 22            8         14              22                0   \n",
       "\n",
       "   IB_QTDE_Regime_Parcial  ...  NM_MODALIDADE_PROGRAMA  Qtd_Proj  N_PESQUISA  \\\n",
       "0                      16  ...                       1        19        17.0   \n",
       "1                      16  ...                       1        26        23.0   \n",
       "2                      15  ...                       1        26        23.0   \n",
       "3                      14  ...                       1        40        35.0   \n",
       "4                      16  ...                       1        68        61.0   \n",
       "\n",
       "   Outros projetos  Qtd_Financiadores  BOLSA  OUTRO AUXÃÂLIO FINANCEIRO  \\\n",
       "0              2.0                 16    1.0                         15.0   \n",
       "1              3.0                 20    1.0                         19.0   \n",
       "2              3.0                 19    1.0                         18.0   \n",
       "3              5.0                 32    2.0                         30.0   \n",
       "4              7.0                 58    6.0                         52.0   \n",
       "\n",
       "   SEM AUXÃÂLIO  PÃÂBLICA_OU_PRIVADA  QTD_FINANCIADORES  \n",
       "0             0.0                      1                  3  \n",
       "1             0.0                      1                  3  \n",
       "2             0.0                      1                  3  \n",
       "3             0.0                      1                  4  \n",
       "4             0.0                      1                  4  \n",
       "\n",
       "[5 rows x 63 columns]"
      ]
     },
     "execution_count": 3,
     "metadata": {},
     "output_type": "execute_result"
    }
   ],
   "source": [
    "df.head()"
   ]
  },
  {
   "cell_type": "code",
   "execution_count": 4,
   "id": "d0661b01",
   "metadata": {},
   "outputs": [
    {
     "name": "stdout",
     "output_type": "stream",
     "text": [
      "<class 'pandas.core.frame.DataFrame'>\n",
      "RangeIndex: 20250 entries, 0 to 20249\n",
      "Data columns (total 63 columns):\n",
      " #   Column                       Non-Null Count  Dtype  \n",
      "---  ------                       --------------  -----  \n",
      " 0   CD_PROGRAMA_IES              20250 non-null  object \n",
      " 1   AN_BASE                      20250 non-null  int64  \n",
      " 2   CD_AREA_AVALIACAO            20250 non-null  int64  \n",
      " 3   CONCEITO_PROGRAMA            20250 non-null  int64  \n",
      " 4   IB_Total_docentes            20250 non-null  int64  \n",
      " 5   IB_Mulheres                  20250 non-null  int64  \n",
      " 6   IB_Homens                    20250 non-null  int64  \n",
      " 7   IB_Brasileiros               20250 non-null  int64  \n",
      " 8   IB_Estrangeiros              20250 non-null  int64  \n",
      " 9   IB_QTDE_Regime_Parcial       20250 non-null  int64  \n",
      " 10  IB_QTDE_Regime_Integral      20250 non-null  int64  \n",
      " 11  IB_QTDE_Regime_Exclusivo     20250 non-null  int64  \n",
      " 12  IB_QTDE_Prof_Doutor          20250 non-null  int64  \n",
      " 13  IB_QTDE_Prof_NaoDoutor       20250 non-null  int64  \n",
      " 14  IB_QTDE_titulados_Brasil     20250 non-null  int64  \n",
      " 15  IB_QTDE_titulados_Exterior   20250 non-null  int64  \n",
      " 16  IB_Profs_Colaboradores       20250 non-null  int64  \n",
      " 17  IB_Profs_ServidoresPublicos  20250 non-null  int64  \n",
      " 18  IB_Profs_VinculoCLT          20250 non-null  int64  \n",
      " 19  IB_Profs_Aposentados         20250 non-null  int64  \n",
      " 20  IB_Profs_BolsaDeFixacao      20250 non-null  int64  \n",
      " 21  IB_Total_cursos              20250 non-null  int64  \n",
      " 22  MEDIA_CONCEITO_CURSO         20250 non-null  float64\n",
      " 23  ID_SUBTIPO_PRODUCAO          20250 non-null  float64\n",
      " 24  NM_SUBTIPO_PRODUCAO          20250 non-null  object \n",
      " 25  IN_TRABALHO_MESMA_AREA       20250 non-null  float64\n",
      " 26  NR_PAGINAS                   18903 non-null  float64\n",
      " 27  GUS_Lingua_estrangeira       20250 non-null  int64  \n",
      " 28  GUS_Quantidade_Trabalhos     20250 non-null  int64  \n",
      " 29  GUS_Do_Homens                20250 non-null  int64  \n",
      " 30  GUS_Do_Mulheres              20250 non-null  int64  \n",
      " 31  GUS_Do_Brasileiros           20250 non-null  int64  \n",
      " 32  GUS_Do_Estrangeiros          20250 non-null  int64  \n",
      " 33  GUS_Quantidade_Docentes      20250 non-null  int64  \n",
      " 34  AN_NASCIMENTO_DOCENTE        20250 non-null  float64\n",
      " 35  SG_ENTIDADE_ENSINO           20250 non-null  object \n",
      " 36  GUS_Dis_Homens               20250 non-null  int64  \n",
      " 37  GUS_Dis_Mulheres             20250 non-null  int64  \n",
      " 38  GUS_Dis_Brasileiros          20250 non-null  int64  \n",
      " 39  GUS_Dis_Estrangeiros         20250 non-null  int64  \n",
      " 40  GUS_diferenca_idade          20250 non-null  float64\n",
      " 41  GUS_razao_aluno_prof         20250 non-null  float64\n",
      " 42  GUS_Quantidade_Discentes     20250 non-null  int64  \n",
      " 43  GUS_Dis_Prop_Homens          20250 non-null  float64\n",
      " 44  GUS_Dis_Aluno_Tempo          20249 non-null  float64\n",
      " 45  QT_MES_TITULACAO             20249 non-null  float64\n",
      " 46  GUS_pag_por_aluno            18903 non-null  float64\n",
      " 47  CS_STATUS_JURIDICO           20250 non-null  object \n",
      " 48  AN_NASCIMENTO_DISCENTE       20250 non-null  float64\n",
      " 49  NM_REGIAO                    20250 non-null  object \n",
      " 50  SG_UF_PROGRAMA               20250 non-null  object \n",
      " 51  CD_CONCEITO_PROGRAMA         20250 non-null  int64  \n",
      " 52  Unnamed: 0                   20250 non-null  int64  \n",
      " 53  NM_MODALIDADE_PROGRAMA       20250 non-null  int64  \n",
      " 54  Qtd_Proj                     20250 non-null  int64  \n",
      " 55  N_PESQUISA                   20250 non-null  float64\n",
      " 56  Outros projetos              20250 non-null  float64\n",
      " 57  Qtd_Financiadores            20250 non-null  int64  \n",
      " 58  BOLSA                        20250 non-null  float64\n",
      " 59  OUTRO AUXÃÂLIO FINANCEIRO  20250 non-null  float64\n",
      " 60  SEM AUXÃÂLIO               20250 non-null  float64\n",
      " 61  PÃÂBLICA_OU_PRIVADA        20250 non-null  int64  \n",
      " 62  QTD_FINANCIADORES            20250 non-null  int64  \n",
      "dtypes: float64(17), int64(40), object(6)\n",
      "memory usage: 9.7+ MB\n"
     ]
    }
   ],
   "source": [
    "df.info()"
   ]
  },
  {
   "cell_type": "code",
   "execution_count": 5,
   "id": "1c45d31b",
   "metadata": {},
   "outputs": [
    {
     "name": "stdout",
     "output_type": "stream",
     "text": [
      "20250\n",
      "18902\n"
     ]
    }
   ],
   "source": [
    "#tirando os valores nulos\n",
    "\n",
    "print(len(df))\n",
    "df=df.dropna()\n",
    "print(len(df))"
   ]
  },
  {
   "cell_type": "markdown",
   "id": "48238964",
   "metadata": {},
   "source": [
    "# Clusterização"
   ]
  },
  {
   "cell_type": "code",
   "execution_count": 6,
   "id": "12f95dce",
   "metadata": {},
   "outputs": [],
   "source": [
    "x=df.iloc[:,np.r_[4:24,25:29,36:47,48,51,52,54:6]]\n",
    "y=df.iloc[:,3]"
   ]
  },
  {
   "cell_type": "code",
   "execution_count": 7,
   "id": "9cd5cba1",
   "metadata": {},
   "outputs": [],
   "source": [
    "#botando em escala\n",
    "\n",
    "scaler = StandardScaler().fit(x)\n",
    "x=scaler.transform(x)"
   ]
  },
  {
   "cell_type": "code",
   "execution_count": 8,
   "id": "ee9239f0",
   "metadata": {},
   "outputs": [
    {
     "name": "stdout",
     "output_type": "stream",
     "text": [
      "2: 0.9310902604418894\n",
      "3: 0.18911694517373934\n"
     ]
    },
    {
     "ename": "KeyboardInterrupt",
     "evalue": "",
     "output_type": "error",
     "traceback": [
      "\u001b[0;31m---------------------------------------------------------------------------\u001b[0m",
      "\u001b[0;31mKeyboardInterrupt\u001b[0m                         Traceback (most recent call last)",
      "\u001b[0;32m<ipython-input-8-d196579fdba1>\u001b[0m in \u001b[0;36m<module>\u001b[0;34m\u001b[0m\n\u001b[1;32m      5\u001b[0m     \u001b[0mkmeans\u001b[0m\u001b[0;34m.\u001b[0m\u001b[0mfit\u001b[0m\u001b[0;34m(\u001b[0m\u001b[0mx\u001b[0m\u001b[0;34m)\u001b[0m\u001b[0;34m\u001b[0m\u001b[0;34m\u001b[0m\u001b[0m\n\u001b[1;32m      6\u001b[0m     \u001b[0mlabels\u001b[0m \u001b[0;34m=\u001b[0m \u001b[0mkmeans\u001b[0m\u001b[0;34m.\u001b[0m\u001b[0mlabels_\u001b[0m\u001b[0;34m\u001b[0m\u001b[0;34m\u001b[0m\u001b[0m\n\u001b[0;32m----> 7\u001b[0;31m     \u001b[0mvalor\u001b[0m \u001b[0;34m=\u001b[0m \u001b[0msilhouette_score\u001b[0m\u001b[0;34m(\u001b[0m\u001b[0mx\u001b[0m\u001b[0;34m,\u001b[0m \u001b[0mlabels\u001b[0m\u001b[0;34m,\u001b[0m \u001b[0mmetric\u001b[0m\u001b[0;34m=\u001b[0m\u001b[0;34m'euclidean'\u001b[0m\u001b[0;34m)\u001b[0m\u001b[0;34m\u001b[0m\u001b[0;34m\u001b[0m\u001b[0m\n\u001b[0m\u001b[1;32m      8\u001b[0m     \u001b[0mprint\u001b[0m \u001b[0;34m(\u001b[0m\u001b[0mstr\u001b[0m\u001b[0;34m(\u001b[0m\u001b[0mi\u001b[0m\u001b[0;34m)\u001b[0m\u001b[0;34m+\u001b[0m\u001b[0;34m':'\u001b[0m\u001b[0;34m,\u001b[0m \u001b[0mvalor\u001b[0m\u001b[0;34m)\u001b[0m\u001b[0;34m\u001b[0m\u001b[0;34m\u001b[0m\u001b[0m\n\u001b[1;32m      9\u001b[0m     \u001b[0mwcss\u001b[0m\u001b[0;34m.\u001b[0m\u001b[0mappend\u001b[0m\u001b[0;34m(\u001b[0m\u001b[0mvalor\u001b[0m\u001b[0;34m)\u001b[0m\u001b[0;34m\u001b[0m\u001b[0;34m\u001b[0m\u001b[0m\n",
      "\u001b[0;32m~/anaconda3/lib/python3.8/site-packages/sklearn/utils/validation.py\u001b[0m in \u001b[0;36minner_f\u001b[0;34m(*args, **kwargs)\u001b[0m\n\u001b[1;32m     61\u001b[0m             \u001b[0mextra_args\u001b[0m \u001b[0;34m=\u001b[0m \u001b[0mlen\u001b[0m\u001b[0;34m(\u001b[0m\u001b[0margs\u001b[0m\u001b[0;34m)\u001b[0m \u001b[0;34m-\u001b[0m \u001b[0mlen\u001b[0m\u001b[0;34m(\u001b[0m\u001b[0mall_args\u001b[0m\u001b[0;34m)\u001b[0m\u001b[0;34m\u001b[0m\u001b[0;34m\u001b[0m\u001b[0m\n\u001b[1;32m     62\u001b[0m             \u001b[0;32mif\u001b[0m \u001b[0mextra_args\u001b[0m \u001b[0;34m<=\u001b[0m \u001b[0;36m0\u001b[0m\u001b[0;34m:\u001b[0m\u001b[0;34m\u001b[0m\u001b[0;34m\u001b[0m\u001b[0m\n\u001b[0;32m---> 63\u001b[0;31m                 \u001b[0;32mreturn\u001b[0m \u001b[0mf\u001b[0m\u001b[0;34m(\u001b[0m\u001b[0;34m*\u001b[0m\u001b[0margs\u001b[0m\u001b[0;34m,\u001b[0m \u001b[0;34m**\u001b[0m\u001b[0mkwargs\u001b[0m\u001b[0;34m)\u001b[0m\u001b[0;34m\u001b[0m\u001b[0;34m\u001b[0m\u001b[0m\n\u001b[0m\u001b[1;32m     64\u001b[0m \u001b[0;34m\u001b[0m\u001b[0m\n\u001b[1;32m     65\u001b[0m             \u001b[0;31m# extra_args > 0\u001b[0m\u001b[0;34m\u001b[0m\u001b[0;34m\u001b[0m\u001b[0;34m\u001b[0m\u001b[0m\n",
      "\u001b[0;32m~/anaconda3/lib/python3.8/site-packages/sklearn/metrics/cluster/_unsupervised.py\u001b[0m in \u001b[0;36msilhouette_score\u001b[0;34m(X, labels, metric, sample_size, random_state, **kwds)\u001b[0m\n\u001b[1;32m    115\u001b[0m         \u001b[0;32melse\u001b[0m\u001b[0;34m:\u001b[0m\u001b[0;34m\u001b[0m\u001b[0;34m\u001b[0m\u001b[0m\n\u001b[1;32m    116\u001b[0m             \u001b[0mX\u001b[0m\u001b[0;34m,\u001b[0m \u001b[0mlabels\u001b[0m \u001b[0;34m=\u001b[0m \u001b[0mX\u001b[0m\u001b[0;34m[\u001b[0m\u001b[0mindices\u001b[0m\u001b[0;34m]\u001b[0m\u001b[0;34m,\u001b[0m \u001b[0mlabels\u001b[0m\u001b[0;34m[\u001b[0m\u001b[0mindices\u001b[0m\u001b[0;34m]\u001b[0m\u001b[0;34m\u001b[0m\u001b[0;34m\u001b[0m\u001b[0m\n\u001b[0;32m--> 117\u001b[0;31m     \u001b[0;32mreturn\u001b[0m \u001b[0mnp\u001b[0m\u001b[0;34m.\u001b[0m\u001b[0mmean\u001b[0m\u001b[0;34m(\u001b[0m\u001b[0msilhouette_samples\u001b[0m\u001b[0;34m(\u001b[0m\u001b[0mX\u001b[0m\u001b[0;34m,\u001b[0m \u001b[0mlabels\u001b[0m\u001b[0;34m,\u001b[0m \u001b[0mmetric\u001b[0m\u001b[0;34m=\u001b[0m\u001b[0mmetric\u001b[0m\u001b[0;34m,\u001b[0m \u001b[0;34m**\u001b[0m\u001b[0mkwds\u001b[0m\u001b[0;34m)\u001b[0m\u001b[0;34m)\u001b[0m\u001b[0;34m\u001b[0m\u001b[0;34m\u001b[0m\u001b[0m\n\u001b[0m\u001b[1;32m    118\u001b[0m \u001b[0;34m\u001b[0m\u001b[0m\n\u001b[1;32m    119\u001b[0m \u001b[0;34m\u001b[0m\u001b[0m\n",
      "\u001b[0;32m~/anaconda3/lib/python3.8/site-packages/sklearn/utils/validation.py\u001b[0m in \u001b[0;36minner_f\u001b[0;34m(*args, **kwargs)\u001b[0m\n\u001b[1;32m     61\u001b[0m             \u001b[0mextra_args\u001b[0m \u001b[0;34m=\u001b[0m \u001b[0mlen\u001b[0m\u001b[0;34m(\u001b[0m\u001b[0margs\u001b[0m\u001b[0;34m)\u001b[0m \u001b[0;34m-\u001b[0m \u001b[0mlen\u001b[0m\u001b[0;34m(\u001b[0m\u001b[0mall_args\u001b[0m\u001b[0;34m)\u001b[0m\u001b[0;34m\u001b[0m\u001b[0;34m\u001b[0m\u001b[0m\n\u001b[1;32m     62\u001b[0m             \u001b[0;32mif\u001b[0m \u001b[0mextra_args\u001b[0m \u001b[0;34m<=\u001b[0m \u001b[0;36m0\u001b[0m\u001b[0;34m:\u001b[0m\u001b[0;34m\u001b[0m\u001b[0;34m\u001b[0m\u001b[0m\n\u001b[0;32m---> 63\u001b[0;31m                 \u001b[0;32mreturn\u001b[0m \u001b[0mf\u001b[0m\u001b[0;34m(\u001b[0m\u001b[0;34m*\u001b[0m\u001b[0margs\u001b[0m\u001b[0;34m,\u001b[0m \u001b[0;34m**\u001b[0m\u001b[0mkwargs\u001b[0m\u001b[0;34m)\u001b[0m\u001b[0;34m\u001b[0m\u001b[0;34m\u001b[0m\u001b[0m\n\u001b[0m\u001b[1;32m     64\u001b[0m \u001b[0;34m\u001b[0m\u001b[0m\n\u001b[1;32m     65\u001b[0m             \u001b[0;31m# extra_args > 0\u001b[0m\u001b[0;34m\u001b[0m\u001b[0;34m\u001b[0m\u001b[0;34m\u001b[0m\u001b[0m\n",
      "\u001b[0;32m~/anaconda3/lib/python3.8/site-packages/sklearn/metrics/cluster/_unsupervised.py\u001b[0m in \u001b[0;36msilhouette_samples\u001b[0;34m(X, labels, metric, **kwds)\u001b[0m\n\u001b[1;32m    232\u001b[0m     reduce_func = functools.partial(_silhouette_reduce,\n\u001b[1;32m    233\u001b[0m                                     labels=labels, label_freqs=label_freqs)\n\u001b[0;32m--> 234\u001b[0;31m     results = zip(*pairwise_distances_chunked(X, reduce_func=reduce_func,\n\u001b[0m\u001b[1;32m    235\u001b[0m                                               **kwds))\n\u001b[1;32m    236\u001b[0m     \u001b[0mintra_clust_dists\u001b[0m\u001b[0;34m,\u001b[0m \u001b[0minter_clust_dists\u001b[0m \u001b[0;34m=\u001b[0m \u001b[0mresults\u001b[0m\u001b[0;34m\u001b[0m\u001b[0;34m\u001b[0m\u001b[0m\n",
      "\u001b[0;32m~/anaconda3/lib/python3.8/site-packages/sklearn/metrics/pairwise.py\u001b[0m in \u001b[0;36mpairwise_distances_chunked\u001b[0;34m(X, Y, reduce_func, metric, n_jobs, working_memory, **kwds)\u001b[0m\n\u001b[1;32m   1631\u001b[0m         \u001b[0;32mif\u001b[0m \u001b[0mreduce_func\u001b[0m \u001b[0;32mis\u001b[0m \u001b[0;32mnot\u001b[0m \u001b[0;32mNone\u001b[0m\u001b[0;34m:\u001b[0m\u001b[0;34m\u001b[0m\u001b[0;34m\u001b[0m\u001b[0m\n\u001b[1;32m   1632\u001b[0m             \u001b[0mchunk_size\u001b[0m \u001b[0;34m=\u001b[0m \u001b[0mD_chunk\u001b[0m\u001b[0;34m.\u001b[0m\u001b[0mshape\u001b[0m\u001b[0;34m[\u001b[0m\u001b[0;36m0\u001b[0m\u001b[0;34m]\u001b[0m\u001b[0;34m\u001b[0m\u001b[0;34m\u001b[0m\u001b[0m\n\u001b[0;32m-> 1633\u001b[0;31m             \u001b[0mD_chunk\u001b[0m \u001b[0;34m=\u001b[0m \u001b[0mreduce_func\u001b[0m\u001b[0;34m(\u001b[0m\u001b[0mD_chunk\u001b[0m\u001b[0;34m,\u001b[0m \u001b[0msl\u001b[0m\u001b[0;34m.\u001b[0m\u001b[0mstart\u001b[0m\u001b[0;34m)\u001b[0m\u001b[0;34m\u001b[0m\u001b[0;34m\u001b[0m\u001b[0m\n\u001b[0m\u001b[1;32m   1634\u001b[0m             \u001b[0m_check_chunk_size\u001b[0m\u001b[0;34m(\u001b[0m\u001b[0mD_chunk\u001b[0m\u001b[0;34m,\u001b[0m \u001b[0mchunk_size\u001b[0m\u001b[0;34m)\u001b[0m\u001b[0;34m\u001b[0m\u001b[0;34m\u001b[0m\u001b[0m\n\u001b[1;32m   1635\u001b[0m         \u001b[0;32myield\u001b[0m \u001b[0mD_chunk\u001b[0m\u001b[0;34m\u001b[0m\u001b[0;34m\u001b[0m\u001b[0m\n",
      "\u001b[0;32m~/anaconda3/lib/python3.8/site-packages/sklearn/metrics/cluster/_unsupervised.py\u001b[0m in \u001b[0;36m_silhouette_reduce\u001b[0;34m(D_chunk, start, labels, label_freqs)\u001b[0m\n\u001b[1;32m    136\u001b[0m                            dtype=D_chunk.dtype)\n\u001b[1;32m    137\u001b[0m     \u001b[0;32mfor\u001b[0m \u001b[0mi\u001b[0m \u001b[0;32min\u001b[0m \u001b[0mrange\u001b[0m\u001b[0;34m(\u001b[0m\u001b[0mlen\u001b[0m\u001b[0;34m(\u001b[0m\u001b[0mD_chunk\u001b[0m\u001b[0;34m)\u001b[0m\u001b[0;34m)\u001b[0m\u001b[0;34m:\u001b[0m\u001b[0;34m\u001b[0m\u001b[0;34m\u001b[0m\u001b[0m\n\u001b[0;32m--> 138\u001b[0;31m         clust_dists[i] += np.bincount(labels, weights=D_chunk[i],\n\u001b[0m\u001b[1;32m    139\u001b[0m                                       minlength=len(label_freqs))\n\u001b[1;32m    140\u001b[0m \u001b[0;34m\u001b[0m\u001b[0m\n",
      "\u001b[0;32m<__array_function__ internals>\u001b[0m in \u001b[0;36mbincount\u001b[0;34m(*args, **kwargs)\u001b[0m\n",
      "\u001b[0;31mKeyboardInterrupt\u001b[0m: "
     ]
    }
   ],
   "source": [
    "#método da silhueta\n",
    "wcss = []\n",
    "for i in range(2, 10):\n",
    "    kmeans = KMeans(n_clusters = i, init = 'random')\n",
    "    kmeans.fit(x)\n",
    "    labels = kmeans.labels_\n",
    "    valor = silhouette_score(x, labels, metric='euclidean')\n",
    "    print (str(i)+':', valor)\n",
    "    wcss.append(valor)\n",
    "plt.plot(range(2, 10), wcss,color='black')\n",
    "plt.xlabel('Numero de Clusters')\n",
    "plt.ylabel('valor') #within cluster sum of squares\n",
    "plt.xticks([2,3,4,5,6,7,8,9,10]);"
   ]
  },
  {
   "cell_type": "code",
   "execution_count": null,
   "id": "44bc2b95",
   "metadata": {},
   "outputs": [],
   "source": [
    "def calculate_wcss(data):\n",
    "    wcss = []\n",
    "    for n in range(2, 21):\n",
    "        kmeans = KMeans(n_clusters=n)\n",
    "        kmeans.fit(X=data)\n",
    "        wcss.append(kmeans.inertia_)\n",
    "\n",
    "    return wcss\n",
    "\n",
    "def optimal_number_of_clusters(wcss):\n",
    "    x1, y1 = 2, wcss[0]\n",
    "    x2, y2 = 20, wcss[len(wcss)-1]\n",
    "    distances = []\n",
    "    for i in range(len(wcss)):\n",
    "        x0 = i+2\n",
    "        y0 = wcss[i]\n",
    "        numerator = abs((y2-y1)*x0 - (x2-x1)*y0 + x2*y1 - y2*x1)\n",
    "        denominator = sqrt((y2 - y1)**2 + (x2 - x1)**2)\n",
    "        distances.append(numerator/denominator)\n",
    "    \n",
    "    return distances.index(max(distances)) + 2\n",
    "\n",
    "# calculando a soma dos quadrados para as 19 quantidade de clusters\n",
    "sum_of_squares = calculate_wcss(x)\n",
    "\n",
    "# calculando a quantidade ótima de clusters\n",
    "n = optimal_number_of_clusters(sum_of_squares)\n",
    "\n",
    "print(\"Número ideal de clusters =\",n)"
   ]
  },
  {
   "cell_type": "code",
   "execution_count": 9,
   "id": "c9b03dc0",
   "metadata": {},
   "outputs": [],
   "source": [
    "km=KMeans(n_clusters=4,random_state=0)\n",
    "pred=km.fit_predict(x)\n",
    "df['Cluster']=pred"
   ]
  },
  {
   "cell_type": "code",
   "execution_count": 14,
   "id": "8fc9c2ca",
   "metadata": {},
   "outputs": [],
   "source": [
    "df0=df[df.Cluster==0]\n",
    "df1=df[df.Cluster==1]\n",
    "df2=df[df.Cluster==2]\n",
    "df3=df[df.Cluster==3]"
   ]
  },
  {
   "cell_type": "code",
   "execution_count": 15,
   "id": "81eab083",
   "metadata": {},
   "outputs": [],
   "source": [
    "regiao=list(df.groupby('NM_REGIAO').mean().index)"
   ]
  },
  {
   "cell_type": "code",
   "execution_count": 16,
   "id": "c5f6a00b",
   "metadata": {},
   "outputs": [
    {
     "data": {
      "text/plain": [
       "<matplotlib.legend.Legend at 0x7fbbc20a0940>"
      ]
     },
     "execution_count": 16,
     "metadata": {},
     "output_type": "execute_result"
    },
    {
     "data": {
      "image/png": "[encoded data removed]",
      "text/plain": [
       "<Figure size 1080x432 with 1 Axes>"
      ]
     },
     "metadata": {
      "needs_background": "light"
     },
     "output_type": "display_data"
    }
   ],
   "source": [
    "plt.figure(figsize=(15,6))\n",
    "sns.countplot(x='NM_REGIAO',data=df0,hue='CD_CONCEITO_PROGRAMA',order=regiao)\n",
    "plt.title('Cluster 0',size=15)\n",
    "plt.legend(loc='upper left')"
   ]
  },
  {
   "cell_type": "code",
   "execution_count": 17,
   "id": "47da8519",
   "metadata": {},
   "outputs": [
    {
     "data": {
      "text/plain": [
       "<matplotlib.legend.Legend at 0x7fbbc408bc40>"
      ]
     },
     "execution_count": 17,
     "metadata": {},
     "output_type": "execute_result"
    },
    {
     "data": {
      "image/png": "[encoded data removed]",
      "text/plain": [
       "<Figure size 1080x432 with 1 Axes>"
      ]
     },
     "metadata": {
      "needs_background": "light"
     },
     "output_type": "display_data"
    }
   ],
   "source": [
    "plt.figure(figsize=(15,6))\n",
    "sns.countplot(x='NM_REGIAO',data=df1,hue='CD_CONCEITO_PROGRAMA',order=regiao)\n",
    "plt.title('Cluster 1',size=15)\n",
    "plt.legend(loc='upper left')"
   ]
  },
  {
   "cell_type": "code",
   "execution_count": 18,
   "id": "75e9e6b8",
   "metadata": {},
   "outputs": [
    {
     "data": {
      "text/plain": [
       "<matplotlib.legend.Legend at 0x7fbbc1f2cc10>"
      ]
     },
     "execution_count": 18,
     "metadata": {},
     "output_type": "execute_result"
    },
    {
     "data": {
      "image/png": "[encoded data removed]",
      "text/plain": [
       "<Figure size 1080x432 with 1 Axes>"
      ]
     },
     "metadata": {
      "needs_background": "light"
     },
     "output_type": "display_data"
    }
   ],
   "source": [
    "plt.figure(figsize=(15,6))\n",
    "sns.countplot(x='NM_REGIAO',data=df2,hue='CD_CONCEITO_PROGRAMA',order=regiao)\n",
    "plt.title('Cluster 2',size=15)\n",
    "plt.legend(loc='upper left')"
   ]
  },
  {
   "cell_type": "code",
   "execution_count": 19,
   "id": "22974bda",
   "metadata": {},
   "outputs": [
    {
     "data": {
      "text/plain": [
       "<matplotlib.legend.Legend at 0x7fbbc1f07af0>"
      ]
     },
     "execution_count": 19,
     "metadata": {},
     "output_type": "execute_result"
    },
    {
     "data": {
      "image/png": "[encoded data removed]",
      "text/plain": [
       "<Figure size 1080x432 with 1 Axes>"
      ]
     },
     "metadata": {
      "needs_background": "light"
     },
     "output_type": "display_data"
    }
   ],
   "source": [
    "plt.figure(figsize=(15,6))\n",
    "sns.countplot(x='NM_REGIAO',data=df3,hue='CD_CONCEITO_PROGRAMA',order=regiao)\n",
    "plt.title('Cluster 3',size=15)\n",
    "plt.legend(loc='upper left')"
   ]
  },
  {
   "cell_type": "code",
   "execution_count": 20,
   "id": "ce366a0c",
   "metadata": {},
   "outputs": [
    {
     "name": "stdout",
     "output_type": "stream",
     "text": [
      "0 = 11922\n",
      "1 = 6\n",
      "2 = 6956\n",
      "3 = 18\n"
     ]
    }
   ],
   "source": [
    "#tamanho de cada cluster\n",
    "index=0\n",
    "for i in [df0,df1,df2,df3]:\n",
    "    print(index,\"=\",len(i))\n",
    "    index+=1"
   ]
  },
  {
   "cell_type": "code",
   "execution_count": null,
   "id": "629763a9",
   "metadata": {},
   "outputs": [],
   "source": [
    "#número de docentes de cada cluster\n",
    "index=0\n",
    "for i in [df0,df1,df2,df3]:\n",
    "    print(index,\"=\",df['IB_Total_docentes'])\n",
    "    index+=1"
   ]
  },
  {
   "cell_type": "code",
   "execution_count": null,
   "id": "a697c4ee",
   "metadata": {},
   "outputs": [],
   "source": []
  }
 ],
 "metadata": {
  "kernelspec": {
   "display_name": "Python 3",
   "language": "python",
   "name": "python3"
  },
  "language_info": {
   "codemirror_mode": {
    "name": "ipython",
    "version": 3
   },
   "file_extension": ".py",
   "mimetype": "text/x-python",
   "name": "python",
   "nbconvert_exporter": "python",
   "pygments_lexer": "ipython3",
   "version": "3.8.5"
  },
  "varInspector": {
   "cols": {
    "lenName": 16,
    "lenType": 16,
    "lenVar": 40
   },
   "kernels_config": {
    "python": {
     "delete_cmd_postfix": "",
     "delete_cmd_prefix": "del ",
     "library": "var_list.py",
     "varRefreshCmd": "print(var_dic_list())"
    },
    "r": {
     "delete_cmd_postfix": ") ",
     "delete_cmd_prefix": "rm(",
     "library": "var_list.r",
     "varRefreshCmd": "cat(var_dic_list()) "
    }
   },
   "types_to_exclude": [
    "module",
    "function",
    "builtin_function_or_method",
    "instance",
    "_Feature"
   ],
   "window_display": false
  }
 },
 "nbformat": 4,
 "nbformat_minor": 5
}
