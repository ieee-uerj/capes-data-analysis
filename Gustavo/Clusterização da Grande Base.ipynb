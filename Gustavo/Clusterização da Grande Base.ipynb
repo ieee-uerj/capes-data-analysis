{
 "cells": [
  {
   "cell_type": "code",
   "execution_count": 1,
   "id": "b196d108",
   "metadata": {},
   "outputs": [],
   "source": [
    "import pandas as pd\n",
    "import numpy as np\n",
    "import seaborn as sns\n",
    "import matplotlib.pyplot as plt\n",
    "from sklearn.cluster import KMeans, DBSCAN\n",
    "from sklearn.preprocessing import StandardScaler\n",
    "from sklearn.metrics import silhouette_score\n",
    "from math import sqrt "
   ]
  },
  {
   "cell_type": "code",
   "execution_count": 2,
   "id": "e2499047",
   "metadata": {},
   "outputs": [],
   "source": [
    "#Gustavo/data/Para_juntar\n",
    "\n",
    "df=pd.read_csv('data/Grande_Base_4.csv',encoding='latin1')\n",
    "#df=df[df['CD_PROGRAMA_IES']!='31075010001P2']"
   ]
  },
  {
   "cell_type": "code",
   "execution_count": 3,
   "id": "5750bda8",
   "metadata": {},
   "outputs": [
    {
     "data": {
      "text/html": [
       "<div>\n",
       "<style scoped>\n",
       "    .dataframe tbody tr th:only-of-type {\n",
       "        vertical-align: middle;\n",
       "    }\n",
       "\n",
       "    .dataframe tbody tr th {\n",
       "        vertical-align: top;\n",
       "    }\n",
       "\n",
       "    .dataframe thead th {\n",
       "        text-align: right;\n",
       "    }\n",
       "</style>\n",
       "<table border=\"1\" class=\"dataframe\">\n",
       "  <thead>\n",
       "    <tr style=\"text-align: right;\">\n",
       "      <th></th>\n",
       "      <th>CD_PROGRAMA_IES</th>\n",
       "      <th>AN_BASE</th>\n",
       "      <th>CD_AREA_AVALIACAO</th>\n",
       "      <th>IB_Total_docentes</th>\n",
       "      <th>IB_Mulheres</th>\n",
       "      <th>IB_Homens</th>\n",
       "      <th>IB_Brasileiros</th>\n",
       "      <th>IB_Estrangeiros</th>\n",
       "      <th>IB_QTDE_Regime_Parcial</th>\n",
       "      <th>IB_QTDE_Regime_Integral</th>\n",
       "      <th>...</th>\n",
       "      <th>CD_CONCEITO_PROGRAMA</th>\n",
       "      <th>UF_NM_MODALIDADE_PROGRAMA</th>\n",
       "      <th>UF_Qtd_Proj</th>\n",
       "      <th>UF_Outros projetos</th>\n",
       "      <th>UF_Qtd_Financiamentos</th>\n",
       "      <th>UF_BOLSA</th>\n",
       "      <th>UF_OUTRO AUXILIO FINANCEIRO</th>\n",
       "      <th>SEM AUXILIO</th>\n",
       "      <th>UF_DS_DEPENDENCIA_ADMINISTRATIVA</th>\n",
       "      <th>UF_QTD_FINANCIADORES</th>\n",
       "    </tr>\n",
       "  </thead>\n",
       "  <tbody>\n",
       "    <tr>\n",
       "      <th>0</th>\n",
       "      <td>10001018002P1</td>\n",
       "      <td>2013</td>\n",
       "      <td>9</td>\n",
       "      <td>25</td>\n",
       "      <td>10</td>\n",
       "      <td>15</td>\n",
       "      <td>25</td>\n",
       "      <td>0</td>\n",
       "      <td>16</td>\n",
       "      <td>9</td>\n",
       "      <td>...</td>\n",
       "      <td>3</td>\n",
       "      <td>1</td>\n",
       "      <td>19</td>\n",
       "      <td>2.0</td>\n",
       "      <td>16</td>\n",
       "      <td>1.0</td>\n",
       "      <td>15.0</td>\n",
       "      <td>0.0</td>\n",
       "      <td>1</td>\n",
       "      <td>3</td>\n",
       "    </tr>\n",
       "    <tr>\n",
       "      <th>1</th>\n",
       "      <td>10001018002P1</td>\n",
       "      <td>2014</td>\n",
       "      <td>9</td>\n",
       "      <td>22</td>\n",
       "      <td>8</td>\n",
       "      <td>14</td>\n",
       "      <td>22</td>\n",
       "      <td>0</td>\n",
       "      <td>16</td>\n",
       "      <td>6</td>\n",
       "      <td>...</td>\n",
       "      <td>3</td>\n",
       "      <td>1</td>\n",
       "      <td>26</td>\n",
       "      <td>3.0</td>\n",
       "      <td>20</td>\n",
       "      <td>1.0</td>\n",
       "      <td>19.0</td>\n",
       "      <td>0.0</td>\n",
       "      <td>1</td>\n",
       "      <td>3</td>\n",
       "    </tr>\n",
       "    <tr>\n",
       "      <th>2</th>\n",
       "      <td>10001018002P1</td>\n",
       "      <td>2015</td>\n",
       "      <td>9</td>\n",
       "      <td>22</td>\n",
       "      <td>8</td>\n",
       "      <td>14</td>\n",
       "      <td>22</td>\n",
       "      <td>0</td>\n",
       "      <td>15</td>\n",
       "      <td>5</td>\n",
       "      <td>...</td>\n",
       "      <td>3</td>\n",
       "      <td>1</td>\n",
       "      <td>26</td>\n",
       "      <td>3.0</td>\n",
       "      <td>19</td>\n",
       "      <td>1.0</td>\n",
       "      <td>18.0</td>\n",
       "      <td>0.0</td>\n",
       "      <td>1</td>\n",
       "      <td>3</td>\n",
       "    </tr>\n",
       "    <tr>\n",
       "      <th>3</th>\n",
       "      <td>10001018002P1</td>\n",
       "      <td>2016</td>\n",
       "      <td>9</td>\n",
       "      <td>20</td>\n",
       "      <td>7</td>\n",
       "      <td>13</td>\n",
       "      <td>20</td>\n",
       "      <td>0</td>\n",
       "      <td>14</td>\n",
       "      <td>4</td>\n",
       "      <td>...</td>\n",
       "      <td>3</td>\n",
       "      <td>1</td>\n",
       "      <td>40</td>\n",
       "      <td>5.0</td>\n",
       "      <td>32</td>\n",
       "      <td>2.0</td>\n",
       "      <td>30.0</td>\n",
       "      <td>0.0</td>\n",
       "      <td>1</td>\n",
       "      <td>4</td>\n",
       "    </tr>\n",
       "    <tr>\n",
       "      <th>4</th>\n",
       "      <td>10001018002P1</td>\n",
       "      <td>2017</td>\n",
       "      <td>9</td>\n",
       "      <td>22</td>\n",
       "      <td>8</td>\n",
       "      <td>14</td>\n",
       "      <td>22</td>\n",
       "      <td>0</td>\n",
       "      <td>16</td>\n",
       "      <td>4</td>\n",
       "      <td>...</td>\n",
       "      <td>4</td>\n",
       "      <td>1</td>\n",
       "      <td>68</td>\n",
       "      <td>7.0</td>\n",
       "      <td>58</td>\n",
       "      <td>6.0</td>\n",
       "      <td>52.0</td>\n",
       "      <td>0.0</td>\n",
       "      <td>1</td>\n",
       "      <td>4</td>\n",
       "    </tr>\n",
       "  </tbody>\n",
       "</table>\n",
       "<p>5 rows × 55 columns</p>\n",
       "</div>"
      ],
      "text/plain": [
       "  CD_PROGRAMA_IES  AN_BASE  CD_AREA_AVALIACAO  IB_Total_docentes  IB_Mulheres  \\\n",
       "0   10001018002P1     2013                  9                 25           10   \n",
       "1   10001018002P1     2014                  9                 22            8   \n",
       "2   10001018002P1     2015                  9                 22            8   \n",
       "3   10001018002P1     2016                  9                 20            7   \n",
       "4   10001018002P1     2017                  9                 22            8   \n",
       "\n",
       "   IB_Homens  IB_Brasileiros  IB_Estrangeiros  IB_QTDE_Regime_Parcial  \\\n",
       "0         15              25                0                      16   \n",
       "1         14              22                0                      16   \n",
       "2         14              22                0                      15   \n",
       "3         13              20                0                      14   \n",
       "4         14              22                0                      16   \n",
       "\n",
       "   IB_QTDE_Regime_Integral  ...  CD_CONCEITO_PROGRAMA  \\\n",
       "0                        9  ...                     3   \n",
       "1                        6  ...                     3   \n",
       "2                        5  ...                     3   \n",
       "3                        4  ...                     3   \n",
       "4                        4  ...                     4   \n",
       "\n",
       "   UF_NM_MODALIDADE_PROGRAMA  UF_Qtd_Proj  UF_Outros projetos  \\\n",
       "0                          1           19                 2.0   \n",
       "1                          1           26                 3.0   \n",
       "2                          1           26                 3.0   \n",
       "3                          1           40                 5.0   \n",
       "4                          1           68                 7.0   \n",
       "\n",
       "   UF_Qtd_Financiamentos  UF_BOLSA  UF_OUTRO AUXILIO FINANCEIRO  SEM AUXILIO  \\\n",
       "0                     16       1.0                         15.0          0.0   \n",
       "1                     20       1.0                         19.0          0.0   \n",
       "2                     19       1.0                         18.0          0.0   \n",
       "3                     32       2.0                         30.0          0.0   \n",
       "4                     58       6.0                         52.0          0.0   \n",
       "\n",
       "   UF_DS_DEPENDENCIA_ADMINISTRATIVA  UF_QTD_FINANCIADORES  \n",
       "0                                 1                     3  \n",
       "1                                 1                     3  \n",
       "2                                 1                     3  \n",
       "3                                 1                     4  \n",
       "4                                 1                     4  \n",
       "\n",
       "[5 rows x 55 columns]"
      ]
     },
     "execution_count": 3,
     "metadata": {},
     "output_type": "execute_result"
    }
   ],
   "source": [
    "df.head()"
   ]
  },
  {
   "cell_type": "code",
   "execution_count": 4,
   "id": "d0661b01",
   "metadata": {},
   "outputs": [
    {
     "name": "stdout",
     "output_type": "stream",
     "text": [
      "<class 'pandas.core.frame.DataFrame'>\n",
      "RangeIndex: 20141 entries, 0 to 20140\n",
      "Data columns (total 55 columns):\n",
      " #   Column                            Non-Null Count  Dtype  \n",
      "---  ------                            --------------  -----  \n",
      " 0   CD_PROGRAMA_IES                   20141 non-null  object \n",
      " 1   AN_BASE                           20141 non-null  int64  \n",
      " 2   CD_AREA_AVALIACAO                 20141 non-null  int64  \n",
      " 3   IB_Total_docentes                 20141 non-null  int64  \n",
      " 4   IB_Mulheres                       20141 non-null  int64  \n",
      " 5   IB_Homens                         20141 non-null  int64  \n",
      " 6   IB_Brasileiros                    20141 non-null  int64  \n",
      " 7   IB_Estrangeiros                   20141 non-null  int64  \n",
      " 8   IB_QTDE_Regime_Parcial            20141 non-null  int64  \n",
      " 9   IB_QTDE_Regime_Integral           20141 non-null  int64  \n",
      " 10  IB_QTDE_Regime_Exclusivo          20141 non-null  int64  \n",
      " 11  IB_QTDE_Prof_Doutor               20141 non-null  int64  \n",
      " 12  IB_QTDE_Prof_NaoDoutor            20141 non-null  int64  \n",
      " 13  IB_QTDE_titulados_Brasil          20141 non-null  int64  \n",
      " 14  IB_QTDE_titulados_Exterior        20141 non-null  int64  \n",
      " 15  IB_Profs_Colaboradores            20141 non-null  int64  \n",
      " 16  IB_Profs_ServidoresPublicos       20141 non-null  int64  \n",
      " 17  IB_Profs_VinculoCLT               20141 non-null  int64  \n",
      " 18  IB_Profs_Aposentados              20141 non-null  int64  \n",
      " 19  IB_Profs_BolsaDeFixacao           20141 non-null  int64  \n",
      " 20  IB_Total_cursos                   20141 non-null  int64  \n",
      " 21  MEDIA_CONCEITO_CURSO              20141 non-null  float64\n",
      " 22  ID_SUBTIPO_PRODUCAO               20141 non-null  float64\n",
      " 23  NM_SUBTIPO_PRODUCAO               20141 non-null  object \n",
      " 24  IN_TRABALHO_MESMA_AREA            20141 non-null  float64\n",
      " 25  NR_PAGINAS                        18798 non-null  float64\n",
      " 26  GUS_Lingua_estrangeira            20141 non-null  int64  \n",
      " 27  GUS_Quantidade_Trabalhos          20141 non-null  int64  \n",
      " 28  AN_NASCIMENTO_DOCENTE             20141 non-null  float64\n",
      " 29  SG_ENTIDADE_ENSINO                20141 non-null  object \n",
      " 30  GUS_Dis_Homens                    20141 non-null  int64  \n",
      " 31  GUS_Dis_Mulheres                  20141 non-null  int64  \n",
      " 32  GUS_Dis_Brasileiros               20141 non-null  int64  \n",
      " 33  GUS_Dis_Estrangeiros              20141 non-null  int64  \n",
      " 34  GUS_diferenca_idade               20141 non-null  float64\n",
      " 35  GUS_razao_aluno_prof              20141 non-null  float64\n",
      " 36  GUS_Quantidade_Discentes          20141 non-null  int64  \n",
      " 37  GUS_Dis_Prop_Homens               20141 non-null  float64\n",
      " 38  GUS_Dis_Aluno_Tempo               20140 non-null  float64\n",
      " 39  QT_MES_TITULACAO                  20140 non-null  float64\n",
      " 40  GUS_pag_por_aluno                 18798 non-null  float64\n",
      " 41  CS_STATUS_JURIDICO                20141 non-null  object \n",
      " 42  AN_NASCIMENTO_DISCENTE            20141 non-null  float64\n",
      " 43  NM_REGIAO                         20141 non-null  object \n",
      " 44  SG_UF_PROGRAMA                    20141 non-null  object \n",
      " 45  CD_CONCEITO_PROGRAMA              20141 non-null  int64  \n",
      " 46  UF_NM_MODALIDADE_PROGRAMA         20141 non-null  int64  \n",
      " 47  UF_Qtd_Proj                       20141 non-null  int64  \n",
      " 48  UF_Outros projetos                20141 non-null  float64\n",
      " 49  UF_Qtd_Financiamentos             20141 non-null  int64  \n",
      " 50  UF_BOLSA                          20141 non-null  float64\n",
      " 51  UF_OUTRO AUXILIO FINANCEIRO       20141 non-null  float64\n",
      " 52  SEM AUXILIO                       20141 non-null  float64\n",
      " 53  UF_DS_DEPENDENCIA_ADMINISTRATIVA  20141 non-null  int64  \n",
      " 54  UF_QTD_FINANCIADORES              20141 non-null  int64  \n",
      "dtypes: float64(16), int64(33), object(6)\n",
      "memory usage: 8.5+ MB\n"
     ]
    }
   ],
   "source": [
    "df.info()"
   ]
  },
  {
   "cell_type": "code",
   "execution_count": 5,
   "id": "1c45d31b",
   "metadata": {},
   "outputs": [
    {
     "name": "stdout",
     "output_type": "stream",
     "text": [
      "20141\n",
      "18797\n"
     ]
    }
   ],
   "source": [
    "#tirando os valores nulos\n",
    "\n",
    "print(len(df))\n",
    "df=df.dropna()\n",
    "print(len(df))"
   ]
  },
  {
   "cell_type": "markdown",
   "id": "48238964",
   "metadata": {},
   "source": [
    "# Clusterização"
   ]
  },
  {
   "cell_type": "code",
   "execution_count": 8,
   "id": "12f95dce",
   "metadata": {},
   "outputs": [],
   "source": [
    "x=df.iloc[:,np.r_[3:21,24:29,30:41,42,46:55]]\n",
    "y=df.iloc[:,21]"
   ]
  },
  {
   "cell_type": "code",
   "execution_count": 9,
   "id": "9cd5cba1",
   "metadata": {},
   "outputs": [],
   "source": [
    "#botando em escala\n",
    "\n",
    "scaler = StandardScaler().fit(x)\n",
    "x=scaler.transform(x)"
   ]
  },
  {
   "cell_type": "code",
   "execution_count": 24,
   "id": "34c0220e",
   "metadata": {},
   "outputs": [
    {
     "name": "stdout",
     "output_type": "stream",
     "text": [
      "1 827068\n",
      "2 691009\n",
      "3 637330\n",
      "4 597246\n",
      "5 575512\n",
      "6 559174\n",
      "7 545297\n",
      "8 534527\n",
      "9 523880\n",
      "10 511557\n"
     ]
    },
    {
     "data": {
      "image/png": "[encoded data removed]",
      "text/plain": [
       "<Figure size 432x288 with 1 Axes>"
      ]
     },
     "metadata": {
      "needs_background": "light"
     },
     "output_type": "display_data"
    }
   ],
   "source": [
    "#boilerplate daqui: https://minerandodados.com.br/algoritmo-k-means-python-passo-passo/\n",
    "wcss = []\n",
    "for i in range(1, 11):\n",
    "    kmeans = KMeans(n_clusters = i, init = 'random')\n",
    "    kmeans.fit(x)\n",
    "    print (i,round(kmeans.inertia_))\n",
    "    wcss.append(kmeans.inertia_)\n",
    "plt.plot(range(1, 11), wcss,color='black')\n",
    "plt.title('O Metodo Elbow')\n",
    "plt.xlabel('Numero de Clusters')\n",
    "plt.ylabel('WSS') #within cluster sum of squares\n",
    "plt.xticks([1,2,3,4,5,6,7,8,9,10]);"
   ]
  },
  {
   "cell_type": "code",
   "execution_count": 10,
   "id": "44bc2b95",
   "metadata": {
    "scrolled": true
   },
   "outputs": [
    {
     "name": "stdout",
     "output_type": "stream",
     "text": [
      "Número ideal de clusters = 6\n"
     ]
    }
   ],
   "source": [
    "def calculate_wcss(data):\n",
    "    wcss = []\n",
    "    for n in range(2, 21):\n",
    "        kmeans = KMeans(n_clusters=n)\n",
    "        kmeans.fit(X=data)\n",
    "        wcss.append(kmeans.inertia_)\n",
    "\n",
    "    return wcss\n",
    "\n",
    "def optimal_number_of_clusters(wcss):\n",
    "    x1, y1 = 2, wcss[0]\n",
    "    x2, y2 = 20, wcss[len(wcss)-1]\n",
    "    distances = []\n",
    "    for i in range(len(wcss)):\n",
    "        x0 = i+2\n",
    "        y0 = wcss[i]\n",
    "        numerator = abs((y2-y1)*x0 - (x2-x1)*y0 + x2*y1 - y2*x1)\n",
    "        denominator = sqrt((y2 - y1)**2 + (x2 - x1)**2)\n",
    "        distances.append(numerator/denominator)\n",
    "    \n",
    "    return distances.index(max(distances)) + 2\n",
    "\n",
    "# calculando a soma dos quadrados para as 19 quantidade de clusters\n",
    "sum_of_squares = calculate_wcss(x)\n",
    "\n",
    "# calculando a quantidade ótima de clusters\n",
    "n = optimal_number_of_clusters(sum_of_squares)\n",
    "\n",
    "print(\"Número ideal de clusters =\",n)"
   ]
  },
  {
   "cell_type": "markdown",
   "id": "1c3fbbf5",
   "metadata": {},
   "source": [
    "Resolvi ultilizar 4 clusters"
   ]
  },
  {
   "cell_type": "code",
   "execution_count": 11,
   "id": "c9b03dc0",
   "metadata": {},
   "outputs": [],
   "source": [
    "km=KMeans(n_clusters=4,random_state=0)\n",
    "pred=km.fit_predict(x)\n",
    "df['Cluster']=pred"
   ]
  },
  {
   "cell_type": "code",
   "execution_count": 12,
   "id": "8fc9c2ca",
   "metadata": {},
   "outputs": [],
   "source": [
    "df0=df[df.Cluster==0]\n",
    "df1=df[df.Cluster==1]\n",
    "df2=df[df.Cluster==2]\n",
    "df3=df[df.Cluster==3]"
   ]
  },
  {
   "cell_type": "code",
   "execution_count": 13,
   "id": "81eab083",
   "metadata": {},
   "outputs": [],
   "source": [
    "regiao=list(df.groupby('NM_REGIAO').mean().index)"
   ]
  },
  {
   "cell_type": "code",
   "execution_count": 14,
   "id": "c5f6a00b",
   "metadata": {},
   "outputs": [
    {
     "data": {
      "text/plain": [
       "<matplotlib.legend.Legend at 0x7f20a808a3d0>"
      ]
     },
     "execution_count": 14,
     "metadata": {},
     "output_type": "execute_result"
    },
    {
     "data": {
      "image/png": "[encoded data removed]",
      "text/plain": [
       "<Figure size 1080x432 with 1 Axes>"
      ]
     },
     "metadata": {
      "needs_background": "light"
     },
     "output_type": "display_data"
    }
   ],
   "source": [
    "plt.figure(figsize=(15,6))\n",
    "sns.countplot(x='NM_REGIAO',data=df0,hue='CD_CONCEITO_PROGRAMA',order=regiao)\n",
    "plt.title('Cluster 0',size=15)\n",
    "plt.legend(loc='upper left')"
   ]
  },
  {
   "cell_type": "code",
   "execution_count": 15,
   "id": "47da8519",
   "metadata": {},
   "outputs": [
    {
     "data": {
      "text/plain": [
       "<matplotlib.legend.Legend at 0x7f20a6b3c1c0>"
      ]
     },
     "execution_count": 15,
     "metadata": {},
     "output_type": "execute_result"
    },
    {
     "data": {
      "image/png": "[encoded data removed]",
      "text/plain": [
       "<Figure size 1080x432 with 1 Axes>"
      ]
     },
     "metadata": {
      "needs_background": "light"
     },
     "output_type": "display_data"
    }
   ],
   "source": [
    "plt.figure(figsize=(15,6))\n",
    "sns.countplot(x='NM_REGIAO',data=df1,hue='CD_CONCEITO_PROGRAMA',order=regiao)\n",
    "plt.title('Cluster 1',size=15)\n",
    "plt.legend(loc='upper left')"
   ]
  },
  {
   "cell_type": "code",
   "execution_count": 16,
   "id": "75e9e6b8",
   "metadata": {},
   "outputs": [
    {
     "data": {
      "text/plain": [
       "<matplotlib.legend.Legend at 0x7f20a6a83640>"
      ]
     },
     "execution_count": 16,
     "metadata": {},
     "output_type": "execute_result"
    },
    {
     "data": {
      "image/png": "[encoded data removed]",
      "text/plain": [
       "<Figure size 1080x432 with 1 Axes>"
      ]
     },
     "metadata": {
      "needs_background": "light"
     },
     "output_type": "display_data"
    }
   ],
   "source": [
    "plt.figure(figsize=(15,6))\n",
    "sns.countplot(x='NM_REGIAO',data=df2,hue='CD_CONCEITO_PROGRAMA',order=regiao)\n",
    "plt.title('Cluster 2',size=15)\n",
    "plt.legend(loc='upper left')"
   ]
  },
  {
   "cell_type": "code",
   "execution_count": 17,
   "id": "22974bda",
   "metadata": {},
   "outputs": [
    {
     "data": {
      "text/plain": [
       "<matplotlib.legend.Legend at 0x7f20a6acf940>"
      ]
     },
     "execution_count": 17,
     "metadata": {},
     "output_type": "execute_result"
    },
    {
     "data": {
      "image/png": "[encoded data removed]",
      "text/plain": [
       "<Figure size 1080x432 with 1 Axes>"
      ]
     },
     "metadata": {
      "needs_background": "light"
     },
     "output_type": "display_data"
    }
   ],
   "source": [
    "plt.figure(figsize=(15,6))\n",
    "sns.countplot(x='NM_REGIAO',data=df3,hue='CD_CONCEITO_PROGRAMA',order=regiao)\n",
    "plt.title('Cluster 3',size=15)\n",
    "plt.legend(loc='upper left')"
   ]
  },
  {
   "cell_type": "code",
   "execution_count": 18,
   "id": "ce366a0c",
   "metadata": {},
   "outputs": [
    {
     "name": "stdout",
     "output_type": "stream",
     "text": [
      "0 = 9207\n",
      "1 = 720\n",
      "2 = 3224\n",
      "3 = 5646\n"
     ]
    }
   ],
   "source": [
    "#tamanho de cada cluster\n",
    "index=0\n",
    "for i in [df0,df1,df2,df3]:\n",
    "    print(index,\"=\",len(i))\n",
    "    index+=1"
   ]
  },
  {
   "cell_type": "code",
   "execution_count": null,
   "id": "629763a9",
   "metadata": {},
   "outputs": [],
   "source": [
    "#número de docentes de cada cluster\n",
    "index=0\n",
    "for i in [df0,df1,df2,df3]:\n",
    "    print(index,\"=\",df['IB_Total_docentes'])\n",
    "    index+=1"
   ]
  },
  {
   "cell_type": "code",
   "execution_count": null,
   "id": "a697c4ee",
   "metadata": {},
   "outputs": [],
   "source": []
  }
 ],
 "metadata": {
  "kernelspec": {
   "display_name": "Python 3",
   "language": "python",
   "name": "python3"
  },
  "language_info": {
   "codemirror_mode": {
    "name": "ipython",
    "version": 3
   },
   "file_extension": ".py",
   "mimetype": "text/x-python",
   "name": "python",
   "nbconvert_exporter": "python",
   "pygments_lexer": "ipython3",
   "version": "3.8.5"
  },
  "varInspector": {
   "cols": {
    "lenName": 16,
    "lenType": 16,
    "lenVar": 40
   },
   "kernels_config": {
    "python": {
     "delete_cmd_postfix": "",
     "delete_cmd_prefix": "del ",
     "library": "var_list.py",
     "varRefreshCmd": "print(var_dic_list())"
    },
    "r": {
     "delete_cmd_postfix": ") ",
     "delete_cmd_prefix": "rm(",
     "library": "var_list.r",
     "varRefreshCmd": "cat(var_dic_list()) "
    }
   },
   "types_to_exclude": [
    "module",
    "function",
    "builtin_function_or_method",
    "instance",
    "_Feature"
   ],
   "window_display": false
  }
 },
 "nbformat": 4,
 "nbformat_minor": 5
}
