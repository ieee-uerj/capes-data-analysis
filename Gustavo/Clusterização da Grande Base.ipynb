{
 "cells": [
  {
   "cell_type": "code",
   "execution_count": 1,
   "id": "b196d108",
   "metadata": {},
   "outputs": [],
   "source": [
    "import pandas as pd\n",
    "import numpy as np\n",
    "import seaborn as sns\n",
    "import matplotlib.pyplot as plt\n",
    "from sklearn.cluster import KMeans, DBSCAN\n",
    "from sklearn.preprocessing import StandardScaler\n",
    "from sklearn.metrics import silhouette_score\n",
    "from math import sqrt\n",
    "import scipy.stats"
   ]
  },
  {
   "cell_type": "code",
   "execution_count": 2,
   "id": "e2499047",
   "metadata": {},
   "outputs": [],
   "source": [
    "#Gustavo/data/Para_juntar\n",
    "\n",
    "df=pd.read_csv('data/Grande_Base_4.csv',encoding='latin1')"
   ]
  },
  {
   "cell_type": "code",
   "execution_count": 3,
   "id": "5750bda8",
   "metadata": {
    "scrolled": true
   },
   "outputs": [
    {
     "data": {
      "text/html": [
       "<div>\n",
       "<style scoped>\n",
       "    .dataframe tbody tr th:only-of-type {\n",
       "        vertical-align: middle;\n",
       "    }\n",
       "\n",
       "    .dataframe tbody tr th {\n",
       "        vertical-align: top;\n",
       "    }\n",
       "\n",
       "    .dataframe thead th {\n",
       "        text-align: right;\n",
       "    }\n",
       "</style>\n",
       "<table border=\"1\" class=\"dataframe\">\n",
       "  <thead>\n",
       "    <tr style=\"text-align: right;\">\n",
       "      <th></th>\n",
       "      <th>CD_PROGRAMA_IES</th>\n",
       "      <th>AN_BASE</th>\n",
       "      <th>CD_AREA_AVALIACAO</th>\n",
       "      <th>IB_Total_docentes</th>\n",
       "      <th>IB_Mulheres</th>\n",
       "      <th>IB_Homens</th>\n",
       "      <th>IB_Brasileiros</th>\n",
       "      <th>IB_Estrangeiros</th>\n",
       "      <th>IB_QTDE_Regime_Parcial</th>\n",
       "      <th>IB_QTDE_Regime_Integral</th>\n",
       "      <th>...</th>\n",
       "      <th>CD_CONCEITO_PROGRAMA</th>\n",
       "      <th>UF_NM_MODALIDADE_PROGRAMA</th>\n",
       "      <th>UF_Qtd_Proj</th>\n",
       "      <th>UF_Outros projetos</th>\n",
       "      <th>UF_Qtd_Financiamentos</th>\n",
       "      <th>UF_BOLSA</th>\n",
       "      <th>UF_OUTRO AUXILIO FINANCEIRO</th>\n",
       "      <th>SEM AUXILIO</th>\n",
       "      <th>UF_DS_DEPENDENCIA_ADMINISTRATIVA</th>\n",
       "      <th>UF_QTD_FINANCIADORES</th>\n",
       "    </tr>\n",
       "  </thead>\n",
       "  <tbody>\n",
       "    <tr>\n",
       "      <th>0</th>\n",
       "      <td>10001018002P1</td>\n",
       "      <td>2013</td>\n",
       "      <td>9</td>\n",
       "      <td>25</td>\n",
       "      <td>10</td>\n",
       "      <td>15</td>\n",
       "      <td>25</td>\n",
       "      <td>0</td>\n",
       "      <td>16</td>\n",
       "      <td>9</td>\n",
       "      <td>...</td>\n",
       "      <td>3</td>\n",
       "      <td>1</td>\n",
       "      <td>19</td>\n",
       "      <td>2.0</td>\n",
       "      <td>16</td>\n",
       "      <td>1.0</td>\n",
       "      <td>15.0</td>\n",
       "      <td>0.0</td>\n",
       "      <td>1</td>\n",
       "      <td>3</td>\n",
       "    </tr>\n",
       "    <tr>\n",
       "      <th>1</th>\n",
       "      <td>10001018002P1</td>\n",
       "      <td>2014</td>\n",
       "      <td>9</td>\n",
       "      <td>22</td>\n",
       "      <td>8</td>\n",
       "      <td>14</td>\n",
       "      <td>22</td>\n",
       "      <td>0</td>\n",
       "      <td>16</td>\n",
       "      <td>6</td>\n",
       "      <td>...</td>\n",
       "      <td>3</td>\n",
       "      <td>1</td>\n",
       "      <td>26</td>\n",
       "      <td>3.0</td>\n",
       "      <td>20</td>\n",
       "      <td>1.0</td>\n",
       "      <td>19.0</td>\n",
       "      <td>0.0</td>\n",
       "      <td>1</td>\n",
       "      <td>3</td>\n",
       "    </tr>\n",
       "    <tr>\n",
       "      <th>2</th>\n",
       "      <td>10001018002P1</td>\n",
       "      <td>2015</td>\n",
       "      <td>9</td>\n",
       "      <td>22</td>\n",
       "      <td>8</td>\n",
       "      <td>14</td>\n",
       "      <td>22</td>\n",
       "      <td>0</td>\n",
       "      <td>15</td>\n",
       "      <td>5</td>\n",
       "      <td>...</td>\n",
       "      <td>3</td>\n",
       "      <td>1</td>\n",
       "      <td>26</td>\n",
       "      <td>3.0</td>\n",
       "      <td>19</td>\n",
       "      <td>1.0</td>\n",
       "      <td>18.0</td>\n",
       "      <td>0.0</td>\n",
       "      <td>1</td>\n",
       "      <td>3</td>\n",
       "    </tr>\n",
       "    <tr>\n",
       "      <th>3</th>\n",
       "      <td>10001018002P1</td>\n",
       "      <td>2016</td>\n",
       "      <td>9</td>\n",
       "      <td>20</td>\n",
       "      <td>7</td>\n",
       "      <td>13</td>\n",
       "      <td>20</td>\n",
       "      <td>0</td>\n",
       "      <td>14</td>\n",
       "      <td>4</td>\n",
       "      <td>...</td>\n",
       "      <td>3</td>\n",
       "      <td>1</td>\n",
       "      <td>40</td>\n",
       "      <td>5.0</td>\n",
       "      <td>32</td>\n",
       "      <td>2.0</td>\n",
       "      <td>30.0</td>\n",
       "      <td>0.0</td>\n",
       "      <td>1</td>\n",
       "      <td>4</td>\n",
       "    </tr>\n",
       "    <tr>\n",
       "      <th>4</th>\n",
       "      <td>10001018002P1</td>\n",
       "      <td>2017</td>\n",
       "      <td>9</td>\n",
       "      <td>22</td>\n",
       "      <td>8</td>\n",
       "      <td>14</td>\n",
       "      <td>22</td>\n",
       "      <td>0</td>\n",
       "      <td>16</td>\n",
       "      <td>4</td>\n",
       "      <td>...</td>\n",
       "      <td>4</td>\n",
       "      <td>1</td>\n",
       "      <td>68</td>\n",
       "      <td>7.0</td>\n",
       "      <td>58</td>\n",
       "      <td>6.0</td>\n",
       "      <td>52.0</td>\n",
       "      <td>0.0</td>\n",
       "      <td>1</td>\n",
       "      <td>4</td>\n",
       "    </tr>\n",
       "  </tbody>\n",
       "</table>\n",
       "<p>5 rows × 55 columns</p>\n",
       "</div>"
      ],
      "text/plain": [
       "  CD_PROGRAMA_IES  AN_BASE  CD_AREA_AVALIACAO  IB_Total_docentes  IB_Mulheres  \\\n",
       "0   10001018002P1     2013                  9                 25           10   \n",
       "1   10001018002P1     2014                  9                 22            8   \n",
       "2   10001018002P1     2015                  9                 22            8   \n",
       "3   10001018002P1     2016                  9                 20            7   \n",
       "4   10001018002P1     2017                  9                 22            8   \n",
       "\n",
       "   IB_Homens  IB_Brasileiros  IB_Estrangeiros  IB_QTDE_Regime_Parcial  \\\n",
       "0         15              25                0                      16   \n",
       "1         14              22                0                      16   \n",
       "2         14              22                0                      15   \n",
       "3         13              20                0                      14   \n",
       "4         14              22                0                      16   \n",
       "\n",
       "   IB_QTDE_Regime_Integral  ...  CD_CONCEITO_PROGRAMA  \\\n",
       "0                        9  ...                     3   \n",
       "1                        6  ...                     3   \n",
       "2                        5  ...                     3   \n",
       "3                        4  ...                     3   \n",
       "4                        4  ...                     4   \n",
       "\n",
       "   UF_NM_MODALIDADE_PROGRAMA  UF_Qtd_Proj  UF_Outros projetos  \\\n",
       "0                          1           19                 2.0   \n",
       "1                          1           26                 3.0   \n",
       "2                          1           26                 3.0   \n",
       "3                          1           40                 5.0   \n",
       "4                          1           68                 7.0   \n",
       "\n",
       "   UF_Qtd_Financiamentos  UF_BOLSA  UF_OUTRO AUXILIO FINANCEIRO  SEM AUXILIO  \\\n",
       "0                     16       1.0                         15.0          0.0   \n",
       "1                     20       1.0                         19.0          0.0   \n",
       "2                     19       1.0                         18.0          0.0   \n",
       "3                     32       2.0                         30.0          0.0   \n",
       "4                     58       6.0                         52.0          0.0   \n",
       "\n",
       "   UF_DS_DEPENDENCIA_ADMINISTRATIVA  UF_QTD_FINANCIADORES  \n",
       "0                                 1                     3  \n",
       "1                                 1                     3  \n",
       "2                                 1                     3  \n",
       "3                                 1                     4  \n",
       "4                                 1                     4  \n",
       "\n",
       "[5 rows x 55 columns]"
      ]
     },
     "execution_count": 3,
     "metadata": {},
     "output_type": "execute_result"
    }
   ],
   "source": [
    "df.head()"
   ]
  },
  {
   "cell_type": "code",
   "execution_count": 4,
   "id": "d0661b01",
   "metadata": {},
   "outputs": [
    {
     "name": "stdout",
     "output_type": "stream",
     "text": [
      "<class 'pandas.core.frame.DataFrame'>\n",
      "RangeIndex: 20141 entries, 0 to 20140\n",
      "Data columns (total 55 columns):\n",
      " #   Column                            Non-Null Count  Dtype  \n",
      "---  ------                            --------------  -----  \n",
      " 0   CD_PROGRAMA_IES                   20141 non-null  object \n",
      " 1   AN_BASE                           20141 non-null  int64  \n",
      " 2   CD_AREA_AVALIACAO                 20141 non-null  int64  \n",
      " 3   IB_Total_docentes                 20141 non-null  int64  \n",
      " 4   IB_Mulheres                       20141 non-null  int64  \n",
      " 5   IB_Homens                         20141 non-null  int64  \n",
      " 6   IB_Brasileiros                    20141 non-null  int64  \n",
      " 7   IB_Estrangeiros                   20141 non-null  int64  \n",
      " 8   IB_QTDE_Regime_Parcial            20141 non-null  int64  \n",
      " 9   IB_QTDE_Regime_Integral           20141 non-null  int64  \n",
      " 10  IB_QTDE_Regime_Exclusivo          20141 non-null  int64  \n",
      " 11  IB_QTDE_Prof_Doutor               20141 non-null  int64  \n",
      " 12  IB_QTDE_Prof_NaoDoutor            20141 non-null  int64  \n",
      " 13  IB_QTDE_titulados_Brasil          20141 non-null  int64  \n",
      " 14  IB_QTDE_titulados_Exterior        20141 non-null  int64  \n",
      " 15  IB_Profs_Colaboradores            20141 non-null  int64  \n",
      " 16  IB_Profs_ServidoresPublicos       20141 non-null  int64  \n",
      " 17  IB_Profs_VinculoCLT               20141 non-null  int64  \n",
      " 18  IB_Profs_Aposentados              20141 non-null  int64  \n",
      " 19  IB_Profs_BolsaDeFixacao           20141 non-null  int64  \n",
      " 20  IB_Total_cursos                   20141 non-null  int64  \n",
      " 21  MEDIA_CONCEITO_CURSO              20141 non-null  float64\n",
      " 22  ID_SUBTIPO_PRODUCAO               20141 non-null  float64\n",
      " 23  NM_SUBTIPO_PRODUCAO               20141 non-null  object \n",
      " 24  IN_TRABALHO_MESMA_AREA            20141 non-null  float64\n",
      " 25  NR_PAGINAS                        18798 non-null  float64\n",
      " 26  GUS_Lingua_estrangeira            20141 non-null  int64  \n",
      " 27  GUS_Quantidade_Trabalhos          20141 non-null  int64  \n",
      " 28  AN_NASCIMENTO_DOCENTE             20141 non-null  float64\n",
      " 29  SG_ENTIDADE_ENSINO                20141 non-null  object \n",
      " 30  GUS_Dis_Homens                    20141 non-null  int64  \n",
      " 31  GUS_Dis_Mulheres                  20141 non-null  int64  \n",
      " 32  GUS_Dis_Brasileiros               20141 non-null  int64  \n",
      " 33  GUS_Dis_Estrangeiros              20141 non-null  int64  \n",
      " 34  GUS_diferenca_idade               20141 non-null  float64\n",
      " 35  GUS_razao_aluno_prof              20141 non-null  float64\n",
      " 36  GUS_Quantidade_Discentes          20141 non-null  int64  \n",
      " 37  GUS_Dis_Prop_Homens               20141 non-null  float64\n",
      " 38  GUS_Dis_Aluno_Tempo               20140 non-null  float64\n",
      " 39  QT_MES_TITULACAO                  20140 non-null  float64\n",
      " 40  GUS_pag_por_aluno                 18798 non-null  float64\n",
      " 41  CS_STATUS_JURIDICO                20141 non-null  object \n",
      " 42  AN_NASCIMENTO_DISCENTE            20141 non-null  float64\n",
      " 43  NM_REGIAO                         20141 non-null  object \n",
      " 44  SG_UF_PROGRAMA                    20141 non-null  object \n",
      " 45  CD_CONCEITO_PROGRAMA              20141 non-null  int64  \n",
      " 46  UF_NM_MODALIDADE_PROGRAMA         20141 non-null  int64  \n",
      " 47  UF_Qtd_Proj                       20141 non-null  int64  \n",
      " 48  UF_Outros projetos                20141 non-null  float64\n",
      " 49  UF_Qtd_Financiamentos             20141 non-null  int64  \n",
      " 50  UF_BOLSA                          20141 non-null  float64\n",
      " 51  UF_OUTRO AUXILIO FINANCEIRO       20141 non-null  float64\n",
      " 52  SEM AUXILIO                       20141 non-null  float64\n",
      " 53  UF_DS_DEPENDENCIA_ADMINISTRATIVA  20141 non-null  int64  \n",
      " 54  UF_QTD_FINANCIADORES              20141 non-null  int64  \n",
      "dtypes: float64(16), int64(33), object(6)\n",
      "memory usage: 8.5+ MB\n"
     ]
    }
   ],
   "source": [
    "df.info()"
   ]
  },
  {
   "cell_type": "code",
   "execution_count": 5,
   "id": "1c45d31b",
   "metadata": {},
   "outputs": [
    {
     "name": "stdout",
     "output_type": "stream",
     "text": [
      "20141\n",
      "18797\n"
     ]
    }
   ],
   "source": [
    "#tirando os valores nulos\n",
    "\n",
    "print(len(df))\n",
    "df=df.dropna()\n",
    "print(len(df))"
   ]
  },
  {
   "cell_type": "markdown",
   "id": "48238964",
   "metadata": {},
   "source": [
    "# Clusterização"
   ]
  },
  {
   "cell_type": "code",
   "execution_count": 6,
   "id": "12f95dce",
   "metadata": {},
   "outputs": [],
   "source": [
    "x=df.iloc[:,np.r_[3:21,24:29,30:41,42,46:55]]"
   ]
  },
  {
   "cell_type": "code",
   "execution_count": 7,
   "id": "9cd5cba1",
   "metadata": {},
   "outputs": [],
   "source": [
    "#botando em escala\n",
    "\n",
    "scaler = StandardScaler().fit(x)\n",
    "x=scaler.transform(x)"
   ]
  },
  {
   "cell_type": "markdown",
   "id": "48263c33",
   "metadata": {},
   "source": [
    "### Demora rodar esses testes de número ideal de clusters"
   ]
  },
  {
   "cell_type": "raw",
   "id": "f94c1c28",
   "metadata": {},
   "source": [
    "#boilerplate daqui: https://minerandodados.com.br/algoritmo-k-means-python-passo-passo/\n",
    "wcss = []\n",
    "for i in range(1, 11):\n",
    "    kmeans = KMeans(n_clusters = i, init = 'random')\n",
    "    kmeans.fit(x)\n",
    "    print (i,round(kmeans.inertia_))\n",
    "    wcss.append(kmeans.inertia_)\n",
    "plt.plot(range(1, 11), wcss,color='black')\n",
    "plt.title('O Metodo Elbow')\n",
    "plt.xlabel('Numero de Clusters')\n",
    "plt.ylabel('WSS') #within cluster sum of squares\n",
    "plt.xticks([1,2,3,4,5,6,7,8,9,10]);"
   ]
  },
  {
   "cell_type": "raw",
   "id": "5aa00b39",
   "metadata": {
    "scrolled": true
   },
   "source": [
    "def calculate_wcss(data):\n",
    "    wcss = []\n",
    "    for n in range(2, 21):\n",
    "        kmeans = KMeans(n_clusters=n)\n",
    "        kmeans.fit(X=data)\n",
    "        wcss.append(kmeans.inertia_)\n",
    "\n",
    "    return wcss\n",
    "\n",
    "def optimal_number_of_clusters(wcss):\n",
    "    x1, y1 = 2, wcss[0]\n",
    "    x2, y2 = 20, wcss[len(wcss)-1]\n",
    "    distances = []\n",
    "    for i in range(len(wcss)):\n",
    "        x0 = i+2\n",
    "        y0 = wcss[i]\n",
    "        numerator = abs((y2-y1)*x0 - (x2-x1)*y0 + x2*y1 - y2*x1)\n",
    "        denominator = sqrt((y2 - y1)**2 + (x2 - x1)**2)\n",
    "        distances.append(numerator/denominator)\n",
    "    \n",
    "    return distances.index(max(distances)) + 2\n",
    "\n",
    "# calculando a soma dos quadrados para as 19 quantidade de clusters\n",
    "sum_of_squares = calculate_wcss(x)\n",
    "\n",
    "# calculando a quantidade ótima de clusters\n",
    "n = optimal_number_of_clusters(sum_of_squares)\n",
    "\n",
    "print(\"Número ideal de clusters =\",n)"
   ]
  },
  {
   "cell_type": "markdown",
   "id": "1c3fbbf5",
   "metadata": {},
   "source": [
    "Resolvi ultilizar 4 clusters"
   ]
  },
  {
   "cell_type": "code",
   "execution_count": 8,
   "id": "c9b03dc0",
   "metadata": {},
   "outputs": [],
   "source": [
    "km=KMeans(n_clusters=4,random_state=0)\n",
    "pred=km.fit_predict(x)\n",
    "df['Cluster']=pred"
   ]
  },
  {
   "cell_type": "code",
   "execution_count": 9,
   "id": "8fc9c2ca",
   "metadata": {},
   "outputs": [],
   "source": [
    "df0=df[df.Cluster==0]\n",
    "df1=df[df.Cluster==1]\n",
    "df2=df[df.Cluster==2]\n",
    "df3=df[df.Cluster==3]"
   ]
  },
  {
   "cell_type": "code",
   "execution_count": 10,
   "id": "81eab083",
   "metadata": {},
   "outputs": [],
   "source": [
    "regiao=list(df.groupby('NM_REGIAO').mean().index)"
   ]
  },
  {
   "cell_type": "code",
   "execution_count": 11,
   "id": "c5f6a00b",
   "metadata": {},
   "outputs": [
    {
     "data": {
      "text/plain": [
       "<matplotlib.legend.Legend at 0x7f5ad710cd90>"
      ]
     },
     "execution_count": 11,
     "metadata": {},
     "output_type": "execute_result"
    },
    {
     "data": {
      "image/png": "[encoded data removed]",
      "text/plain": [
       "<Figure size 1080x432 with 1 Axes>"
      ]
     },
     "metadata": {
      "needs_background": "light"
     },
     "output_type": "display_data"
    }
   ],
   "source": [
    "plt.figure(figsize=(15,6))\n",
    "sns.countplot(x='NM_REGIAO',data=df0,hue='CD_CONCEITO_PROGRAMA',order=regiao)\n",
    "plt.title('Região vs Conceito: Cluster 0',size=15)\n",
    "plt.legend(loc='upper left')"
   ]
  },
  {
   "cell_type": "code",
   "execution_count": 12,
   "id": "47da8519",
   "metadata": {},
   "outputs": [
    {
     "data": {
      "text/plain": [
       "<matplotlib.legend.Legend at 0x7f5ad605bdf0>"
      ]
     },
     "execution_count": 12,
     "metadata": {},
     "output_type": "execute_result"
    },
    {
     "data": {
      "image/png": "[encoded data removed]",
      "text/plain": [
       "<Figure size 1080x432 with 1 Axes>"
      ]
     },
     "metadata": {
      "needs_background": "light"
     },
     "output_type": "display_data"
    }
   ],
   "source": [
    "plt.figure(figsize=(15,6))\n",
    "sns.countplot(x='NM_REGIAO',data=df1,hue='CD_CONCEITO_PROGRAMA',order=regiao)\n",
    "plt.title('Região vs Conceito: Cluster 1',size=15)\n",
    "plt.legend(loc='upper left')"
   ]
  },
  {
   "cell_type": "code",
   "execution_count": 13,
   "id": "75e9e6b8",
   "metadata": {},
   "outputs": [
    {
     "data": {
      "text/plain": [
       "<matplotlib.legend.Legend at 0x7f5ad5f0b610>"
      ]
     },
     "execution_count": 13,
     "metadata": {},
     "output_type": "execute_result"
    },
    {
     "data": {
      "image/png": "[encoded data removed]",
      "text/plain": [
       "<Figure size 1080x432 with 1 Axes>"
      ]
     },
     "metadata": {
      "needs_background": "light"
     },
     "output_type": "display_data"
    }
   ],
   "source": [
    "plt.figure(figsize=(15,6))\n",
    "sns.countplot(x='NM_REGIAO',data=df2,hue='CD_CONCEITO_PROGRAMA',order=regiao)\n",
    "plt.title('Região vs Conceito: Cluster 2',size=15)\n",
    "plt.legend(loc='upper left')"
   ]
  },
  {
   "cell_type": "code",
   "execution_count": 14,
   "id": "22974bda",
   "metadata": {},
   "outputs": [
    {
     "data": {
      "text/plain": [
       "<matplotlib.legend.Legend at 0x7f5ad5eb82e0>"
      ]
     },
     "execution_count": 14,
     "metadata": {},
     "output_type": "execute_result"
    },
    {
     "data": {
      "image/png": "[encoded data removed]",
      "text/plain": [
       "<Figure size 1080x432 with 1 Axes>"
      ]
     },
     "metadata": {
      "needs_background": "light"
     },
     "output_type": "display_data"
    }
   ],
   "source": [
    "plt.figure(figsize=(15,6))\n",
    "sns.countplot(x='NM_REGIAO',data=df3,hue='CD_CONCEITO_PROGRAMA',order=regiao)\n",
    "plt.title('Região vs Conceito: Cluster 3',size=15)\n",
    "plt.legend(loc='upper left')"
   ]
  },
  {
   "cell_type": "markdown",
   "id": "928efa99",
   "metadata": {},
   "source": [
    "    O Cluster 0 parece ser o mais \"democrático\". É o cluster onde as outras regiões não são tão ofuscadas pela Sudeste.\n",
    "    Já o Cluster 1 é o mais \"exclusivo\". Regiões menos austrais são quase que totalmente apagadas, com a Norte praticamente não existindo.\n",
    "    O Cluster 2 se mostra mais como um cluster _sulista_, com presença massiva das regiões Sul e Sudeste"
   ]
  },
  {
   "cell_type": "code",
   "execution_count": 15,
   "id": "ce366a0c",
   "metadata": {
    "scrolled": true
   },
   "outputs": [
    {
     "data": {
      "image/png": "[encoded data removed]",
      "text/plain": [
       "<Figure size 748.8x345.6 with 1 Axes>"
      ]
     },
     "metadata": {
      "needs_background": "light"
     },
     "output_type": "display_data"
    }
   ],
   "source": [
    "#tamanho de cada cluster\n",
    "plt.figure(figsize=(10.4, 4.8))\n",
    "\n",
    "barras = ['Cluster 0','Cluster 1', 'Cluster 2', 'Cluster 3']\n",
    "altura = [len(df0),len(df1),len(df2),len(df3)]\n",
    "\n",
    "plt.barh(barras, altura,color='grey')\n",
    "plt.title(\"Tamanho de cada cluster\",size='14')\n",
    "for index, value in enumerate(altura):\n",
    "    plt.text(value, index, str(value))"
   ]
  },
  {
   "cell_type": "code",
   "execution_count": 16,
   "id": "0a3048f5",
   "metadata": {},
   "outputs": [],
   "source": [
    "def plotbarras(feature,titulo=''):\n",
    "    barras = ['Cluster 0','Cluster 1', 'Cluster 2', 'Cluster 3']\n",
    "    altura = [df0[feature].mean(),df1[feature].mean(),\n",
    "         df2[feature].mean(),df3[feature].mean()]\n",
    "\n",
    "    plt.barh(barras, altura,color='grey')\n",
    "    plt.title(titulo,size='14')\n",
    "    for index, value in enumerate(altura):\n",
    "        plt.text(value, index, str(f\"{value:.2f}\"))"
   ]
  },
  {
   "cell_type": "code",
   "execution_count": 17,
   "id": "221626a2",
   "metadata": {
    "scrolled": false
   },
   "outputs": [
    {
     "data": {
      "image/png": "[encoded data removed]",
      "text/plain": [
       "<Figure size 612x432 with 1 Axes>"
      ]
     },
     "metadata": {
      "needs_background": "light"
     },
     "output_type": "display_data"
    }
   ],
   "source": [
    "plt.figure(figsize=(8.5, 6))\n",
    "plotbarras('CD_CONCEITO_PROGRAMA',\"Conceito médio por cluster\")"
   ]
  },
  {
   "cell_type": "markdown",
   "id": "1011a8a8",
   "metadata": {},
   "source": [
    "    É possível perceber que o Cluster 1 é o menor em tamanho mas o maior em nota. Isso o torna um tipo de \n",
    "    \"elite\" dos cursos de pós-graduação"
   ]
  },
  {
   "cell_type": "code",
   "execution_count": 18,
   "id": "add187cf",
   "metadata": {
    "scrolled": true
   },
   "outputs": [
    {
     "data": {
      "image/png": "[encoded data removed]",
      "text/plain": [
       "<Figure size 648x345.6 with 1 Axes>"
      ]
     },
     "metadata": {
      "needs_background": "light"
     },
     "output_type": "display_data"
    }
   ],
   "source": [
    "# Fonte: https://stackoverflow.com/questions/15033511/compute-a-confidence-interval-from-sample-data\n",
    "\n",
    "def IC(data, confidence=0.95):\n",
    "    '''Intervalo de confiança da média.\n",
    "        Retorna a média, intervalo inferior e intervalo superior.'''\n",
    "    a = 1.0 * np.array(data)\n",
    "    n = len(a)\n",
    "    m, se = np.mean(a), scipy.stats.sem(a)\n",
    "    h = se * scipy.stats.t.ppf((1 + confidence) / 2., n-1)\n",
    "    return np.array([m, m-h, m+h])\n",
    "\n",
    "m0,inf0,sup0=IC(df0.CD_CONCEITO_PROGRAMA).round(2)\n",
    "m1,inf1,sup1=IC(df1.CD_CONCEITO_PROGRAMA).round(2)\n",
    "m2,inf2,sup2=IC(df2.CD_CONCEITO_PROGRAMA).round(2)\n",
    "m3,inf3,sup3=IC(df3.CD_CONCEITO_PROGRAMA).round(2)\n",
    "\n",
    "plt.figure(figsize=(9, 4.8))\n",
    "\n",
    "#Fonte do boilerplate: https://stackoverflow.com/questions/59747313/how-to-plot-confidence-interval-in-python\n",
    "data_dict = {}\n",
    "data_dict['category'] = ['Cluster 0','Cluster 1','Cluster 2','Cluster3']\n",
    "data_dict['lower'] = [inf0,inf1,inf2,inf3]\n",
    "data_dict['upper'] = [sup0,sup1,sup2,sup3]\n",
    "dataset = pd.DataFrame(data_dict)\n",
    "for lower,upper,y in zip(dataset['lower'],dataset['upper'],range(len(dataset))):\n",
    "    plt.plot((lower,upper),(y,y),'ro-',color='black')\n",
    "plt.xlabel(\"Média\",size=13)\n",
    "plt.xticks(np.arange(min(data_dict['lower']),max(data_dict['upper'])+.25,0.25))\n",
    "plt.yticks(range(len(dataset)),list(dataset['category']),size=13)\n",
    "plt.title(\"Intervalo de confiança da média dos cursos (95%)\",size=15);"
   ]
  },
  {
   "cell_type": "markdown",
   "id": "d903e627",
   "metadata": {},
   "source": [
    "    Nenhum curso tem overlap da média com outro curso. Isso significa que eles as médias são estatisticamente diferentes"
   ]
  },
  {
   "cell_type": "code",
   "execution_count": 19,
   "id": "d5c64b39",
   "metadata": {},
   "outputs": [],
   "source": [
    "def sumario(dataframe):\n",
    "    '''Retorna o sumário do dataframe de features selecionadas'''\n",
    "    return dataframe.loc[:,['IB_Total_docentes','NR_PAGINAS','GUS_Lingua_estrangeira','AN_NASCIMENTO_DOCENTE',\n",
    "'SG_UF_PROGRAMA','UF_BOLSA','CD_CONCEITO_PROGRAMA']].describe().iloc[1:].round(2)"
   ]
  },
  {
   "cell_type": "code",
   "execution_count": 20,
   "id": "70ff9053",
   "metadata": {},
   "outputs": [
    {
     "data": {
      "text/html": [
       "<div>\n",
       "<style scoped>\n",
       "    .dataframe tbody tr th:only-of-type {\n",
       "        vertical-align: middle;\n",
       "    }\n",
       "\n",
       "    .dataframe tbody tr th {\n",
       "        vertical-align: top;\n",
       "    }\n",
       "\n",
       "    .dataframe thead th {\n",
       "        text-align: right;\n",
       "    }\n",
       "</style>\n",
       "<table border=\"1\" class=\"dataframe\">\n",
       "  <thead>\n",
       "    <tr style=\"text-align: right;\">\n",
       "      <th></th>\n",
       "      <th>IB_Total_docentes</th>\n",
       "      <th>NR_PAGINAS</th>\n",
       "      <th>GUS_Lingua_estrangeira</th>\n",
       "      <th>AN_NASCIMENTO_DOCENTE</th>\n",
       "      <th>UF_BOLSA</th>\n",
       "      <th>CD_CONCEITO_PROGRAMA</th>\n",
       "    </tr>\n",
       "  </thead>\n",
       "  <tbody>\n",
       "    <tr>\n",
       "      <th>mean</th>\n",
       "      <td>18.06</td>\n",
       "      <td>113.44</td>\n",
       "      <td>0.15</td>\n",
       "      <td>1967.53</td>\n",
       "      <td>11.72</td>\n",
       "      <td>3.67</td>\n",
       "    </tr>\n",
       "    <tr>\n",
       "      <th>std</th>\n",
       "      <td>4.46</td>\n",
       "      <td>40.33</td>\n",
       "      <td>0.72</td>\n",
       "      <td>4.72</td>\n",
       "      <td>13.45</td>\n",
       "      <td>0.80</td>\n",
       "    </tr>\n",
       "    <tr>\n",
       "      <th>min</th>\n",
       "      <td>5.00</td>\n",
       "      <td>1.00</td>\n",
       "      <td>0.00</td>\n",
       "      <td>1951.75</td>\n",
       "      <td>0.00</td>\n",
       "      <td>1.00</td>\n",
       "    </tr>\n",
       "    <tr>\n",
       "      <th>25%</th>\n",
       "      <td>15.00</td>\n",
       "      <td>84.64</td>\n",
       "      <td>0.00</td>\n",
       "      <td>1964.25</td>\n",
       "      <td>2.00</td>\n",
       "      <td>3.00</td>\n",
       "    </tr>\n",
       "    <tr>\n",
       "      <th>50%</th>\n",
       "      <td>18.00</td>\n",
       "      <td>107.89</td>\n",
       "      <td>0.00</td>\n",
       "      <td>1967.71</td>\n",
       "      <td>7.00</td>\n",
       "      <td>4.00</td>\n",
       "    </tr>\n",
       "    <tr>\n",
       "      <th>75%</th>\n",
       "      <td>21.00</td>\n",
       "      <td>136.70</td>\n",
       "      <td>0.00</td>\n",
       "      <td>1970.89</td>\n",
       "      <td>16.00</td>\n",
       "      <td>4.00</td>\n",
       "    </tr>\n",
       "    <tr>\n",
       "      <th>max</th>\n",
       "      <td>39.00</td>\n",
       "      <td>451.29</td>\n",
       "      <td>15.00</td>\n",
       "      <td>1982.00</td>\n",
       "      <td>110.00</td>\n",
       "      <td>7.00</td>\n",
       "    </tr>\n",
       "  </tbody>\n",
       "</table>\n",
       "</div>"
      ],
      "text/plain": [
       "      IB_Total_docentes  NR_PAGINAS  GUS_Lingua_estrangeira  \\\n",
       "mean              18.06      113.44                    0.15   \n",
       "std                4.46       40.33                    0.72   \n",
       "min                5.00        1.00                    0.00   \n",
       "25%               15.00       84.64                    0.00   \n",
       "50%               18.00      107.89                    0.00   \n",
       "75%               21.00      136.70                    0.00   \n",
       "max               39.00      451.29                   15.00   \n",
       "\n",
       "      AN_NASCIMENTO_DOCENTE  UF_BOLSA  CD_CONCEITO_PROGRAMA  \n",
       "mean                1967.53     11.72                  3.67  \n",
       "std                    4.72     13.45                  0.80  \n",
       "min                 1951.75      0.00                  1.00  \n",
       "25%                 1964.25      2.00                  3.00  \n",
       "50%                 1967.71      7.00                  4.00  \n",
       "75%                 1970.89     16.00                  4.00  \n",
       "max                 1982.00    110.00                  7.00  "
      ]
     },
     "execution_count": 20,
     "metadata": {},
     "output_type": "execute_result"
    }
   ],
   "source": [
    "sumario(df0)"
   ]
  },
  {
   "cell_type": "code",
   "execution_count": 21,
   "id": "1c293014",
   "metadata": {},
   "outputs": [
    {
     "data": {
      "text/html": [
       "<div>\n",
       "<style scoped>\n",
       "    .dataframe tbody tr th:only-of-type {\n",
       "        vertical-align: middle;\n",
       "    }\n",
       "\n",
       "    .dataframe tbody tr th {\n",
       "        vertical-align: top;\n",
       "    }\n",
       "\n",
       "    .dataframe thead th {\n",
       "        text-align: right;\n",
       "    }\n",
       "</style>\n",
       "<table border=\"1\" class=\"dataframe\">\n",
       "  <thead>\n",
       "    <tr style=\"text-align: right;\">\n",
       "      <th></th>\n",
       "      <th>IB_Total_docentes</th>\n",
       "      <th>NR_PAGINAS</th>\n",
       "      <th>GUS_Lingua_estrangeira</th>\n",
       "      <th>AN_NASCIMENTO_DOCENTE</th>\n",
       "      <th>UF_BOLSA</th>\n",
       "      <th>CD_CONCEITO_PROGRAMA</th>\n",
       "    </tr>\n",
       "  </thead>\n",
       "  <tbody>\n",
       "    <tr>\n",
       "      <th>mean</th>\n",
       "      <td>60.47</td>\n",
       "      <td>138.42</td>\n",
       "      <td>3.26</td>\n",
       "      <td>1963.37</td>\n",
       "      <td>54.66</td>\n",
       "      <td>5.67</td>\n",
       "    </tr>\n",
       "    <tr>\n",
       "      <th>std</th>\n",
       "      <td>15.84</td>\n",
       "      <td>43.31</td>\n",
       "      <td>6.99</td>\n",
       "      <td>3.84</td>\n",
       "      <td>56.18</td>\n",
       "      <td>1.16</td>\n",
       "    </tr>\n",
       "    <tr>\n",
       "      <th>min</th>\n",
       "      <td>25.00</td>\n",
       "      <td>39.60</td>\n",
       "      <td>0.00</td>\n",
       "      <td>1952.10</td>\n",
       "      <td>0.00</td>\n",
       "      <td>3.00</td>\n",
       "    </tr>\n",
       "    <tr>\n",
       "      <th>25%</th>\n",
       "      <td>50.00</td>\n",
       "      <td>107.76</td>\n",
       "      <td>0.00</td>\n",
       "      <td>1961.09</td>\n",
       "      <td>15.75</td>\n",
       "      <td>5.00</td>\n",
       "    </tr>\n",
       "    <tr>\n",
       "      <th>50%</th>\n",
       "      <td>57.00</td>\n",
       "      <td>130.50</td>\n",
       "      <td>0.00</td>\n",
       "      <td>1963.24</td>\n",
       "      <td>41.00</td>\n",
       "      <td>6.00</td>\n",
       "    </tr>\n",
       "    <tr>\n",
       "      <th>75%</th>\n",
       "      <td>69.00</td>\n",
       "      <td>167.37</td>\n",
       "      <td>3.00</td>\n",
       "      <td>1965.64</td>\n",
       "      <td>74.00</td>\n",
       "      <td>7.00</td>\n",
       "    </tr>\n",
       "    <tr>\n",
       "      <th>max</th>\n",
       "      <td>108.00</td>\n",
       "      <td>294.75</td>\n",
       "      <td>46.00</td>\n",
       "      <td>1976.92</td>\n",
       "      <td>372.00</td>\n",
       "      <td>7.00</td>\n",
       "    </tr>\n",
       "  </tbody>\n",
       "</table>\n",
       "</div>"
      ],
      "text/plain": [
       "      IB_Total_docentes  NR_PAGINAS  GUS_Lingua_estrangeira  \\\n",
       "mean              60.47      138.42                    3.26   \n",
       "std               15.84       43.31                    6.99   \n",
       "min               25.00       39.60                    0.00   \n",
       "25%               50.00      107.76                    0.00   \n",
       "50%               57.00      130.50                    0.00   \n",
       "75%               69.00      167.37                    3.00   \n",
       "max              108.00      294.75                   46.00   \n",
       "\n",
       "      AN_NASCIMENTO_DOCENTE  UF_BOLSA  CD_CONCEITO_PROGRAMA  \n",
       "mean                1963.37     54.66                  5.67  \n",
       "std                    3.84     56.18                  1.16  \n",
       "min                 1952.10      0.00                  3.00  \n",
       "25%                 1961.09     15.75                  5.00  \n",
       "50%                 1963.24     41.00                  6.00  \n",
       "75%                 1965.64     74.00                  7.00  \n",
       "max                 1976.92    372.00                  7.00  "
      ]
     },
     "execution_count": 21,
     "metadata": {},
     "output_type": "execute_result"
    }
   ],
   "source": [
    "sumario(df1)"
   ]
  },
  {
   "cell_type": "code",
   "execution_count": 22,
   "id": "d54b5257",
   "metadata": {},
   "outputs": [
    {
     "data": {
      "text/html": [
       "<div>\n",
       "<style scoped>\n",
       "    .dataframe tbody tr th:only-of-type {\n",
       "        vertical-align: middle;\n",
       "    }\n",
       "\n",
       "    .dataframe tbody tr th {\n",
       "        vertical-align: top;\n",
       "    }\n",
       "\n",
       "    .dataframe thead th {\n",
       "        text-align: right;\n",
       "    }\n",
       "</style>\n",
       "<table border=\"1\" class=\"dataframe\">\n",
       "  <thead>\n",
       "    <tr style=\"text-align: right;\">\n",
       "      <th></th>\n",
       "      <th>IB_Total_docentes</th>\n",
       "      <th>NR_PAGINAS</th>\n",
       "      <th>GUS_Lingua_estrangeira</th>\n",
       "      <th>AN_NASCIMENTO_DOCENTE</th>\n",
       "      <th>UF_BOLSA</th>\n",
       "      <th>CD_CONCEITO_PROGRAMA</th>\n",
       "    </tr>\n",
       "  </thead>\n",
       "  <tbody>\n",
       "    <tr>\n",
       "      <th>mean</th>\n",
       "      <td>15.74</td>\n",
       "      <td>118.80</td>\n",
       "      <td>0.30</td>\n",
       "      <td>1965.34</td>\n",
       "      <td>13.29</td>\n",
       "      <td>3.93</td>\n",
       "    </tr>\n",
       "    <tr>\n",
       "      <th>std</th>\n",
       "      <td>4.79</td>\n",
       "      <td>54.36</td>\n",
       "      <td>1.93</td>\n",
       "      <td>5.80</td>\n",
       "      <td>17.87</td>\n",
       "      <td>0.90</td>\n",
       "    </tr>\n",
       "    <tr>\n",
       "      <th>min</th>\n",
       "      <td>6.00</td>\n",
       "      <td>1.00</td>\n",
       "      <td>0.00</td>\n",
       "      <td>1944.75</td>\n",
       "      <td>0.00</td>\n",
       "      <td>1.00</td>\n",
       "    </tr>\n",
       "    <tr>\n",
       "      <th>25%</th>\n",
       "      <td>13.00</td>\n",
       "      <td>87.10</td>\n",
       "      <td>0.00</td>\n",
       "      <td>1961.66</td>\n",
       "      <td>2.00</td>\n",
       "      <td>3.00</td>\n",
       "    </tr>\n",
       "    <tr>\n",
       "      <th>50%</th>\n",
       "      <td>15.00</td>\n",
       "      <td>114.91</td>\n",
       "      <td>0.00</td>\n",
       "      <td>1965.85</td>\n",
       "      <td>7.00</td>\n",
       "      <td>4.00</td>\n",
       "    </tr>\n",
       "    <tr>\n",
       "      <th>75%</th>\n",
       "      <td>18.00</td>\n",
       "      <td>144.13</td>\n",
       "      <td>0.00</td>\n",
       "      <td>1969.35</td>\n",
       "      <td>17.00</td>\n",
       "      <td>4.00</td>\n",
       "    </tr>\n",
       "    <tr>\n",
       "      <th>max</th>\n",
       "      <td>51.00</td>\n",
       "      <td>2015.00</td>\n",
       "      <td>38.00</td>\n",
       "      <td>1979.53</td>\n",
       "      <td>166.00</td>\n",
       "      <td>7.00</td>\n",
       "    </tr>\n",
       "  </tbody>\n",
       "</table>\n",
       "</div>"
      ],
      "text/plain": [
       "      IB_Total_docentes  NR_PAGINAS  GUS_Lingua_estrangeira  \\\n",
       "mean              15.74      118.80                    0.30   \n",
       "std                4.79       54.36                    1.93   \n",
       "min                6.00        1.00                    0.00   \n",
       "25%               13.00       87.10                    0.00   \n",
       "50%               15.00      114.91                    0.00   \n",
       "75%               18.00      144.13                    0.00   \n",
       "max               51.00     2015.00                   38.00   \n",
       "\n",
       "      AN_NASCIMENTO_DOCENTE  UF_BOLSA  CD_CONCEITO_PROGRAMA  \n",
       "mean                1965.34     13.29                  3.93  \n",
       "std                    5.80     17.87                  0.90  \n",
       "min                 1944.75      0.00                  1.00  \n",
       "25%                 1961.66      2.00                  3.00  \n",
       "50%                 1965.85      7.00                  4.00  \n",
       "75%                 1969.35     17.00                  4.00  \n",
       "max                 1979.53    166.00                  7.00  "
      ]
     },
     "execution_count": 22,
     "metadata": {},
     "output_type": "execute_result"
    }
   ],
   "source": [
    "sumario(df2)"
   ]
  },
  {
   "cell_type": "code",
   "execution_count": 23,
   "id": "6c0989b8",
   "metadata": {},
   "outputs": [
    {
     "data": {
      "text/html": [
       "<div>\n",
       "<style scoped>\n",
       "    .dataframe tbody tr th:only-of-type {\n",
       "        vertical-align: middle;\n",
       "    }\n",
       "\n",
       "    .dataframe tbody tr th {\n",
       "        vertical-align: top;\n",
       "    }\n",
       "\n",
       "    .dataframe thead th {\n",
       "        text-align: right;\n",
       "    }\n",
       "</style>\n",
       "<table border=\"1\" class=\"dataframe\">\n",
       "  <thead>\n",
       "    <tr style=\"text-align: right;\">\n",
       "      <th></th>\n",
       "      <th>IB_Total_docentes</th>\n",
       "      <th>NR_PAGINAS</th>\n",
       "      <th>GUS_Lingua_estrangeira</th>\n",
       "      <th>AN_NASCIMENTO_DOCENTE</th>\n",
       "      <th>UF_BOLSA</th>\n",
       "      <th>CD_CONCEITO_PROGRAMA</th>\n",
       "    </tr>\n",
       "  </thead>\n",
       "  <tbody>\n",
       "    <tr>\n",
       "      <th>mean</th>\n",
       "      <td>29.16</td>\n",
       "      <td>136.10</td>\n",
       "      <td>0.69</td>\n",
       "      <td>1963.96</td>\n",
       "      <td>31.85</td>\n",
       "      <td>4.98</td>\n",
       "    </tr>\n",
       "    <tr>\n",
       "      <th>std</th>\n",
       "      <td>7.50</td>\n",
       "      <td>50.47</td>\n",
       "      <td>2.28</td>\n",
       "      <td>4.19</td>\n",
       "      <td>35.31</td>\n",
       "      <td>1.04</td>\n",
       "    </tr>\n",
       "    <tr>\n",
       "      <th>min</th>\n",
       "      <td>11.00</td>\n",
       "      <td>1.00</td>\n",
       "      <td>0.00</td>\n",
       "      <td>1946.14</td>\n",
       "      <td>0.00</td>\n",
       "      <td>2.00</td>\n",
       "    </tr>\n",
       "    <tr>\n",
       "      <th>25%</th>\n",
       "      <td>24.00</td>\n",
       "      <td>98.56</td>\n",
       "      <td>0.00</td>\n",
       "      <td>1961.11</td>\n",
       "      <td>8.00</td>\n",
       "      <td>4.00</td>\n",
       "    </tr>\n",
       "    <tr>\n",
       "      <th>50%</th>\n",
       "      <td>28.00</td>\n",
       "      <td>123.86</td>\n",
       "      <td>0.00</td>\n",
       "      <td>1963.82</td>\n",
       "      <td>22.00</td>\n",
       "      <td>5.00</td>\n",
       "    </tr>\n",
       "    <tr>\n",
       "      <th>75%</th>\n",
       "      <td>34.00</td>\n",
       "      <td>168.81</td>\n",
       "      <td>0.00</td>\n",
       "      <td>1966.73</td>\n",
       "      <td>44.00</td>\n",
       "      <td>6.00</td>\n",
       "    </tr>\n",
       "    <tr>\n",
       "      <th>max</th>\n",
       "      <td>59.00</td>\n",
       "      <td>629.00</td>\n",
       "      <td>42.00</td>\n",
       "      <td>1977.96</td>\n",
       "      <td>439.00</td>\n",
       "      <td>7.00</td>\n",
       "    </tr>\n",
       "  </tbody>\n",
       "</table>\n",
       "</div>"
      ],
      "text/plain": [
       "      IB_Total_docentes  NR_PAGINAS  GUS_Lingua_estrangeira  \\\n",
       "mean              29.16      136.10                    0.69   \n",
       "std                7.50       50.47                    2.28   \n",
       "min               11.00        1.00                    0.00   \n",
       "25%               24.00       98.56                    0.00   \n",
       "50%               28.00      123.86                    0.00   \n",
       "75%               34.00      168.81                    0.00   \n",
       "max               59.00      629.00                   42.00   \n",
       "\n",
       "      AN_NASCIMENTO_DOCENTE  UF_BOLSA  CD_CONCEITO_PROGRAMA  \n",
       "mean                1963.96     31.85                  4.98  \n",
       "std                    4.19     35.31                  1.04  \n",
       "min                 1946.14      0.00                  2.00  \n",
       "25%                 1961.11      8.00                  4.00  \n",
       "50%                 1963.82     22.00                  5.00  \n",
       "75%                 1966.73     44.00                  6.00  \n",
       "max                 1977.96    439.00                  7.00  "
      ]
     },
     "execution_count": 23,
     "metadata": {},
     "output_type": "execute_result"
    }
   ],
   "source": [
    "sumario(df3)\n"
   ]
  },
  {
   "cell_type": "code",
   "execution_count": 24,
   "id": "3f2ec6e2",
   "metadata": {
    "scrolled": false
   },
   "outputs": [],
   "source": [
    "def contarvalor(dataframe,coluna,normalize):\n",
    "    '''Conta os valores únicos de cada coluna do dataframe'''\n",
    "    if normalize:\n",
    "        return dataframe[coluna].value_counts(normalize=normalize).mul(100).round(2)\n",
    "    else:\n",
    "        return dataframe[coluna].value_counts()\n",
    "    \n",
    "def compcategorica(coluna,axis=1,normalize=True):\n",
    "    '''Eixo zero é normalizado pela coluna e eixo 1 é normalizado pela linha'''\n",
    "    if axis:\n",
    "        L=[]\n",
    "        dataframes=[df0,df1,df2,df3]\n",
    "        for i in dataframes:\n",
    "            L.append(contarvalor(i,coluna,normalize))\n",
    "        return pd.DataFrame(L,index=['Cluster 0','Cluster 1','Cluster 2','Cluster 3']).T.fillna(0)\n",
    "    else:\n",
    "        if not normalize:\n",
    "            print(\"Faz essa bosta direito\")\n",
    "            return -1\n",
    "        #repetindo o código de cima\n",
    "        #tinha jeito melhor? provavelmente mas preguiça de pensar num\n",
    "        L=[]\n",
    "        dataframes=[df0,df1,df2,df3]\n",
    "        for i in dataframes:\n",
    "            L.append(contarvalor(i,coluna,normalize))\n",
    "        data = pd.DataFrame(L,index=['Cluster 0','Cluster 1','Cluster 2','Cluster 3']).T.fillna(0)\n",
    "        \n",
    "        #agora normalizando no eixo requerido\n",
    "        L=[]\n",
    "        for i in range(data.shape[0]):\n",
    "            L.append((data.iloc[i]/sum(data.iloc[i])).mul(100).round(2).fillna(0))\n",
    "        return pd.DataFrame(L,index=list(data.index))"
   ]
  },
  {
   "cell_type": "code",
   "execution_count": 141,
   "id": "ad3b5cb2",
   "metadata": {
    "scrolled": true
   },
   "outputs": [
    {
     "data": {
      "text/html": [
       "<div>\n",
       "<style scoped>\n",
       "    .dataframe tbody tr th:only-of-type {\n",
       "        vertical-align: middle;\n",
       "    }\n",
       "\n",
       "    .dataframe tbody tr th {\n",
       "        vertical-align: top;\n",
       "    }\n",
       "\n",
       "    .dataframe thead th {\n",
       "        text-align: right;\n",
       "    }\n",
       "</style>\n",
       "<table border=\"1\" class=\"dataframe\">\n",
       "  <thead>\n",
       "    <tr style=\"text-align: right;\">\n",
       "      <th></th>\n",
       "      <th>Cluster 0</th>\n",
       "      <th>Cluster 1</th>\n",
       "      <th>Cluster 2</th>\n",
       "      <th>Cluster 3</th>\n",
       "    </tr>\n",
       "  </thead>\n",
       "  <tbody>\n",
       "    <tr>\n",
       "      <th>DISSERTAÇÃO</th>\n",
       "      <td>72.17</td>\n",
       "      <td>5.00</td>\n",
       "      <td>60.73</td>\n",
       "      <td>7.46</td>\n",
       "    </tr>\n",
       "    <tr>\n",
       "      <th>TESE</th>\n",
       "      <td>26.61</td>\n",
       "      <td>93.89</td>\n",
       "      <td>36.72</td>\n",
       "      <td>92.42</td>\n",
       "    </tr>\n",
       "    <tr>\n",
       "      <th>RELATÓRIO FINAL DE PESQUISA</th>\n",
       "      <td>0.17</td>\n",
       "      <td>0.00</td>\n",
       "      <td>0.16</td>\n",
       "      <td>0.04</td>\n",
       "    </tr>\n",
       "    <tr>\n",
       "      <th>PRODUTO, PROCESSO OU TÉCNICA</th>\n",
       "      <td>0.16</td>\n",
       "      <td>0.00</td>\n",
       "      <td>0.43</td>\n",
       "      <td>0.02</td>\n",
       "    </tr>\n",
       "    <tr>\n",
       "      <th>PROJETO TÉCNICO</th>\n",
       "      <td>0.14</td>\n",
       "      <td>0.00</td>\n",
       "      <td>0.19</td>\n",
       "      <td>0.02</td>\n",
       "    </tr>\n",
       "    <tr>\n",
       "      <th>PROPOSTA PEDAGÓGICA</th>\n",
       "      <td>0.08</td>\n",
       "      <td>0.00</td>\n",
       "      <td>0.03</td>\n",
       "      <td>0.00</td>\n",
       "    </tr>\n",
       "    <tr>\n",
       "      <th>REVISÃO SISTEMÁTICA E APROFUNDADA DA LITERATURA</th>\n",
       "      <td>0.07</td>\n",
       "      <td>0.14</td>\n",
       "      <td>0.12</td>\n",
       "      <td>0.00</td>\n",
       "    </tr>\n",
       "    <tr>\n",
       "      <th>OUTROS</th>\n",
       "      <td>0.07</td>\n",
       "      <td>0.00</td>\n",
       "      <td>0.09</td>\n",
       "      <td>0.00</td>\n",
       "    </tr>\n",
       "    <tr>\n",
       "      <th>MATERIAL DIDÁTICO E INSTRUCIONAL</th>\n",
       "      <td>0.07</td>\n",
       "      <td>0.00</td>\n",
       "      <td>0.12</td>\n",
       "      <td>0.00</td>\n",
       "    </tr>\n",
       "    <tr>\n",
       "      <th>PATENTE</th>\n",
       "      <td>0.05</td>\n",
       "      <td>0.42</td>\n",
       "      <td>0.43</td>\n",
       "      <td>0.00</td>\n",
       "    </tr>\n",
       "    <tr>\n",
       "      <th>PROPOSTA DE INTERVENÇÃO EM PROCEDIMENTOS CLÍNICOS OU DE SERVIÇO PERTINENTE</th>\n",
       "      <td>0.05</td>\n",
       "      <td>0.00</td>\n",
       "      <td>0.06</td>\n",
       "      <td>0.00</td>\n",
       "    </tr>\n",
       "    <tr>\n",
       "      <th>ARTIGO</th>\n",
       "      <td>0.05</td>\n",
       "      <td>0.00</td>\n",
       "      <td>0.03</td>\n",
       "      <td>0.00</td>\n",
       "    </tr>\n",
       "    <tr>\n",
       "      <th>PROJETO DE APLICAÇÃO OU ADEQUAÇÃO TECNOLÓGICA</th>\n",
       "      <td>0.04</td>\n",
       "      <td>0.00</td>\n",
       "      <td>0.12</td>\n",
       "      <td>0.00</td>\n",
       "    </tr>\n",
       "    <tr>\n",
       "      <th>PROJETO DE INOVAÇÃO TECNOLÓGICA</th>\n",
       "      <td>0.04</td>\n",
       "      <td>0.00</td>\n",
       "      <td>0.03</td>\n",
       "      <td>0.00</td>\n",
       "    </tr>\n",
       "    <tr>\n",
       "      <th>SOFTWARE</th>\n",
       "      <td>0.04</td>\n",
       "      <td>0.00</td>\n",
       "      <td>0.12</td>\n",
       "      <td>0.04</td>\n",
       "    </tr>\n",
       "    <tr>\n",
       "      <th>ESTUDO DE CASO</th>\n",
       "      <td>0.03</td>\n",
       "      <td>0.00</td>\n",
       "      <td>0.16</td>\n",
       "      <td>0.00</td>\n",
       "    </tr>\n",
       "    <tr>\n",
       "      <th>PROTOCOLO EXPERIMENTAL OU DE APLICAÇÃO EM SERVIÇOS</th>\n",
       "      <td>0.03</td>\n",
       "      <td>0.00</td>\n",
       "      <td>0.12</td>\n",
       "      <td>0.00</td>\n",
       "    </tr>\n",
       "    <tr>\n",
       "      <th>PROCESSO DE CRIAÇÃO</th>\n",
       "      <td>0.02</td>\n",
       "      <td>0.00</td>\n",
       "      <td>0.00</td>\n",
       "      <td>0.00</td>\n",
       "    </tr>\n",
       "    <tr>\n",
       "      <th>PUBLICAÇÃO TECNOLÓGICA</th>\n",
       "      <td>0.02</td>\n",
       "      <td>0.00</td>\n",
       "      <td>0.00</td>\n",
       "      <td>0.00</td>\n",
       "    </tr>\n",
       "    <tr>\n",
       "      <th>MANUAL DE OPERAÇÃO TÉCNICA</th>\n",
       "      <td>0.02</td>\n",
       "      <td>0.00</td>\n",
       "      <td>0.00</td>\n",
       "      <td>0.00</td>\n",
       "    </tr>\n",
       "    <tr>\n",
       "      <th>EDITORIA</th>\n",
       "      <td>0.01</td>\n",
       "      <td>0.14</td>\n",
       "      <td>0.03</td>\n",
       "      <td>0.00</td>\n",
       "    </tr>\n",
       "    <tr>\n",
       "      <th>REGISTRO DE PROPRIEDADE INTELECTUAL</th>\n",
       "      <td>0.01</td>\n",
       "      <td>0.14</td>\n",
       "      <td>0.03</td>\n",
       "      <td>0.00</td>\n",
       "    </tr>\n",
       "    <tr>\n",
       "      <th>PRODUÇÃO ARTÍSTICA</th>\n",
       "      <td>0.01</td>\n",
       "      <td>0.00</td>\n",
       "      <td>0.03</td>\n",
       "      <td>0.00</td>\n",
       "    </tr>\n",
       "    <tr>\n",
       "      <th>PROTÓTIPO PARA DESENVOLVIMENTO OU PRODUÇÃO DE INSTRUMENTOS</th>\n",
       "      <td>0.01</td>\n",
       "      <td>0.00</td>\n",
       "      <td>0.12</td>\n",
       "      <td>0.00</td>\n",
       "    </tr>\n",
       "    <tr>\n",
       "      <th>PRODUÇÃO DE PROGRAMAS DE MÍDIA</th>\n",
       "      <td>0.00</td>\n",
       "      <td>0.14</td>\n",
       "      <td>0.00</td>\n",
       "      <td>0.00</td>\n",
       "    </tr>\n",
       "    <tr>\n",
       "      <th>RELATÓRIO TÉCNICO COM REGRAS DE SIGILO</th>\n",
       "      <td>0.00</td>\n",
       "      <td>0.14</td>\n",
       "      <td>0.09</td>\n",
       "      <td>0.02</td>\n",
       "    </tr>\n",
       "  </tbody>\n",
       "</table>\n",
       "</div>"
      ],
      "text/plain": [
       "                                                    Cluster 0  Cluster 1  \\\n",
       "DISSERTAÇÃO                                             72.17       5.00   \n",
       "TESE                                                    26.61      93.89   \n",
       "RELATÓRIO FINAL DE PESQUISA                              0.17       0.00   \n",
       "PRODUTO, PROCESSO OU TÉCNICA                             0.16       0.00   \n",
       "PROJETO TÉCNICO                                          0.14       0.00   \n",
       "PROPOSTA PEDAGÓGICA                                      0.08       0.00   \n",
       "REVISÃO SISTEMÁTICA E APROFUNDADA DA LITERATURA          0.07       0.14   \n",
       "OUTROS                                                   0.07       0.00   \n",
       "MATERIAL DIDÁTICO E INSTRUCIONAL                         0.07       0.00   \n",
       "PATENTE                                                  0.05       0.42   \n",
       "PROPOSTA DE INTERVENÇÃO EM PROCEDIMENTOS CLÍNIC...       0.05       0.00   \n",
       "ARTIGO                                                   0.05       0.00   \n",
       "PROJETO DE APLICAÇÃO OU ADEQUAÇÃO TECNOLÓGICA            0.04       0.00   \n",
       "PROJETO DE INOVAÇÃO TECNOLÓGICA                          0.04       0.00   \n",
       "SOFTWARE                                                 0.04       0.00   \n",
       "ESTUDO DE CASO                                           0.03       0.00   \n",
       "PROTOCOLO EXPERIMENTAL OU DE APLICAÇÃO EM SERVIÇOS       0.03       0.00   \n",
       "PROCESSO DE CRIAÇÃO                                      0.02       0.00   \n",
       "PUBLICAÇÃO TECNOLÓGICA                                   0.02       0.00   \n",
       "MANUAL DE OPERAÇÃO TÉCNICA                               0.02       0.00   \n",
       "EDITORIA                                                 0.01       0.14   \n",
       "REGISTRO DE PROPRIEDADE INTELECTUAL                      0.01       0.14   \n",
       "PRODUÇÃO ARTÍSTICA                                       0.01       0.00   \n",
       "PROTÓTIPO PARA DESENVOLVIMENTO OU PRODUÇÃO DE I...       0.01       0.00   \n",
       "PRODUÇÃO DE PROGRAMAS DE MÍDIA                           0.00       0.14   \n",
       "RELATÓRIO TÉCNICO COM REGRAS DE SIGILO                   0.00       0.14   \n",
       "\n",
       "                                                    Cluster 2  Cluster 3  \n",
       "DISSERTAÇÃO                                             60.73       7.46  \n",
       "TESE                                                    36.72      92.42  \n",
       "RELATÓRIO FINAL DE PESQUISA                              0.16       0.04  \n",
       "PRODUTO, PROCESSO OU TÉCNICA                             0.43       0.02  \n",
       "PROJETO TÉCNICO                                          0.19       0.02  \n",
       "PROPOSTA PEDAGÓGICA                                      0.03       0.00  \n",
       "REVISÃO SISTEMÁTICA E APROFUNDADA DA LITERATURA          0.12       0.00  \n",
       "OUTROS                                                   0.09       0.00  \n",
       "MATERIAL DIDÁTICO E INSTRUCIONAL                         0.12       0.00  \n",
       "PATENTE                                                  0.43       0.00  \n",
       "PROPOSTA DE INTERVENÇÃO EM PROCEDIMENTOS CLÍNIC...       0.06       0.00  \n",
       "ARTIGO                                                   0.03       0.00  \n",
       "PROJETO DE APLICAÇÃO OU ADEQUAÇÃO TECNOLÓGICA            0.12       0.00  \n",
       "PROJETO DE INOVAÇÃO TECNOLÓGICA                          0.03       0.00  \n",
       "SOFTWARE                                                 0.12       0.04  \n",
       "ESTUDO DE CASO                                           0.16       0.00  \n",
       "PROTOCOLO EXPERIMENTAL OU DE APLICAÇÃO EM SERVIÇOS       0.12       0.00  \n",
       "PROCESSO DE CRIAÇÃO                                      0.00       0.00  \n",
       "PUBLICAÇÃO TECNOLÓGICA                                   0.00       0.00  \n",
       "MANUAL DE OPERAÇÃO TÉCNICA                               0.00       0.00  \n",
       "EDITORIA                                                 0.03       0.00  \n",
       "REGISTRO DE PROPRIEDADE INTELECTUAL                      0.03       0.00  \n",
       "PRODUÇÃO ARTÍSTICA                                       0.03       0.00  \n",
       "PROTÓTIPO PARA DESENVOLVIMENTO OU PRODUÇÃO DE I...       0.12       0.00  \n",
       "PRODUÇÃO DE PROGRAMAS DE MÍDIA                           0.00       0.00  \n",
       "RELATÓRIO TÉCNICO COM REGRAS DE SIGILO                   0.09       0.02  "
      ]
     },
     "execution_count": 141,
     "metadata": {},
     "output_type": "execute_result"
    }
   ],
   "source": [
    "data=compcategorica(\"NM_SUBTIPO_PRODUCAO\")\n",
    "data"
   ]
  },
  {
   "cell_type": "code",
   "execution_count": 139,
   "id": "15a6183d",
   "metadata": {},
   "outputs": [],
   "source": [
    "from random import shuffle\n",
    "\n",
    "def piechart(data,colors:dict,top=0,autopct='%1.0f%%',figsize=(8,8)):\n",
    "    datas = []\n",
    "    titulos=list(data.columns)\n",
    "    if top:\n",
    "        #Fonte: https://stackoverflow.com/questions/64799256/show-the-three-best-items-in-the-pie-chart-and-summarize-the-rest-as-others\n",
    "        for i in range(data.shape[1]):\n",
    "            datai=data.iloc[:,i]\n",
    "            datai=datai.sort_values(ascending=False)\n",
    "            datai['Outros'] = datai[top:].sum()\n",
    "            L=list(range(top))\n",
    "            L.append(-1)\n",
    "            datai = datai.iloc[L]\n",
    "            datas.append(datai)\n",
    "    else:\n",
    "        for i in range(data.shape[1]):\n",
    "            datai=data.iloc[:,i]\n",
    "            datai=datai.sort_values(ascending=False)\n",
    "            datas.append(datai)\n",
    "    \n",
    "    #Fonte:https://stackoverflow.com/questions/12319796/dynamically-add-create-subplots-in-matplotlib\n",
    "    Tot = data.shape[1]\n",
    "    Cols = 2\n",
    "    # Compute Rows required\n",
    "    Rows = Tot // Cols \n",
    "    Rows += Tot % Cols\n",
    "    # Create a Position index\n",
    "    Position = range(1,Tot + 1)\n",
    "    fig = plt.figure(1,figsize=figsize) \n",
    "    for k in range(Tot):\n",
    "        ax = fig.add_subplot(Rows,Cols,Position[k])\n",
    "        ax.pie(datas[k],labels=datas[k].index,colors = [colors[v] for v in datas[k].keys()],\n",
    "               autopct=autopct,shadow=True,labeldistance=1.05)\n",
    "        ax.set_title(titulos[k])\n",
    "        plt.tight_layout()\n",
    "    plt.show()"
   ]
  },
  {
   "cell_type": "code",
   "execution_count": 142,
   "id": "c9041b0e",
   "metadata": {},
   "outputs": [
    {
     "data": {
      "image/png": "[encoded data removed]",
      "text/plain": [
       "<Figure size 576x576 with 4 Axes>"
      ]
     },
     "metadata": {},
     "output_type": "display_data"
    }
   ],
   "source": [
    "piechart(data,colors={'DISSERTAÇÃO':'#ff9999', 'TESE':'#66b3ff','Outros':'#99ff99'},top=2)"
   ]
  },
  {
   "cell_type": "markdown",
   "id": "bc55f026",
   "metadata": {},
   "source": [
    "    O Cluster 1 tem uma quantidade considerável de \"PATENTE\", \"REGISTRO DE PROPRIEDADE INTELECTUAL\", \"EDITORIA\", \"RELATÓRIO TÉCNICO COM REGRAS DE SIGILO\", \"PRODUÇÃO DE PROGRAMAS DE MÍDIA\". Mas em relação a \"PATENTE\" o Cluster 2 também tem uma produção relativa igual ao 1.\n",
    "    \n",
    "    Provavelmente os Clusters 1 e 2 tem uma relação mais próxima da indústria pelo número relativo de \"PRODUTO,  PROCESSO OU TÉCNICA\", \"PATENTES\" e \"RELATÓRIO TÉCNICO COM REGRAS DE SIGILO\"\n",
    "    \n",
    "    O Cluster 0 e 2 tem predominância de \"DISSERTAÇÃO\" (mestrados) enquanto o 1 e 3 tem a predominância das\n",
    "    \"TESES\" (doutorados)\n",
    "    \n",
    "    "
   ]
  },
  {
   "cell_type": "code",
   "execution_count": 28,
   "id": "b34e113a",
   "metadata": {},
   "outputs": [
    {
     "data": {
      "text/plain": [
       "FEDERAL       57.07\n",
       "ESTADUAL      24.56\n",
       "PARTICULAR    17.68\n",
       "MUNICIPAL      0.69\n",
       "Name: CS_STATUS_JURIDICO, dtype: float64"
      ]
     },
     "execution_count": 28,
     "metadata": {},
     "output_type": "execute_result"
    }
   ],
   "source": [
    "contarvalor(df,'CS_STATUS_JURIDICO',1)"
   ]
  },
  {
   "cell_type": "markdown",
   "id": "1fdda920",
   "metadata": {},
   "source": [
    "    57,07% do universo analisado são federais, 24,56% estaduais, 17,68% particulares e apenas 0,69% municipais."
   ]
  },
  {
   "cell_type": "code",
   "execution_count": 136,
   "id": "131e2273",
   "metadata": {
    "scrolled": false
   },
   "outputs": [
    {
     "data": {
      "text/html": [
       "<div>\n",
       "<style scoped>\n",
       "    .dataframe tbody tr th:only-of-type {\n",
       "        vertical-align: middle;\n",
       "    }\n",
       "\n",
       "    .dataframe tbody tr th {\n",
       "        vertical-align: top;\n",
       "    }\n",
       "\n",
       "    .dataframe thead th {\n",
       "        text-align: right;\n",
       "    }\n",
       "</style>\n",
       "<table border=\"1\" class=\"dataframe\">\n",
       "  <thead>\n",
       "    <tr style=\"text-align: right;\">\n",
       "      <th></th>\n",
       "      <th>Cluster 0</th>\n",
       "      <th>Cluster 1</th>\n",
       "      <th>Cluster 2</th>\n",
       "      <th>Cluster 3</th>\n",
       "    </tr>\n",
       "  </thead>\n",
       "  <tbody>\n",
       "    <tr>\n",
       "      <th>FEDERAL</th>\n",
       "      <td>70.67</td>\n",
       "      <td>60.42</td>\n",
       "      <td>0.12</td>\n",
       "      <td>66.97</td>\n",
       "    </tr>\n",
       "    <tr>\n",
       "      <th>ESTADUAL</th>\n",
       "      <td>27.99</td>\n",
       "      <td>34.72</td>\n",
       "      <td>0.28</td>\n",
       "      <td>31.53</td>\n",
       "    </tr>\n",
       "    <tr>\n",
       "      <th>MUNICIPAL</th>\n",
       "      <td>1.18</td>\n",
       "      <td>0.00</td>\n",
       "      <td>0.65</td>\n",
       "      <td>0.00</td>\n",
       "    </tr>\n",
       "    <tr>\n",
       "      <th>PARTICULAR</th>\n",
       "      <td>0.15</td>\n",
       "      <td>4.86</td>\n",
       "      <td>98.95</td>\n",
       "      <td>1.51</td>\n",
       "    </tr>\n",
       "  </tbody>\n",
       "</table>\n",
       "</div>"
      ],
      "text/plain": [
       "            Cluster 0  Cluster 1  Cluster 2  Cluster 3\n",
       "FEDERAL         70.67      60.42       0.12      66.97\n",
       "ESTADUAL        27.99      34.72       0.28      31.53\n",
       "MUNICIPAL        1.18       0.00       0.65       0.00\n",
       "PARTICULAR       0.15       4.86      98.95       1.51"
      ]
     },
     "execution_count": 136,
     "metadata": {},
     "output_type": "execute_result"
    }
   ],
   "source": [
    "data=compcategorica('CS_STATUS_JURIDICO',1)\n",
    "data"
   ]
  },
  {
   "cell_type": "code",
   "execution_count": 137,
   "id": "bc69774a",
   "metadata": {},
   "outputs": [
    {
     "data": {
      "image/png": "[encoded data removed]",
      "text/plain": [
       "<Figure size 576x576 with 4 Axes>"
      ]
     },
     "metadata": {},
     "output_type": "display_data"
    }
   ],
   "source": [
    "piechart(data,colors={'FEDERAL':'#ff9999', 'ESTADUAL':'#66b3ff','PARTICULAR':'#99ff99',\n",
    "                      'MUNICIPAL':'black','Outros':'purple'},top=2)"
   ]
  },
  {
   "cell_type": "code",
   "execution_count": 31,
   "id": "fe5cf6c2",
   "metadata": {},
   "outputs": [
    {
     "data": {
      "text/html": [
       "<div>\n",
       "<style scoped>\n",
       "    .dataframe tbody tr th:only-of-type {\n",
       "        vertical-align: middle;\n",
       "    }\n",
       "\n",
       "    .dataframe tbody tr th {\n",
       "        vertical-align: top;\n",
       "    }\n",
       "\n",
       "    .dataframe thead th {\n",
       "        text-align: right;\n",
       "    }\n",
       "</style>\n",
       "<table border=\"1\" class=\"dataframe\">\n",
       "  <thead>\n",
       "    <tr style=\"text-align: right;\">\n",
       "      <th></th>\n",
       "      <th>Cluster 0</th>\n",
       "      <th>Cluster 1</th>\n",
       "      <th>Cluster 2</th>\n",
       "      <th>Cluster 3</th>\n",
       "    </tr>\n",
       "  </thead>\n",
       "  <tbody>\n",
       "    <tr>\n",
       "      <th>FEDERAL</th>\n",
       "      <td>35.66</td>\n",
       "      <td>30.49</td>\n",
       "      <td>0.06</td>\n",
       "      <td>33.79</td>\n",
       "    </tr>\n",
       "    <tr>\n",
       "      <th>ESTADUAL</th>\n",
       "      <td>29.61</td>\n",
       "      <td>36.73</td>\n",
       "      <td>0.30</td>\n",
       "      <td>33.36</td>\n",
       "    </tr>\n",
       "    <tr>\n",
       "      <th>MUNICIPAL</th>\n",
       "      <td>64.48</td>\n",
       "      <td>0.00</td>\n",
       "      <td>35.52</td>\n",
       "      <td>0.00</td>\n",
       "    </tr>\n",
       "    <tr>\n",
       "      <th>PARTICULAR</th>\n",
       "      <td>0.14</td>\n",
       "      <td>4.61</td>\n",
       "      <td>93.82</td>\n",
       "      <td>1.43</td>\n",
       "    </tr>\n",
       "  </tbody>\n",
       "</table>\n",
       "</div>"
      ],
      "text/plain": [
       "            Cluster 0  Cluster 1  Cluster 2  Cluster 3\n",
       "FEDERAL         35.66      30.49       0.06      33.79\n",
       "ESTADUAL        29.61      36.73       0.30      33.36\n",
       "MUNICIPAL       64.48       0.00      35.52       0.00\n",
       "PARTICULAR       0.14       4.61      93.82       1.43"
      ]
     },
     "execution_count": 31,
     "metadata": {},
     "output_type": "execute_result"
    }
   ],
   "source": [
    "compcategorica('CS_STATUS_JURIDICO',0)"
   ]
  },
  {
   "cell_type": "code",
   "execution_count": 32,
   "id": "e2d80e29",
   "metadata": {},
   "outputs": [
    {
     "data": {
      "text/html": [
       "<div>\n",
       "<style scoped>\n",
       "    .dataframe tbody tr th:only-of-type {\n",
       "        vertical-align: middle;\n",
       "    }\n",
       "\n",
       "    .dataframe tbody tr th {\n",
       "        vertical-align: top;\n",
       "    }\n",
       "\n",
       "    .dataframe thead th {\n",
       "        text-align: right;\n",
       "    }\n",
       "</style>\n",
       "<table border=\"1\" class=\"dataframe\">\n",
       "  <thead>\n",
       "    <tr style=\"text-align: right;\">\n",
       "      <th></th>\n",
       "      <th>Cluster 0</th>\n",
       "      <th>Cluster 1</th>\n",
       "      <th>Cluster 2</th>\n",
       "      <th>Cluster 3</th>\n",
       "    </tr>\n",
       "  </thead>\n",
       "  <tbody>\n",
       "    <tr>\n",
       "      <th>SUDESTE</th>\n",
       "      <td>37.36</td>\n",
       "      <td>71.11</td>\n",
       "      <td>49.57</td>\n",
       "      <td>53.95</td>\n",
       "    </tr>\n",
       "    <tr>\n",
       "      <th>NORDESTE</th>\n",
       "      <td>25.81</td>\n",
       "      <td>9.17</td>\n",
       "      <td>8.22</td>\n",
       "      <td>16.99</td>\n",
       "    </tr>\n",
       "    <tr>\n",
       "      <th>SUL</th>\n",
       "      <td>19.16</td>\n",
       "      <td>15.69</td>\n",
       "      <td>35.11</td>\n",
       "      <td>19.15</td>\n",
       "    </tr>\n",
       "    <tr>\n",
       "      <th>CENTRO-OESTE</th>\n",
       "      <td>10.18</td>\n",
       "      <td>3.89</td>\n",
       "      <td>5.83</td>\n",
       "      <td>6.13</td>\n",
       "    </tr>\n",
       "    <tr>\n",
       "      <th>NORTE</th>\n",
       "      <td>7.49</td>\n",
       "      <td>0.14</td>\n",
       "      <td>1.27</td>\n",
       "      <td>3.79</td>\n",
       "    </tr>\n",
       "  </tbody>\n",
       "</table>\n",
       "</div>"
      ],
      "text/plain": [
       "              Cluster 0  Cluster 1  Cluster 2  Cluster 3\n",
       "SUDESTE           37.36      71.11      49.57      53.95\n",
       "NORDESTE          25.81       9.17       8.22      16.99\n",
       "SUL               19.16      15.69      35.11      19.15\n",
       "CENTRO-OESTE      10.18       3.89       5.83       6.13\n",
       "NORTE              7.49       0.14       1.27       3.79"
      ]
     },
     "execution_count": 32,
     "metadata": {},
     "output_type": "execute_result"
    }
   ],
   "source": [
    "compcategorica(\"NM_REGIAO\",1)"
   ]
  },
  {
   "cell_type": "code",
   "execution_count": 33,
   "id": "83f94922",
   "metadata": {
    "scrolled": true
   },
   "outputs": [
    {
     "data": {
      "text/html": [
       "<div>\n",
       "<style scoped>\n",
       "    .dataframe tbody tr th:only-of-type {\n",
       "        vertical-align: middle;\n",
       "    }\n",
       "\n",
       "    .dataframe tbody tr th {\n",
       "        vertical-align: top;\n",
       "    }\n",
       "\n",
       "    .dataframe thead th {\n",
       "        text-align: right;\n",
       "    }\n",
       "</style>\n",
       "<table border=\"1\" class=\"dataframe\">\n",
       "  <thead>\n",
       "    <tr style=\"text-align: right;\">\n",
       "      <th></th>\n",
       "      <th>Cluster 0</th>\n",
       "      <th>Cluster 1</th>\n",
       "      <th>Cluster 2</th>\n",
       "      <th>Cluster 3</th>\n",
       "    </tr>\n",
       "  </thead>\n",
       "  <tbody>\n",
       "    <tr>\n",
       "      <th>SUDESTE</th>\n",
       "      <td>17.62</td>\n",
       "      <td>33.54</td>\n",
       "      <td>23.38</td>\n",
       "      <td>25.45</td>\n",
       "    </tr>\n",
       "    <tr>\n",
       "      <th>NORDESTE</th>\n",
       "      <td>42.88</td>\n",
       "      <td>15.24</td>\n",
       "      <td>13.66</td>\n",
       "      <td>28.23</td>\n",
       "    </tr>\n",
       "    <tr>\n",
       "      <th>SUL</th>\n",
       "      <td>21.50</td>\n",
       "      <td>17.61</td>\n",
       "      <td>39.40</td>\n",
       "      <td>21.49</td>\n",
       "    </tr>\n",
       "    <tr>\n",
       "      <th>CENTRO-OESTE</th>\n",
       "      <td>39.11</td>\n",
       "      <td>14.94</td>\n",
       "      <td>22.40</td>\n",
       "      <td>23.55</td>\n",
       "    </tr>\n",
       "    <tr>\n",
       "      <th>NORTE</th>\n",
       "      <td>59.02</td>\n",
       "      <td>1.10</td>\n",
       "      <td>10.01</td>\n",
       "      <td>29.87</td>\n",
       "    </tr>\n",
       "  </tbody>\n",
       "</table>\n",
       "</div>"
      ],
      "text/plain": [
       "              Cluster 0  Cluster 1  Cluster 2  Cluster 3\n",
       "SUDESTE           17.62      33.54      23.38      25.45\n",
       "NORDESTE          42.88      15.24      13.66      28.23\n",
       "SUL               21.50      17.61      39.40      21.49\n",
       "CENTRO-OESTE      39.11      14.94      22.40      23.55\n",
       "NORTE             59.02       1.10      10.01      29.87"
      ]
     },
     "execution_count": 33,
     "metadata": {},
     "output_type": "execute_result"
    }
   ],
   "source": [
    "compcategorica(\"NM_REGIAO\",0)"
   ]
  },
  {
   "cell_type": "code",
   "execution_count": 34,
   "id": "396867c8",
   "metadata": {},
   "outputs": [
    {
     "data": {
      "text/html": [
       "<div>\n",
       "<style scoped>\n",
       "    .dataframe tbody tr th:only-of-type {\n",
       "        vertical-align: middle;\n",
       "    }\n",
       "\n",
       "    .dataframe tbody tr th {\n",
       "        vertical-align: top;\n",
       "    }\n",
       "\n",
       "    .dataframe thead th {\n",
       "        text-align: right;\n",
       "    }\n",
       "</style>\n",
       "<table border=\"1\" class=\"dataframe\">\n",
       "  <thead>\n",
       "    <tr style=\"text-align: right;\">\n",
       "      <th></th>\n",
       "      <th>Cluster 0</th>\n",
       "      <th>Cluster 1</th>\n",
       "      <th>Cluster 2</th>\n",
       "      <th>Cluster 3</th>\n",
       "    </tr>\n",
       "  </thead>\n",
       "  <tbody>\n",
       "    <tr>\n",
       "      <th>1</th>\n",
       "      <td>0.01</td>\n",
       "      <td>0.00</td>\n",
       "      <td>0.12</td>\n",
       "      <td>0.00</td>\n",
       "    </tr>\n",
       "    <tr>\n",
       "      <th>2</th>\n",
       "      <td>0.80</td>\n",
       "      <td>0.00</td>\n",
       "      <td>0.53</td>\n",
       "      <td>0.04</td>\n",
       "    </tr>\n",
       "    <tr>\n",
       "      <th>3</th>\n",
       "      <td>47.68</td>\n",
       "      <td>1.67</td>\n",
       "      <td>34.86</td>\n",
       "      <td>4.07</td>\n",
       "    </tr>\n",
       "    <tr>\n",
       "      <th>4</th>\n",
       "      <td>38.80</td>\n",
       "      <td>17.36</td>\n",
       "      <td>41.69</td>\n",
       "      <td>33.16</td>\n",
       "    </tr>\n",
       "    <tr>\n",
       "      <th>5</th>\n",
       "      <td>10.02</td>\n",
       "      <td>27.08</td>\n",
       "      <td>17.59</td>\n",
       "      <td>33.62</td>\n",
       "    </tr>\n",
       "    <tr>\n",
       "      <th>6</th>\n",
       "      <td>2.14</td>\n",
       "      <td>19.86</td>\n",
       "      <td>4.22</td>\n",
       "      <td>19.18</td>\n",
       "    </tr>\n",
       "    <tr>\n",
       "      <th>7</th>\n",
       "      <td>0.54</td>\n",
       "      <td>34.03</td>\n",
       "      <td>0.99</td>\n",
       "      <td>9.94</td>\n",
       "    </tr>\n",
       "  </tbody>\n",
       "</table>\n",
       "</div>"
      ],
      "text/plain": [
       "   Cluster 0  Cluster 1  Cluster 2  Cluster 3\n",
       "1       0.01       0.00       0.12       0.00\n",
       "2       0.80       0.00       0.53       0.04\n",
       "3      47.68       1.67      34.86       4.07\n",
       "4      38.80      17.36      41.69      33.16\n",
       "5      10.02      27.08      17.59      33.62\n",
       "6       2.14      19.86       4.22      19.18\n",
       "7       0.54      34.03       0.99       9.94"
      ]
     },
     "execution_count": 34,
     "metadata": {},
     "output_type": "execute_result"
    }
   ],
   "source": [
    "compcategorica(\"CD_CONCEITO_PROGRAMA\",1)"
   ]
  },
  {
   "cell_type": "code",
   "execution_count": 35,
   "id": "91aa4749",
   "metadata": {
    "scrolled": true
   },
   "outputs": [
    {
     "data": {
      "text/html": [
       "<div>\n",
       "<style scoped>\n",
       "    .dataframe tbody tr th:only-of-type {\n",
       "        vertical-align: middle;\n",
       "    }\n",
       "\n",
       "    .dataframe tbody tr th {\n",
       "        vertical-align: top;\n",
       "    }\n",
       "\n",
       "    .dataframe thead th {\n",
       "        text-align: right;\n",
       "    }\n",
       "</style>\n",
       "<table border=\"1\" class=\"dataframe\">\n",
       "  <thead>\n",
       "    <tr style=\"text-align: right;\">\n",
       "      <th></th>\n",
       "      <th>Cluster 0</th>\n",
       "      <th>Cluster 1</th>\n",
       "      <th>Cluster 2</th>\n",
       "      <th>Cluster 3</th>\n",
       "    </tr>\n",
       "  </thead>\n",
       "  <tbody>\n",
       "    <tr>\n",
       "      <th>1</th>\n",
       "      <td>7.69</td>\n",
       "      <td>0.00</td>\n",
       "      <td>92.31</td>\n",
       "      <td>0.00</td>\n",
       "    </tr>\n",
       "    <tr>\n",
       "      <th>2</th>\n",
       "      <td>58.39</td>\n",
       "      <td>0.00</td>\n",
       "      <td>38.69</td>\n",
       "      <td>2.92</td>\n",
       "    </tr>\n",
       "    <tr>\n",
       "      <th>3</th>\n",
       "      <td>54.01</td>\n",
       "      <td>1.89</td>\n",
       "      <td>39.49</td>\n",
       "      <td>4.61</td>\n",
       "    </tr>\n",
       "    <tr>\n",
       "      <th>4</th>\n",
       "      <td>29.62</td>\n",
       "      <td>13.25</td>\n",
       "      <td>31.82</td>\n",
       "      <td>25.31</td>\n",
       "    </tr>\n",
       "    <tr>\n",
       "      <th>5</th>\n",
       "      <td>11.35</td>\n",
       "      <td>30.66</td>\n",
       "      <td>19.92</td>\n",
       "      <td>38.07</td>\n",
       "    </tr>\n",
       "    <tr>\n",
       "      <th>6</th>\n",
       "      <td>4.71</td>\n",
       "      <td>43.74</td>\n",
       "      <td>9.30</td>\n",
       "      <td>42.25</td>\n",
       "    </tr>\n",
       "    <tr>\n",
       "      <th>7</th>\n",
       "      <td>1.19</td>\n",
       "      <td>74.79</td>\n",
       "      <td>2.18</td>\n",
       "      <td>21.85</td>\n",
       "    </tr>\n",
       "  </tbody>\n",
       "</table>\n",
       "</div>"
      ],
      "text/plain": [
       "   Cluster 0  Cluster 1  Cluster 2  Cluster 3\n",
       "1       7.69       0.00      92.31       0.00\n",
       "2      58.39       0.00      38.69       2.92\n",
       "3      54.01       1.89      39.49       4.61\n",
       "4      29.62      13.25      31.82      25.31\n",
       "5      11.35      30.66      19.92      38.07\n",
       "6       4.71      43.74       9.30      42.25\n",
       "7       1.19      74.79       2.18      21.85"
      ]
     },
     "execution_count": 35,
     "metadata": {},
     "output_type": "execute_result"
    }
   ],
   "source": [
    "compcategorica(\"CD_CONCEITO_PROGRAMA\",0)"
   ]
  },
  {
   "cell_type": "code",
   "execution_count": 138,
   "id": "6aeb33c6",
   "metadata": {},
   "outputs": [
    {
     "data": {
      "image/png": "[encoded data removed]",
      "text/plain": [
       "<Figure size 720x720 with 7 Axes>"
      ]
     },
     "metadata": {},
     "output_type": "display_data"
    }
   ],
   "source": [
    "data = compcategorica(\"CD_CONCEITO_PROGRAMA\",0).T\n",
    "cor={'Cluster 0':'red', 'Cluster 1':'orange', 'Cluster 2':'yellow', 'Cluster 3':'green','Outros':'blue'}\n",
    "\n",
    "piechart(data,colors=cor,top=3,figsize=(10,10))"
   ]
  },
  {
   "cell_type": "markdown",
   "id": "7939cd7c",
   "metadata": {},
   "source": [
    "    Os cursos com nota 1 estão concentrados no Cluster das particulares (2)"
   ]
  },
  {
   "cell_type": "code",
   "execution_count": 37,
   "id": "83dad4fd",
   "metadata": {},
   "outputs": [],
   "source": [
    "def discluster(SG_ENTIDADE_ENSINO):\n",
    "    '''Qual a distribuição dos cursos da entidade em cada cluster?'''\n",
    "    df=compcategorica('SG_ENTIDADE_ENSINO',normalize=False).fillna(0).loc[SG_ENTIDADE_ENSINO]\n",
    "    df.iloc[:,]=(100*df.values/sum(df.values)).round(2)\n",
    "    return df"
   ]
  },
  {
   "cell_type": "code",
   "execution_count": 38,
   "id": "10987ca8",
   "metadata": {},
   "outputs": [
    {
     "data": {
      "text/plain": [
       "Cluster 0    48.97\n",
       "Cluster 1     7.24\n",
       "Cluster 2     0.34\n",
       "Cluster 3    43.45\n",
       "Name: UERJ, dtype: float64"
      ]
     },
     "execution_count": 38,
     "metadata": {},
     "output_type": "execute_result"
    }
   ],
   "source": [
    "discluster(\"UERJ\")"
   ]
  },
  {
   "cell_type": "code",
   "execution_count": 39,
   "id": "21991f07",
   "metadata": {},
   "outputs": [
    {
     "data": {
      "text/plain": [
       "Cluster 0    71.91\n",
       "Cluster 1     0.00\n",
       "Cluster 2     0.00\n",
       "Cluster 3    28.09\n",
       "Name: UNIRIO, dtype: float64"
      ]
     },
     "execution_count": 39,
     "metadata": {},
     "output_type": "execute_result"
    }
   ],
   "source": [
    "discluster(\"UNIRIO\")"
   ]
  },
  {
   "cell_type": "code",
   "execution_count": 40,
   "id": "7ad5c19a",
   "metadata": {},
   "outputs": [
    {
     "data": {
      "text/plain": [
       "Cluster 0     0.00\n",
       "Cluster 1     0.63\n",
       "Cluster 2    82.91\n",
       "Cluster 3    16.46\n",
       "Name: PUC-RIO, dtype: float64"
      ]
     },
     "execution_count": 40,
     "metadata": {},
     "output_type": "execute_result"
    }
   ],
   "source": [
    "discluster(\"PUC-RIO\")"
   ]
  },
  {
   "cell_type": "code",
   "execution_count": 41,
   "id": "3406c8b9",
   "metadata": {
    "scrolled": true
   },
   "outputs": [
    {
     "data": {
      "text/plain": [
       "Cluster 0     0.0\n",
       "Cluster 1     0.0\n",
       "Cluster 2    98.0\n",
       "Cluster 3     2.0\n",
       "Name: FGV/RJ, dtype: float64"
      ]
     },
     "execution_count": 41,
     "metadata": {},
     "output_type": "execute_result"
    }
   ],
   "source": [
    "discluster(\"FGV/RJ\")"
   ]
  }
 ],
 "metadata": {
  "kernelspec": {
   "display_name": "Python 3",
   "language": "python",
   "name": "python3"
  },
  "language_info": {
   "codemirror_mode": {
    "name": "ipython",
    "version": 3
   },
   "file_extension": ".py",
   "mimetype": "text/x-python",
   "name": "python",
   "nbconvert_exporter": "python",
   "pygments_lexer": "ipython3",
   "version": "3.8.5"
  },
  "varInspector": {
   "cols": {
    "lenName": 16,
    "lenType": 16,
    "lenVar": 40
   },
   "kernels_config": {
    "python": {
     "delete_cmd_postfix": "",
     "delete_cmd_prefix": "del ",
     "library": "var_list.py",
     "varRefreshCmd": "print(var_dic_list())"
    },
    "r": {
     "delete_cmd_postfix": ") ",
     "delete_cmd_prefix": "rm(",
     "library": "var_list.r",
     "varRefreshCmd": "cat(var_dic_list()) "
    }
   },
   "types_to_exclude": [
    "module",
    "function",
    "builtin_function_or_method",
    "instance",
    "_Feature"
   ],
   "window_display": false
  }
 },
 "nbformat": 4,
 "nbformat_minor": 5
}
