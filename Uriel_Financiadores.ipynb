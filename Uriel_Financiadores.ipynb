{
  "nbformat": 4,
  "nbformat_minor": 0,
  "metadata": {
    "colab": {
      "name": "Uriel - Financiadores.ipynb",
      "provenance": []
    },
    "kernelspec": {
      "name": "python3",
      "display_name": "Python 3"
    }
  },
  "cells": [
    {
      "cell_type": "code",
      "metadata": {
        "id": "sTpFTu2tpf9y",
        "colab": {
          "base_uri": "https://localhost:8080/"
        },
        "outputId": "a6842eb1-1ecb-4525-e317-da6caec61084"
      },
      "source": [
        "from google.colab import drive\n",
        "drive.mount('/content/drive')"
      ],
      "execution_count": 1,
      "outputs": [
        {
          "output_type": "stream",
          "text": [
            "Drive already mounted at /content/drive; to attempt to forcibly remount, call drive.mount(\"/content/drive\", force_remount=True).\n"
          ],
          "name": "stdout"
        }
      ]
    },
    {
      "cell_type": "code",
      "metadata": {
        "id": "xgi7P2SlqhZx"
      },
      "source": [
        "import pandas as pd\n",
        "import numpy as np\n",
        "import matplotlib.pyplot as plt\n",
        "import seaborn as sns\n",
        "%matplotlib inline"
      ],
      "execution_count": 2,
      "outputs": []
    },
    {
      "cell_type": "markdown",
      "metadata": {
        "id": "hirrvYobUpP1"
      },
      "source": [
        "Juntando os DataFrames dos Financiadores dos Projetos"
      ]
    },
    {
      "cell_type": "code",
      "metadata": {
        "id": "LiUzWu-Nq7Ml"
      },
      "source": [
        "df_2013 = pd.read_csv('drive/My Drive/ddi-br-capes-colsucup-projeto-financiador-2013a2016-2018-05-01_2013.csv', sep = ';', encoding = 'latin1')\n",
        "df_2014 = pd.read_csv('drive/My Drive/ddi-br-capes-colsucup-projeto-financiador-2013a2016-2018-05-01_2014.csv', sep = ';', encoding = 'latin1')\n",
        "df_2015 = pd.read_csv('drive/My Drive/ddi-br-capes-colsucup-projeto-financiador-2013a2016-2018-05-01_2015.csv', sep = ';', encoding = 'latin1')\n",
        "df_2016 = pd.read_csv(\"drive/My Drive/ddi-br-capes-colsucup-projeto-financiador-2013a2016-2018-05-01_2016.csv\", sep = ';', encoding = 'latin1')\n",
        "df_2017 = pd.read_csv('drive/My Drive/br-capes-colsucup-projeto-financiador-2017-2018-08-01.csv', sep = ';', encoding = 'latin1')\n",
        "df_2018 = pd.read_csv('drive/My Drive/br-capes-colsucup-projeto-financiador-2018-2019-10-01.csv', sep = ';', encoding = 'latin1')\n",
        "df_final = pd.concat([df_2013, df_2014, df_2015, df_2016, df_2017,df_2018], axis = 0)"
      ],
      "execution_count": 3,
      "outputs": []
    },
    {
      "cell_type": "markdown",
      "metadata": {
        "id": "vRlglm36UxCh"
      },
      "source": [
        "Juntando os DataFrames dos Projetos de Pós Graduação"
      ]
    },
    {
      "cell_type": "code",
      "metadata": {
        "id": "8oIgB3eMOW6o"
      },
      "source": [
        "df_ppg_2013 = pd.read_csv('drive/My Drive/br-capes-colsucup-prog-2013a2016-2020-06-12_2013.csv', sep = ';', encoding = 'latin1')\n",
        "df_ppg_2014 = pd.read_csv('drive/My Drive/br-capes-colsucup-prog-2013a2016-2020-06-12_2014.csv', sep = ';', encoding = 'latin1')\n",
        "df_ppg_2015 = pd.read_csv('drive/My Drive/br-capes-colsucup-prog-2013a2016-2020-06-12_2015.csv', sep = ';', encoding = 'latin1')\n",
        "df_ppg_2016 = pd.read_csv('drive/My Drive/br-capes-colsucup-prog-2013a2016-2020-06-12_2016.csv', sep = ';', encoding = 'latin1')\n",
        "df_ppg_2017 = pd.read_csv('drive/My Drive/br-capes-colsucup-prog-2017-2020-06-12.csv', sep = ';', encoding = 'latin1')\n",
        "df_ppg_2018 = pd.read_csv('drive/My Drive/br-capes-colsucup-prog-2018-2020-06-12.csv', sep = ';', encoding = 'latin1')\n",
        " \n",
        "ppg_final = pd.concat([df_ppg_2013, df_ppg_2014, df_ppg_2015, df_ppg_2016, df_ppg_2017, df_ppg_2018], axis = 0)"
      ],
      "execution_count": 4,
      "outputs": []
    },
    {
      "cell_type": "markdown",
      "metadata": {
        "id": "Q6jbfNyfU7cs"
      },
      "source": [
        "DataFrame Final dos Financiadores dos *Projetos*"
      ]
    },
    {
      "cell_type": "code",
      "metadata": {
        "id": "KVc4j_tNsboZ",
        "colab": {
          "base_uri": "https://localhost:8080/",
          "height": 479
        },
        "outputId": "34cbae1c-70e6-446e-d008-a6e4d7e059e7"
      },
      "source": [
        "df_final.head()"
      ],
      "execution_count": 5,
      "outputs": [
        {
          "output_type": "execute_result",
          "data": {
            "text/html": [
              "<div>\n",
              "<style scoped>\n",
              "    .dataframe tbody tr th:only-of-type {\n",
              "        vertical-align: middle;\n",
              "    }\n",
              "\n",
              "    .dataframe tbody tr th {\n",
              "        vertical-align: top;\n",
              "    }\n",
              "\n",
              "    .dataframe thead th {\n",
              "        text-align: right;\n",
              "    }\n",
              "</style>\n",
              "<table border=\"1\" class=\"dataframe\">\n",
              "  <thead>\n",
              "    <tr style=\"text-align: right;\">\n",
              "      <th></th>\n",
              "      <th>AN_BASE</th>\n",
              "      <th>ID_ADD_FOTO_PROGRAMA</th>\n",
              "      <th>ID_ADD_FOTO_PROGRAMA_IES</th>\n",
              "      <th>ID_ADD_CONTEXTO</th>\n",
              "      <th>ID_PROJETO</th>\n",
              "      <th>CD_PROGRAMA_IES</th>\n",
              "      <th>NM_PROGRAMA_IES</th>\n",
              "      <th>AN_INICIO_PROGRAMA</th>\n",
              "      <th>SG_ENTIDADE_ENSINO</th>\n",
              "      <th>NM_ENTIDADE_ENSINO</th>\n",
              "      <th>NM_NATUREZA_FINANCIAMENTO</th>\n",
              "      <th>NM_FINANCIADOR</th>\n",
              "      <th>SG_PROGRAMA_FOMENTO</th>\n",
              "      <th>NM_PROGRAMA_FOMENTO</th>\n",
              "      <th>IN_FINANCIADOR_ESTRANGEIRO</th>\n",
              "      <th>NM_PAIS_FINANCIADOR</th>\n",
              "    </tr>\n",
              "  </thead>\n",
              "  <tbody>\n",
              "    <tr>\n",
              "      <th>0</th>\n",
              "      <td>2013</td>\n",
              "      <td>3876</td>\n",
              "      <td>30168</td>\n",
              "      <td>746096</td>\n",
              "      <td>152265</td>\n",
              "      <td>32009011001P8</td>\n",
              "      <td>CIÊNCIAS BIOLÓGICAS</td>\n",
              "      <td>2006.0</td>\n",
              "      <td>UNIVALE</td>\n",
              "      <td>UNIVERSIDADE VALE DO RIO DOCE</td>\n",
              "      <td>OUTRO AUXÍLIO FINANCEIRO</td>\n",
              "      <td>CONS NAC DE DESENVOLVIMENTO CIENTIFICO E TECNO...</td>\n",
              "      <td>AF</td>\n",
              "      <td>AUXILIO FINANCEIRO</td>\n",
              "      <td>NaN</td>\n",
              "      <td>NaN</td>\n",
              "    </tr>\n",
              "    <tr>\n",
              "      <th>1</th>\n",
              "      <td>2013</td>\n",
              "      <td>3876</td>\n",
              "      <td>30168</td>\n",
              "      <td>746097</td>\n",
              "      <td>152264</td>\n",
              "      <td>32009011001P8</td>\n",
              "      <td>CIÊNCIAS BIOLÓGICAS</td>\n",
              "      <td>2006.0</td>\n",
              "      <td>UNIVALE</td>\n",
              "      <td>UNIVERSIDADE VALE DO RIO DOCE</td>\n",
              "      <td>OUTRO AUXÍLIO FINANCEIRO</td>\n",
              "      <td>CONS NAC DE DESENVOLVIMENTO CIENTIFICO E TECNO...</td>\n",
              "      <td>AF</td>\n",
              "      <td>AUXILIO FINANCEIRO</td>\n",
              "      <td>NaN</td>\n",
              "      <td>NaN</td>\n",
              "    </tr>\n",
              "    <tr>\n",
              "      <th>2</th>\n",
              "      <td>2013</td>\n",
              "      <td>3876</td>\n",
              "      <td>30168</td>\n",
              "      <td>746098</td>\n",
              "      <td>152251</td>\n",
              "      <td>32009011001P8</td>\n",
              "      <td>CIÊNCIAS BIOLÓGICAS</td>\n",
              "      <td>2006.0</td>\n",
              "      <td>UNIVALE</td>\n",
              "      <td>UNIVERSIDADE VALE DO RIO DOCE</td>\n",
              "      <td>OUTRO AUXÍLIO FINANCEIRO</td>\n",
              "      <td>CONS NAC DE DESENVOLVIMENTO CIENTIFICO E TECNO...</td>\n",
              "      <td>AF</td>\n",
              "      <td>AUXILIO FINANCEIRO</td>\n",
              "      <td>NaN</td>\n",
              "      <td>NaN</td>\n",
              "    </tr>\n",
              "    <tr>\n",
              "      <th>3</th>\n",
              "      <td>2013</td>\n",
              "      <td>3876</td>\n",
              "      <td>30168</td>\n",
              "      <td>746098</td>\n",
              "      <td>152251</td>\n",
              "      <td>32009011001P8</td>\n",
              "      <td>CIÊNCIAS BIOLÓGICAS</td>\n",
              "      <td>2006.0</td>\n",
              "      <td>UNIVALE</td>\n",
              "      <td>UNIVERSIDADE VALE DO RIO DOCE</td>\n",
              "      <td>BOLSA</td>\n",
              "      <td>CONS NAC DE DESENVOLVIMENTO CIENTIFICO E TECNO...</td>\n",
              "      <td>AF</td>\n",
              "      <td>AUXILIO FINANCEIRO</td>\n",
              "      <td>NaN</td>\n",
              "      <td>NaN</td>\n",
              "    </tr>\n",
              "    <tr>\n",
              "      <th>4</th>\n",
              "      <td>2013</td>\n",
              "      <td>3876</td>\n",
              "      <td>30168</td>\n",
              "      <td>746100</td>\n",
              "      <td>152245</td>\n",
              "      <td>32009011001P8</td>\n",
              "      <td>CIÊNCIAS BIOLÓGICAS</td>\n",
              "      <td>2006.0</td>\n",
              "      <td>UNIVALE</td>\n",
              "      <td>UNIVERSIDADE VALE DO RIO DOCE</td>\n",
              "      <td>OUTRO AUXÍLIO FINANCEIRO</td>\n",
              "      <td>CONS NAC DE DESENVOLVIMENTO CIENTIFICO E TECNO...</td>\n",
              "      <td>AF</td>\n",
              "      <td>AUXILIO FINANCEIRO</td>\n",
              "      <td>NaN</td>\n",
              "      <td>NaN</td>\n",
              "    </tr>\n",
              "  </tbody>\n",
              "</table>\n",
              "</div>"
            ],
            "text/plain": [
              "   AN_BASE  ID_ADD_FOTO_PROGRAMA  ...  IN_FINANCIADOR_ESTRANGEIRO  NM_PAIS_FINANCIADOR\n",
              "0     2013                  3876  ...                         NaN                  NaN\n",
              "1     2013                  3876  ...                         NaN                  NaN\n",
              "2     2013                  3876  ...                         NaN                  NaN\n",
              "3     2013                  3876  ...                         NaN                  NaN\n",
              "4     2013                  3876  ...                         NaN                  NaN\n",
              "\n",
              "[5 rows x 16 columns]"
            ]
          },
          "metadata": {
            "tags": []
          },
          "execution_count": 5
        }
      ]
    },
    {
      "cell_type": "code",
      "metadata": {
        "colab": {
          "base_uri": "https://localhost:8080/"
        },
        "id": "Z7w2XPOo-5ke",
        "outputId": "b2d8d338-c46f-495e-aa4f-fff6c8c54b36"
      },
      "source": [
        "df_final.shape"
      ],
      "execution_count": 6,
      "outputs": [
        {
          "output_type": "execute_result",
          "data": {
            "text/plain": [
              "(821100, 16)"
            ]
          },
          "metadata": {
            "tags": []
          },
          "execution_count": 6
        }
      ]
    },
    {
      "cell_type": "code",
      "metadata": {
        "colab": {
          "base_uri": "https://localhost:8080/"
        },
        "id": "c2HWLINx_EAH",
        "outputId": "8c93ed7a-584a-4bad-c8b5-ef5a6d1caa0e"
      },
      "source": [
        "ppg_final.shape"
      ],
      "execution_count": 7,
      "outputs": [
        {
          "output_type": "execute_result",
          "data": {
            "text/plain": [
              "(24167, 34)"
            ]
          },
          "metadata": {
            "tags": []
          },
          "execution_count": 7
        }
      ]
    },
    {
      "cell_type": "code",
      "metadata": {
        "colab": {
          "base_uri": "https://localhost:8080/",
          "height": 479
        },
        "id": "3wZ0qy0pn6S0",
        "outputId": "4c9c3f4b-7b11-45ac-d801-120591b3f39e"
      },
      "source": [
        "ppg_final.head()"
      ],
      "execution_count": 8,
      "outputs": [
        {
          "output_type": "execute_result",
          "data": {
            "text/html": [
              "<div>\n",
              "<style scoped>\n",
              "    .dataframe tbody tr th:only-of-type {\n",
              "        vertical-align: middle;\n",
              "    }\n",
              "\n",
              "    .dataframe tbody tr th {\n",
              "        vertical-align: top;\n",
              "    }\n",
              "\n",
              "    .dataframe thead th {\n",
              "        text-align: right;\n",
              "    }\n",
              "</style>\n",
              "<table border=\"1\" class=\"dataframe\">\n",
              "  <thead>\n",
              "    <tr style=\"text-align: right;\">\n",
              "      <th></th>\n",
              "      <th>AN_BASE</th>\n",
              "      <th>NM_GRANDE_AREA_CONHECIMENTO</th>\n",
              "      <th>NM_AREA_CONHECIMENTO</th>\n",
              "      <th>NM_SUBAREA_CONHECIMENTO</th>\n",
              "      <th>NM_ESPECIALIDADE</th>\n",
              "      <th>CD_AREA_AVALIACAO</th>\n",
              "      <th>NM_AREA_AVALIACAO</th>\n",
              "      <th>CD_ENTIDADE_CAPES</th>\n",
              "      <th>CD_ENTIDADE_EMEC</th>\n",
              "      <th>SG_ENTIDADE_ENSINO</th>\n",
              "      <th>NM_ENTIDADE_ENSINO</th>\n",
              "      <th>CS_STATUS_JURIDICO</th>\n",
              "      <th>DS_DEPENDENCIA_ADMINISTRATIVA</th>\n",
              "      <th>DS_ORGANIZACAO_ACADEMICA</th>\n",
              "      <th>NM_REGIAO</th>\n",
              "      <th>NM_MUNICIPIO_PROGRAMA_IES</th>\n",
              "      <th>NM_MODALIDADE_PROGRAMA</th>\n",
              "      <th>CD_PROGRAMA_IES</th>\n",
              "      <th>NM_PROGRAMA_IES</th>\n",
              "      <th>NM_PROGRAMA_IDIOMA</th>\n",
              "      <th>SG_UF_PROGRAMA</th>\n",
              "      <th>NM_GRAU_PROGRAMA</th>\n",
              "      <th>CD_CONCEITO_PROGRAMA</th>\n",
              "      <th>ANO_INICIO_PROGRAMA</th>\n",
              "      <th>AN_INICIO_CURSO</th>\n",
              "      <th>IN_REDE</th>\n",
              "      <th>SG_ENTIDADE_ENSINO_REDE</th>\n",
              "      <th>DS_SITUACAO_PROGRAMA</th>\n",
              "      <th>DT_SITUACAO_PROGRAMA</th>\n",
              "      <th>ID_ADD_FOTO_PROGRAMA_IES</th>\n",
              "      <th>ID_ADD_FOTO_PROGRAMA</th>\n",
              "      <th>DS_CLIENTELA_QUADRIENAL_2017</th>\n",
              "      <th>NM_AREA_BASICA</th>\n",
              "      <th>AN_INICIO_PROGRAMA</th>\n",
              "    </tr>\n",
              "  </thead>\n",
              "  <tbody>\n",
              "    <tr>\n",
              "      <th>0</th>\n",
              "      <td>2013</td>\n",
              "      <td>CIÊNCIAS BIOLÓGICAS</td>\n",
              "      <td>PARASITOLOGIA</td>\n",
              "      <td>NÃO SE APLICA</td>\n",
              "      <td>NÃO SE APLICA</td>\n",
              "      <td>9</td>\n",
              "      <td>CIÊNCIAS BIOLÓGICAS III</td>\n",
              "      <td>10001018</td>\n",
              "      <td>699</td>\n",
              "      <td>UNIR</td>\n",
              "      <td>UNIVERSIDADE FEDERAL DE RONDÔNIA</td>\n",
              "      <td>FEDERAL</td>\n",
              "      <td>PÚBLICA</td>\n",
              "      <td>UNIVERSIDADE</td>\n",
              "      <td>NORTE</td>\n",
              "      <td>PORTO VELHO</td>\n",
              "      <td>ACADÊMICO</td>\n",
              "      <td>10001018002P1</td>\n",
              "      <td>BIOLOGIA EXPERIMENTAL</td>\n",
              "      <td>EXPERIMENTAL BIOLOGY</td>\n",
              "      <td>RO</td>\n",
              "      <td>MESTRADO/DOUTORADO</td>\n",
              "      <td>3</td>\n",
              "      <td>2001.0</td>\n",
              "      <td>2001/2005</td>\n",
              "      <td>NÃO</td>\n",
              "      <td>NaN</td>\n",
              "      <td>EM FUNCIONAMENTO</td>\n",
              "      <td>30DEC2013:00:00:00</td>\n",
              "      <td>115723</td>\n",
              "      <td>52357</td>\n",
              "      <td>AVALIAÇÃO</td>\n",
              "      <td>NaN</td>\n",
              "      <td>NaN</td>\n",
              "    </tr>\n",
              "    <tr>\n",
              "      <th>1</th>\n",
              "      <td>2013</td>\n",
              "      <td>MULTIDISCIPLINAR</td>\n",
              "      <td>INTERDISCIPLINAR</td>\n",
              "      <td>MEIO AMBIENTE E AGRÁRIAS</td>\n",
              "      <td>NÃO SE APLICA</td>\n",
              "      <td>45</td>\n",
              "      <td>INTERDISCIPLINAR</td>\n",
              "      <td>10001018</td>\n",
              "      <td>699</td>\n",
              "      <td>UNIR</td>\n",
              "      <td>UNIVERSIDADE FEDERAL DE RONDÔNIA</td>\n",
              "      <td>FEDERAL</td>\n",
              "      <td>PÚBLICA</td>\n",
              "      <td>UNIVERSIDADE</td>\n",
              "      <td>NORTE</td>\n",
              "      <td>PORTO VELHO</td>\n",
              "      <td>ACADÊMICO</td>\n",
              "      <td>10001018004P4</td>\n",
              "      <td>DESENVOLVIMENTO REGIONAL E MEIO AMBIENTE</td>\n",
              "      <td>PROGRAM POSGRADUATED IN THE DEVELOPMENT REGION...</td>\n",
              "      <td>RO</td>\n",
              "      <td>MESTRADO/DOUTORADO</td>\n",
              "      <td>4</td>\n",
              "      <td>1999.0</td>\n",
              "      <td>1999/2013</td>\n",
              "      <td>NÃO</td>\n",
              "      <td>NaN</td>\n",
              "      <td>EM FUNCIONAMENTO</td>\n",
              "      <td>13NOV2013:00:00:00</td>\n",
              "      <td>89585</td>\n",
              "      <td>28246</td>\n",
              "      <td>AVALIAÇÃO</td>\n",
              "      <td>NaN</td>\n",
              "      <td>NaN</td>\n",
              "    </tr>\n",
              "    <tr>\n",
              "      <th>2</th>\n",
              "      <td>2013</td>\n",
              "      <td>CIÊNCIAS HUMANAS</td>\n",
              "      <td>GEOGRAFIA</td>\n",
              "      <td>NÃO SE APLICA</td>\n",
              "      <td>NÃO SE APLICA</td>\n",
              "      <td>36</td>\n",
              "      <td>GEOGRAFIA</td>\n",
              "      <td>10001018</td>\n",
              "      <td>699</td>\n",
              "      <td>UNIR</td>\n",
              "      <td>UNIVERSIDADE FEDERAL DE RONDÔNIA</td>\n",
              "      <td>FEDERAL</td>\n",
              "      <td>PÚBLICA</td>\n",
              "      <td>UNIVERSIDADE</td>\n",
              "      <td>NORTE</td>\n",
              "      <td>PORTO VELHO</td>\n",
              "      <td>ACADÊMICO</td>\n",
              "      <td>10001018005P0</td>\n",
              "      <td>GEOGRAFIA</td>\n",
              "      <td>MASTERS IN GEOGRAPHY, FEDERAL UNIVERSITY OF RO...</td>\n",
              "      <td>RO</td>\n",
              "      <td>MESTRADO/DOUTORADO</td>\n",
              "      <td>4</td>\n",
              "      <td>2006.0</td>\n",
              "      <td>2006/2015</td>\n",
              "      <td>NÃO</td>\n",
              "      <td>NaN</td>\n",
              "      <td>EM FUNCIONAMENTO</td>\n",
              "      <td>19JUN2013:00:00:00</td>\n",
              "      <td>114485</td>\n",
              "      <td>51206</td>\n",
              "      <td>AVALIAÇÃO</td>\n",
              "      <td>NaN</td>\n",
              "      <td>NaN</td>\n",
              "    </tr>\n",
              "    <tr>\n",
              "      <th>3</th>\n",
              "      <td>2013</td>\n",
              "      <td>CIÊNCIAS SOCIAIS APLICADAS</td>\n",
              "      <td>ADMINISTRAÇÃO</td>\n",
              "      <td>NÃO SE APLICA</td>\n",
              "      <td>NÃO SE APLICA</td>\n",
              "      <td>27</td>\n",
              "      <td>ADMINISTRAÇÃO PÚBLICA E DE EMPRESAS, CIÊNCIAS ...</td>\n",
              "      <td>10001018</td>\n",
              "      <td>699</td>\n",
              "      <td>UNIR</td>\n",
              "      <td>UNIVERSIDADE FEDERAL DE RONDÔNIA</td>\n",
              "      <td>FEDERAL</td>\n",
              "      <td>PÚBLICA</td>\n",
              "      <td>UNIVERSIDADE</td>\n",
              "      <td>NORTE</td>\n",
              "      <td>PORTO VELHO</td>\n",
              "      <td>ACADÊMICO</td>\n",
              "      <td>10001018006P7</td>\n",
              "      <td>ADMINISTRAÇÃO</td>\n",
              "      <td>MASTER IN ADMINISTRATION</td>\n",
              "      <td>RO</td>\n",
              "      <td>MESTRADO</td>\n",
              "      <td>4</td>\n",
              "      <td>2006.0</td>\n",
              "      <td>2006</td>\n",
              "      <td>NÃO</td>\n",
              "      <td>NaN</td>\n",
              "      <td>EM FUNCIONAMENTO</td>\n",
              "      <td>30DEC2013:00:00:00</td>\n",
              "      <td>102520</td>\n",
              "      <td>40802</td>\n",
              "      <td>AVALIAÇÃO</td>\n",
              "      <td>NaN</td>\n",
              "      <td>NaN</td>\n",
              "    </tr>\n",
              "    <tr>\n",
              "      <th>4</th>\n",
              "      <td>2013</td>\n",
              "      <td>LINGÜÍSTICA, LETRAS E ARTES</td>\n",
              "      <td>LINGÜÍSTICA</td>\n",
              "      <td>NÃO SE APLICA</td>\n",
              "      <td>NÃO SE APLICA</td>\n",
              "      <td>41</td>\n",
              "      <td>LETRAS / LINGUÍSTICA</td>\n",
              "      <td>10001018</td>\n",
              "      <td>699</td>\n",
              "      <td>UNIR</td>\n",
              "      <td>UNIVERSIDADE FEDERAL DE RONDÔNIA</td>\n",
              "      <td>FEDERAL</td>\n",
              "      <td>PÚBLICA</td>\n",
              "      <td>UNIVERSIDADE</td>\n",
              "      <td>NORTE</td>\n",
              "      <td>PORTO VELHO</td>\n",
              "      <td>ACADÊMICO</td>\n",
              "      <td>10001018008P0</td>\n",
              "      <td>CIÊNCIAS DA LINGUAGEM</td>\n",
              "      <td>GRADUATE PROGRAM IN LANGUAGE SCIENCES</td>\n",
              "      <td>RO</td>\n",
              "      <td>MESTRADO</td>\n",
              "      <td>2</td>\n",
              "      <td>2007.0</td>\n",
              "      <td>2007</td>\n",
              "      <td>NÃO</td>\n",
              "      <td>NaN</td>\n",
              "      <td>EM DESATIVACAO</td>\n",
              "      <td>29APR2014:00:00:00</td>\n",
              "      <td>56035</td>\n",
              "      <td>7487</td>\n",
              "      <td>NÃO</td>\n",
              "      <td>NaN</td>\n",
              "      <td>NaN</td>\n",
              "    </tr>\n",
              "  </tbody>\n",
              "</table>\n",
              "</div>"
            ],
            "text/plain": [
              "   AN_BASE  NM_GRANDE_AREA_CONHECIMENTO  ... NM_AREA_BASICA AN_INICIO_PROGRAMA\n",
              "0     2013          CIÊNCIAS BIOLÓGICAS  ...            NaN                NaN\n",
              "1     2013             MULTIDISCIPLINAR  ...            NaN                NaN\n",
              "2     2013             CIÊNCIAS HUMANAS  ...            NaN                NaN\n",
              "3     2013   CIÊNCIAS SOCIAIS APLICADAS  ...            NaN                NaN\n",
              "4     2013  LINGÜÍSTICA, LETRAS E ARTES  ...            NaN                NaN\n",
              "\n",
              "[5 rows x 34 columns]"
            ]
          },
          "metadata": {
            "tags": []
          },
          "execution_count": 8
        }
      ]
    },
    {
      "cell_type": "code",
      "metadata": {
        "colab": {
          "base_uri": "https://localhost:8080/"
        },
        "id": "Iutja_3hoXPt",
        "outputId": "ab1746de-cb66-4b2f-cac8-bf08bdac7840"
      },
      "source": [
        "ppg_final.info()"
      ],
      "execution_count": 9,
      "outputs": [
        {
          "output_type": "stream",
          "text": [
            "<class 'pandas.core.frame.DataFrame'>\n",
            "Int64Index: 24167 entries, 0 to 4356\n",
            "Data columns (total 34 columns):\n",
            " #   Column                         Non-Null Count  Dtype  \n",
            "---  ------                         --------------  -----  \n",
            " 0   AN_BASE                        24167 non-null  int64  \n",
            " 1   NM_GRANDE_AREA_CONHECIMENTO    24167 non-null  object \n",
            " 2   NM_AREA_CONHECIMENTO           24167 non-null  object \n",
            " 3   NM_SUBAREA_CONHECIMENTO        24167 non-null  object \n",
            " 4   NM_ESPECIALIDADE               24167 non-null  object \n",
            " 5   CD_AREA_AVALIACAO              24167 non-null  int64  \n",
            " 6   NM_AREA_AVALIACAO              24167 non-null  object \n",
            " 7   CD_ENTIDADE_CAPES              24167 non-null  int64  \n",
            " 8   CD_ENTIDADE_EMEC               24167 non-null  object \n",
            " 9   SG_ENTIDADE_ENSINO             24167 non-null  object \n",
            " 10  NM_ENTIDADE_ENSINO             24167 non-null  object \n",
            " 11  CS_STATUS_JURIDICO             24167 non-null  object \n",
            " 12  DS_DEPENDENCIA_ADMINISTRATIVA  24167 non-null  object \n",
            " 13  DS_ORGANIZACAO_ACADEMICA       24167 non-null  object \n",
            " 14  NM_REGIAO                      24167 non-null  object \n",
            " 15  NM_MUNICIPIO_PROGRAMA_IES      24167 non-null  object \n",
            " 16  NM_MODALIDADE_PROGRAMA         24167 non-null  object \n",
            " 17  CD_PROGRAMA_IES                24167 non-null  object \n",
            " 18  NM_PROGRAMA_IES                24167 non-null  object \n",
            " 19  NM_PROGRAMA_IDIOMA             24167 non-null  object \n",
            " 20  SG_UF_PROGRAMA                 24167 non-null  object \n",
            " 21  NM_GRAU_PROGRAMA               24167 non-null  object \n",
            " 22  CD_CONCEITO_PROGRAMA           24167 non-null  object \n",
            " 23  ANO_INICIO_PROGRAMA            15465 non-null  float64\n",
            " 24  AN_INICIO_CURSO                24167 non-null  object \n",
            " 25  IN_REDE                        24167 non-null  object \n",
            " 26  SG_ENTIDADE_ENSINO_REDE        561 non-null    object \n",
            " 27  DS_SITUACAO_PROGRAMA           24167 non-null  object \n",
            " 28  DT_SITUACAO_PROGRAMA           24167 non-null  object \n",
            " 29  ID_ADD_FOTO_PROGRAMA_IES       24167 non-null  int64  \n",
            " 30  ID_ADD_FOTO_PROGRAMA           24167 non-null  int64  \n",
            " 31  DS_CLIENTELA_QUADRIENAL_2017   15465 non-null  object \n",
            " 32  NM_AREA_BASICA                 8702 non-null   object \n",
            " 33  AN_INICIO_PROGRAMA             8702 non-null   float64\n",
            "dtypes: float64(2), int64(5), object(27)\n",
            "memory usage: 6.5+ MB\n"
          ],
          "name": "stdout"
        }
      ]
    },
    {
      "cell_type": "markdown",
      "metadata": {
        "id": "edmUeHihNkWf"
      },
      "source": [
        ""
      ]
    },
    {
      "cell_type": "markdown",
      "metadata": {
        "id": "Wg3TyqCjV8iG"
      },
      "source": [
        "Pegando o que eu quero da base PPG"
      ]
    },
    {
      "cell_type": "code",
      "metadata": {
        "id": "w18U3FyVN-vU",
        "colab": {
          "base_uri": "https://localhost:8080/"
        },
        "outputId": "788ca11b-6196-4ef2-db27-0039f87e4a8b"
      },
      "source": [
        "ppg_final['AN_BASE'].value_counts()"
      ],
      "execution_count": 10,
      "outputs": [
        {
          "output_type": "execute_result",
          "data": {
            "text/plain": [
              "2018    4357\n",
              "2017    4345\n",
              "2016    4186\n",
              "2015    3946\n",
              "2014    3765\n",
              "2013    3568\n",
              "Name: AN_BASE, dtype: int64"
            ]
          },
          "metadata": {
            "tags": []
          },
          "execution_count": 10
        }
      ]
    },
    {
      "cell_type": "markdown",
      "metadata": {
        "id": "mW2MT96uSFEX"
      },
      "source": [
        "del ppg_final['ID_ADD_FOTO_PROGRAMA']\n",
        "del ppg_final['ID_ADD_FOTO_PROGRAMA_IES']\n",
        "del ppg_final['AN_INICIO_PROGRAMA']\n",
        "del ppg_final['NM_PROGRAMA_IES']\n",
        "del ppg_final['SG_ENTIDADE_ENSINO']\n",
        "del ppg_final['SG_ENTIDADE_ENSINO_REDE']\n",
        "del ppg_final['SG_UF_PROGRAMA']\n",
        "del ppg_final['IN_REDE']\n",
        "del ppg_final['NM_AREA_AVALIACAO']\n",
        "del ppg_final['NM_AREA_BASICA']\n",
        "del ppg_final['NM_ENTIDADE_ENSINO']\n",
        "del ppg_final['CD_AREA_AVALIACAO']\n",
        "del ppg_final['CD_ENTIDADE_CAPES']\n",
        "del ppg_final['CD_ENTIDADE_EMEC']\n",
        "del ppg_final['DS_CLIENTELA_QUADRIENAL_2017']\n",
        "del ppg_final['CS_STATUS_JURIDICO']\n",
        "del ppg_final['DS_DEPENDENCIA_ADMINISTRATIVA']\n",
        "del ppg_final['DS_ORGANIZACAO_ACADEMICA']\n",
        "del ppg_final['NM_ESPECIALIDADE']\n",
        "del ppg_final['DT_SITUACAO_PROGRAMA']\n",
        "del ppg_final['NM_PROGRAMA_IDIOMA']\n"
      ]
    },
    {
      "cell_type": "code",
      "metadata": {
        "id": "d4LFzUtIXmSX"
      },
      "source": [
        "df = df_final.merge(ppg_final[['CD_PROGRAMA_IES','AN_BASE', 'CD_CONCEITO_PROGRAMA']], on=['CD_PROGRAMA_IES', 'AN_BASE'], how='inner')"
      ],
      "execution_count": 11,
      "outputs": []
    },
    {
      "cell_type": "code",
      "metadata": {
        "id": "m_1ckFPLx8N-"
      },
      "source": [
        "df = df.merge(ppg_final[['CD_PROGRAMA_IES','AN_BASE', 'NM_REGIAO']], on=['CD_PROGRAMA_IES', 'AN_BASE'], how='inner')"
      ],
      "execution_count": 12,
      "outputs": []
    },
    {
      "cell_type": "code",
      "metadata": {
        "id": "DuQO9xO52iR5"
      },
      "source": [
        "df = df.merge(ppg_final[['CD_PROGRAMA_IES','AN_BASE', 'NM_GRANDE_AREA_CONHECIMENTO']], on=['CD_PROGRAMA_IES', 'AN_BASE'], how='inner')"
      ],
      "execution_count": 13,
      "outputs": []
    },
    {
      "cell_type": "code",
      "metadata": {
        "id": "JsAVsKS6WMnN"
      },
      "source": [
        "df = df.merge(ppg_final[['CD_PROGRAMA_IES', 'AN_BASE', 'NM_AREA_CONHECIMENTO']], on = ['CD_PROGRAMA_IES', 'AN_BASE'], how = 'inner')"
      ],
      "execution_count": 14,
      "outputs": []
    },
    {
      "cell_type": "code",
      "metadata": {
        "id": "TQKwFVl3aGkd"
      },
      "source": [
        "df = df.merge(ppg_final[['CD_PROGRAMA_IES', 'AN_BASE', 'DS_DEPENDENCIA_ADMINISTRATIVA']], on = ['CD_PROGRAMA_IES', 'AN_BASE'],  how = 'inner')"
      ],
      "execution_count": 15,
      "outputs": []
    },
    {
      "cell_type": "code",
      "metadata": {
        "colab": {
          "base_uri": "https://localhost:8080/",
          "height": 479
        },
        "id": "sncdq3ZzEBOa",
        "outputId": "ce086d03-2eaf-4023-8151-7df5145903ed"
      },
      "source": [
        "df.head()"
      ],
      "execution_count": 16,
      "outputs": [
        {
          "output_type": "execute_result",
          "data": {
            "text/html": [
              "<div>\n",
              "<style scoped>\n",
              "    .dataframe tbody tr th:only-of-type {\n",
              "        vertical-align: middle;\n",
              "    }\n",
              "\n",
              "    .dataframe tbody tr th {\n",
              "        vertical-align: top;\n",
              "    }\n",
              "\n",
              "    .dataframe thead th {\n",
              "        text-align: right;\n",
              "    }\n",
              "</style>\n",
              "<table border=\"1\" class=\"dataframe\">\n",
              "  <thead>\n",
              "    <tr style=\"text-align: right;\">\n",
              "      <th></th>\n",
              "      <th>AN_BASE</th>\n",
              "      <th>ID_ADD_FOTO_PROGRAMA</th>\n",
              "      <th>ID_ADD_FOTO_PROGRAMA_IES</th>\n",
              "      <th>ID_ADD_CONTEXTO</th>\n",
              "      <th>ID_PROJETO</th>\n",
              "      <th>CD_PROGRAMA_IES</th>\n",
              "      <th>NM_PROGRAMA_IES</th>\n",
              "      <th>AN_INICIO_PROGRAMA</th>\n",
              "      <th>SG_ENTIDADE_ENSINO</th>\n",
              "      <th>NM_ENTIDADE_ENSINO</th>\n",
              "      <th>NM_NATUREZA_FINANCIAMENTO</th>\n",
              "      <th>NM_FINANCIADOR</th>\n",
              "      <th>SG_PROGRAMA_FOMENTO</th>\n",
              "      <th>NM_PROGRAMA_FOMENTO</th>\n",
              "      <th>IN_FINANCIADOR_ESTRANGEIRO</th>\n",
              "      <th>NM_PAIS_FINANCIADOR</th>\n",
              "      <th>CD_CONCEITO_PROGRAMA</th>\n",
              "      <th>NM_REGIAO</th>\n",
              "      <th>NM_GRANDE_AREA_CONHECIMENTO</th>\n",
              "      <th>NM_AREA_CONHECIMENTO</th>\n",
              "      <th>DS_DEPENDENCIA_ADMINISTRATIVA</th>\n",
              "    </tr>\n",
              "  </thead>\n",
              "  <tbody>\n",
              "    <tr>\n",
              "      <th>0</th>\n",
              "      <td>2013</td>\n",
              "      <td>3876</td>\n",
              "      <td>30168</td>\n",
              "      <td>746096</td>\n",
              "      <td>152265</td>\n",
              "      <td>32009011001P8</td>\n",
              "      <td>CIÊNCIAS BIOLÓGICAS</td>\n",
              "      <td>2006.0</td>\n",
              "      <td>UNIVALE</td>\n",
              "      <td>UNIVERSIDADE VALE DO RIO DOCE</td>\n",
              "      <td>OUTRO AUXÍLIO FINANCEIRO</td>\n",
              "      <td>CONS NAC DE DESENVOLVIMENTO CIENTIFICO E TECNO...</td>\n",
              "      <td>AF</td>\n",
              "      <td>AUXILIO FINANCEIRO</td>\n",
              "      <td>NaN</td>\n",
              "      <td>NaN</td>\n",
              "      <td>2</td>\n",
              "      <td>SUDESTE</td>\n",
              "      <td>CIÊNCIAS BIOLÓGICAS</td>\n",
              "      <td>BIOLOGIA GERAL</td>\n",
              "      <td>PRIVADA</td>\n",
              "    </tr>\n",
              "    <tr>\n",
              "      <th>1</th>\n",
              "      <td>2013</td>\n",
              "      <td>3876</td>\n",
              "      <td>30168</td>\n",
              "      <td>746097</td>\n",
              "      <td>152264</td>\n",
              "      <td>32009011001P8</td>\n",
              "      <td>CIÊNCIAS BIOLÓGICAS</td>\n",
              "      <td>2006.0</td>\n",
              "      <td>UNIVALE</td>\n",
              "      <td>UNIVERSIDADE VALE DO RIO DOCE</td>\n",
              "      <td>OUTRO AUXÍLIO FINANCEIRO</td>\n",
              "      <td>CONS NAC DE DESENVOLVIMENTO CIENTIFICO E TECNO...</td>\n",
              "      <td>AF</td>\n",
              "      <td>AUXILIO FINANCEIRO</td>\n",
              "      <td>NaN</td>\n",
              "      <td>NaN</td>\n",
              "      <td>2</td>\n",
              "      <td>SUDESTE</td>\n",
              "      <td>CIÊNCIAS BIOLÓGICAS</td>\n",
              "      <td>BIOLOGIA GERAL</td>\n",
              "      <td>PRIVADA</td>\n",
              "    </tr>\n",
              "    <tr>\n",
              "      <th>2</th>\n",
              "      <td>2013</td>\n",
              "      <td>3876</td>\n",
              "      <td>30168</td>\n",
              "      <td>746098</td>\n",
              "      <td>152251</td>\n",
              "      <td>32009011001P8</td>\n",
              "      <td>CIÊNCIAS BIOLÓGICAS</td>\n",
              "      <td>2006.0</td>\n",
              "      <td>UNIVALE</td>\n",
              "      <td>UNIVERSIDADE VALE DO RIO DOCE</td>\n",
              "      <td>OUTRO AUXÍLIO FINANCEIRO</td>\n",
              "      <td>CONS NAC DE DESENVOLVIMENTO CIENTIFICO E TECNO...</td>\n",
              "      <td>AF</td>\n",
              "      <td>AUXILIO FINANCEIRO</td>\n",
              "      <td>NaN</td>\n",
              "      <td>NaN</td>\n",
              "      <td>2</td>\n",
              "      <td>SUDESTE</td>\n",
              "      <td>CIÊNCIAS BIOLÓGICAS</td>\n",
              "      <td>BIOLOGIA GERAL</td>\n",
              "      <td>PRIVADA</td>\n",
              "    </tr>\n",
              "    <tr>\n",
              "      <th>3</th>\n",
              "      <td>2013</td>\n",
              "      <td>3876</td>\n",
              "      <td>30168</td>\n",
              "      <td>746098</td>\n",
              "      <td>152251</td>\n",
              "      <td>32009011001P8</td>\n",
              "      <td>CIÊNCIAS BIOLÓGICAS</td>\n",
              "      <td>2006.0</td>\n",
              "      <td>UNIVALE</td>\n",
              "      <td>UNIVERSIDADE VALE DO RIO DOCE</td>\n",
              "      <td>BOLSA</td>\n",
              "      <td>CONS NAC DE DESENVOLVIMENTO CIENTIFICO E TECNO...</td>\n",
              "      <td>AF</td>\n",
              "      <td>AUXILIO FINANCEIRO</td>\n",
              "      <td>NaN</td>\n",
              "      <td>NaN</td>\n",
              "      <td>2</td>\n",
              "      <td>SUDESTE</td>\n",
              "      <td>CIÊNCIAS BIOLÓGICAS</td>\n",
              "      <td>BIOLOGIA GERAL</td>\n",
              "      <td>PRIVADA</td>\n",
              "    </tr>\n",
              "    <tr>\n",
              "      <th>4</th>\n",
              "      <td>2013</td>\n",
              "      <td>3876</td>\n",
              "      <td>30168</td>\n",
              "      <td>746100</td>\n",
              "      <td>152245</td>\n",
              "      <td>32009011001P8</td>\n",
              "      <td>CIÊNCIAS BIOLÓGICAS</td>\n",
              "      <td>2006.0</td>\n",
              "      <td>UNIVALE</td>\n",
              "      <td>UNIVERSIDADE VALE DO RIO DOCE</td>\n",
              "      <td>OUTRO AUXÍLIO FINANCEIRO</td>\n",
              "      <td>CONS NAC DE DESENVOLVIMENTO CIENTIFICO E TECNO...</td>\n",
              "      <td>AF</td>\n",
              "      <td>AUXILIO FINANCEIRO</td>\n",
              "      <td>NaN</td>\n",
              "      <td>NaN</td>\n",
              "      <td>2</td>\n",
              "      <td>SUDESTE</td>\n",
              "      <td>CIÊNCIAS BIOLÓGICAS</td>\n",
              "      <td>BIOLOGIA GERAL</td>\n",
              "      <td>PRIVADA</td>\n",
              "    </tr>\n",
              "  </tbody>\n",
              "</table>\n",
              "</div>"
            ],
            "text/plain": [
              "   AN_BASE  ...  DS_DEPENDENCIA_ADMINISTRATIVA\n",
              "0     2013  ...                        PRIVADA\n",
              "1     2013  ...                        PRIVADA\n",
              "2     2013  ...                        PRIVADA\n",
              "3     2013  ...                        PRIVADA\n",
              "4     2013  ...                        PRIVADA\n",
              "\n",
              "[5 rows x 21 columns]"
            ]
          },
          "metadata": {
            "tags": []
          },
          "execution_count": 16
        }
      ]
    },
    {
      "cell_type": "code",
      "metadata": {
        "colab": {
          "base_uri": "https://localhost:8080/"
        },
        "id": "MpCKAjO_ENEa",
        "outputId": "d78d954c-52ec-43cc-ce97-60aad6967e22"
      },
      "source": [
        "df.shape"
      ],
      "execution_count": 17,
      "outputs": [
        {
          "output_type": "execute_result",
          "data": {
            "text/plain": [
              "(821100, 21)"
            ]
          },
          "metadata": {
            "tags": []
          },
          "execution_count": 17
        }
      ]
    },
    {
      "cell_type": "code",
      "metadata": {
        "colab": {
          "base_uri": "https://localhost:8080/"
        },
        "id": "GviHQX_ZERo7",
        "outputId": "d6ed1fdf-dbd5-4722-a803-4b2310fb4fc7"
      },
      "source": [
        "df_final.shape"
      ],
      "execution_count": 18,
      "outputs": [
        {
          "output_type": "execute_result",
          "data": {
            "text/plain": [
              "(821100, 16)"
            ]
          },
          "metadata": {
            "tags": []
          },
          "execution_count": 18
        }
      ]
    },
    {
      "cell_type": "code",
      "metadata": {
        "colab": {
          "base_uri": "https://localhost:8080/"
        },
        "id": "fCIWLal78Kl_",
        "outputId": "29ded380-8c72-4d28-eb27-f53758548916"
      },
      "source": [
        "df.info()"
      ],
      "execution_count": 19,
      "outputs": [
        {
          "output_type": "stream",
          "text": [
            "<class 'pandas.core.frame.DataFrame'>\n",
            "Int64Index: 821100 entries, 0 to 821099\n",
            "Data columns (total 21 columns):\n",
            " #   Column                         Non-Null Count   Dtype  \n",
            "---  ------                         --------------   -----  \n",
            " 0   AN_BASE                        821100 non-null  int64  \n",
            " 1   ID_ADD_FOTO_PROGRAMA           821100 non-null  int64  \n",
            " 2   ID_ADD_FOTO_PROGRAMA_IES       821100 non-null  int64  \n",
            " 3   ID_ADD_CONTEXTO                821100 non-null  int64  \n",
            " 4   ID_PROJETO                     821100 non-null  int64  \n",
            " 5   CD_PROGRAMA_IES                821100 non-null  object \n",
            " 6   NM_PROGRAMA_IES                821100 non-null  object \n",
            " 7   AN_INICIO_PROGRAMA             820987 non-null  float64\n",
            " 8   SG_ENTIDADE_ENSINO             821100 non-null  object \n",
            " 9   NM_ENTIDADE_ENSINO             821100 non-null  object \n",
            " 10  NM_NATUREZA_FINANCIAMENTO      821100 non-null  object \n",
            " 11  NM_FINANCIADOR                 821100 non-null  object \n",
            " 12  SG_PROGRAMA_FOMENTO            820192 non-null  object \n",
            " 13  NM_PROGRAMA_FOMENTO            820266 non-null  object \n",
            " 14  IN_FINANCIADOR_ESTRANGEIRO     281090 non-null  object \n",
            " 15  NM_PAIS_FINANCIADOR            281090 non-null  object \n",
            " 16  CD_CONCEITO_PROGRAMA           821100 non-null  object \n",
            " 17  NM_REGIAO                      821100 non-null  object \n",
            " 18  NM_GRANDE_AREA_CONHECIMENTO    821100 non-null  object \n",
            " 19  NM_AREA_CONHECIMENTO           821100 non-null  object \n",
            " 20  DS_DEPENDENCIA_ADMINISTRATIVA  821100 non-null  object \n",
            "dtypes: float64(1), int64(5), object(15)\n",
            "memory usage: 137.8+ MB\n"
          ],
          "name": "stdout"
        }
      ]
    },
    {
      "cell_type": "code",
      "metadata": {
        "colab": {
          "base_uri": "https://localhost:8080/"
        },
        "id": "aqkBiTuqpwi5",
        "outputId": "5706b73f-8ed6-42cc-c59a-89d09a935c2c"
      },
      "source": [
        "\n",
        "df_final.info()"
      ],
      "execution_count": 20,
      "outputs": [
        {
          "output_type": "stream",
          "text": [
            "<class 'pandas.core.frame.DataFrame'>\n",
            "Int64Index: 821100 entries, 0 to 145046\n",
            "Data columns (total 16 columns):\n",
            " #   Column                      Non-Null Count   Dtype  \n",
            "---  ------                      --------------   -----  \n",
            " 0   AN_BASE                     821100 non-null  int64  \n",
            " 1   ID_ADD_FOTO_PROGRAMA        821100 non-null  int64  \n",
            " 2   ID_ADD_FOTO_PROGRAMA_IES    821100 non-null  int64  \n",
            " 3   ID_ADD_CONTEXTO             821100 non-null  int64  \n",
            " 4   ID_PROJETO                  821100 non-null  int64  \n",
            " 5   CD_PROGRAMA_IES             821100 non-null  object \n",
            " 6   NM_PROGRAMA_IES             821100 non-null  object \n",
            " 7   AN_INICIO_PROGRAMA          820987 non-null  float64\n",
            " 8   SG_ENTIDADE_ENSINO          821100 non-null  object \n",
            " 9   NM_ENTIDADE_ENSINO          821100 non-null  object \n",
            " 10  NM_NATUREZA_FINANCIAMENTO   821100 non-null  object \n",
            " 11  NM_FINANCIADOR              821100 non-null  object \n",
            " 12  SG_PROGRAMA_FOMENTO         820192 non-null  object \n",
            " 13  NM_PROGRAMA_FOMENTO         820266 non-null  object \n",
            " 14  IN_FINANCIADOR_ESTRANGEIRO  281090 non-null  object \n",
            " 15  NM_PAIS_FINANCIADOR         281090 non-null  object \n",
            "dtypes: float64(1), int64(5), object(10)\n",
            "memory usage: 106.5+ MB\n"
          ],
          "name": "stdout"
        }
      ]
    },
    {
      "cell_type": "markdown",
      "metadata": {
        "id": "LyNKiF4vqIwA"
      },
      "source": [
        ""
      ]
    },
    {
      "cell_type": "code",
      "metadata": {
        "id": "3yxXcr7qmxZc"
      },
      "source": [
        "del df['ID_ADD_FOTO_PROGRAMA']\n",
        "del df['ID_ADD_FOTO_PROGRAMA_IES']\n",
        "del df['ID_ADD_CONTEXTO']"
      ],
      "execution_count": 21,
      "outputs": []
    },
    {
      "cell_type": "markdown",
      "metadata": {
        "id": "FXlxOQtGS-eK"
      },
      "source": [
        "Tem valor nulo na coluna de notas?"
      ]
    },
    {
      "cell_type": "code",
      "metadata": {
        "id": "QYD4UifAQOIJ",
        "colab": {
          "base_uri": "https://localhost:8080/"
        },
        "outputId": "579eeac0-e116-409f-8f42-b2e3417bd464"
      },
      "source": [
        "df.isnull().sum(axis = 0)"
      ],
      "execution_count": 22,
      "outputs": [
        {
          "output_type": "execute_result",
          "data": {
            "text/plain": [
              "AN_BASE                               0\n",
              "ID_PROJETO                            0\n",
              "CD_PROGRAMA_IES                       0\n",
              "NM_PROGRAMA_IES                       0\n",
              "AN_INICIO_PROGRAMA                  113\n",
              "SG_ENTIDADE_ENSINO                    0\n",
              "NM_ENTIDADE_ENSINO                    0\n",
              "NM_NATUREZA_FINANCIAMENTO             0\n",
              "NM_FINANCIADOR                        0\n",
              "SG_PROGRAMA_FOMENTO                 908\n",
              "NM_PROGRAMA_FOMENTO                 834\n",
              "IN_FINANCIADOR_ESTRANGEIRO       540010\n",
              "NM_PAIS_FINANCIADOR              540010\n",
              "CD_CONCEITO_PROGRAMA                  0\n",
              "NM_REGIAO                             0\n",
              "NM_GRANDE_AREA_CONHECIMENTO           0\n",
              "NM_AREA_CONHECIMENTO                  0\n",
              "DS_DEPENDENCIA_ADMINISTRATIVA         0\n",
              "dtype: int64"
            ]
          },
          "metadata": {
            "tags": []
          },
          "execution_count": 22
        }
      ]
    },
    {
      "cell_type": "code",
      "metadata": {
        "colab": {
          "base_uri": "https://localhost:8080/",
          "height": 567
        },
        "id": "hKo40V75rGYM",
        "outputId": "5c8d00de-9ce0-4b83-c484-09b0419d3432"
      },
      "source": [
        "plt.figure(figsize=(12, 6))\n",
        "sns.heatmap(df.isnull())"
      ],
      "execution_count": 79,
      "outputs": [
        {
          "output_type": "execute_result",
          "data": {
            "text/plain": [
              "<matplotlib.axes._subplots.AxesSubplot at 0x7f97dfba9390>"
            ]
          },
          "metadata": {
            "tags": []
          },
          "execution_count": 79
        },
        {
          "output_type": "display_data",
          "data": {
            "image/png": "[encoded data removed]",
            "text/plain": [
              "<Figure size 864x432 with 2 Axes>"
            ]
          },
          "metadata": {
            "tags": [],
            "needs_background": "light"
          }
        }
      ]
    },
    {
      "cell_type": "code",
      "metadata": {
        "id": "pBGC3BLSuYLD",
        "colab": {
          "base_uri": "https://localhost:8080/"
        },
        "outputId": "1caaa38a-4caf-4131-c6f6-6fbbb29e38cf"
      },
      "source": [
        "df['NM_PROGRAMA_FOMENTO'].value_counts()"
      ],
      "execution_count": 24,
      "outputs": [
        {
          "output_type": "execute_result",
          "data": {
            "text/plain": [
              "PROGRAMA DE DEMANDA SOCIAL                                                                 75073\n",
              "AUXÍLIO À PESQUISA                                                                         51431\n",
              "APOIO À PÓS-GRADUAÇÃO                                                                      42554\n",
              "AUXÍLIO FINANCEIRO                                                                         37597\n",
              "BOLSA PRODUTIVIDADE EM PESQUISA                                                            31107\n",
              "                                                                                           ...  \n",
              "VERBA ORIUNDA DE PROJETO PLASTICOS BRANDT                                                      1\n",
              "CONVENIO UFRN/ALRN                                                                             1\n",
              "CLIMATE FINANCE OF CLIMATE POLICY INICIATIVE                                                   1\n",
              "PROGRAMA DE BOLSAS E DESCONTOS DA VICE-REITORIA DE PÓS-GRADUAÇÃO EM PESQUISA SIGLA: PBD        1\n",
              "CHAMADA CNPQ/MCTIC-SEPED Nº 14/2018 - SNCT 2018                                                1\n",
              "Name: NM_PROGRAMA_FOMENTO, Length: 4543, dtype: int64"
            ]
          },
          "metadata": {
            "tags": []
          },
          "execution_count": 24
        }
      ]
    },
    {
      "cell_type": "code",
      "metadata": {
        "colab": {
          "base_uri": "https://localhost:8080/"
        },
        "id": "Og8aTosDHuHD",
        "outputId": "b7ba860d-522e-415d-9895-f296aa5ecc34"
      },
      "source": [
        "df['CD_CONCEITO_PROGRAMA'].unique()"
      ],
      "execution_count": 25,
      "outputs": [
        {
          "output_type": "execute_result",
          "data": {
            "text/plain": [
              "array([2, 3, 4, 5, 6, 7, 1, '7', '6', '5', '3', '4', '2', '1', 'A'],\n",
              "      dtype=object)"
            ]
          },
          "metadata": {
            "tags": []
          },
          "execution_count": 25
        }
      ]
    },
    {
      "cell_type": "code",
      "metadata": {
        "id": "2-wAmHZYIQgP",
        "colab": {
          "base_uri": "https://localhost:8080/"
        },
        "outputId": "097e58fc-70fc-46b7-9b7c-f6b95ea30928"
      },
      "source": [
        "df.loc[df.CD_CONCEITO_PROGRAMA == 'A'].AN_BASE.unique()"
      ],
      "execution_count": 26,
      "outputs": [
        {
          "output_type": "execute_result",
          "data": {
            "text/plain": [
              "array([2018])"
            ]
          },
          "metadata": {
            "tags": []
          },
          "execution_count": 26
        }
      ]
    },
    {
      "cell_type": "code",
      "metadata": {
        "id": "XFpAiqUKIQij",
        "colab": {
          "base_uri": "https://localhost:8080/"
        },
        "outputId": "f4087812-2e5e-4a63-ece9-c1109a142288"
      },
      "source": [
        "df = df[df['CD_CONCEITO_PROGRAMA'] != 'A']\n",
        "df['CD_CONCEITO_PROGRAMA'].unique()"
      ],
      "execution_count": 27,
      "outputs": [
        {
          "output_type": "execute_result",
          "data": {
            "text/plain": [
              "array([2, 3, 4, 5, 6, 7, 1, '7', '6', '5', '3', '4', '2', '1'],\n",
              "      dtype=object)"
            ]
          },
          "metadata": {
            "tags": []
          },
          "execution_count": 27
        }
      ]
    },
    {
      "cell_type": "code",
      "metadata": {
        "id": "A10fAHIaJdOx"
      },
      "source": [
        "df.CD_CONCEITO_PROGRAMA = df.CD_CONCEITO_PROGRAMA.astype('int64')"
      ],
      "execution_count": 28,
      "outputs": []
    },
    {
      "cell_type": "code",
      "metadata": {
        "id": "Q_gBOpjgb1Ji"
      },
      "source": [
        "def dependencia_administrativa(col):\n",
        "\n",
        "  dependencia = col[0]\n",
        "\n",
        "  if dependencia == 'PÚBLICO':\n",
        "\n",
        "    return 'PÚBLICA'\n",
        "\n",
        "  elif dependencia == 'PRIVADO':\n",
        "\n",
        "    return  'PRIVADA'\n",
        "\n",
        "df['DS_DEPENDENCIA_ADMINISTRATIVA'] = df[['DS_DEPENDENCIA_ADMINISTRATIVA']].apply(dependencia_administrativa, axis = 1)"
      ],
      "execution_count": 29,
      "outputs": []
    },
    {
      "cell_type": "code",
      "metadata": {
        "id": "q7f3vjEsC7B9",
        "colab": {
          "base_uri": "https://localhost:8080/"
        },
        "outputId": "ce9858db-eeb8-4b6c-96b8-a4238ee5c04c"
      },
      "source": [
        "df['ID_PROJETO'].sort_values(ascending=False)"
      ],
      "execution_count": 30,
      "outputs": [
        {
          "output_type": "execute_result",
          "data": {
            "text/plain": [
              "744990    534214\n",
              "780816    534207\n",
              "726037    534203\n",
              "767039    534191\n",
              "780822    534189\n",
              "           ...  \n",
              "17284      77470\n",
              "678808     77470\n",
              "150307     77470\n",
              "549441     77470\n",
              "481230     77470\n",
              "Name: ID_PROJETO, Length: 821098, dtype: int64"
            ]
          },
          "metadata": {
            "tags": []
          },
          "execution_count": 30
        }
      ]
    },
    {
      "cell_type": "markdown",
      "metadata": {
        "id": "pu-JIOgVUt8Y"
      },
      "source": [
        "## Aqui começam as Ideias\n",
        "\n"
      ]
    },
    {
      "cell_type": "code",
      "metadata": {
        "id": "RX8O_HH8Y2mM"
      },
      "source": [
        "financiadores_por_universidade = ['NM_FINANCIADOR', 'SG_ENTIDADE_ENSINO']"
      ],
      "execution_count": 31,
      "outputs": []
    },
    {
      "cell_type": "code",
      "metadata": {
        "id": "70Fbk4W4aBQA"
      },
      "source": [
        "dadosFinanciadoresUniversidade = df.filter(items = financiadores_por_universidade)"
      ],
      "execution_count": 32,
      "outputs": []
    },
    {
      "cell_type": "code",
      "metadata": {
        "id": "nXJaht_VaWp9",
        "colab": {
          "base_uri": "https://localhost:8080/",
          "height": 204
        },
        "outputId": "1ddb98e3-9cf9-48da-a8bf-a9bbdd62587b"
      },
      "source": [
        "dadosFinanciadoresUniversidade.head()"
      ],
      "execution_count": 33,
      "outputs": [
        {
          "output_type": "execute_result",
          "data": {
            "text/html": [
              "<div>\n",
              "<style scoped>\n",
              "    .dataframe tbody tr th:only-of-type {\n",
              "        vertical-align: middle;\n",
              "    }\n",
              "\n",
              "    .dataframe tbody tr th {\n",
              "        vertical-align: top;\n",
              "    }\n",
              "\n",
              "    .dataframe thead th {\n",
              "        text-align: right;\n",
              "    }\n",
              "</style>\n",
              "<table border=\"1\" class=\"dataframe\">\n",
              "  <thead>\n",
              "    <tr style=\"text-align: right;\">\n",
              "      <th></th>\n",
              "      <th>NM_FINANCIADOR</th>\n",
              "      <th>SG_ENTIDADE_ENSINO</th>\n",
              "    </tr>\n",
              "  </thead>\n",
              "  <tbody>\n",
              "    <tr>\n",
              "      <th>0</th>\n",
              "      <td>CONS NAC DE DESENVOLVIMENTO CIENTIFICO E TECNO...</td>\n",
              "      <td>UNIVALE</td>\n",
              "    </tr>\n",
              "    <tr>\n",
              "      <th>1</th>\n",
              "      <td>CONS NAC DE DESENVOLVIMENTO CIENTIFICO E TECNO...</td>\n",
              "      <td>UNIVALE</td>\n",
              "    </tr>\n",
              "    <tr>\n",
              "      <th>2</th>\n",
              "      <td>CONS NAC DE DESENVOLVIMENTO CIENTIFICO E TECNO...</td>\n",
              "      <td>UNIVALE</td>\n",
              "    </tr>\n",
              "    <tr>\n",
              "      <th>3</th>\n",
              "      <td>CONS NAC DE DESENVOLVIMENTO CIENTIFICO E TECNO...</td>\n",
              "      <td>UNIVALE</td>\n",
              "    </tr>\n",
              "    <tr>\n",
              "      <th>4</th>\n",
              "      <td>CONS NAC DE DESENVOLVIMENTO CIENTIFICO E TECNO...</td>\n",
              "      <td>UNIVALE</td>\n",
              "    </tr>\n",
              "  </tbody>\n",
              "</table>\n",
              "</div>"
            ],
            "text/plain": [
              "                                      NM_FINANCIADOR SG_ENTIDADE_ENSINO\n",
              "0  CONS NAC DE DESENVOLVIMENTO CIENTIFICO E TECNO...            UNIVALE\n",
              "1  CONS NAC DE DESENVOLVIMENTO CIENTIFICO E TECNO...            UNIVALE\n",
              "2  CONS NAC DE DESENVOLVIMENTO CIENTIFICO E TECNO...            UNIVALE\n",
              "3  CONS NAC DE DESENVOLVIMENTO CIENTIFICO E TECNO...            UNIVALE\n",
              "4  CONS NAC DE DESENVOLVIMENTO CIENTIFICO E TECNO...            UNIVALE"
            ]
          },
          "metadata": {
            "tags": []
          },
          "execution_count": 33
        }
      ]
    },
    {
      "cell_type": "markdown",
      "metadata": {
        "id": "qYxnITmN0GLm"
      },
      "source": [
        "Número de Financiamentos por Universidade"
      ]
    },
    {
      "cell_type": "code",
      "metadata": {
        "id": "juXTdnz9adxg",
        "colab": {
          "base_uri": "https://localhost:8080/",
          "height": 450
        },
        "outputId": "7893ad1b-bf8c-40b2-db90-b26a933a8b2b"
      },
      "source": [
        "dadosFinanciadoresUniversidade.groupby('SG_ENTIDADE_ENSINO').count().sort_values(by= ['NM_FINANCIADOR'], ascending = False)"
      ],
      "execution_count": 34,
      "outputs": [
        {
          "output_type": "execute_result",
          "data": {
            "text/html": [
              "<div>\n",
              "<style scoped>\n",
              "    .dataframe tbody tr th:only-of-type {\n",
              "        vertical-align: middle;\n",
              "    }\n",
              "\n",
              "    .dataframe tbody tr th {\n",
              "        vertical-align: top;\n",
              "    }\n",
              "\n",
              "    .dataframe thead th {\n",
              "        text-align: right;\n",
              "    }\n",
              "</style>\n",
              "<table border=\"1\" class=\"dataframe\">\n",
              "  <thead>\n",
              "    <tr style=\"text-align: right;\">\n",
              "      <th></th>\n",
              "      <th>NM_FINANCIADOR</th>\n",
              "    </tr>\n",
              "    <tr>\n",
              "      <th>SG_ENTIDADE_ENSINO</th>\n",
              "      <th></th>\n",
              "    </tr>\n",
              "  </thead>\n",
              "  <tbody>\n",
              "    <tr>\n",
              "      <th>USP</th>\n",
              "      <td>53925</td>\n",
              "    </tr>\n",
              "    <tr>\n",
              "      <th>UFRJ</th>\n",
              "      <td>35665</td>\n",
              "    </tr>\n",
              "    <tr>\n",
              "      <th>UFMG</th>\n",
              "      <td>30049</td>\n",
              "    </tr>\n",
              "    <tr>\n",
              "      <th>UFRGS</th>\n",
              "      <td>28954</td>\n",
              "    </tr>\n",
              "    <tr>\n",
              "      <th>UNICAMP</th>\n",
              "      <td>21934</td>\n",
              "    </tr>\n",
              "    <tr>\n",
              "      <th>...</th>\n",
              "      <td>...</td>\n",
              "    </tr>\n",
              "    <tr>\n",
              "      <th>UNIANDRADE</th>\n",
              "      <td>2</td>\n",
              "    </tr>\n",
              "    <tr>\n",
              "      <th>FVC</th>\n",
              "      <td>1</td>\n",
              "    </tr>\n",
              "    <tr>\n",
              "      <th>FBV</th>\n",
              "      <td>1</td>\n",
              "    </tr>\n",
              "    <tr>\n",
              "      <th>UNIFBV-WYDEN</th>\n",
              "      <td>1</td>\n",
              "    </tr>\n",
              "    <tr>\n",
              "      <th>IFTM</th>\n",
              "      <td>1</td>\n",
              "    </tr>\n",
              "  </tbody>\n",
              "</table>\n",
              "<p>441 rows × 1 columns</p>\n",
              "</div>"
            ],
            "text/plain": [
              "                    NM_FINANCIADOR\n",
              "SG_ENTIDADE_ENSINO                \n",
              "USP                          53925\n",
              "UFRJ                         35665\n",
              "UFMG                         30049\n",
              "UFRGS                        28954\n",
              "UNICAMP                      21934\n",
              "...                            ...\n",
              "UNIANDRADE                       2\n",
              "FVC                              1\n",
              "FBV                              1\n",
              "UNIFBV-WYDEN                     1\n",
              "IFTM                             1\n",
              "\n",
              "[441 rows x 1 columns]"
            ]
          },
          "metadata": {
            "tags": []
          },
          "execution_count": 34
        }
      ]
    },
    {
      "cell_type": "code",
      "metadata": {
        "id": "7BgwhfkUa73a"
      },
      "source": [
        "projetos_por_universidade = ['NM_FINANCIADOR', 'SG_ENTIDADE_ENSINO']"
      ],
      "execution_count": 35,
      "outputs": []
    },
    {
      "cell_type": "code",
      "metadata": {
        "id": "aKj76j6x1Vud"
      },
      "source": [
        "df_x = dadosProjetosUniversidade = df_final.filter(projetos_por_universidade)"
      ],
      "execution_count": 36,
      "outputs": []
    },
    {
      "cell_type": "code",
      "metadata": {
        "id": "vfd3NFFB4ci6",
        "colab": {
          "base_uri": "https://localhost:8080/",
          "height": 80
        },
        "outputId": "26cfdc8a-0d90-4635-bafc-e497c71bef7e"
      },
      "source": [
        "dadosProjetosUniversidade.head(1)"
      ],
      "execution_count": 37,
      "outputs": [
        {
          "output_type": "execute_result",
          "data": {
            "text/html": [
              "<div>\n",
              "<style scoped>\n",
              "    .dataframe tbody tr th:only-of-type {\n",
              "        vertical-align: middle;\n",
              "    }\n",
              "\n",
              "    .dataframe tbody tr th {\n",
              "        vertical-align: top;\n",
              "    }\n",
              "\n",
              "    .dataframe thead th {\n",
              "        text-align: right;\n",
              "    }\n",
              "</style>\n",
              "<table border=\"1\" class=\"dataframe\">\n",
              "  <thead>\n",
              "    <tr style=\"text-align: right;\">\n",
              "      <th></th>\n",
              "      <th>NM_FINANCIADOR</th>\n",
              "      <th>SG_ENTIDADE_ENSINO</th>\n",
              "    </tr>\n",
              "  </thead>\n",
              "  <tbody>\n",
              "    <tr>\n",
              "      <th>0</th>\n",
              "      <td>CONS NAC DE DESENVOLVIMENTO CIENTIFICO E TECNO...</td>\n",
              "      <td>UNIVALE</td>\n",
              "    </tr>\n",
              "  </tbody>\n",
              "</table>\n",
              "</div>"
            ],
            "text/plain": [
              "                                      NM_FINANCIADOR SG_ENTIDADE_ENSINO\n",
              "0  CONS NAC DE DESENVOLVIMENTO CIENTIFICO E TECNO...            UNIVALE"
            ]
          },
          "metadata": {
            "tags": []
          },
          "execution_count": 37
        }
      ]
    },
    {
      "cell_type": "code",
      "metadata": {
        "id": "3dH6tJ8w4g_K",
        "colab": {
          "base_uri": "https://localhost:8080/",
          "height": 450
        },
        "outputId": "49344dcc-c211-42d6-9cbe-3ff6e6bc4ecd"
      },
      "source": [
        "dadosProjetosUniversidade.groupby('SG_ENTIDADE_ENSINO').count().sort_values(by = 'NM_FINANCIADOR', ascending = False)"
      ],
      "execution_count": 38,
      "outputs": [
        {
          "output_type": "execute_result",
          "data": {
            "text/html": [
              "<div>\n",
              "<style scoped>\n",
              "    .dataframe tbody tr th:only-of-type {\n",
              "        vertical-align: middle;\n",
              "    }\n",
              "\n",
              "    .dataframe tbody tr th {\n",
              "        vertical-align: top;\n",
              "    }\n",
              "\n",
              "    .dataframe thead th {\n",
              "        text-align: right;\n",
              "    }\n",
              "</style>\n",
              "<table border=\"1\" class=\"dataframe\">\n",
              "  <thead>\n",
              "    <tr style=\"text-align: right;\">\n",
              "      <th></th>\n",
              "      <th>NM_FINANCIADOR</th>\n",
              "    </tr>\n",
              "    <tr>\n",
              "      <th>SG_ENTIDADE_ENSINO</th>\n",
              "      <th></th>\n",
              "    </tr>\n",
              "  </thead>\n",
              "  <tbody>\n",
              "    <tr>\n",
              "      <th>USP</th>\n",
              "      <td>53925</td>\n",
              "    </tr>\n",
              "    <tr>\n",
              "      <th>UFRJ</th>\n",
              "      <td>35665</td>\n",
              "    </tr>\n",
              "    <tr>\n",
              "      <th>UFMG</th>\n",
              "      <td>30049</td>\n",
              "    </tr>\n",
              "    <tr>\n",
              "      <th>UFRGS</th>\n",
              "      <td>28954</td>\n",
              "    </tr>\n",
              "    <tr>\n",
              "      <th>UNICAMP</th>\n",
              "      <td>21934</td>\n",
              "    </tr>\n",
              "    <tr>\n",
              "      <th>...</th>\n",
              "      <td>...</td>\n",
              "    </tr>\n",
              "    <tr>\n",
              "      <th>UNIANDRADE</th>\n",
              "      <td>2</td>\n",
              "    </tr>\n",
              "    <tr>\n",
              "      <th>FVC</th>\n",
              "      <td>1</td>\n",
              "    </tr>\n",
              "    <tr>\n",
              "      <th>FBV</th>\n",
              "      <td>1</td>\n",
              "    </tr>\n",
              "    <tr>\n",
              "      <th>UNIFBV-WYDEN</th>\n",
              "      <td>1</td>\n",
              "    </tr>\n",
              "    <tr>\n",
              "      <th>IFTM</th>\n",
              "      <td>1</td>\n",
              "    </tr>\n",
              "  </tbody>\n",
              "</table>\n",
              "<p>441 rows × 1 columns</p>\n",
              "</div>"
            ],
            "text/plain": [
              "                    NM_FINANCIADOR\n",
              "SG_ENTIDADE_ENSINO                \n",
              "USP                          53925\n",
              "UFRJ                         35665\n",
              "UFMG                         30049\n",
              "UFRGS                        28954\n",
              "UNICAMP                      21934\n",
              "...                            ...\n",
              "UNIANDRADE                       2\n",
              "FVC                              1\n",
              "FBV                              1\n",
              "UNIFBV-WYDEN                     1\n",
              "IFTM                             1\n",
              "\n",
              "[441 rows x 1 columns]"
            ]
          },
          "metadata": {
            "tags": []
          },
          "execution_count": 38
        }
      ]
    },
    {
      "cell_type": "code",
      "metadata": {
        "id": "UMGPZ1jF45rC"
      },
      "source": [
        "nota_ano = ['CD_PROGRAMA_IES', 'AN_BASE', 'CD_CONCEITO_PROGRAMA']"
      ],
      "execution_count": 39,
      "outputs": []
    },
    {
      "cell_type": "code",
      "metadata": {
        "id": "Pfa-zwL5nzqB"
      },
      "source": [
        "nota_por_ano = df_final.filter(items=nota_ano)"
      ],
      "execution_count": 40,
      "outputs": []
    },
    {
      "cell_type": "code",
      "metadata": {
        "id": "MLOaACpSoPtP",
        "colab": {
          "base_uri": "https://localhost:8080/",
          "height": 204
        },
        "outputId": "2ba0828a-4527-4dde-9ee8-acd698c404ab"
      },
      "source": [
        "nota_por_ano.head()"
      ],
      "execution_count": 41,
      "outputs": [
        {
          "output_type": "execute_result",
          "data": {
            "text/html": [
              "<div>\n",
              "<style scoped>\n",
              "    .dataframe tbody tr th:only-of-type {\n",
              "        vertical-align: middle;\n",
              "    }\n",
              "\n",
              "    .dataframe tbody tr th {\n",
              "        vertical-align: top;\n",
              "    }\n",
              "\n",
              "    .dataframe thead th {\n",
              "        text-align: right;\n",
              "    }\n",
              "</style>\n",
              "<table border=\"1\" class=\"dataframe\">\n",
              "  <thead>\n",
              "    <tr style=\"text-align: right;\">\n",
              "      <th></th>\n",
              "      <th>CD_PROGRAMA_IES</th>\n",
              "      <th>AN_BASE</th>\n",
              "    </tr>\n",
              "  </thead>\n",
              "  <tbody>\n",
              "    <tr>\n",
              "      <th>0</th>\n",
              "      <td>32009011001P8</td>\n",
              "      <td>2013</td>\n",
              "    </tr>\n",
              "    <tr>\n",
              "      <th>1</th>\n",
              "      <td>32009011001P8</td>\n",
              "      <td>2013</td>\n",
              "    </tr>\n",
              "    <tr>\n",
              "      <th>2</th>\n",
              "      <td>32009011001P8</td>\n",
              "      <td>2013</td>\n",
              "    </tr>\n",
              "    <tr>\n",
              "      <th>3</th>\n",
              "      <td>32009011001P8</td>\n",
              "      <td>2013</td>\n",
              "    </tr>\n",
              "    <tr>\n",
              "      <th>4</th>\n",
              "      <td>32009011001P8</td>\n",
              "      <td>2013</td>\n",
              "    </tr>\n",
              "  </tbody>\n",
              "</table>\n",
              "</div>"
            ],
            "text/plain": [
              "  CD_PROGRAMA_IES  AN_BASE\n",
              "0   32009011001P8     2013\n",
              "1   32009011001P8     2013\n",
              "2   32009011001P8     2013\n",
              "3   32009011001P8     2013\n",
              "4   32009011001P8     2013"
            ]
          },
          "metadata": {
            "tags": []
          },
          "execution_count": 41
        }
      ]
    },
    {
      "cell_type": "code",
      "metadata": {
        "id": "t_Yr9Qz6oTwx",
        "colab": {
          "base_uri": "https://localhost:8080/",
          "height": 405
        },
        "outputId": "8f007abf-2343-4614-fd91-f3a35351629b"
      },
      "source": [
        "plt.figure(figsize=(12,6))\n",
        "plt.title('NOTAS x ANO')\n",
        "sns.countplot(x='AN_BASE', data=df, hue='CD_CONCEITO_PROGRAMA')\n",
        "plt.ylabel=('Número de Notas')\n",
        "plt.xlabel=('Ano')"
      ],
      "execution_count": 42,
      "outputs": [
        {
          "output_type": "display_data",
          "data": {
            "image/png": "[encoded data removed]",
            "text/plain": [
              "<Figure size 864x432 with 1 Axes>"
            ]
          },
          "metadata": {
            "tags": [],
            "needs_background": "light"
          }
        }
      ]
    },
    {
      "cell_type": "markdown",
      "metadata": {
        "id": "qVymgVWwrjfF"
      },
      "source": [
        "QUANTIDADE DE FINANCIADORES DE PROJETO POR ANO"
      ]
    },
    {
      "cell_type": "code",
      "metadata": {
        "id": "XmxLK21cpjh3",
        "colab": {
          "base_uri": "https://localhost:8080/",
          "height": 313
        },
        "outputId": "a02c92ce-b7af-4e17-9881-c96a6a77183c"
      },
      "source": [
        "\n",
        "plt.title('Quantidade de Financiamentos por ano')\n",
        "sns.countplot(x='AN_BASE', data = df)"
      ],
      "execution_count": 43,
      "outputs": [
        {
          "output_type": "execute_result",
          "data": {
            "text/plain": [
              "<matplotlib.axes._subplots.AxesSubplot at 0x7f97dfb00a10>"
            ]
          },
          "metadata": {
            "tags": []
          },
          "execution_count": 43
        },
        {
          "output_type": "display_data",
          "data": {
            "image/png": "[encoded data removed]",
            "text/plain": [
              "<Figure size 432x288 with 1 Axes>"
            ]
          },
          "metadata": {
            "tags": [],
            "needs_background": "light"
          }
        }
      ]
    },
    {
      "cell_type": "code",
      "metadata": {
        "id": "QFuZ8j4Is0oq"
      },
      "source": [
        "financiamento_ano = ['CD_PROGRAMA_IES', 'AN_BASE']"
      ],
      "execution_count": 44,
      "outputs": []
    },
    {
      "cell_type": "code",
      "metadata": {
        "id": "gqE55dSwtBTM"
      },
      "source": [
        "financiamento_por_ano = df.filter(items=financiamento_ano)"
      ],
      "execution_count": 45,
      "outputs": []
    },
    {
      "cell_type": "code",
      "metadata": {
        "colab": {
          "base_uri": "https://localhost:8080/",
          "height": 266
        },
        "id": "BhYhddWetBVY",
        "outputId": "323fa15a-fc4f-46cc-fb14-e51be302445b"
      },
      "source": [
        "financiamento_por_ano.groupby('AN_BASE').count().sort_values(by = 'CD_PROGRAMA_IES', ascending=False)"
      ],
      "execution_count": 46,
      "outputs": [
        {
          "output_type": "execute_result",
          "data": {
            "text/html": [
              "<div>\n",
              "<style scoped>\n",
              "    .dataframe tbody tr th:only-of-type {\n",
              "        vertical-align: middle;\n",
              "    }\n",
              "\n",
              "    .dataframe tbody tr th {\n",
              "        vertical-align: top;\n",
              "    }\n",
              "\n",
              "    .dataframe thead th {\n",
              "        text-align: right;\n",
              "    }\n",
              "</style>\n",
              "<table border=\"1\" class=\"dataframe\">\n",
              "  <thead>\n",
              "    <tr style=\"text-align: right;\">\n",
              "      <th></th>\n",
              "      <th>CD_PROGRAMA_IES</th>\n",
              "    </tr>\n",
              "    <tr>\n",
              "      <th>AN_BASE</th>\n",
              "      <th></th>\n",
              "    </tr>\n",
              "  </thead>\n",
              "  <tbody>\n",
              "    <tr>\n",
              "      <th>2018</th>\n",
              "      <td>145045</td>\n",
              "    </tr>\n",
              "    <tr>\n",
              "      <th>2014</th>\n",
              "      <td>138879</td>\n",
              "    </tr>\n",
              "    <tr>\n",
              "      <th>2017</th>\n",
              "      <td>136043</td>\n",
              "    </tr>\n",
              "    <tr>\n",
              "      <th>2015</th>\n",
              "      <td>135484</td>\n",
              "    </tr>\n",
              "    <tr>\n",
              "      <th>2016</th>\n",
              "      <td>134968</td>\n",
              "    </tr>\n",
              "    <tr>\n",
              "      <th>2013</th>\n",
              "      <td>130679</td>\n",
              "    </tr>\n",
              "  </tbody>\n",
              "</table>\n",
              "</div>"
            ],
            "text/plain": [
              "         CD_PROGRAMA_IES\n",
              "AN_BASE                 \n",
              "2018              145045\n",
              "2014              138879\n",
              "2017              136043\n",
              "2015              135484\n",
              "2016              134968\n",
              "2013              130679"
            ]
          },
          "metadata": {
            "tags": []
          },
          "execution_count": 46
        }
      ]
    },
    {
      "cell_type": "markdown",
      "metadata": {
        "id": "QAVfbTsFrRrV"
      },
      "source": [
        "QUANTIDADE DE FINANCIADORES DE PROJETO POR REGIÃO\n"
      ]
    },
    {
      "cell_type": "code",
      "metadata": {
        "colab": {
          "base_uri": "https://localhost:8080/",
          "height": 313
        },
        "id": "lf1Wrn4PyZeM",
        "outputId": "d061fb2b-bf53-4e9d-8ddc-eacfb4936535"
      },
      "source": [
        "plt.title('Quantidade de Financiamentos por Região')\n",
        "sns.countplot(x='NM_REGIAO', order = ['SUDESTE', 'SUL', 'NORDESTE', 'CENTRO-OESTE', 'NORTE'] , data = df)"
      ],
      "execution_count": 47,
      "outputs": [
        {
          "output_type": "execute_result",
          "data": {
            "text/plain": [
              "<matplotlib.axes._subplots.AxesSubplot at 0x7f97de35b0d0>"
            ]
          },
          "metadata": {
            "tags": []
          },
          "execution_count": 47
        },
        {
          "output_type": "display_data",
          "data": {
            "image/png": "[encoded data removed]",
            "text/plain": [
              "<Figure size 432x288 with 1 Axes>"
            ]
          },
          "metadata": {
            "tags": [],
            "needs_background": "light"
          }
        }
      ]
    },
    {
      "cell_type": "code",
      "metadata": {
        "id": "x9BcMcKMwUN1"
      },
      "source": [
        "financiamento_regiao = ['CD_PROGRAMA_IES', 'NM_REGIAO']"
      ],
      "execution_count": 48,
      "outputs": []
    },
    {
      "cell_type": "code",
      "metadata": {
        "id": "E2DQ0za8p1Cc"
      },
      "source": [
        "financiamento_por_regiao = df.filter(items=financiamento_regiao)"
      ],
      "execution_count": 49,
      "outputs": []
    },
    {
      "cell_type": "code",
      "metadata": {
        "colab": {
          "base_uri": "https://localhost:8080/",
          "height": 235
        },
        "id": "BPtEq-_rqF71",
        "outputId": "9b0e4c61-b878-4e28-cab8-ce3bb1a68a87"
      },
      "source": [
        "financiamento_por_regiao.groupby('NM_REGIAO').count().sort_values(by = 'CD_PROGRAMA_IES', ascending=False)"
      ],
      "execution_count": 50,
      "outputs": [
        {
          "output_type": "execute_result",
          "data": {
            "text/html": [
              "<div>\n",
              "<style scoped>\n",
              "    .dataframe tbody tr th:only-of-type {\n",
              "        vertical-align: middle;\n",
              "    }\n",
              "\n",
              "    .dataframe tbody tr th {\n",
              "        vertical-align: top;\n",
              "    }\n",
              "\n",
              "    .dataframe thead th {\n",
              "        text-align: right;\n",
              "    }\n",
              "</style>\n",
              "<table border=\"1\" class=\"dataframe\">\n",
              "  <thead>\n",
              "    <tr style=\"text-align: right;\">\n",
              "      <th></th>\n",
              "      <th>CD_PROGRAMA_IES</th>\n",
              "    </tr>\n",
              "    <tr>\n",
              "      <th>NM_REGIAO</th>\n",
              "      <th></th>\n",
              "    </tr>\n",
              "  </thead>\n",
              "  <tbody>\n",
              "    <tr>\n",
              "      <th>SUDESTE</th>\n",
              "      <td>439059</td>\n",
              "    </tr>\n",
              "    <tr>\n",
              "      <th>SUL</th>\n",
              "      <td>170113</td>\n",
              "    </tr>\n",
              "    <tr>\n",
              "      <th>NORDESTE</th>\n",
              "      <td>132552</td>\n",
              "    </tr>\n",
              "    <tr>\n",
              "      <th>CENTRO-OESTE</th>\n",
              "      <td>49822</td>\n",
              "    </tr>\n",
              "    <tr>\n",
              "      <th>NORTE</th>\n",
              "      <td>29552</td>\n",
              "    </tr>\n",
              "  </tbody>\n",
              "</table>\n",
              "</div>"
            ],
            "text/plain": [
              "              CD_PROGRAMA_IES\n",
              "NM_REGIAO                    \n",
              "SUDESTE                439059\n",
              "SUL                    170113\n",
              "NORDESTE               132552\n",
              "CENTRO-OESTE            49822\n",
              "NORTE                   29552"
            ]
          },
          "metadata": {
            "tags": []
          },
          "execution_count": 50
        }
      ]
    },
    {
      "cell_type": "markdown",
      "metadata": {
        "id": "nATNCxcouWcE"
      },
      "source": [
        "QUANTIDADE DE FINANCIADORES DE PROJETOS POR GRANDE ÁREA DE CONHECIMENTO"
      ]
    },
    {
      "cell_type": "code",
      "metadata": {
        "colab": {
          "base_uri": "https://localhost:8080/",
          "height": 314
        },
        "id": "bY5PpIPF3RKI",
        "outputId": "e8724969-4239-4e78-c0a6-65523cdcf087"
      },
      "source": [
        "plt.title('Quantidade de Financiamentos por Área de Conhecimento')\n",
        "sns.countplot(y='NM_GRANDE_AREA_CONHECIMENTO' , data = df)"
      ],
      "execution_count": 51,
      "outputs": [
        {
          "output_type": "execute_result",
          "data": {
            "text/plain": [
              "<matplotlib.axes._subplots.AxesSubplot at 0x7f97de632c90>"
            ]
          },
          "metadata": {
            "tags": []
          },
          "execution_count": 51
        },
        {
          "output_type": "display_data",
          "data": {
            "image/png": "[encoded data removed]",
            "text/plain": [
              "<Figure size 432x288 with 1 Axes>"
            ]
          },
          "metadata": {
            "tags": [],
            "needs_background": "light"
          }
        }
      ]
    },
    {
      "cell_type": "code",
      "metadata": {
        "id": "edhkxxLMqk6d"
      },
      "source": [
        "financiamento_grande_area_conhecimento = ['CD_PROGRAMA_IES', 'NM_GRANDE_AREA_CONHECIMENTO']"
      ],
      "execution_count": 52,
      "outputs": []
    },
    {
      "cell_type": "code",
      "metadata": {
        "id": "G9oocJ9MuU7X"
      },
      "source": [
        "financiamento_por_grande_area_conhecimento = df.filter(financiamento_grande_area_conhecimento)"
      ],
      "execution_count": 53,
      "outputs": []
    },
    {
      "cell_type": "code",
      "metadata": {
        "colab": {
          "base_uri": "https://localhost:8080/",
          "height": 359
        },
        "id": "ZlFiQVQgu2Mm",
        "outputId": "286aed20-4c5a-4506-f89c-8dbbace2826d"
      },
      "source": [
        "financiamento_por_grande_area_conhecimento.groupby('NM_GRANDE_AREA_CONHECIMENTO').count().sort_values(by = 'CD_PROGRAMA_IES', ascending=False)"
      ],
      "execution_count": 54,
      "outputs": [
        {
          "output_type": "execute_result",
          "data": {
            "text/html": [
              "<div>\n",
              "<style scoped>\n",
              "    .dataframe tbody tr th:only-of-type {\n",
              "        vertical-align: middle;\n",
              "    }\n",
              "\n",
              "    .dataframe tbody tr th {\n",
              "        vertical-align: top;\n",
              "    }\n",
              "\n",
              "    .dataframe thead th {\n",
              "        text-align: right;\n",
              "    }\n",
              "</style>\n",
              "<table border=\"1\" class=\"dataframe\">\n",
              "  <thead>\n",
              "    <tr style=\"text-align: right;\">\n",
              "      <th></th>\n",
              "      <th>CD_PROGRAMA_IES</th>\n",
              "    </tr>\n",
              "    <tr>\n",
              "      <th>NM_GRANDE_AREA_CONHECIMENTO</th>\n",
              "      <th></th>\n",
              "    </tr>\n",
              "  </thead>\n",
              "  <tbody>\n",
              "    <tr>\n",
              "      <th>CIÊNCIAS DA SAÚDE</th>\n",
              "      <td>167446</td>\n",
              "    </tr>\n",
              "    <tr>\n",
              "      <th>CIÊNCIAS AGRÁRIAS</th>\n",
              "      <td>116532</td>\n",
              "    </tr>\n",
              "    <tr>\n",
              "      <th>ENGENHARIAS</th>\n",
              "      <td>105874</td>\n",
              "    </tr>\n",
              "    <tr>\n",
              "      <th>CIÊNCIAS BIOLÓGICAS</th>\n",
              "      <td>102938</td>\n",
              "    </tr>\n",
              "    <tr>\n",
              "      <th>CIÊNCIAS HUMANAS</th>\n",
              "      <td>88912</td>\n",
              "    </tr>\n",
              "    <tr>\n",
              "      <th>MULTIDISCIPLINAR</th>\n",
              "      <td>83816</td>\n",
              "    </tr>\n",
              "    <tr>\n",
              "      <th>CIÊNCIAS EXATAS E DA TERRA</th>\n",
              "      <td>78389</td>\n",
              "    </tr>\n",
              "    <tr>\n",
              "      <th>CIÊNCIAS SOCIAIS APLICADAS</th>\n",
              "      <td>54205</td>\n",
              "    </tr>\n",
              "    <tr>\n",
              "      <th>LINGÜÍSTICA, LETRAS E ARTES</th>\n",
              "      <td>22986</td>\n",
              "    </tr>\n",
              "  </tbody>\n",
              "</table>\n",
              "</div>"
            ],
            "text/plain": [
              "                             CD_PROGRAMA_IES\n",
              "NM_GRANDE_AREA_CONHECIMENTO                 \n",
              "CIÊNCIAS DA SAÚDE                     167446\n",
              "CIÊNCIAS AGRÁRIAS                     116532\n",
              "ENGENHARIAS                           105874\n",
              "CIÊNCIAS BIOLÓGICAS                   102938\n",
              "CIÊNCIAS HUMANAS                       88912\n",
              "MULTIDISCIPLINAR                       83816\n",
              "CIÊNCIAS EXATAS E DA TERRA             78389\n",
              "CIÊNCIAS SOCIAIS APLICADAS             54205\n",
              "LINGÜÍSTICA, LETRAS E ARTES            22986"
            ]
          },
          "metadata": {
            "tags": []
          },
          "execution_count": 54
        }
      ]
    },
    {
      "cell_type": "markdown",
      "metadata": {
        "id": "YC8E8_tSw5js"
      },
      "source": [
        "QUANTIDADE DE FINANCIADORES DE PROJETO POR ÁREA DE CONHECIMENTO"
      ]
    },
    {
      "cell_type": "code",
      "metadata": {
        "id": "Rss2m_tFvQ0h"
      },
      "source": [
        "projeto_area_conhecimento = ['CD_PROGRAMA_IES', 'NM_AREA_CONHECIMENTO']"
      ],
      "execution_count": 55,
      "outputs": []
    },
    {
      "cell_type": "code",
      "metadata": {
        "id": "_lwBONwuwpPg"
      },
      "source": [
        "projeto_por_area_conhecimento = df.filter(projeto_area_conhecimento)"
      ],
      "execution_count": 56,
      "outputs": []
    },
    {
      "cell_type": "code",
      "metadata": {
        "colab": {
          "base_uri": "https://localhost:8080/",
          "height": 450
        },
        "id": "THbIgBtEwx3Y",
        "outputId": "3d0cdb2f-520c-4c31-eb48-3bc0cfd308bd"
      },
      "source": [
        "projeto_por_area_conhecimento.groupby('NM_AREA_CONHECIMENTO').count().sort_values(by = 'CD_PROGRAMA_IES', ascending=False)"
      ],
      "execution_count": 57,
      "outputs": [
        {
          "output_type": "execute_result",
          "data": {
            "text/html": [
              "<div>\n",
              "<style scoped>\n",
              "    .dataframe tbody tr th:only-of-type {\n",
              "        vertical-align: middle;\n",
              "    }\n",
              "\n",
              "    .dataframe tbody tr th {\n",
              "        vertical-align: top;\n",
              "    }\n",
              "\n",
              "    .dataframe thead th {\n",
              "        text-align: right;\n",
              "    }\n",
              "</style>\n",
              "<table border=\"1\" class=\"dataframe\">\n",
              "  <thead>\n",
              "    <tr style=\"text-align: right;\">\n",
              "      <th></th>\n",
              "      <th>CD_PROGRAMA_IES</th>\n",
              "    </tr>\n",
              "    <tr>\n",
              "      <th>NM_AREA_CONHECIMENTO</th>\n",
              "      <th></th>\n",
              "    </tr>\n",
              "  </thead>\n",
              "  <tbody>\n",
              "    <tr>\n",
              "      <th>MEDICINA</th>\n",
              "      <td>72510</td>\n",
              "    </tr>\n",
              "    <tr>\n",
              "      <th>AGRONOMIA</th>\n",
              "      <td>48828</td>\n",
              "    </tr>\n",
              "    <tr>\n",
              "      <th>INTERDISCIPLINAR</th>\n",
              "      <td>37782</td>\n",
              "    </tr>\n",
              "    <tr>\n",
              "      <th>EDUCAÇÃO</th>\n",
              "      <td>27267</td>\n",
              "    </tr>\n",
              "    <tr>\n",
              "      <th>QUÍMICA</th>\n",
              "      <td>27217</td>\n",
              "    </tr>\n",
              "    <tr>\n",
              "      <th>...</th>\n",
              "      <td>...</td>\n",
              "    </tr>\n",
              "    <tr>\n",
              "      <th>TURISMO</th>\n",
              "      <td>662</td>\n",
              "    </tr>\n",
              "    <tr>\n",
              "      <th>ENGENHARIA DE MINAS</th>\n",
              "      <td>421</td>\n",
              "    </tr>\n",
              "    <tr>\n",
              "      <th>ARQUEOLOGIA</th>\n",
              "      <td>364</td>\n",
              "    </tr>\n",
              "    <tr>\n",
              "      <th>MUSEOLOGIA</th>\n",
              "      <td>186</td>\n",
              "    </tr>\n",
              "    <tr>\n",
              "      <th>ECONOMIA DOMÉSTICA</th>\n",
              "      <td>3</td>\n",
              "    </tr>\n",
              "  </tbody>\n",
              "</table>\n",
              "<p>81 rows × 1 columns</p>\n",
              "</div>"
            ],
            "text/plain": [
              "                      CD_PROGRAMA_IES\n",
              "NM_AREA_CONHECIMENTO                 \n",
              "MEDICINA                        72510\n",
              "AGRONOMIA                       48828\n",
              "INTERDISCIPLINAR                37782\n",
              "EDUCAÇÃO                        27267\n",
              "QUÍMICA                         27217\n",
              "...                               ...\n",
              "TURISMO                           662\n",
              "ENGENHARIA DE MINAS               421\n",
              "ARQUEOLOGIA                       364\n",
              "MUSEOLOGIA                        186\n",
              "ECONOMIA DOMÉSTICA                  3\n",
              "\n",
              "[81 rows x 1 columns]"
            ]
          },
          "metadata": {
            "tags": []
          },
          "execution_count": 57
        }
      ]
    },
    {
      "cell_type": "code",
      "metadata": {
        "id": "tX03KcYYxQIR"
      },
      "source": [
        "financiadores_projeto = ('CD_PROGRAMA_IES', 'NM_FINANCIADOR')"
      ],
      "execution_count": 58,
      "outputs": []
    },
    {
      "cell_type": "code",
      "metadata": {
        "id": "JJUPVSuZ6oih"
      },
      "source": [
        "financiadores_por_projetos = df.filter(financiadores_projeto)"
      ],
      "execution_count": 59,
      "outputs": []
    },
    {
      "cell_type": "code",
      "metadata": {
        "colab": {
          "base_uri": "https://localhost:8080/",
          "height": 450
        },
        "id": "wBSSk76H63pY",
        "outputId": "ca57f9be-4552-4003-b780-b1685ae56991"
      },
      "source": [
        "financiadores_por_projetos.groupby('CD_PROGRAMA_IES').count().sort_values(by = 'NM_FINANCIADOR', ascending=False)"
      ],
      "execution_count": 60,
      "outputs": [
        {
          "output_type": "execute_result",
          "data": {
            "text/html": [
              "<div>\n",
              "<style scoped>\n",
              "    .dataframe tbody tr th:only-of-type {\n",
              "        vertical-align: middle;\n",
              "    }\n",
              "\n",
              "    .dataframe tbody tr th {\n",
              "        vertical-align: top;\n",
              "    }\n",
              "\n",
              "    .dataframe thead th {\n",
              "        text-align: right;\n",
              "    }\n",
              "</style>\n",
              "<table border=\"1\" class=\"dataframe\">\n",
              "  <thead>\n",
              "    <tr style=\"text-align: right;\">\n",
              "      <th></th>\n",
              "      <th>NM_FINANCIADOR</th>\n",
              "    </tr>\n",
              "    <tr>\n",
              "      <th>CD_PROGRAMA_IES</th>\n",
              "      <th></th>\n",
              "    </tr>\n",
              "  </thead>\n",
              "  <tbody>\n",
              "    <tr>\n",
              "      <th>42001013039P2</th>\n",
              "      <td>3675</td>\n",
              "    </tr>\n",
              "    <tr>\n",
              "      <th>33002010050P7</th>\n",
              "      <td>2972</td>\n",
              "    </tr>\n",
              "    <tr>\n",
              "      <th>31003010024P0</th>\n",
              "      <td>2880</td>\n",
              "    </tr>\n",
              "    <tr>\n",
              "      <th>42001013016P2</th>\n",
              "      <td>2378</td>\n",
              "    </tr>\n",
              "    <tr>\n",
              "      <th>32006012002P5</th>\n",
              "      <td>2187</td>\n",
              "    </tr>\n",
              "    <tr>\n",
              "      <th>...</th>\n",
              "      <td>...</td>\n",
              "    </tr>\n",
              "    <tr>\n",
              "      <th>52012018011P7</th>\n",
              "      <td>1</td>\n",
              "    </tr>\n",
              "    <tr>\n",
              "      <th>33002010111P6</th>\n",
              "      <td>1</td>\n",
              "    </tr>\n",
              "    <tr>\n",
              "      <th>25025015002P2</th>\n",
              "      <td>1</td>\n",
              "    </tr>\n",
              "    <tr>\n",
              "      <th>42001013002P1</th>\n",
              "      <td>1</td>\n",
              "    </tr>\n",
              "    <tr>\n",
              "      <th>28022017012P7</th>\n",
              "      <td>1</td>\n",
              "    </tr>\n",
              "  </tbody>\n",
              "</table>\n",
              "<p>4149 rows × 1 columns</p>\n",
              "</div>"
            ],
            "text/plain": [
              "                 NM_FINANCIADOR\n",
              "CD_PROGRAMA_IES                \n",
              "42001013039P2              3675\n",
              "33002010050P7              2972\n",
              "31003010024P0              2880\n",
              "42001013016P2              2378\n",
              "32006012002P5              2187\n",
              "...                         ...\n",
              "52012018011P7                 1\n",
              "33002010111P6                 1\n",
              "25025015002P2                 1\n",
              "42001013002P1                 1\n",
              "28022017012P7                 1\n",
              "\n",
              "[4149 rows x 1 columns]"
            ]
          },
          "metadata": {
            "tags": []
          },
          "execution_count": 60
        }
      ]
    },
    {
      "cell_type": "markdown",
      "metadata": {
        "id": "n2s7yKRjrs2_"
      },
      "source": [
        ""
      ]
    },
    {
      "cell_type": "code",
      "metadata": {
        "id": "jwrdR7bKhmry"
      },
      "source": [
        "df['FINANCIADOR_BRASIL'] = np.where(df['NM_PAIS_FINANCIADOR'] == 'BRASIL', 0,1)"
      ],
      "execution_count": 61,
      "outputs": []
    },
    {
      "cell_type": "code",
      "metadata": {
        "colab": {
          "base_uri": "https://localhost:8080/"
        },
        "id": "YfLradqCLkst",
        "outputId": "17186b49-8bdc-4afa-d72b-14df1ccbade2"
      },
      "source": [
        "df['IN_FINANCIADOR_ESTRANGEIRO'].unique().tolist()"
      ],
      "execution_count": 62,
      "outputs": [
        {
          "output_type": "execute_result",
          "data": {
            "text/plain": [
              "[nan, 'NÃO', 'SIM']"
            ]
          },
          "metadata": {
            "tags": []
          },
          "execution_count": 62
        }
      ]
    },
    {
      "cell_type": "code",
      "metadata": {
        "colab": {
          "base_uri": "https://localhost:8080/"
        },
        "id": "lC-Mh8L2FdSS",
        "outputId": "2ec3a905-0bfb-40ba-c233-b29dcc94ace0"
      },
      "source": [
        "df['NM_NATUREZA_FINANCIAMENTO'].unique().tolist()"
      ],
      "execution_count": 63,
      "outputs": [
        {
          "output_type": "execute_result",
          "data": {
            "text/plain": [
              "['OUTRO AUXÍLIO FINANCEIRO', 'BOLSA', 'SEM AUXÍLIO']"
            ]
          },
          "metadata": {
            "tags": []
          },
          "execution_count": 63
        }
      ]
    },
    {
      "cell_type": "markdown",
      "metadata": {
        "id": "c6Rt6VO-DxXd"
      },
      "source": [
        "#FEATURES"
      ]
    },
    {
      "cell_type": "code",
      "metadata": {
        "id": "GvvtixsiOcHi"
      },
      "source": [
        "df['FINANCIAMENTO_ESTRANGEIRO'] = np.where(df['NM_PAIS_FINANCIADOR'] == 'BRASIL', 0,1)"
      ],
      "execution_count": 64,
      "outputs": []
    },
    {
      "cell_type": "code",
      "metadata": {
        "id": "Jr3MYzmGD4vN"
      },
      "source": [
        "df['BOLSA'] = np.where(df['NM_NATUREZA_FINANCIAMENTO'] == 'BOLSA', 1,0)"
      ],
      "execution_count": 65,
      "outputs": []
    },
    {
      "cell_type": "code",
      "metadata": {
        "id": "Naa-gCKMETfm"
      },
      "source": [
        "df['OUTRO_AUXÍLIO_FINANCEIRO'] = np.where(df['NM_NATUREZA_FINANCIAMENTO'] == 'OUTRO AUXÍLIO FINANCEIRO', 1,0)"
      ],
      "execution_count": 66,
      "outputs": []
    },
    {
      "cell_type": "code",
      "metadata": {
        "id": "m6od3ku2cnGB"
      },
      "source": [
        "df['PUBLICA'] = np.where(df['DS_DEPENDENCIA_ADMINISTRATIVA'] == 'PÚBLICA', 1,0)"
      ],
      "execution_count": 67,
      "outputs": []
    },
    {
      "cell_type": "code",
      "metadata": {
        "id": "HkaxQE7XdMTO"
      },
      "source": [
        "df['PRIVADA'] = np.where(df['DS_DEPENDENCIA_ADMINISTRATIVA'] == 'PRIVADA', 1,0)"
      ],
      "execution_count": 68,
      "outputs": []
    },
    {
      "cell_type": "code",
      "metadata": {
        "id": "gqdKcdzmF3L3"
      },
      "source": [
        "df = df.rename(columns = {'NM_ENTIDADE_ENSINO' : 'QTD_FINANCIAMENTOS'})"
      ],
      "execution_count": 69,
      "outputs": []
    },
    {
      "cell_type": "code",
      "metadata": {
        "id": "SRJfm-R8HRam"
      },
      "source": [
        "df1 = df.groupby(['CD_PROGRAMA_IES', 'AN_BASE']).count()['QTD_FINANCIAMENTOS'].sort_values(ascending = False).reset_index() "
      ],
      "execution_count": 70,
      "outputs": []
    },
    {
      "cell_type": "code",
      "metadata": {
        "id": "fmaT1TIeICnB"
      },
      "source": [
        "df2 = df.groupby(['CD_PROGRAMA_IES', 'AN_BASE'], as_index = False).agg({'BOLSA' : np.sum, 'OUTRO_AUXÍLIO_FINANCEIRO' : np.sum, 'FINANCIAMENTO_ESTRANGEIRO' : np.sum })"
      ],
      "execution_count": 71,
      "outputs": []
    },
    {
      "cell_type": "code",
      "metadata": {
        "id": "tmhKJ49lcTXT"
      },
      "source": [
        "df3 = df.groupby(['CD_PROGRAMA_IES', 'AN_BASE'], as_index = False).agg({})"
      ],
      "execution_count": 72,
      "outputs": []
    },
    {
      "cell_type": "code",
      "metadata": {
        "colab": {
          "base_uri": "https://localhost:8080/",
          "height": 949
        },
        "id": "7UgxEhbpKUod",
        "outputId": "c2e5800d-89df-444c-b8fd-70ecf3f8ba45"
      },
      "source": [
        "df.head(810000)"
      ],
      "execution_count": 86,
      "outputs": [
        {
          "output_type": "execute_result",
          "data": {
            "text/html": [
              "<div>\n",
              "<style scoped>\n",
              "    .dataframe tbody tr th:only-of-type {\n",
              "        vertical-align: middle;\n",
              "    }\n",
              "\n",
              "    .dataframe tbody tr th {\n",
              "        vertical-align: top;\n",
              "    }\n",
              "\n",
              "    .dataframe thead th {\n",
              "        text-align: right;\n",
              "    }\n",
              "</style>\n",
              "<table border=\"1\" class=\"dataframe\">\n",
              "  <thead>\n",
              "    <tr style=\"text-align: right;\">\n",
              "      <th></th>\n",
              "      <th>AN_BASE</th>\n",
              "      <th>ID_PROJETO</th>\n",
              "      <th>CD_PROGRAMA_IES</th>\n",
              "      <th>NM_PROGRAMA_IES</th>\n",
              "      <th>AN_INICIO_PROGRAMA</th>\n",
              "      <th>SG_ENTIDADE_ENSINO</th>\n",
              "      <th>QTD_FINANCIAMENTOS</th>\n",
              "      <th>NM_NATUREZA_FINANCIAMENTO</th>\n",
              "      <th>NM_FINANCIADOR</th>\n",
              "      <th>SG_PROGRAMA_FOMENTO</th>\n",
              "      <th>NM_PROGRAMA_FOMENTO</th>\n",
              "      <th>IN_FINANCIADOR_ESTRANGEIRO</th>\n",
              "      <th>NM_PAIS_FINANCIADOR</th>\n",
              "      <th>CD_CONCEITO_PROGRAMA</th>\n",
              "      <th>NM_REGIAO</th>\n",
              "      <th>NM_GRANDE_AREA_CONHECIMENTO</th>\n",
              "      <th>NM_AREA_CONHECIMENTO</th>\n",
              "      <th>DS_DEPENDENCIA_ADMINISTRATIVA</th>\n",
              "      <th>FINANCIADOR_BRASIL</th>\n",
              "      <th>FINANCIAMENTO_ESTRANGEIRO</th>\n",
              "      <th>BOLSA</th>\n",
              "      <th>OUTRO_AUXÍLIO_FINANCEIRO</th>\n",
              "      <th>PUBLICA</th>\n",
              "      <th>PRIVADA</th>\n",
              "    </tr>\n",
              "  </thead>\n",
              "  <tbody>\n",
              "    <tr>\n",
              "      <th>0</th>\n",
              "      <td>2013</td>\n",
              "      <td>152265</td>\n",
              "      <td>32009011001P8</td>\n",
              "      <td>CIÊNCIAS BIOLÓGICAS</td>\n",
              "      <td>2006.0</td>\n",
              "      <td>UNIVALE</td>\n",
              "      <td>UNIVERSIDADE VALE DO RIO DOCE</td>\n",
              "      <td>OUTRO AUXÍLIO FINANCEIRO</td>\n",
              "      <td>CONS NAC DE DESENVOLVIMENTO CIENTIFICO E TECNO...</td>\n",
              "      <td>AF</td>\n",
              "      <td>AUXILIO FINANCEIRO</td>\n",
              "      <td>NaN</td>\n",
              "      <td>NaN</td>\n",
              "      <td>2</td>\n",
              "      <td>SUDESTE</td>\n",
              "      <td>CIÊNCIAS BIOLÓGICAS</td>\n",
              "      <td>BIOLOGIA GERAL</td>\n",
              "      <td>None</td>\n",
              "      <td>1</td>\n",
              "      <td>1</td>\n",
              "      <td>0</td>\n",
              "      <td>1</td>\n",
              "      <td>0</td>\n",
              "      <td>0</td>\n",
              "    </tr>\n",
              "    <tr>\n",
              "      <th>1</th>\n",
              "      <td>2013</td>\n",
              "      <td>152264</td>\n",
              "      <td>32009011001P8</td>\n",
              "      <td>CIÊNCIAS BIOLÓGICAS</td>\n",
              "      <td>2006.0</td>\n",
              "      <td>UNIVALE</td>\n",
              "      <td>UNIVERSIDADE VALE DO RIO DOCE</td>\n",
              "      <td>OUTRO AUXÍLIO FINANCEIRO</td>\n",
              "      <td>CONS NAC DE DESENVOLVIMENTO CIENTIFICO E TECNO...</td>\n",
              "      <td>AF</td>\n",
              "      <td>AUXILIO FINANCEIRO</td>\n",
              "      <td>NaN</td>\n",
              "      <td>NaN</td>\n",
              "      <td>2</td>\n",
              "      <td>SUDESTE</td>\n",
              "      <td>CIÊNCIAS BIOLÓGICAS</td>\n",
              "      <td>BIOLOGIA GERAL</td>\n",
              "      <td>None</td>\n",
              "      <td>1</td>\n",
              "      <td>1</td>\n",
              "      <td>0</td>\n",
              "      <td>1</td>\n",
              "      <td>0</td>\n",
              "      <td>0</td>\n",
              "    </tr>\n",
              "    <tr>\n",
              "      <th>2</th>\n",
              "      <td>2013</td>\n",
              "      <td>152251</td>\n",
              "      <td>32009011001P8</td>\n",
              "      <td>CIÊNCIAS BIOLÓGICAS</td>\n",
              "      <td>2006.0</td>\n",
              "      <td>UNIVALE</td>\n",
              "      <td>UNIVERSIDADE VALE DO RIO DOCE</td>\n",
              "      <td>OUTRO AUXÍLIO FINANCEIRO</td>\n",
              "      <td>CONS NAC DE DESENVOLVIMENTO CIENTIFICO E TECNO...</td>\n",
              "      <td>AF</td>\n",
              "      <td>AUXILIO FINANCEIRO</td>\n",
              "      <td>NaN</td>\n",
              "      <td>NaN</td>\n",
              "      <td>2</td>\n",
              "      <td>SUDESTE</td>\n",
              "      <td>CIÊNCIAS BIOLÓGICAS</td>\n",
              "      <td>BIOLOGIA GERAL</td>\n",
              "      <td>None</td>\n",
              "      <td>1</td>\n",
              "      <td>1</td>\n",
              "      <td>0</td>\n",
              "      <td>1</td>\n",
              "      <td>0</td>\n",
              "      <td>0</td>\n",
              "    </tr>\n",
              "    <tr>\n",
              "      <th>3</th>\n",
              "      <td>2013</td>\n",
              "      <td>152251</td>\n",
              "      <td>32009011001P8</td>\n",
              "      <td>CIÊNCIAS BIOLÓGICAS</td>\n",
              "      <td>2006.0</td>\n",
              "      <td>UNIVALE</td>\n",
              "      <td>UNIVERSIDADE VALE DO RIO DOCE</td>\n",
              "      <td>BOLSA</td>\n",
              "      <td>CONS NAC DE DESENVOLVIMENTO CIENTIFICO E TECNO...</td>\n",
              "      <td>AF</td>\n",
              "      <td>AUXILIO FINANCEIRO</td>\n",
              "      <td>NaN</td>\n",
              "      <td>NaN</td>\n",
              "      <td>2</td>\n",
              "      <td>SUDESTE</td>\n",
              "      <td>CIÊNCIAS BIOLÓGICAS</td>\n",
              "      <td>BIOLOGIA GERAL</td>\n",
              "      <td>None</td>\n",
              "      <td>1</td>\n",
              "      <td>1</td>\n",
              "      <td>1</td>\n",
              "      <td>0</td>\n",
              "      <td>0</td>\n",
              "      <td>0</td>\n",
              "    </tr>\n",
              "    <tr>\n",
              "      <th>4</th>\n",
              "      <td>2013</td>\n",
              "      <td>152245</td>\n",
              "      <td>32009011001P8</td>\n",
              "      <td>CIÊNCIAS BIOLÓGICAS</td>\n",
              "      <td>2006.0</td>\n",
              "      <td>UNIVALE</td>\n",
              "      <td>UNIVERSIDADE VALE DO RIO DOCE</td>\n",
              "      <td>OUTRO AUXÍLIO FINANCEIRO</td>\n",
              "      <td>CONS NAC DE DESENVOLVIMENTO CIENTIFICO E TECNO...</td>\n",
              "      <td>AF</td>\n",
              "      <td>AUXILIO FINANCEIRO</td>\n",
              "      <td>NaN</td>\n",
              "      <td>NaN</td>\n",
              "      <td>2</td>\n",
              "      <td>SUDESTE</td>\n",
              "      <td>CIÊNCIAS BIOLÓGICAS</td>\n",
              "      <td>BIOLOGIA GERAL</td>\n",
              "      <td>None</td>\n",
              "      <td>1</td>\n",
              "      <td>1</td>\n",
              "      <td>0</td>\n",
              "      <td>1</td>\n",
              "      <td>0</td>\n",
              "      <td>0</td>\n",
              "    </tr>\n",
              "    <tr>\n",
              "      <th>...</th>\n",
              "      <td>...</td>\n",
              "      <td>...</td>\n",
              "      <td>...</td>\n",
              "      <td>...</td>\n",
              "      <td>...</td>\n",
              "      <td>...</td>\n",
              "      <td>...</td>\n",
              "      <td>...</td>\n",
              "      <td>...</td>\n",
              "      <td>...</td>\n",
              "      <td>...</td>\n",
              "      <td>...</td>\n",
              "      <td>...</td>\n",
              "      <td>...</td>\n",
              "      <td>...</td>\n",
              "      <td>...</td>\n",
              "      <td>...</td>\n",
              "      <td>...</td>\n",
              "      <td>...</td>\n",
              "      <td>...</td>\n",
              "      <td>...</td>\n",
              "      <td>...</td>\n",
              "      <td>...</td>\n",
              "      <td>...</td>\n",
              "    </tr>\n",
              "    <tr>\n",
              "      <th>809995</th>\n",
              "      <td>2018</td>\n",
              "      <td>524829</td>\n",
              "      <td>33147019001P2</td>\n",
              "      <td>MULTICÊNTRICO EM CIÊNCIAS FISIOLÓGICAS</td>\n",
              "      <td>2009.0</td>\n",
              "      <td>SBFIS</td>\n",
              "      <td>SOCIEDADE BRASILEIRA DE FISIOLOGIA</td>\n",
              "      <td>OUTRO AUXÍLIO FINANCEIRO</td>\n",
              "      <td>FUND COORD DE APERFEICOAMENTO DE PESSOAL DE NI...</td>\n",
              "      <td>PROAP</td>\n",
              "      <td>APOIO À PÓS-GRADUAÇÃO</td>\n",
              "      <td>NÃO</td>\n",
              "      <td>BRASIL</td>\n",
              "      <td>4</td>\n",
              "      <td>SUDESTE</td>\n",
              "      <td>CIÊNCIAS BIOLÓGICAS</td>\n",
              "      <td>FISIOLOGIA</td>\n",
              "      <td>PRIVADA</td>\n",
              "      <td>0</td>\n",
              "      <td>0</td>\n",
              "      <td>0</td>\n",
              "      <td>1</td>\n",
              "      <td>0</td>\n",
              "      <td>1</td>\n",
              "    </tr>\n",
              "    <tr>\n",
              "      <th>809996</th>\n",
              "      <td>2018</td>\n",
              "      <td>461342</td>\n",
              "      <td>33147019001P2</td>\n",
              "      <td>MULTICÊNTRICO EM CIÊNCIAS FISIOLÓGICAS</td>\n",
              "      <td>2009.0</td>\n",
              "      <td>SBFIS</td>\n",
              "      <td>SOCIEDADE BRASILEIRA DE FISIOLOGIA</td>\n",
              "      <td>BOLSA</td>\n",
              "      <td>CONS NAC DE DESENVOLVIMENTO CIENTIFICO E TECNO...</td>\n",
              "      <td>GM E GD</td>\n",
              "      <td>BOLSA DE MESTRADO GM E DOUTORADO GD</td>\n",
              "      <td>NÃO</td>\n",
              "      <td>BRASIL</td>\n",
              "      <td>4</td>\n",
              "      <td>SUDESTE</td>\n",
              "      <td>CIÊNCIAS BIOLÓGICAS</td>\n",
              "      <td>FISIOLOGIA</td>\n",
              "      <td>PRIVADA</td>\n",
              "      <td>0</td>\n",
              "      <td>0</td>\n",
              "      <td>1</td>\n",
              "      <td>0</td>\n",
              "      <td>0</td>\n",
              "      <td>1</td>\n",
              "    </tr>\n",
              "    <tr>\n",
              "      <th>809997</th>\n",
              "      <td>2018</td>\n",
              "      <td>345759</td>\n",
              "      <td>33147019001P2</td>\n",
              "      <td>MULTICÊNTRICO EM CIÊNCIAS FISIOLÓGICAS</td>\n",
              "      <td>2009.0</td>\n",
              "      <td>SBFIS</td>\n",
              "      <td>SOCIEDADE BRASILEIRA DE FISIOLOGIA</td>\n",
              "      <td>OUTRO AUXÍLIO FINANCEIRO</td>\n",
              "      <td>FUNDACAO DE AMPARO A PESQUISA DO ESTADO DE SAO...</td>\n",
              "      <td>AP-R</td>\n",
              "      <td>AUXÍLIO À PESQUISA - REGULAR</td>\n",
              "      <td>NÃO</td>\n",
              "      <td>BRASIL</td>\n",
              "      <td>4</td>\n",
              "      <td>SUDESTE</td>\n",
              "      <td>CIÊNCIAS BIOLÓGICAS</td>\n",
              "      <td>FISIOLOGIA</td>\n",
              "      <td>PRIVADA</td>\n",
              "      <td>0</td>\n",
              "      <td>0</td>\n",
              "      <td>0</td>\n",
              "      <td>1</td>\n",
              "      <td>0</td>\n",
              "      <td>1</td>\n",
              "    </tr>\n",
              "    <tr>\n",
              "      <th>809998</th>\n",
              "      <td>2018</td>\n",
              "      <td>389861</td>\n",
              "      <td>33147019001P2</td>\n",
              "      <td>MULTICÊNTRICO EM CIÊNCIAS FISIOLÓGICAS</td>\n",
              "      <td>2009.0</td>\n",
              "      <td>SBFIS</td>\n",
              "      <td>SOCIEDADE BRASILEIRA DE FISIOLOGIA</td>\n",
              "      <td>OUTRO AUXÍLIO FINANCEIRO</td>\n",
              "      <td>CONS NAC DE DESENVOLVIMENTO CIENTIFICO E TECNO...</td>\n",
              "      <td>PQ 2012</td>\n",
              "      <td>BOLSA PRODUTIVIDADE EM PESQUISA - PQ 2012</td>\n",
              "      <td>NÃO</td>\n",
              "      <td>BRASIL</td>\n",
              "      <td>4</td>\n",
              "      <td>SUDESTE</td>\n",
              "      <td>CIÊNCIAS BIOLÓGICAS</td>\n",
              "      <td>FISIOLOGIA</td>\n",
              "      <td>PRIVADA</td>\n",
              "      <td>0</td>\n",
              "      <td>0</td>\n",
              "      <td>0</td>\n",
              "      <td>1</td>\n",
              "      <td>0</td>\n",
              "      <td>1</td>\n",
              "    </tr>\n",
              "    <tr>\n",
              "      <th>809999</th>\n",
              "      <td>2018</td>\n",
              "      <td>389861</td>\n",
              "      <td>33147019001P2</td>\n",
              "      <td>MULTICÊNTRICO EM CIÊNCIAS FISIOLÓGICAS</td>\n",
              "      <td>2009.0</td>\n",
              "      <td>SBFIS</td>\n",
              "      <td>SOCIEDADE BRASILEIRA DE FISIOLOGIA</td>\n",
              "      <td>BOLSA</td>\n",
              "      <td>FUND COORD DE APERFEICOAMENTO DE PESSOAL DE NI...</td>\n",
              "      <td>DS</td>\n",
              "      <td>PROGRAMA DE DEMANDA SOCIAL</td>\n",
              "      <td>NÃO</td>\n",
              "      <td>BRASIL</td>\n",
              "      <td>4</td>\n",
              "      <td>SUDESTE</td>\n",
              "      <td>CIÊNCIAS BIOLÓGICAS</td>\n",
              "      <td>FISIOLOGIA</td>\n",
              "      <td>PRIVADA</td>\n",
              "      <td>0</td>\n",
              "      <td>0</td>\n",
              "      <td>1</td>\n",
              "      <td>0</td>\n",
              "      <td>0</td>\n",
              "      <td>1</td>\n",
              "    </tr>\n",
              "  </tbody>\n",
              "</table>\n",
              "<p>810000 rows × 24 columns</p>\n",
              "</div>"
            ],
            "text/plain": [
              "        AN_BASE  ID_PROJETO  ... PUBLICA PRIVADA\n",
              "0          2013      152265  ...       0       0\n",
              "1          2013      152264  ...       0       0\n",
              "2          2013      152251  ...       0       0\n",
              "3          2013      152251  ...       0       0\n",
              "4          2013      152245  ...       0       0\n",
              "...         ...         ...  ...     ...     ...\n",
              "809995     2018      524829  ...       0       1\n",
              "809996     2018      461342  ...       0       1\n",
              "809997     2018      345759  ...       0       1\n",
              "809998     2018      389861  ...       0       1\n",
              "809999     2018      389861  ...       0       1\n",
              "\n",
              "[810000 rows x 24 columns]"
            ]
          },
          "metadata": {
            "tags": []
          },
          "execution_count": 86
        }
      ]
    },
    {
      "cell_type": "code",
      "metadata": {
        "colab": {
          "base_uri": "https://localhost:8080/",
          "height": 204
        },
        "id": "sjTmGcsxKjDx",
        "outputId": "b32dff89-3870-4e76-e0f2-f43ce9642480"
      },
      "source": [
        "df1.head()"
      ],
      "execution_count": 74,
      "outputs": [
        {
          "output_type": "execute_result",
          "data": {
            "text/html": [
              "<div>\n",
              "<style scoped>\n",
              "    .dataframe tbody tr th:only-of-type {\n",
              "        vertical-align: middle;\n",
              "    }\n",
              "\n",
              "    .dataframe tbody tr th {\n",
              "        vertical-align: top;\n",
              "    }\n",
              "\n",
              "    .dataframe thead th {\n",
              "        text-align: right;\n",
              "    }\n",
              "</style>\n",
              "<table border=\"1\" class=\"dataframe\">\n",
              "  <thead>\n",
              "    <tr style=\"text-align: right;\">\n",
              "      <th></th>\n",
              "      <th>CD_PROGRAMA_IES</th>\n",
              "      <th>AN_BASE</th>\n",
              "      <th>QTD_FINANCIAMENTOS</th>\n",
              "    </tr>\n",
              "  </thead>\n",
              "  <tbody>\n",
              "    <tr>\n",
              "      <th>0</th>\n",
              "      <td>42001013039P2</td>\n",
              "      <td>2016</td>\n",
              "      <td>742</td>\n",
              "    </tr>\n",
              "    <tr>\n",
              "      <th>1</th>\n",
              "      <td>42001013039P2</td>\n",
              "      <td>2017</td>\n",
              "      <td>733</td>\n",
              "    </tr>\n",
              "    <tr>\n",
              "      <th>2</th>\n",
              "      <td>33002010050P7</td>\n",
              "      <td>2013</td>\n",
              "      <td>687</td>\n",
              "    </tr>\n",
              "    <tr>\n",
              "      <th>3</th>\n",
              "      <td>33002010050P7</td>\n",
              "      <td>2014</td>\n",
              "      <td>683</td>\n",
              "    </tr>\n",
              "    <tr>\n",
              "      <th>4</th>\n",
              "      <td>42001013039P2</td>\n",
              "      <td>2018</td>\n",
              "      <td>659</td>\n",
              "    </tr>\n",
              "  </tbody>\n",
              "</table>\n",
              "</div>"
            ],
            "text/plain": [
              "  CD_PROGRAMA_IES  AN_BASE  QTD_FINANCIAMENTOS\n",
              "0   42001013039P2     2016                 742\n",
              "1   42001013039P2     2017                 733\n",
              "2   33002010050P7     2013                 687\n",
              "3   33002010050P7     2014                 683\n",
              "4   42001013039P2     2018                 659"
            ]
          },
          "metadata": {
            "tags": []
          },
          "execution_count": 74
        }
      ]
    },
    {
      "cell_type": "code",
      "metadata": {
        "id": "WBHw-sETMSsL"
      },
      "source": [
        "features = df2.merge(df1[['CD_PROGRAMA_IES', 'AN_BASE', 'QTD_FINANCIAMENTOS']], on = ['CD_PROGRAMA_IES', 'AN_BASE'], how = 'inner')"
      ],
      "execution_count": 75,
      "outputs": []
    },
    {
      "cell_type": "code",
      "metadata": {
        "colab": {
          "base_uri": "https://localhost:8080/",
          "height": 235
        },
        "id": "dYLI0l8WNzfr",
        "outputId": "2b8c4e51-5e81-4c91-d1a2-13e63686fe66"
      },
      "source": [
        "\n",
        "features.head(6)"
      ],
      "execution_count": 76,
      "outputs": [
        {
          "output_type": "execute_result",
          "data": {
            "text/html": [
              "<div>\n",
              "<style scoped>\n",
              "    .dataframe tbody tr th:only-of-type {\n",
              "        vertical-align: middle;\n",
              "    }\n",
              "\n",
              "    .dataframe tbody tr th {\n",
              "        vertical-align: top;\n",
              "    }\n",
              "\n",
              "    .dataframe thead th {\n",
              "        text-align: right;\n",
              "    }\n",
              "</style>\n",
              "<table border=\"1\" class=\"dataframe\">\n",
              "  <thead>\n",
              "    <tr style=\"text-align: right;\">\n",
              "      <th></th>\n",
              "      <th>CD_PROGRAMA_IES</th>\n",
              "      <th>AN_BASE</th>\n",
              "      <th>BOLSA</th>\n",
              "      <th>OUTRO_AUXÍLIO_FINANCEIRO</th>\n",
              "      <th>FINANCIAMENTO_ESTRANGEIRO</th>\n",
              "      <th>QTD_FINANCIAMENTOS</th>\n",
              "    </tr>\n",
              "  </thead>\n",
              "  <tbody>\n",
              "    <tr>\n",
              "      <th>0</th>\n",
              "      <td>10001018002P1</td>\n",
              "      <td>2013</td>\n",
              "      <td>1</td>\n",
              "      <td>15</td>\n",
              "      <td>16</td>\n",
              "      <td>16</td>\n",
              "    </tr>\n",
              "    <tr>\n",
              "      <th>1</th>\n",
              "      <td>10001018002P1</td>\n",
              "      <td>2014</td>\n",
              "      <td>1</td>\n",
              "      <td>19</td>\n",
              "      <td>20</td>\n",
              "      <td>20</td>\n",
              "    </tr>\n",
              "    <tr>\n",
              "      <th>2</th>\n",
              "      <td>10001018002P1</td>\n",
              "      <td>2015</td>\n",
              "      <td>1</td>\n",
              "      <td>18</td>\n",
              "      <td>19</td>\n",
              "      <td>19</td>\n",
              "    </tr>\n",
              "    <tr>\n",
              "      <th>3</th>\n",
              "      <td>10001018002P1</td>\n",
              "      <td>2016</td>\n",
              "      <td>2</td>\n",
              "      <td>30</td>\n",
              "      <td>32</td>\n",
              "      <td>32</td>\n",
              "    </tr>\n",
              "    <tr>\n",
              "      <th>4</th>\n",
              "      <td>10001018002P1</td>\n",
              "      <td>2017</td>\n",
              "      <td>6</td>\n",
              "      <td>52</td>\n",
              "      <td>0</td>\n",
              "      <td>58</td>\n",
              "    </tr>\n",
              "    <tr>\n",
              "      <th>5</th>\n",
              "      <td>10001018002P1</td>\n",
              "      <td>2018</td>\n",
              "      <td>6</td>\n",
              "      <td>47</td>\n",
              "      <td>0</td>\n",
              "      <td>53</td>\n",
              "    </tr>\n",
              "  </tbody>\n",
              "</table>\n",
              "</div>"
            ],
            "text/plain": [
              "  CD_PROGRAMA_IES  AN_BASE  ...  FINANCIAMENTO_ESTRANGEIRO  QTD_FINANCIAMENTOS\n",
              "0   10001018002P1     2013  ...                         16                  16\n",
              "1   10001018002P1     2014  ...                         20                  20\n",
              "2   10001018002P1     2015  ...                         19                  19\n",
              "3   10001018002P1     2016  ...                         32                  32\n",
              "4   10001018002P1     2017  ...                          0                  58\n",
              "5   10001018002P1     2018  ...                          0                  53\n",
              "\n",
              "[6 rows x 6 columns]"
            ]
          },
          "metadata": {
            "tags": []
          },
          "execution_count": 76
        }
      ]
    },
    {
      "cell_type": "code",
      "metadata": {
        "colab": {
          "base_uri": "https://localhost:8080/"
        },
        "id": "MSKO_Y8mOFu7",
        "outputId": "07289868-272e-4a65-a08d-da01f9d47e3c"
      },
      "source": [
        "ppg_final['DS_DEPENDENCIA_ADMINISTRATIVA'].unique().tolist()"
      ],
      "execution_count": 77,
      "outputs": [
        {
          "output_type": "execute_result",
          "data": {
            "text/plain": [
              "['PÚBLICA', 'PRIVADA', 'PRIVADO', 'PÚBLICO']"
            ]
          },
          "metadata": {
            "tags": []
          },
          "execution_count": 77
        }
      ]
    }
  ]
}