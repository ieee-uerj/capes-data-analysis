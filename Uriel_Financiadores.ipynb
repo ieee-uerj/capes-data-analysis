{
  "nbformat": 4,
  "nbformat_minor": 0,
  "metadata": {
    "colab": {
      "name": "Uriel - Financiadores.ipynb",
      "provenance": []
    },
    "kernelspec": {
      "name": "python3",
      "display_name": "Python 3"
    }
  },
  "cells": [
    {
      "cell_type": "code",
      "metadata": {
        "id": "sTpFTu2tpf9y",
        "colab": {
          "base_uri": "https://localhost:8080/"
        },
        "outputId": "1770566d-bc2f-4aa2-cc41-8365b9a44099"
      },
      "source": [
        "from google.colab import drive\n",
        "drive.mount('/content/drive')"
      ],
      "execution_count": null,
      "outputs": [
        {
          "output_type": "stream",
          "text": [
            "Mounted at /content/drive\n"
          ],
          "name": "stdout"
        }
      ]
    },
    {
      "cell_type": "code",
      "metadata": {
        "id": "xgi7P2SlqhZx"
      },
      "source": [
        "import pandas as pd\n",
        "import numpy as np\n",
        "import matplotlib.pyplot as plt\n",
        "import seaborn as sns\n",
        "%matplotlib inline"
      ],
      "execution_count": null,
      "outputs": []
    },
    {
      "cell_type": "markdown",
      "metadata": {
        "id": "hirrvYobUpP1"
      },
      "source": [
        "Juntando os DataFrames dos Financiadores dos Projetos"
      ]
    },
    {
      "cell_type": "code",
      "metadata": {
        "id": "LiUzWu-Nq7Ml"
      },
      "source": [
        "df_2013 = pd.read_csv('drive/My Drive/ddi-br-capes-colsucup-projeto-financiador-2013a2016-2018-05-01_2013.csv', sep = ';', encoding = 'latin1')\n",
        "df_2014 = pd.read_csv('drive/My Drive/ddi-br-capes-colsucup-projeto-financiador-2013a2016-2018-05-01_2014.csv', sep = ';', encoding = 'latin1')\n",
        "df_2015 = pd.read_csv('drive/My Drive/ddi-br-capes-colsucup-projeto-financiador-2013a2016-2018-05-01_2015.csv', sep = ';', encoding = 'latin1')\n",
        "df_2016 = pd.read_csv(\"drive/My Drive/ddi-br-capes-colsucup-projeto-financiador-2013a2016-2018-05-01_2016.csv\", sep = ';', encoding = 'latin1')\n",
        "df_2017 = pd.read_csv('drive/My Drive/br-capes-colsucup-projeto-financiador-2017-2018-08-01.csv', sep = ';', encoding = 'latin1')\n",
        "df_2018 = pd.read_csv('drive/My Drive/br-capes-colsucup-projeto-financiador-2018-2019-10-01.csv', sep = ';', encoding = 'latin1')\n",
        "df_final = pd.concat([df_2013, df_2014, df_2015, df_2016, df_2017,df_2018], axis = 0)"
      ],
      "execution_count": null,
      "outputs": []
    },
    {
      "cell_type": "markdown",
      "metadata": {
        "id": "vRlglm36UxCh"
      },
      "source": [
        "Juntando os DataFrames do PPG"
      ]
    },
    {
      "cell_type": "code",
      "metadata": {
        "id": "8oIgB3eMOW6o"
      },
      "source": [
        "df_ppg_2013 = pd.read_csv('drive/My Drive/br-capes-colsucup-prog-2013a2016-2020-06-12_2013.csv', sep = ';', encoding = 'latin1')\n",
        "df_ppg_2014 = pd.read_csv('drive/My Drive/br-capes-colsucup-prog-2013a2016-2020-06-12_2014.csv', sep = ';', encoding = 'latin1')\n",
        "df_ppg_2015 = pd.read_csv('drive/My Drive/br-capes-colsucup-prog-2013a2016-2020-06-12_2015.csv', sep = ';', encoding = 'latin1')\n",
        "df_ppg_2016 = pd.read_csv('drive/My Drive/br-capes-colsucup-prog-2013a2016-2020-06-12_2016.csv', sep = ';', encoding = 'latin1')\n",
        "df_ppg_2017 = pd.read_csv('drive/My Drive/br-capes-colsucup-prog-2017-2020-06-12.csv', sep = ';', encoding = 'latin1')\n",
        "df_ppg_2018 = pd.read_csv('drive/My Drive/br-capes-colsucup-prog-2018-2020-06-12.csv', sep = ';', encoding = 'latin1')\n",
        " \n",
        "ppg_final = pd.concat([df_ppg_2013, df_ppg_2014, df_ppg_2015, df_ppg_2016, df_ppg_2017, df_ppg_2018], axis = 0)"
      ],
      "execution_count": null,
      "outputs": []
    },
    {
      "cell_type": "markdown",
      "metadata": {
        "id": "NwzBziHtC9VQ"
      },
      "source": [
        "Juntando os DataFrames dos Projetos "
      ]
    },
    {
      "cell_type": "code",
      "metadata": {
        "id": "qh8fs4fGCQDl"
      },
      "source": [
        "df_projetos_2013 = pd.read_csv('drive/My Drive/ddi-br-capes-colsucup-projeto-2013a2016-2018-05-01_2013.csv', sep = ';', encoding = 'latin1')\n",
        "df_projetos_2014 = pd.read_csv('drive/My Drive/ddi-br-capes-colsucup-projeto-2013a2016-2018-05-01_2014.csv', sep = ';', encoding = 'latin1')\n",
        "df_projetos_2015 = pd.read_csv('drive/My Drive/ddi-br-capes-colsucup-projeto-2013a2016-2018-05-01_2015.csv', sep = ';', encoding = 'latin1')\n",
        "df_projetos_2016 = pd.read_csv('drive/My Drive/ddi-br-capes-colsucup-projeto-2013a2016-2018-05-01_2016.csv', sep = ';', encoding = 'latin1')\n",
        "df_projetos_2017 = pd.read_csv('drive/My Drive/br-capes-colsucup-projeto-2017-2018-08-01.csv', sep = ';', encoding = 'latin1')\n",
        "df_projetos_2018 = pd.read_csv('drive/My Drive/br-capes-colsucup-projeto-2018-2019-10-01.csv', sep = ';', encoding = 'latin1')\n",
        "\n",
        "projetos = pd.concat([df_projetos_2013, df_projetos_2014, df_projetos_2015, df_projetos_2016, df_projetos_2017, df_projetos_2018])"
      ],
      "execution_count": null,
      "outputs": []
    },
    {
      "cell_type": "markdown",
      "metadata": {
        "id": "Q6jbfNyfU7cs"
      },
      "source": [
        "DataFrame Final dos Financiadores dos *Projetos*"
      ]
    },
    {
      "cell_type": "code",
      "metadata": {
        "id": "KVc4j_tNsboZ",
        "colab": {
          "base_uri": "https://localhost:8080/",
          "height": 479
        },
        "outputId": "fdcb01b4-4255-435b-dba7-be54cb637690"
      },
      "source": [
        "df_final.head()"
      ],
      "execution_count": null,
      "outputs": [
        {
          "output_type": "execute_result",
          "data": {
            "text/html": [
              "<div>\n",
              "<style scoped>\n",
              "    .dataframe tbody tr th:only-of-type {\n",
              "        vertical-align: middle;\n",
              "    }\n",
              "\n",
              "    .dataframe tbody tr th {\n",
              "        vertical-align: top;\n",
              "    }\n",
              "\n",
              "    .dataframe thead th {\n",
              "        text-align: right;\n",
              "    }\n",
              "</style>\n",
              "<table border=\"1\" class=\"dataframe\">\n",
              "  <thead>\n",
              "    <tr style=\"text-align: right;\">\n",
              "      <th></th>\n",
              "      <th>AN_BASE</th>\n",
              "      <th>ID_ADD_FOTO_PROGRAMA</th>\n",
              "      <th>ID_ADD_FOTO_PROGRAMA_IES</th>\n",
              "      <th>ID_ADD_CONTEXTO</th>\n",
              "      <th>ID_PROJETO</th>\n",
              "      <th>CD_PROGRAMA_IES</th>\n",
              "      <th>NM_PROGRAMA_IES</th>\n",
              "      <th>AN_INICIO_PROGRAMA</th>\n",
              "      <th>SG_ENTIDADE_ENSINO</th>\n",
              "      <th>NM_ENTIDADE_ENSINO</th>\n",
              "      <th>NM_NATUREZA_FINANCIAMENTO</th>\n",
              "      <th>NM_FINANCIADOR</th>\n",
              "      <th>SG_PROGRAMA_FOMENTO</th>\n",
              "      <th>NM_PROGRAMA_FOMENTO</th>\n",
              "      <th>IN_FINANCIADOR_ESTRANGEIRO</th>\n",
              "      <th>NM_PAIS_FINANCIADOR</th>\n",
              "    </tr>\n",
              "  </thead>\n",
              "  <tbody>\n",
              "    <tr>\n",
              "      <th>0</th>\n",
              "      <td>2013</td>\n",
              "      <td>3876</td>\n",
              "      <td>30168</td>\n",
              "      <td>746096</td>\n",
              "      <td>152265</td>\n",
              "      <td>32009011001P8</td>\n",
              "      <td>CIÊNCIAS BIOLÓGICAS</td>\n",
              "      <td>2006.0</td>\n",
              "      <td>UNIVALE</td>\n",
              "      <td>UNIVERSIDADE VALE DO RIO DOCE</td>\n",
              "      <td>OUTRO AUXÍLIO FINANCEIRO</td>\n",
              "      <td>CONS NAC DE DESENVOLVIMENTO CIENTIFICO E TECNO...</td>\n",
              "      <td>AF</td>\n",
              "      <td>AUXILIO FINANCEIRO</td>\n",
              "      <td>NaN</td>\n",
              "      <td>NaN</td>\n",
              "    </tr>\n",
              "    <tr>\n",
              "      <th>1</th>\n",
              "      <td>2013</td>\n",
              "      <td>3876</td>\n",
              "      <td>30168</td>\n",
              "      <td>746097</td>\n",
              "      <td>152264</td>\n",
              "      <td>32009011001P8</td>\n",
              "      <td>CIÊNCIAS BIOLÓGICAS</td>\n",
              "      <td>2006.0</td>\n",
              "      <td>UNIVALE</td>\n",
              "      <td>UNIVERSIDADE VALE DO RIO DOCE</td>\n",
              "      <td>OUTRO AUXÍLIO FINANCEIRO</td>\n",
              "      <td>CONS NAC DE DESENVOLVIMENTO CIENTIFICO E TECNO...</td>\n",
              "      <td>AF</td>\n",
              "      <td>AUXILIO FINANCEIRO</td>\n",
              "      <td>NaN</td>\n",
              "      <td>NaN</td>\n",
              "    </tr>\n",
              "    <tr>\n",
              "      <th>2</th>\n",
              "      <td>2013</td>\n",
              "      <td>3876</td>\n",
              "      <td>30168</td>\n",
              "      <td>746098</td>\n",
              "      <td>152251</td>\n",
              "      <td>32009011001P8</td>\n",
              "      <td>CIÊNCIAS BIOLÓGICAS</td>\n",
              "      <td>2006.0</td>\n",
              "      <td>UNIVALE</td>\n",
              "      <td>UNIVERSIDADE VALE DO RIO DOCE</td>\n",
              "      <td>OUTRO AUXÍLIO FINANCEIRO</td>\n",
              "      <td>CONS NAC DE DESENVOLVIMENTO CIENTIFICO E TECNO...</td>\n",
              "      <td>AF</td>\n",
              "      <td>AUXILIO FINANCEIRO</td>\n",
              "      <td>NaN</td>\n",
              "      <td>NaN</td>\n",
              "    </tr>\n",
              "    <tr>\n",
              "      <th>3</th>\n",
              "      <td>2013</td>\n",
              "      <td>3876</td>\n",
              "      <td>30168</td>\n",
              "      <td>746098</td>\n",
              "      <td>152251</td>\n",
              "      <td>32009011001P8</td>\n",
              "      <td>CIÊNCIAS BIOLÓGICAS</td>\n",
              "      <td>2006.0</td>\n",
              "      <td>UNIVALE</td>\n",
              "      <td>UNIVERSIDADE VALE DO RIO DOCE</td>\n",
              "      <td>BOLSA</td>\n",
              "      <td>CONS NAC DE DESENVOLVIMENTO CIENTIFICO E TECNO...</td>\n",
              "      <td>AF</td>\n",
              "      <td>AUXILIO FINANCEIRO</td>\n",
              "      <td>NaN</td>\n",
              "      <td>NaN</td>\n",
              "    </tr>\n",
              "    <tr>\n",
              "      <th>4</th>\n",
              "      <td>2013</td>\n",
              "      <td>3876</td>\n",
              "      <td>30168</td>\n",
              "      <td>746100</td>\n",
              "      <td>152245</td>\n",
              "      <td>32009011001P8</td>\n",
              "      <td>CIÊNCIAS BIOLÓGICAS</td>\n",
              "      <td>2006.0</td>\n",
              "      <td>UNIVALE</td>\n",
              "      <td>UNIVERSIDADE VALE DO RIO DOCE</td>\n",
              "      <td>OUTRO AUXÍLIO FINANCEIRO</td>\n",
              "      <td>CONS NAC DE DESENVOLVIMENTO CIENTIFICO E TECNO...</td>\n",
              "      <td>AF</td>\n",
              "      <td>AUXILIO FINANCEIRO</td>\n",
              "      <td>NaN</td>\n",
              "      <td>NaN</td>\n",
              "    </tr>\n",
              "  </tbody>\n",
              "</table>\n",
              "</div>"
            ],
            "text/plain": [
              "   AN_BASE  ID_ADD_FOTO_PROGRAMA  ...  IN_FINANCIADOR_ESTRANGEIRO  NM_PAIS_FINANCIADOR\n",
              "0     2013                  3876  ...                         NaN                  NaN\n",
              "1     2013                  3876  ...                         NaN                  NaN\n",
              "2     2013                  3876  ...                         NaN                  NaN\n",
              "3     2013                  3876  ...                         NaN                  NaN\n",
              "4     2013                  3876  ...                         NaN                  NaN\n",
              "\n",
              "[5 rows x 16 columns]"
            ]
          },
          "metadata": {
            "tags": []
          },
          "execution_count": 8
        }
      ]
    },
    {
      "cell_type": "code",
      "metadata": {
        "colab": {
          "base_uri": "https://localhost:8080/"
        },
        "id": "Z7w2XPOo-5ke",
        "outputId": "260c0818-17d2-42bc-c30d-c3140e367460"
      },
      "source": [
        "df_final.shape"
      ],
      "execution_count": null,
      "outputs": [
        {
          "output_type": "execute_result",
          "data": {
            "text/plain": [
              "(821100, 16)"
            ]
          },
          "metadata": {
            "tags": []
          },
          "execution_count": 9
        }
      ]
    },
    {
      "cell_type": "code",
      "metadata": {
        "colab": {
          "base_uri": "https://localhost:8080/"
        },
        "id": "c2HWLINx_EAH",
        "outputId": "f1131412-46bb-46a6-ff20-45d213a8a92e"
      },
      "source": [
        "ppg_final.shape"
      ],
      "execution_count": null,
      "outputs": [
        {
          "output_type": "execute_result",
          "data": {
            "text/plain": [
              "(24167, 34)"
            ]
          },
          "metadata": {
            "tags": []
          },
          "execution_count": 10
        }
      ]
    },
    {
      "cell_type": "code",
      "metadata": {
        "colab": {
          "base_uri": "https://localhost:8080/",
          "height": 479
        },
        "id": "3wZ0qy0pn6S0",
        "outputId": "a6785701-618a-4976-8747-726ebfe7c3d2"
      },
      "source": [
        "ppg_final.head()"
      ],
      "execution_count": null,
      "outputs": [
        {
          "output_type": "execute_result",
          "data": {
            "text/html": [
              "<div>\n",
              "<style scoped>\n",
              "    .dataframe tbody tr th:only-of-type {\n",
              "        vertical-align: middle;\n",
              "    }\n",
              "\n",
              "    .dataframe tbody tr th {\n",
              "        vertical-align: top;\n",
              "    }\n",
              "\n",
              "    .dataframe thead th {\n",
              "        text-align: right;\n",
              "    }\n",
              "</style>\n",
              "<table border=\"1\" class=\"dataframe\">\n",
              "  <thead>\n",
              "    <tr style=\"text-align: right;\">\n",
              "      <th></th>\n",
              "      <th>AN_BASE</th>\n",
              "      <th>NM_GRANDE_AREA_CONHECIMENTO</th>\n",
              "      <th>NM_AREA_CONHECIMENTO</th>\n",
              "      <th>NM_SUBAREA_CONHECIMENTO</th>\n",
              "      <th>NM_ESPECIALIDADE</th>\n",
              "      <th>CD_AREA_AVALIACAO</th>\n",
              "      <th>NM_AREA_AVALIACAO</th>\n",
              "      <th>CD_ENTIDADE_CAPES</th>\n",
              "      <th>CD_ENTIDADE_EMEC</th>\n",
              "      <th>SG_ENTIDADE_ENSINO</th>\n",
              "      <th>NM_ENTIDADE_ENSINO</th>\n",
              "      <th>CS_STATUS_JURIDICO</th>\n",
              "      <th>DS_DEPENDENCIA_ADMINISTRATIVA</th>\n",
              "      <th>DS_ORGANIZACAO_ACADEMICA</th>\n",
              "      <th>NM_REGIAO</th>\n",
              "      <th>NM_MUNICIPIO_PROGRAMA_IES</th>\n",
              "      <th>NM_MODALIDADE_PROGRAMA</th>\n",
              "      <th>CD_PROGRAMA_IES</th>\n",
              "      <th>NM_PROGRAMA_IES</th>\n",
              "      <th>NM_PROGRAMA_IDIOMA</th>\n",
              "      <th>SG_UF_PROGRAMA</th>\n",
              "      <th>NM_GRAU_PROGRAMA</th>\n",
              "      <th>CD_CONCEITO_PROGRAMA</th>\n",
              "      <th>ANO_INICIO_PROGRAMA</th>\n",
              "      <th>AN_INICIO_CURSO</th>\n",
              "      <th>IN_REDE</th>\n",
              "      <th>SG_ENTIDADE_ENSINO_REDE</th>\n",
              "      <th>DS_SITUACAO_PROGRAMA</th>\n",
              "      <th>DT_SITUACAO_PROGRAMA</th>\n",
              "      <th>ID_ADD_FOTO_PROGRAMA_IES</th>\n",
              "      <th>ID_ADD_FOTO_PROGRAMA</th>\n",
              "      <th>DS_CLIENTELA_QUADRIENAL_2017</th>\n",
              "      <th>NM_AREA_BASICA</th>\n",
              "      <th>AN_INICIO_PROGRAMA</th>\n",
              "    </tr>\n",
              "  </thead>\n",
              "  <tbody>\n",
              "    <tr>\n",
              "      <th>0</th>\n",
              "      <td>2013</td>\n",
              "      <td>CIÊNCIAS BIOLÓGICAS</td>\n",
              "      <td>PARASITOLOGIA</td>\n",
              "      <td>NÃO SE APLICA</td>\n",
              "      <td>NÃO SE APLICA</td>\n",
              "      <td>9</td>\n",
              "      <td>CIÊNCIAS BIOLÓGICAS III</td>\n",
              "      <td>10001018</td>\n",
              "      <td>699</td>\n",
              "      <td>UNIR</td>\n",
              "      <td>UNIVERSIDADE FEDERAL DE RONDÔNIA</td>\n",
              "      <td>FEDERAL</td>\n",
              "      <td>PÚBLICA</td>\n",
              "      <td>UNIVERSIDADE</td>\n",
              "      <td>NORTE</td>\n",
              "      <td>PORTO VELHO</td>\n",
              "      <td>ACADÊMICO</td>\n",
              "      <td>10001018002P1</td>\n",
              "      <td>BIOLOGIA EXPERIMENTAL</td>\n",
              "      <td>EXPERIMENTAL BIOLOGY</td>\n",
              "      <td>RO</td>\n",
              "      <td>MESTRADO/DOUTORADO</td>\n",
              "      <td>3</td>\n",
              "      <td>2001.0</td>\n",
              "      <td>2001/2005</td>\n",
              "      <td>NÃO</td>\n",
              "      <td>NaN</td>\n",
              "      <td>EM FUNCIONAMENTO</td>\n",
              "      <td>30DEC2013:00:00:00</td>\n",
              "      <td>115723</td>\n",
              "      <td>52357</td>\n",
              "      <td>AVALIAÇÃO</td>\n",
              "      <td>NaN</td>\n",
              "      <td>NaN</td>\n",
              "    </tr>\n",
              "    <tr>\n",
              "      <th>1</th>\n",
              "      <td>2013</td>\n",
              "      <td>MULTIDISCIPLINAR</td>\n",
              "      <td>INTERDISCIPLINAR</td>\n",
              "      <td>MEIO AMBIENTE E AGRÁRIAS</td>\n",
              "      <td>NÃO SE APLICA</td>\n",
              "      <td>45</td>\n",
              "      <td>INTERDISCIPLINAR</td>\n",
              "      <td>10001018</td>\n",
              "      <td>699</td>\n",
              "      <td>UNIR</td>\n",
              "      <td>UNIVERSIDADE FEDERAL DE RONDÔNIA</td>\n",
              "      <td>FEDERAL</td>\n",
              "      <td>PÚBLICA</td>\n",
              "      <td>UNIVERSIDADE</td>\n",
              "      <td>NORTE</td>\n",
              "      <td>PORTO VELHO</td>\n",
              "      <td>ACADÊMICO</td>\n",
              "      <td>10001018004P4</td>\n",
              "      <td>DESENVOLVIMENTO REGIONAL E MEIO AMBIENTE</td>\n",
              "      <td>PROGRAM POSGRADUATED IN THE DEVELOPMENT REGION...</td>\n",
              "      <td>RO</td>\n",
              "      <td>MESTRADO/DOUTORADO</td>\n",
              "      <td>4</td>\n",
              "      <td>1999.0</td>\n",
              "      <td>1999/2013</td>\n",
              "      <td>NÃO</td>\n",
              "      <td>NaN</td>\n",
              "      <td>EM FUNCIONAMENTO</td>\n",
              "      <td>13NOV2013:00:00:00</td>\n",
              "      <td>89585</td>\n",
              "      <td>28246</td>\n",
              "      <td>AVALIAÇÃO</td>\n",
              "      <td>NaN</td>\n",
              "      <td>NaN</td>\n",
              "    </tr>\n",
              "    <tr>\n",
              "      <th>2</th>\n",
              "      <td>2013</td>\n",
              "      <td>CIÊNCIAS HUMANAS</td>\n",
              "      <td>GEOGRAFIA</td>\n",
              "      <td>NÃO SE APLICA</td>\n",
              "      <td>NÃO SE APLICA</td>\n",
              "      <td>36</td>\n",
              "      <td>GEOGRAFIA</td>\n",
              "      <td>10001018</td>\n",
              "      <td>699</td>\n",
              "      <td>UNIR</td>\n",
              "      <td>UNIVERSIDADE FEDERAL DE RONDÔNIA</td>\n",
              "      <td>FEDERAL</td>\n",
              "      <td>PÚBLICA</td>\n",
              "      <td>UNIVERSIDADE</td>\n",
              "      <td>NORTE</td>\n",
              "      <td>PORTO VELHO</td>\n",
              "      <td>ACADÊMICO</td>\n",
              "      <td>10001018005P0</td>\n",
              "      <td>GEOGRAFIA</td>\n",
              "      <td>MASTERS IN GEOGRAPHY, FEDERAL UNIVERSITY OF RO...</td>\n",
              "      <td>RO</td>\n",
              "      <td>MESTRADO/DOUTORADO</td>\n",
              "      <td>4</td>\n",
              "      <td>2006.0</td>\n",
              "      <td>2006/2015</td>\n",
              "      <td>NÃO</td>\n",
              "      <td>NaN</td>\n",
              "      <td>EM FUNCIONAMENTO</td>\n",
              "      <td>19JUN2013:00:00:00</td>\n",
              "      <td>114485</td>\n",
              "      <td>51206</td>\n",
              "      <td>AVALIAÇÃO</td>\n",
              "      <td>NaN</td>\n",
              "      <td>NaN</td>\n",
              "    </tr>\n",
              "    <tr>\n",
              "      <th>3</th>\n",
              "      <td>2013</td>\n",
              "      <td>CIÊNCIAS SOCIAIS APLICADAS</td>\n",
              "      <td>ADMINISTRAÇÃO</td>\n",
              "      <td>NÃO SE APLICA</td>\n",
              "      <td>NÃO SE APLICA</td>\n",
              "      <td>27</td>\n",
              "      <td>ADMINISTRAÇÃO PÚBLICA E DE EMPRESAS, CIÊNCIAS ...</td>\n",
              "      <td>10001018</td>\n",
              "      <td>699</td>\n",
              "      <td>UNIR</td>\n",
              "      <td>UNIVERSIDADE FEDERAL DE RONDÔNIA</td>\n",
              "      <td>FEDERAL</td>\n",
              "      <td>PÚBLICA</td>\n",
              "      <td>UNIVERSIDADE</td>\n",
              "      <td>NORTE</td>\n",
              "      <td>PORTO VELHO</td>\n",
              "      <td>ACADÊMICO</td>\n",
              "      <td>10001018006P7</td>\n",
              "      <td>ADMINISTRAÇÃO</td>\n",
              "      <td>MASTER IN ADMINISTRATION</td>\n",
              "      <td>RO</td>\n",
              "      <td>MESTRADO</td>\n",
              "      <td>4</td>\n",
              "      <td>2006.0</td>\n",
              "      <td>2006</td>\n",
              "      <td>NÃO</td>\n",
              "      <td>NaN</td>\n",
              "      <td>EM FUNCIONAMENTO</td>\n",
              "      <td>30DEC2013:00:00:00</td>\n",
              "      <td>102520</td>\n",
              "      <td>40802</td>\n",
              "      <td>AVALIAÇÃO</td>\n",
              "      <td>NaN</td>\n",
              "      <td>NaN</td>\n",
              "    </tr>\n",
              "    <tr>\n",
              "      <th>4</th>\n",
              "      <td>2013</td>\n",
              "      <td>LINGÜÍSTICA, LETRAS E ARTES</td>\n",
              "      <td>LINGÜÍSTICA</td>\n",
              "      <td>NÃO SE APLICA</td>\n",
              "      <td>NÃO SE APLICA</td>\n",
              "      <td>41</td>\n",
              "      <td>LETRAS / LINGUÍSTICA</td>\n",
              "      <td>10001018</td>\n",
              "      <td>699</td>\n",
              "      <td>UNIR</td>\n",
              "      <td>UNIVERSIDADE FEDERAL DE RONDÔNIA</td>\n",
              "      <td>FEDERAL</td>\n",
              "      <td>PÚBLICA</td>\n",
              "      <td>UNIVERSIDADE</td>\n",
              "      <td>NORTE</td>\n",
              "      <td>PORTO VELHO</td>\n",
              "      <td>ACADÊMICO</td>\n",
              "      <td>10001018008P0</td>\n",
              "      <td>CIÊNCIAS DA LINGUAGEM</td>\n",
              "      <td>GRADUATE PROGRAM IN LANGUAGE SCIENCES</td>\n",
              "      <td>RO</td>\n",
              "      <td>MESTRADO</td>\n",
              "      <td>2</td>\n",
              "      <td>2007.0</td>\n",
              "      <td>2007</td>\n",
              "      <td>NÃO</td>\n",
              "      <td>NaN</td>\n",
              "      <td>EM DESATIVACAO</td>\n",
              "      <td>29APR2014:00:00:00</td>\n",
              "      <td>56035</td>\n",
              "      <td>7487</td>\n",
              "      <td>NÃO</td>\n",
              "      <td>NaN</td>\n",
              "      <td>NaN</td>\n",
              "    </tr>\n",
              "  </tbody>\n",
              "</table>\n",
              "</div>"
            ],
            "text/plain": [
              "   AN_BASE  NM_GRANDE_AREA_CONHECIMENTO  ... NM_AREA_BASICA AN_INICIO_PROGRAMA\n",
              "0     2013          CIÊNCIAS BIOLÓGICAS  ...            NaN                NaN\n",
              "1     2013             MULTIDISCIPLINAR  ...            NaN                NaN\n",
              "2     2013             CIÊNCIAS HUMANAS  ...            NaN                NaN\n",
              "3     2013   CIÊNCIAS SOCIAIS APLICADAS  ...            NaN                NaN\n",
              "4     2013  LINGÜÍSTICA, LETRAS E ARTES  ...            NaN                NaN\n",
              "\n",
              "[5 rows x 34 columns]"
            ]
          },
          "metadata": {
            "tags": []
          },
          "execution_count": 11
        }
      ]
    },
    {
      "cell_type": "code",
      "metadata": {
        "id": "p9Tk3hWDoggG"
      },
      "source": [
        "ppg = ppg_final[['CD_PROGRAMA_IES', 'NM_GRANDE_AREA_CONHECIMENTO']]"
      ],
      "execution_count": null,
      "outputs": []
    },
    {
      "cell_type": "code",
      "metadata": {
        "colab": {
          "base_uri": "https://localhost:8080/",
          "height": 204
        },
        "id": "tImfsvIFoA5u",
        "outputId": "de06a462-910c-48b5-e598-5716f1382db3"
      },
      "source": [
        "ppg.head()"
      ],
      "execution_count": null,
      "outputs": [
        {
          "output_type": "execute_result",
          "data": {
            "text/html": [
              "<div>\n",
              "<style scoped>\n",
              "    .dataframe tbody tr th:only-of-type {\n",
              "        vertical-align: middle;\n",
              "    }\n",
              "\n",
              "    .dataframe tbody tr th {\n",
              "        vertical-align: top;\n",
              "    }\n",
              "\n",
              "    .dataframe thead th {\n",
              "        text-align: right;\n",
              "    }\n",
              "</style>\n",
              "<table border=\"1\" class=\"dataframe\">\n",
              "  <thead>\n",
              "    <tr style=\"text-align: right;\">\n",
              "      <th></th>\n",
              "      <th>CD_PROGRAMA_IES</th>\n",
              "      <th>NM_GRANDE_AREA_CONHECIMENTO</th>\n",
              "    </tr>\n",
              "  </thead>\n",
              "  <tbody>\n",
              "    <tr>\n",
              "      <th>0</th>\n",
              "      <td>10001018002P1</td>\n",
              "      <td>CIÊNCIAS BIOLÓGICAS</td>\n",
              "    </tr>\n",
              "    <tr>\n",
              "      <th>1</th>\n",
              "      <td>10001018004P4</td>\n",
              "      <td>MULTIDISCIPLINAR</td>\n",
              "    </tr>\n",
              "    <tr>\n",
              "      <th>2</th>\n",
              "      <td>10001018005P0</td>\n",
              "      <td>CIÊNCIAS HUMANAS</td>\n",
              "    </tr>\n",
              "    <tr>\n",
              "      <th>3</th>\n",
              "      <td>10001018006P7</td>\n",
              "      <td>CIÊNCIAS SOCIAIS APLICADAS</td>\n",
              "    </tr>\n",
              "    <tr>\n",
              "      <th>4</th>\n",
              "      <td>10001018008P0</td>\n",
              "      <td>LINGÜÍSTICA, LETRAS E ARTES</td>\n",
              "    </tr>\n",
              "  </tbody>\n",
              "</table>\n",
              "</div>"
            ],
            "text/plain": [
              "  CD_PROGRAMA_IES  NM_GRANDE_AREA_CONHECIMENTO\n",
              "0   10001018002P1          CIÊNCIAS BIOLÓGICAS\n",
              "1   10001018004P4             MULTIDISCIPLINAR\n",
              "2   10001018005P0             CIÊNCIAS HUMANAS\n",
              "3   10001018006P7   CIÊNCIAS SOCIAIS APLICADAS\n",
              "4   10001018008P0  LINGÜÍSTICA, LETRAS E ARTES"
            ]
          },
          "metadata": {
            "tags": []
          },
          "execution_count": 13
        }
      ]
    },
    {
      "cell_type": "code",
      "metadata": {
        "colab": {
          "base_uri": "https://localhost:8080/",
          "height": 80
        },
        "id": "5fgcBbqqqCTc",
        "outputId": "0e791ed9-45a6-44b3-dc0f-d019f0f05c11"
      },
      "source": [
        "ppg.loc[ppg['CD_PROGRAMA_IES'] == '10001018008P0']"
      ],
      "execution_count": null,
      "outputs": [
        {
          "output_type": "execute_result",
          "data": {
            "text/html": [
              "<div>\n",
              "<style scoped>\n",
              "    .dataframe tbody tr th:only-of-type {\n",
              "        vertical-align: middle;\n",
              "    }\n",
              "\n",
              "    .dataframe tbody tr th {\n",
              "        vertical-align: top;\n",
              "    }\n",
              "\n",
              "    .dataframe thead th {\n",
              "        text-align: right;\n",
              "    }\n",
              "</style>\n",
              "<table border=\"1\" class=\"dataframe\">\n",
              "  <thead>\n",
              "    <tr style=\"text-align: right;\">\n",
              "      <th></th>\n",
              "      <th>CD_PROGRAMA_IES</th>\n",
              "      <th>NM_GRANDE_AREA_CONHECIMENTO</th>\n",
              "    </tr>\n",
              "  </thead>\n",
              "  <tbody>\n",
              "    <tr>\n",
              "      <th>4</th>\n",
              "      <td>10001018008P0</td>\n",
              "      <td>LINGÜÍSTICA, LETRAS E ARTES</td>\n",
              "    </tr>\n",
              "  </tbody>\n",
              "</table>\n",
              "</div>"
            ],
            "text/plain": [
              "  CD_PROGRAMA_IES  NM_GRANDE_AREA_CONHECIMENTO\n",
              "4   10001018008P0  LINGÜÍSTICA, LETRAS E ARTES"
            ]
          },
          "metadata": {
            "tags": []
          },
          "execution_count": 14
        }
      ]
    },
    {
      "cell_type": "code",
      "metadata": {
        "colab": {
          "base_uri": "https://localhost:8080/"
        },
        "id": "Iutja_3hoXPt",
        "outputId": "b542fb9d-3bb8-4940-b947-db88a9787dde"
      },
      "source": [
        "ppg_final.info()"
      ],
      "execution_count": null,
      "outputs": [
        {
          "output_type": "stream",
          "text": [
            "<class 'pandas.core.frame.DataFrame'>\n",
            "Int64Index: 24167 entries, 0 to 4356\n",
            "Data columns (total 34 columns):\n",
            " #   Column                         Non-Null Count  Dtype  \n",
            "---  ------                         --------------  -----  \n",
            " 0   AN_BASE                        24167 non-null  int64  \n",
            " 1   NM_GRANDE_AREA_CONHECIMENTO    24167 non-null  object \n",
            " 2   NM_AREA_CONHECIMENTO           24167 non-null  object \n",
            " 3   NM_SUBAREA_CONHECIMENTO        24167 non-null  object \n",
            " 4   NM_ESPECIALIDADE               24167 non-null  object \n",
            " 5   CD_AREA_AVALIACAO              24167 non-null  int64  \n",
            " 6   NM_AREA_AVALIACAO              24167 non-null  object \n",
            " 7   CD_ENTIDADE_CAPES              24167 non-null  int64  \n",
            " 8   CD_ENTIDADE_EMEC               24167 non-null  object \n",
            " 9   SG_ENTIDADE_ENSINO             24167 non-null  object \n",
            " 10  NM_ENTIDADE_ENSINO             24167 non-null  object \n",
            " 11  CS_STATUS_JURIDICO             24167 non-null  object \n",
            " 12  DS_DEPENDENCIA_ADMINISTRATIVA  24167 non-null  object \n",
            " 13  DS_ORGANIZACAO_ACADEMICA       24167 non-null  object \n",
            " 14  NM_REGIAO                      24167 non-null  object \n",
            " 15  NM_MUNICIPIO_PROGRAMA_IES      24167 non-null  object \n",
            " 16  NM_MODALIDADE_PROGRAMA         24167 non-null  object \n",
            " 17  CD_PROGRAMA_IES                24167 non-null  object \n",
            " 18  NM_PROGRAMA_IES                24167 non-null  object \n",
            " 19  NM_PROGRAMA_IDIOMA             24167 non-null  object \n",
            " 20  SG_UF_PROGRAMA                 24167 non-null  object \n",
            " 21  NM_GRAU_PROGRAMA               24167 non-null  object \n",
            " 22  CD_CONCEITO_PROGRAMA           24167 non-null  object \n",
            " 23  ANO_INICIO_PROGRAMA            15465 non-null  float64\n",
            " 24  AN_INICIO_CURSO                24167 non-null  object \n",
            " 25  IN_REDE                        24167 non-null  object \n",
            " 26  SG_ENTIDADE_ENSINO_REDE        561 non-null    object \n",
            " 27  DS_SITUACAO_PROGRAMA           24167 non-null  object \n",
            " 28  DT_SITUACAO_PROGRAMA           24167 non-null  object \n",
            " 29  ID_ADD_FOTO_PROGRAMA_IES       24167 non-null  int64  \n",
            " 30  ID_ADD_FOTO_PROGRAMA           24167 non-null  int64  \n",
            " 31  DS_CLIENTELA_QUADRIENAL_2017   15465 non-null  object \n",
            " 32  NM_AREA_BASICA                 8702 non-null   object \n",
            " 33  AN_INICIO_PROGRAMA             8702 non-null   float64\n",
            "dtypes: float64(2), int64(5), object(27)\n",
            "memory usage: 6.5+ MB\n"
          ],
          "name": "stdout"
        }
      ]
    },
    {
      "cell_type": "markdown",
      "metadata": {
        "id": "edmUeHihNkWf"
      },
      "source": [
        ""
      ]
    },
    {
      "cell_type": "markdown",
      "metadata": {
        "id": "Wg3TyqCjV8iG"
      },
      "source": [
        "Pegando o que eu quero da base PPG"
      ]
    },
    {
      "cell_type": "code",
      "metadata": {
        "id": "w18U3FyVN-vU",
        "colab": {
          "base_uri": "https://localhost:8080/"
        },
        "outputId": "359d1a1b-afd8-49b8-a4f5-caa6e588c187"
      },
      "source": [
        "ppg_final['AN_BASE'].value_counts()"
      ],
      "execution_count": null,
      "outputs": [
        {
          "output_type": "execute_result",
          "data": {
            "text/plain": [
              "2018    4357\n",
              "2017    4345\n",
              "2016    4186\n",
              "2015    3946\n",
              "2014    3765\n",
              "2013    3568\n",
              "Name: AN_BASE, dtype: int64"
            ]
          },
          "metadata": {
            "tags": []
          },
          "execution_count": 16
        }
      ]
    },
    {
      "cell_type": "markdown",
      "metadata": {
        "id": "mW2MT96uSFEX"
      },
      "source": [
        "del ppg_final['ID_ADD_FOTO_PROGRAMA']\n",
        "del ppg_final['ID_ADD_FOTO_PROGRAMA_IES']\n",
        "del ppg_final['AN_INICIO_PROGRAMA']\n",
        "del ppg_final['NM_PROGRAMA_IES']\n",
        "del ppg_final['SG_ENTIDADE_ENSINO']\n",
        "del ppg_final['SG_ENTIDADE_ENSINO_REDE']\n",
        "del ppg_final['SG_UF_PROGRAMA']\n",
        "del ppg_final['IN_REDE']\n",
        "del ppg_final['NM_AREA_AVALIACAO']\n",
        "del ppg_final['NM_AREA_BASICA']\n",
        "del ppg_final['NM_ENTIDADE_ENSINO']\n",
        "del ppg_final['CD_AREA_AVALIACAO']\n",
        "del ppg_final['CD_ENTIDADE_CAPES']\n",
        "del ppg_final['CD_ENTIDADE_EMEC']\n",
        "del ppg_final['DS_CLIENTELA_QUADRIENAL_2017']\n",
        "del ppg_final['CS_STATUS_JURIDICO']\n",
        "del ppg_final['DS_DEPENDENCIA_ADMINISTRATIVA']\n",
        "del ppg_final['DS_ORGANIZACAO_ACADEMICA']\n",
        "del ppg_final['NM_ESPECIALIDADE']\n",
        "del ppg_final['DT_SITUACAO_PROGRAMA']\n",
        "del ppg_final['NM_PROGRAMA_IDIOMA']\n"
      ]
    },
    {
      "cell_type": "code",
      "metadata": {
        "id": "d4LFzUtIXmSX"
      },
      "source": [
        "df = df_final.merge(ppg_final[['CD_PROGRAMA_IES','AN_BASE', 'CD_CONCEITO_PROGRAMA']], on=['CD_PROGRAMA_IES', 'AN_BASE'], how='inner')"
      ],
      "execution_count": null,
      "outputs": []
    },
    {
      "cell_type": "code",
      "metadata": {
        "id": "m_1ckFPLx8N-"
      },
      "source": [
        "df = df.merge(ppg_final[['CD_PROGRAMA_IES','AN_BASE', 'NM_REGIAO']], on=['CD_PROGRAMA_IES', 'AN_BASE'], how='inner')"
      ],
      "execution_count": null,
      "outputs": []
    },
    {
      "cell_type": "code",
      "metadata": {
        "id": "DuQO9xO52iR5"
      },
      "source": [
        "df = df.merge(ppg_final[['CD_PROGRAMA_IES','AN_BASE', 'NM_GRANDE_AREA_CONHECIMENTO']], on=['CD_PROGRAMA_IES', 'AN_BASE'], how='inner')"
      ],
      "execution_count": null,
      "outputs": []
    },
    {
      "cell_type": "code",
      "metadata": {
        "id": "JsAVsKS6WMnN"
      },
      "source": [
        "df = df.merge(ppg_final[['CD_PROGRAMA_IES', 'AN_BASE', 'NM_AREA_CONHECIMENTO']], on = ['CD_PROGRAMA_IES', 'AN_BASE'], how = 'inner')"
      ],
      "execution_count": null,
      "outputs": []
    },
    {
      "cell_type": "code",
      "metadata": {
        "id": "TQKwFVl3aGkd"
      },
      "source": [
        "df = df.merge(ppg_final[['CD_PROGRAMA_IES', 'AN_BASE', 'DS_DEPENDENCIA_ADMINISTRATIVA']], on = ['CD_PROGRAMA_IES', 'AN_BASE'],  how = 'inner')"
      ],
      "execution_count": null,
      "outputs": []
    },
    {
      "cell_type": "code",
      "metadata": {
        "colab": {
          "base_uri": "https://localhost:8080/",
          "height": 479
        },
        "id": "sncdq3ZzEBOa",
        "outputId": "b6a07ccd-792e-41e1-ef16-69673b75a7fb"
      },
      "source": [
        "df.head()"
      ],
      "execution_count": null,
      "outputs": [
        {
          "output_type": "execute_result",
          "data": {
            "text/html": [
              "<div>\n",
              "<style scoped>\n",
              "    .dataframe tbody tr th:only-of-type {\n",
              "        vertical-align: middle;\n",
              "    }\n",
              "\n",
              "    .dataframe tbody tr th {\n",
              "        vertical-align: top;\n",
              "    }\n",
              "\n",
              "    .dataframe thead th {\n",
              "        text-align: right;\n",
              "    }\n",
              "</style>\n",
              "<table border=\"1\" class=\"dataframe\">\n",
              "  <thead>\n",
              "    <tr style=\"text-align: right;\">\n",
              "      <th></th>\n",
              "      <th>AN_BASE</th>\n",
              "      <th>ID_ADD_FOTO_PROGRAMA</th>\n",
              "      <th>ID_ADD_FOTO_PROGRAMA_IES</th>\n",
              "      <th>ID_ADD_CONTEXTO</th>\n",
              "      <th>ID_PROJETO</th>\n",
              "      <th>CD_PROGRAMA_IES</th>\n",
              "      <th>NM_PROGRAMA_IES</th>\n",
              "      <th>AN_INICIO_PROGRAMA</th>\n",
              "      <th>SG_ENTIDADE_ENSINO</th>\n",
              "      <th>NM_ENTIDADE_ENSINO</th>\n",
              "      <th>NM_NATUREZA_FINANCIAMENTO</th>\n",
              "      <th>NM_FINANCIADOR</th>\n",
              "      <th>SG_PROGRAMA_FOMENTO</th>\n",
              "      <th>NM_PROGRAMA_FOMENTO</th>\n",
              "      <th>IN_FINANCIADOR_ESTRANGEIRO</th>\n",
              "      <th>NM_PAIS_FINANCIADOR</th>\n",
              "      <th>CD_CONCEITO_PROGRAMA</th>\n",
              "      <th>NM_REGIAO</th>\n",
              "      <th>NM_GRANDE_AREA_CONHECIMENTO</th>\n",
              "      <th>NM_AREA_CONHECIMENTO</th>\n",
              "      <th>DS_DEPENDENCIA_ADMINISTRATIVA</th>\n",
              "    </tr>\n",
              "  </thead>\n",
              "  <tbody>\n",
              "    <tr>\n",
              "      <th>0</th>\n",
              "      <td>2013</td>\n",
              "      <td>3876</td>\n",
              "      <td>30168</td>\n",
              "      <td>746096</td>\n",
              "      <td>152265</td>\n",
              "      <td>32009011001P8</td>\n",
              "      <td>CIÊNCIAS BIOLÓGICAS</td>\n",
              "      <td>2006.0</td>\n",
              "      <td>UNIVALE</td>\n",
              "      <td>UNIVERSIDADE VALE DO RIO DOCE</td>\n",
              "      <td>OUTRO AUXÍLIO FINANCEIRO</td>\n",
              "      <td>CONS NAC DE DESENVOLVIMENTO CIENTIFICO E TECNO...</td>\n",
              "      <td>AF</td>\n",
              "      <td>AUXILIO FINANCEIRO</td>\n",
              "      <td>NaN</td>\n",
              "      <td>NaN</td>\n",
              "      <td>2</td>\n",
              "      <td>SUDESTE</td>\n",
              "      <td>CIÊNCIAS BIOLÓGICAS</td>\n",
              "      <td>BIOLOGIA GERAL</td>\n",
              "      <td>PRIVADA</td>\n",
              "    </tr>\n",
              "    <tr>\n",
              "      <th>1</th>\n",
              "      <td>2013</td>\n",
              "      <td>3876</td>\n",
              "      <td>30168</td>\n",
              "      <td>746097</td>\n",
              "      <td>152264</td>\n",
              "      <td>32009011001P8</td>\n",
              "      <td>CIÊNCIAS BIOLÓGICAS</td>\n",
              "      <td>2006.0</td>\n",
              "      <td>UNIVALE</td>\n",
              "      <td>UNIVERSIDADE VALE DO RIO DOCE</td>\n",
              "      <td>OUTRO AUXÍLIO FINANCEIRO</td>\n",
              "      <td>CONS NAC DE DESENVOLVIMENTO CIENTIFICO E TECNO...</td>\n",
              "      <td>AF</td>\n",
              "      <td>AUXILIO FINANCEIRO</td>\n",
              "      <td>NaN</td>\n",
              "      <td>NaN</td>\n",
              "      <td>2</td>\n",
              "      <td>SUDESTE</td>\n",
              "      <td>CIÊNCIAS BIOLÓGICAS</td>\n",
              "      <td>BIOLOGIA GERAL</td>\n",
              "      <td>PRIVADA</td>\n",
              "    </tr>\n",
              "    <tr>\n",
              "      <th>2</th>\n",
              "      <td>2013</td>\n",
              "      <td>3876</td>\n",
              "      <td>30168</td>\n",
              "      <td>746098</td>\n",
              "      <td>152251</td>\n",
              "      <td>32009011001P8</td>\n",
              "      <td>CIÊNCIAS BIOLÓGICAS</td>\n",
              "      <td>2006.0</td>\n",
              "      <td>UNIVALE</td>\n",
              "      <td>UNIVERSIDADE VALE DO RIO DOCE</td>\n",
              "      <td>OUTRO AUXÍLIO FINANCEIRO</td>\n",
              "      <td>CONS NAC DE DESENVOLVIMENTO CIENTIFICO E TECNO...</td>\n",
              "      <td>AF</td>\n",
              "      <td>AUXILIO FINANCEIRO</td>\n",
              "      <td>NaN</td>\n",
              "      <td>NaN</td>\n",
              "      <td>2</td>\n",
              "      <td>SUDESTE</td>\n",
              "      <td>CIÊNCIAS BIOLÓGICAS</td>\n",
              "      <td>BIOLOGIA GERAL</td>\n",
              "      <td>PRIVADA</td>\n",
              "    </tr>\n",
              "    <tr>\n",
              "      <th>3</th>\n",
              "      <td>2013</td>\n",
              "      <td>3876</td>\n",
              "      <td>30168</td>\n",
              "      <td>746098</td>\n",
              "      <td>152251</td>\n",
              "      <td>32009011001P8</td>\n",
              "      <td>CIÊNCIAS BIOLÓGICAS</td>\n",
              "      <td>2006.0</td>\n",
              "      <td>UNIVALE</td>\n",
              "      <td>UNIVERSIDADE VALE DO RIO DOCE</td>\n",
              "      <td>BOLSA</td>\n",
              "      <td>CONS NAC DE DESENVOLVIMENTO CIENTIFICO E TECNO...</td>\n",
              "      <td>AF</td>\n",
              "      <td>AUXILIO FINANCEIRO</td>\n",
              "      <td>NaN</td>\n",
              "      <td>NaN</td>\n",
              "      <td>2</td>\n",
              "      <td>SUDESTE</td>\n",
              "      <td>CIÊNCIAS BIOLÓGICAS</td>\n",
              "      <td>BIOLOGIA GERAL</td>\n",
              "      <td>PRIVADA</td>\n",
              "    </tr>\n",
              "    <tr>\n",
              "      <th>4</th>\n",
              "      <td>2013</td>\n",
              "      <td>3876</td>\n",
              "      <td>30168</td>\n",
              "      <td>746100</td>\n",
              "      <td>152245</td>\n",
              "      <td>32009011001P8</td>\n",
              "      <td>CIÊNCIAS BIOLÓGICAS</td>\n",
              "      <td>2006.0</td>\n",
              "      <td>UNIVALE</td>\n",
              "      <td>UNIVERSIDADE VALE DO RIO DOCE</td>\n",
              "      <td>OUTRO AUXÍLIO FINANCEIRO</td>\n",
              "      <td>CONS NAC DE DESENVOLVIMENTO CIENTIFICO E TECNO...</td>\n",
              "      <td>AF</td>\n",
              "      <td>AUXILIO FINANCEIRO</td>\n",
              "      <td>NaN</td>\n",
              "      <td>NaN</td>\n",
              "      <td>2</td>\n",
              "      <td>SUDESTE</td>\n",
              "      <td>CIÊNCIAS BIOLÓGICAS</td>\n",
              "      <td>BIOLOGIA GERAL</td>\n",
              "      <td>PRIVADA</td>\n",
              "    </tr>\n",
              "  </tbody>\n",
              "</table>\n",
              "</div>"
            ],
            "text/plain": [
              "   AN_BASE  ...  DS_DEPENDENCIA_ADMINISTRATIVA\n",
              "0     2013  ...                        PRIVADA\n",
              "1     2013  ...                        PRIVADA\n",
              "2     2013  ...                        PRIVADA\n",
              "3     2013  ...                        PRIVADA\n",
              "4     2013  ...                        PRIVADA\n",
              "\n",
              "[5 rows x 21 columns]"
            ]
          },
          "metadata": {
            "tags": []
          },
          "execution_count": 22
        }
      ]
    },
    {
      "cell_type": "code",
      "metadata": {
        "colab": {
          "base_uri": "https://localhost:8080/"
        },
        "id": "MpCKAjO_ENEa",
        "outputId": "7774035c-f0ca-4131-908f-e030ce34cb1e"
      },
      "source": [
        "df.shape"
      ],
      "execution_count": null,
      "outputs": [
        {
          "output_type": "execute_result",
          "data": {
            "text/plain": [
              "(821100, 21)"
            ]
          },
          "metadata": {
            "tags": []
          },
          "execution_count": 23
        }
      ]
    },
    {
      "cell_type": "code",
      "metadata": {
        "colab": {
          "base_uri": "https://localhost:8080/"
        },
        "id": "GviHQX_ZERo7",
        "outputId": "11a50812-476f-495c-876b-a384c72dad76"
      },
      "source": [
        "df_final.shape"
      ],
      "execution_count": null,
      "outputs": [
        {
          "output_type": "execute_result",
          "data": {
            "text/plain": [
              "(821100, 16)"
            ]
          },
          "metadata": {
            "tags": []
          },
          "execution_count": 24
        }
      ]
    },
    {
      "cell_type": "code",
      "metadata": {
        "colab": {
          "base_uri": "https://localhost:8080/"
        },
        "id": "fCIWLal78Kl_",
        "outputId": "a809bc0b-9da3-4a9b-a19f-ca6d565dd7e9"
      },
      "source": [
        "df.info()"
      ],
      "execution_count": null,
      "outputs": [
        {
          "output_type": "stream",
          "text": [
            "<class 'pandas.core.frame.DataFrame'>\n",
            "Int64Index: 821100 entries, 0 to 821099\n",
            "Data columns (total 21 columns):\n",
            " #   Column                         Non-Null Count   Dtype  \n",
            "---  ------                         --------------   -----  \n",
            " 0   AN_BASE                        821100 non-null  int64  \n",
            " 1   ID_ADD_FOTO_PROGRAMA           821100 non-null  int64  \n",
            " 2   ID_ADD_FOTO_PROGRAMA_IES       821100 non-null  int64  \n",
            " 3   ID_ADD_CONTEXTO                821100 non-null  int64  \n",
            " 4   ID_PROJETO                     821100 non-null  int64  \n",
            " 5   CD_PROGRAMA_IES                821100 non-null  object \n",
            " 6   NM_PROGRAMA_IES                821100 non-null  object \n",
            " 7   AN_INICIO_PROGRAMA             820987 non-null  float64\n",
            " 8   SG_ENTIDADE_ENSINO             821100 non-null  object \n",
            " 9   NM_ENTIDADE_ENSINO             821100 non-null  object \n",
            " 10  NM_NATUREZA_FINANCIAMENTO      821100 non-null  object \n",
            " 11  NM_FINANCIADOR                 821100 non-null  object \n",
            " 12  SG_PROGRAMA_FOMENTO            820192 non-null  object \n",
            " 13  NM_PROGRAMA_FOMENTO            820266 non-null  object \n",
            " 14  IN_FINANCIADOR_ESTRANGEIRO     281090 non-null  object \n",
            " 15  NM_PAIS_FINANCIADOR            281090 non-null  object \n",
            " 16  CD_CONCEITO_PROGRAMA           821100 non-null  object \n",
            " 17  NM_REGIAO                      821100 non-null  object \n",
            " 18  NM_GRANDE_AREA_CONHECIMENTO    821100 non-null  object \n",
            " 19  NM_AREA_CONHECIMENTO           821100 non-null  object \n",
            " 20  DS_DEPENDENCIA_ADMINISTRATIVA  821100 non-null  object \n",
            "dtypes: float64(1), int64(5), object(15)\n",
            "memory usage: 137.8+ MB\n"
          ],
          "name": "stdout"
        }
      ]
    },
    {
      "cell_type": "code",
      "metadata": {
        "colab": {
          "base_uri": "https://localhost:8080/"
        },
        "id": "aqkBiTuqpwi5",
        "outputId": "0728bc9e-1f73-4891-8a2e-3d0aa28e3bca"
      },
      "source": [
        "\n",
        "df_final.info()"
      ],
      "execution_count": null,
      "outputs": [
        {
          "output_type": "stream",
          "text": [
            "<class 'pandas.core.frame.DataFrame'>\n",
            "Int64Index: 821100 entries, 0 to 145046\n",
            "Data columns (total 16 columns):\n",
            " #   Column                      Non-Null Count   Dtype  \n",
            "---  ------                      --------------   -----  \n",
            " 0   AN_BASE                     821100 non-null  int64  \n",
            " 1   ID_ADD_FOTO_PROGRAMA        821100 non-null  int64  \n",
            " 2   ID_ADD_FOTO_PROGRAMA_IES    821100 non-null  int64  \n",
            " 3   ID_ADD_CONTEXTO             821100 non-null  int64  \n",
            " 4   ID_PROJETO                  821100 non-null  int64  \n",
            " 5   CD_PROGRAMA_IES             821100 non-null  object \n",
            " 6   NM_PROGRAMA_IES             821100 non-null  object \n",
            " 7   AN_INICIO_PROGRAMA          820987 non-null  float64\n",
            " 8   SG_ENTIDADE_ENSINO          821100 non-null  object \n",
            " 9   NM_ENTIDADE_ENSINO          821100 non-null  object \n",
            " 10  NM_NATUREZA_FINANCIAMENTO   821100 non-null  object \n",
            " 11  NM_FINANCIADOR              821100 non-null  object \n",
            " 12  SG_PROGRAMA_FOMENTO         820192 non-null  object \n",
            " 13  NM_PROGRAMA_FOMENTO         820266 non-null  object \n",
            " 14  IN_FINANCIADOR_ESTRANGEIRO  281090 non-null  object \n",
            " 15  NM_PAIS_FINANCIADOR         281090 non-null  object \n",
            "dtypes: float64(1), int64(5), object(10)\n",
            "memory usage: 106.5+ MB\n"
          ],
          "name": "stdout"
        }
      ]
    },
    {
      "cell_type": "markdown",
      "metadata": {
        "id": "LyNKiF4vqIwA"
      },
      "source": [
        ""
      ]
    },
    {
      "cell_type": "code",
      "metadata": {
        "id": "3yxXcr7qmxZc"
      },
      "source": [
        "del df['ID_ADD_FOTO_PROGRAMA']\n",
        "del df['ID_ADD_FOTO_PROGRAMA_IES']\n",
        "del df['ID_ADD_CONTEXTO']"
      ],
      "execution_count": null,
      "outputs": []
    },
    {
      "cell_type": "markdown",
      "metadata": {
        "id": "FXlxOQtGS-eK"
      },
      "source": [
        "Tem valor nulo na coluna de notas?"
      ]
    },
    {
      "cell_type": "code",
      "metadata": {
        "id": "QYD4UifAQOIJ",
        "colab": {
          "base_uri": "https://localhost:8080/"
        },
        "outputId": "6a483d40-f2ad-4306-d638-84010d64bac0"
      },
      "source": [
        "df.isnull().sum(axis = 0)"
      ],
      "execution_count": null,
      "outputs": [
        {
          "output_type": "execute_result",
          "data": {
            "text/plain": [
              "AN_BASE                               0\n",
              "ID_PROJETO                            0\n",
              "CD_PROGRAMA_IES                       0\n",
              "NM_PROGRAMA_IES                       0\n",
              "AN_INICIO_PROGRAMA                  113\n",
              "SG_ENTIDADE_ENSINO                    0\n",
              "NM_ENTIDADE_ENSINO                    0\n",
              "NM_NATUREZA_FINANCIAMENTO             0\n",
              "NM_FINANCIADOR                        0\n",
              "SG_PROGRAMA_FOMENTO                 908\n",
              "NM_PROGRAMA_FOMENTO                 834\n",
              "IN_FINANCIADOR_ESTRANGEIRO       540010\n",
              "NM_PAIS_FINANCIADOR              540010\n",
              "CD_CONCEITO_PROGRAMA                  0\n",
              "NM_REGIAO                             0\n",
              "NM_GRANDE_AREA_CONHECIMENTO           0\n",
              "NM_AREA_CONHECIMENTO                  0\n",
              "DS_DEPENDENCIA_ADMINISTRATIVA         0\n",
              "dtype: int64"
            ]
          },
          "metadata": {
            "tags": []
          },
          "execution_count": 28
        }
      ]
    },
    {
      "cell_type": "code",
      "metadata": {
        "colab": {
          "base_uri": "https://localhost:8080/",
          "height": 567
        },
        "id": "hKo40V75rGYM",
        "outputId": "a3719fce-fa90-403f-cd2c-b43cae7d5400"
      },
      "source": [
        "plt.figure(figsize=(12, 6))\n",
        "sns.heatmap(df.isnull())"
      ],
      "execution_count": null,
      "outputs": [
        {
          "output_type": "execute_result",
          "data": {
            "text/plain": [
              "<matplotlib.axes._subplots.AxesSubplot at 0x7f664043fe10>"
            ]
          },
          "metadata": {
            "tags": []
          },
          "execution_count": 29
        },
        {
          "output_type": "display_data",
          "data": {
            "image/png": "[encoded data removed]",
            "text/plain": [
              "<Figure size 864x432 with 2 Axes>"
            ]
          },
          "metadata": {
            "tags": [],
            "needs_background": "light"
          }
        }
      ]
    },
    {
      "cell_type": "code",
      "metadata": {
        "id": "pBGC3BLSuYLD",
        "colab": {
          "base_uri": "https://localhost:8080/"
        },
        "outputId": "72522bfd-da51-493e-ea23-4963c6b5b446"
      },
      "source": [
        "df['NM_PROGRAMA_FOMENTO'].value_counts()"
      ],
      "execution_count": null,
      "outputs": [
        {
          "output_type": "execute_result",
          "data": {
            "text/plain": [
              "PROGRAMA DE DEMANDA SOCIAL                                             75073\n",
              "AUXÍLIO À PESQUISA                                                     51431\n",
              "APOIO À PÓS-GRADUAÇÃO                                                  42554\n",
              "AUXÍLIO FINANCEIRO                                                     37597\n",
              "BOLSA PRODUTIVIDADE EM PESQUISA                                        31107\n",
              "                                                                       ...  \n",
              "BOLSA PESQUISA PARA ALUNOS DE STRICTO SENSU                                1\n",
              "PROGRAMA DE APOIO TECNOLÓGICO                                              1\n",
              "PRÊMIO FUNARTE DE COMPOSIÇÃO CLÁSSICA                                      1\n",
              "AUXÍLIO PESQUISA - PESQUISADOR VISITANTE - PROCESSO 15/50417-0             1\n",
              "PROMESTRE - PROGRAMA DE APOIO A ALUNOS DE PÓS-GRADUAÇÃO DA UNISINOS        1\n",
              "Name: NM_PROGRAMA_FOMENTO, Length: 4543, dtype: int64"
            ]
          },
          "metadata": {
            "tags": []
          },
          "execution_count": 30
        }
      ]
    },
    {
      "cell_type": "code",
      "metadata": {
        "colab": {
          "base_uri": "https://localhost:8080/"
        },
        "id": "Og8aTosDHuHD",
        "outputId": "aece5cee-7a85-4a32-82da-4ba168f4d842"
      },
      "source": [
        "df['CD_CONCEITO_PROGRAMA'].unique()"
      ],
      "execution_count": null,
      "outputs": [
        {
          "output_type": "execute_result",
          "data": {
            "text/plain": [
              "array([2, 3, 4, 5, 6, 7, 1, '7', '6', '5', '3', '4', '2', '1', 'A'],\n",
              "      dtype=object)"
            ]
          },
          "metadata": {
            "tags": []
          },
          "execution_count": 31
        }
      ]
    },
    {
      "cell_type": "code",
      "metadata": {
        "id": "2-wAmHZYIQgP",
        "colab": {
          "base_uri": "https://localhost:8080/"
        },
        "outputId": "54f765c9-3cf5-458e-8ef7-9e6b776eda1b"
      },
      "source": [
        "df.loc[df.CD_CONCEITO_PROGRAMA == 'A'].AN_BASE.unique()"
      ],
      "execution_count": null,
      "outputs": [
        {
          "output_type": "execute_result",
          "data": {
            "text/plain": [
              "array([2018])"
            ]
          },
          "metadata": {
            "tags": []
          },
          "execution_count": 32
        }
      ]
    },
    {
      "cell_type": "code",
      "metadata": {
        "id": "XFpAiqUKIQij",
        "colab": {
          "base_uri": "https://localhost:8080/"
        },
        "outputId": "789f4370-ea46-4887-bd79-e3acbff83f05"
      },
      "source": [
        "df = df[df['CD_CONCEITO_PROGRAMA'] != 'A']\n",
        "df['CD_CONCEITO_PROGRAMA'].unique()"
      ],
      "execution_count": null,
      "outputs": [
        {
          "output_type": "execute_result",
          "data": {
            "text/plain": [
              "array([2, 3, 4, 5, 6, 7, 1, '7', '6', '5', '3', '4', '2', '1'],\n",
              "      dtype=object)"
            ]
          },
          "metadata": {
            "tags": []
          },
          "execution_count": 33
        }
      ]
    },
    {
      "cell_type": "code",
      "metadata": {
        "id": "A10fAHIaJdOx"
      },
      "source": [
        "df.CD_CONCEITO_PROGRAMA = df.CD_CONCEITO_PROGRAMA.astype('int64')"
      ],
      "execution_count": null,
      "outputs": []
    },
    {
      "cell_type": "code",
      "metadata": {
        "colab": {
          "base_uri": "https://localhost:8080/"
        },
        "id": "D4uKzmeCN9E8",
        "outputId": "36460b71-63c8-42ad-829b-253c6ce81369"
      },
      "source": [
        "df['DS_DEPENDENCIA_ADMINISTRATIVA']"
      ],
      "execution_count": null,
      "outputs": [
        {
          "output_type": "execute_result",
          "data": {
            "text/plain": [
              "0         PRIVADA\n",
              "1         PRIVADA\n",
              "2         PRIVADA\n",
              "3         PRIVADA\n",
              "4         PRIVADA\n",
              "           ...   \n",
              "821095    PÚBLICO\n",
              "821096    PÚBLICO\n",
              "821097    PÚBLICO\n",
              "821098    PÚBLICO\n",
              "821099    PÚBLICO\n",
              "Name: DS_DEPENDENCIA_ADMINISTRATIVA, Length: 821098, dtype: object"
            ]
          },
          "metadata": {
            "tags": []
          },
          "execution_count": 35
        }
      ]
    },
    {
      "cell_type": "code",
      "metadata": {
        "id": "uOXQEhhHGYk-"
      },
      "source": [
        "df.loc[df['DS_DEPENDENCIA_ADMINISTRATIVA'] == 'PÚBLICA', 'DS_DEPENDENCIA_ADMINISTRATIVA'] = 1\n",
        "\n",
        "df.loc[df['DS_DEPENDENCIA_ADMINISTRATIVA'] == 'PÚBLICO', 'DS_DEPENDENCIA_ADMINISTRATIVA'] = 1\n",
        "\n",
        "df.loc[df['DS_DEPENDENCIA_ADMINISTRATIVA'] == 'PRIVADA', 'DS_DEPENDENCIA_ADMINISTRATIVA'] = 0\n",
        "\n",
        "df.loc[df['DS_DEPENDENCIA_ADMINISTRATIVA'] == 'PRIVADO', 'DS_DEPENDENCIA_ADMINISTRATIVA'] = 0"
      ],
      "execution_count": null,
      "outputs": []
    },
    {
      "cell_type": "code",
      "metadata": {
        "colab": {
          "base_uri": "https://localhost:8080/"
        },
        "id": "mkAVObct6nQK",
        "outputId": "79c3dba2-1d50-4b7d-840c-9fb3aa6d2f57"
      },
      "source": [
        "df['DS_DEPENDENCIA_ADMINISTRATIVA']"
      ],
      "execution_count": null,
      "outputs": [
        {
          "output_type": "execute_result",
          "data": {
            "text/plain": [
              "0         0\n",
              "1         0\n",
              "2         0\n",
              "3         0\n",
              "4         0\n",
              "         ..\n",
              "821095    1\n",
              "821096    1\n",
              "821097    1\n",
              "821098    1\n",
              "821099    1\n",
              "Name: DS_DEPENDENCIA_ADMINISTRATIVA, Length: 821098, dtype: object"
            ]
          },
          "metadata": {
            "tags": []
          },
          "execution_count": 37
        }
      ]
    },
    {
      "cell_type": "code",
      "metadata": {
        "id": "q7f3vjEsC7B9",
        "colab": {
          "base_uri": "https://localhost:8080/"
        },
        "outputId": "bacf59f3-c8ec-4c41-b7f1-cc0bca84c248"
      },
      "source": [
        "df['ID_PROJETO'].sort_values(ascending=False)"
      ],
      "execution_count": null,
      "outputs": [
        {
          "output_type": "execute_result",
          "data": {
            "text/plain": [
              "744990    534214\n",
              "780816    534207\n",
              "726037    534203\n",
              "767039    534191\n",
              "780822    534189\n",
              "           ...  \n",
              "17284      77470\n",
              "678808     77470\n",
              "150307     77470\n",
              "549441     77470\n",
              "481230     77470\n",
              "Name: ID_PROJETO, Length: 821098, dtype: int64"
            ]
          },
          "metadata": {
            "tags": []
          },
          "execution_count": 38
        }
      ]
    },
    {
      "cell_type": "markdown",
      "metadata": {
        "id": "pu-JIOgVUt8Y"
      },
      "source": [
        "## Aqui começam as Ideias\n",
        "\n"
      ]
    },
    {
      "cell_type": "code",
      "metadata": {
        "id": "RX8O_HH8Y2mM"
      },
      "source": [
        "financiadores_por_universidade = ['NM_FINANCIADOR', 'SG_ENTIDADE_ENSINO']"
      ],
      "execution_count": null,
      "outputs": []
    },
    {
      "cell_type": "code",
      "metadata": {
        "id": "70Fbk4W4aBQA"
      },
      "source": [
        "dadosFinanciadoresUniversidade = df.filter(items = financiadores_por_universidade)"
      ],
      "execution_count": null,
      "outputs": []
    },
    {
      "cell_type": "code",
      "metadata": {
        "id": "nXJaht_VaWp9",
        "colab": {
          "base_uri": "https://localhost:8080/"
        },
        "outputId": "c5d68a0f-8397-4ed9-9667-bcf6024beb30"
      },
      "source": [
        "dadosFinanciadoresUniversidade.head()"
      ],
      "execution_count": null,
      "outputs": [
        {
          "output_type": "execute_result",
          "data": {
            "text/html": [
              "<div>\n",
              "<style scoped>\n",
              "    .dataframe tbody tr th:only-of-type {\n",
              "        vertical-align: middle;\n",
              "    }\n",
              "\n",
              "    .dataframe tbody tr th {\n",
              "        vertical-align: top;\n",
              "    }\n",
              "\n",
              "    .dataframe thead th {\n",
              "        text-align: right;\n",
              "    }\n",
              "</style>\n",
              "<table border=\"1\" class=\"dataframe\">\n",
              "  <thead>\n",
              "    <tr style=\"text-align: right;\">\n",
              "      <th></th>\n",
              "      <th>NM_FINANCIADOR</th>\n",
              "      <th>SG_ENTIDADE_ENSINO</th>\n",
              "    </tr>\n",
              "  </thead>\n",
              "  <tbody>\n",
              "    <tr>\n",
              "      <th>0</th>\n",
              "      <td>CONS NAC DE DESENVOLVIMENTO CIENTIFICO E TECNO...</td>\n",
              "      <td>UNIVALE</td>\n",
              "    </tr>\n",
              "    <tr>\n",
              "      <th>1</th>\n",
              "      <td>CONS NAC DE DESENVOLVIMENTO CIENTIFICO E TECNO...</td>\n",
              "      <td>UNIVALE</td>\n",
              "    </tr>\n",
              "    <tr>\n",
              "      <th>2</th>\n",
              "      <td>CONS NAC DE DESENVOLVIMENTO CIENTIFICO E TECNO...</td>\n",
              "      <td>UNIVALE</td>\n",
              "    </tr>\n",
              "    <tr>\n",
              "      <th>3</th>\n",
              "      <td>CONS NAC DE DESENVOLVIMENTO CIENTIFICO E TECNO...</td>\n",
              "      <td>UNIVALE</td>\n",
              "    </tr>\n",
              "    <tr>\n",
              "      <th>4</th>\n",
              "      <td>CONS NAC DE DESENVOLVIMENTO CIENTIFICO E TECNO...</td>\n",
              "      <td>UNIVALE</td>\n",
              "    </tr>\n",
              "  </tbody>\n",
              "</table>\n",
              "</div>"
            ],
            "text/plain": [
              "                                      NM_FINANCIADOR SG_ENTIDADE_ENSINO\n",
              "0  CONS NAC DE DESENVOLVIMENTO CIENTIFICO E TECNO...            UNIVALE\n",
              "1  CONS NAC DE DESENVOLVIMENTO CIENTIFICO E TECNO...            UNIVALE\n",
              "2  CONS NAC DE DESENVOLVIMENTO CIENTIFICO E TECNO...            UNIVALE\n",
              "3  CONS NAC DE DESENVOLVIMENTO CIENTIFICO E TECNO...            UNIVALE\n",
              "4  CONS NAC DE DESENVOLVIMENTO CIENTIFICO E TECNO...            UNIVALE"
            ]
          },
          "metadata": {
            "tags": []
          },
          "execution_count": 41
        }
      ]
    },
    {
      "cell_type": "markdown",
      "metadata": {
        "id": "qYxnITmN0GLm"
      },
      "source": [
        "Número de Financiamentos por Universidade"
      ]
    },
    {
      "cell_type": "code",
      "metadata": {
        "id": "juXTdnz9adxg",
        "colab": {
          "base_uri": "https://localhost:8080/"
        },
        "outputId": "7307a3a1-4365-47ec-b097-1e49f42a6662"
      },
      "source": [
        "dadosFinanciadoresUniversidade.groupby('SG_ENTIDADE_ENSINO').count().sort_values(by= ['NM_FINANCIADOR'], ascending = False)"
      ],
      "execution_count": null,
      "outputs": [
        {
          "output_type": "execute_result",
          "data": {
            "text/html": [
              "<div>\n",
              "<style scoped>\n",
              "    .dataframe tbody tr th:only-of-type {\n",
              "        vertical-align: middle;\n",
              "    }\n",
              "\n",
              "    .dataframe tbody tr th {\n",
              "        vertical-align: top;\n",
              "    }\n",
              "\n",
              "    .dataframe thead th {\n",
              "        text-align: right;\n",
              "    }\n",
              "</style>\n",
              "<table border=\"1\" class=\"dataframe\">\n",
              "  <thead>\n",
              "    <tr style=\"text-align: right;\">\n",
              "      <th></th>\n",
              "      <th>NM_FINANCIADOR</th>\n",
              "    </tr>\n",
              "    <tr>\n",
              "      <th>SG_ENTIDADE_ENSINO</th>\n",
              "      <th></th>\n",
              "    </tr>\n",
              "  </thead>\n",
              "  <tbody>\n",
              "    <tr>\n",
              "      <th>USP</th>\n",
              "      <td>53925</td>\n",
              "    </tr>\n",
              "    <tr>\n",
              "      <th>UFRJ</th>\n",
              "      <td>35665</td>\n",
              "    </tr>\n",
              "    <tr>\n",
              "      <th>UFMG</th>\n",
              "      <td>30049</td>\n",
              "    </tr>\n",
              "    <tr>\n",
              "      <th>UFRGS</th>\n",
              "      <td>28954</td>\n",
              "    </tr>\n",
              "    <tr>\n",
              "      <th>UNICAMP</th>\n",
              "      <td>21934</td>\n",
              "    </tr>\n",
              "    <tr>\n",
              "      <th>...</th>\n",
              "      <td>...</td>\n",
              "    </tr>\n",
              "    <tr>\n",
              "      <th>UNIANDRADE</th>\n",
              "      <td>2</td>\n",
              "    </tr>\n",
              "    <tr>\n",
              "      <th>FVC</th>\n",
              "      <td>1</td>\n",
              "    </tr>\n",
              "    <tr>\n",
              "      <th>FBV</th>\n",
              "      <td>1</td>\n",
              "    </tr>\n",
              "    <tr>\n",
              "      <th>UNIFBV-WYDEN</th>\n",
              "      <td>1</td>\n",
              "    </tr>\n",
              "    <tr>\n",
              "      <th>IFTM</th>\n",
              "      <td>1</td>\n",
              "    </tr>\n",
              "  </tbody>\n",
              "</table>\n",
              "<p>441 rows × 1 columns</p>\n",
              "</div>"
            ],
            "text/plain": [
              "                    NM_FINANCIADOR\n",
              "SG_ENTIDADE_ENSINO                \n",
              "USP                          53925\n",
              "UFRJ                         35665\n",
              "UFMG                         30049\n",
              "UFRGS                        28954\n",
              "UNICAMP                      21934\n",
              "...                            ...\n",
              "UNIANDRADE                       2\n",
              "FVC                              1\n",
              "FBV                              1\n",
              "UNIFBV-WYDEN                     1\n",
              "IFTM                             1\n",
              "\n",
              "[441 rows x 1 columns]"
            ]
          },
          "metadata": {
            "tags": []
          },
          "execution_count": 42
        }
      ]
    },
    {
      "cell_type": "code",
      "metadata": {
        "id": "7BgwhfkUa73a"
      },
      "source": [
        "projetos_por_universidade = ['NM_FINANCIADOR', 'SG_ENTIDADE_ENSINO']"
      ],
      "execution_count": null,
      "outputs": []
    },
    {
      "cell_type": "code",
      "metadata": {
        "id": "aKj76j6x1Vud"
      },
      "source": [
        "df_x = dadosProjetosUniversidade = df_final.filter(projetos_por_universidade)"
      ],
      "execution_count": null,
      "outputs": []
    },
    {
      "cell_type": "code",
      "metadata": {
        "id": "vfd3NFFB4ci6",
        "colab": {
          "base_uri": "https://localhost:8080/"
        },
        "outputId": "68a06f30-b850-4621-d891-6005b76fb4f6"
      },
      "source": [
        "dadosProjetosUniversidade.head(1)"
      ],
      "execution_count": null,
      "outputs": [
        {
          "output_type": "execute_result",
          "data": {
            "text/html": [
              "<div>\n",
              "<style scoped>\n",
              "    .dataframe tbody tr th:only-of-type {\n",
              "        vertical-align: middle;\n",
              "    }\n",
              "\n",
              "    .dataframe tbody tr th {\n",
              "        vertical-align: top;\n",
              "    }\n",
              "\n",
              "    .dataframe thead th {\n",
              "        text-align: right;\n",
              "    }\n",
              "</style>\n",
              "<table border=\"1\" class=\"dataframe\">\n",
              "  <thead>\n",
              "    <tr style=\"text-align: right;\">\n",
              "      <th></th>\n",
              "      <th>NM_FINANCIADOR</th>\n",
              "      <th>SG_ENTIDADE_ENSINO</th>\n",
              "    </tr>\n",
              "  </thead>\n",
              "  <tbody>\n",
              "    <tr>\n",
              "      <th>0</th>\n",
              "      <td>CONS NAC DE DESENVOLVIMENTO CIENTIFICO E TECNO...</td>\n",
              "      <td>UNIVALE</td>\n",
              "    </tr>\n",
              "  </tbody>\n",
              "</table>\n",
              "</div>"
            ],
            "text/plain": [
              "                                      NM_FINANCIADOR SG_ENTIDADE_ENSINO\n",
              "0  CONS NAC DE DESENVOLVIMENTO CIENTIFICO E TECNO...            UNIVALE"
            ]
          },
          "metadata": {
            "tags": []
          },
          "execution_count": 45
        }
      ]
    },
    {
      "cell_type": "code",
      "metadata": {
        "id": "3dH6tJ8w4g_K",
        "colab": {
          "base_uri": "https://localhost:8080/"
        },
        "outputId": "56999794-2c9a-4c85-978f-ebba05d1ab4b"
      },
      "source": [
        "dadosProjetosUniversidade.groupby('SG_ENTIDADE_ENSINO').count().sort_values(by = 'NM_FINANCIADOR', ascending = False)"
      ],
      "execution_count": null,
      "outputs": [
        {
          "output_type": "execute_result",
          "data": {
            "text/html": [
              "<div>\n",
              "<style scoped>\n",
              "    .dataframe tbody tr th:only-of-type {\n",
              "        vertical-align: middle;\n",
              "    }\n",
              "\n",
              "    .dataframe tbody tr th {\n",
              "        vertical-align: top;\n",
              "    }\n",
              "\n",
              "    .dataframe thead th {\n",
              "        text-align: right;\n",
              "    }\n",
              "</style>\n",
              "<table border=\"1\" class=\"dataframe\">\n",
              "  <thead>\n",
              "    <tr style=\"text-align: right;\">\n",
              "      <th></th>\n",
              "      <th>NM_FINANCIADOR</th>\n",
              "    </tr>\n",
              "    <tr>\n",
              "      <th>SG_ENTIDADE_ENSINO</th>\n",
              "      <th></th>\n",
              "    </tr>\n",
              "  </thead>\n",
              "  <tbody>\n",
              "    <tr>\n",
              "      <th>USP</th>\n",
              "      <td>53925</td>\n",
              "    </tr>\n",
              "    <tr>\n",
              "      <th>UFRJ</th>\n",
              "      <td>35665</td>\n",
              "    </tr>\n",
              "    <tr>\n",
              "      <th>UFMG</th>\n",
              "      <td>30049</td>\n",
              "    </tr>\n",
              "    <tr>\n",
              "      <th>UFRGS</th>\n",
              "      <td>28954</td>\n",
              "    </tr>\n",
              "    <tr>\n",
              "      <th>UNICAMP</th>\n",
              "      <td>21934</td>\n",
              "    </tr>\n",
              "    <tr>\n",
              "      <th>...</th>\n",
              "      <td>...</td>\n",
              "    </tr>\n",
              "    <tr>\n",
              "      <th>UNIANDRADE</th>\n",
              "      <td>2</td>\n",
              "    </tr>\n",
              "    <tr>\n",
              "      <th>FVC</th>\n",
              "      <td>1</td>\n",
              "    </tr>\n",
              "    <tr>\n",
              "      <th>FBV</th>\n",
              "      <td>1</td>\n",
              "    </tr>\n",
              "    <tr>\n",
              "      <th>UNIFBV-WYDEN</th>\n",
              "      <td>1</td>\n",
              "    </tr>\n",
              "    <tr>\n",
              "      <th>IFTM</th>\n",
              "      <td>1</td>\n",
              "    </tr>\n",
              "  </tbody>\n",
              "</table>\n",
              "<p>441 rows × 1 columns</p>\n",
              "</div>"
            ],
            "text/plain": [
              "                    NM_FINANCIADOR\n",
              "SG_ENTIDADE_ENSINO                \n",
              "USP                          53925\n",
              "UFRJ                         35665\n",
              "UFMG                         30049\n",
              "UFRGS                        28954\n",
              "UNICAMP                      21934\n",
              "...                            ...\n",
              "UNIANDRADE                       2\n",
              "FVC                              1\n",
              "FBV                              1\n",
              "UNIFBV-WYDEN                     1\n",
              "IFTM                             1\n",
              "\n",
              "[441 rows x 1 columns]"
            ]
          },
          "metadata": {
            "tags": []
          },
          "execution_count": 46
        }
      ]
    },
    {
      "cell_type": "code",
      "metadata": {
        "id": "UMGPZ1jF45rC"
      },
      "source": [
        "nota_ano = ['CD_PROGRAMA_IES', 'AN_BASE', 'CD_CONCEITO_PROGRAMA']"
      ],
      "execution_count": null,
      "outputs": []
    },
    {
      "cell_type": "code",
      "metadata": {
        "id": "Pfa-zwL5nzqB"
      },
      "source": [
        "nota_por_ano = df_final.filter(items=nota_ano)"
      ],
      "execution_count": null,
      "outputs": []
    },
    {
      "cell_type": "code",
      "metadata": {
        "id": "MLOaACpSoPtP",
        "colab": {
          "base_uri": "https://localhost:8080/"
        },
        "outputId": "cef7e4ac-29e6-4e83-961d-1e0e08357a28"
      },
      "source": [
        "nota_por_ano.head()"
      ],
      "execution_count": null,
      "outputs": [
        {
          "output_type": "execute_result",
          "data": {
            "text/html": [
              "<div>\n",
              "<style scoped>\n",
              "    .dataframe tbody tr th:only-of-type {\n",
              "        vertical-align: middle;\n",
              "    }\n",
              "\n",
              "    .dataframe tbody tr th {\n",
              "        vertical-align: top;\n",
              "    }\n",
              "\n",
              "    .dataframe thead th {\n",
              "        text-align: right;\n",
              "    }\n",
              "</style>\n",
              "<table border=\"1\" class=\"dataframe\">\n",
              "  <thead>\n",
              "    <tr style=\"text-align: right;\">\n",
              "      <th></th>\n",
              "      <th>CD_PROGRAMA_IES</th>\n",
              "      <th>AN_BASE</th>\n",
              "    </tr>\n",
              "  </thead>\n",
              "  <tbody>\n",
              "    <tr>\n",
              "      <th>0</th>\n",
              "      <td>32009011001P8</td>\n",
              "      <td>2013</td>\n",
              "    </tr>\n",
              "    <tr>\n",
              "      <th>1</th>\n",
              "      <td>32009011001P8</td>\n",
              "      <td>2013</td>\n",
              "    </tr>\n",
              "    <tr>\n",
              "      <th>2</th>\n",
              "      <td>32009011001P8</td>\n",
              "      <td>2013</td>\n",
              "    </tr>\n",
              "    <tr>\n",
              "      <th>3</th>\n",
              "      <td>32009011001P8</td>\n",
              "      <td>2013</td>\n",
              "    </tr>\n",
              "    <tr>\n",
              "      <th>4</th>\n",
              "      <td>32009011001P8</td>\n",
              "      <td>2013</td>\n",
              "    </tr>\n",
              "  </tbody>\n",
              "</table>\n",
              "</div>"
            ],
            "text/plain": [
              "  CD_PROGRAMA_IES  AN_BASE\n",
              "0   32009011001P8     2013\n",
              "1   32009011001P8     2013\n",
              "2   32009011001P8     2013\n",
              "3   32009011001P8     2013\n",
              "4   32009011001P8     2013"
            ]
          },
          "metadata": {
            "tags": []
          },
          "execution_count": 49
        }
      ]
    },
    {
      "cell_type": "code",
      "metadata": {
        "id": "t_Yr9Qz6oTwx",
        "colab": {
          "base_uri": "https://localhost:8080/"
        },
        "outputId": "2bb01fc1-5985-42d8-fb3c-6e04e9614179"
      },
      "source": [
        "plt.figure(figsize=(12,6))\n",
        "plt.title('NOTAS x ANO')\n",
        "sns.countplot(x='AN_BASE', data=df, hue='CD_CONCEITO_PROGRAMA')\n",
        "plt.ylabel=('Número de Notas')\n",
        "plt.xlabel=('Ano')"
      ],
      "execution_count": null,
      "outputs": [
        {
          "output_type": "display_data",
          "data": {
            "image/png": "[encoded data removed]",
            "text/plain": [
              "<Figure size 864x432 with 1 Axes>"
            ]
          },
          "metadata": {
            "tags": [],
            "needs_background": "light"
          }
        }
      ]
    },
    {
      "cell_type": "markdown",
      "metadata": {
        "id": "qVymgVWwrjfF"
      },
      "source": [
        "QUANTIDADE DE FINANCIADORES DE PROJETO POR ANO"
      ]
    },
    {
      "cell_type": "code",
      "metadata": {
        "id": "XmxLK21cpjh3",
        "colab": {
          "base_uri": "https://localhost:8080/"
        },
        "outputId": "0354659a-8ac7-4955-9d63-ed44c6555dbc"
      },
      "source": [
        "\n",
        "plt.title('Quantidade de Financiamentos por ano')\n",
        "sns.countplot(x='AN_BASE', data = df)"
      ],
      "execution_count": null,
      "outputs": [
        {
          "output_type": "execute_result",
          "data": {
            "text/plain": [
              "<matplotlib.axes._subplots.AxesSubplot at 0x7f66200d3dd0>"
            ]
          },
          "metadata": {
            "tags": []
          },
          "execution_count": 51
        },
        {
          "output_type": "display_data",
          "data": {
            "image/png": "[encoded data removed]",
            "text/plain": [
              "<Figure size 432x288 with 1 Axes>"
            ]
          },
          "metadata": {
            "tags": [],
            "needs_background": "light"
          }
        }
      ]
    },
    {
      "cell_type": "code",
      "metadata": {
        "id": "QFuZ8j4Is0oq"
      },
      "source": [
        "financiamento_ano = ['CD_PROGRAMA_IES', 'AN_BASE']"
      ],
      "execution_count": null,
      "outputs": []
    },
    {
      "cell_type": "code",
      "metadata": {
        "id": "gqE55dSwtBTM"
      },
      "source": [
        "financiamento_por_ano = df.filter(items=financiamento_ano)"
      ],
      "execution_count": null,
      "outputs": []
    },
    {
      "cell_type": "code",
      "metadata": {
        "id": "BhYhddWetBVY",
        "colab": {
          "base_uri": "https://localhost:8080/"
        },
        "outputId": "d7c248e3-1451-471f-e5ee-384c88653355"
      },
      "source": [
        "financiamento_por_ano.groupby('AN_BASE').count().sort_values(by = 'CD_PROGRAMA_IES', ascending=False)"
      ],
      "execution_count": null,
      "outputs": [
        {
          "output_type": "execute_result",
          "data": {
            "text/html": [
              "<div>\n",
              "<style scoped>\n",
              "    .dataframe tbody tr th:only-of-type {\n",
              "        vertical-align: middle;\n",
              "    }\n",
              "\n",
              "    .dataframe tbody tr th {\n",
              "        vertical-align: top;\n",
              "    }\n",
              "\n",
              "    .dataframe thead th {\n",
              "        text-align: right;\n",
              "    }\n",
              "</style>\n",
              "<table border=\"1\" class=\"dataframe\">\n",
              "  <thead>\n",
              "    <tr style=\"text-align: right;\">\n",
              "      <th></th>\n",
              "      <th>CD_PROGRAMA_IES</th>\n",
              "    </tr>\n",
              "    <tr>\n",
              "      <th>AN_BASE</th>\n",
              "      <th></th>\n",
              "    </tr>\n",
              "  </thead>\n",
              "  <tbody>\n",
              "    <tr>\n",
              "      <th>2018</th>\n",
              "      <td>145045</td>\n",
              "    </tr>\n",
              "    <tr>\n",
              "      <th>2014</th>\n",
              "      <td>138879</td>\n",
              "    </tr>\n",
              "    <tr>\n",
              "      <th>2017</th>\n",
              "      <td>136043</td>\n",
              "    </tr>\n",
              "    <tr>\n",
              "      <th>2015</th>\n",
              "      <td>135484</td>\n",
              "    </tr>\n",
              "    <tr>\n",
              "      <th>2016</th>\n",
              "      <td>134968</td>\n",
              "    </tr>\n",
              "    <tr>\n",
              "      <th>2013</th>\n",
              "      <td>130679</td>\n",
              "    </tr>\n",
              "  </tbody>\n",
              "</table>\n",
              "</div>"
            ],
            "text/plain": [
              "         CD_PROGRAMA_IES\n",
              "AN_BASE                 \n",
              "2018              145045\n",
              "2014              138879\n",
              "2017              136043\n",
              "2015              135484\n",
              "2016              134968\n",
              "2013              130679"
            ]
          },
          "metadata": {
            "tags": []
          },
          "execution_count": 54
        }
      ]
    },
    {
      "cell_type": "markdown",
      "metadata": {
        "id": "QAVfbTsFrRrV"
      },
      "source": [
        "QUANTIDADE DE FINANCIADORES DE PROJETO POR REGIÃO\n"
      ]
    },
    {
      "cell_type": "code",
      "metadata": {
        "id": "lf1Wrn4PyZeM",
        "colab": {
          "base_uri": "https://localhost:8080/"
        },
        "outputId": "759c917c-08d6-4e91-f2f4-25315585f268"
      },
      "source": [
        "plt.title('Quantidade de Financiamentos por Região')\n",
        "sns.countplot(x='NM_REGIAO', order = ['SUDESTE', 'SUL', 'NORDESTE', 'CENTRO-OESTE', 'NORTE'] , data = df)"
      ],
      "execution_count": null,
      "outputs": [
        {
          "output_type": "execute_result",
          "data": {
            "text/plain": [
              "<matplotlib.axes._subplots.AxesSubplot at 0x7f6620149b10>"
            ]
          },
          "metadata": {
            "tags": []
          },
          "execution_count": 55
        },
        {
          "output_type": "display_data",
          "data": {
            "image/png": "[encoded data removed]",
            "text/plain": [
              "<Figure size 432x288 with 1 Axes>"
            ]
          },
          "metadata": {
            "tags": [],
            "needs_background": "light"
          }
        }
      ]
    },
    {
      "cell_type": "code",
      "metadata": {
        "id": "x9BcMcKMwUN1"
      },
      "source": [
        "financiamento_regiao = ['CD_PROGRAMA_IES', 'NM_REGIAO']"
      ],
      "execution_count": null,
      "outputs": []
    },
    {
      "cell_type": "code",
      "metadata": {
        "id": "E2DQ0za8p1Cc"
      },
      "source": [
        "financiamento_por_regiao = df.filter(items=financiamento_regiao)"
      ],
      "execution_count": null,
      "outputs": []
    },
    {
      "cell_type": "code",
      "metadata": {
        "id": "BPtEq-_rqF71",
        "colab": {
          "base_uri": "https://localhost:8080/"
        },
        "outputId": "c49ec95d-d1bf-49b9-e482-ee1607fd8adc"
      },
      "source": [
        "financiamento_por_regiao.groupby('NM_REGIAO').count().sort_values(by = 'CD_PROGRAMA_IES', ascending=False)"
      ],
      "execution_count": null,
      "outputs": [
        {
          "output_type": "execute_result",
          "data": {
            "text/html": [
              "<div>\n",
              "<style scoped>\n",
              "    .dataframe tbody tr th:only-of-type {\n",
              "        vertical-align: middle;\n",
              "    }\n",
              "\n",
              "    .dataframe tbody tr th {\n",
              "        vertical-align: top;\n",
              "    }\n",
              "\n",
              "    .dataframe thead th {\n",
              "        text-align: right;\n",
              "    }\n",
              "</style>\n",
              "<table border=\"1\" class=\"dataframe\">\n",
              "  <thead>\n",
              "    <tr style=\"text-align: right;\">\n",
              "      <th></th>\n",
              "      <th>CD_PROGRAMA_IES</th>\n",
              "    </tr>\n",
              "    <tr>\n",
              "      <th>NM_REGIAO</th>\n",
              "      <th></th>\n",
              "    </tr>\n",
              "  </thead>\n",
              "  <tbody>\n",
              "    <tr>\n",
              "      <th>SUDESTE</th>\n",
              "      <td>439059</td>\n",
              "    </tr>\n",
              "    <tr>\n",
              "      <th>SUL</th>\n",
              "      <td>170113</td>\n",
              "    </tr>\n",
              "    <tr>\n",
              "      <th>NORDESTE</th>\n",
              "      <td>132552</td>\n",
              "    </tr>\n",
              "    <tr>\n",
              "      <th>CENTRO-OESTE</th>\n",
              "      <td>49822</td>\n",
              "    </tr>\n",
              "    <tr>\n",
              "      <th>NORTE</th>\n",
              "      <td>29552</td>\n",
              "    </tr>\n",
              "  </tbody>\n",
              "</table>\n",
              "</div>"
            ],
            "text/plain": [
              "              CD_PROGRAMA_IES\n",
              "NM_REGIAO                    \n",
              "SUDESTE                439059\n",
              "SUL                    170113\n",
              "NORDESTE               132552\n",
              "CENTRO-OESTE            49822\n",
              "NORTE                   29552"
            ]
          },
          "metadata": {
            "tags": []
          },
          "execution_count": 58
        }
      ]
    },
    {
      "cell_type": "markdown",
      "metadata": {
        "id": "nATNCxcouWcE"
      },
      "source": [
        "QUANTIDADE DE FINANCIADORES DE PROJETOS POR GRANDE ÁREA DE CONHECIMENTO"
      ]
    },
    {
      "cell_type": "code",
      "metadata": {
        "id": "bY5PpIPF3RKI",
        "colab": {
          "base_uri": "https://localhost:8080/"
        },
        "outputId": "16971163-4c44-4820-cec9-80ad76e7aed6"
      },
      "source": [
        "plt.title('Quantidade de Financiamentos por Área de Conhecimento')\n",
        "sns.countplot(y='NM_GRANDE_AREA_CONHECIMENTO' , data = df)"
      ],
      "execution_count": null,
      "outputs": [
        {
          "output_type": "execute_result",
          "data": {
            "text/plain": [
              "<matplotlib.axes._subplots.AxesSubplot at 0x7f6629a88850>"
            ]
          },
          "metadata": {
            "tags": []
          },
          "execution_count": 59
        },
        {
          "output_type": "display_data",
          "data": {
            "image/png": "[encoded data removed]",
            "text/plain": [
              "<Figure size 432x288 with 1 Axes>"
            ]
          },
          "metadata": {
            "tags": [],
            "needs_background": "light"
          }
        }
      ]
    },
    {
      "cell_type": "code",
      "metadata": {
        "id": "edhkxxLMqk6d"
      },
      "source": [
        "financiamento_grande_area_conhecimento = ['CD_PROGRAMA_IES', 'NM_GRANDE_AREA_CONHECIMENTO']"
      ],
      "execution_count": null,
      "outputs": []
    },
    {
      "cell_type": "code",
      "metadata": {
        "id": "G9oocJ9MuU7X"
      },
      "source": [
        "financiamento_por_grande_area_conhecimento = df.filter(financiamento_grande_area_conhecimento)"
      ],
      "execution_count": null,
      "outputs": []
    },
    {
      "cell_type": "code",
      "metadata": {
        "id": "ZlFiQVQgu2Mm",
        "colab": {
          "base_uri": "https://localhost:8080/"
        },
        "outputId": "2d6a61b1-6601-4aac-bab5-9b2113a5eaf9"
      },
      "source": [
        "financiamento_por_grande_area_conhecimento.groupby('NM_GRANDE_AREA_CONHECIMENTO').count().sort_values(by = 'CD_PROGRAMA_IES', ascending=False)"
      ],
      "execution_count": null,
      "outputs": [
        {
          "output_type": "execute_result",
          "data": {
            "text/html": [
              "<div>\n",
              "<style scoped>\n",
              "    .dataframe tbody tr th:only-of-type {\n",
              "        vertical-align: middle;\n",
              "    }\n",
              "\n",
              "    .dataframe tbody tr th {\n",
              "        vertical-align: top;\n",
              "    }\n",
              "\n",
              "    .dataframe thead th {\n",
              "        text-align: right;\n",
              "    }\n",
              "</style>\n",
              "<table border=\"1\" class=\"dataframe\">\n",
              "  <thead>\n",
              "    <tr style=\"text-align: right;\">\n",
              "      <th></th>\n",
              "      <th>CD_PROGRAMA_IES</th>\n",
              "    </tr>\n",
              "    <tr>\n",
              "      <th>NM_GRANDE_AREA_CONHECIMENTO</th>\n",
              "      <th></th>\n",
              "    </tr>\n",
              "  </thead>\n",
              "  <tbody>\n",
              "    <tr>\n",
              "      <th>CIÊNCIAS DA SAÚDE</th>\n",
              "      <td>167446</td>\n",
              "    </tr>\n",
              "    <tr>\n",
              "      <th>CIÊNCIAS AGRÁRIAS</th>\n",
              "      <td>116532</td>\n",
              "    </tr>\n",
              "    <tr>\n",
              "      <th>ENGENHARIAS</th>\n",
              "      <td>105874</td>\n",
              "    </tr>\n",
              "    <tr>\n",
              "      <th>CIÊNCIAS BIOLÓGICAS</th>\n",
              "      <td>102938</td>\n",
              "    </tr>\n",
              "    <tr>\n",
              "      <th>CIÊNCIAS HUMANAS</th>\n",
              "      <td>88912</td>\n",
              "    </tr>\n",
              "    <tr>\n",
              "      <th>MULTIDISCIPLINAR</th>\n",
              "      <td>83816</td>\n",
              "    </tr>\n",
              "    <tr>\n",
              "      <th>CIÊNCIAS EXATAS E DA TERRA</th>\n",
              "      <td>78389</td>\n",
              "    </tr>\n",
              "    <tr>\n",
              "      <th>CIÊNCIAS SOCIAIS APLICADAS</th>\n",
              "      <td>54205</td>\n",
              "    </tr>\n",
              "    <tr>\n",
              "      <th>LINGÜÍSTICA, LETRAS E ARTES</th>\n",
              "      <td>22986</td>\n",
              "    </tr>\n",
              "  </tbody>\n",
              "</table>\n",
              "</div>"
            ],
            "text/plain": [
              "                             CD_PROGRAMA_IES\n",
              "NM_GRANDE_AREA_CONHECIMENTO                 \n",
              "CIÊNCIAS DA SAÚDE                     167446\n",
              "CIÊNCIAS AGRÁRIAS                     116532\n",
              "ENGENHARIAS                           105874\n",
              "CIÊNCIAS BIOLÓGICAS                   102938\n",
              "CIÊNCIAS HUMANAS                       88912\n",
              "MULTIDISCIPLINAR                       83816\n",
              "CIÊNCIAS EXATAS E DA TERRA             78389\n",
              "CIÊNCIAS SOCIAIS APLICADAS             54205\n",
              "LINGÜÍSTICA, LETRAS E ARTES            22986"
            ]
          },
          "metadata": {
            "tags": []
          },
          "execution_count": 62
        }
      ]
    },
    {
      "cell_type": "markdown",
      "metadata": {
        "id": "YC8E8_tSw5js"
      },
      "source": [
        "QUANTIDADE DE FINANCIADORES DE PROJETO POR ÁREA DE CONHECIMENTO"
      ]
    },
    {
      "cell_type": "code",
      "metadata": {
        "id": "Rss2m_tFvQ0h"
      },
      "source": [
        "projeto_area_conhecimento = ['CD_PROGRAMA_IES', 'NM_AREA_CONHECIMENTO']"
      ],
      "execution_count": null,
      "outputs": []
    },
    {
      "cell_type": "code",
      "metadata": {
        "id": "_lwBONwuwpPg"
      },
      "source": [
        "projeto_por_area_conhecimento = df.filter(projeto_area_conhecimento)"
      ],
      "execution_count": null,
      "outputs": []
    },
    {
      "cell_type": "code",
      "metadata": {
        "id": "THbIgBtEwx3Y",
        "colab": {
          "base_uri": "https://localhost:8080/"
        },
        "outputId": "86733e00-9491-441a-de43-542a6728fee3"
      },
      "source": [
        "projeto_por_area_conhecimento.groupby('NM_AREA_CONHECIMENTO').count().sort_values(by = 'CD_PROGRAMA_IES', ascending=False)"
      ],
      "execution_count": null,
      "outputs": [
        {
          "output_type": "execute_result",
          "data": {
            "text/html": [
              "<div>\n",
              "<style scoped>\n",
              "    .dataframe tbody tr th:only-of-type {\n",
              "        vertical-align: middle;\n",
              "    }\n",
              "\n",
              "    .dataframe tbody tr th {\n",
              "        vertical-align: top;\n",
              "    }\n",
              "\n",
              "    .dataframe thead th {\n",
              "        text-align: right;\n",
              "    }\n",
              "</style>\n",
              "<table border=\"1\" class=\"dataframe\">\n",
              "  <thead>\n",
              "    <tr style=\"text-align: right;\">\n",
              "      <th></th>\n",
              "      <th>CD_PROGRAMA_IES</th>\n",
              "    </tr>\n",
              "    <tr>\n",
              "      <th>NM_AREA_CONHECIMENTO</th>\n",
              "      <th></th>\n",
              "    </tr>\n",
              "  </thead>\n",
              "  <tbody>\n",
              "    <tr>\n",
              "      <th>MEDICINA</th>\n",
              "      <td>72510</td>\n",
              "    </tr>\n",
              "    <tr>\n",
              "      <th>AGRONOMIA</th>\n",
              "      <td>48828</td>\n",
              "    </tr>\n",
              "    <tr>\n",
              "      <th>INTERDISCIPLINAR</th>\n",
              "      <td>37782</td>\n",
              "    </tr>\n",
              "    <tr>\n",
              "      <th>EDUCAÇÃO</th>\n",
              "      <td>27267</td>\n",
              "    </tr>\n",
              "    <tr>\n",
              "      <th>QUÍMICA</th>\n",
              "      <td>27217</td>\n",
              "    </tr>\n",
              "    <tr>\n",
              "      <th>...</th>\n",
              "      <td>...</td>\n",
              "    </tr>\n",
              "    <tr>\n",
              "      <th>TURISMO</th>\n",
              "      <td>662</td>\n",
              "    </tr>\n",
              "    <tr>\n",
              "      <th>ENGENHARIA DE MINAS</th>\n",
              "      <td>421</td>\n",
              "    </tr>\n",
              "    <tr>\n",
              "      <th>ARQUEOLOGIA</th>\n",
              "      <td>364</td>\n",
              "    </tr>\n",
              "    <tr>\n",
              "      <th>MUSEOLOGIA</th>\n",
              "      <td>186</td>\n",
              "    </tr>\n",
              "    <tr>\n",
              "      <th>ECONOMIA DOMÉSTICA</th>\n",
              "      <td>3</td>\n",
              "    </tr>\n",
              "  </tbody>\n",
              "</table>\n",
              "<p>81 rows × 1 columns</p>\n",
              "</div>"
            ],
            "text/plain": [
              "                      CD_PROGRAMA_IES\n",
              "NM_AREA_CONHECIMENTO                 \n",
              "MEDICINA                        72510\n",
              "AGRONOMIA                       48828\n",
              "INTERDISCIPLINAR                37782\n",
              "EDUCAÇÃO                        27267\n",
              "QUÍMICA                         27217\n",
              "...                               ...\n",
              "TURISMO                           662\n",
              "ENGENHARIA DE MINAS               421\n",
              "ARQUEOLOGIA                       364\n",
              "MUSEOLOGIA                        186\n",
              "ECONOMIA DOMÉSTICA                  3\n",
              "\n",
              "[81 rows x 1 columns]"
            ]
          },
          "metadata": {
            "tags": []
          },
          "execution_count": 65
        }
      ]
    },
    {
      "cell_type": "code",
      "metadata": {
        "id": "tX03KcYYxQIR"
      },
      "source": [
        "financiadores_projeto = ('CD_PROGRAMA_IES', 'NM_FINANCIADOR')"
      ],
      "execution_count": null,
      "outputs": []
    },
    {
      "cell_type": "code",
      "metadata": {
        "id": "JJUPVSuZ6oih"
      },
      "source": [
        "financiadores_por_projetos = df.filter(financiadores_projeto)"
      ],
      "execution_count": null,
      "outputs": []
    },
    {
      "cell_type": "code",
      "metadata": {
        "id": "wBSSk76H63pY",
        "colab": {
          "base_uri": "https://localhost:8080/"
        },
        "outputId": "107fa8fa-b7f0-4750-b34b-172a3793d6da"
      },
      "source": [
        "financiadores_por_projetos.groupby('CD_PROGRAMA_IES').count().sort_values(by = 'NM_FINANCIADOR', ascending=False)"
      ],
      "execution_count": null,
      "outputs": [
        {
          "output_type": "execute_result",
          "data": {
            "text/html": [
              "<div>\n",
              "<style scoped>\n",
              "    .dataframe tbody tr th:only-of-type {\n",
              "        vertical-align: middle;\n",
              "    }\n",
              "\n",
              "    .dataframe tbody tr th {\n",
              "        vertical-align: top;\n",
              "    }\n",
              "\n",
              "    .dataframe thead th {\n",
              "        text-align: right;\n",
              "    }\n",
              "</style>\n",
              "<table border=\"1\" class=\"dataframe\">\n",
              "  <thead>\n",
              "    <tr style=\"text-align: right;\">\n",
              "      <th></th>\n",
              "      <th>NM_FINANCIADOR</th>\n",
              "    </tr>\n",
              "    <tr>\n",
              "      <th>CD_PROGRAMA_IES</th>\n",
              "      <th></th>\n",
              "    </tr>\n",
              "  </thead>\n",
              "  <tbody>\n",
              "    <tr>\n",
              "      <th>42001013039P2</th>\n",
              "      <td>3675</td>\n",
              "    </tr>\n",
              "    <tr>\n",
              "      <th>33002010050P7</th>\n",
              "      <td>2972</td>\n",
              "    </tr>\n",
              "    <tr>\n",
              "      <th>31003010024P0</th>\n",
              "      <td>2880</td>\n",
              "    </tr>\n",
              "    <tr>\n",
              "      <th>42001013016P2</th>\n",
              "      <td>2378</td>\n",
              "    </tr>\n",
              "    <tr>\n",
              "      <th>32006012002P5</th>\n",
              "      <td>2187</td>\n",
              "    </tr>\n",
              "    <tr>\n",
              "      <th>...</th>\n",
              "      <td>...</td>\n",
              "    </tr>\n",
              "    <tr>\n",
              "      <th>52012018011P7</th>\n",
              "      <td>1</td>\n",
              "    </tr>\n",
              "    <tr>\n",
              "      <th>33002010111P6</th>\n",
              "      <td>1</td>\n",
              "    </tr>\n",
              "    <tr>\n",
              "      <th>25025015002P2</th>\n",
              "      <td>1</td>\n",
              "    </tr>\n",
              "    <tr>\n",
              "      <th>42001013002P1</th>\n",
              "      <td>1</td>\n",
              "    </tr>\n",
              "    <tr>\n",
              "      <th>28022017012P7</th>\n",
              "      <td>1</td>\n",
              "    </tr>\n",
              "  </tbody>\n",
              "</table>\n",
              "<p>4149 rows × 1 columns</p>\n",
              "</div>"
            ],
            "text/plain": [
              "                 NM_FINANCIADOR\n",
              "CD_PROGRAMA_IES                \n",
              "42001013039P2              3675\n",
              "33002010050P7              2972\n",
              "31003010024P0              2880\n",
              "42001013016P2              2378\n",
              "32006012002P5              2187\n",
              "...                         ...\n",
              "52012018011P7                 1\n",
              "33002010111P6                 1\n",
              "25025015002P2                 1\n",
              "42001013002P1                 1\n",
              "28022017012P7                 1\n",
              "\n",
              "[4149 rows x 1 columns]"
            ]
          },
          "metadata": {
            "tags": []
          },
          "execution_count": 68
        }
      ]
    },
    {
      "cell_type": "markdown",
      "metadata": {
        "id": "n2s7yKRjrs2_"
      },
      "source": [
        ""
      ]
    },
    {
      "cell_type": "code",
      "metadata": {
        "id": "jwrdR7bKhmry"
      },
      "source": [
        "def financiador_estrangeiro(col):\n",
        "\n",
        "  financiado = col[0]\n",
        "\n",
        "  if financiado == 'SIM':\n",
        "\n",
        "    return 1\n",
        "\n",
        "  if financiado == 'NÃO':\n",
        "\n",
        "    return 0\n",
        "\n",
        "df['TEM_FINANCIADOR_ESTRANGEIRO'] = df[['IN_FINANCIADOR_ESTRANGEIRO']].apply(financiador_estrangeiro, axis = 1)"
      ],
      "execution_count": null,
      "outputs": []
    },
    {
      "cell_type": "code",
      "metadata": {
        "colab": {
          "base_uri": "https://localhost:8080/"
        },
        "id": "aq3MjrJ437_5",
        "outputId": "c48ae8ce-541f-4e04-da38-f261a9ebf4a5"
      },
      "source": [
        "plt.figure(figsize=(12,6))\n",
        "\n",
        "sns.heatmap(df.isnull())"
      ],
      "execution_count": null,
      "outputs": [
        {
          "output_type": "execute_result",
          "data": {
            "text/plain": [
              "<matplotlib.axes._subplots.AxesSubplot at 0x7f66218fe910>"
            ]
          },
          "metadata": {
            "tags": []
          },
          "execution_count": 70
        },
        {
          "output_type": "display_data",
          "data": {
            "image/png": "[encoded data removed]",
            "text/plain": [
              "<Figure size 864x432 with 2 Axes>"
            ]
          },
          "metadata": {
            "tags": [],
            "needs_background": "light"
          }
        }
      ]
    },
    {
      "cell_type": "code",
      "metadata": {
        "id": "YfLradqCLkst",
        "colab": {
          "base_uri": "https://localhost:8080/"
        },
        "outputId": "81c98481-dc4a-42c8-8ff5-2a44801d89f6"
      },
      "source": [
        "df['IN_FINANCIADOR_ESTRANGEIRO'].unique().tolist()"
      ],
      "execution_count": null,
      "outputs": [
        {
          "output_type": "execute_result",
          "data": {
            "text/plain": [
              "[nan, 'NÃO', 'SIM']"
            ]
          },
          "metadata": {
            "tags": []
          },
          "execution_count": 71
        }
      ]
    },
    {
      "cell_type": "code",
      "metadata": {
        "id": "lC-Mh8L2FdSS",
        "colab": {
          "base_uri": "https://localhost:8080/"
        },
        "outputId": "60695151-688b-424f-d2c9-97d024bf37f6"
      },
      "source": [
        "df['NM_NATUREZA_FINANCIAMENTO'].unique().tolist()"
      ],
      "execution_count": null,
      "outputs": [
        {
          "output_type": "execute_result",
          "data": {
            "text/plain": [
              "['OUTRO AUXÍLIO FINANCEIRO', 'BOLSA', 'SEM AUXÍLIO']"
            ]
          },
          "metadata": {
            "tags": []
          },
          "execution_count": 72
        }
      ]
    },
    {
      "cell_type": "markdown",
      "metadata": {
        "id": "c6Rt6VO-DxXd"
      },
      "source": [
        "#FEATURES"
      ]
    },
    {
      "cell_type": "code",
      "metadata": {
        "id": "Jr3MYzmGD4vN"
      },
      "source": [
        "df['BOLSA'] = np.where(df['NM_NATUREZA_FINANCIAMENTO'] == 'BOLSA', 1,0)"
      ],
      "execution_count": null,
      "outputs": []
    },
    {
      "cell_type": "code",
      "metadata": {
        "id": "Naa-gCKMETfm"
      },
      "source": [
        "df['OUTRO_AUXÍLIO_FINANCEIRO'] = np.where(df['NM_NATUREZA_FINANCIAMENTO'] == 'OUTRO AUXÍLIO FINANCEIRO', 1,0)"
      ],
      "execution_count": null,
      "outputs": []
    },
    {
      "cell_type": "code",
      "metadata": {
        "id": "m6od3ku2cnGB"
      },
      "source": [
        "df['PUBLICA'] = np.where(df['DS_DEPENDENCIA_ADMINISTRATIVA'] == 'PÚBLICA', 1,0)"
      ],
      "execution_count": null,
      "outputs": []
    },
    {
      "cell_type": "code",
      "metadata": {
        "id": "gqdKcdzmF3L3"
      },
      "source": [
        "df = df.rename(columns = {'NM_ENTIDADE_ENSINO' : 'QTD_FINANCIAMENTOS'})"
      ],
      "execution_count": null,
      "outputs": []
    },
    {
      "cell_type": "code",
      "metadata": {
        "id": "SRJfm-R8HRam"
      },
      "source": [
        "df1 = df.groupby(['CD_PROGRAMA_IES', 'AN_BASE']).count()['QTD_FINANCIAMENTOS'].sort_values(ascending = False).reset_index() "
      ],
      "execution_count": null,
      "outputs": []
    },
    {
      "cell_type": "code",
      "metadata": {
        "colab": {
          "base_uri": "https://localhost:8080/",
          "height": 204
        },
        "id": "HG274S_WC-0O",
        "outputId": "2c23fa0a-c69a-44e4-f74f-178288c97645"
      },
      "source": [
        "df1.head()"
      ],
      "execution_count": null,
      "outputs": [
        {
          "output_type": "execute_result",
          "data": {
            "text/html": [
              "<div>\n",
              "<style scoped>\n",
              "    .dataframe tbody tr th:only-of-type {\n",
              "        vertical-align: middle;\n",
              "    }\n",
              "\n",
              "    .dataframe tbody tr th {\n",
              "        vertical-align: top;\n",
              "    }\n",
              "\n",
              "    .dataframe thead th {\n",
              "        text-align: right;\n",
              "    }\n",
              "</style>\n",
              "<table border=\"1\" class=\"dataframe\">\n",
              "  <thead>\n",
              "    <tr style=\"text-align: right;\">\n",
              "      <th></th>\n",
              "      <th>CD_PROGRAMA_IES</th>\n",
              "      <th>AN_BASE</th>\n",
              "      <th>QTD_FINANCIAMENTOS</th>\n",
              "    </tr>\n",
              "  </thead>\n",
              "  <tbody>\n",
              "    <tr>\n",
              "      <th>0</th>\n",
              "      <td>42001013039P2</td>\n",
              "      <td>2016</td>\n",
              "      <td>742</td>\n",
              "    </tr>\n",
              "    <tr>\n",
              "      <th>1</th>\n",
              "      <td>42001013039P2</td>\n",
              "      <td>2017</td>\n",
              "      <td>733</td>\n",
              "    </tr>\n",
              "    <tr>\n",
              "      <th>2</th>\n",
              "      <td>33002010050P7</td>\n",
              "      <td>2013</td>\n",
              "      <td>687</td>\n",
              "    </tr>\n",
              "    <tr>\n",
              "      <th>3</th>\n",
              "      <td>33002010050P7</td>\n",
              "      <td>2014</td>\n",
              "      <td>683</td>\n",
              "    </tr>\n",
              "    <tr>\n",
              "      <th>4</th>\n",
              "      <td>42001013039P2</td>\n",
              "      <td>2018</td>\n",
              "      <td>659</td>\n",
              "    </tr>\n",
              "  </tbody>\n",
              "</table>\n",
              "</div>"
            ],
            "text/plain": [
              "  CD_PROGRAMA_IES  AN_BASE  QTD_FINANCIAMENTOS\n",
              "0   42001013039P2     2016                 742\n",
              "1   42001013039P2     2017                 733\n",
              "2   33002010050P7     2013                 687\n",
              "3   33002010050P7     2014                 683\n",
              "4   42001013039P2     2018                 659"
            ]
          },
          "metadata": {
            "tags": []
          },
          "execution_count": 78
        }
      ]
    },
    {
      "cell_type": "code",
      "metadata": {
        "id": "fmaT1TIeICnB"
      },
      "source": [
        "df2 = df.groupby(['CD_PROGRAMA_IES', 'AN_BASE'], as_index = False).agg({'BOLSA' : np.sum, 'OUTRO_AUXÍLIO_FINANCEIRO' : np.sum})"
      ],
      "execution_count": null,
      "outputs": []
    },
    {
      "cell_type": "code",
      "metadata": {
        "colab": {
          "base_uri": "https://localhost:8080/",
          "height": 204
        },
        "id": "LDrsLl5Mn72y",
        "outputId": "66b6f606-bb21-4cfe-c3ca-86f121ecec63"
      },
      "source": [
        "df2.head()"
      ],
      "execution_count": null,
      "outputs": [
        {
          "output_type": "execute_result",
          "data": {
            "text/html": [
              "<div>\n",
              "<style scoped>\n",
              "    .dataframe tbody tr th:only-of-type {\n",
              "        vertical-align: middle;\n",
              "    }\n",
              "\n",
              "    .dataframe tbody tr th {\n",
              "        vertical-align: top;\n",
              "    }\n",
              "\n",
              "    .dataframe thead th {\n",
              "        text-align: right;\n",
              "    }\n",
              "</style>\n",
              "<table border=\"1\" class=\"dataframe\">\n",
              "  <thead>\n",
              "    <tr style=\"text-align: right;\">\n",
              "      <th></th>\n",
              "      <th>CD_PROGRAMA_IES</th>\n",
              "      <th>AN_BASE</th>\n",
              "      <th>BOLSA</th>\n",
              "      <th>OUTRO_AUXÍLIO_FINANCEIRO</th>\n",
              "    </tr>\n",
              "  </thead>\n",
              "  <tbody>\n",
              "    <tr>\n",
              "      <th>0</th>\n",
              "      <td>10001018002P1</td>\n",
              "      <td>2013</td>\n",
              "      <td>1</td>\n",
              "      <td>15</td>\n",
              "    </tr>\n",
              "    <tr>\n",
              "      <th>1</th>\n",
              "      <td>10001018002P1</td>\n",
              "      <td>2014</td>\n",
              "      <td>1</td>\n",
              "      <td>19</td>\n",
              "    </tr>\n",
              "    <tr>\n",
              "      <th>2</th>\n",
              "      <td>10001018002P1</td>\n",
              "      <td>2015</td>\n",
              "      <td>1</td>\n",
              "      <td>18</td>\n",
              "    </tr>\n",
              "    <tr>\n",
              "      <th>3</th>\n",
              "      <td>10001018002P1</td>\n",
              "      <td>2016</td>\n",
              "      <td>2</td>\n",
              "      <td>30</td>\n",
              "    </tr>\n",
              "    <tr>\n",
              "      <th>4</th>\n",
              "      <td>10001018002P1</td>\n",
              "      <td>2017</td>\n",
              "      <td>6</td>\n",
              "      <td>52</td>\n",
              "    </tr>\n",
              "  </tbody>\n",
              "</table>\n",
              "</div>"
            ],
            "text/plain": [
              "  CD_PROGRAMA_IES  AN_BASE  BOLSA  OUTRO_AUXÍLIO_FINANCEIRO\n",
              "0   10001018002P1     2013      1                        15\n",
              "1   10001018002P1     2014      1                        19\n",
              "2   10001018002P1     2015      1                        18\n",
              "3   10001018002P1     2016      2                        30\n",
              "4   10001018002P1     2017      6                        52"
            ]
          },
          "metadata": {
            "tags": []
          },
          "execution_count": 80
        }
      ]
    },
    {
      "cell_type": "code",
      "metadata": {
        "id": "nVzo45_BqnTm"
      },
      "source": [
        "df3 = df.groupby(['CD_PROGRAMA_IES', 'AN_BASE'], as_index = False).agg({'TEM_FINANCIADOR_ESTRANGEIRO' : np.min})"
      ],
      "execution_count": null,
      "outputs": []
    },
    {
      "cell_type": "code",
      "metadata": {
        "colab": {
          "base_uri": "https://localhost:8080/",
          "height": 359
        },
        "id": "iAdhEISyq5Vs",
        "outputId": "4116d206-4e3e-4181-893c-6796edc8bdf0"
      },
      "source": [
        "df3.head(10)"
      ],
      "execution_count": null,
      "outputs": [
        {
          "output_type": "execute_result",
          "data": {
            "text/html": [
              "<div>\n",
              "<style scoped>\n",
              "    .dataframe tbody tr th:only-of-type {\n",
              "        vertical-align: middle;\n",
              "    }\n",
              "\n",
              "    .dataframe tbody tr th {\n",
              "        vertical-align: top;\n",
              "    }\n",
              "\n",
              "    .dataframe thead th {\n",
              "        text-align: right;\n",
              "    }\n",
              "</style>\n",
              "<table border=\"1\" class=\"dataframe\">\n",
              "  <thead>\n",
              "    <tr style=\"text-align: right;\">\n",
              "      <th></th>\n",
              "      <th>CD_PROGRAMA_IES</th>\n",
              "      <th>AN_BASE</th>\n",
              "      <th>TEM_FINANCIADOR_ESTRANGEIRO</th>\n",
              "    </tr>\n",
              "  </thead>\n",
              "  <tbody>\n",
              "    <tr>\n",
              "      <th>0</th>\n",
              "      <td>10001018002P1</td>\n",
              "      <td>2013</td>\n",
              "      <td>NaN</td>\n",
              "    </tr>\n",
              "    <tr>\n",
              "      <th>1</th>\n",
              "      <td>10001018002P1</td>\n",
              "      <td>2014</td>\n",
              "      <td>NaN</td>\n",
              "    </tr>\n",
              "    <tr>\n",
              "      <th>2</th>\n",
              "      <td>10001018002P1</td>\n",
              "      <td>2015</td>\n",
              "      <td>NaN</td>\n",
              "    </tr>\n",
              "    <tr>\n",
              "      <th>3</th>\n",
              "      <td>10001018002P1</td>\n",
              "      <td>2016</td>\n",
              "      <td>NaN</td>\n",
              "    </tr>\n",
              "    <tr>\n",
              "      <th>4</th>\n",
              "      <td>10001018002P1</td>\n",
              "      <td>2017</td>\n",
              "      <td>0.0</td>\n",
              "    </tr>\n",
              "    <tr>\n",
              "      <th>5</th>\n",
              "      <td>10001018002P1</td>\n",
              "      <td>2018</td>\n",
              "      <td>0.0</td>\n",
              "    </tr>\n",
              "    <tr>\n",
              "      <th>6</th>\n",
              "      <td>10001018004P4</td>\n",
              "      <td>2013</td>\n",
              "      <td>NaN</td>\n",
              "    </tr>\n",
              "    <tr>\n",
              "      <th>7</th>\n",
              "      <td>10001018004P4</td>\n",
              "      <td>2014</td>\n",
              "      <td>NaN</td>\n",
              "    </tr>\n",
              "    <tr>\n",
              "      <th>8</th>\n",
              "      <td>10001018004P4</td>\n",
              "      <td>2015</td>\n",
              "      <td>NaN</td>\n",
              "    </tr>\n",
              "    <tr>\n",
              "      <th>9</th>\n",
              "      <td>10001018004P4</td>\n",
              "      <td>2016</td>\n",
              "      <td>NaN</td>\n",
              "    </tr>\n",
              "  </tbody>\n",
              "</table>\n",
              "</div>"
            ],
            "text/plain": [
              "  CD_PROGRAMA_IES  AN_BASE  TEM_FINANCIADOR_ESTRANGEIRO\n",
              "0   10001018002P1     2013                          NaN\n",
              "1   10001018002P1     2014                          NaN\n",
              "2   10001018002P1     2015                          NaN\n",
              "3   10001018002P1     2016                          NaN\n",
              "4   10001018002P1     2017                          0.0\n",
              "5   10001018002P1     2018                          0.0\n",
              "6   10001018004P4     2013                          NaN\n",
              "7   10001018004P4     2014                          NaN\n",
              "8   10001018004P4     2015                          NaN\n",
              "9   10001018004P4     2016                          NaN"
            ]
          },
          "metadata": {
            "tags": []
          },
          "execution_count": 82
        }
      ]
    },
    {
      "cell_type": "code",
      "metadata": {
        "colab": {
          "base_uri": "https://localhost:8080/"
        },
        "id": "lRQKS66Zsk5U",
        "outputId": "bb634eef-3914-4d1f-f7e3-6aa12baf3ef6"
      },
      "source": [
        "df3['TEM_FINANCIADOR_ESTRANGEIRO'].unique().tolist()"
      ],
      "execution_count": null,
      "outputs": [
        {
          "output_type": "execute_result",
          "data": {
            "text/plain": [
              "[nan, 0.0, 1.0]"
            ]
          },
          "metadata": {
            "tags": []
          },
          "execution_count": 83
        }
      ]
    },
    {
      "cell_type": "code",
      "metadata": {
        "id": "sjTmGcsxKjDx",
        "colab": {
          "base_uri": "https://localhost:8080/",
          "height": 204
        },
        "outputId": "77cd0877-f696-4aab-82a7-725e26f7c67e"
      },
      "source": [
        "df1.head()"
      ],
      "execution_count": null,
      "outputs": [
        {
          "output_type": "execute_result",
          "data": {
            "text/html": [
              "<div>\n",
              "<style scoped>\n",
              "    .dataframe tbody tr th:only-of-type {\n",
              "        vertical-align: middle;\n",
              "    }\n",
              "\n",
              "    .dataframe tbody tr th {\n",
              "        vertical-align: top;\n",
              "    }\n",
              "\n",
              "    .dataframe thead th {\n",
              "        text-align: right;\n",
              "    }\n",
              "</style>\n",
              "<table border=\"1\" class=\"dataframe\">\n",
              "  <thead>\n",
              "    <tr style=\"text-align: right;\">\n",
              "      <th></th>\n",
              "      <th>CD_PROGRAMA_IES</th>\n",
              "      <th>AN_BASE</th>\n",
              "      <th>QTD_FINANCIAMENTOS</th>\n",
              "    </tr>\n",
              "  </thead>\n",
              "  <tbody>\n",
              "    <tr>\n",
              "      <th>0</th>\n",
              "      <td>42001013039P2</td>\n",
              "      <td>2016</td>\n",
              "      <td>742</td>\n",
              "    </tr>\n",
              "    <tr>\n",
              "      <th>1</th>\n",
              "      <td>42001013039P2</td>\n",
              "      <td>2017</td>\n",
              "      <td>733</td>\n",
              "    </tr>\n",
              "    <tr>\n",
              "      <th>2</th>\n",
              "      <td>33002010050P7</td>\n",
              "      <td>2013</td>\n",
              "      <td>687</td>\n",
              "    </tr>\n",
              "    <tr>\n",
              "      <th>3</th>\n",
              "      <td>33002010050P7</td>\n",
              "      <td>2014</td>\n",
              "      <td>683</td>\n",
              "    </tr>\n",
              "    <tr>\n",
              "      <th>4</th>\n",
              "      <td>42001013039P2</td>\n",
              "      <td>2018</td>\n",
              "      <td>659</td>\n",
              "    </tr>\n",
              "  </tbody>\n",
              "</table>\n",
              "</div>"
            ],
            "text/plain": [
              "  CD_PROGRAMA_IES  AN_BASE  QTD_FINANCIAMENTOS\n",
              "0   42001013039P2     2016                 742\n",
              "1   42001013039P2     2017                 733\n",
              "2   33002010050P7     2013                 687\n",
              "3   33002010050P7     2014                 683\n",
              "4   42001013039P2     2018                 659"
            ]
          },
          "metadata": {
            "tags": []
          },
          "execution_count": 84
        }
      ]
    },
    {
      "cell_type": "code",
      "metadata": {
        "id": "WBHw-sETMSsL"
      },
      "source": [
        "features = df2.merge(df1[['CD_PROGRAMA_IES', 'AN_BASE', 'QTD_FINANCIAMENTOS']], on = ['CD_PROGRAMA_IES', 'AN_BASE'], how = 'inner')"
      ],
      "execution_count": null,
      "outputs": []
    },
    {
      "cell_type": "code",
      "metadata": {
        "colab": {
          "base_uri": "https://localhost:8080/",
          "height": 204
        },
        "id": "6JJeAkmKoXuR",
        "outputId": "0e763c70-bfe8-47b0-84c7-fd9fc1562c63"
      },
      "source": [
        "features.head()"
      ],
      "execution_count": null,
      "outputs": [
        {
          "output_type": "execute_result",
          "data": {
            "text/html": [
              "<div>\n",
              "<style scoped>\n",
              "    .dataframe tbody tr th:only-of-type {\n",
              "        vertical-align: middle;\n",
              "    }\n",
              "\n",
              "    .dataframe tbody tr th {\n",
              "        vertical-align: top;\n",
              "    }\n",
              "\n",
              "    .dataframe thead th {\n",
              "        text-align: right;\n",
              "    }\n",
              "</style>\n",
              "<table border=\"1\" class=\"dataframe\">\n",
              "  <thead>\n",
              "    <tr style=\"text-align: right;\">\n",
              "      <th></th>\n",
              "      <th>CD_PROGRAMA_IES</th>\n",
              "      <th>AN_BASE</th>\n",
              "      <th>BOLSA</th>\n",
              "      <th>OUTRO_AUXÍLIO_FINANCEIRO</th>\n",
              "      <th>QTD_FINANCIAMENTOS</th>\n",
              "    </tr>\n",
              "  </thead>\n",
              "  <tbody>\n",
              "    <tr>\n",
              "      <th>0</th>\n",
              "      <td>10001018002P1</td>\n",
              "      <td>2013</td>\n",
              "      <td>1</td>\n",
              "      <td>15</td>\n",
              "      <td>16</td>\n",
              "    </tr>\n",
              "    <tr>\n",
              "      <th>1</th>\n",
              "      <td>10001018002P1</td>\n",
              "      <td>2014</td>\n",
              "      <td>1</td>\n",
              "      <td>19</td>\n",
              "      <td>20</td>\n",
              "    </tr>\n",
              "    <tr>\n",
              "      <th>2</th>\n",
              "      <td>10001018002P1</td>\n",
              "      <td>2015</td>\n",
              "      <td>1</td>\n",
              "      <td>18</td>\n",
              "      <td>19</td>\n",
              "    </tr>\n",
              "    <tr>\n",
              "      <th>3</th>\n",
              "      <td>10001018002P1</td>\n",
              "      <td>2016</td>\n",
              "      <td>2</td>\n",
              "      <td>30</td>\n",
              "      <td>32</td>\n",
              "    </tr>\n",
              "    <tr>\n",
              "      <th>4</th>\n",
              "      <td>10001018002P1</td>\n",
              "      <td>2017</td>\n",
              "      <td>6</td>\n",
              "      <td>52</td>\n",
              "      <td>58</td>\n",
              "    </tr>\n",
              "  </tbody>\n",
              "</table>\n",
              "</div>"
            ],
            "text/plain": [
              "  CD_PROGRAMA_IES  AN_BASE  BOLSA  OUTRO_AUXÍLIO_FINANCEIRO  QTD_FINANCIAMENTOS\n",
              "0   10001018002P1     2013      1                        15                  16\n",
              "1   10001018002P1     2014      1                        19                  20\n",
              "2   10001018002P1     2015      1                        18                  19\n",
              "3   10001018002P1     2016      2                        30                  32\n",
              "4   10001018002P1     2017      6                        52                  58"
            ]
          },
          "metadata": {
            "tags": []
          },
          "execution_count": 86
        }
      ]
    },
    {
      "cell_type": "code",
      "metadata": {
        "id": "wYiVvc-19PdF"
      },
      "source": [
        "features = features.merge(df3[['CD_PROGRAMA_IES', 'AN_BASE', 'TEM_FINANCIADOR_ESTRANGEIRO']], on = ['CD_PROGRAMA_IES', 'AN_BASE'], how = 'inner')"
      ],
      "execution_count": null,
      "outputs": []
    },
    {
      "cell_type": "code",
      "metadata": {
        "id": "dYLI0l8WNzfr",
        "colab": {
          "base_uri": "https://localhost:8080/",
          "height": 204
        },
        "outputId": "17d123e7-0476-43c6-8443-ff5906c4fd32"
      },
      "source": [
        "features.head()"
      ],
      "execution_count": null,
      "outputs": [
        {
          "output_type": "execute_result",
          "data": {
            "text/html": [
              "<div>\n",
              "<style scoped>\n",
              "    .dataframe tbody tr th:only-of-type {\n",
              "        vertical-align: middle;\n",
              "    }\n",
              "\n",
              "    .dataframe tbody tr th {\n",
              "        vertical-align: top;\n",
              "    }\n",
              "\n",
              "    .dataframe thead th {\n",
              "        text-align: right;\n",
              "    }\n",
              "</style>\n",
              "<table border=\"1\" class=\"dataframe\">\n",
              "  <thead>\n",
              "    <tr style=\"text-align: right;\">\n",
              "      <th></th>\n",
              "      <th>CD_PROGRAMA_IES</th>\n",
              "      <th>AN_BASE</th>\n",
              "      <th>BOLSA</th>\n",
              "      <th>OUTRO_AUXÍLIO_FINANCEIRO</th>\n",
              "      <th>QTD_FINANCIAMENTOS</th>\n",
              "      <th>TEM_FINANCIADOR_ESTRANGEIRO</th>\n",
              "    </tr>\n",
              "  </thead>\n",
              "  <tbody>\n",
              "    <tr>\n",
              "      <th>0</th>\n",
              "      <td>10001018002P1</td>\n",
              "      <td>2013</td>\n",
              "      <td>1</td>\n",
              "      <td>15</td>\n",
              "      <td>16</td>\n",
              "      <td>NaN</td>\n",
              "    </tr>\n",
              "    <tr>\n",
              "      <th>1</th>\n",
              "      <td>10001018002P1</td>\n",
              "      <td>2014</td>\n",
              "      <td>1</td>\n",
              "      <td>19</td>\n",
              "      <td>20</td>\n",
              "      <td>NaN</td>\n",
              "    </tr>\n",
              "    <tr>\n",
              "      <th>2</th>\n",
              "      <td>10001018002P1</td>\n",
              "      <td>2015</td>\n",
              "      <td>1</td>\n",
              "      <td>18</td>\n",
              "      <td>19</td>\n",
              "      <td>NaN</td>\n",
              "    </tr>\n",
              "    <tr>\n",
              "      <th>3</th>\n",
              "      <td>10001018002P1</td>\n",
              "      <td>2016</td>\n",
              "      <td>2</td>\n",
              "      <td>30</td>\n",
              "      <td>32</td>\n",
              "      <td>NaN</td>\n",
              "    </tr>\n",
              "    <tr>\n",
              "      <th>4</th>\n",
              "      <td>10001018002P1</td>\n",
              "      <td>2017</td>\n",
              "      <td>6</td>\n",
              "      <td>52</td>\n",
              "      <td>58</td>\n",
              "      <td>0.0</td>\n",
              "    </tr>\n",
              "  </tbody>\n",
              "</table>\n",
              "</div>"
            ],
            "text/plain": [
              "  CD_PROGRAMA_IES  AN_BASE  ...  QTD_FINANCIAMENTOS  TEM_FINANCIADOR_ESTRANGEIRO\n",
              "0   10001018002P1     2013  ...                  16                          NaN\n",
              "1   10001018002P1     2014  ...                  20                          NaN\n",
              "2   10001018002P1     2015  ...                  19                          NaN\n",
              "3   10001018002P1     2016  ...                  32                          NaN\n",
              "4   10001018002P1     2017  ...                  58                          0.0\n",
              "\n",
              "[5 rows x 6 columns]"
            ]
          },
          "metadata": {
            "tags": []
          },
          "execution_count": 88
        }
      ]
    },
    {
      "cell_type": "code",
      "metadata": {
        "colab": {
          "base_uri": "https://localhost:8080/"
        },
        "id": "imXt5-r67bdE",
        "outputId": "8cd866dc-295e-4e32-ab05-b499785881ff"
      },
      "source": [
        "features['TEM_FINANCIADOR_ESTRANGEIRO'].unique().tolist()"
      ],
      "execution_count": null,
      "outputs": [
        {
          "output_type": "execute_result",
          "data": {
            "text/plain": [
              "[nan, 0.0, 1.0]"
            ]
          },
          "metadata": {
            "tags": []
          },
          "execution_count": 89
        }
      ]
    },
    {
      "cell_type": "code",
      "metadata": {
        "id": "WOf8SCBm8Bo1"
      },
      "source": [
        "df_publica = df.groupby(['CD_PROGRAMA_IES', 'DS_DEPENDENCIA_ADMINISTRATIVA'], as_index = False).agg({})"
      ],
      "execution_count": null,
      "outputs": []
    },
    {
      "cell_type": "code",
      "metadata": {
        "colab": {
          "base_uri": "https://localhost:8080/"
        },
        "id": "lsTgpLeUCKG_",
        "outputId": "f9621c78-544a-4d06-ea08-45e245cb3e20"
      },
      "source": [
        "df_publica.isnull().sum(axis=0)"
      ],
      "execution_count": null,
      "outputs": [
        {
          "output_type": "execute_result",
          "data": {
            "text/plain": [
              "CD_PROGRAMA_IES                  0\n",
              "DS_DEPENDENCIA_ADMINISTRATIVA    0\n",
              "dtype: int64"
            ]
          },
          "metadata": {
            "tags": []
          },
          "execution_count": 91
        }
      ]
    },
    {
      "cell_type": "code",
      "metadata": {
        "id": "XBR17-XLAIGN"
      },
      "source": [
        "features = features.merge(df_publica[['CD_PROGRAMA_IES', 'DS_DEPENDENCIA_ADMINISTRATIVA']], on = ['CD_PROGRAMA_IES'], how = 'inner')"
      ],
      "execution_count": null,
      "outputs": []
    },
    {
      "cell_type": "code",
      "metadata": {
        "colab": {
          "base_uri": "https://localhost:8080/",
          "height": 421
        },
        "id": "_3hHYum_AMVQ",
        "outputId": "b72e8b66-1a60-459a-9fd2-21209efaa05e"
      },
      "source": [
        "features.head(12)"
      ],
      "execution_count": null,
      "outputs": [
        {
          "output_type": "execute_result",
          "data": {
            "text/html": [
              "<div>\n",
              "<style scoped>\n",
              "    .dataframe tbody tr th:only-of-type {\n",
              "        vertical-align: middle;\n",
              "    }\n",
              "\n",
              "    .dataframe tbody tr th {\n",
              "        vertical-align: top;\n",
              "    }\n",
              "\n",
              "    .dataframe thead th {\n",
              "        text-align: right;\n",
              "    }\n",
              "</style>\n",
              "<table border=\"1\" class=\"dataframe\">\n",
              "  <thead>\n",
              "    <tr style=\"text-align: right;\">\n",
              "      <th></th>\n",
              "      <th>CD_PROGRAMA_IES</th>\n",
              "      <th>AN_BASE</th>\n",
              "      <th>BOLSA</th>\n",
              "      <th>OUTRO_AUXÍLIO_FINANCEIRO</th>\n",
              "      <th>QTD_FINANCIAMENTOS</th>\n",
              "      <th>TEM_FINANCIADOR_ESTRANGEIRO</th>\n",
              "      <th>DS_DEPENDENCIA_ADMINISTRATIVA</th>\n",
              "    </tr>\n",
              "  </thead>\n",
              "  <tbody>\n",
              "    <tr>\n",
              "      <th>0</th>\n",
              "      <td>10001018002P1</td>\n",
              "      <td>2013</td>\n",
              "      <td>1</td>\n",
              "      <td>15</td>\n",
              "      <td>16</td>\n",
              "      <td>NaN</td>\n",
              "      <td>1</td>\n",
              "    </tr>\n",
              "    <tr>\n",
              "      <th>1</th>\n",
              "      <td>10001018002P1</td>\n",
              "      <td>2014</td>\n",
              "      <td>1</td>\n",
              "      <td>19</td>\n",
              "      <td>20</td>\n",
              "      <td>NaN</td>\n",
              "      <td>1</td>\n",
              "    </tr>\n",
              "    <tr>\n",
              "      <th>2</th>\n",
              "      <td>10001018002P1</td>\n",
              "      <td>2015</td>\n",
              "      <td>1</td>\n",
              "      <td>18</td>\n",
              "      <td>19</td>\n",
              "      <td>NaN</td>\n",
              "      <td>1</td>\n",
              "    </tr>\n",
              "    <tr>\n",
              "      <th>3</th>\n",
              "      <td>10001018002P1</td>\n",
              "      <td>2016</td>\n",
              "      <td>2</td>\n",
              "      <td>30</td>\n",
              "      <td>32</td>\n",
              "      <td>NaN</td>\n",
              "      <td>1</td>\n",
              "    </tr>\n",
              "    <tr>\n",
              "      <th>4</th>\n",
              "      <td>10001018002P1</td>\n",
              "      <td>2017</td>\n",
              "      <td>6</td>\n",
              "      <td>52</td>\n",
              "      <td>58</td>\n",
              "      <td>0.0</td>\n",
              "      <td>1</td>\n",
              "    </tr>\n",
              "    <tr>\n",
              "      <th>5</th>\n",
              "      <td>10001018002P1</td>\n",
              "      <td>2018</td>\n",
              "      <td>6</td>\n",
              "      <td>47</td>\n",
              "      <td>53</td>\n",
              "      <td>0.0</td>\n",
              "      <td>1</td>\n",
              "    </tr>\n",
              "    <tr>\n",
              "      <th>6</th>\n",
              "      <td>10001018004P4</td>\n",
              "      <td>2013</td>\n",
              "      <td>0</td>\n",
              "      <td>28</td>\n",
              "      <td>28</td>\n",
              "      <td>NaN</td>\n",
              "      <td>1</td>\n",
              "    </tr>\n",
              "    <tr>\n",
              "      <th>7</th>\n",
              "      <td>10001018004P4</td>\n",
              "      <td>2014</td>\n",
              "      <td>0</td>\n",
              "      <td>26</td>\n",
              "      <td>26</td>\n",
              "      <td>NaN</td>\n",
              "      <td>1</td>\n",
              "    </tr>\n",
              "    <tr>\n",
              "      <th>8</th>\n",
              "      <td>10001018004P4</td>\n",
              "      <td>2015</td>\n",
              "      <td>0</td>\n",
              "      <td>21</td>\n",
              "      <td>21</td>\n",
              "      <td>NaN</td>\n",
              "      <td>1</td>\n",
              "    </tr>\n",
              "    <tr>\n",
              "      <th>9</th>\n",
              "      <td>10001018004P4</td>\n",
              "      <td>2016</td>\n",
              "      <td>0</td>\n",
              "      <td>19</td>\n",
              "      <td>19</td>\n",
              "      <td>NaN</td>\n",
              "      <td>1</td>\n",
              "    </tr>\n",
              "    <tr>\n",
              "      <th>10</th>\n",
              "      <td>10001018004P4</td>\n",
              "      <td>2017</td>\n",
              "      <td>0</td>\n",
              "      <td>18</td>\n",
              "      <td>18</td>\n",
              "      <td>0.0</td>\n",
              "      <td>1</td>\n",
              "    </tr>\n",
              "    <tr>\n",
              "      <th>11</th>\n",
              "      <td>10001018004P4</td>\n",
              "      <td>2018</td>\n",
              "      <td>0</td>\n",
              "      <td>31</td>\n",
              "      <td>31</td>\n",
              "      <td>0.0</td>\n",
              "      <td>1</td>\n",
              "    </tr>\n",
              "  </tbody>\n",
              "</table>\n",
              "</div>"
            ],
            "text/plain": [
              "   CD_PROGRAMA_IES  ...  DS_DEPENDENCIA_ADMINISTRATIVA\n",
              "0    10001018002P1  ...                              1\n",
              "1    10001018002P1  ...                              1\n",
              "2    10001018002P1  ...                              1\n",
              "3    10001018002P1  ...                              1\n",
              "4    10001018002P1  ...                              1\n",
              "5    10001018002P1  ...                              1\n",
              "6    10001018004P4  ...                              1\n",
              "7    10001018004P4  ...                              1\n",
              "8    10001018004P4  ...                              1\n",
              "9    10001018004P4  ...                              1\n",
              "10   10001018004P4  ...                              1\n",
              "11   10001018004P4  ...                              1\n",
              "\n",
              "[12 rows x 7 columns]"
            ]
          },
          "metadata": {
            "tags": []
          },
          "execution_count": 93
        }
      ]
    },
    {
      "cell_type": "code",
      "metadata": {
        "colab": {
          "base_uri": "https://localhost:8080/"
        },
        "id": "Juu0r1fkJ04R",
        "outputId": "171d133f-a4dc-4735-dc07-9488addccd60"
      },
      "source": [
        "features.isnull().sum(axis=0)"
      ],
      "execution_count": null,
      "outputs": [
        {
          "output_type": "execute_result",
          "data": {
            "text/plain": [
              "CD_PROGRAMA_IES                      0\n",
              "AN_BASE                              0\n",
              "BOLSA                                0\n",
              "OUTRO_AUXÍLIO_FINANCEIRO             0\n",
              "QTD_FINANCIAMENTOS                   0\n",
              "TEM_FINANCIADOR_ESTRANGEIRO      14025\n",
              "DS_DEPENDENCIA_ADMINISTRATIVA        0\n",
              "dtype: int64"
            ]
          },
          "metadata": {
            "tags": []
          },
          "execution_count": 94
        }
      ]
    },
    {
      "cell_type": "code",
      "metadata": {
        "id": "_MFMBHuxNOkv"
      },
      "source": [
        "features = features.rename(columns={'DS_DEPENDENCIA_ADMINISTRATIVA' : \"PÚBLICA_OU_PRIVADA\"})"
      ],
      "execution_count": null,
      "outputs": []
    },
    {
      "cell_type": "code",
      "metadata": {
        "colab": {
          "base_uri": "https://localhost:8080/"
        },
        "id": "OxUzTb3HOA0-",
        "outputId": "063a3acd-8e86-4492-925b-b6594c3c1470"
      },
      "source": [
        "features.shape"
      ],
      "execution_count": null,
      "outputs": [
        {
          "output_type": "execute_result",
          "data": {
            "text/plain": [
              "(21975, 7)"
            ]
          },
          "metadata": {
            "tags": []
          },
          "execution_count": 96
        }
      ]
    },
    {
      "cell_type": "code",
      "metadata": {
        "colab": {
          "base_uri": "https://localhost:8080/",
          "height": 556
        },
        "id": "GsdZ5MnXO94K",
        "outputId": "e60f2592-cdcb-4765-8629-97d53a3488a4"
      },
      "source": [
        "plt.figure(figsize=(12,6))\n",
        "\n",
        "sns.heatmap(features.isnull())"
      ],
      "execution_count": null,
      "outputs": [
        {
          "output_type": "execute_result",
          "data": {
            "text/plain": [
              "<matplotlib.axes._subplots.AxesSubplot at 0x7f661ee8d090>"
            ]
          },
          "metadata": {
            "tags": []
          },
          "execution_count": 97
        },
        {
          "output_type": "display_data",
          "data": {
            "image/png": "[encoded data removed]",
            "text/plain": [
              "<Figure size 864x432 with 2 Axes>"
            ]
          },
          "metadata": {
            "tags": [],
            "needs_background": "light"
          }
        }
      ]
    },
    {
      "cell_type": "code",
      "metadata": {
        "id": "mAZhWl2xzlrW"
      },
      "source": [
        "df_projetos = projetos.groupby(['CD_PROGRAMA_IES', 'AN_BASE']).count()['ID_PROJETO'].sort_values(ascending=False).reset_index()"
      ],
      "execution_count": null,
      "outputs": []
    },
    {
      "cell_type": "code",
      "metadata": {
        "id": "mxAyrP-ql_wR"
      },
      "source": [
        "features = features.merge(df_projetos[['CD_PROGRAMA_IES', 'AN_BASE', 'ID_PROJETO']], on = ['CD_PROGRAMA_IES', 'AN_BASE'], how = 'inner')"
      ],
      "execution_count": null,
      "outputs": []
    },
    {
      "cell_type": "code",
      "metadata": {
        "colab": {
          "base_uri": "https://localhost:8080/",
          "height": 235
        },
        "id": "Khz0vGuJnS5C",
        "outputId": "c1e22198-a5fe-4d0d-f2ed-af14941e4d02"
      },
      "source": [
        "features.head(6)"
      ],
      "execution_count": null,
      "outputs": [
        {
          "output_type": "execute_result",
          "data": {
            "text/html": [
              "<div>\n",
              "<style scoped>\n",
              "    .dataframe tbody tr th:only-of-type {\n",
              "        vertical-align: middle;\n",
              "    }\n",
              "\n",
              "    .dataframe tbody tr th {\n",
              "        vertical-align: top;\n",
              "    }\n",
              "\n",
              "    .dataframe thead th {\n",
              "        text-align: right;\n",
              "    }\n",
              "</style>\n",
              "<table border=\"1\" class=\"dataframe\">\n",
              "  <thead>\n",
              "    <tr style=\"text-align: right;\">\n",
              "      <th></th>\n",
              "      <th>CD_PROGRAMA_IES</th>\n",
              "      <th>AN_BASE</th>\n",
              "      <th>BOLSA</th>\n",
              "      <th>OUTRO_AUXÍLIO_FINANCEIRO</th>\n",
              "      <th>QTD_FINANCIAMENTOS</th>\n",
              "      <th>TEM_FINANCIADOR_ESTRANGEIRO</th>\n",
              "      <th>PÚBLICA_OU_PRIVADA</th>\n",
              "      <th>ID_PROJETO</th>\n",
              "    </tr>\n",
              "  </thead>\n",
              "  <tbody>\n",
              "    <tr>\n",
              "      <th>0</th>\n",
              "      <td>10001018002P1</td>\n",
              "      <td>2013</td>\n",
              "      <td>1</td>\n",
              "      <td>15</td>\n",
              "      <td>16</td>\n",
              "      <td>NaN</td>\n",
              "      <td>1</td>\n",
              "      <td>19</td>\n",
              "    </tr>\n",
              "    <tr>\n",
              "      <th>1</th>\n",
              "      <td>10001018002P1</td>\n",
              "      <td>2014</td>\n",
              "      <td>1</td>\n",
              "      <td>19</td>\n",
              "      <td>20</td>\n",
              "      <td>NaN</td>\n",
              "      <td>1</td>\n",
              "      <td>26</td>\n",
              "    </tr>\n",
              "    <tr>\n",
              "      <th>2</th>\n",
              "      <td>10001018002P1</td>\n",
              "      <td>2015</td>\n",
              "      <td>1</td>\n",
              "      <td>18</td>\n",
              "      <td>19</td>\n",
              "      <td>NaN</td>\n",
              "      <td>1</td>\n",
              "      <td>26</td>\n",
              "    </tr>\n",
              "    <tr>\n",
              "      <th>3</th>\n",
              "      <td>10001018002P1</td>\n",
              "      <td>2016</td>\n",
              "      <td>2</td>\n",
              "      <td>30</td>\n",
              "      <td>32</td>\n",
              "      <td>NaN</td>\n",
              "      <td>1</td>\n",
              "      <td>40</td>\n",
              "    </tr>\n",
              "    <tr>\n",
              "      <th>4</th>\n",
              "      <td>10001018002P1</td>\n",
              "      <td>2017</td>\n",
              "      <td>6</td>\n",
              "      <td>52</td>\n",
              "      <td>58</td>\n",
              "      <td>0.0</td>\n",
              "      <td>1</td>\n",
              "      <td>68</td>\n",
              "    </tr>\n",
              "    <tr>\n",
              "      <th>5</th>\n",
              "      <td>10001018002P1</td>\n",
              "      <td>2018</td>\n",
              "      <td>6</td>\n",
              "      <td>47</td>\n",
              "      <td>53</td>\n",
              "      <td>0.0</td>\n",
              "      <td>1</td>\n",
              "      <td>62</td>\n",
              "    </tr>\n",
              "  </tbody>\n",
              "</table>\n",
              "</div>"
            ],
            "text/plain": [
              "  CD_PROGRAMA_IES  AN_BASE  ...  PÚBLICA_OU_PRIVADA  ID_PROJETO\n",
              "0   10001018002P1     2013  ...                   1          19\n",
              "1   10001018002P1     2014  ...                   1          26\n",
              "2   10001018002P1     2015  ...                   1          26\n",
              "3   10001018002P1     2016  ...                   1          40\n",
              "4   10001018002P1     2017  ...                   1          68\n",
              "5   10001018002P1     2018  ...                   1          62\n",
              "\n",
              "[6 rows x 8 columns]"
            ]
          },
          "metadata": {
            "tags": []
          },
          "execution_count": 100
        }
      ]
    },
    {
      "cell_type": "code",
      "metadata": {
        "id": "LrQSxjDPnUwx"
      },
      "source": [
        "features = features.rename(columns={'ID_PROJETO' : 'QTD_PROJETOS'})"
      ],
      "execution_count": null,
      "outputs": []
    },
    {
      "cell_type": "code",
      "metadata": {
        "colab": {
          "base_uri": "https://localhost:8080/",
          "height": 359
        },
        "id": "tJu6VcXT451W",
        "outputId": "84b6ae47-2ac2-403a-8d51-2c5925de9c8b"
      },
      "source": [
        "features.head(10)"
      ],
      "execution_count": null,
      "outputs": [
        {
          "output_type": "execute_result",
          "data": {
            "text/html": [
              "<div>\n",
              "<style scoped>\n",
              "    .dataframe tbody tr th:only-of-type {\n",
              "        vertical-align: middle;\n",
              "    }\n",
              "\n",
              "    .dataframe tbody tr th {\n",
              "        vertical-align: top;\n",
              "    }\n",
              "\n",
              "    .dataframe thead th {\n",
              "        text-align: right;\n",
              "    }\n",
              "</style>\n",
              "<table border=\"1\" class=\"dataframe\">\n",
              "  <thead>\n",
              "    <tr style=\"text-align: right;\">\n",
              "      <th></th>\n",
              "      <th>CD_PROGRAMA_IES</th>\n",
              "      <th>AN_BASE</th>\n",
              "      <th>BOLSA</th>\n",
              "      <th>OUTRO_AUXÍLIO_FINANCEIRO</th>\n",
              "      <th>QTD_FINANCIAMENTOS</th>\n",
              "      <th>TEM_FINANCIADOR_ESTRANGEIRO</th>\n",
              "      <th>PÚBLICA_OU_PRIVADA</th>\n",
              "      <th>QTD_PROJETOS</th>\n",
              "    </tr>\n",
              "  </thead>\n",
              "  <tbody>\n",
              "    <tr>\n",
              "      <th>0</th>\n",
              "      <td>10001018002P1</td>\n",
              "      <td>2013</td>\n",
              "      <td>1</td>\n",
              "      <td>15</td>\n",
              "      <td>16</td>\n",
              "      <td>NaN</td>\n",
              "      <td>1</td>\n",
              "      <td>19</td>\n",
              "    </tr>\n",
              "    <tr>\n",
              "      <th>1</th>\n",
              "      <td>10001018002P1</td>\n",
              "      <td>2014</td>\n",
              "      <td>1</td>\n",
              "      <td>19</td>\n",
              "      <td>20</td>\n",
              "      <td>NaN</td>\n",
              "      <td>1</td>\n",
              "      <td>26</td>\n",
              "    </tr>\n",
              "    <tr>\n",
              "      <th>2</th>\n",
              "      <td>10001018002P1</td>\n",
              "      <td>2015</td>\n",
              "      <td>1</td>\n",
              "      <td>18</td>\n",
              "      <td>19</td>\n",
              "      <td>NaN</td>\n",
              "      <td>1</td>\n",
              "      <td>26</td>\n",
              "    </tr>\n",
              "    <tr>\n",
              "      <th>3</th>\n",
              "      <td>10001018002P1</td>\n",
              "      <td>2016</td>\n",
              "      <td>2</td>\n",
              "      <td>30</td>\n",
              "      <td>32</td>\n",
              "      <td>NaN</td>\n",
              "      <td>1</td>\n",
              "      <td>40</td>\n",
              "    </tr>\n",
              "    <tr>\n",
              "      <th>4</th>\n",
              "      <td>10001018002P1</td>\n",
              "      <td>2017</td>\n",
              "      <td>6</td>\n",
              "      <td>52</td>\n",
              "      <td>58</td>\n",
              "      <td>0.0</td>\n",
              "      <td>1</td>\n",
              "      <td>68</td>\n",
              "    </tr>\n",
              "    <tr>\n",
              "      <th>5</th>\n",
              "      <td>10001018002P1</td>\n",
              "      <td>2018</td>\n",
              "      <td>6</td>\n",
              "      <td>47</td>\n",
              "      <td>53</td>\n",
              "      <td>0.0</td>\n",
              "      <td>1</td>\n",
              "      <td>62</td>\n",
              "    </tr>\n",
              "    <tr>\n",
              "      <th>6</th>\n",
              "      <td>10001018004P4</td>\n",
              "      <td>2013</td>\n",
              "      <td>0</td>\n",
              "      <td>28</td>\n",
              "      <td>28</td>\n",
              "      <td>NaN</td>\n",
              "      <td>1</td>\n",
              "      <td>47</td>\n",
              "    </tr>\n",
              "    <tr>\n",
              "      <th>7</th>\n",
              "      <td>10001018004P4</td>\n",
              "      <td>2014</td>\n",
              "      <td>0</td>\n",
              "      <td>26</td>\n",
              "      <td>26</td>\n",
              "      <td>NaN</td>\n",
              "      <td>1</td>\n",
              "      <td>44</td>\n",
              "    </tr>\n",
              "    <tr>\n",
              "      <th>8</th>\n",
              "      <td>10001018004P4</td>\n",
              "      <td>2015</td>\n",
              "      <td>0</td>\n",
              "      <td>21</td>\n",
              "      <td>21</td>\n",
              "      <td>NaN</td>\n",
              "      <td>1</td>\n",
              "      <td>41</td>\n",
              "    </tr>\n",
              "    <tr>\n",
              "      <th>9</th>\n",
              "      <td>10001018004P4</td>\n",
              "      <td>2016</td>\n",
              "      <td>0</td>\n",
              "      <td>19</td>\n",
              "      <td>19</td>\n",
              "      <td>NaN</td>\n",
              "      <td>1</td>\n",
              "      <td>37</td>\n",
              "    </tr>\n",
              "  </tbody>\n",
              "</table>\n",
              "</div>"
            ],
            "text/plain": [
              "  CD_PROGRAMA_IES  AN_BASE  ...  PÚBLICA_OU_PRIVADA  QTD_PROJETOS\n",
              "0   10001018002P1     2013  ...                   1            19\n",
              "1   10001018002P1     2014  ...                   1            26\n",
              "2   10001018002P1     2015  ...                   1            26\n",
              "3   10001018002P1     2016  ...                   1            40\n",
              "4   10001018002P1     2017  ...                   1            68\n",
              "5   10001018002P1     2018  ...                   1            62\n",
              "6   10001018004P4     2013  ...                   1            47\n",
              "7   10001018004P4     2014  ...                   1            44\n",
              "8   10001018004P4     2015  ...                   1            41\n",
              "9   10001018004P4     2016  ...                   1            37\n",
              "\n",
              "[10 rows x 8 columns]"
            ]
          },
          "metadata": {
            "tags": []
          },
          "execution_count": 102
        }
      ]
    },
    {
      "cell_type": "markdown",
      "metadata": {
        "id": "5dVSjC54Ey9Y"
      },
      "source": [
        "#Clusterização"
      ]
    },
    {
      "cell_type": "code",
      "metadata": {
        "id": "uXLMPXMB5c-8"
      },
      "source": [
        "X = np.array(features.drop(['CD_PROGRAMA_IES', 'TEM_FINANCIADOR_ESTRANGEIRO'], axis=1))"
      ],
      "execution_count": null,
      "outputs": []
    },
    {
      "cell_type": "code",
      "metadata": {
        "colab": {
          "base_uri": "https://localhost:8080/"
        },
        "id": "SSlungRZFAIn",
        "outputId": "bccbdfe4-7dd9-4e67-b337-80a6fc018bbb"
      },
      "source": [
        "X #verificando se tá tudo certo no array"
      ],
      "execution_count": null,
      "outputs": [
        {
          "output_type": "execute_result",
          "data": {
            "text/plain": [
              "array([[2013,    1,   15,   16,    1,   19],\n",
              "       [2014,    1,   19,   20,    1,   26],\n",
              "       [2015,    1,   18,   19,    1,   26],\n",
              "       ...,\n",
              "       [2016,   11,   10,   21,    1,  164],\n",
              "       [2017,   30,   30,   60,    1,  232],\n",
              "       [2018,   42,   44,   86,    1,  397]])"
            ]
          },
          "metadata": {
            "tags": []
          },
          "execution_count": 104
        }
      ]
    },
    {
      "cell_type": "markdown",
      "metadata": {
        "id": "KiOWbXVBFRJl"
      },
      "source": [
        "K-Means"
      ]
    },
    {
      "cell_type": "code",
      "metadata": {
        "id": "EmMFqDT_FEwD"
      },
      "source": [
        "from sklearn.cluster import KMeans "
      ],
      "execution_count": null,
      "outputs": []
    },
    {
      "cell_type": "code",
      "metadata": {
        "id": "X7scuYfQFdEw"
      },
      "source": [
        "kmeans = KMeans(n_clusters=4, )"
      ],
      "execution_count": null,
      "outputs": []
    },
    {
      "cell_type": "code",
      "metadata": {
        "colab": {
          "base_uri": "https://localhost:8080/"
        },
        "id": "IdaaWfC3Fwnd",
        "outputId": "8bdb63d1-c980-4ef6-d640-931bcf4bb09e"
      },
      "source": [
        "kmeans.fit(X)"
      ],
      "execution_count": null,
      "outputs": [
        {
          "output_type": "execute_result",
          "data": {
            "text/plain": [
              "KMeans(algorithm='auto', copy_x=True, init='k-means++', max_iter=300,\n",
              "       n_clusters=4, n_init=10, n_jobs=None, precompute_distances='auto',\n",
              "       random_state=None, tol=0.0001, verbose=0)"
            ]
          },
          "metadata": {
            "tags": []
          },
          "execution_count": 118
        }
      ]
    },
    {
      "cell_type": "code",
      "metadata": {
        "colab": {
          "base_uri": "https://localhost:8080/"
        },
        "id": "SP5p5nriF3dL",
        "outputId": "11245981-e0b0-4a69-fdd8-9245bcf1ba93"
      },
      "source": [
        "kmeans.labels_.shape"
      ],
      "execution_count": null,
      "outputs": [
        {
          "output_type": "execute_result",
          "data": {
            "text/plain": [
              "(21975,)"
            ]
          },
          "metadata": {
            "tags": []
          },
          "execution_count": 119
        }
      ]
    },
    {
      "cell_type": "code",
      "metadata": {
        "id": "haQmt2uiJcRl"
      },
      "source": [
        "features['Kclasses'] = kmeans.labels_"
      ],
      "execution_count": null,
      "outputs": []
    },
    {
      "cell_type": "code",
      "metadata": {
        "id": "52FphlxWLCzi"
      },
      "source": [
        "from sklearn.manifold import TSNE\n",
        "\n"
      ],
      "execution_count": null,
      "outputs": []
    },
    {
      "cell_type": "code",
      "metadata": {
        "id": "tne7l5aZTV8A"
      },
      "source": [
        "m = TSNE(learning_rate = 10)"
      ],
      "execution_count": null,
      "outputs": []
    },
    {
      "cell_type": "code",
      "metadata": {
        "id": "97BPYbKXSc7d"
      },
      "source": [
        "tsne_features = m.fit_transform(X)"
      ],
      "execution_count": null,
      "outputs": []
    },
    {
      "cell_type": "code",
      "metadata": {
        "id": "2pOOYjKWTiTG"
      },
      "source": [
        "features['x'] = tsne_features[:, 0]\n",
        "\n",
        "features['y'] = tsne_features[:, 1]"
      ],
      "execution_count": null,
      "outputs": []
    },
    {
      "cell_type": "code",
      "metadata": {
        "colab": {
          "base_uri": "https://localhost:8080/"
        },
        "id": "kVRHZJvsQ0wq",
        "outputId": "fcfdabba-7f50-47c9-b9f8-f913e2dc1917"
      },
      "source": [
        "sns.scatterplot(x='x', y='y', hue ='Kclasses', data=features)\n",
        "\n",
        "plt.show()"
      ],
      "execution_count": null,
      "outputs": [
        {
          "output_type": "display_data",
          "data": {
            "image/png": "[encoded data removed]",
            "text/plain": [
              "<Figure size 432x288 with 1 Axes>"
            ]
          },
          "metadata": {
            "tags": [],
            "needs_background": "light"
          }
        }
      ]
    },
    {
      "cell_type": "code",
      "metadata": {
        "id": "SFiUWY3JRIMC"
      },
      "source": [
        ""
      ],
      "execution_count": null,
      "outputs": []
    }
  ]
}