{
 "cells": [
  {
   "cell_type": "code",
   "execution_count": null,
   "metadata": {},
   "outputs": [],
   "source": [
    "import pandas as pd\n",
    "import matplotlib.pyplot as plt\n",
    "import seaborn as sns\n",
    "import numpy as np"
   ]
  },
  {
   "cell_type": "code",
   "execution_count": 2,
   "metadata": {
    "scrolled": false
   },
   "outputs": [],
   "source": [
    "df=pd.read_excel('br-capes-colsucup-docente-2013a2016-2020-06-12_2016.xlsx')"
   ]
  },
  {
   "cell_type": "code",
   "execution_count": 3,
   "metadata": {},
   "outputs": [
    {
     "data": {
      "text/html": [
       "<div>\n",
       "<style scoped>\n",
       "    .dataframe tbody tr th:only-of-type {\n",
       "        vertical-align: middle;\n",
       "    }\n",
       "\n",
       "    .dataframe tbody tr th {\n",
       "        vertical-align: top;\n",
       "    }\n",
       "\n",
       "    .dataframe thead th {\n",
       "        text-align: right;\n",
       "    }\n",
       "</style>\n",
       "<table border=\"1\" class=\"dataframe\">\n",
       "  <thead>\n",
       "    <tr style=\"text-align: right;\">\n",
       "      <th></th>\n",
       "      <th>AN_BASE</th>\n",
       "      <th>CD_AREA_AVALIACAO</th>\n",
       "      <th>NM_AREA_AVALIACAO</th>\n",
       "      <th>NM_GRANDE_AREA_CONHECIMENTO</th>\n",
       "      <th>NM_AREA_CONHECIMENTO</th>\n",
       "      <th>CD_PROGRAMA_IES</th>\n",
       "      <th>NM_PROGRAMA_IES</th>\n",
       "      <th>NM_GRAU_PROGRAMA</th>\n",
       "      <th>NM_MODALIDADE_PROGRAMA</th>\n",
       "      <th>CD_CONCEITO_PROGRAMA</th>\n",
       "      <th>...</th>\n",
       "      <th>AN_TITULACAO</th>\n",
       "      <th>NM_GRAU_TITULACAO</th>\n",
       "      <th>CD_AREA_BASICA_TITULACAO</th>\n",
       "      <th>NM_AREA_BASICA_TITULACAO</th>\n",
       "      <th>SG_IES_TITULACAO</th>\n",
       "      <th>NM_IES_TITULACAO</th>\n",
       "      <th>NM_PAIS_IES_TITULACAO</th>\n",
       "      <th>ID_ADD_FOTO_PROGRAMA</th>\n",
       "      <th>ID_ADD_FOTO_PROGRAMA_IES</th>\n",
       "      <th>DS_CLIENTELA_QUADRIENAL_2017</th>\n",
       "    </tr>\n",
       "  </thead>\n",
       "  <tbody>\n",
       "    <tr>\n",
       "      <th>0</th>\n",
       "      <td>2016</td>\n",
       "      <td>9</td>\n",
       "      <td>CIÊNCIAS BIOLÓGICAS III</td>\n",
       "      <td>CIÊNCIAS BIOLÓGICAS</td>\n",
       "      <td>PARASITOLOGIA</td>\n",
       "      <td>10001018002P1</td>\n",
       "      <td>BIOLOGIA EXPERIMENTAL</td>\n",
       "      <td>MESTRADO/DOUTORADO</td>\n",
       "      <td>ACADÊMICO</td>\n",
       "      <td>3</td>\n",
       "      <td>...</td>\n",
       "      <td>1999</td>\n",
       "      <td>DOUTORADO</td>\n",
       "      <td>21300003</td>\n",
       "      <td>PARASITOLOGIA</td>\n",
       "      <td>USP</td>\n",
       "      <td>UNIVERSIDADE DE SÃO PAULO</td>\n",
       "      <td>BRASIL</td>\n",
       "      <td>57437</td>\n",
       "      <td>121358</td>\n",
       "      <td>AVALIAÇÃO</td>\n",
       "    </tr>\n",
       "    <tr>\n",
       "      <th>1</th>\n",
       "      <td>2016</td>\n",
       "      <td>9</td>\n",
       "      <td>CIÊNCIAS BIOLÓGICAS III</td>\n",
       "      <td>CIÊNCIAS BIOLÓGICAS</td>\n",
       "      <td>PARASITOLOGIA</td>\n",
       "      <td>10001018002P1</td>\n",
       "      <td>BIOLOGIA EXPERIMENTAL</td>\n",
       "      <td>MESTRADO/DOUTORADO</td>\n",
       "      <td>ACADÊMICO</td>\n",
       "      <td>3</td>\n",
       "      <td>...</td>\n",
       "      <td>2004</td>\n",
       "      <td>DOUTORADO</td>\n",
       "      <td>20100000</td>\n",
       "      <td>BIOLOGIA GERAL</td>\n",
       "      <td>UNB</td>\n",
       "      <td>UNIVERSIDADE DE BRASÍLIA</td>\n",
       "      <td>BRASIL</td>\n",
       "      <td>57437</td>\n",
       "      <td>121358</td>\n",
       "      <td>AVALIAÇÃO</td>\n",
       "    </tr>\n",
       "    <tr>\n",
       "      <th>2</th>\n",
       "      <td>2016</td>\n",
       "      <td>9</td>\n",
       "      <td>CIÊNCIAS BIOLÓGICAS III</td>\n",
       "      <td>CIÊNCIAS BIOLÓGICAS</td>\n",
       "      <td>PARASITOLOGIA</td>\n",
       "      <td>10001018002P1</td>\n",
       "      <td>BIOLOGIA EXPERIMENTAL</td>\n",
       "      <td>MESTRADO/DOUTORADO</td>\n",
       "      <td>ACADÊMICO</td>\n",
       "      <td>3</td>\n",
       "      <td>...</td>\n",
       "      <td>1991</td>\n",
       "      <td>DOUTORADO</td>\n",
       "      <td>20205007</td>\n",
       "      <td>GENÉTICA HUMANA E MÉDICA</td>\n",
       "      <td>USP</td>\n",
       "      <td>UNIVERSIDADE DE SÃO PAULO</td>\n",
       "      <td>BRASIL</td>\n",
       "      <td>57437</td>\n",
       "      <td>121358</td>\n",
       "      <td>AVALIAÇÃO</td>\n",
       "    </tr>\n",
       "    <tr>\n",
       "      <th>3</th>\n",
       "      <td>2016</td>\n",
       "      <td>9</td>\n",
       "      <td>CIÊNCIAS BIOLÓGICAS III</td>\n",
       "      <td>CIÊNCIAS BIOLÓGICAS</td>\n",
       "      <td>PARASITOLOGIA</td>\n",
       "      <td>10001018002P1</td>\n",
       "      <td>BIOLOGIA EXPERIMENTAL</td>\n",
       "      <td>MESTRADO/DOUTORADO</td>\n",
       "      <td>ACADÊMICO</td>\n",
       "      <td>3</td>\n",
       "      <td>...</td>\n",
       "      <td>2008</td>\n",
       "      <td>DOUTORADO</td>\n",
       "      <td>40101134</td>\n",
       "      <td>NEFROLOGIA</td>\n",
       "      <td>UNIFESP</td>\n",
       "      <td>UNIVERSIDADE FEDERAL DE SÃO PAULO</td>\n",
       "      <td>BRASIL</td>\n",
       "      <td>57437</td>\n",
       "      <td>121358</td>\n",
       "      <td>AVALIAÇÃO</td>\n",
       "    </tr>\n",
       "    <tr>\n",
       "      <th>4</th>\n",
       "      <td>2016</td>\n",
       "      <td>9</td>\n",
       "      <td>CIÊNCIAS BIOLÓGICAS III</td>\n",
       "      <td>CIÊNCIAS BIOLÓGICAS</td>\n",
       "      <td>PARASITOLOGIA</td>\n",
       "      <td>10001018002P1</td>\n",
       "      <td>BIOLOGIA EXPERIMENTAL</td>\n",
       "      <td>MESTRADO/DOUTORADO</td>\n",
       "      <td>ACADÊMICO</td>\n",
       "      <td>3</td>\n",
       "      <td>...</td>\n",
       "      <td>2005</td>\n",
       "      <td>DOUTORADO</td>\n",
       "      <td>40200000</td>\n",
       "      <td>ODONTOLOGIA</td>\n",
       "      <td>USP</td>\n",
       "      <td>UNIVERSIDADE DE SÃO PAULO</td>\n",
       "      <td>BRASIL</td>\n",
       "      <td>57437</td>\n",
       "      <td>121358</td>\n",
       "      <td>AVALIAÇÃO</td>\n",
       "    </tr>\n",
       "  </tbody>\n",
       "</table>\n",
       "<p>5 rows × 43 columns</p>\n",
       "</div>"
      ],
      "text/plain": [
       "   AN_BASE  CD_AREA_AVALIACAO        NM_AREA_AVALIACAO  \\\n",
       "0     2016                  9  CIÊNCIAS BIOLÓGICAS III   \n",
       "1     2016                  9  CIÊNCIAS BIOLÓGICAS III   \n",
       "2     2016                  9  CIÊNCIAS BIOLÓGICAS III   \n",
       "3     2016                  9  CIÊNCIAS BIOLÓGICAS III   \n",
       "4     2016                  9  CIÊNCIAS BIOLÓGICAS III   \n",
       "\n",
       "  NM_GRANDE_AREA_CONHECIMENTO NM_AREA_CONHECIMENTO CD_PROGRAMA_IES  \\\n",
       "0         CIÊNCIAS BIOLÓGICAS        PARASITOLOGIA   10001018002P1   \n",
       "1         CIÊNCIAS BIOLÓGICAS        PARASITOLOGIA   10001018002P1   \n",
       "2         CIÊNCIAS BIOLÓGICAS        PARASITOLOGIA   10001018002P1   \n",
       "3         CIÊNCIAS BIOLÓGICAS        PARASITOLOGIA   10001018002P1   \n",
       "4         CIÊNCIAS BIOLÓGICAS        PARASITOLOGIA   10001018002P1   \n",
       "\n",
       "         NM_PROGRAMA_IES    NM_GRAU_PROGRAMA NM_MODALIDADE_PROGRAMA  \\\n",
       "0  BIOLOGIA EXPERIMENTAL  MESTRADO/DOUTORADO              ACADÊMICO   \n",
       "1  BIOLOGIA EXPERIMENTAL  MESTRADO/DOUTORADO              ACADÊMICO   \n",
       "2  BIOLOGIA EXPERIMENTAL  MESTRADO/DOUTORADO              ACADÊMICO   \n",
       "3  BIOLOGIA EXPERIMENTAL  MESTRADO/DOUTORADO              ACADÊMICO   \n",
       "4  BIOLOGIA EXPERIMENTAL  MESTRADO/DOUTORADO              ACADÊMICO   \n",
       "\n",
       "   CD_CONCEITO_PROGRAMA  ...  AN_TITULACAO NM_GRAU_TITULACAO  \\\n",
       "0                     3  ...          1999         DOUTORADO   \n",
       "1                     3  ...          2004         DOUTORADO   \n",
       "2                     3  ...          1991         DOUTORADO   \n",
       "3                     3  ...          2008         DOUTORADO   \n",
       "4                     3  ...          2005         DOUTORADO   \n",
       "\n",
       "  CD_AREA_BASICA_TITULACAO  NM_AREA_BASICA_TITULACAO SG_IES_TITULACAO  \\\n",
       "0                 21300003             PARASITOLOGIA              USP   \n",
       "1                 20100000            BIOLOGIA GERAL              UNB   \n",
       "2                 20205007  GENÉTICA HUMANA E MÉDICA              USP   \n",
       "3                 40101134                NEFROLOGIA          UNIFESP   \n",
       "4                 40200000               ODONTOLOGIA              USP   \n",
       "\n",
       "                    NM_IES_TITULACAO NM_PAIS_IES_TITULACAO  \\\n",
       "0          UNIVERSIDADE DE SÃO PAULO                BRASIL   \n",
       "1           UNIVERSIDADE DE BRASÍLIA                BRASIL   \n",
       "2          UNIVERSIDADE DE SÃO PAULO                BRASIL   \n",
       "3  UNIVERSIDADE FEDERAL DE SÃO PAULO                BRASIL   \n",
       "4          UNIVERSIDADE DE SÃO PAULO                BRASIL   \n",
       "\n",
       "  ID_ADD_FOTO_PROGRAMA ID_ADD_FOTO_PROGRAMA_IES  DS_CLIENTELA_QUADRIENAL_2017  \n",
       "0                57437                   121358                     AVALIAÇÃO  \n",
       "1                57437                   121358                     AVALIAÇÃO  \n",
       "2                57437                   121358                     AVALIAÇÃO  \n",
       "3                57437                   121358                     AVALIAÇÃO  \n",
       "4                57437                   121358                     AVALIAÇÃO  \n",
       "\n",
       "[5 rows x 43 columns]"
      ]
     },
     "execution_count": 3,
     "metadata": {},
     "output_type": "execute_result"
    }
   ],
   "source": [
    "df.head()"
   ]
  },
  {
   "cell_type": "code",
   "execution_count": 4,
   "metadata": {
    "scrolled": false
   },
   "outputs": [
    {
     "name": "stdout",
     "output_type": "stream",
     "text": [
      "<class 'pandas.core.frame.DataFrame'>\n",
      "RangeIndex: 95246 entries, 0 to 95245\n",
      "Data columns (total 43 columns):\n",
      " #   Column                         Non-Null Count  Dtype \n",
      "---  ------                         --------------  ----- \n",
      " 0   AN_BASE                        95246 non-null  int64 \n",
      " 1   CD_AREA_AVALIACAO              95246 non-null  int64 \n",
      " 2   NM_AREA_AVALIACAO              95246 non-null  object\n",
      " 3   NM_GRANDE_AREA_CONHECIMENTO    95246 non-null  object\n",
      " 4   NM_AREA_CONHECIMENTO           95246 non-null  object\n",
      " 5   CD_PROGRAMA_IES                95246 non-null  object\n",
      " 6   NM_PROGRAMA_IES                95246 non-null  object\n",
      " 7   NM_GRAU_PROGRAMA               95246 non-null  object\n",
      " 8   NM_MODALIDADE_PROGRAMA         95246 non-null  object\n",
      " 9   CD_CONCEITO_PROGRAMA           95246 non-null  int64 \n",
      " 10  CD_ENTIDADE_CAPES              95246 non-null  int64 \n",
      " 11  CD_ENTIDADE_EMEC               95246 non-null  object\n",
      " 12  SG_ENTIDADE_ENSINO             95246 non-null  object\n",
      " 13  NM_ENTIDADE_ENSINO             95246 non-null  object\n",
      " 14  DS_DEPENDENCIA_ADMINISTRATIVA  95246 non-null  object\n",
      " 15  CS_STATUS_JURIDICO             95246 non-null  object\n",
      " 16  NM_MUNICIPIO_PROGRAMA_IES      95246 non-null  object\n",
      " 17  SG_UF_PROGRAMA                 95246 non-null  object\n",
      " 18  NM_REGIAO                      95246 non-null  object\n",
      " 19  ID_PESSOA                      95246 non-null  int64 \n",
      " 20  TP_DOCUMENTO_DOCENTE           95246 non-null  object\n",
      " 21  NR_DOCUMENTO_DOCENTE           95246 non-null  object\n",
      " 22  NM_DOCENTE                     95246 non-null  object\n",
      " 23  TP_SEXO_DOCENTE                95246 non-null  object\n",
      " 24  AN_NASCIMENTO_DOCENTE          95246 non-null  int64 \n",
      " 25  DS_FAIXA_ETARIA                95233 non-null  object\n",
      " 26  DS_TIPO_NACIONALIDADE_DOCENTE  95246 non-null  object\n",
      " 27  NM_PAIS_NACIONALIDADE_DOCENTE  95246 non-null  object\n",
      " 28  DS_CATEGORIA_DOCENTE           95246 non-null  object\n",
      " 29  DS_TIPO_VINCULO_DOCENTE_IES    95246 non-null  object\n",
      " 30  DS_REGIME_TRABALHO             95246 non-null  object\n",
      " 31  CD_CAT_BOLSA_PRODUTIVIDADE     22144 non-null  object\n",
      " 32  IN_DOUTOR                      95246 non-null  object\n",
      " 33  AN_TITULACAO                   95246 non-null  int64 \n",
      " 34  NM_GRAU_TITULACAO              95246 non-null  object\n",
      " 35  CD_AREA_BASICA_TITULACAO       95246 non-null  int64 \n",
      " 36  NM_AREA_BASICA_TITULACAO       95246 non-null  object\n",
      " 37  SG_IES_TITULACAO               91821 non-null  object\n",
      " 38  NM_IES_TITULACAO               95246 non-null  object\n",
      " 39  NM_PAIS_IES_TITULACAO          95246 non-null  object\n",
      " 40  ID_ADD_FOTO_PROGRAMA           95246 non-null  int64 \n",
      " 41  ID_ADD_FOTO_PROGRAMA_IES       95246 non-null  int64 \n",
      " 42  DS_CLIENTELA_QUADRIENAL_2017   95246 non-null  object\n",
      "dtypes: int64(10), object(33)\n",
      "memory usage: 31.2+ MB\n"
     ]
    }
   ],
   "source": [
    "df.info()"
   ]
  },
  {
   "cell_type": "code",
   "execution_count": 5,
   "metadata": {},
   "outputs": [
    {
     "data": {
      "text/html": [
       "<div>\n",
       "<style scoped>\n",
       "    .dataframe tbody tr th:only-of-type {\n",
       "        vertical-align: middle;\n",
       "    }\n",
       "\n",
       "    .dataframe tbody tr th {\n",
       "        vertical-align: top;\n",
       "    }\n",
       "\n",
       "    .dataframe thead th {\n",
       "        text-align: right;\n",
       "    }\n",
       "</style>\n",
       "<table border=\"1\" class=\"dataframe\">\n",
       "  <thead>\n",
       "    <tr style=\"text-align: right;\">\n",
       "      <th></th>\n",
       "      <th>AN_BASE</th>\n",
       "      <th>CD_AREA_AVALIACAO</th>\n",
       "      <th>CD_CONCEITO_PROGRAMA</th>\n",
       "      <th>CD_ENTIDADE_CAPES</th>\n",
       "      <th>ID_PESSOA</th>\n",
       "      <th>AN_NASCIMENTO_DOCENTE</th>\n",
       "      <th>AN_TITULACAO</th>\n",
       "      <th>CD_AREA_BASICA_TITULACAO</th>\n",
       "      <th>ID_ADD_FOTO_PROGRAMA</th>\n",
       "      <th>ID_ADD_FOTO_PROGRAMA_IES</th>\n",
       "    </tr>\n",
       "    <tr>\n",
       "      <th>CD_CAT_BOLSA_PRODUTIVIDADE</th>\n",
       "      <th></th>\n",
       "      <th></th>\n",
       "      <th></th>\n",
       "      <th></th>\n",
       "      <th></th>\n",
       "      <th></th>\n",
       "      <th></th>\n",
       "      <th></th>\n",
       "      <th></th>\n",
       "      <th></th>\n",
       "    </tr>\n",
       "  </thead>\n",
       "  <tbody>\n",
       "    <tr>\n",
       "      <th>1A</th>\n",
       "      <td>2016.0</td>\n",
       "      <td>20.105731</td>\n",
       "      <td>5.371047</td>\n",
       "      <td>3.320409e+07</td>\n",
       "      <td>44527.402174</td>\n",
       "      <td>1953.453063</td>\n",
       "      <td>1987.016304</td>\n",
       "      <td>3.570992e+07</td>\n",
       "      <td>58055.794960</td>\n",
       "      <td>122044.150692</td>\n",
       "    </tr>\n",
       "    <tr>\n",
       "      <th>1B</th>\n",
       "      <td>2016.0</td>\n",
       "      <td>19.855463</td>\n",
       "      <td>5.233219</td>\n",
       "      <td>3.347095e+07</td>\n",
       "      <td>90586.706516</td>\n",
       "      <td>1956.730034</td>\n",
       "      <td>1990.753062</td>\n",
       "      <td>3.530151e+07</td>\n",
       "      <td>58118.192553</td>\n",
       "      <td>122112.119059</td>\n",
       "    </tr>\n",
       "    <tr>\n",
       "      <th>1C</th>\n",
       "      <td>2016.0</td>\n",
       "      <td>19.899452</td>\n",
       "      <td>5.203382</td>\n",
       "      <td>3.294722e+07</td>\n",
       "      <td>136632.101463</td>\n",
       "      <td>1959.608318</td>\n",
       "      <td>1993.692413</td>\n",
       "      <td>3.375744e+07</td>\n",
       "      <td>58204.840951</td>\n",
       "      <td>122208.926874</td>\n",
       "    </tr>\n",
       "    <tr>\n",
       "      <th>1D</th>\n",
       "      <td>2016.0</td>\n",
       "      <td>21.736133</td>\n",
       "      <td>4.966455</td>\n",
       "      <td>3.308126e+07</td>\n",
       "      <td>211496.132066</td>\n",
       "      <td>1962.102483</td>\n",
       "      <td>1996.521395</td>\n",
       "      <td>3.619674e+07</td>\n",
       "      <td>58264.254094</td>\n",
       "      <td>122272.989435</td>\n",
       "    </tr>\n",
       "    <tr>\n",
       "      <th>2</th>\n",
       "      <td>2016.0</td>\n",
       "      <td>22.075590</td>\n",
       "      <td>4.646911</td>\n",
       "      <td>3.325174e+07</td>\n",
       "      <td>311761.294994</td>\n",
       "      <td>1966.646158</td>\n",
       "      <td>2000.790976</td>\n",
       "      <td>3.714369e+07</td>\n",
       "      <td>58400.893521</td>\n",
       "      <td>122423.985518</td>\n",
       "    </tr>\n",
       "    <tr>\n",
       "      <th>SR</th>\n",
       "      <td>2016.0</td>\n",
       "      <td>22.006289</td>\n",
       "      <td>5.213836</td>\n",
       "      <td>3.299408e+07</td>\n",
       "      <td>44427.352201</td>\n",
       "      <td>1942.018868</td>\n",
       "      <td>1976.735849</td>\n",
       "      <td>3.902087e+07</td>\n",
       "      <td>58143.943396</td>\n",
       "      <td>122140.911950</td>\n",
       "    </tr>\n",
       "  </tbody>\n",
       "</table>\n",
       "</div>"
      ],
      "text/plain": [
       "                            AN_BASE  CD_AREA_AVALIACAO  CD_CONCEITO_PROGRAMA  \\\n",
       "CD_CAT_BOLSA_PRODUTIVIDADE                                                     \n",
       "1A                           2016.0          20.105731              5.371047   \n",
       "1B                           2016.0          19.855463              5.233219   \n",
       "1C                           2016.0          19.899452              5.203382   \n",
       "1D                           2016.0          21.736133              4.966455   \n",
       "2                            2016.0          22.075590              4.646911   \n",
       "SR                           2016.0          22.006289              5.213836   \n",
       "\n",
       "                            CD_ENTIDADE_CAPES      ID_PESSOA  \\\n",
       "CD_CAT_BOLSA_PRODUTIVIDADE                                     \n",
       "1A                               3.320409e+07   44527.402174   \n",
       "1B                               3.347095e+07   90586.706516   \n",
       "1C                               3.294722e+07  136632.101463   \n",
       "1D                               3.308126e+07  211496.132066   \n",
       "2                                3.325174e+07  311761.294994   \n",
       "SR                               3.299408e+07   44427.352201   \n",
       "\n",
       "                            AN_NASCIMENTO_DOCENTE  AN_TITULACAO  \\\n",
       "CD_CAT_BOLSA_PRODUTIVIDADE                                        \n",
       "1A                                    1953.453063   1987.016304   \n",
       "1B                                    1956.730034   1990.753062   \n",
       "1C                                    1959.608318   1993.692413   \n",
       "1D                                    1962.102483   1996.521395   \n",
       "2                                     1966.646158   2000.790976   \n",
       "SR                                    1942.018868   1976.735849   \n",
       "\n",
       "                            CD_AREA_BASICA_TITULACAO  ID_ADD_FOTO_PROGRAMA  \\\n",
       "CD_CAT_BOLSA_PRODUTIVIDADE                                                   \n",
       "1A                                      3.570992e+07          58055.794960   \n",
       "1B                                      3.530151e+07          58118.192553   \n",
       "1C                                      3.375744e+07          58204.840951   \n",
       "1D                                      3.619674e+07          58264.254094   \n",
       "2                                       3.714369e+07          58400.893521   \n",
       "SR                                      3.902087e+07          58143.943396   \n",
       "\n",
       "                            ID_ADD_FOTO_PROGRAMA_IES  \n",
       "CD_CAT_BOLSA_PRODUTIVIDADE                            \n",
       "1A                                     122044.150692  \n",
       "1B                                     122112.119059  \n",
       "1C                                     122208.926874  \n",
       "1D                                     122272.989435  \n",
       "2                                      122423.985518  \n",
       "SR                                     122140.911950  "
      ]
     },
     "execution_count": 5,
     "metadata": {},
     "output_type": "execute_result"
    }
   ],
   "source": [
    "df.groupby('CD_CAT_BOLSA_PRODUTIVIDADE').mean()"
   ]
  },
  {
   "cell_type": "code",
   "execution_count": 6,
   "metadata": {
    "scrolled": false
   },
   "outputs": [
    {
     "name": "stderr",
     "output_type": "stream",
     "text": [
      "/home/gustavo/anaconda3/lib/python3.8/site-packages/seaborn/_decorators.py:36: FutureWarning: Pass the following variables as keyword args: x, y. From version 0.12, the only valid positional argument will be `data`, and passing other arguments without an explicit keyword will result in an error or misinterpretation.\n",
      "  warnings.warn(\n"
     ]
    },
    {
     "data": {
      "text/plain": [
       "Text(0, 0.5, 'Ano de titulação')"
      ]
     },
     "execution_count": 6,
     "metadata": {},
     "output_type": "execute_result"
    },
    {
     "data": {
      "image/png": "[encoded data removed]",
      "text/plain": [
       "<Figure size 432x288 with 1 Axes>"
      ]
     },
     "metadata": {
      "needs_background": "light"
     },
     "output_type": "display_data"
    }
   ],
   "source": [
    "ano=df.groupby('CD_PROGRAMA_IES').mean()['AN_TITULACAO']\n",
    "conceito=df.groupby('CD_PROGRAMA_IES').mean()['CD_CONCEITO_PROGRAMA']\n",
    "sns.regplot(conceito,ano,x_estimator=np.mean,color='black')\n",
    "plt.xlabel('Conceito CAPES')\n",
    "plt.ylabel('Ano de titulação')"
   ]
  },
  {
   "cell_type": "code",
   "execution_count": 7,
   "metadata": {},
   "outputs": [
    {
     "name": "stderr",
     "output_type": "stream",
     "text": [
      "/home/gustavo/anaconda3/lib/python3.8/site-packages/seaborn/_decorators.py:36: FutureWarning: Pass the following variables as keyword args: x, y. From version 0.12, the only valid positional argument will be `data`, and passing other arguments without an explicit keyword will result in an error or misinterpretation.\n",
      "  warnings.warn(\n"
     ]
    },
    {
     "data": {
      "text/plain": [
       "Text(0, 0.5, 'Ano de nascimento')"
      ]
     },
     "execution_count": 7,
     "metadata": {},
     "output_type": "execute_result"
    },
    {
     "data": {
      "image/png": "[encoded data removed]",
      "text/plain": [
       "<Figure size 432x288 with 1 Axes>"
      ]
     },
     "metadata": {
      "needs_background": "light"
     },
     "output_type": "display_data"
    }
   ],
   "source": [
    "ano=df.groupby('CD_PROGRAMA_IES').mean()['AN_NASCIMENTO_DOCENTE']\n",
    "conceito=df.groupby('CD_PROGRAMA_IES').mean()['CD_CONCEITO_PROGRAMA']\n",
    "sns.regplot(conceito,ano,x_estimator=np.mean,color='black')\n",
    "plt.xlabel('Conceito CAPES')\n",
    "plt.ylabel('Ano de nascimento')"
   ]
  },
  {
   "cell_type": "code",
   "execution_count": 8,
   "metadata": {},
   "outputs": [
    {
     "data": {
      "text/plain": [
       "NM_GRAU_TITULACAO\n",
       "BACHARELADO              4.33\n",
       "DOUTORADO                4.24\n",
       "MESTRADO                 3.95\n",
       "MESTRADO PROFISSIONAL    3.48\n",
       "Name: CD_CONCEITO_PROGRAMA, dtype: float64"
      ]
     },
     "execution_count": 8,
     "metadata": {},
     "output_type": "execute_result"
    }
   ],
   "source": [
    "#por grau de titulação\n",
    "\n",
    "df.groupby('NM_GRAU_TITULACAO').mean()['CD_CONCEITO_PROGRAMA'].round(2)"
   ]
  },
  {
   "cell_type": "code",
   "execution_count": 9,
   "metadata": {},
   "outputs": [
    {
     "data": {
      "text/plain": [
       "NM_GRAU_TITULACAO\n",
       "BACHARELADO                 67\n",
       "DOUTORADO                94334\n",
       "MESTRADO                   785\n",
       "MESTRADO PROFISSIONAL       60\n",
       "dtype: int64"
      ]
     },
     "execution_count": 9,
     "metadata": {},
     "output_type": "execute_result"
    }
   ],
   "source": [
    "#vendo o tamanho\n",
    "\n",
    "df.groupby('NM_GRAU_TITULACAO').size()"
   ]
  },
  {
   "cell_type": "code",
   "execution_count": 10,
   "metadata": {
    "scrolled": true
   },
   "outputs": [
    {
     "data": {
      "text/plain": [
       "TP_SEXO_DOCENTE\n",
       "FEMININO     4.19\n",
       "MASCULINO    4.26\n",
       "Name: CD_CONCEITO_PROGRAMA, dtype: float64"
      ]
     },
     "execution_count": 10,
     "metadata": {},
     "output_type": "execute_result"
    }
   ],
   "source": [
    "#por sexo\n",
    "\n",
    "df.groupby('TP_SEXO_DOCENTE').mean()['CD_CONCEITO_PROGRAMA'].round(2)"
   ]
  },
  {
   "cell_type": "code",
   "execution_count": 11,
   "metadata": {},
   "outputs": [
    {
     "data": {
      "text/plain": [
       "TP_SEXO_DOCENTE\n",
       "FEMININO     39811\n",
       "MASCULINO    55435\n",
       "dtype: int64"
      ]
     },
     "execution_count": 11,
     "metadata": {},
     "output_type": "execute_result"
    }
   ],
   "source": [
    "#vendo o tamanho\n",
    "\n",
    "df.groupby('TP_SEXO_DOCENTE').size()"
   ]
  },
  {
   "cell_type": "code",
   "execution_count": 12,
   "metadata": {},
   "outputs": [
    {
     "data": {
      "text/plain": [
       "DS_TIPO_NACIONALIDADE_DOCENTE\n",
       "BRASILEIRO     4.23\n",
       "ESTRANGEIRO    4.59\n",
       "Name: CD_CONCEITO_PROGRAMA, dtype: float64"
      ]
     },
     "execution_count": 12,
     "metadata": {},
     "output_type": "execute_result"
    }
   ],
   "source": [
    "#brasileiro ou estrangeiro\n",
    "\n",
    "df.groupby('DS_TIPO_NACIONALIDADE_DOCENTE').mean()['CD_CONCEITO_PROGRAMA'].round(2)"
   ]
  },
  {
   "cell_type": "code",
   "execution_count": 28,
   "metadata": {},
   "outputs": [
    {
     "data": {
      "text/plain": [
       "DS_TIPO_NACIONALIDADE_DOCENTE\n",
       "BRASILEIRO     92579\n",
       "ESTRANGEIRO     2667\n",
       "dtype: int64"
      ]
     },
     "execution_count": 28,
     "metadata": {},
     "output_type": "execute_result"
    }
   ],
   "source": [
    "#vendo por tipo de docente\n",
    "\n",
    "df.groupby('DS_TIPO_NACIONALIDADE_DOCENTE').size()"
   ]
  },
  {
   "cell_type": "code",
   "execution_count": 13,
   "metadata": {
    "scrolled": true
   },
   "outputs": [
    {
     "data": {
      "text/plain": [
       "NM_PAIS_NACIONALIDADE_DOCENTE\n",
       "PAQUISTÃO           7.00\n",
       "NEPAL               7.00\n",
       "SUDÃO               7.00\n",
       "MACEDONIA           7.00\n",
       "COREIA DO NORTE     6.00\n",
       "SAARA OCIDENTAL     6.00\n",
       "ESLOVÊNIA           6.00\n",
       "IRÃ                 5.62\n",
       "ARMÉNIA             5.50\n",
       "CONGO               5.50\n",
       "BULGÁRIA            5.31\n",
       "AUSTRÁLIA           5.17\n",
       "DINAMARCA           5.14\n",
       "REPÚBLICA TCHECA    5.14\n",
       "UCRÂNIA             5.10\n",
       "Name: CD_CONCEITO_PROGRAMA, dtype: float64"
      ]
     },
     "execution_count": 13,
     "metadata": {},
     "output_type": "execute_result"
    }
   ],
   "source": [
    "#por nacionalidade do docente\n",
    "\n",
    "df.groupby('NM_PAIS_NACIONALIDADE_DOCENTE').mean()['CD_CONCEITO_PROGRAMA'].round(2).sort_values(ascending=False).head(15)"
   ]
  },
  {
   "cell_type": "code",
   "execution_count": 14,
   "metadata": {},
   "outputs": [
    {
     "data": {
      "text/plain": [
       "NM_PAIS_NACIONALIDADE_DOCENTE\n",
       "BRASIL            92579\n",
       "ARGENTINA           253\n",
       "PORTUGAL            217\n",
       "ESTADOS UNIDOS      216\n",
       "ITÁLIA              198\n",
       "PERU                196\n",
       "FRANÇA              179\n",
       "ALEMANHA            158\n",
       "ESPANHA             147\n",
       "CHILE               105\n",
       "CUBA                 94\n",
       "COLÔMBIA             93\n",
       "URUGUAI              77\n",
       "REINO UNIDO          76\n",
       "RÚSSIA               56\n",
       "dtype: int64"
      ]
     },
     "execution_count": 14,
     "metadata": {},
     "output_type": "execute_result"
    }
   ],
   "source": [
    "#quais países tem mais docentes\n",
    "\n",
    "df.groupby('NM_PAIS_NACIONALIDADE_DOCENTE').size().round(2).sort_values(ascending=False).head(15)"
   ]
  },
  {
   "cell_type": "code",
   "execution_count": 15,
   "metadata": {},
   "outputs": [
    {
     "data": {
      "text/plain": [
       "NM_PAIS_IES_TITULACAO\n",
       "PORTO RICO          7.00\n",
       "GEÓRGIA             7.00\n",
       "ESLOVÊNIA           7.00\n",
       "REPÚBLICA TCHECA    5.50\n",
       "ISRAEL              5.36\n",
       "HUNGRIA             5.33\n",
       "BULGÁRIA            5.22\n",
       "CAMARÕES            5.00\n",
       "DINAMARCA           4.87\n",
       "ESTADOS UNIDOS      4.86\n",
       "NOVA ZELÂNDIA       4.80\n",
       "ARGENTINA           4.76\n",
       "SUÍÇA               4.71\n",
       "SUÉCIA              4.70\n",
       "REINO UNIDO         4.70\n",
       "Name: CD_CONCEITO_PROGRAMA, dtype: float64"
      ]
     },
     "execution_count": 15,
     "metadata": {},
     "output_type": "execute_result"
    }
   ],
   "source": [
    "#por país da titulação\n",
    "\n",
    "df.groupby('NM_PAIS_IES_TITULACAO').mean()['CD_CONCEITO_PROGRAMA'].round(2).sort_values(ascending=False).head(15)"
   ]
  },
  {
   "cell_type": "code",
   "execution_count": 16,
   "metadata": {
    "scrolled": true
   },
   "outputs": [
    {
     "data": {
      "text/plain": [
       "NM_GRANDE_AREA_CONHECIMENTO\n",
       "CIÊNCIAS EXATAS E DA TERRA     4.74\n",
       "CIÊNCIAS BIOLÓGICAS            4.69\n",
       "CIÊNCIAS DA SAÚDE              4.32\n",
       "ENGENHARIAS                    4.28\n",
       "CIÊNCIAS AGRÁRIAS              4.25\n",
       "CIÊNCIAS HUMANAS               4.21\n",
       "LINGÜÍSTICA, LETRAS E ARTES    4.20\n",
       "CIÊNCIAS SOCIAIS APLICADAS     3.99\n",
       "MULTIDISCIPLINAR               3.70\n",
       "Name: CD_CONCEITO_PROGRAMA, dtype: float64"
      ]
     },
     "execution_count": 16,
     "metadata": {},
     "output_type": "execute_result"
    }
   ],
   "source": [
    "#por grande área do conhecimento\n",
    "\n",
    "df.groupby('NM_GRANDE_AREA_CONHECIMENTO').mean()['CD_CONCEITO_PROGRAMA'].round(2).sort_values(ascending=False).head(15)"
   ]
  },
  {
   "cell_type": "code",
   "execution_count": 34,
   "metadata": {},
   "outputs": [
    {
     "data": {
      "text/html": [
       "<div>\n",
       "<style scoped>\n",
       "    .dataframe tbody tr th:only-of-type {\n",
       "        vertical-align: middle;\n",
       "    }\n",
       "\n",
       "    .dataframe tbody tr th {\n",
       "        vertical-align: top;\n",
       "    }\n",
       "\n",
       "    .dataframe thead th {\n",
       "        text-align: right;\n",
       "    }\n",
       "</style>\n",
       "<table border=\"1\" class=\"dataframe\">\n",
       "  <thead>\n",
       "    <tr style=\"text-align: right;\">\n",
       "      <th></th>\n",
       "      <th>AN_BASE</th>\n",
       "      <th>CD_AREA_AVALIACAO</th>\n",
       "      <th>NM_AREA_AVALIACAO</th>\n",
       "      <th>NM_GRANDE_AREA_CONHECIMENTO</th>\n",
       "      <th>NM_AREA_CONHECIMENTO</th>\n",
       "      <th>NM_PROGRAMA_IES</th>\n",
       "      <th>NM_GRAU_PROGRAMA</th>\n",
       "      <th>NM_MODALIDADE_PROGRAMA</th>\n",
       "      <th>CD_CONCEITO_PROGRAMA</th>\n",
       "      <th>CD_ENTIDADE_CAPES</th>\n",
       "      <th>...</th>\n",
       "      <th>AN_TITULACAO</th>\n",
       "      <th>NM_GRAU_TITULACAO</th>\n",
       "      <th>CD_AREA_BASICA_TITULACAO</th>\n",
       "      <th>NM_AREA_BASICA_TITULACAO</th>\n",
       "      <th>SG_IES_TITULACAO</th>\n",
       "      <th>NM_IES_TITULACAO</th>\n",
       "      <th>NM_PAIS_IES_TITULACAO</th>\n",
       "      <th>ID_ADD_FOTO_PROGRAMA</th>\n",
       "      <th>ID_ADD_FOTO_PROGRAMA_IES</th>\n",
       "      <th>DS_CLIENTELA_QUADRIENAL_2017</th>\n",
       "    </tr>\n",
       "    <tr>\n",
       "      <th>CD_PROGRAMA_IES</th>\n",
       "      <th></th>\n",
       "      <th></th>\n",
       "      <th></th>\n",
       "      <th></th>\n",
       "      <th></th>\n",
       "      <th></th>\n",
       "      <th></th>\n",
       "      <th></th>\n",
       "      <th></th>\n",
       "      <th></th>\n",
       "      <th></th>\n",
       "      <th></th>\n",
       "      <th></th>\n",
       "      <th></th>\n",
       "      <th></th>\n",
       "      <th></th>\n",
       "      <th></th>\n",
       "      <th></th>\n",
       "      <th></th>\n",
       "      <th></th>\n",
       "      <th></th>\n",
       "    </tr>\n",
       "  </thead>\n",
       "  <tbody>\n",
       "    <tr>\n",
       "      <th>10001018004P4</th>\n",
       "      <td>2016</td>\n",
       "      <td>45</td>\n",
       "      <td>INTERDISCIPLINAR</td>\n",
       "      <td>MULTIDISCIPLINAR</td>\n",
       "      <td>MEIO AMBIENTE E AGRÁRIAS</td>\n",
       "      <td>DESENVOLVIMENTO REGIONAL E MEIO AMBIENTE</td>\n",
       "      <td>MESTRADO/DOUTORADO</td>\n",
       "      <td>ACADÊMICO</td>\n",
       "      <td>4</td>\n",
       "      <td>10001018</td>\n",
       "      <td>...</td>\n",
       "      <td>2003</td>\n",
       "      <td>DOUTORADO</td>\n",
       "      <td>50200003</td>\n",
       "      <td>RECURSOS FLORESTAIS E ENGENHARIA FLORESTAL</td>\n",
       "      <td>UFV</td>\n",
       "      <td>UNIVERSIDADE FEDERAL DE VIÇOSA</td>\n",
       "      <td>BRASIL</td>\n",
       "      <td>58288</td>\n",
       "      <td>122262</td>\n",
       "      <td>AVALIAÇÃO</td>\n",
       "    </tr>\n",
       "    <tr>\n",
       "      <th>10001018013P3</th>\n",
       "      <td>2016</td>\n",
       "      <td>45</td>\n",
       "      <td>INTERDISCIPLINAR</td>\n",
       "      <td>MULTIDISCIPLINAR</td>\n",
       "      <td>SAÚDE E BIOLÓGICAS</td>\n",
       "      <td>ENSINO EM CIÊNCIAS DA SAÚDE</td>\n",
       "      <td>MESTRADO PROFISSIONAL</td>\n",
       "      <td>PROFISSIONAL</td>\n",
       "      <td>3</td>\n",
       "      <td>10001018</td>\n",
       "      <td>...</td>\n",
       "      <td>2013</td>\n",
       "      <td>DOUTORADO</td>\n",
       "      <td>40102009</td>\n",
       "      <td>CIRURGIA</td>\n",
       "      <td>UFMG</td>\n",
       "      <td>UNIVERSIDADE FEDERAL DE MINAS GERAIS</td>\n",
       "      <td>BRASIL</td>\n",
       "      <td>59782</td>\n",
       "      <td>123869</td>\n",
       "      <td>AVALIAÇÃO</td>\n",
       "    </tr>\n",
       "    <tr>\n",
       "      <th>10001018015P6</th>\n",
       "      <td>2016</td>\n",
       "      <td>45</td>\n",
       "      <td>INTERDISCIPLINAR</td>\n",
       "      <td>MULTIDISCIPLINAR</td>\n",
       "      <td>SOCIAIS E HUMANIDADES</td>\n",
       "      <td>HISTÓRIA E ESTUDOS CULTURAIS</td>\n",
       "      <td>MESTRADO</td>\n",
       "      <td>ACADÊMICO</td>\n",
       "      <td>3</td>\n",
       "      <td>10001018</td>\n",
       "      <td>...</td>\n",
       "      <td>2006</td>\n",
       "      <td>DOUTORADO</td>\n",
       "      <td>80202004</td>\n",
       "      <td>LÍNGUAS ESTRANGEIRAS MODERNAS</td>\n",
       "      <td>UFSC</td>\n",
       "      <td>UNIVERSIDADE FEDERAL DE SANTA CATARINA</td>\n",
       "      <td>BRASIL</td>\n",
       "      <td>60897</td>\n",
       "      <td>125250</td>\n",
       "      <td>AVALIAÇÃO</td>\n",
       "    </tr>\n",
       "    <tr>\n",
       "      <th>10001018017P9</th>\n",
       "      <td>2016</td>\n",
       "      <td>49</td>\n",
       "      <td>CIÊNCIAS AMBIENTAIS</td>\n",
       "      <td>MULTIDISCIPLINAR</td>\n",
       "      <td>CIÊNCIAS AMBIENTAIS</td>\n",
       "      <td>CIÊNCIAS AMBIENTAIS</td>\n",
       "      <td>MESTRADO</td>\n",
       "      <td>ACADÊMICO</td>\n",
       "      <td>3</td>\n",
       "      <td>10001018</td>\n",
       "      <td>...</td>\n",
       "      <td>2014</td>\n",
       "      <td>DOUTORADO</td>\n",
       "      <td>20400004</td>\n",
       "      <td>ZOOLOGIA</td>\n",
       "      <td>UNESP/BOT</td>\n",
       "      <td>UNIVERSIDADE EST.PAULISTA JÚLIO DE MESQUITA FI...</td>\n",
       "      <td>BRASIL</td>\n",
       "      <td>58495</td>\n",
       "      <td>122494</td>\n",
       "      <td>AVALIAÇÃO</td>\n",
       "    </tr>\n",
       "    <tr>\n",
       "      <th>11001011006P0</th>\n",
       "      <td>2016</td>\n",
       "      <td>45</td>\n",
       "      <td>INTERDISCIPLINAR</td>\n",
       "      <td>MULTIDISCIPLINAR</td>\n",
       "      <td>MEIO AMBIENTE E AGRÁRIAS</td>\n",
       "      <td>CIÊNCIA, INOVAÇÃO E TECNOLOGIA PARA A AMAZÔNIA</td>\n",
       "      <td>MESTRADO</td>\n",
       "      <td>ACADÊMICO</td>\n",
       "      <td>3</td>\n",
       "      <td>11001011</td>\n",
       "      <td>...</td>\n",
       "      <td>2007</td>\n",
       "      <td>DOUTORADO</td>\n",
       "      <td>50100009</td>\n",
       "      <td>AGRONOMIA</td>\n",
       "      <td>USP/ESALQ</td>\n",
       "      <td>UNIV.DE SÃO PAULO/ESCOLA SUP. DE AGRICULTURA L...</td>\n",
       "      <td>BRASIL</td>\n",
       "      <td>59728</td>\n",
       "      <td>123855</td>\n",
       "      <td>AVALIAÇÃO</td>\n",
       "    </tr>\n",
       "    <tr>\n",
       "      <th>...</th>\n",
       "      <td>...</td>\n",
       "      <td>...</td>\n",
       "      <td>...</td>\n",
       "      <td>...</td>\n",
       "      <td>...</td>\n",
       "      <td>...</td>\n",
       "      <td>...</td>\n",
       "      <td>...</td>\n",
       "      <td>...</td>\n",
       "      <td>...</td>\n",
       "      <td>...</td>\n",
       "      <td>...</td>\n",
       "      <td>...</td>\n",
       "      <td>...</td>\n",
       "      <td>...</td>\n",
       "      <td>...</td>\n",
       "      <td>...</td>\n",
       "      <td>...</td>\n",
       "      <td>...</td>\n",
       "      <td>...</td>\n",
       "      <td>...</td>\n",
       "    </tr>\n",
       "    <tr>\n",
       "      <th>53001010106P6</th>\n",
       "      <td>2016</td>\n",
       "      <td>46</td>\n",
       "      <td>ENSINO</td>\n",
       "      <td>MULTIDISCIPLINAR</td>\n",
       "      <td>ENSINO DE CIÊNCIAS E MATEMÁTICA</td>\n",
       "      <td>EDUCAÇÃO EM CIÊNCIAS</td>\n",
       "      <td>DOUTORADO</td>\n",
       "      <td>ACADÊMICO</td>\n",
       "      <td>4</td>\n",
       "      <td>53001010</td>\n",
       "      <td>...</td>\n",
       "      <td>2008</td>\n",
       "      <td>DOUTORADO</td>\n",
       "      <td>50700006</td>\n",
       "      <td>CIÊNCIA E TECNOLOGIA DE ALIMENTOS</td>\n",
       "      <td>UNESP/ARAR</td>\n",
       "      <td>UNIVERSIDADE EST.PAULISTA JÚLIO DE MESQUITA FI...</td>\n",
       "      <td>BRASIL</td>\n",
       "      <td>60950</td>\n",
       "      <td>125337</td>\n",
       "      <td>ACOMPANHAMENTO</td>\n",
       "    </tr>\n",
       "    <tr>\n",
       "      <th>53001010108P9</th>\n",
       "      <td>2016</td>\n",
       "      <td>49</td>\n",
       "      <td>CIÊNCIAS AMBIENTAIS</td>\n",
       "      <td>MULTIDISCIPLINAR</td>\n",
       "      <td>CIÊNCIAS AMBIENTAIS</td>\n",
       "      <td>CIÊNCIAS AMBIENTAIS</td>\n",
       "      <td>MESTRADO/DOUTORADO</td>\n",
       "      <td>ACADÊMICO</td>\n",
       "      <td>4</td>\n",
       "      <td>53001010</td>\n",
       "      <td>...</td>\n",
       "      <td>2008</td>\n",
       "      <td>DOUTORADO</td>\n",
       "      <td>50400002</td>\n",
       "      <td>ZOOTECNIA</td>\n",
       "      <td>UFMG</td>\n",
       "      <td>UNIVERSIDADE FEDERAL DE MINAS GERAIS</td>\n",
       "      <td>BRASIL</td>\n",
       "      <td>55881</td>\n",
       "      <td>119571</td>\n",
       "      <td>ACOMPANHAMENTO</td>\n",
       "    </tr>\n",
       "    <tr>\n",
       "      <th>53003012005P4</th>\n",
       "      <td>2016</td>\n",
       "      <td>48</td>\n",
       "      <td>BIOTECNOLOGIA</td>\n",
       "      <td>MULTIDISCIPLINAR</td>\n",
       "      <td>BIOTECNOLOGIA</td>\n",
       "      <td>CIÊNCIAS GENÔMICAS E BIOTECNOLOGIA</td>\n",
       "      <td>MESTRADO/DOUTORADO</td>\n",
       "      <td>ACADÊMICO</td>\n",
       "      <td>5</td>\n",
       "      <td>53003012</td>\n",
       "      <td>...</td>\n",
       "      <td>2011</td>\n",
       "      <td>DOUTORADO</td>\n",
       "      <td>21100004</td>\n",
       "      <td>IMUNOLOGIA</td>\n",
       "      <td>UNB</td>\n",
       "      <td>UNIVERSIDADE DE BRASÍLIA</td>\n",
       "      <td>BRASIL</td>\n",
       "      <td>60309</td>\n",
       "      <td>124515</td>\n",
       "      <td>AVALIAÇÃO</td>\n",
       "    </tr>\n",
       "    <tr>\n",
       "      <th>53003012006P0</th>\n",
       "      <td>2016</td>\n",
       "      <td>45</td>\n",
       "      <td>INTERDISCIPLINAR</td>\n",
       "      <td>MULTIDISCIPLINAR</td>\n",
       "      <td>ENGENHARIA/TECNOLOGIA/GESTÃO</td>\n",
       "      <td>GESTÃO DO CONHECIMENTO E TECNOLOGIA DA INFORMAÇÃO</td>\n",
       "      <td>MESTRADO PROFISSIONAL</td>\n",
       "      <td>PROFISSIONAL</td>\n",
       "      <td>4</td>\n",
       "      <td>53003012</td>\n",
       "      <td>...</td>\n",
       "      <td>1996</td>\n",
       "      <td>DOUTORADO</td>\n",
       "      <td>10300007</td>\n",
       "      <td>CIÊNCIA DA COMPUTAÇÃO</td>\n",
       "      <td>INP</td>\n",
       "      <td>INSTITUT POLYTECHNIQUE DE GRENOBLE</td>\n",
       "      <td>FRANÇA</td>\n",
       "      <td>60681</td>\n",
       "      <td>124969</td>\n",
       "      <td>AVALIAÇÃO</td>\n",
       "    </tr>\n",
       "    <tr>\n",
       "      <th>53003012009P0</th>\n",
       "      <td>2016</td>\n",
       "      <td>45</td>\n",
       "      <td>INTERDISCIPLINAR</td>\n",
       "      <td>MULTIDISCIPLINAR</td>\n",
       "      <td>SAÚDE E BIOLÓGICAS</td>\n",
       "      <td>GERONTOLOGIA</td>\n",
       "      <td>MESTRADO/DOUTORADO</td>\n",
       "      <td>ACADÊMICO</td>\n",
       "      <td>4</td>\n",
       "      <td>53003012</td>\n",
       "      <td>...</td>\n",
       "      <td>2002</td>\n",
       "      <td>DOUTORADO</td>\n",
       "      <td>10601023</td>\n",
       "      <td>SÍNTESE ORGÂNICA</td>\n",
       "      <td>UFRJ</td>\n",
       "      <td>UNIVERSIDADE FEDERAL DO RIO DE JANEIRO</td>\n",
       "      <td>BRASIL</td>\n",
       "      <td>58962</td>\n",
       "      <td>122989</td>\n",
       "      <td>AVALIAÇÃO</td>\n",
       "    </tr>\n",
       "  </tbody>\n",
       "</table>\n",
       "<p>687 rows × 42 columns</p>\n",
       "</div>"
      ],
      "text/plain": [
       "                 AN_BASE  CD_AREA_AVALIACAO    NM_AREA_AVALIACAO  \\\n",
       "CD_PROGRAMA_IES                                                    \n",
       "10001018004P4       2016                 45     INTERDISCIPLINAR   \n",
       "10001018013P3       2016                 45     INTERDISCIPLINAR   \n",
       "10001018015P6       2016                 45     INTERDISCIPLINAR   \n",
       "10001018017P9       2016                 49  CIÊNCIAS AMBIENTAIS   \n",
       "11001011006P0       2016                 45     INTERDISCIPLINAR   \n",
       "...                  ...                ...                  ...   \n",
       "53001010106P6       2016                 46               ENSINO   \n",
       "53001010108P9       2016                 49  CIÊNCIAS AMBIENTAIS   \n",
       "53003012005P4       2016                 48        BIOTECNOLOGIA   \n",
       "53003012006P0       2016                 45     INTERDISCIPLINAR   \n",
       "53003012009P0       2016                 45     INTERDISCIPLINAR   \n",
       "\n",
       "                NM_GRANDE_AREA_CONHECIMENTO             NM_AREA_CONHECIMENTO  \\\n",
       "CD_PROGRAMA_IES                                                                \n",
       "10001018004P4              MULTIDISCIPLINAR         MEIO AMBIENTE E AGRÁRIAS   \n",
       "10001018013P3              MULTIDISCIPLINAR               SAÚDE E BIOLÓGICAS   \n",
       "10001018015P6              MULTIDISCIPLINAR            SOCIAIS E HUMANIDADES   \n",
       "10001018017P9              MULTIDISCIPLINAR              CIÊNCIAS AMBIENTAIS   \n",
       "11001011006P0              MULTIDISCIPLINAR         MEIO AMBIENTE E AGRÁRIAS   \n",
       "...                                     ...                              ...   \n",
       "53001010106P6              MULTIDISCIPLINAR  ENSINO DE CIÊNCIAS E MATEMÁTICA   \n",
       "53001010108P9              MULTIDISCIPLINAR              CIÊNCIAS AMBIENTAIS   \n",
       "53003012005P4              MULTIDISCIPLINAR                    BIOTECNOLOGIA   \n",
       "53003012006P0              MULTIDISCIPLINAR     ENGENHARIA/TECNOLOGIA/GESTÃO   \n",
       "53003012009P0              MULTIDISCIPLINAR               SAÚDE E BIOLÓGICAS   \n",
       "\n",
       "                                                   NM_PROGRAMA_IES  \\\n",
       "CD_PROGRAMA_IES                                                      \n",
       "10001018004P4             DESENVOLVIMENTO REGIONAL E MEIO AMBIENTE   \n",
       "10001018013P3                          ENSINO EM CIÊNCIAS DA SAÚDE   \n",
       "10001018015P6                         HISTÓRIA E ESTUDOS CULTURAIS   \n",
       "10001018017P9                                  CIÊNCIAS AMBIENTAIS   \n",
       "11001011006P0       CIÊNCIA, INOVAÇÃO E TECNOLOGIA PARA A AMAZÔNIA   \n",
       "...                                                            ...   \n",
       "53001010106P6                                 EDUCAÇÃO EM CIÊNCIAS   \n",
       "53001010108P9                                  CIÊNCIAS AMBIENTAIS   \n",
       "53003012005P4                   CIÊNCIAS GENÔMICAS E BIOTECNOLOGIA   \n",
       "53003012006P0    GESTÃO DO CONHECIMENTO E TECNOLOGIA DA INFORMAÇÃO   \n",
       "53003012009P0                                         GERONTOLOGIA   \n",
       "\n",
       "                      NM_GRAU_PROGRAMA NM_MODALIDADE_PROGRAMA  \\\n",
       "CD_PROGRAMA_IES                                                 \n",
       "10001018004P4       MESTRADO/DOUTORADO              ACADÊMICO   \n",
       "10001018013P3    MESTRADO PROFISSIONAL           PROFISSIONAL   \n",
       "10001018015P6                 MESTRADO              ACADÊMICO   \n",
       "10001018017P9                 MESTRADO              ACADÊMICO   \n",
       "11001011006P0                 MESTRADO              ACADÊMICO   \n",
       "...                                ...                    ...   \n",
       "53001010106P6                DOUTORADO              ACADÊMICO   \n",
       "53001010108P9       MESTRADO/DOUTORADO              ACADÊMICO   \n",
       "53003012005P4       MESTRADO/DOUTORADO              ACADÊMICO   \n",
       "53003012006P0    MESTRADO PROFISSIONAL           PROFISSIONAL   \n",
       "53003012009P0       MESTRADO/DOUTORADO              ACADÊMICO   \n",
       "\n",
       "                 CD_CONCEITO_PROGRAMA  CD_ENTIDADE_CAPES  ... AN_TITULACAO  \\\n",
       "CD_PROGRAMA_IES                                           ...                \n",
       "10001018004P4                       4           10001018  ...         2003   \n",
       "10001018013P3                       3           10001018  ...         2013   \n",
       "10001018015P6                       3           10001018  ...         2006   \n",
       "10001018017P9                       3           10001018  ...         2014   \n",
       "11001011006P0                       3           11001011  ...         2007   \n",
       "...                               ...                ...  ...          ...   \n",
       "53001010106P6                       4           53001010  ...         2008   \n",
       "53001010108P9                       4           53001010  ...         2008   \n",
       "53003012005P4                       5           53003012  ...         2011   \n",
       "53003012006P0                       4           53003012  ...         1996   \n",
       "53003012009P0                       4           53003012  ...         2002   \n",
       "\n",
       "                NM_GRAU_TITULACAO CD_AREA_BASICA_TITULACAO  \\\n",
       "CD_PROGRAMA_IES                                              \n",
       "10001018004P4           DOUTORADO                 50200003   \n",
       "10001018013P3           DOUTORADO                 40102009   \n",
       "10001018015P6           DOUTORADO                 80202004   \n",
       "10001018017P9           DOUTORADO                 20400004   \n",
       "11001011006P0           DOUTORADO                 50100009   \n",
       "...                           ...                      ...   \n",
       "53001010106P6           DOUTORADO                 50700006   \n",
       "53001010108P9           DOUTORADO                 50400002   \n",
       "53003012005P4           DOUTORADO                 21100004   \n",
       "53003012006P0           DOUTORADO                 10300007   \n",
       "53003012009P0           DOUTORADO                 10601023   \n",
       "\n",
       "                                   NM_AREA_BASICA_TITULACAO SG_IES_TITULACAO  \\\n",
       "CD_PROGRAMA_IES                                                                \n",
       "10001018004P4    RECURSOS FLORESTAIS E ENGENHARIA FLORESTAL              UFV   \n",
       "10001018013P3                                      CIRURGIA             UFMG   \n",
       "10001018015P6                 LÍNGUAS ESTRANGEIRAS MODERNAS             UFSC   \n",
       "10001018017P9                                      ZOOLOGIA        UNESP/BOT   \n",
       "11001011006P0                                     AGRONOMIA        USP/ESALQ   \n",
       "...                                                     ...              ...   \n",
       "53001010106P6             CIÊNCIA E TECNOLOGIA DE ALIMENTOS       UNESP/ARAR   \n",
       "53001010108P9                                     ZOOTECNIA             UFMG   \n",
       "53003012005P4                                    IMUNOLOGIA              UNB   \n",
       "53003012006P0                         CIÊNCIA DA COMPUTAÇÃO              INP   \n",
       "53003012009P0                              SÍNTESE ORGÂNICA             UFRJ   \n",
       "\n",
       "                                                  NM_IES_TITULACAO  \\\n",
       "CD_PROGRAMA_IES                                                      \n",
       "10001018004P4                       UNIVERSIDADE FEDERAL DE VIÇOSA   \n",
       "10001018013P3                 UNIVERSIDADE FEDERAL DE MINAS GERAIS   \n",
       "10001018015P6               UNIVERSIDADE FEDERAL DE SANTA CATARINA   \n",
       "10001018017P9    UNIVERSIDADE EST.PAULISTA JÚLIO DE MESQUITA FI...   \n",
       "11001011006P0    UNIV.DE SÃO PAULO/ESCOLA SUP. DE AGRICULTURA L...   \n",
       "...                                                            ...   \n",
       "53001010106P6    UNIVERSIDADE EST.PAULISTA JÚLIO DE MESQUITA FI...   \n",
       "53001010108P9                 UNIVERSIDADE FEDERAL DE MINAS GERAIS   \n",
       "53003012005P4                             UNIVERSIDADE DE BRASÍLIA   \n",
       "53003012006P0                   INSTITUT POLYTECHNIQUE DE GRENOBLE   \n",
       "53003012009P0               UNIVERSIDADE FEDERAL DO RIO DE JANEIRO   \n",
       "\n",
       "                NM_PAIS_IES_TITULACAO ID_ADD_FOTO_PROGRAMA  \\\n",
       "CD_PROGRAMA_IES                                              \n",
       "10001018004P4                  BRASIL                58288   \n",
       "10001018013P3                  BRASIL                59782   \n",
       "10001018015P6                  BRASIL                60897   \n",
       "10001018017P9                  BRASIL                58495   \n",
       "11001011006P0                  BRASIL                59728   \n",
       "...                               ...                  ...   \n",
       "53001010106P6                  BRASIL                60950   \n",
       "53001010108P9                  BRASIL                55881   \n",
       "53003012005P4                  BRASIL                60309   \n",
       "53003012006P0                  FRANÇA                60681   \n",
       "53003012009P0                  BRASIL                58962   \n",
       "\n",
       "                 ID_ADD_FOTO_PROGRAMA_IES DS_CLIENTELA_QUADRIENAL_2017  \n",
       "CD_PROGRAMA_IES                                                         \n",
       "10001018004P4                      122262                    AVALIAÇÃO  \n",
       "10001018013P3                      123869                    AVALIAÇÃO  \n",
       "10001018015P6                      125250                    AVALIAÇÃO  \n",
       "10001018017P9                      122494                    AVALIAÇÃO  \n",
       "11001011006P0                      123855                    AVALIAÇÃO  \n",
       "...                                   ...                          ...  \n",
       "53001010106P6                      125337               ACOMPANHAMENTO  \n",
       "53001010108P9                      119571               ACOMPANHAMENTO  \n",
       "53003012005P4                      124515                    AVALIAÇÃO  \n",
       "53003012006P0                      124969                    AVALIAÇÃO  \n",
       "53003012009P0                      122989                    AVALIAÇÃO  \n",
       "\n",
       "[687 rows x 42 columns]"
      ]
     },
     "execution_count": 34,
     "metadata": {},
     "output_type": "execute_result"
    }
   ],
   "source": [
    "df.query(\"NM_GRANDE_AREA_CONHECIMENTO=='MULTIDISCIPLINAR'\").groupby('CD_PROGRAMA_IES').first()"
   ]
  },
  {
   "cell_type": "code",
   "execution_count": 17,
   "metadata": {},
   "outputs": [
    {
     "data": {
      "text/plain": [
       "NM_AREA_CONHECIMENTO\n",
       "POLÍMEROS, APLICAÇÕES               7.00\n",
       "SENSORIAMENTO REMOTO                7.00\n",
       "NEFROLOGIA                          6.51\n",
       "OUTRAS SOCIOLOGIAS ESPECÍFICAS      6.13\n",
       "ALERGOLOGIA E IMUNOLOGIA CLÍNICA    6.00\n",
       "ANATOMIA PATOLÓGICA ANIMAL          6.00\n",
       "EDUCAÇÃO ESPECIAL                   6.00\n",
       "PROCESSOS BIOQUÍMICOS               6.00\n",
       "PSIQUIATRIA                         5.96\n",
       "FITOPATOLOGIA                       5.92\n",
       "MEDICINA PREVENTIVA                 5.90\n",
       "BIOQUÍMICA                          5.84\n",
       "PSICOLOGIA EXPERIMENTAL             5.76\n",
       "QUÍMICA ORGÂNICA                    5.69\n",
       "MATERIAIS ODONTOLÓGICOS             5.53\n",
       "Name: CD_CONCEITO_PROGRAMA, dtype: float64"
      ]
     },
     "execution_count": 17,
     "metadata": {},
     "output_type": "execute_result"
    }
   ],
   "source": [
    "#por área do conhecimento\n",
    "\n",
    "df.groupby('NM_AREA_CONHECIMENTO').mean()['CD_CONCEITO_PROGRAMA'].round(2).sort_values(ascending=False).head(15)\n",
    "#chemistry rocks"
   ]
  },
  {
   "cell_type": "code",
   "execution_count": 18,
   "metadata": {},
   "outputs": [
    {
     "data": {
      "text/plain": [
       "Text(0.5, 1.0, 'Conceito dos programas agrupados por área do conhecimento')"
      ]
     },
     "execution_count": 18,
     "metadata": {},
     "output_type": "execute_result"
    },
    {
     "data": {
      "image/png": "[encoded data removed]",
      "text/plain": [
       "<Figure size 432x288 with 1 Axes>"
      ]
     },
     "metadata": {
      "needs_background": "light"
     },
     "output_type": "display_data"
    }
   ],
   "source": [
    "conceitos=df.groupby('NM_AREA_CONHECIMENTO').mean()['CD_CONCEITO_PROGRAMA']\n",
    "conceitos.hist(bins=int(len(conceitos)**0.5),color='black',grid=False)\n",
    "plt.title('Conceito dos programas agrupados por área do conhecimento')\n",
    "\n",
    "#there's nothing to see here"
   ]
  },
  {
   "cell_type": "code",
   "execution_count": 19,
   "metadata": {
    "scrolled": false
   },
   "outputs": [
    {
     "name": "stderr",
     "output_type": "stream",
     "text": [
      "/home/gustavo/anaconda3/lib/python3.8/site-packages/seaborn/_decorators.py:36: FutureWarning: Pass the following variables as keyword args: x, y. From version 0.12, the only valid positional argument will be `data`, and passing other arguments without an explicit keyword will result in an error or misinterpretation.\n",
      "  warnings.warn(\n"
     ]
    },
    {
     "data": {
      "text/plain": [
       "Text(0, 0.5, 'Média de docentes')"
      ]
     },
     "execution_count": 19,
     "metadata": {},
     "output_type": "execute_result"
    },
    {
     "data": {
      "image/png": "[encoded data removed]",
      "text/plain": [
       "<Figure size 432x288 with 1 Axes>"
      ]
     },
     "metadata": {
      "needs_background": "light"
     },
     "output_type": "display_data"
    }
   ],
   "source": [
    "#relação entre número de docentes e conceito capes\n",
    "\n",
    "conceito=df.groupby('CD_PROGRAMA_IES').mean()['CD_CONCEITO_PROGRAMA']\n",
    "contagem=df.groupby('CD_PROGRAMA_IES').size()\n",
    "\n",
    "sns.regplot(conceito,contagem,x_estimator=np.mean,color='black') #x_estimator=np.mean junta os dados discretos do conceito\n",
    "plt.xlabel('Conceito do programa')\n",
    "plt.ylabel('Média de docentes')"
   ]
  },
  {
   "cell_type": "markdown",
   "metadata": {},
   "source": [
    "### Métricas mais relevantes até agora\n",
    "\n",
    "    1. Número de docentes\n",
    "    2. Ano médio de titulação do docente\n",
    "    3.Grande área de estudo"
   ]
  },
  {
   "cell_type": "markdown",
   "metadata": {},
   "source": [
    "## Tentando fazer um ML"
   ]
  },
  {
   "cell_type": "code",
   "execution_count": 20,
   "metadata": {},
   "outputs": [],
   "source": [
    "codigo=list(df.groupby('CD_PROGRAMA_IES').sum().index)\n",
    "numero_docentes=list(df.groupby('CD_PROGRAMA_IES').size())\n",
    "ano_titulacao=list(df.groupby('CD_PROGRAMA_IES').mean()['AN_TITULACAO'])\n",
    "conceito=list(df.groupby('CD_PROGRAMA_IES').mean()['CD_CONCEITO_PROGRAMA'])"
   ]
  },
  {
   "cell_type": "code",
   "execution_count": 21,
   "metadata": {},
   "outputs": [
    {
     "name": "stderr",
     "output_type": "stream",
     "text": [
      "<ipython-input-21-d100a6945441>:2: SettingWithCopyWarning: \n",
      "A value is trying to be set on a copy of a slice from a DataFrame.\n",
      "Try using .loc[row_indexer,col_indexer] = value instead\n",
      "\n",
      "See the caveats in the documentation: https://pandas.pydata.org/pandas-docs/stable/user_guide/indexing.html#returning-a-view-versus-a-copy\n",
      "  df2['NM_GRANDE_AREA_CONHECIMENTO']=pd.factorize(df2['NM_GRANDE_AREA_CONHECIMENTO'],na_sentinel=-1)[0]\n"
     ]
    }
   ],
   "source": [
    "df2=df[['CD_PROGRAMA_IES','NM_GRANDE_AREA_CONHECIMENTO']]\n",
    "df2['NM_GRANDE_AREA_CONHECIMENTO']=pd.factorize(df2['NM_GRANDE_AREA_CONHECIMENTO'],na_sentinel=-1)[0]\n",
    "grande_area=list(df2.groupby('CD_PROGRAMA_IES').mean()['NM_GRANDE_AREA_CONHECIMENTO'])"
   ]
  },
  {
   "cell_type": "code",
   "execution_count": 22,
   "metadata": {},
   "outputs": [
    {
     "data": {
      "text/html": [
       "<div>\n",
       "<style scoped>\n",
       "    .dataframe tbody tr th:only-of-type {\n",
       "        vertical-align: middle;\n",
       "    }\n",
       "\n",
       "    .dataframe tbody tr th {\n",
       "        vertical-align: top;\n",
       "    }\n",
       "\n",
       "    .dataframe thead th {\n",
       "        text-align: right;\n",
       "    }\n",
       "</style>\n",
       "<table border=\"1\" class=\"dataframe\">\n",
       "  <thead>\n",
       "    <tr style=\"text-align: right;\">\n",
       "      <th></th>\n",
       "      <th>Numero_Docentes</th>\n",
       "      <th>Ano_Titulacao</th>\n",
       "      <th>Grande_Area</th>\n",
       "      <th>Conceito</th>\n",
       "    </tr>\n",
       "  </thead>\n",
       "  <tbody>\n",
       "    <tr>\n",
       "      <th>10001018002P1</th>\n",
       "      <td>20</td>\n",
       "      <td>2003.150000</td>\n",
       "      <td>0</td>\n",
       "      <td>3.0</td>\n",
       "    </tr>\n",
       "    <tr>\n",
       "      <th>10001018004P4</th>\n",
       "      <td>29</td>\n",
       "      <td>2004.586207</td>\n",
       "      <td>1</td>\n",
       "      <td>4.0</td>\n",
       "    </tr>\n",
       "    <tr>\n",
       "      <th>10001018005P0</th>\n",
       "      <td>16</td>\n",
       "      <td>2003.125000</td>\n",
       "      <td>2</td>\n",
       "      <td>4.0</td>\n",
       "    </tr>\n",
       "    <tr>\n",
       "      <th>10001018006P7</th>\n",
       "      <td>12</td>\n",
       "      <td>2006.166667</td>\n",
       "      <td>3</td>\n",
       "      <td>4.0</td>\n",
       "    </tr>\n",
       "    <tr>\n",
       "      <th>10001018009P6</th>\n",
       "      <td>13</td>\n",
       "      <td>2006.461538</td>\n",
       "      <td>2</td>\n",
       "      <td>3.0</td>\n",
       "    </tr>\n",
       "    <tr>\n",
       "      <th>10001018010P4</th>\n",
       "      <td>15</td>\n",
       "      <td>2007.733333</td>\n",
       "      <td>4</td>\n",
       "      <td>3.0</td>\n",
       "    </tr>\n",
       "    <tr>\n",
       "      <th>10001018011P0</th>\n",
       "      <td>13</td>\n",
       "      <td>2007.076923</td>\n",
       "      <td>2</td>\n",
       "      <td>3.0</td>\n",
       "    </tr>\n",
       "    <tr>\n",
       "      <th>10001018012P7</th>\n",
       "      <td>17</td>\n",
       "      <td>2009.529412</td>\n",
       "      <td>4</td>\n",
       "      <td>3.0</td>\n",
       "    </tr>\n",
       "    <tr>\n",
       "      <th>10001018013P3</th>\n",
       "      <td>22</td>\n",
       "      <td>2006.363636</td>\n",
       "      <td>1</td>\n",
       "      <td>3.0</td>\n",
       "    </tr>\n",
       "    <tr>\n",
       "      <th>10001018015P6</th>\n",
       "      <td>17</td>\n",
       "      <td>2005.294118</td>\n",
       "      <td>1</td>\n",
       "      <td>3.0</td>\n",
       "    </tr>\n",
       "  </tbody>\n",
       "</table>\n",
       "</div>"
      ],
      "text/plain": [
       "               Numero_Docentes  Ano_Titulacao  Grande_Area  Conceito\n",
       "10001018002P1               20    2003.150000            0       3.0\n",
       "10001018004P4               29    2004.586207            1       4.0\n",
       "10001018005P0               16    2003.125000            2       4.0\n",
       "10001018006P7               12    2006.166667            3       4.0\n",
       "10001018009P6               13    2006.461538            2       3.0\n",
       "10001018010P4               15    2007.733333            4       3.0\n",
       "10001018011P0               13    2007.076923            2       3.0\n",
       "10001018012P7               17    2009.529412            4       3.0\n",
       "10001018013P3               22    2006.363636            1       3.0\n",
       "10001018015P6               17    2005.294118            1       3.0"
      ]
     },
     "execution_count": 22,
     "metadata": {},
     "output_type": "execute_result"
    }
   ],
   "source": [
    "d={'Numero_Docentes':numero_docentes,'Ano_Titulacao':ano_titulacao,'Grande_Area':grande_area,'Conceito':conceito}\n",
    "df3=pd.DataFrame(data=d,index=codigo)\n",
    "df3.head(10)"
   ]
  },
  {
   "cell_type": "code",
   "execution_count": 23,
   "metadata": {},
   "outputs": [],
   "source": [
    "from sklearn.model_selection import train_test_split\n",
    "from sklearn.preprocessing import StandardScaler\n",
    "from sklearn.linear_model import LogisticRegression\n",
    "\n",
    "#coisas para testar\n",
    "from sklearn.metrics import plot_confusion_matrix\n",
    "from sklearn.metrics import f1_score\n",
    "from sklearn.metrics import accuracy_score, mean_squared_error, classification_report"
   ]
  },
  {
   "cell_type": "code",
   "execution_count": 24,
   "metadata": {},
   "outputs": [],
   "source": [
    "x=df3.iloc[:,1:3]\n",
    "y=df3.iloc[:,3]\n",
    "\n",
    "x_treino,x_teste,y_treino,y_teste=train_test_split(x,y,random_state=0,test_size=0.3)"
   ]
  },
  {
   "cell_type": "code",
   "execution_count": 25,
   "metadata": {},
   "outputs": [],
   "source": [
    "#fazendo tudo em escala \n",
    "scaler = StandardScaler().fit(x)\n",
    "x_treino=scaler.transform(x_treino)\n",
    "x_teste=scaler.transform(x_teste)"
   ]
  },
  {
   "cell_type": "code",
   "execution_count": 26,
   "metadata": {},
   "outputs": [
    {
     "name": "stdout",
     "output_type": "stream",
     "text": [
      "Acurácia = 0.54\n",
      "MSQR=  0.92\n"
     ]
    }
   ],
   "source": [
    "#treinando a máquina\n",
    "clf = LogisticRegression(max_iter=500).fit(x_treino, y_treino)\n",
    "                                             \n",
    "#testando o modelo\n",
    "y_pred=clf.predict(x_teste)\n",
    "print('Acurácia =',round(accuracy_score(y_teste,y_pred),2))\n",
    "print('MSQR= ',round(mean_squared_error(y_teste,y_pred),2))"
   ]
  }
 ],
 "metadata": {
  "kernelspec": {
   "display_name": "Python 3",
   "language": "python",
   "name": "python3"
  },
  "language_info": {
   "codemirror_mode": {
    "name": "ipython",
    "version": 3
   },
   "file_extension": ".py",
   "mimetype": "text/x-python",
   "name": "python",
   "nbconvert_exporter": "python",
   "pygments_lexer": "ipython3",
   "version": "3.8.5"
  },
  "varInspector": {
   "cols": {
    "lenName": 16,
    "lenType": 16,
    "lenVar": 40
   },
   "kernels_config": {
    "python": {
     "delete_cmd_postfix": "",
     "delete_cmd_prefix": "del ",
     "library": "var_list.py",
     "varRefreshCmd": "print(var_dic_list())"
    },
    "r": {
     "delete_cmd_postfix": ") ",
     "delete_cmd_prefix": "rm(",
     "library": "var_list.r",
     "varRefreshCmd": "cat(var_dic_list()) "
    }
   },
   "types_to_exclude": [
    "module",
    "function",
    "builtin_function_or_method",
    "instance",
    "_Feature"
   ],
   "window_display": false
  }
 },
 "nbformat": 4,
 "nbformat_minor": 4
}
