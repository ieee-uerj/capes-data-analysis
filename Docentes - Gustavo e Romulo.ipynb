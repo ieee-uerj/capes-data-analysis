{
 "cells": [
  {
   "cell_type": "code",
   "execution_count": 1,
   "metadata": {},
   "outputs": [],
   "source": [
    "import pandas as pd\n",
    "import matplotlib.pyplot as plt\n",
    "import seaborn as sns\n",
    "import numpy as np"
   ]
  },
  {
   "cell_type": "code",
   "execution_count": 2,
   "metadata": {},
   "outputs": [
    {
     "data": {
      "text/html": [
       "<div>\n",
       "<style scoped>\n",
       "    .dataframe tbody tr th:only-of-type {\n",
       "        vertical-align: middle;\n",
       "    }\n",
       "\n",
       "    .dataframe tbody tr th {\n",
       "        vertical-align: top;\n",
       "    }\n",
       "\n",
       "    .dataframe thead th {\n",
       "        text-align: right;\n",
       "    }\n",
       "</style>\n",
       "<table border=\"1\" class=\"dataframe\">\n",
       "  <thead>\n",
       "    <tr style=\"text-align: right;\">\n",
       "      <th></th>\n",
       "      <th>AN_BASE</th>\n",
       "      <th>CD_AREA_AVALIACAO</th>\n",
       "      <th>NM_AREA_AVALIACAO</th>\n",
       "      <th>NM_GRANDE_AREA_CONHECIMENTO</th>\n",
       "      <th>NM_AREA_CONHECIMENTO</th>\n",
       "      <th>CD_PROGRAMA_IES</th>\n",
       "      <th>NM_PROGRAMA_IES</th>\n",
       "      <th>NM_GRAU_PROGRAMA</th>\n",
       "      <th>NM_MODALIDADE_PROGRAMA</th>\n",
       "      <th>CD_CONCEITO_PROGRAMA</th>\n",
       "      <th>...</th>\n",
       "      <th>AN_TITULACAO</th>\n",
       "      <th>NM_GRAU_TITULACAO</th>\n",
       "      <th>CD_AREA_BASICA_TITULACAO</th>\n",
       "      <th>NM_AREA_BASICA_TITULACAO</th>\n",
       "      <th>SG_IES_TITULACAO</th>\n",
       "      <th>NM_IES_TITULACAO</th>\n",
       "      <th>NM_PAIS_IES_TITULACAO</th>\n",
       "      <th>ID_ADD_FOTO_PROGRAMA</th>\n",
       "      <th>ID_ADD_FOTO_PROGRAMA_IES</th>\n",
       "      <th>DS_CLIENTELA_QUADRIENAL_2017</th>\n",
       "    </tr>\n",
       "  </thead>\n",
       "  <tbody>\n",
       "    <tr>\n",
       "      <th>0</th>\n",
       "      <td>2016</td>\n",
       "      <td>9</td>\n",
       "      <td>CIÊNCIAS BIOLÓGICAS III</td>\n",
       "      <td>CIÊNCIAS BIOLÓGICAS</td>\n",
       "      <td>PARASITOLOGIA</td>\n",
       "      <td>10001018002P1</td>\n",
       "      <td>BIOLOGIA EXPERIMENTAL</td>\n",
       "      <td>MESTRADO/DOUTORADO</td>\n",
       "      <td>ACADÊMICO</td>\n",
       "      <td>3</td>\n",
       "      <td>...</td>\n",
       "      <td>1999</td>\n",
       "      <td>DOUTORADO</td>\n",
       "      <td>21300003</td>\n",
       "      <td>PARASITOLOGIA</td>\n",
       "      <td>USP</td>\n",
       "      <td>UNIVERSIDADE DE SÃO PAULO</td>\n",
       "      <td>BRASIL</td>\n",
       "      <td>57437</td>\n",
       "      <td>121358</td>\n",
       "      <td>AVALIAÇÃO</td>\n",
       "    </tr>\n",
       "    <tr>\n",
       "      <th>1</th>\n",
       "      <td>2016</td>\n",
       "      <td>9</td>\n",
       "      <td>CIÊNCIAS BIOLÓGICAS III</td>\n",
       "      <td>CIÊNCIAS BIOLÓGICAS</td>\n",
       "      <td>PARASITOLOGIA</td>\n",
       "      <td>10001018002P1</td>\n",
       "      <td>BIOLOGIA EXPERIMENTAL</td>\n",
       "      <td>MESTRADO/DOUTORADO</td>\n",
       "      <td>ACADÊMICO</td>\n",
       "      <td>3</td>\n",
       "      <td>...</td>\n",
       "      <td>2004</td>\n",
       "      <td>DOUTORADO</td>\n",
       "      <td>20100000</td>\n",
       "      <td>BIOLOGIA GERAL</td>\n",
       "      <td>UNB</td>\n",
       "      <td>UNIVERSIDADE DE BRASÍLIA</td>\n",
       "      <td>BRASIL</td>\n",
       "      <td>57437</td>\n",
       "      <td>121358</td>\n",
       "      <td>AVALIAÇÃO</td>\n",
       "    </tr>\n",
       "    <tr>\n",
       "      <th>2</th>\n",
       "      <td>2016</td>\n",
       "      <td>9</td>\n",
       "      <td>CIÊNCIAS BIOLÓGICAS III</td>\n",
       "      <td>CIÊNCIAS BIOLÓGICAS</td>\n",
       "      <td>PARASITOLOGIA</td>\n",
       "      <td>10001018002P1</td>\n",
       "      <td>BIOLOGIA EXPERIMENTAL</td>\n",
       "      <td>MESTRADO/DOUTORADO</td>\n",
       "      <td>ACADÊMICO</td>\n",
       "      <td>3</td>\n",
       "      <td>...</td>\n",
       "      <td>1991</td>\n",
       "      <td>DOUTORADO</td>\n",
       "      <td>20205007</td>\n",
       "      <td>GENÉTICA HUMANA E MÉDICA</td>\n",
       "      <td>USP</td>\n",
       "      <td>UNIVERSIDADE DE SÃO PAULO</td>\n",
       "      <td>BRASIL</td>\n",
       "      <td>57437</td>\n",
       "      <td>121358</td>\n",
       "      <td>AVALIAÇÃO</td>\n",
       "    </tr>\n",
       "    <tr>\n",
       "      <th>3</th>\n",
       "      <td>2016</td>\n",
       "      <td>9</td>\n",
       "      <td>CIÊNCIAS BIOLÓGICAS III</td>\n",
       "      <td>CIÊNCIAS BIOLÓGICAS</td>\n",
       "      <td>PARASITOLOGIA</td>\n",
       "      <td>10001018002P1</td>\n",
       "      <td>BIOLOGIA EXPERIMENTAL</td>\n",
       "      <td>MESTRADO/DOUTORADO</td>\n",
       "      <td>ACADÊMICO</td>\n",
       "      <td>3</td>\n",
       "      <td>...</td>\n",
       "      <td>2008</td>\n",
       "      <td>DOUTORADO</td>\n",
       "      <td>40101134</td>\n",
       "      <td>NEFROLOGIA</td>\n",
       "      <td>UNIFESP</td>\n",
       "      <td>UNIVERSIDADE FEDERAL DE SÃO PAULO</td>\n",
       "      <td>BRASIL</td>\n",
       "      <td>57437</td>\n",
       "      <td>121358</td>\n",
       "      <td>AVALIAÇÃO</td>\n",
       "    </tr>\n",
       "    <tr>\n",
       "      <th>4</th>\n",
       "      <td>2016</td>\n",
       "      <td>9</td>\n",
       "      <td>CIÊNCIAS BIOLÓGICAS III</td>\n",
       "      <td>CIÊNCIAS BIOLÓGICAS</td>\n",
       "      <td>PARASITOLOGIA</td>\n",
       "      <td>10001018002P1</td>\n",
       "      <td>BIOLOGIA EXPERIMENTAL</td>\n",
       "      <td>MESTRADO/DOUTORADO</td>\n",
       "      <td>ACADÊMICO</td>\n",
       "      <td>3</td>\n",
       "      <td>...</td>\n",
       "      <td>2005</td>\n",
       "      <td>DOUTORADO</td>\n",
       "      <td>40200000</td>\n",
       "      <td>ODONTOLOGIA</td>\n",
       "      <td>USP</td>\n",
       "      <td>UNIVERSIDADE DE SÃO PAULO</td>\n",
       "      <td>BRASIL</td>\n",
       "      <td>57437</td>\n",
       "      <td>121358</td>\n",
       "      <td>AVALIAÇÃO</td>\n",
       "    </tr>\n",
       "  </tbody>\n",
       "</table>\n",
       "<p>5 rows × 43 columns</p>\n",
       "</div>"
      ],
      "text/plain": [
       "   AN_BASE  CD_AREA_AVALIACAO        NM_AREA_AVALIACAO  \\\n",
       "0     2016                  9  CIÊNCIAS BIOLÓGICAS III   \n",
       "1     2016                  9  CIÊNCIAS BIOLÓGICAS III   \n",
       "2     2016                  9  CIÊNCIAS BIOLÓGICAS III   \n",
       "3     2016                  9  CIÊNCIAS BIOLÓGICAS III   \n",
       "4     2016                  9  CIÊNCIAS BIOLÓGICAS III   \n",
       "\n",
       "  NM_GRANDE_AREA_CONHECIMENTO NM_AREA_CONHECIMENTO CD_PROGRAMA_IES  \\\n",
       "0         CIÊNCIAS BIOLÓGICAS        PARASITOLOGIA   10001018002P1   \n",
       "1         CIÊNCIAS BIOLÓGICAS        PARASITOLOGIA   10001018002P1   \n",
       "2         CIÊNCIAS BIOLÓGICAS        PARASITOLOGIA   10001018002P1   \n",
       "3         CIÊNCIAS BIOLÓGICAS        PARASITOLOGIA   10001018002P1   \n",
       "4         CIÊNCIAS BIOLÓGICAS        PARASITOLOGIA   10001018002P1   \n",
       "\n",
       "         NM_PROGRAMA_IES    NM_GRAU_PROGRAMA NM_MODALIDADE_PROGRAMA  \\\n",
       "0  BIOLOGIA EXPERIMENTAL  MESTRADO/DOUTORADO              ACADÊMICO   \n",
       "1  BIOLOGIA EXPERIMENTAL  MESTRADO/DOUTORADO              ACADÊMICO   \n",
       "2  BIOLOGIA EXPERIMENTAL  MESTRADO/DOUTORADO              ACADÊMICO   \n",
       "3  BIOLOGIA EXPERIMENTAL  MESTRADO/DOUTORADO              ACADÊMICO   \n",
       "4  BIOLOGIA EXPERIMENTAL  MESTRADO/DOUTORADO              ACADÊMICO   \n",
       "\n",
       "   CD_CONCEITO_PROGRAMA  ...  AN_TITULACAO NM_GRAU_TITULACAO  \\\n",
       "0                     3  ...          1999         DOUTORADO   \n",
       "1                     3  ...          2004         DOUTORADO   \n",
       "2                     3  ...          1991         DOUTORADO   \n",
       "3                     3  ...          2008         DOUTORADO   \n",
       "4                     3  ...          2005         DOUTORADO   \n",
       "\n",
       "  CD_AREA_BASICA_TITULACAO  NM_AREA_BASICA_TITULACAO SG_IES_TITULACAO  \\\n",
       "0                 21300003             PARASITOLOGIA              USP   \n",
       "1                 20100000            BIOLOGIA GERAL              UNB   \n",
       "2                 20205007  GENÉTICA HUMANA E MÉDICA              USP   \n",
       "3                 40101134                NEFROLOGIA          UNIFESP   \n",
       "4                 40200000               ODONTOLOGIA              USP   \n",
       "\n",
       "                    NM_IES_TITULACAO NM_PAIS_IES_TITULACAO  \\\n",
       "0          UNIVERSIDADE DE SÃO PAULO                BRASIL   \n",
       "1           UNIVERSIDADE DE BRASÍLIA                BRASIL   \n",
       "2          UNIVERSIDADE DE SÃO PAULO                BRASIL   \n",
       "3  UNIVERSIDADE FEDERAL DE SÃO PAULO                BRASIL   \n",
       "4          UNIVERSIDADE DE SÃO PAULO                BRASIL   \n",
       "\n",
       "  ID_ADD_FOTO_PROGRAMA ID_ADD_FOTO_PROGRAMA_IES  DS_CLIENTELA_QUADRIENAL_2017  \n",
       "0                57437                   121358                     AVALIAÇÃO  \n",
       "1                57437                   121358                     AVALIAÇÃO  \n",
       "2                57437                   121358                     AVALIAÇÃO  \n",
       "3                57437                   121358                     AVALIAÇÃO  \n",
       "4                57437                   121358                     AVALIAÇÃO  \n",
       "\n",
       "[5 rows x 43 columns]"
      ]
     },
     "execution_count": 2,
     "metadata": {},
     "output_type": "execute_result"
    }
   ],
   "source": [
    "df=pd.read_excel('br-capes-colsucup-docente-2013a2016-2020-06-12_2016.xlsx')\n",
    "\n",
    "df.head()"
   ]
  },
  {
   "cell_type": "code",
   "execution_count": 3,
   "metadata": {
    "scrolled": true
   },
   "outputs": [
    {
     "name": "stdout",
     "output_type": "stream",
     "text": [
      "<class 'pandas.core.frame.DataFrame'>\n",
      "RangeIndex: 95246 entries, 0 to 95245\n",
      "Data columns (total 43 columns):\n",
      " #   Column                         Non-Null Count  Dtype \n",
      "---  ------                         --------------  ----- \n",
      " 0   AN_BASE                        95246 non-null  int64 \n",
      " 1   CD_AREA_AVALIACAO              95246 non-null  int64 \n",
      " 2   NM_AREA_AVALIACAO              95246 non-null  object\n",
      " 3   NM_GRANDE_AREA_CONHECIMENTO    95246 non-null  object\n",
      " 4   NM_AREA_CONHECIMENTO           95246 non-null  object\n",
      " 5   CD_PROGRAMA_IES                95246 non-null  object\n",
      " 6   NM_PROGRAMA_IES                95246 non-null  object\n",
      " 7   NM_GRAU_PROGRAMA               95246 non-null  object\n",
      " 8   NM_MODALIDADE_PROGRAMA         95246 non-null  object\n",
      " 9   CD_CONCEITO_PROGRAMA           95246 non-null  int64 \n",
      " 10  CD_ENTIDADE_CAPES              95246 non-null  int64 \n",
      " 11  CD_ENTIDADE_EMEC               95246 non-null  object\n",
      " 12  SG_ENTIDADE_ENSINO             95246 non-null  object\n",
      " 13  NM_ENTIDADE_ENSINO             95246 non-null  object\n",
      " 14  DS_DEPENDENCIA_ADMINISTRATIVA  95246 non-null  object\n",
      " 15  CS_STATUS_JURIDICO             95246 non-null  object\n",
      " 16  NM_MUNICIPIO_PROGRAMA_IES      95246 non-null  object\n",
      " 17  SG_UF_PROGRAMA                 95246 non-null  object\n",
      " 18  NM_REGIAO                      95246 non-null  object\n",
      " 19  ID_PESSOA                      95246 non-null  int64 \n",
      " 20  TP_DOCUMENTO_DOCENTE           95246 non-null  object\n",
      " 21  NR_DOCUMENTO_DOCENTE           95246 non-null  object\n",
      " 22  NM_DOCENTE                     95246 non-null  object\n",
      " 23  TP_SEXO_DOCENTE                95246 non-null  object\n",
      " 24  AN_NASCIMENTO_DOCENTE          95246 non-null  int64 \n",
      " 25  DS_FAIXA_ETARIA                95233 non-null  object\n",
      " 26  DS_TIPO_NACIONALIDADE_DOCENTE  95246 non-null  object\n",
      " 27  NM_PAIS_NACIONALIDADE_DOCENTE  95246 non-null  object\n",
      " 28  DS_CATEGORIA_DOCENTE           95246 non-null  object\n",
      " 29  DS_TIPO_VINCULO_DOCENTE_IES    95246 non-null  object\n",
      " 30  DS_REGIME_TRABALHO             95246 non-null  object\n",
      " 31  CD_CAT_BOLSA_PRODUTIVIDADE     22144 non-null  object\n",
      " 32  IN_DOUTOR                      95246 non-null  object\n",
      " 33  AN_TITULACAO                   95246 non-null  int64 \n",
      " 34  NM_GRAU_TITULACAO              95246 non-null  object\n",
      " 35  CD_AREA_BASICA_TITULACAO       95246 non-null  int64 \n",
      " 36  NM_AREA_BASICA_TITULACAO       95246 non-null  object\n",
      " 37  SG_IES_TITULACAO               91821 non-null  object\n",
      " 38  NM_IES_TITULACAO               95246 non-null  object\n",
      " 39  NM_PAIS_IES_TITULACAO          95246 non-null  object\n",
      " 40  ID_ADD_FOTO_PROGRAMA           95246 non-null  int64 \n",
      " 41  ID_ADD_FOTO_PROGRAMA_IES       95246 non-null  int64 \n",
      " 42  DS_CLIENTELA_QUADRIENAL_2017   95246 non-null  object\n",
      "dtypes: int64(10), object(33)\n",
      "memory usage: 31.2+ MB\n"
     ]
    }
   ],
   "source": [
    "df.info()"
   ]
  },
  {
   "cell_type": "code",
   "execution_count": 4,
   "metadata": {},
   "outputs": [
    {
     "name": "stderr",
     "output_type": "stream",
     "text": [
      "/home/gustavo/anaconda3/lib/python3.8/site-packages/seaborn/_decorators.py:36: FutureWarning: Pass the following variables as keyword args: x, y. From version 0.12, the only valid positional argument will be `data`, and passing other arguments without an explicit keyword will result in an error or misinterpretation.\n",
      "  warnings.warn(\n"
     ]
    },
    {
     "data": {
      "text/plain": [
       "Text(0, 0.5, 'Ano de titulação')"
      ]
     },
     "execution_count": 4,
     "metadata": {},
     "output_type": "execute_result"
    },
    {
     "data": {
      "image/png": "[encoded data removed]",
      "text/plain": [
       "<Figure size 432x288 with 1 Axes>"
      ]
     },
     "metadata": {
      "needs_background": "light"
     },
     "output_type": "display_data"
    }
   ],
   "source": [
    "ano=df.groupby('CD_PROGRAMA_IES').mean()['AN_TITULACAO']\n",
    "conceito=df.groupby('CD_PROGRAMA_IES').mean()['CD_CONCEITO_PROGRAMA']\n",
    "sns.regplot(conceito,ano,x_estimator=np.mean,color='black')\n",
    "plt.xlabel('Conceito CAPES')\n",
    "plt.ylabel('Ano de titulação')"
   ]
  },
  {
   "cell_type": "code",
   "execution_count": 5,
   "metadata": {},
   "outputs": [
    {
     "data": {
      "text/plain": [
       "NM_GRAU_TITULACAO\n",
       "BACHARELADO              4.33\n",
       "DOUTORADO                4.24\n",
       "MESTRADO                 3.95\n",
       "MESTRADO PROFISSIONAL    3.48\n",
       "Name: CD_CONCEITO_PROGRAMA, dtype: float64"
      ]
     },
     "execution_count": 5,
     "metadata": {},
     "output_type": "execute_result"
    }
   ],
   "source": [
    "#por grau de titulação\n",
    "\n",
    "df.groupby('NM_GRAU_TITULACAO').mean()['CD_CONCEITO_PROGRAMA'].round(2)"
   ]
  },
  {
   "cell_type": "code",
   "execution_count": 6,
   "metadata": {},
   "outputs": [
    {
     "data": {
      "text/plain": [
       "NM_GRAU_TITULACAO\n",
       "BACHARELADO                 67\n",
       "DOUTORADO                94334\n",
       "MESTRADO                   785\n",
       "MESTRADO PROFISSIONAL       60\n",
       "dtype: int64"
      ]
     },
     "execution_count": 6,
     "metadata": {},
     "output_type": "execute_result"
    }
   ],
   "source": [
    "#vendo o tamanho\n",
    "\n",
    "df.groupby('NM_GRAU_TITULACAO').size()"
   ]
  },
  {
   "cell_type": "code",
   "execution_count": 7,
   "metadata": {
    "scrolled": true
   },
   "outputs": [
    {
     "data": {
      "text/plain": [
       "TP_SEXO_DOCENTE\n",
       "FEMININO     4.19\n",
       "MASCULINO    4.26\n",
       "Name: CD_CONCEITO_PROGRAMA, dtype: float64"
      ]
     },
     "execution_count": 7,
     "metadata": {},
     "output_type": "execute_result"
    }
   ],
   "source": [
    "#por sexo\n",
    "\n",
    "df.groupby('TP_SEXO_DOCENTE').mean()['CD_CONCEITO_PROGRAMA'].round(2)"
   ]
  },
  {
   "cell_type": "code",
   "execution_count": 8,
   "metadata": {},
   "outputs": [
    {
     "data": {
      "text/plain": [
       "TP_SEXO_DOCENTE\n",
       "FEMININO     39811\n",
       "MASCULINO    55435\n",
       "dtype: int64"
      ]
     },
     "execution_count": 8,
     "metadata": {},
     "output_type": "execute_result"
    }
   ],
   "source": [
    "#vendo o tamanho\n",
    "\n",
    "df.groupby('TP_SEXO_DOCENTE').size()"
   ]
  },
  {
   "cell_type": "code",
   "execution_count": 9,
   "metadata": {},
   "outputs": [
    {
     "data": {
      "text/plain": [
       "DS_TIPO_NACIONALIDADE_DOCENTE\n",
       "BRASILEIRO     4.23\n",
       "ESTRANGEIRO    4.59\n",
       "Name: CD_CONCEITO_PROGRAMA, dtype: float64"
      ]
     },
     "execution_count": 9,
     "metadata": {},
     "output_type": "execute_result"
    }
   ],
   "source": [
    "#brasileiro ou estrangeiro\n",
    "\n",
    "df.groupby('DS_TIPO_NACIONALIDADE_DOCENTE').mean()['CD_CONCEITO_PROGRAMA'].round(2)"
   ]
  },
  {
   "cell_type": "code",
   "execution_count": 10,
   "metadata": {},
   "outputs": [
    {
     "data": {
      "text/plain": [
       "NM_PAIS_NACIONALIDADE_DOCENTE\n",
       "PAQUISTÃO           7.00\n",
       "NEPAL               7.00\n",
       "SUDÃO               7.00\n",
       "MACEDONIA           7.00\n",
       "COREIA DO NORTE     6.00\n",
       "SAARA OCIDENTAL     6.00\n",
       "ESLOVÊNIA           6.00\n",
       "IRÃ                 5.62\n",
       "ARMÉNIA             5.50\n",
       "CONGO               5.50\n",
       "BULGÁRIA            5.31\n",
       "AUSTRÁLIA           5.17\n",
       "DINAMARCA           5.14\n",
       "REPÚBLICA TCHECA    5.14\n",
       "UCRÂNIA             5.10\n",
       "Name: CD_CONCEITO_PROGRAMA, dtype: float64"
      ]
     },
     "execution_count": 10,
     "metadata": {},
     "output_type": "execute_result"
    }
   ],
   "source": [
    "#por nacionalidade do docente\n",
    "\n",
    "df.groupby('NM_PAIS_NACIONALIDADE_DOCENTE').mean()['CD_CONCEITO_PROGRAMA'].round(2).sort_values(ascending=False).head(15)"
   ]
  },
  {
   "cell_type": "code",
   "execution_count": 11,
   "metadata": {},
   "outputs": [
    {
     "data": {
      "text/plain": [
       "NM_PAIS_NACIONALIDADE_DOCENTE\n",
       "BRASIL            92579\n",
       "ARGENTINA           253\n",
       "PORTUGAL            217\n",
       "ESTADOS UNIDOS      216\n",
       "ITÁLIA              198\n",
       "PERU                196\n",
       "FRANÇA              179\n",
       "ALEMANHA            158\n",
       "ESPANHA             147\n",
       "CHILE               105\n",
       "CUBA                 94\n",
       "COLÔMBIA             93\n",
       "URUGUAI              77\n",
       "REINO UNIDO          76\n",
       "RÚSSIA               56\n",
       "dtype: int64"
      ]
     },
     "execution_count": 11,
     "metadata": {},
     "output_type": "execute_result"
    }
   ],
   "source": [
    "#quais países tem mais docentes\n",
    "\n",
    "df.groupby('NM_PAIS_NACIONALIDADE_DOCENTE').size().round(2).sort_values(ascending=False).head(15)"
   ]
  },
  {
   "cell_type": "code",
   "execution_count": 12,
   "metadata": {},
   "outputs": [
    {
     "data": {
      "text/plain": [
       "NM_PAIS_IES_TITULACAO\n",
       "PORTO RICO          7.00\n",
       "GEÓRGIA             7.00\n",
       "ESLOVÊNIA           7.00\n",
       "REPÚBLICA TCHECA    5.50\n",
       "ISRAEL              5.36\n",
       "HUNGRIA             5.33\n",
       "BULGÁRIA            5.22\n",
       "CAMARÕES            5.00\n",
       "DINAMARCA           4.87\n",
       "ESTADOS UNIDOS      4.86\n",
       "NOVA ZELÂNDIA       4.80\n",
       "ARGENTINA           4.76\n",
       "SUÍÇA               4.71\n",
       "SUÉCIA              4.70\n",
       "REINO UNIDO         4.70\n",
       "Name: CD_CONCEITO_PROGRAMA, dtype: float64"
      ]
     },
     "execution_count": 12,
     "metadata": {},
     "output_type": "execute_result"
    }
   ],
   "source": [
    "#por país da titulação\n",
    "\n",
    "df.groupby('NM_PAIS_IES_TITULACAO').mean()['CD_CONCEITO_PROGRAMA'].round(2).sort_values(ascending=False).head(15)"
   ]
  },
  {
   "cell_type": "code",
   "execution_count": 13,
   "metadata": {},
   "outputs": [
    {
     "data": {
      "text/plain": [
       "NM_GRANDE_AREA_CONHECIMENTO\n",
       "CIÊNCIAS EXATAS E DA TERRA     4.74\n",
       "CIÊNCIAS BIOLÓGICAS            4.69\n",
       "CIÊNCIAS DA SAÚDE              4.32\n",
       "ENGENHARIAS                    4.28\n",
       "CIÊNCIAS AGRÁRIAS              4.25\n",
       "CIÊNCIAS HUMANAS               4.21\n",
       "LINGÜÍSTICA, LETRAS E ARTES    4.20\n",
       "CIÊNCIAS SOCIAIS APLICADAS     3.99\n",
       "MULTIDISCIPLINAR               3.70\n",
       "Name: CD_CONCEITO_PROGRAMA, dtype: float64"
      ]
     },
     "execution_count": 13,
     "metadata": {},
     "output_type": "execute_result"
    }
   ],
   "source": [
    "#por grande área do conhecimento\n",
    "\n",
    "df.groupby('NM_GRANDE_AREA_CONHECIMENTO').mean()['CD_CONCEITO_PROGRAMA'].round(2).sort_values(ascending=False).head(15)"
   ]
  },
  {
   "cell_type": "code",
   "execution_count": 14,
   "metadata": {},
   "outputs": [
    {
     "data": {
      "text/plain": [
       "NM_AREA_CONHECIMENTO\n",
       "POLÍMEROS, APLICAÇÕES               7.00\n",
       "SENSORIAMENTO REMOTO                7.00\n",
       "NEFROLOGIA                          6.51\n",
       "OUTRAS SOCIOLOGIAS ESPECÍFICAS      6.13\n",
       "ALERGOLOGIA E IMUNOLOGIA CLÍNICA    6.00\n",
       "ANATOMIA PATOLÓGICA ANIMAL          6.00\n",
       "EDUCAÇÃO ESPECIAL                   6.00\n",
       "PROCESSOS BIOQUÍMICOS               6.00\n",
       "PSIQUIATRIA                         5.96\n",
       "FITOPATOLOGIA                       5.92\n",
       "MEDICINA PREVENTIVA                 5.90\n",
       "BIOQUÍMICA                          5.84\n",
       "PSICOLOGIA EXPERIMENTAL             5.76\n",
       "QUÍMICA ORGÂNICA                    5.69\n",
       "MATERIAIS ODONTOLÓGICOS             5.53\n",
       "Name: CD_CONCEITO_PROGRAMA, dtype: float64"
      ]
     },
     "execution_count": 14,
     "metadata": {},
     "output_type": "execute_result"
    }
   ],
   "source": [
    "#por área do conhecimento\n",
    "\n",
    "df.groupby('NM_AREA_CONHECIMENTO').mean()['CD_CONCEITO_PROGRAMA'].round(2).sort_values(ascending=False).head(15)\n",
    "#chemistry rocks"
   ]
  },
  {
   "cell_type": "code",
   "execution_count": 15,
   "metadata": {},
   "outputs": [
    {
     "data": {
      "text/plain": [
       "Text(0.5, 1.0, 'Conceito dos programas agrupados por área do conhecimento')"
      ]
     },
     "execution_count": 15,
     "metadata": {},
     "output_type": "execute_result"
    },
    {
     "data": {
      "image/png": "[encoded data removed]",
      "text/plain": [
       "<Figure size 432x288 with 1 Axes>"
      ]
     },
     "metadata": {
      "needs_background": "light"
     },
     "output_type": "display_data"
    }
   ],
   "source": [
    "conceitos=df.groupby('NM_AREA_CONHECIMENTO').mean()['CD_CONCEITO_PROGRAMA']\n",
    "conceitos.hist(bins=int(len(conceitos)**0.5),color='black',grid=False)\n",
    "plt.title('Conceito dos programas agrupados por área do conhecimento')\n",
    "\n",
    "#there's nothing to see here"
   ]
  },
  {
   "cell_type": "code",
   "execution_count": 16,
   "metadata": {
    "scrolled": false
   },
   "outputs": [
    {
     "name": "stderr",
     "output_type": "stream",
     "text": [
      "/home/gustavo/anaconda3/lib/python3.8/site-packages/seaborn/_decorators.py:36: FutureWarning: Pass the following variables as keyword args: x, y. From version 0.12, the only valid positional argument will be `data`, and passing other arguments without an explicit keyword will result in an error or misinterpretation.\n",
      "  warnings.warn(\n"
     ]
    },
    {
     "data": {
      "text/plain": [
       "Text(0, 0.5, 'Média de docentes')"
      ]
     },
     "execution_count": 16,
     "metadata": {},
     "output_type": "execute_result"
    },
    {
     "data": {
      "image/png": "[encoded data removed]",
      "text/plain": [
       "<Figure size 432x288 with 1 Axes>"
      ]
     },
     "metadata": {
      "needs_background": "light"
     },
     "output_type": "display_data"
    }
   ],
   "source": [
    "#relação entre número de docentes e conceito capes\n",
    "\n",
    "conceito=df.groupby('CD_PROGRAMA_IES').mean()['CD_CONCEITO_PROGRAMA']\n",
    "contagem=df.groupby('CD_PROGRAMA_IES').size()\n",
    "\n",
    "sns.regplot(conceito,contagem,x_estimator=np.mean,color='black') #x_estimator=np.mean junta os dados discretos do conceito\n",
    "plt.xlabel('Conceito do programa')\n",
    "plt.ylabel('Média de docentes')"
   ]
  },
  {
   "cell_type": "markdown",
   "metadata": {},
   "source": [
    "### Métricas mais relevantes até agora\n",
    "\n",
    "    1. Número de docentes\n",
    "    2. Ano de titulação do docente\n",
    "    3. Área de estudo"
   ]
  },
  {
   "cell_type": "code",
   "execution_count": null,
   "metadata": {},
   "outputs": [],
   "source": []
  }
 ],
 "metadata": {
  "kernelspec": {
   "display_name": "Python 3",
   "language": "python",
   "name": "python3"
  },
  "language_info": {
   "codemirror_mode": {
    "name": "ipython",
    "version": 3
   },
   "file_extension": ".py",
   "mimetype": "text/x-python",
   "name": "python",
   "nbconvert_exporter": "python",
   "pygments_lexer": "ipython3",
   "version": "3.8.5"
  },
  "varInspector": {
   "cols": {
    "lenName": 16,
    "lenType": 16,
    "lenVar": 40
   },
   "kernels_config": {
    "python": {
     "delete_cmd_postfix": "",
     "delete_cmd_prefix": "del ",
     "library": "var_list.py",
     "varRefreshCmd": "print(var_dic_list())"
    },
    "r": {
     "delete_cmd_postfix": ") ",
     "delete_cmd_prefix": "rm(",
     "library": "var_list.r",
     "varRefreshCmd": "cat(var_dic_list()) "
    }
   },
   "types_to_exclude": [
    "module",
    "function",
    "builtin_function_or_method",
    "instance",
    "_Feature"
   ],
   "window_display": false
  }
 },
 "nbformat": 4,
 "nbformat_minor": 4
}
