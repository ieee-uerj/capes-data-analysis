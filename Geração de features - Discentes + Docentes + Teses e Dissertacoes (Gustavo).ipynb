{
 "cells": [
  {
   "cell_type": "code",
   "execution_count": 1,
   "id": "billion-technique",
   "metadata": {},
   "outputs": [],
   "source": [
    "import pandas as pd\n",
    "import numpy as np\n",
    "import seaborn as sns\n",
    "import matplotlib.pyplot as plt\n",
    "import sweetviz"
   ]
  },
  {
   "cell_type": "code",
   "execution_count": 2,
   "id": "graduate-sigma",
   "metadata": {},
   "outputs": [],
   "source": [
    "And=lambda a,b: np.logical_and(a,b)"
   ]
  },
  {
   "cell_type": "markdown",
   "id": "limited-institution",
   "metadata": {},
   "source": [
    "# Importando as bases"
   ]
  },
  {
   "cell_type": "code",
   "execution_count": null,
   "id": "sensitive-terrain",
   "metadata": {},
   "outputs": [],
   "source": [
    "discentes=pd.read_csv('data/Discentes_2013-2019.csv',encoding='latin1')"
   ]
  },
  {
   "cell_type": "code",
   "execution_count": null,
   "id": "fewer-stopping",
   "metadata": {},
   "outputs": [],
   "source": [
    "docentes=pd.read_csv('data/Docentes_2013-2019.csv',encoding='latin1')\n",
    "\n",
    "colunas=['AN_BASE',\n",
    " 'CD_PROGRAMA_IES',\n",
    " 'TP_SEXO_DOCENTE',\n",
    " 'AN_NASCIMENTO_DOCENTE',\n",
    " 'DS_TIPO_NACIONALIDADE_DOCENTE',\n",
    " 'AN_TITULACAO']\n",
    "\n",
    "docentes=docentes[colunas]"
   ]
  },
  {
   "cell_type": "code",
   "execution_count": null,
   "id": "arranged-involvement",
   "metadata": {},
   "outputs": [],
   "source": [
    "teses=pd.read_csv('data/Teses-Dissertassoes_2013-2019.csv',encoding='latin1')"
   ]
  },
  {
   "cell_type": "markdown",
   "id": "deadly-quick",
   "metadata": {},
   "source": [
    "# Gerando as features para a base de Discentes"
   ]
  },
  {
   "cell_type": "code",
   "execution_count": null,
   "id": "religious-jaguar",
   "metadata": {},
   "outputs": [],
   "source": [
    "def contar_homem(array):\n",
    "    L=[]\n",
    "    for i in array:\n",
    "        if i=='MASCULINO':\n",
    "            L.append(1)\n",
    "        else:\n",
    "            L.append(0)\n",
    "    return L\n",
    "\n",
    "def contar_mulher(array):\n",
    "    L=[]\n",
    "    for i in array:\n",
    "        if i=='MASCULINO':\n",
    "            L.append(0)\n",
    "        else:\n",
    "            L.append(1)\n",
    "    return L\n",
    "\n",
    "def contar_brasiliero(array):\n",
    "    L=[]\n",
    "    for i in array:\n",
    "        if i=='BRASILEIRO':\n",
    "            L.append(1)\n",
    "        else:\n",
    "            L.append(0)\n",
    "    return L\n",
    "\n",
    "def contar_estrangeiro(array):\n",
    "    L=[]\n",
    "    for i in array:\n",
    "        if i=='BRASILEIRO':\n",
    "            L.append(0)\n",
    "        else:\n",
    "            L.append(1)\n",
    "    return L\n",
    "\n",
    "def media_especial(array):\n",
    "    '''Tira a média dos valores do array ignorando-se os zeros.'''\n",
    "    valores_nao_nulos=[]\n",
    "    for i in array:\n",
    "        if i!=0:\n",
    "            valores_nao_nulos.append(i)\n",
    "    return np.mean(valores_nao_nulos)"
   ]
  },
  {
   "cell_type": "code",
   "execution_count": null,
   "id": "heard-triumph",
   "metadata": {},
   "outputs": [],
   "source": [
    "discentes['Dis_Homens']=contar_homem(discentes.TP_SEXO_DISCENTE)\n",
    "discentes['Dis_Mulheres']=contar_mulher(discentes.TP_SEXO_DISCENTE)\n",
    "discentes['Dis_Brasileiros']=contar_brasiliero(discentes.DS_TIPO_NACIONALIDADE_DISCENTE)\n",
    "discentes['Dis_Estrangeiros']=contar_estrangeiro(discentes.DS_TIPO_NACIONALIDADE_DISCENTE)\n",
    "discentes['Quantidade_Discentes']=[1 for i in range(len(discentes))]"
   ]
  },
  {
   "cell_type": "code",
   "execution_count": null,
   "id": "blessed-position",
   "metadata": {},
   "outputs": [],
   "source": [
    "discentes=discentes.groupby(['CD_PROGRAMA_IES','AN_BASE'],as_index=False).agg({'Dis_Homens':np.sum,'Dis_Mulheres':np.sum,\n",
    "                                                              'Dis_Brasileiros':np.sum, 'Dis_Estrangeiros':np.sum,\n",
    "                                                             'Quantidade_Discentes':np.sum,\n",
    "                                                            'QT_MES_TITULACAO':media_especial,\n",
    "                                                            'CD_AREA_AVALIACAO':np.max,'CS_STATUS_JURIDICO':np.max,\n",
    "                                                            'AN_NASCIMENTO_DISCENTE':np.mean,'NM_REGIAO':np.max,\n",
    "                                                            'SG_UF_PROGRAMA':np.max,\n",
    "                                                            'CD_CONCEITO_PROGRAMA':np.max})\n",
    "\n",
    "\n",
    "#esse aviso aparece porque tem uns programas que só tem valor zero a coluna QT_MES_TITULACAO\n",
    "#(zero indica que o progama ainda não foi terminado )"
   ]
  },
  {
   "cell_type": "code",
   "execution_count": null,
   "id": "polyphonic-temperature",
   "metadata": {},
   "outputs": [],
   "source": [
    "def proporcao_homens(df):\n",
    "    L=[]\n",
    "    for i in range(len(df)):\n",
    "        L.append(df.Dis_Homens[i]/df.Quantidade_Discentes[i])\n",
    "    return L\n",
    "\n",
    "def razao_aluno_tempo(df):\n",
    "    '''Retorna a razão aluno/tempo médio de titulação'''\n",
    "    L=[]\n",
    "    for i in range(len(df)):\n",
    "        L.append(df.Quantidade_Discentes[i]/df.QT_MES_TITULACAO[i])\n",
    "    return L"
   ]
  },
  {
   "cell_type": "code",
   "execution_count": null,
   "id": "south-injection",
   "metadata": {},
   "outputs": [],
   "source": [
    "discentes.insert(7,'Dis_Prop_Homens',proporcao_homens(discentes),True)\n",
    "discentes.insert(8,'Dis_Aluno_Tempo',razao_aluno_tempo(discentes),True)"
   ]
  },
  {
   "cell_type": "code",
   "execution_count": null,
   "id": "placed-shark",
   "metadata": {},
   "outputs": [],
   "source": [
    "discentes.head()"
   ]
  },
  {
   "cell_type": "markdown",
   "id": "arabic-scheduling",
   "metadata": {},
   "source": [
    "# Gerando as features para a base de docentes"
   ]
  },
  {
   "cell_type": "code",
   "execution_count": null,
   "id": "public-convert",
   "metadata": {},
   "outputs": [],
   "source": [
    "docentes.head()"
   ]
  },
  {
   "cell_type": "code",
   "execution_count": null,
   "id": "regulated-astrology",
   "metadata": {},
   "outputs": [],
   "source": [
    "def contar_homem(array):\n",
    "    L=[]\n",
    "    for i in array:\n",
    "        if i=='MASCULINO':\n",
    "            L.append(1)\n",
    "        else:\n",
    "            L.append(0)\n",
    "    return L\n",
    "\n",
    "def contar_mulher(array):\n",
    "    L=[]\n",
    "    for i in array:\n",
    "        if i=='MASCULINO':\n",
    "            L.append(0)\n",
    "        else:\n",
    "            L.append(1)\n",
    "    return L\n",
    "\n",
    "def contar_brasiliero(array):\n",
    "    L=[]\n",
    "    for i in array:\n",
    "        if i=='BRASILEIRO':\n",
    "            L.append(1)\n",
    "        else:\n",
    "            L.append(0)\n",
    "    return L\n",
    "\n",
    "def contar_estrangeiro(array):\n",
    "    L=[]\n",
    "    for i in array:\n",
    "        if i=='BRASILEIRO':\n",
    "            L.append(0)\n",
    "        else:\n",
    "            L.append(1)\n",
    "    return L"
   ]
  },
  {
   "cell_type": "code",
   "execution_count": null,
   "id": "sublime-subdivision",
   "metadata": {},
   "outputs": [],
   "source": [
    "docentes['Do_Homens']=contar_homem(docentes.TP_SEXO_DOCENTE)\n",
    "docentes['Do_Mulheres']=contar_mulher(docentes.TP_SEXO_DOCENTE)\n",
    "docentes['Do_Brasileiros']=contar_brasiliero(docentes.DS_TIPO_NACIONALIDADE_DOCENTE)\n",
    "docentes['Do_Estrangeiros']=contar_estrangeiro(docentes.DS_TIPO_NACIONALIDADE_DOCENTE)\n",
    "docentes['Quantidade_Docentes']=[1 for i in range(len(docentes))]"
   ]
  },
  {
   "cell_type": "code",
   "execution_count": null,
   "id": "aerial-farmer",
   "metadata": {},
   "outputs": [],
   "source": [
    "docentes=docentes.groupby(['CD_PROGRAMA_IES','AN_BASE'],as_index=False).agg({'Do_Homens':np.sum,'Do_Mulheres':np.sum,\n",
    "                                                              'Do_Brasileiros':np.sum, 'Do_Estrangeiros':np.sum,\n",
    "                                                             'Quantidade_Docentes':np.sum,\n",
    "                                                            'AN_NASCIMENTO_DOCENTE':np.mean})"
   ]
  },
  {
   "cell_type": "code",
   "execution_count": null,
   "id": "cultural-identification",
   "metadata": {
    "scrolled": true
   },
   "outputs": [],
   "source": [
    "docentes.head()"
   ]
  },
  {
   "cell_type": "markdown",
   "id": "interested-effects",
   "metadata": {},
   "source": [
    "# Gerando para a base de teses e dissertações"
   ]
  },
  {
   "cell_type": "code",
   "execution_count": null,
   "id": "specialized-strand",
   "metadata": {},
   "outputs": [],
   "source": [
    "def contar_lingua_estrangeira(array):\n",
    "    '''Conta quantos traballhos são esritos em língua estrangeira'''\n",
    "    L=[]\n",
    "    for i in array:\n",
    "        if i=='PORTUGUES':\n",
    "            L.append(0)\n",
    "        else:\n",
    "            L.append(1)\n",
    "    return L\n",
    "\n",
    "teses['Lingua_estrangeira']=contar_lingua_estrangeira(teses.NM_IDIOMA)\n",
    "\n",
    "teses['Quantidade_Trabalhos']=[1 for i in range(len(teses))]"
   ]
  },
  {
   "cell_type": "code",
   "execution_count": null,
   "id": "dynamic-killing",
   "metadata": {},
   "outputs": [],
   "source": [
    "teses=teses.groupby(['CD_PROGRAMA','AN_BASE'],as_index=False).agg({'ID_SUBTIPO_PRODUCAO':np.max,'NM_SUBTIPO_PRODUCAO':np.max,\n",
    "                                                           'IN_TRABALHO_MESMA_AREA':np.max,'NR_PAGINAS':np.mean,\n",
    "                                                           'Lingua_estrangeira':np.sum,\n",
    "                                                                  'Quantidade_Trabalhos':np.sum})"
   ]
  },
  {
   "cell_type": "code",
   "execution_count": null,
   "id": "planned-bible",
   "metadata": {},
   "outputs": [],
   "source": [
    "teses.head()"
   ]
  },
  {
   "cell_type": "code",
   "execution_count": null,
   "id": "useful-grace",
   "metadata": {},
   "outputs": [],
   "source": [
    "teses.columns=['CD_PROGRAMA_IES',\n",
    " 'AN_BASE',\n",
    " 'ID_SUBTIPO_PRODUCAO',\n",
    " 'NM_SUBTIPO_PRODUCAO',\n",
    " 'IN_TRABALHO_MESMA_AREA',\n",
    " 'NR_PAGINAS',\n",
    " 'Lingua_estrangeira','Quantidade_Trabalhos']"
   ]
  },
  {
   "cell_type": "markdown",
   "id": "systematic-native",
   "metadata": {},
   "source": [
    "# Juntando as bases de docentes, discentes e teses"
   ]
  },
  {
   "cell_type": "code",
   "execution_count": null,
   "id": "amateur-choice",
   "metadata": {},
   "outputs": [],
   "source": [
    "df=pd.merge(docentes,discentes,on=['CD_PROGRAMA_IES','AN_BASE'])"
   ]
  },
  {
   "cell_type": "code",
   "execution_count": null,
   "id": "sticky-leisure",
   "metadata": {},
   "outputs": [],
   "source": [
    "df=pd.merge(teses,df,on=['CD_PROGRAMA_IES','AN_BASE'])"
   ]
  },
  {
   "cell_type": "code",
   "execution_count": null,
   "id": "swedish-suffering",
   "metadata": {},
   "outputs": [],
   "source": [
    "para_deletar=[discentes,docentes]\n",
    "del para_deletar #esse é um jeito de forçar o garbage collector a remover esses dataframes da memória"
   ]
  },
  {
   "cell_type": "code",
   "execution_count": null,
   "id": "abstract-slope",
   "metadata": {},
   "outputs": [],
   "source": [
    "df.info()"
   ]
  },
  {
   "cell_type": "code",
   "execution_count": null,
   "id": "reported-heath",
   "metadata": {
    "scrolled": true
   },
   "outputs": [],
   "source": [
    "df.head()"
   ]
  },
  {
   "cell_type": "markdown",
   "id": "intelligent-fisher",
   "metadata": {},
   "source": [
    "# Criando features para as três bases juntas"
   ]
  },
  {
   "cell_type": "markdown",
   "id": "opening-skiing",
   "metadata": {},
   "source": [
    "## Docentes e discentes"
   ]
  },
  {
   "cell_type": "code",
   "execution_count": null,
   "id": "other-swimming",
   "metadata": {},
   "outputs": [],
   "source": [
    "def diferenca_idade(df):\n",
    "    L=[]\n",
    "    for i in range(len(df)):\n",
    "        L.append(-df.AN_NASCIMENTO_DOCENTE[i]+df.AN_NASCIMENTO_DISCENTE[i])\n",
    "    return L\n",
    "\n",
    "def razao_aluno_prof(df):\n",
    "    L=[]\n",
    "    for i in range(len(df)):\n",
    "        L.append(df.Quantidade_Discentes[i]/df.Quantidade_Docentes[i])\n",
    "    return L   "
   ]
  },
  {
   "cell_type": "code",
   "execution_count": null,
   "id": "suspected-benchmark",
   "metadata": {},
   "outputs": [],
   "source": [
    "df.insert(19,'diferenca_idade',diferenca_idade(df),True)\n",
    "df.insert(20,'razao_aluno_prof',razao_aluno_prof(df),True)"
   ]
  },
  {
   "cell_type": "code",
   "execution_count": null,
   "id": "tender-egyptian",
   "metadata": {},
   "outputs": [],
   "source": [
    "x=df.groupby('CD_CONCEITO_PROGRAMA').mean()[['diferenca_idade','razao_aluno_prof']]"
   ]
  },
  {
   "cell_type": "code",
   "execution_count": null,
   "id": "liable-delicious",
   "metadata": {},
   "outputs": [],
   "source": [
    "plt.scatter(x.diferenca_idade,x.index,color='black')\n",
    "plt.xlabel('Diferença de idade entre professor e aluno',size=13)\n",
    "plt.ylabel('Conceito',size=13)"
   ]
  },
  {
   "cell_type": "code",
   "execution_count": null,
   "id": "fiscal-wisconsin",
   "metadata": {},
   "outputs": [],
   "source": [
    "plt.scatter(x.razao_aluno_prof,x.index,color='black')\n",
    "plt.xlabel('Razão aluno/professor',size=13)\n",
    "plt.ylabel('Conceito',size=13)"
   ]
  },
  {
   "cell_type": "markdown",
   "id": "small-marina",
   "metadata": {},
   "source": [
    "## Teses e dissertações"
   ]
  },
  {
   "cell_type": "markdown",
   "id": "stuffed-career",
   "metadata": {},
   "source": [
    "### OBS: Feature de número de páginas está estranha"
   ]
  },
  {
   "cell_type": "code",
   "execution_count": null,
   "id": "modern-charlotte",
   "metadata": {},
   "outputs": [],
   "source": [
    "x=df.groupby('CD_CONCEITO_PROGRAMA').mean()[['NR_PAGINAS','Lingua_estrangeira','IN_TRABALHO_MESMA_AREA'\n",
    "                                             ,'Quantidade_Trabalhos']]\n",
    "conceito=x.index\n",
    "paginas=x.NR_PAGINAS\n",
    "lingua=x.Lingua_estrangeira\n",
    "trabalho=x.IN_TRABALHO_MESMA_AREA\n",
    "quantidade=x.Quantidade_Trabalhos"
   ]
  },
  {
   "cell_type": "code",
   "execution_count": null,
   "id": "lightweight-shore",
   "metadata": {},
   "outputs": [],
   "source": [
    "plt.scatter(lingua,conceito,color='black')\n",
    "plt.xlabel('Lingua estrangeira',size=13)\n",
    "plt.ylabel('Conceito',size=13)"
   ]
  },
  {
   "cell_type": "code",
   "execution_count": null,
   "id": "narrative-scratch",
   "metadata": {},
   "outputs": [],
   "source": [
    "plt.scatter(trabalho,conceito,color='black')\n",
    "plt.xlabel('Probabilidade de trabalhar na mesma área',size=13)\n",
    "plt.ylabel('Conceito',size=13)"
   ]
  },
  {
   "cell_type": "code",
   "execution_count": null,
   "id": "western-queens",
   "metadata": {
    "scrolled": false
   },
   "outputs": [],
   "source": [
    "plt.scatter(quantidade,conceito,color='black')\n",
    "plt.xlabel('Quantidade de trabalhos',size=13)\n",
    "plt.ylabel('Conceito',size=13)"
   ]
  },
  {
   "cell_type": "code",
   "execution_count": null,
   "id": "disturbed-dimension",
   "metadata": {
    "scrolled": true
   },
   "outputs": [],
   "source": [
    "df1=df.copy()\n",
    "df1=df1.groupby('CD_CONCEITO_PROGRAMA',as_index=False).mean()\n",
    "df1.head()"
   ]
  },
  {
   "cell_type": "markdown",
   "id": "palestinian-entertainment",
   "metadata": {},
   "source": [
    "\n",
    "**Isso é CORRELAÇÃO DE SPEARMAN, não r**\n",
    "\n",
    "Para quem tiver a curiosidade: \n",
    "https://pt.wikipedia.org/wiki/Coeficiente_de_correla%C3%A7%C3%A3o_de_postos_de_Spearman\n",
    "\n",
    "\"Pearson's correlation r measures the linear component of association.\n",
    "Spearman's correlation uses ranks instead of the values. Roughly speaking, it measures \n",
    "the degree to which the two variables rise (or fall) together, regardless whether the relationship linear.\"\n"
   ]
  },
  {
   "cell_type": "code",
   "execution_count": null,
   "id": "logical-spotlight",
   "metadata": {},
   "outputs": [],
   "source": [
    "corr = df1.corr(method='spearman')\n",
    "corr.style.background_gradient(cmap='seismic').set_precision(3)"
   ]
  },
  {
   "cell_type": "code",
   "execution_count": null,
   "id": "wrapped-radius",
   "metadata": {},
   "outputs": [],
   "source": []
  }
 ],
 "metadata": {
  "kernelspec": {
   "display_name": "Python 3",
   "language": "python",
   "name": "python3"
  },
  "language_info": {
   "codemirror_mode": {
    "name": "ipython",
    "version": 3
   },
   "file_extension": ".py",
   "mimetype": "text/x-python",
   "name": "python",
   "nbconvert_exporter": "python",
   "pygments_lexer": "ipython3",
   "version": "3.8.5"
  },
  "varInspector": {
   "cols": {
    "lenName": 16,
    "lenType": 16,
    "lenVar": 40
   },
   "kernels_config": {
    "python": {
     "delete_cmd_postfix": "",
     "delete_cmd_prefix": "del ",
     "library": "var_list.py",
     "varRefreshCmd": "print(var_dic_list())"
    },
    "r": {
     "delete_cmd_postfix": ") ",
     "delete_cmd_prefix": "rm(",
     "library": "var_list.r",
     "varRefreshCmd": "cat(var_dic_list()) "
    }
   },
   "types_to_exclude": [
    "module",
    "function",
    "builtin_function_or_method",
    "instance",
    "_Feature"
   ],
   "window_display": false
  }
 },
 "nbformat": 4,
 "nbformat_minor": 5
}
