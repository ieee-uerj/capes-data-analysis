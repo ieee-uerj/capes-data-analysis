{
 "cells": [
  {
   "cell_type": "markdown",
   "metadata": {
    "id": "ekAqEWmuJlXy"
   },
   "source": [
    "# Análise dos Dados Duplicados + Clusterização\n",
    "\n",
    "**Objetivo:** Analisar os dados duplicados e em seguida aplcar o método de clusterização na base tratada.  \n",
    "\n",
    "---"
   ]
  },
  {
   "cell_type": "markdown",
   "metadata": {
    "id": "x5u2QbrfdkDy"
   },
   "source": [
    "### **Plano de Ação** \n",
    "\n",
    " \n",
    "1.   **Checa TODAS as colunas, Pq eu vi que tinha coluna repetida, O Maurício pegou algumas, Mas eu vi que tem mais.**\n",
    "\n",
    "2.   **Mede a correlação linear entre as variáveis NUMÉRICAS apenas e dropa oq tiver correlação maior que 0.9.**\n",
    "\n",
    "3.   **(1º mais importante): fazer a média/moda por ano dos PPGs. Ou seja, groupby Ano+Código PPG.**\n",
    "\n",
    "        *Porquê isso? Pq o dado está ao longo de 4 anos e cada ppg aparece 4 vezes. Daí eu não vejo muito sentido em               continuar clusterizando ppgs \"repetidos\" com anos diferentes. Quando eu digo \"moda\", me refiro a pegar o valor             mais frequente das variáveis categóricas. Pq não tem como tirar média de variável categórica, só numérica.*\n",
    "\n",
    "4.  **(2º mais importante): além de fazer a estratégia da média, peguem só os dados do último ano (acho que é 2017) e apliquem a clusterização só nesses dados. Ou seja, clusterização só com os PPGs no ano de 2017. Depois, comparem os resultados entre si. Podem comparar visualmente e talvez pegando alguns PPGs aleatórios para olhar a diferença de features e clusters**\n",
    "\n"
   ]
  },
  {
   "cell_type": "markdown",
   "metadata": {
    "id": "RX8KG-AScX2d"
   },
   "source": [
    "## Parte 0: Imports + Renomeações + Verificações"
   ]
  },
  {
   "cell_type": "code",
   "execution_count": 1,
   "metadata": {
    "id": "yMeWJfLXdGZu"
   },
   "outputs": [],
   "source": [
    "import pandas as pd\n",
    "import matplotlib.pyplot as plt\n",
    "import seaborn as sns\n",
    "import numpy as np\n",
    "\n",
    "%matplotlib inline"
   ]
  },
  {
   "cell_type": "code",
   "execution_count": 2,
   "metadata": {
    "id": "diLDTedZnx0x"
   },
   "outputs": [],
   "source": [
    "pd.set_option('display.max_rows', 10)\n",
    "pd.set_option('display.max_columns', 500)\n",
    "pd.set_option('display.width', 1000)"
   ]
  },
  {
   "cell_type": "code",
   "execution_count": 3,
   "metadata": {
    "id": "hZf22b6LdHX8"
   },
   "outputs": [],
   "source": [
    "df= pd.read_csv('https://github.com/ieee-uerj/capes-data-analysis/raw/main/data/Grande_Base_3.csv' , encoding='latin1')\n",
    "\n",
    "#Grande Base 3"
   ]
  },
  {
   "cell_type": "markdown",
   "metadata": {
    "id": "RQWLJ1-IMRbW"
   },
   "source": [
    "#### Verificações sobre a integridade da base analisada\n"
   ]
  },
  {
   "cell_type": "code",
   "execution_count": 4,
   "metadata": {
    "colab": {
     "base_uri": "https://localhost:8080/"
    },
    "id": "lLtiBFLkLzeV",
    "outputId": "a6fbe498-d39b-4e7a-d079-6f229e3d53b9"
   },
   "outputs": [
    {
     "data": {
      "text/plain": [
       "(3989,)"
      ]
     },
     "execution_count": 4,
     "metadata": {},
     "output_type": "execute_result"
    }
   ],
   "source": [
    "df['CD_PROGRAMA_IES'].unique().shape    #Verificações se o número de prgramas de pos-graduação está próximo do real. "
   ]
  },
  {
   "cell_type": "code",
   "execution_count": 5,
   "metadata": {
    "colab": {
     "base_uri": "https://localhost:8080/"
    },
    "id": "QKqFzE5BL6lj",
    "outputId": "89968bae-9595-4334-b73b-1d2e157d55a9"
   },
   "outputs": [
    {
     "data": {
      "text/plain": [
       "count             20141\n",
       "unique             3989\n",
       "top       10001018002P1\n",
       "freq                  6\n",
       "Name: CD_PROGRAMA_IES, dtype: object"
      ]
     },
     "execution_count": 5,
     "metadata": {},
     "output_type": "execute_result"
    }
   ],
   "source": [
    "df['CD_PROGRAMA_IES'].describe()     "
   ]
  },
  {
   "cell_type": "code",
   "execution_count": 6,
   "metadata": {
    "colab": {
     "base_uri": "https://localhost:8080/",
     "height": 336
    },
    "id": "RnVg-o8TMzdw",
    "outputId": "12f9bf1f-0641-441d-e3df-2d4338624699"
   },
   "outputs": [
    {
     "data": {
      "text/html": [
       "<div>\n",
       "<style scoped>\n",
       "    .dataframe tbody tr th:only-of-type {\n",
       "        vertical-align: middle;\n",
       "    }\n",
       "\n",
       "    .dataframe tbody tr th {\n",
       "        vertical-align: top;\n",
       "    }\n",
       "\n",
       "    .dataframe thead th {\n",
       "        text-align: right;\n",
       "    }\n",
       "</style>\n",
       "<table border=\"1\" class=\"dataframe\">\n",
       "  <thead>\n",
       "    <tr style=\"text-align: right;\">\n",
       "      <th></th>\n",
       "      <th>CD_PROGRAMA_IES</th>\n",
       "      <th>AN_BASE</th>\n",
       "      <th>CD_AREA_AVALIACAO</th>\n",
       "      <th>CONCEITO_PROGRAMA</th>\n",
       "      <th>IB_Total_docentes</th>\n",
       "      <th>IB_Mulheres</th>\n",
       "      <th>IB_Homens</th>\n",
       "      <th>IB_Brasileiros</th>\n",
       "      <th>IB_Estrangeiros</th>\n",
       "      <th>IB_QTDE_Regime_Parcial</th>\n",
       "      <th>IB_QTDE_Regime_Integral</th>\n",
       "      <th>IB_QTDE_Regime_Exclusivo</th>\n",
       "      <th>IB_QTDE_Prof_Doutor</th>\n",
       "      <th>IB_QTDE_Prof_NaoDoutor</th>\n",
       "      <th>IB_QTDE_titulados_Brasil</th>\n",
       "      <th>IB_QTDE_titulados_Exterior</th>\n",
       "      <th>IB_Profs_Colaboradores</th>\n",
       "      <th>IB_Profs_ServidoresPublicos</th>\n",
       "      <th>IB_Profs_VinculoCLT</th>\n",
       "      <th>IB_Profs_Aposentados</th>\n",
       "      <th>IB_Profs_BolsaDeFixacao</th>\n",
       "      <th>IB_Total_cursos</th>\n",
       "      <th>MEDIA_CONCEITO_CURSO</th>\n",
       "      <th>ID_SUBTIPO_PRODUCAO</th>\n",
       "      <th>NM_SUBTIPO_PRODUCAO</th>\n",
       "      <th>IN_TRABALHO_MESMA_AREA</th>\n",
       "      <th>NR_PAGINAS</th>\n",
       "      <th>GUS_Lingua_estrangeira</th>\n",
       "      <th>GUS_Quantidade_Trabalhos</th>\n",
       "      <th>GUS_Do_Homens</th>\n",
       "      <th>GUS_Do_Mulheres</th>\n",
       "      <th>GUS_Do_Brasileiros</th>\n",
       "      <th>GUS_Do_Estrangeiros</th>\n",
       "      <th>GUS_Quantidade_Docentes</th>\n",
       "      <th>AN_NASCIMENTO_DOCENTE</th>\n",
       "      <th>SG_ENTIDADE_ENSINO</th>\n",
       "      <th>GUS_Dis_Homens</th>\n",
       "      <th>GUS_Dis_Mulheres</th>\n",
       "      <th>GUS_Dis_Brasileiros</th>\n",
       "      <th>GUS_Dis_Estrangeiros</th>\n",
       "      <th>GUS_diferenca_idade</th>\n",
       "      <th>GUS_razao_aluno_prof</th>\n",
       "      <th>GUS_Quantidade_Discentes</th>\n",
       "      <th>GUS_Dis_Prop_Homens</th>\n",
       "      <th>GUS_Dis_Aluno_Tempo</th>\n",
       "      <th>QT_MES_TITULACAO</th>\n",
       "      <th>GUS_pag_por_aluno</th>\n",
       "      <th>CS_STATUS_JURIDICO</th>\n",
       "      <th>AN_NASCIMENTO_DISCENTE</th>\n",
       "      <th>NM_REGIAO</th>\n",
       "      <th>SG_UF_PROGRAMA</th>\n",
       "      <th>CD_CONCEITO_PROGRAMA</th>\n",
       "      <th>Unnamed: 0</th>\n",
       "      <th>NM_MODALIDADE_PROGRAMA</th>\n",
       "      <th>Qtd_Proj</th>\n",
       "      <th>N_PESQUISA</th>\n",
       "      <th>Outros projetos</th>\n",
       "      <th>Qtd_Financiadores</th>\n",
       "      <th>BOLSA</th>\n",
       "      <th>OUTRO AUXÃÂLIO FINANCEIRO</th>\n",
       "      <th>SEM AUXÃÂLIO</th>\n",
       "      <th>PÃÂBLICA_OU_PRIVADA</th>\n",
       "      <th>QTD_FINANCIADORES</th>\n",
       "    </tr>\n",
       "  </thead>\n",
       "  <tbody>\n",
       "    <tr>\n",
       "      <th>0</th>\n",
       "      <td>10001018002P1</td>\n",
       "      <td>2013</td>\n",
       "      <td>9</td>\n",
       "      <td>3</td>\n",
       "      <td>25</td>\n",
       "      <td>10</td>\n",
       "      <td>15</td>\n",
       "      <td>25</td>\n",
       "      <td>0</td>\n",
       "      <td>16</td>\n",
       "      <td>9</td>\n",
       "      <td>0</td>\n",
       "      <td>25</td>\n",
       "      <td>0</td>\n",
       "      <td>23</td>\n",
       "      <td>2</td>\n",
       "      <td>12</td>\n",
       "      <td>8</td>\n",
       "      <td>2</td>\n",
       "      <td>3</td>\n",
       "      <td>0</td>\n",
       "      <td>2</td>\n",
       "      <td>3.0</td>\n",
       "      <td>2.0</td>\n",
       "      <td>TESE</td>\n",
       "      <td>0.0</td>\n",
       "      <td>NaN</td>\n",
       "      <td>0</td>\n",
       "      <td>21</td>\n",
       "      <td>15</td>\n",
       "      <td>10</td>\n",
       "      <td>25</td>\n",
       "      <td>0</td>\n",
       "      <td>25</td>\n",
       "      <td>1967.560000</td>\n",
       "      <td>UNIR</td>\n",
       "      <td>29</td>\n",
       "      <td>48</td>\n",
       "      <td>77</td>\n",
       "      <td>0</td>\n",
       "      <td>13.440000</td>\n",
       "      <td>3.080000</td>\n",
       "      <td>77</td>\n",
       "      <td>0.376623</td>\n",
       "      <td>1.889019</td>\n",
       "      <td>40.761905</td>\n",
       "      <td>NaN</td>\n",
       "      <td>FEDERAL</td>\n",
       "      <td>1981.000000</td>\n",
       "      <td>NORTE</td>\n",
       "      <td>RO</td>\n",
       "      <td>3</td>\n",
       "      <td>0</td>\n",
       "      <td>1</td>\n",
       "      <td>19</td>\n",
       "      <td>17.0</td>\n",
       "      <td>2.0</td>\n",
       "      <td>16</td>\n",
       "      <td>1.0</td>\n",
       "      <td>15.0</td>\n",
       "      <td>0.0</td>\n",
       "      <td>1</td>\n",
       "      <td>3</td>\n",
       "    </tr>\n",
       "    <tr>\n",
       "      <th>1</th>\n",
       "      <td>10001018002P1</td>\n",
       "      <td>2014</td>\n",
       "      <td>9</td>\n",
       "      <td>3</td>\n",
       "      <td>22</td>\n",
       "      <td>8</td>\n",
       "      <td>14</td>\n",
       "      <td>22</td>\n",
       "      <td>0</td>\n",
       "      <td>16</td>\n",
       "      <td>6</td>\n",
       "      <td>0</td>\n",
       "      <td>22</td>\n",
       "      <td>0</td>\n",
       "      <td>20</td>\n",
       "      <td>2</td>\n",
       "      <td>12</td>\n",
       "      <td>7</td>\n",
       "      <td>0</td>\n",
       "      <td>3</td>\n",
       "      <td>0</td>\n",
       "      <td>2</td>\n",
       "      <td>3.0</td>\n",
       "      <td>2.0</td>\n",
       "      <td>TESE</td>\n",
       "      <td>1.0</td>\n",
       "      <td>80.0</td>\n",
       "      <td>0</td>\n",
       "      <td>13</td>\n",
       "      <td>14</td>\n",
       "      <td>8</td>\n",
       "      <td>22</td>\n",
       "      <td>0</td>\n",
       "      <td>22</td>\n",
       "      <td>1966.954545</td>\n",
       "      <td>UNIR</td>\n",
       "      <td>26</td>\n",
       "      <td>43</td>\n",
       "      <td>68</td>\n",
       "      <td>1</td>\n",
       "      <td>16.320817</td>\n",
       "      <td>3.136364</td>\n",
       "      <td>69</td>\n",
       "      <td>0.376812</td>\n",
       "      <td>2.193154</td>\n",
       "      <td>31.461538</td>\n",
       "      <td>3.636364</td>\n",
       "      <td>FEDERAL</td>\n",
       "      <td>1983.275362</td>\n",
       "      <td>NORTE</td>\n",
       "      <td>RO</td>\n",
       "      <td>3</td>\n",
       "      <td>3255</td>\n",
       "      <td>1</td>\n",
       "      <td>26</td>\n",
       "      <td>23.0</td>\n",
       "      <td>3.0</td>\n",
       "      <td>20</td>\n",
       "      <td>1.0</td>\n",
       "      <td>19.0</td>\n",
       "      <td>0.0</td>\n",
       "      <td>1</td>\n",
       "      <td>3</td>\n",
       "    </tr>\n",
       "    <tr>\n",
       "      <th>2</th>\n",
       "      <td>10001018002P1</td>\n",
       "      <td>2015</td>\n",
       "      <td>9</td>\n",
       "      <td>3</td>\n",
       "      <td>22</td>\n",
       "      <td>8</td>\n",
       "      <td>14</td>\n",
       "      <td>22</td>\n",
       "      <td>0</td>\n",
       "      <td>15</td>\n",
       "      <td>5</td>\n",
       "      <td>2</td>\n",
       "      <td>22</td>\n",
       "      <td>0</td>\n",
       "      <td>20</td>\n",
       "      <td>2</td>\n",
       "      <td>12</td>\n",
       "      <td>9</td>\n",
       "      <td>0</td>\n",
       "      <td>1</td>\n",
       "      <td>0</td>\n",
       "      <td>2</td>\n",
       "      <td>3.0</td>\n",
       "      <td>2.0</td>\n",
       "      <td>TESE</td>\n",
       "      <td>0.0</td>\n",
       "      <td>NaN</td>\n",
       "      <td>0</td>\n",
       "      <td>20</td>\n",
       "      <td>14</td>\n",
       "      <td>8</td>\n",
       "      <td>22</td>\n",
       "      <td>0</td>\n",
       "      <td>22</td>\n",
       "      <td>1971.136364</td>\n",
       "      <td>UNIR</td>\n",
       "      <td>33</td>\n",
       "      <td>57</td>\n",
       "      <td>88</td>\n",
       "      <td>2</td>\n",
       "      <td>13.174747</td>\n",
       "      <td>4.090909</td>\n",
       "      <td>90</td>\n",
       "      <td>0.366667</td>\n",
       "      <td>3.082192</td>\n",
       "      <td>29.200000</td>\n",
       "      <td>NaN</td>\n",
       "      <td>FEDERAL</td>\n",
       "      <td>1984.311111</td>\n",
       "      <td>NORTE</td>\n",
       "      <td>RO</td>\n",
       "      <td>3</td>\n",
       "      <td>6689</td>\n",
       "      <td>1</td>\n",
       "      <td>26</td>\n",
       "      <td>23.0</td>\n",
       "      <td>3.0</td>\n",
       "      <td>19</td>\n",
       "      <td>1.0</td>\n",
       "      <td>18.0</td>\n",
       "      <td>0.0</td>\n",
       "      <td>1</td>\n",
       "      <td>3</td>\n",
       "    </tr>\n",
       "    <tr>\n",
       "      <th>3</th>\n",
       "      <td>10001018002P1</td>\n",
       "      <td>2016</td>\n",
       "      <td>9</td>\n",
       "      <td>3</td>\n",
       "      <td>20</td>\n",
       "      <td>7</td>\n",
       "      <td>13</td>\n",
       "      <td>20</td>\n",
       "      <td>0</td>\n",
       "      <td>14</td>\n",
       "      <td>4</td>\n",
       "      <td>2</td>\n",
       "      <td>20</td>\n",
       "      <td>0</td>\n",
       "      <td>18</td>\n",
       "      <td>2</td>\n",
       "      <td>11</td>\n",
       "      <td>8</td>\n",
       "      <td>0</td>\n",
       "      <td>1</td>\n",
       "      <td>0</td>\n",
       "      <td>2</td>\n",
       "      <td>3.0</td>\n",
       "      <td>2.0</td>\n",
       "      <td>TESE</td>\n",
       "      <td>0.0</td>\n",
       "      <td>NaN</td>\n",
       "      <td>0</td>\n",
       "      <td>18</td>\n",
       "      <td>13</td>\n",
       "      <td>7</td>\n",
       "      <td>20</td>\n",
       "      <td>0</td>\n",
       "      <td>20</td>\n",
       "      <td>1972.200000</td>\n",
       "      <td>UNIR</td>\n",
       "      <td>28</td>\n",
       "      <td>53</td>\n",
       "      <td>80</td>\n",
       "      <td>1</td>\n",
       "      <td>14.293827</td>\n",
       "      <td>4.050000</td>\n",
       "      <td>81</td>\n",
       "      <td>0.345679</td>\n",
       "      <td>2.685083</td>\n",
       "      <td>30.166667</td>\n",
       "      <td>NaN</td>\n",
       "      <td>FEDERAL</td>\n",
       "      <td>1986.493827</td>\n",
       "      <td>NORTE</td>\n",
       "      <td>RO</td>\n",
       "      <td>3</td>\n",
       "      <td>10272</td>\n",
       "      <td>1</td>\n",
       "      <td>40</td>\n",
       "      <td>35.0</td>\n",
       "      <td>5.0</td>\n",
       "      <td>32</td>\n",
       "      <td>2.0</td>\n",
       "      <td>30.0</td>\n",
       "      <td>0.0</td>\n",
       "      <td>1</td>\n",
       "      <td>4</td>\n",
       "    </tr>\n",
       "    <tr>\n",
       "      <th>4</th>\n",
       "      <td>10001018002P1</td>\n",
       "      <td>2017</td>\n",
       "      <td>9</td>\n",
       "      <td>4</td>\n",
       "      <td>22</td>\n",
       "      <td>8</td>\n",
       "      <td>14</td>\n",
       "      <td>22</td>\n",
       "      <td>0</td>\n",
       "      <td>16</td>\n",
       "      <td>4</td>\n",
       "      <td>2</td>\n",
       "      <td>22</td>\n",
       "      <td>0</td>\n",
       "      <td>20</td>\n",
       "      <td>2</td>\n",
       "      <td>12</td>\n",
       "      <td>9</td>\n",
       "      <td>0</td>\n",
       "      <td>1</td>\n",
       "      <td>0</td>\n",
       "      <td>2</td>\n",
       "      <td>4.0</td>\n",
       "      <td>2.0</td>\n",
       "      <td>TESE</td>\n",
       "      <td>1.0</td>\n",
       "      <td>NaN</td>\n",
       "      <td>0</td>\n",
       "      <td>21</td>\n",
       "      <td>14</td>\n",
       "      <td>8</td>\n",
       "      <td>22</td>\n",
       "      <td>0</td>\n",
       "      <td>22</td>\n",
       "      <td>1973.727273</td>\n",
       "      <td>UNIR</td>\n",
       "      <td>43</td>\n",
       "      <td>64</td>\n",
       "      <td>106</td>\n",
       "      <td>1</td>\n",
       "      <td>13.852167</td>\n",
       "      <td>4.863636</td>\n",
       "      <td>107</td>\n",
       "      <td>0.401869</td>\n",
       "      <td>3.763819</td>\n",
       "      <td>28.428571</td>\n",
       "      <td>NaN</td>\n",
       "      <td>FEDERAL</td>\n",
       "      <td>1987.579439</td>\n",
       "      <td>NORTE</td>\n",
       "      <td>RO</td>\n",
       "      <td>4</td>\n",
       "      <td>14025</td>\n",
       "      <td>1</td>\n",
       "      <td>68</td>\n",
       "      <td>61.0</td>\n",
       "      <td>7.0</td>\n",
       "      <td>58</td>\n",
       "      <td>6.0</td>\n",
       "      <td>52.0</td>\n",
       "      <td>0.0</td>\n",
       "      <td>1</td>\n",
       "      <td>4</td>\n",
       "    </tr>\n",
       "    <tr>\n",
       "      <th>5</th>\n",
       "      <td>10001018002P1</td>\n",
       "      <td>2018</td>\n",
       "      <td>9</td>\n",
       "      <td>4</td>\n",
       "      <td>18</td>\n",
       "      <td>6</td>\n",
       "      <td>12</td>\n",
       "      <td>18</td>\n",
       "      <td>0</td>\n",
       "      <td>14</td>\n",
       "      <td>3</td>\n",
       "      <td>1</td>\n",
       "      <td>18</td>\n",
       "      <td>0</td>\n",
       "      <td>16</td>\n",
       "      <td>2</td>\n",
       "      <td>11</td>\n",
       "      <td>7</td>\n",
       "      <td>0</td>\n",
       "      <td>0</td>\n",
       "      <td>0</td>\n",
       "      <td>2</td>\n",
       "      <td>4.0</td>\n",
       "      <td>2.0</td>\n",
       "      <td>TESE</td>\n",
       "      <td>1.0</td>\n",
       "      <td>NaN</td>\n",
       "      <td>0</td>\n",
       "      <td>15</td>\n",
       "      <td>12</td>\n",
       "      <td>6</td>\n",
       "      <td>18</td>\n",
       "      <td>0</td>\n",
       "      <td>18</td>\n",
       "      <td>1975.388889</td>\n",
       "      <td>UNIR</td>\n",
       "      <td>37</td>\n",
       "      <td>54</td>\n",
       "      <td>89</td>\n",
       "      <td>2</td>\n",
       "      <td>13.138584</td>\n",
       "      <td>5.055556</td>\n",
       "      <td>91</td>\n",
       "      <td>0.406593</td>\n",
       "      <td>2.411661</td>\n",
       "      <td>37.733333</td>\n",
       "      <td>NaN</td>\n",
       "      <td>FEDERAL</td>\n",
       "      <td>1988.527473</td>\n",
       "      <td>NORTE</td>\n",
       "      <td>RO</td>\n",
       "      <td>4</td>\n",
       "      <td>17964</td>\n",
       "      <td>1</td>\n",
       "      <td>62</td>\n",
       "      <td>55.0</td>\n",
       "      <td>7.0</td>\n",
       "      <td>53</td>\n",
       "      <td>6.0</td>\n",
       "      <td>47.0</td>\n",
       "      <td>0.0</td>\n",
       "      <td>1</td>\n",
       "      <td>3</td>\n",
       "    </tr>\n",
       "  </tbody>\n",
       "</table>\n",
       "</div>"
      ],
      "text/plain": [
       "  CD_PROGRAMA_IES  AN_BASE  CD_AREA_AVALIACAO  CONCEITO_PROGRAMA  IB_Total_docentes  IB_Mulheres  IB_Homens  IB_Brasileiros  IB_Estrangeiros  IB_QTDE_Regime_Parcial  IB_QTDE_Regime_Integral  IB_QTDE_Regime_Exclusivo  IB_QTDE_Prof_Doutor  IB_QTDE_Prof_NaoDoutor  IB_QTDE_titulados_Brasil  IB_QTDE_titulados_Exterior  IB_Profs_Colaboradores  IB_Profs_ServidoresPublicos  IB_Profs_VinculoCLT  IB_Profs_Aposentados  IB_Profs_BolsaDeFixacao  IB_Total_cursos  MEDIA_CONCEITO_CURSO  ID_SUBTIPO_PRODUCAO NM_SUBTIPO_PRODUCAO  IN_TRABALHO_MESMA_AREA  NR_PAGINAS  GUS_Lingua_estrangeira  GUS_Quantidade_Trabalhos  GUS_Do_Homens  GUS_Do_Mulheres  GUS_Do_Brasileiros  GUS_Do_Estrangeiros  GUS_Quantidade_Docentes  AN_NASCIMENTO_DOCENTE SG_ENTIDADE_ENSINO  GUS_Dis_Homens  GUS_Dis_Mulheres  GUS_Dis_Brasileiros  GUS_Dis_Estrangeiros  GUS_diferenca_idade  GUS_razao_aluno_prof  GUS_Quantidade_Discentes  GUS_Dis_Prop_Homens  GUS_Dis_Aluno_Tempo  QT_MES_TITULACAO  GUS_pag_por_aluno CS_STATUS_JURIDICO  \\\n",
       "0   10001018002P1     2013                  9                  3                 25           10         15              25                0                      16                        9                         0                   25                       0                        23                           2                      12                            8                    2                     3                        0                2                   3.0                  2.0                TESE                     0.0         NaN                       0                        21             15               10                  25                    0                       25            1967.560000               UNIR              29                48                   77                     0            13.440000              3.080000                        77             0.376623             1.889019         40.761905                NaN            FEDERAL   \n",
       "1   10001018002P1     2014                  9                  3                 22            8         14              22                0                      16                        6                         0                   22                       0                        20                           2                      12                            7                    0                     3                        0                2                   3.0                  2.0                TESE                     1.0        80.0                       0                        13             14                8                  22                    0                       22            1966.954545               UNIR              26                43                   68                     1            16.320817              3.136364                        69             0.376812             2.193154         31.461538           3.636364            FEDERAL   \n",
       "2   10001018002P1     2015                  9                  3                 22            8         14              22                0                      15                        5                         2                   22                       0                        20                           2                      12                            9                    0                     1                        0                2                   3.0                  2.0                TESE                     0.0         NaN                       0                        20             14                8                  22                    0                       22            1971.136364               UNIR              33                57                   88                     2            13.174747              4.090909                        90             0.366667             3.082192         29.200000                NaN            FEDERAL   \n",
       "3   10001018002P1     2016                  9                  3                 20            7         13              20                0                      14                        4                         2                   20                       0                        18                           2                      11                            8                    0                     1                        0                2                   3.0                  2.0                TESE                     0.0         NaN                       0                        18             13                7                  20                    0                       20            1972.200000               UNIR              28                53                   80                     1            14.293827              4.050000                        81             0.345679             2.685083         30.166667                NaN            FEDERAL   \n",
       "4   10001018002P1     2017                  9                  4                 22            8         14              22                0                      16                        4                         2                   22                       0                        20                           2                      12                            9                    0                     1                        0                2                   4.0                  2.0                TESE                     1.0         NaN                       0                        21             14                8                  22                    0                       22            1973.727273               UNIR              43                64                  106                     1            13.852167              4.863636                       107             0.401869             3.763819         28.428571                NaN            FEDERAL   \n",
       "5   10001018002P1     2018                  9                  4                 18            6         12              18                0                      14                        3                         1                   18                       0                        16                           2                      11                            7                    0                     0                        0                2                   4.0                  2.0                TESE                     1.0         NaN                       0                        15             12                6                  18                    0                       18            1975.388889               UNIR              37                54                   89                     2            13.138584              5.055556                        91             0.406593             2.411661         37.733333                NaN            FEDERAL   \n",
       "\n",
       "   AN_NASCIMENTO_DISCENTE NM_REGIAO SG_UF_PROGRAMA  CD_CONCEITO_PROGRAMA  Unnamed: 0  NM_MODALIDADE_PROGRAMA  Qtd_Proj  N_PESQUISA  Outros projetos  Qtd_Financiadores  BOLSA  OUTRO AUXÃÂLIO FINANCEIRO  SEM AUXÃÂLIO  PÃÂBLICA_OU_PRIVADA  QTD_FINANCIADORES  \n",
       "0             1981.000000     NORTE             RO                     3           0                       1        19        17.0              2.0                 16    1.0                         15.0             0.0                      1                  3  \n",
       "1             1983.275362     NORTE             RO                     3        3255                       1        26        23.0              3.0                 20    1.0                         19.0             0.0                      1                  3  \n",
       "2             1984.311111     NORTE             RO                     3        6689                       1        26        23.0              3.0                 19    1.0                         18.0             0.0                      1                  3  \n",
       "3             1986.493827     NORTE             RO                     3       10272                       1        40        35.0              5.0                 32    2.0                         30.0             0.0                      1                  4  \n",
       "4             1987.579439     NORTE             RO                     4       14025                       1        68        61.0              7.0                 58    6.0                         52.0             0.0                      1                  4  \n",
       "5             1988.527473     NORTE             RO                     4       17964                       1        62        55.0              7.0                 53    6.0                         47.0             0.0                      1                  3  "
      ]
     },
     "execution_count": 6,
     "metadata": {},
     "output_type": "execute_result"
    }
   ],
   "source": [
    "df.query(\"CD_PROGRAMA_IES == '10001018002P1'\")   #Verificação se têm dados duplicados nesse programa em particular.  "
   ]
  },
  {
   "cell_type": "markdown",
   "metadata": {
    "id": "fafrngyo-0w1"
   },
   "source": [
    "Legenda: \n",
    "\n",
    "- SG : Sigla\n",
    "- CD : Código\n",
    "- AN : Ano\n",
    "- IN : Indicador\n",
    "- NM : Nome\n",
    "\n",
    "***legenda para facilitar de leitura das informações de cada coluna*** "
   ]
  },
  {
   "cell_type": "code",
   "execution_count": 7,
   "metadata": {
    "colab": {
     "base_uri": "https://localhost:8080/"
    },
    "id": "8j6uAb7JTWzH",
    "outputId": "ec924955-9f3c-448f-ad15-31c3c62625ca"
   },
   "outputs": [
    {
     "name": "stdout",
     "output_type": "stream",
     "text": [
      "<class 'pandas.core.frame.DataFrame'>\n",
      "RangeIndex: 20141 entries, 0 to 20140\n",
      "Data columns (total 63 columns):\n",
      " #   Column                       Non-Null Count  Dtype  \n",
      "---  ------                       --------------  -----  \n",
      " 0   CD_PROGRAMA_IES              20141 non-null  object \n",
      " 1   AN_BASE                      20141 non-null  int64  \n",
      " 2   CD_AREA_AVALIACAO            20141 non-null  int64  \n",
      " 3   CONCEITO_PROGRAMA            20141 non-null  int64  \n",
      " 4   IB_Total_docentes            20141 non-null  int64  \n",
      " 5   IB_Mulheres                  20141 non-null  int64  \n",
      " 6   IB_Homens                    20141 non-null  int64  \n",
      " 7   IB_Brasileiros               20141 non-null  int64  \n",
      " 8   IB_Estrangeiros              20141 non-null  int64  \n",
      " 9   IB_QTDE_Regime_Parcial       20141 non-null  int64  \n",
      " 10  IB_QTDE_Regime_Integral      20141 non-null  int64  \n",
      " 11  IB_QTDE_Regime_Exclusivo     20141 non-null  int64  \n",
      " 12  IB_QTDE_Prof_Doutor          20141 non-null  int64  \n",
      " 13  IB_QTDE_Prof_NaoDoutor       20141 non-null  int64  \n",
      " 14  IB_QTDE_titulados_Brasil     20141 non-null  int64  \n",
      " 15  IB_QTDE_titulados_Exterior   20141 non-null  int64  \n",
      " 16  IB_Profs_Colaboradores       20141 non-null  int64  \n",
      " 17  IB_Profs_ServidoresPublicos  20141 non-null  int64  \n",
      " 18  IB_Profs_VinculoCLT          20141 non-null  int64  \n",
      " 19  IB_Profs_Aposentados         20141 non-null  int64  \n",
      " 20  IB_Profs_BolsaDeFixacao      20141 non-null  int64  \n",
      " 21  IB_Total_cursos              20141 non-null  int64  \n",
      " 22  MEDIA_CONCEITO_CURSO         20141 non-null  float64\n",
      " 23  ID_SUBTIPO_PRODUCAO          20141 non-null  float64\n",
      " 24  NM_SUBTIPO_PRODUCAO          20141 non-null  object \n",
      " 25  IN_TRABALHO_MESMA_AREA       20141 non-null  float64\n",
      " 26  NR_PAGINAS                   18798 non-null  float64\n",
      " 27  GUS_Lingua_estrangeira       20141 non-null  int64  \n",
      " 28  GUS_Quantidade_Trabalhos     20141 non-null  int64  \n",
      " 29  GUS_Do_Homens                20141 non-null  int64  \n",
      " 30  GUS_Do_Mulheres              20141 non-null  int64  \n",
      " 31  GUS_Do_Brasileiros           20141 non-null  int64  \n",
      " 32  GUS_Do_Estrangeiros          20141 non-null  int64  \n",
      " 33  GUS_Quantidade_Docentes      20141 non-null  int64  \n",
      " 34  AN_NASCIMENTO_DOCENTE        20141 non-null  float64\n",
      " 35  SG_ENTIDADE_ENSINO           20141 non-null  object \n",
      " 36  GUS_Dis_Homens               20141 non-null  int64  \n",
      " 37  GUS_Dis_Mulheres             20141 non-null  int64  \n",
      " 38  GUS_Dis_Brasileiros          20141 non-null  int64  \n",
      " 39  GUS_Dis_Estrangeiros         20141 non-null  int64  \n",
      " 40  GUS_diferenca_idade          20141 non-null  float64\n",
      " 41  GUS_razao_aluno_prof         20141 non-null  float64\n",
      " 42  GUS_Quantidade_Discentes     20141 non-null  int64  \n",
      " 43  GUS_Dis_Prop_Homens          20141 non-null  float64\n",
      " 44  GUS_Dis_Aluno_Tempo          20140 non-null  float64\n",
      " 45  QT_MES_TITULACAO             20140 non-null  float64\n",
      " 46  GUS_pag_por_aluno            18798 non-null  float64\n",
      " 47  CS_STATUS_JURIDICO           20141 non-null  object \n",
      " 48  AN_NASCIMENTO_DISCENTE       20141 non-null  float64\n",
      " 49  NM_REGIAO                    20141 non-null  object \n",
      " 50  SG_UF_PROGRAMA               20141 non-null  object \n",
      " 51  CD_CONCEITO_PROGRAMA         20141 non-null  int64  \n",
      " 52  Unnamed: 0                   20141 non-null  int64  \n",
      " 53  NM_MODALIDADE_PROGRAMA       20141 non-null  int64  \n",
      " 54  Qtd_Proj                     20141 non-null  int64  \n",
      " 55  N_PESQUISA                   20141 non-null  float64\n",
      " 56  Outros projetos              20141 non-null  float64\n",
      " 57  Qtd_Financiadores            20141 non-null  int64  \n",
      " 58  BOLSA                        20141 non-null  float64\n",
      " 59  OUTRO AUXÃÂLIO FINANCEIRO  20141 non-null  float64\n",
      " 60  SEM AUXÃÂLIO               20141 non-null  float64\n",
      " 61  PÃÂBLICA_OU_PRIVADA        20141 non-null  int64  \n",
      " 62  QTD_FINANCIADORES            20141 non-null  int64  \n",
      "dtypes: float64(17), int64(40), object(6)\n",
      "memory usage: 9.7+ MB\n"
     ]
    }
   ],
   "source": [
    "df.info()"
   ]
  },
  {
   "cell_type": "code",
   "execution_count": 8,
   "metadata": {
    "id": "3GUksQYxBB_t"
   },
   "outputs": [],
   "source": [
    "#Renomeando colunas\n",
    " \n",
    "df = df.rename(columns={'OUTRO AUXÃÂLIO FINANCEIRO': 'UF_OUTRO AUXILIO FINANCEIRO'})\n",
    "df = df.rename(columns={'SEM AUXÃÂLIO': 'SEM AUXILIO'})\n",
    "df = df.rename(columns={'NM_MODALIDADE_PROGRAMA': 'UF_NM_MODALIDADE_PROGRAMA'})\n",
    "df = df.rename(columns={'Qtd_Proj': 'UF_Qtd_Proj'})\n",
    "df = df.rename(columns={'N_PESQUISA': 'UF_Pesquisas'})\n",
    "df = df.rename(columns={'Outros projetos': 'UF_Outros projetos'})\n",
    "df = df.rename(columns={'Qtd_Financiadores': 'UF_Qtd_Financiamentos'})\n",
    "df = df.rename(columns={'BOLSA': 'UF_BOLSA'})\n",
    "df = df.rename(columns={'PÃÂBLICA_OU_PRIVADA': 'UF_DS_DEPENDENCIA_ADMINISTRATIVA'})\n",
    "df = df.rename(columns={'QTD_FINANCIADORES': 'UF_QTD_FINANCIADORES'})"
   ]
  },
  {
   "cell_type": "code",
   "execution_count": 9,
   "metadata": {
    "colab": {
     "base_uri": "https://localhost:8080/"
    },
    "id": "Bw0vadQS0pjU",
    "outputId": "1658d481-e28e-4b27-e148-7699d66c7e98"
   },
   "outputs": [
    {
     "name": "stdout",
     "output_type": "stream",
     "text": [
      "<class 'pandas.core.frame.DataFrame'>\n",
      "RangeIndex: 20141 entries, 0 to 20140\n",
      "Data columns (total 63 columns):\n",
      " #   Column                            Non-Null Count  Dtype  \n",
      "---  ------                            --------------  -----  \n",
      " 0   CD_PROGRAMA_IES                   20141 non-null  object \n",
      " 1   AN_BASE                           20141 non-null  int64  \n",
      " 2   CD_AREA_AVALIACAO                 20141 non-null  int64  \n",
      " 3   CONCEITO_PROGRAMA                 20141 non-null  int64  \n",
      " 4   IB_Total_docentes                 20141 non-null  int64  \n",
      " 5   IB_Mulheres                       20141 non-null  int64  \n",
      " 6   IB_Homens                         20141 non-null  int64  \n",
      " 7   IB_Brasileiros                    20141 non-null  int64  \n",
      " 8   IB_Estrangeiros                   20141 non-null  int64  \n",
      " 9   IB_QTDE_Regime_Parcial            20141 non-null  int64  \n",
      " 10  IB_QTDE_Regime_Integral           20141 non-null  int64  \n",
      " 11  IB_QTDE_Regime_Exclusivo          20141 non-null  int64  \n",
      " 12  IB_QTDE_Prof_Doutor               20141 non-null  int64  \n",
      " 13  IB_QTDE_Prof_NaoDoutor            20141 non-null  int64  \n",
      " 14  IB_QTDE_titulados_Brasil          20141 non-null  int64  \n",
      " 15  IB_QTDE_titulados_Exterior        20141 non-null  int64  \n",
      " 16  IB_Profs_Colaboradores            20141 non-null  int64  \n",
      " 17  IB_Profs_ServidoresPublicos       20141 non-null  int64  \n",
      " 18  IB_Profs_VinculoCLT               20141 non-null  int64  \n",
      " 19  IB_Profs_Aposentados              20141 non-null  int64  \n",
      " 20  IB_Profs_BolsaDeFixacao           20141 non-null  int64  \n",
      " 21  IB_Total_cursos                   20141 non-null  int64  \n",
      " 22  MEDIA_CONCEITO_CURSO              20141 non-null  float64\n",
      " 23  ID_SUBTIPO_PRODUCAO               20141 non-null  float64\n",
      " 24  NM_SUBTIPO_PRODUCAO               20141 non-null  object \n",
      " 25  IN_TRABALHO_MESMA_AREA            20141 non-null  float64\n",
      " 26  NR_PAGINAS                        18798 non-null  float64\n",
      " 27  GUS_Lingua_estrangeira            20141 non-null  int64  \n",
      " 28  GUS_Quantidade_Trabalhos          20141 non-null  int64  \n",
      " 29  GUS_Do_Homens                     20141 non-null  int64  \n",
      " 30  GUS_Do_Mulheres                   20141 non-null  int64  \n",
      " 31  GUS_Do_Brasileiros                20141 non-null  int64  \n",
      " 32  GUS_Do_Estrangeiros               20141 non-null  int64  \n",
      " 33  GUS_Quantidade_Docentes           20141 non-null  int64  \n",
      " 34  AN_NASCIMENTO_DOCENTE             20141 non-null  float64\n",
      " 35  SG_ENTIDADE_ENSINO                20141 non-null  object \n",
      " 36  GUS_Dis_Homens                    20141 non-null  int64  \n",
      " 37  GUS_Dis_Mulheres                  20141 non-null  int64  \n",
      " 38  GUS_Dis_Brasileiros               20141 non-null  int64  \n",
      " 39  GUS_Dis_Estrangeiros              20141 non-null  int64  \n",
      " 40  GUS_diferenca_idade               20141 non-null  float64\n",
      " 41  GUS_razao_aluno_prof              20141 non-null  float64\n",
      " 42  GUS_Quantidade_Discentes          20141 non-null  int64  \n",
      " 43  GUS_Dis_Prop_Homens               20141 non-null  float64\n",
      " 44  GUS_Dis_Aluno_Tempo               20140 non-null  float64\n",
      " 45  QT_MES_TITULACAO                  20140 non-null  float64\n",
      " 46  GUS_pag_por_aluno                 18798 non-null  float64\n",
      " 47  CS_STATUS_JURIDICO                20141 non-null  object \n",
      " 48  AN_NASCIMENTO_DISCENTE            20141 non-null  float64\n",
      " 49  NM_REGIAO                         20141 non-null  object \n",
      " 50  SG_UF_PROGRAMA                    20141 non-null  object \n",
      " 51  CD_CONCEITO_PROGRAMA              20141 non-null  int64  \n",
      " 52  Unnamed: 0                        20141 non-null  int64  \n",
      " 53  UF_NM_MODALIDADE_PROGRAMA         20141 non-null  int64  \n",
      " 54  UF_Qtd_Proj                       20141 non-null  int64  \n",
      " 55  UF_Pesquisas                      20141 non-null  float64\n",
      " 56  UF_Outros projetos                20141 non-null  float64\n",
      " 57  UF_Qtd_Financiamentos             20141 non-null  int64  \n",
      " 58  UF_BOLSA                          20141 non-null  float64\n",
      " 59  UF_OUTRO AUXILIO FINANCEIRO       20141 non-null  float64\n",
      " 60  SEM AUXILIO                       20141 non-null  float64\n",
      " 61  UF_DS_DEPENDENCIA_ADMINISTRATIVA  20141 non-null  int64  \n",
      " 62  UF_QTD_FINANCIADORES              20141 non-null  int64  \n",
      "dtypes: float64(17), int64(40), object(6)\n",
      "memory usage: 9.7+ MB\n"
     ]
    }
   ],
   "source": [
    "df.info()"
   ]
  },
  {
   "cell_type": "markdown",
   "metadata": {
    "id": "r3tABI4bqSDt"
   },
   "source": [
    "# Parte 1. Checando a correlação das colunas \n",
    "\n",
    "\n"
   ]
  },
  {
   "cell_type": "markdown",
   "metadata": {
    "id": "uikXW9gkiNnf"
   },
   "source": [
    "Colunas hipoteticamente iguais \n",
    " \n",
    " - GUS_Do_Homens : IB_Homens \n",
    " - GUS_Do_Mulheres : IB_Mulheres\n",
    " - GUS_Do_Brasileiros : IB_Brasileiros\n",
    " - GUS_Do_Estrangeiros : IB_Estrangeiros\n",
    " - GUS_Quantidade_Docentes : IB_Total_docentes\n",
    " - UF_BOLSA : IB_Profs_BolsaDeFixacao\n",
    " - CONCEITO_PROGRAMA : CD_CONCEITO_PROGRAMA\n",
    " - Qtd_Proj : N_PESQUISA\n",
    " - Qtd_Financiadores : Qtd_FINANCIADORES\n"
   ]
  },
  {
   "cell_type": "code",
   "execution_count": 10,
   "metadata": {
    "id": "_djWJx9Tk1j3"
   },
   "outputs": [],
   "source": [
    "import scipy "
   ]
  },
  {
   "cell_type": "code",
   "execution_count": 11,
   "metadata": {
    "id": "Ktyk0t2DlDrj"
   },
   "outputs": [],
   "source": [
    "#Função p/ medir a correlação entre duas colunas. \n",
    "def Cor(x, y):\n",
    "  slope, intercept, r_value, p_value, std_err = scipy.stats.linregress(x, y)\n",
    "  return r_value"
   ]
  },
  {
   "cell_type": "code",
   "execution_count": 12,
   "metadata": {
    "colab": {
     "base_uri": "https://localhost:8080/"
    },
    "id": "f7y2JPyAlZek",
    "outputId": "2de9aa59-6b25-443b-de10-44ffac6b09eb"
   },
   "outputs": [
    {
     "data": {
      "text/plain": [
       "1.0"
      ]
     },
     "execution_count": 12,
     "metadata": {},
     "output_type": "execute_result"
    }
   ],
   "source": [
    "Cor(df['GUS_Do_Homens'], df['IB_Homens'])"
   ]
  },
  {
   "cell_type": "code",
   "execution_count": 13,
   "metadata": {
    "colab": {
     "base_uri": "https://localhost:8080/"
    },
    "id": "9UqwdJiSleHb",
    "outputId": "c4c5d46c-64dc-4c11-d326-81ab2594aeda"
   },
   "outputs": [
    {
     "data": {
      "text/plain": [
       "0.9999994699622308"
      ]
     },
     "execution_count": 13,
     "metadata": {},
     "output_type": "execute_result"
    }
   ],
   "source": [
    "Cor(df['GUS_Do_Mulheres'], df['IB_Mulheres'])"
   ]
  },
  {
   "cell_type": "code",
   "execution_count": 14,
   "metadata": {
    "colab": {
     "base_uri": "https://localhost:8080/"
    },
    "id": "0nq2hVzAlga3",
    "outputId": "25341f15-3821-41c7-f9e8-cea4cd7aeeac"
   },
   "outputs": [
    {
     "data": {
      "text/plain": [
       "1.0"
      ]
     },
     "execution_count": 14,
     "metadata": {},
     "output_type": "execute_result"
    }
   ],
   "source": [
    "Cor(df['GUS_Do_Brasileiros'], df['IB_Brasileiros'])"
   ]
  },
  {
   "cell_type": "code",
   "execution_count": 15,
   "metadata": {
    "colab": {
     "base_uri": "https://localhost:8080/"
    },
    "id": "9jXx6RtFmqyO",
    "outputId": "d1e821d9-d02c-44e3-bc52-0e91420be48d"
   },
   "outputs": [
    {
     "data": {
      "text/plain": [
       "1.0"
      ]
     },
     "execution_count": 15,
     "metadata": {},
     "output_type": "execute_result"
    }
   ],
   "source": [
    "Cor(df['GUS_Do_Estrangeiros'],df['IB_Estrangeiros'])\n"
   ]
  },
  {
   "cell_type": "code",
   "execution_count": 16,
   "metadata": {
    "colab": {
     "base_uri": "https://localhost:8080/"
    },
    "id": "UdZCb-9sm5lh",
    "outputId": "f2919d1c-62e2-47dc-cbfc-1c75ca315266"
   },
   "outputs": [
    {
     "data": {
      "text/plain": [
       "1.0"
      ]
     },
     "execution_count": 16,
     "metadata": {},
     "output_type": "execute_result"
    }
   ],
   "source": [
    "Cor(df['GUS_Quantidade_Docentes'], df['IB_Total_docentes'])"
   ]
  },
  {
   "cell_type": "code",
   "execution_count": 17,
   "metadata": {
    "colab": {
     "base_uri": "https://localhost:8080/"
    },
    "id": "V5AjlHl1nYkl",
    "outputId": "9c512a15-1250-4967-c278-70db2ef3ffe1"
   },
   "outputs": [
    {
     "data": {
      "text/plain": [
       "0.012657101340777145"
      ]
     },
     "execution_count": 17,
     "metadata": {},
     "output_type": "execute_result"
    }
   ],
   "source": [
    "Cor(df['UF_BOLSA'],df['IB_Profs_BolsaDeFixacao'])"
   ]
  },
  {
   "cell_type": "code",
   "execution_count": 18,
   "metadata": {
    "colab": {
     "base_uri": "https://localhost:8080/"
    },
    "id": "M1O5qAZlFuzV",
    "outputId": "a3c2b9fc-80ec-432f-b24e-55ac0953cf20"
   },
   "outputs": [
    {
     "data": {
      "text/plain": [
       "1.0"
      ]
     },
     "execution_count": 18,
     "metadata": {},
     "output_type": "execute_result"
    }
   ],
   "source": [
    "Cor(df['CD_CONCEITO_PROGRAMA'], df['CONCEITO_PROGRAMA'])"
   ]
  },
  {
   "cell_type": "code",
   "execution_count": 19,
   "metadata": {
    "colab": {
     "base_uri": "https://localhost:8080/"
    },
    "id": "2_rf4gywIle7",
    "outputId": "6da4a92d-7bf6-4057-a04b-68666a3977b5"
   },
   "outputs": [
    {
     "data": {
      "text/plain": [
       "0.9896454236792632"
      ]
     },
     "execution_count": 19,
     "metadata": {},
     "output_type": "execute_result"
    }
   ],
   "source": [
    "Cor(df['UF_Qtd_Proj'], df['UF_Pesquisas'])"
   ]
  },
  {
   "cell_type": "code",
   "execution_count": 20,
   "metadata": {
    "colab": {
     "base_uri": "https://localhost:8080/"
    },
    "id": "l_fVAkg6LImB",
    "outputId": "3a6d5f7e-ba1e-43cb-beae-0d03e4b6221d"
   },
   "outputs": [
    {
     "data": {
      "text/plain": [
       "0.3492455321258009"
      ]
     },
     "execution_count": 20,
     "metadata": {},
     "output_type": "execute_result"
    }
   ],
   "source": [
    "Cor(df['UF_Qtd_Financiamentos'],df['UF_QTD_FINANCIADORES'])"
   ]
  },
  {
   "cell_type": "markdown",
   "metadata": {
    "id": "50rvHvAuK7bz"
   },
   "source": [
    "## Parte 2. Dropando as Colunas com correlação maior que 0.9 \n",
    "\n"
   ]
  },
  {
   "cell_type": "code",
   "execution_count": 21,
   "metadata": {
    "colab": {
     "base_uri": "https://localhost:8080/"
    },
    "id": "7fRDGqyVoD7N",
    "outputId": "089c4ee0-ba01-4c17-9d88-c22c72b245f1"
   },
   "outputs": [
    {
     "name": "stderr",
     "output_type": "stream",
     "text": [
      "c:\\users\\andre\\appdata\\local\\programs\\python\\python37\\lib\\site-packages\\ipykernel_launcher.py:1: FutureWarning: In a future version of pandas all arguments of DataFrame.drop except for the argument 'labels' will be keyword-only\n",
      "  \"\"\"Entry point for launching an IPython kernel.\n",
      "c:\\users\\andre\\appdata\\local\\programs\\python\\python37\\lib\\site-packages\\ipykernel_launcher.py:2: FutureWarning: In a future version of pandas all arguments of DataFrame.drop except for the argument 'labels' will be keyword-only\n",
      "  \n",
      "c:\\users\\andre\\appdata\\local\\programs\\python\\python37\\lib\\site-packages\\ipykernel_launcher.py:3: FutureWarning: In a future version of pandas all arguments of DataFrame.drop except for the argument 'labels' will be keyword-only\n",
      "  This is separate from the ipykernel package so we can avoid doing imports until\n",
      "c:\\users\\andre\\appdata\\local\\programs\\python\\python37\\lib\\site-packages\\ipykernel_launcher.py:4: FutureWarning: In a future version of pandas all arguments of DataFrame.drop except for the argument 'labels' will be keyword-only\n",
      "  after removing the cwd from sys.path.\n",
      "c:\\users\\andre\\appdata\\local\\programs\\python\\python37\\lib\\site-packages\\ipykernel_launcher.py:5: FutureWarning: In a future version of pandas all arguments of DataFrame.drop except for the argument 'labels' will be keyword-only\n",
      "  \"\"\"\n",
      "c:\\users\\andre\\appdata\\local\\programs\\python\\python37\\lib\\site-packages\\ipykernel_launcher.py:6: FutureWarning: In a future version of pandas all arguments of DataFrame.drop except for the argument 'labels' will be keyword-only\n",
      "  \n",
      "c:\\users\\andre\\appdata\\local\\programs\\python\\python37\\lib\\site-packages\\ipykernel_launcher.py:7: FutureWarning: In a future version of pandas all arguments of DataFrame.drop except for the argument 'labels' will be keyword-only\n",
      "  import sys\n",
      "c:\\users\\andre\\appdata\\local\\programs\\python\\python37\\lib\\site-packages\\ipykernel_launcher.py:8: FutureWarning: In a future version of pandas all arguments of DataFrame.drop except for the argument 'labels' will be keyword-only\n",
      "  \n"
     ]
    }
   ],
   "source": [
    "df = df.drop('GUS_Do_Homens', 1)\n",
    "df = df.drop('GUS_Do_Mulheres', 1)\n",
    "df.drop('GUS_Do_Brasileiros', 1,inplace=True)\n",
    "df.drop('GUS_Quantidade_Docentes', 1,inplace=True)\n",
    "df.drop('GUS_Do_Estrangeiros', 1,inplace=True)\n",
    "df.drop('CONCEITO_PROGRAMA', 1,inplace=True)\n",
    "df.drop('UF_Pesquisas', 1,inplace=True)\n",
    "df.drop('Unnamed: 0', 1, inplace=True) #Erro quando juntou as bases"
   ]
  },
  {
   "cell_type": "code",
   "execution_count": 22,
   "metadata": {
    "colab": {
     "base_uri": "https://localhost:8080/"
    },
    "id": "A30-Uq9ipjfL",
    "outputId": "dc15b6e9-0b1a-47d4-a0df-9222bd7bbe6f"
   },
   "outputs": [
    {
     "name": "stdout",
     "output_type": "stream",
     "text": [
      "<class 'pandas.core.frame.DataFrame'>\n",
      "RangeIndex: 20141 entries, 0 to 20140\n",
      "Data columns (total 55 columns):\n",
      " #   Column                            Non-Null Count  Dtype  \n",
      "---  ------                            --------------  -----  \n",
      " 0   CD_PROGRAMA_IES                   20141 non-null  object \n",
      " 1   AN_BASE                           20141 non-null  int64  \n",
      " 2   CD_AREA_AVALIACAO                 20141 non-null  int64  \n",
      " 3   IB_Total_docentes                 20141 non-null  int64  \n",
      " 4   IB_Mulheres                       20141 non-null  int64  \n",
      " 5   IB_Homens                         20141 non-null  int64  \n",
      " 6   IB_Brasileiros                    20141 non-null  int64  \n",
      " 7   IB_Estrangeiros                   20141 non-null  int64  \n",
      " 8   IB_QTDE_Regime_Parcial            20141 non-null  int64  \n",
      " 9   IB_QTDE_Regime_Integral           20141 non-null  int64  \n",
      " 10  IB_QTDE_Regime_Exclusivo          20141 non-null  int64  \n",
      " 11  IB_QTDE_Prof_Doutor               20141 non-null  int64  \n",
      " 12  IB_QTDE_Prof_NaoDoutor            20141 non-null  int64  \n",
      " 13  IB_QTDE_titulados_Brasil          20141 non-null  int64  \n",
      " 14  IB_QTDE_titulados_Exterior        20141 non-null  int64  \n",
      " 15  IB_Profs_Colaboradores            20141 non-null  int64  \n",
      " 16  IB_Profs_ServidoresPublicos       20141 non-null  int64  \n",
      " 17  IB_Profs_VinculoCLT               20141 non-null  int64  \n",
      " 18  IB_Profs_Aposentados              20141 non-null  int64  \n",
      " 19  IB_Profs_BolsaDeFixacao           20141 non-null  int64  \n",
      " 20  IB_Total_cursos                   20141 non-null  int64  \n",
      " 21  MEDIA_CONCEITO_CURSO              20141 non-null  float64\n",
      " 22  ID_SUBTIPO_PRODUCAO               20141 non-null  float64\n",
      " 23  NM_SUBTIPO_PRODUCAO               20141 non-null  object \n",
      " 24  IN_TRABALHO_MESMA_AREA            20141 non-null  float64\n",
      " 25  NR_PAGINAS                        18798 non-null  float64\n",
      " 26  GUS_Lingua_estrangeira            20141 non-null  int64  \n",
      " 27  GUS_Quantidade_Trabalhos          20141 non-null  int64  \n",
      " 28  AN_NASCIMENTO_DOCENTE             20141 non-null  float64\n",
      " 29  SG_ENTIDADE_ENSINO                20141 non-null  object \n",
      " 30  GUS_Dis_Homens                    20141 non-null  int64  \n",
      " 31  GUS_Dis_Mulheres                  20141 non-null  int64  \n",
      " 32  GUS_Dis_Brasileiros               20141 non-null  int64  \n",
      " 33  GUS_Dis_Estrangeiros              20141 non-null  int64  \n",
      " 34  GUS_diferenca_idade               20141 non-null  float64\n",
      " 35  GUS_razao_aluno_prof              20141 non-null  float64\n",
      " 36  GUS_Quantidade_Discentes          20141 non-null  int64  \n",
      " 37  GUS_Dis_Prop_Homens               20141 non-null  float64\n",
      " 38  GUS_Dis_Aluno_Tempo               20140 non-null  float64\n",
      " 39  QT_MES_TITULACAO                  20140 non-null  float64\n",
      " 40  GUS_pag_por_aluno                 18798 non-null  float64\n",
      " 41  CS_STATUS_JURIDICO                20141 non-null  object \n",
      " 42  AN_NASCIMENTO_DISCENTE            20141 non-null  float64\n",
      " 43  NM_REGIAO                         20141 non-null  object \n",
      " 44  SG_UF_PROGRAMA                    20141 non-null  object \n",
      " 45  CD_CONCEITO_PROGRAMA              20141 non-null  int64  \n",
      " 46  UF_NM_MODALIDADE_PROGRAMA         20141 non-null  int64  \n",
      " 47  UF_Qtd_Proj                       20141 non-null  int64  \n",
      " 48  UF_Outros projetos                20141 non-null  float64\n",
      " 49  UF_Qtd_Financiamentos             20141 non-null  int64  \n",
      " 50  UF_BOLSA                          20141 non-null  float64\n",
      " 51  UF_OUTRO AUXILIO FINANCEIRO       20141 non-null  float64\n",
      " 52  SEM AUXILIO                       20141 non-null  float64\n",
      " 53  UF_DS_DEPENDENCIA_ADMINISTRATIVA  20141 non-null  int64  \n",
      " 54  UF_QTD_FINANCIADORES              20141 non-null  int64  \n",
      "dtypes: float64(16), int64(33), object(6)\n",
      "memory usage: 8.5+ MB\n"
     ]
    }
   ],
   "source": [
    "#Verificando se foram dropadas. \n",
    "df.info()"
   ]
  },
  {
   "cell_type": "code",
   "execution_count": 23,
   "metadata": {
    "id": "59t0U4tyBQzn"
   },
   "outputs": [],
   "source": [
    "from pathlib import Path  \n",
    "filepath = Path('drive/My Drive/Colab Notebooks/2_GIA/Analise_bases/Grande Base 4.csv')  #caminho onde gerei a Grande_Base_4  \n",
    "filepath.parent.mkdir(parents=True, exist_ok=True)  \n",
    "df.to_csv(filepath, index=False) #index=False para evitar a criação da coluna Unamed. "
   ]
  },
  {
   "cell_type": "markdown",
   "metadata": {
    "id": "91EwNN27qk4l"
   },
   "source": [
    "## Parte 3:  Média/Moda por ano dos PPG's"
   ]
  },
  {
   "cell_type": "code",
   "execution_count": 24,
   "metadata": {
    "colab": {
     "base_uri": "https://localhost:8080/"
    },
    "id": "kTzCaPw3qu7X",
    "outputId": "50de19fc-8a06-4fa1-bd90-462b23b1efb2"
   },
   "outputs": [
    {
     "name": "stdout",
     "output_type": "stream",
     "text": [
      "<class 'pandas.core.frame.DataFrame'>\n",
      "RangeIndex: 20141 entries, 0 to 20140\n",
      "Data columns (total 55 columns):\n",
      " #   Column                            Non-Null Count  Dtype  \n",
      "---  ------                            --------------  -----  \n",
      " 0   CD_PROGRAMA_IES                   20141 non-null  object \n",
      " 1   AN_BASE                           20141 non-null  int64  \n",
      " 2   CD_AREA_AVALIACAO                 20141 non-null  int64  \n",
      " 3   IB_Total_docentes                 20141 non-null  int64  \n",
      " 4   IB_Mulheres                       20141 non-null  int64  \n",
      " 5   IB_Homens                         20141 non-null  int64  \n",
      " 6   IB_Brasileiros                    20141 non-null  int64  \n",
      " 7   IB_Estrangeiros                   20141 non-null  int64  \n",
      " 8   IB_QTDE_Regime_Parcial            20141 non-null  int64  \n",
      " 9   IB_QTDE_Regime_Integral           20141 non-null  int64  \n",
      " 10  IB_QTDE_Regime_Exclusivo          20141 non-null  int64  \n",
      " 11  IB_QTDE_Prof_Doutor               20141 non-null  int64  \n",
      " 12  IB_QTDE_Prof_NaoDoutor            20141 non-null  int64  \n",
      " 13  IB_QTDE_titulados_Brasil          20141 non-null  int64  \n",
      " 14  IB_QTDE_titulados_Exterior        20141 non-null  int64  \n",
      " 15  IB_Profs_Colaboradores            20141 non-null  int64  \n",
      " 16  IB_Profs_ServidoresPublicos       20141 non-null  int64  \n",
      " 17  IB_Profs_VinculoCLT               20141 non-null  int64  \n",
      " 18  IB_Profs_Aposentados              20141 non-null  int64  \n",
      " 19  IB_Profs_BolsaDeFixacao           20141 non-null  int64  \n",
      " 20  IB_Total_cursos                   20141 non-null  int64  \n",
      " 21  MEDIA_CONCEITO_CURSO              20141 non-null  float64\n",
      " 22  ID_SUBTIPO_PRODUCAO               20141 non-null  float64\n",
      " 23  NM_SUBTIPO_PRODUCAO               20141 non-null  object \n",
      " 24  IN_TRABALHO_MESMA_AREA            20141 non-null  float64\n",
      " 25  NR_PAGINAS                        18798 non-null  float64\n",
      " 26  GUS_Lingua_estrangeira            20141 non-null  int64  \n",
      " 27  GUS_Quantidade_Trabalhos          20141 non-null  int64  \n",
      " 28  AN_NASCIMENTO_DOCENTE             20141 non-null  float64\n",
      " 29  SG_ENTIDADE_ENSINO                20141 non-null  object \n",
      " 30  GUS_Dis_Homens                    20141 non-null  int64  \n",
      " 31  GUS_Dis_Mulheres                  20141 non-null  int64  \n",
      " 32  GUS_Dis_Brasileiros               20141 non-null  int64  \n",
      " 33  GUS_Dis_Estrangeiros              20141 non-null  int64  \n",
      " 34  GUS_diferenca_idade               20141 non-null  float64\n",
      " 35  GUS_razao_aluno_prof              20141 non-null  float64\n",
      " 36  GUS_Quantidade_Discentes          20141 non-null  int64  \n",
      " 37  GUS_Dis_Prop_Homens               20141 non-null  float64\n",
      " 38  GUS_Dis_Aluno_Tempo               20140 non-null  float64\n",
      " 39  QT_MES_TITULACAO                  20140 non-null  float64\n",
      " 40  GUS_pag_por_aluno                 18798 non-null  float64\n",
      " 41  CS_STATUS_JURIDICO                20141 non-null  object \n",
      " 42  AN_NASCIMENTO_DISCENTE            20141 non-null  float64\n",
      " 43  NM_REGIAO                         20141 non-null  object \n",
      " 44  SG_UF_PROGRAMA                    20141 non-null  object \n",
      " 45  CD_CONCEITO_PROGRAMA              20141 non-null  int64  \n",
      " 46  UF_NM_MODALIDADE_PROGRAMA         20141 non-null  int64  \n",
      " 47  UF_Qtd_Proj                       20141 non-null  int64  \n",
      " 48  UF_Outros projetos                20141 non-null  float64\n",
      " 49  UF_Qtd_Financiamentos             20141 non-null  int64  \n",
      " 50  UF_BOLSA                          20141 non-null  float64\n",
      " 51  UF_OUTRO AUXILIO FINANCEIRO       20141 non-null  float64\n",
      " 52  SEM AUXILIO                       20141 non-null  float64\n",
      " 53  UF_DS_DEPENDENCIA_ADMINISTRATIVA  20141 non-null  int64  \n",
      " 54  UF_QTD_FINANCIADORES              20141 non-null  int64  \n",
      "dtypes: float64(16), int64(33), object(6)\n",
      "memory usage: 8.5+ MB\n"
     ]
    }
   ],
   "source": [
    "df.info()"
   ]
  },
  {
   "cell_type": "code",
   "execution_count": 25,
   "metadata": {
    "id": "OAKUGz3MBfsG"
   },
   "outputs": [],
   "source": [
    "#Função para calcular a moda dos numeros e das strings. \n",
    "def moda(List):\n",
    "    List=list(List)\n",
    "    counter = 0\n",
    "    num = List[0]\n",
    "     \n",
    "    for i in List:\n",
    "        curr_frequency = List.count(i)\n",
    "        if(curr_frequency> counter):\n",
    "            counter = curr_frequency\n",
    "            num = i\n",
    " \n",
    "    return num"
   ]
  },
  {
   "cell_type": "code",
   "execution_count": 26,
   "metadata": {
    "colab": {
     "base_uri": "https://localhost:8080/",
     "height": 211
    },
    "id": "4RVf8k4t7nbN",
    "outputId": "679b7e6b-653f-413e-c84d-8538b5d20cca"
   },
   "outputs": [
    {
     "data": {
      "text/html": [
       "<div>\n",
       "<style scoped>\n",
       "    .dataframe tbody tr th:only-of-type {\n",
       "        vertical-align: middle;\n",
       "    }\n",
       "\n",
       "    .dataframe tbody tr th {\n",
       "        vertical-align: top;\n",
       "    }\n",
       "\n",
       "    .dataframe thead th {\n",
       "        text-align: right;\n",
       "    }\n",
       "</style>\n",
       "<table border=\"1\" class=\"dataframe\">\n",
       "  <thead>\n",
       "    <tr style=\"text-align: right;\">\n",
       "      <th></th>\n",
       "      <th>CD_PROGRAMA_IES</th>\n",
       "      <th>AN_BASE</th>\n",
       "      <th>CD_AREA_AVALIACAO</th>\n",
       "      <th>IB_Total_docentes</th>\n",
       "      <th>IB_Mulheres</th>\n",
       "      <th>IB_Homens</th>\n",
       "      <th>IB_Brasileiros</th>\n",
       "      <th>IB_Estrangeiros</th>\n",
       "      <th>IB_QTDE_Regime_Parcial</th>\n",
       "      <th>IB_QTDE_Regime_Integral</th>\n",
       "      <th>IB_QTDE_Regime_Exclusivo</th>\n",
       "      <th>IB_QTDE_Prof_Doutor</th>\n",
       "      <th>IB_QTDE_Prof_NaoDoutor</th>\n",
       "      <th>IB_QTDE_titulados_Brasil</th>\n",
       "      <th>IB_QTDE_titulados_Exterior</th>\n",
       "      <th>IB_Profs_Colaboradores</th>\n",
       "      <th>IB_Profs_ServidoresPublicos</th>\n",
       "      <th>IB_Profs_VinculoCLT</th>\n",
       "      <th>IB_Profs_Aposentados</th>\n",
       "      <th>IB_Profs_BolsaDeFixacao</th>\n",
       "      <th>IB_Total_cursos</th>\n",
       "      <th>MEDIA_CONCEITO_CURSO</th>\n",
       "      <th>ID_SUBTIPO_PRODUCAO</th>\n",
       "      <th>NM_SUBTIPO_PRODUCAO</th>\n",
       "      <th>IN_TRABALHO_MESMA_AREA</th>\n",
       "      <th>NR_PAGINAS</th>\n",
       "      <th>GUS_Lingua_estrangeira</th>\n",
       "      <th>GUS_Quantidade_Trabalhos</th>\n",
       "      <th>AN_NASCIMENTO_DOCENTE</th>\n",
       "      <th>SG_ENTIDADE_ENSINO</th>\n",
       "      <th>GUS_Dis_Homens</th>\n",
       "      <th>GUS_Dis_Mulheres</th>\n",
       "      <th>GUS_Dis_Brasileiros</th>\n",
       "      <th>GUS_Dis_Estrangeiros</th>\n",
       "      <th>GUS_diferenca_idade</th>\n",
       "      <th>GUS_razao_aluno_prof</th>\n",
       "      <th>GUS_Quantidade_Discentes</th>\n",
       "      <th>GUS_Dis_Prop_Homens</th>\n",
       "      <th>GUS_Dis_Aluno_Tempo</th>\n",
       "      <th>QT_MES_TITULACAO</th>\n",
       "      <th>GUS_pag_por_aluno</th>\n",
       "      <th>CS_STATUS_JURIDICO</th>\n",
       "      <th>AN_NASCIMENTO_DISCENTE</th>\n",
       "      <th>NM_REGIAO</th>\n",
       "      <th>SG_UF_PROGRAMA</th>\n",
       "      <th>CD_CONCEITO_PROGRAMA</th>\n",
       "      <th>UF_NM_MODALIDADE_PROGRAMA</th>\n",
       "      <th>UF_Qtd_Proj</th>\n",
       "      <th>UF_Outros projetos</th>\n",
       "      <th>UF_Qtd_Financiamentos</th>\n",
       "      <th>UF_BOLSA</th>\n",
       "      <th>UF_OUTRO AUXILIO FINANCEIRO</th>\n",
       "      <th>SEM AUXILIO</th>\n",
       "      <th>UF_DS_DEPENDENCIA_ADMINISTRATIVA</th>\n",
       "      <th>UF_QTD_FINANCIADORES</th>\n",
       "    </tr>\n",
       "  </thead>\n",
       "  <tbody>\n",
       "    <tr>\n",
       "      <th>0</th>\n",
       "      <td>10001018002P1</td>\n",
       "      <td>2013</td>\n",
       "      <td>9</td>\n",
       "      <td>25</td>\n",
       "      <td>10</td>\n",
       "      <td>15</td>\n",
       "      <td>25</td>\n",
       "      <td>0</td>\n",
       "      <td>16</td>\n",
       "      <td>9</td>\n",
       "      <td>0</td>\n",
       "      <td>25</td>\n",
       "      <td>0</td>\n",
       "      <td>23</td>\n",
       "      <td>2</td>\n",
       "      <td>12</td>\n",
       "      <td>8</td>\n",
       "      <td>2</td>\n",
       "      <td>3</td>\n",
       "      <td>0</td>\n",
       "      <td>2</td>\n",
       "      <td>3.0</td>\n",
       "      <td>2.0</td>\n",
       "      <td>TESE</td>\n",
       "      <td>0.0</td>\n",
       "      <td>NaN</td>\n",
       "      <td>0</td>\n",
       "      <td>21</td>\n",
       "      <td>1967.560000</td>\n",
       "      <td>UNIR</td>\n",
       "      <td>29</td>\n",
       "      <td>48</td>\n",
       "      <td>77</td>\n",
       "      <td>0</td>\n",
       "      <td>13.440000</td>\n",
       "      <td>3.080000</td>\n",
       "      <td>77</td>\n",
       "      <td>0.376623</td>\n",
       "      <td>1.889019</td>\n",
       "      <td>40.761905</td>\n",
       "      <td>NaN</td>\n",
       "      <td>FEDERAL</td>\n",
       "      <td>1981.000000</td>\n",
       "      <td>NORTE</td>\n",
       "      <td>RO</td>\n",
       "      <td>3</td>\n",
       "      <td>1</td>\n",
       "      <td>19</td>\n",
       "      <td>2.0</td>\n",
       "      <td>16</td>\n",
       "      <td>1.0</td>\n",
       "      <td>15.0</td>\n",
       "      <td>0.0</td>\n",
       "      <td>1</td>\n",
       "      <td>3</td>\n",
       "    </tr>\n",
       "    <tr>\n",
       "      <th>1</th>\n",
       "      <td>10001018002P1</td>\n",
       "      <td>2014</td>\n",
       "      <td>9</td>\n",
       "      <td>22</td>\n",
       "      <td>8</td>\n",
       "      <td>14</td>\n",
       "      <td>22</td>\n",
       "      <td>0</td>\n",
       "      <td>16</td>\n",
       "      <td>6</td>\n",
       "      <td>0</td>\n",
       "      <td>22</td>\n",
       "      <td>0</td>\n",
       "      <td>20</td>\n",
       "      <td>2</td>\n",
       "      <td>12</td>\n",
       "      <td>7</td>\n",
       "      <td>0</td>\n",
       "      <td>3</td>\n",
       "      <td>0</td>\n",
       "      <td>2</td>\n",
       "      <td>3.0</td>\n",
       "      <td>2.0</td>\n",
       "      <td>TESE</td>\n",
       "      <td>1.0</td>\n",
       "      <td>80.0</td>\n",
       "      <td>0</td>\n",
       "      <td>13</td>\n",
       "      <td>1966.954545</td>\n",
       "      <td>UNIR</td>\n",
       "      <td>26</td>\n",
       "      <td>43</td>\n",
       "      <td>68</td>\n",
       "      <td>1</td>\n",
       "      <td>16.320817</td>\n",
       "      <td>3.136364</td>\n",
       "      <td>69</td>\n",
       "      <td>0.376812</td>\n",
       "      <td>2.193154</td>\n",
       "      <td>31.461538</td>\n",
       "      <td>3.636364</td>\n",
       "      <td>FEDERAL</td>\n",
       "      <td>1983.275362</td>\n",
       "      <td>NORTE</td>\n",
       "      <td>RO</td>\n",
       "      <td>3</td>\n",
       "      <td>1</td>\n",
       "      <td>26</td>\n",
       "      <td>3.0</td>\n",
       "      <td>20</td>\n",
       "      <td>1.0</td>\n",
       "      <td>19.0</td>\n",
       "      <td>0.0</td>\n",
       "      <td>1</td>\n",
       "      <td>3</td>\n",
       "    </tr>\n",
       "  </tbody>\n",
       "</table>\n",
       "</div>"
      ],
      "text/plain": [
       "  CD_PROGRAMA_IES  AN_BASE  CD_AREA_AVALIACAO  IB_Total_docentes  IB_Mulheres  IB_Homens  IB_Brasileiros  IB_Estrangeiros  IB_QTDE_Regime_Parcial  IB_QTDE_Regime_Integral  IB_QTDE_Regime_Exclusivo  IB_QTDE_Prof_Doutor  IB_QTDE_Prof_NaoDoutor  IB_QTDE_titulados_Brasil  IB_QTDE_titulados_Exterior  IB_Profs_Colaboradores  IB_Profs_ServidoresPublicos  IB_Profs_VinculoCLT  IB_Profs_Aposentados  IB_Profs_BolsaDeFixacao  IB_Total_cursos  MEDIA_CONCEITO_CURSO  ID_SUBTIPO_PRODUCAO NM_SUBTIPO_PRODUCAO  IN_TRABALHO_MESMA_AREA  NR_PAGINAS  GUS_Lingua_estrangeira  GUS_Quantidade_Trabalhos  AN_NASCIMENTO_DOCENTE SG_ENTIDADE_ENSINO  GUS_Dis_Homens  GUS_Dis_Mulheres  GUS_Dis_Brasileiros  GUS_Dis_Estrangeiros  GUS_diferenca_idade  GUS_razao_aluno_prof  GUS_Quantidade_Discentes  GUS_Dis_Prop_Homens  GUS_Dis_Aluno_Tempo  QT_MES_TITULACAO  GUS_pag_por_aluno CS_STATUS_JURIDICO  AN_NASCIMENTO_DISCENTE NM_REGIAO SG_UF_PROGRAMA  CD_CONCEITO_PROGRAMA  UF_NM_MODALIDADE_PROGRAMA  UF_Qtd_Proj  \\\n",
       "0   10001018002P1     2013                  9                 25           10         15              25                0                      16                        9                         0                   25                       0                        23                           2                      12                            8                    2                     3                        0                2                   3.0                  2.0                TESE                     0.0         NaN                       0                        21            1967.560000               UNIR              29                48                   77                     0            13.440000              3.080000                        77             0.376623             1.889019         40.761905                NaN            FEDERAL             1981.000000     NORTE             RO                     3                          1           19   \n",
       "1   10001018002P1     2014                  9                 22            8         14              22                0                      16                        6                         0                   22                       0                        20                           2                      12                            7                    0                     3                        0                2                   3.0                  2.0                TESE                     1.0        80.0                       0                        13            1966.954545               UNIR              26                43                   68                     1            16.320817              3.136364                        69             0.376812             2.193154         31.461538           3.636364            FEDERAL             1983.275362     NORTE             RO                     3                          1           26   \n",
       "\n",
       "   UF_Outros projetos  UF_Qtd_Financiamentos  UF_BOLSA  UF_OUTRO AUXILIO FINANCEIRO  SEM AUXILIO  UF_DS_DEPENDENCIA_ADMINISTRATIVA  UF_QTD_FINANCIADORES  \n",
       "0                 2.0                     16       1.0                         15.0          0.0                                 1                     3  \n",
       "1                 3.0                     20       1.0                         19.0          0.0                                 1                     3  "
      ]
     },
     "execution_count": 26,
     "metadata": {},
     "output_type": "execute_result"
    }
   ],
   "source": [
    "df.head(2)"
   ]
  },
  {
   "cell_type": "code",
   "execution_count": 27,
   "metadata": {
    "id": "GUB1dNQdqvrY"
   },
   "outputs": [],
   "source": [
    "df_programa=df.groupby(['CD_PROGRAMA_IES'],as_index=False).agg({'AN_BASE':moda,'IB_Total_docentes':np.mean, 'IB_Mulheres':np.mean, 'IB_Homens': np.mean,\n",
    "                                                                 'IB_Brasileiros': np.mean, 'IB_Estrangeiros': np.mean, 'IB_QTDE_Regime_Parcial': np.mean,\n",
    "                                                                 'IB_QTDE_Regime_Integral': np.mean, 'IB_QTDE_Regime_Exclusivo': np.mean, 'IB_QTDE_Prof_Doutor': np.mean, 'IB_QTDE_Prof_NaoDoutor': np.mean,\n",
    "                                                                 'IB_QTDE_titulados_Brasil': np.mean,'IB_QTDE_titulados_Exterior': np.mean, 'IB_Profs_Colaboradores': np.mean, 'IB_Profs_ServidoresPublicos': np.mean,\n",
    "                                                                 'IB_Profs_VinculoCLT': np.mean, 'IB_Profs_Aposentados': np.mean, 'IB_Profs_BolsaDeFixacao' : np.mean,  'IB_Total_cursos': np.mean,\n",
    "                                                                 'GUS_Lingua_estrangeira': np.mean, 'AN_NASCIMENTO_DOCENTE': np.mean, 'GUS_Dis_Homens': np.mean, 'GUS_Dis_Mulheres': np.mean, 'GUS_Dis_Brasileiros': np.mean,\n",
    "                                                                 'GUS_Dis_Estrangeiros': np.mean, 'GUS_diferenca_idade': np.mean, 'GUS_razao_aluno_prof': np.mean, 'GUS_Quantidade_Discentes': np.mean, 'GUS_Dis_Prop_Homens': np.mean,\"GUS_Dis_Aluno_Tempo\": np.mean, \n",
    "                                                                 \"QT_MES_TITULACAO\": np.mean, \"GUS_pag_por_aluno\": np.mean, \"CS_STATUS_JURIDICO\": moda, \"AN_NASCIMENTO_DISCENTE\": np.mean, \n",
    "                                                                 \"NM_REGIAO\": moda, \"SG_UF_PROGRAMA\": moda, \"CD_CONCEITO_PROGRAMA\": moda, \"UF_Qtd_Proj\": np.mean, \n",
    "                                                                 \"UF_Outros projetos\": np.mean, \"UF_Qtd_Financiamentos\": np.mean, \"UF_BOLSA\": np.mean, \"UF_OUTRO AUXILIO FINANCEIRO\": np.mean,  \n",
    "                                                                 \"CD_AREA_AVALIACAO\": moda,\"ID_SUBTIPO_PRODUCAO\": moda,\"NM_SUBTIPO_PRODUCAO\": moda, \n",
    "                                                                 \"SG_ENTIDADE_ENSINO\": moda,\"CS_STATUS_JURIDICO\": moda, \"NM_REGIAO\": moda,\"SG_UF_PROGRAMA\": moda,\"CD_CONCEITO_PROGRAMA\": moda,\"SEM AUXILIO\": moda})"
   ]
  },
  {
   "cell_type": "code",
   "execution_count": 28,
   "metadata": {
    "colab": {
     "base_uri": "https://localhost:8080/",
     "height": 305
    },
    "id": "7abfpFxTsHFx",
    "outputId": "cbd2edda-1e97-4aa4-a1be-e26a1cdf119f"
   },
   "outputs": [
    {
     "data": {
      "text/html": [
       "<div>\n",
       "<style scoped>\n",
       "    .dataframe tbody tr th:only-of-type {\n",
       "        vertical-align: middle;\n",
       "    }\n",
       "\n",
       "    .dataframe tbody tr th {\n",
       "        vertical-align: top;\n",
       "    }\n",
       "\n",
       "    .dataframe thead th {\n",
       "        text-align: right;\n",
       "    }\n",
       "</style>\n",
       "<table border=\"1\" class=\"dataframe\">\n",
       "  <thead>\n",
       "    <tr style=\"text-align: right;\">\n",
       "      <th></th>\n",
       "      <th>CD_PROGRAMA_IES</th>\n",
       "      <th>AN_BASE</th>\n",
       "      <th>IB_Total_docentes</th>\n",
       "      <th>IB_Mulheres</th>\n",
       "      <th>IB_Homens</th>\n",
       "      <th>IB_Brasileiros</th>\n",
       "      <th>IB_Estrangeiros</th>\n",
       "      <th>IB_QTDE_Regime_Parcial</th>\n",
       "      <th>IB_QTDE_Regime_Integral</th>\n",
       "      <th>IB_QTDE_Regime_Exclusivo</th>\n",
       "      <th>IB_QTDE_Prof_Doutor</th>\n",
       "      <th>IB_QTDE_Prof_NaoDoutor</th>\n",
       "      <th>IB_QTDE_titulados_Brasil</th>\n",
       "      <th>IB_QTDE_titulados_Exterior</th>\n",
       "      <th>IB_Profs_Colaboradores</th>\n",
       "      <th>IB_Profs_ServidoresPublicos</th>\n",
       "      <th>IB_Profs_VinculoCLT</th>\n",
       "      <th>IB_Profs_Aposentados</th>\n",
       "      <th>IB_Profs_BolsaDeFixacao</th>\n",
       "      <th>IB_Total_cursos</th>\n",
       "      <th>GUS_Lingua_estrangeira</th>\n",
       "      <th>AN_NASCIMENTO_DOCENTE</th>\n",
       "      <th>GUS_Dis_Homens</th>\n",
       "      <th>GUS_Dis_Mulheres</th>\n",
       "      <th>GUS_Dis_Brasileiros</th>\n",
       "      <th>GUS_Dis_Estrangeiros</th>\n",
       "      <th>GUS_diferenca_idade</th>\n",
       "      <th>GUS_razao_aluno_prof</th>\n",
       "      <th>GUS_Quantidade_Discentes</th>\n",
       "      <th>GUS_Dis_Prop_Homens</th>\n",
       "      <th>GUS_Dis_Aluno_Tempo</th>\n",
       "      <th>QT_MES_TITULACAO</th>\n",
       "      <th>GUS_pag_por_aluno</th>\n",
       "      <th>CS_STATUS_JURIDICO</th>\n",
       "      <th>AN_NASCIMENTO_DISCENTE</th>\n",
       "      <th>NM_REGIAO</th>\n",
       "      <th>SG_UF_PROGRAMA</th>\n",
       "      <th>CD_CONCEITO_PROGRAMA</th>\n",
       "      <th>UF_Qtd_Proj</th>\n",
       "      <th>UF_Outros projetos</th>\n",
       "      <th>UF_Qtd_Financiamentos</th>\n",
       "      <th>UF_BOLSA</th>\n",
       "      <th>UF_OUTRO AUXILIO FINANCEIRO</th>\n",
       "      <th>CD_AREA_AVALIACAO</th>\n",
       "      <th>ID_SUBTIPO_PRODUCAO</th>\n",
       "      <th>NM_SUBTIPO_PRODUCAO</th>\n",
       "      <th>SG_ENTIDADE_ENSINO</th>\n",
       "      <th>SEM AUXILIO</th>\n",
       "    </tr>\n",
       "  </thead>\n",
       "  <tbody>\n",
       "    <tr>\n",
       "      <th>0</th>\n",
       "      <td>10001018002P1</td>\n",
       "      <td>2013</td>\n",
       "      <td>21.5</td>\n",
       "      <td>7.833333</td>\n",
       "      <td>13.666667</td>\n",
       "      <td>21.500000</td>\n",
       "      <td>0.000000</td>\n",
       "      <td>15.166667</td>\n",
       "      <td>5.166667</td>\n",
       "      <td>1.166667</td>\n",
       "      <td>21.5</td>\n",
       "      <td>0.0</td>\n",
       "      <td>19.500000</td>\n",
       "      <td>2.000000</td>\n",
       "      <td>11.666667</td>\n",
       "      <td>8.000000</td>\n",
       "      <td>0.333333</td>\n",
       "      <td>1.500000</td>\n",
       "      <td>0.0</td>\n",
       "      <td>2.0</td>\n",
       "      <td>0.0</td>\n",
       "      <td>1971.161178</td>\n",
       "      <td>32.666667</td>\n",
       "      <td>53.166667</td>\n",
       "      <td>84.666667</td>\n",
       "      <td>1.166667</td>\n",
       "      <td>14.036690</td>\n",
       "      <td>4.046077</td>\n",
       "      <td>85.833333</td>\n",
       "      <td>0.379041</td>\n",
       "      <td>2.670821</td>\n",
       "      <td>32.958669</td>\n",
       "      <td>3.636364</td>\n",
       "      <td>FEDERAL</td>\n",
       "      <td>1985.197869</td>\n",
       "      <td>NORTE</td>\n",
       "      <td>RO</td>\n",
       "      <td>3</td>\n",
       "      <td>40.166667</td>\n",
       "      <td>4.500000</td>\n",
       "      <td>33.000000</td>\n",
       "      <td>2.833333</td>\n",
       "      <td>30.166667</td>\n",
       "      <td>9</td>\n",
       "      <td>2.0</td>\n",
       "      <td>TESE</td>\n",
       "      <td>UNIR</td>\n",
       "      <td>0.0</td>\n",
       "    </tr>\n",
       "    <tr>\n",
       "      <th>1</th>\n",
       "      <td>10001018004P4</td>\n",
       "      <td>2013</td>\n",
       "      <td>31.0</td>\n",
       "      <td>8.166667</td>\n",
       "      <td>22.833333</td>\n",
       "      <td>31.000000</td>\n",
       "      <td>0.000000</td>\n",
       "      <td>2.666667</td>\n",
       "      <td>25.500000</td>\n",
       "      <td>2.833333</td>\n",
       "      <td>31.0</td>\n",
       "      <td>0.0</td>\n",
       "      <td>30.000000</td>\n",
       "      <td>1.000000</td>\n",
       "      <td>2.000000</td>\n",
       "      <td>20.166667</td>\n",
       "      <td>8.500000</td>\n",
       "      <td>0.333333</td>\n",
       "      <td>0.0</td>\n",
       "      <td>2.0</td>\n",
       "      <td>0.0</td>\n",
       "      <td>1966.534843</td>\n",
       "      <td>24.500000</td>\n",
       "      <td>40.666667</td>\n",
       "      <td>64.666667</td>\n",
       "      <td>0.500000</td>\n",
       "      <td>15.429744</td>\n",
       "      <td>2.137071</td>\n",
       "      <td>65.166667</td>\n",
       "      <td>0.379225</td>\n",
       "      <td>2.221723</td>\n",
       "      <td>30.077689</td>\n",
       "      <td>3.100769</td>\n",
       "      <td>FEDERAL</td>\n",
       "      <td>1981.964587</td>\n",
       "      <td>NORTE</td>\n",
       "      <td>RO</td>\n",
       "      <td>4</td>\n",
       "      <td>41.833333</td>\n",
       "      <td>1.500000</td>\n",
       "      <td>23.833333</td>\n",
       "      <td>0.000000</td>\n",
       "      <td>23.833333</td>\n",
       "      <td>45</td>\n",
       "      <td>2.0</td>\n",
       "      <td>DISSERTAÇÃO</td>\n",
       "      <td>UNIR</td>\n",
       "      <td>0.0</td>\n",
       "    </tr>\n",
       "    <tr>\n",
       "      <th>2</th>\n",
       "      <td>10001018005P0</td>\n",
       "      <td>2013</td>\n",
       "      <td>16.5</td>\n",
       "      <td>6.000000</td>\n",
       "      <td>10.500000</td>\n",
       "      <td>15.333333</td>\n",
       "      <td>1.166667</td>\n",
       "      <td>3.166667</td>\n",
       "      <td>8.666667</td>\n",
       "      <td>4.666667</td>\n",
       "      <td>16.5</td>\n",
       "      <td>0.0</td>\n",
       "      <td>15.166667</td>\n",
       "      <td>1.333333</td>\n",
       "      <td>3.166667</td>\n",
       "      <td>11.666667</td>\n",
       "      <td>1.666667</td>\n",
       "      <td>0.000000</td>\n",
       "      <td>0.0</td>\n",
       "      <td>2.0</td>\n",
       "      <td>0.0</td>\n",
       "      <td>1964.415424</td>\n",
       "      <td>30.833333</td>\n",
       "      <td>45.166667</td>\n",
       "      <td>75.000000</td>\n",
       "      <td>1.000000</td>\n",
       "      <td>15.948625</td>\n",
       "      <td>4.581545</td>\n",
       "      <td>76.000000</td>\n",
       "      <td>0.396042</td>\n",
       "      <td>2.598205</td>\n",
       "      <td>29.926197</td>\n",
       "      <td>8.723803</td>\n",
       "      <td>FEDERAL</td>\n",
       "      <td>1980.364049</td>\n",
       "      <td>NORTE</td>\n",
       "      <td>RO</td>\n",
       "      <td>4</td>\n",
       "      <td>31.833333</td>\n",
       "      <td>4.333333</td>\n",
       "      <td>9.000000</td>\n",
       "      <td>1.333333</td>\n",
       "      <td>7.666667</td>\n",
       "      <td>36</td>\n",
       "      <td>2.0</td>\n",
       "      <td>DISSERTAÇÃO</td>\n",
       "      <td>UNIR</td>\n",
       "      <td>0.0</td>\n",
       "    </tr>\n",
       "    <tr>\n",
       "      <th>3</th>\n",
       "      <td>10001018006P7</td>\n",
       "      <td>2013</td>\n",
       "      <td>11.5</td>\n",
       "      <td>4.333333</td>\n",
       "      <td>7.166667</td>\n",
       "      <td>11.500000</td>\n",
       "      <td>0.000000</td>\n",
       "      <td>0.500000</td>\n",
       "      <td>6.500000</td>\n",
       "      <td>4.500000</td>\n",
       "      <td>11.5</td>\n",
       "      <td>0.0</td>\n",
       "      <td>8.666667</td>\n",
       "      <td>2.833333</td>\n",
       "      <td>0.000000</td>\n",
       "      <td>11.500000</td>\n",
       "      <td>0.000000</td>\n",
       "      <td>0.000000</td>\n",
       "      <td>0.0</td>\n",
       "      <td>1.0</td>\n",
       "      <td>0.0</td>\n",
       "      <td>1960.100460</td>\n",
       "      <td>32.500000</td>\n",
       "      <td>19.166667</td>\n",
       "      <td>51.666667</td>\n",
       "      <td>0.000000</td>\n",
       "      <td>21.870891</td>\n",
       "      <td>4.574106</td>\n",
       "      <td>51.666667</td>\n",
       "      <td>0.625704</td>\n",
       "      <td>1.996392</td>\n",
       "      <td>25.865931</td>\n",
       "      <td>9.478521</td>\n",
       "      <td>FEDERAL</td>\n",
       "      <td>1981.971351</td>\n",
       "      <td>NORTE</td>\n",
       "      <td>RO</td>\n",
       "      <td>4</td>\n",
       "      <td>12.833333</td>\n",
       "      <td>0.500000</td>\n",
       "      <td>2.000000</td>\n",
       "      <td>0.666667</td>\n",
       "      <td>1.333333</td>\n",
       "      <td>27</td>\n",
       "      <td>2.0</td>\n",
       "      <td>DISSERTAÇÃO</td>\n",
       "      <td>UNIR</td>\n",
       "      <td>0.0</td>\n",
       "    </tr>\n",
       "    <tr>\n",
       "      <th>4</th>\n",
       "      <td>10001018008P0</td>\n",
       "      <td>2013</td>\n",
       "      <td>17.0</td>\n",
       "      <td>9.000000</td>\n",
       "      <td>8.000000</td>\n",
       "      <td>15.000000</td>\n",
       "      <td>2.000000</td>\n",
       "      <td>0.000000</td>\n",
       "      <td>0.000000</td>\n",
       "      <td>17.000000</td>\n",
       "      <td>16.0</td>\n",
       "      <td>1.0</td>\n",
       "      <td>9.000000</td>\n",
       "      <td>8.000000</td>\n",
       "      <td>0.000000</td>\n",
       "      <td>13.000000</td>\n",
       "      <td>4.000000</td>\n",
       "      <td>0.000000</td>\n",
       "      <td>0.0</td>\n",
       "      <td>1.0</td>\n",
       "      <td>0.0</td>\n",
       "      <td>1957.294118</td>\n",
       "      <td>12.000000</td>\n",
       "      <td>29.000000</td>\n",
       "      <td>41.000000</td>\n",
       "      <td>0.000000</td>\n",
       "      <td>17.437590</td>\n",
       "      <td>2.411765</td>\n",
       "      <td>41.000000</td>\n",
       "      <td>0.292683</td>\n",
       "      <td>1.173401</td>\n",
       "      <td>34.941176</td>\n",
       "      <td>9.930796</td>\n",
       "      <td>FEDERAL</td>\n",
       "      <td>1974.731707</td>\n",
       "      <td>NORTE</td>\n",
       "      <td>RO</td>\n",
       "      <td>2</td>\n",
       "      <td>15.000000</td>\n",
       "      <td>0.000000</td>\n",
       "      <td>9.000000</td>\n",
       "      <td>4.000000</td>\n",
       "      <td>5.000000</td>\n",
       "      <td>41</td>\n",
       "      <td>2.0</td>\n",
       "      <td>DISSERTAÇÃO</td>\n",
       "      <td>UNIR</td>\n",
       "      <td>0.0</td>\n",
       "    </tr>\n",
       "  </tbody>\n",
       "</table>\n",
       "</div>"
      ],
      "text/plain": [
       "  CD_PROGRAMA_IES  AN_BASE  IB_Total_docentes  IB_Mulheres  IB_Homens  IB_Brasileiros  IB_Estrangeiros  IB_QTDE_Regime_Parcial  IB_QTDE_Regime_Integral  IB_QTDE_Regime_Exclusivo  IB_QTDE_Prof_Doutor  IB_QTDE_Prof_NaoDoutor  IB_QTDE_titulados_Brasil  IB_QTDE_titulados_Exterior  IB_Profs_Colaboradores  IB_Profs_ServidoresPublicos  IB_Profs_VinculoCLT  IB_Profs_Aposentados  IB_Profs_BolsaDeFixacao  IB_Total_cursos  GUS_Lingua_estrangeira  AN_NASCIMENTO_DOCENTE  GUS_Dis_Homens  GUS_Dis_Mulheres  GUS_Dis_Brasileiros  GUS_Dis_Estrangeiros  GUS_diferenca_idade  GUS_razao_aluno_prof  GUS_Quantidade_Discentes  GUS_Dis_Prop_Homens  GUS_Dis_Aluno_Tempo  QT_MES_TITULACAO  GUS_pag_por_aluno CS_STATUS_JURIDICO  AN_NASCIMENTO_DISCENTE NM_REGIAO SG_UF_PROGRAMA  CD_CONCEITO_PROGRAMA  UF_Qtd_Proj  UF_Outros projetos  UF_Qtd_Financiamentos  UF_BOLSA  UF_OUTRO AUXILIO FINANCEIRO  CD_AREA_AVALIACAO  ID_SUBTIPO_PRODUCAO NM_SUBTIPO_PRODUCAO SG_ENTIDADE_ENSINO  SEM AUXILIO\n",
       "0   10001018002P1     2013               21.5     7.833333  13.666667       21.500000         0.000000               15.166667                 5.166667                  1.166667                 21.5                     0.0                 19.500000                    2.000000               11.666667                     8.000000             0.333333              1.500000                      0.0              2.0                     0.0            1971.161178       32.666667         53.166667            84.666667              1.166667            14.036690              4.046077                 85.833333             0.379041             2.670821         32.958669           3.636364            FEDERAL             1985.197869     NORTE             RO                     3    40.166667            4.500000              33.000000  2.833333                    30.166667                  9                  2.0                TESE               UNIR          0.0\n",
       "1   10001018004P4     2013               31.0     8.166667  22.833333       31.000000         0.000000                2.666667                25.500000                  2.833333                 31.0                     0.0                 30.000000                    1.000000                2.000000                    20.166667             8.500000              0.333333                      0.0              2.0                     0.0            1966.534843       24.500000         40.666667            64.666667              0.500000            15.429744              2.137071                 65.166667             0.379225             2.221723         30.077689           3.100769            FEDERAL             1981.964587     NORTE             RO                     4    41.833333            1.500000              23.833333  0.000000                    23.833333                 45                  2.0         DISSERTAÇÃO               UNIR          0.0\n",
       "2   10001018005P0     2013               16.5     6.000000  10.500000       15.333333         1.166667                3.166667                 8.666667                  4.666667                 16.5                     0.0                 15.166667                    1.333333                3.166667                    11.666667             1.666667              0.000000                      0.0              2.0                     0.0            1964.415424       30.833333         45.166667            75.000000              1.000000            15.948625              4.581545                 76.000000             0.396042             2.598205         29.926197           8.723803            FEDERAL             1980.364049     NORTE             RO                     4    31.833333            4.333333               9.000000  1.333333                     7.666667                 36                  2.0         DISSERTAÇÃO               UNIR          0.0\n",
       "3   10001018006P7     2013               11.5     4.333333   7.166667       11.500000         0.000000                0.500000                 6.500000                  4.500000                 11.5                     0.0                  8.666667                    2.833333                0.000000                    11.500000             0.000000              0.000000                      0.0              1.0                     0.0            1960.100460       32.500000         19.166667            51.666667              0.000000            21.870891              4.574106                 51.666667             0.625704             1.996392         25.865931           9.478521            FEDERAL             1981.971351     NORTE             RO                     4    12.833333            0.500000               2.000000  0.666667                     1.333333                 27                  2.0         DISSERTAÇÃO               UNIR          0.0\n",
       "4   10001018008P0     2013               17.0     9.000000   8.000000       15.000000         2.000000                0.000000                 0.000000                 17.000000                 16.0                     1.0                  9.000000                    8.000000                0.000000                    13.000000             4.000000              0.000000                      0.0              1.0                     0.0            1957.294118       12.000000         29.000000            41.000000              0.000000            17.437590              2.411765                 41.000000             0.292683             1.173401         34.941176           9.930796            FEDERAL             1974.731707     NORTE             RO                     2    15.000000            0.000000               9.000000  4.000000                     5.000000                 41                  2.0         DISSERTAÇÃO               UNIR          0.0"
      ]
     },
     "execution_count": 28,
     "metadata": {},
     "output_type": "execute_result"
    }
   ],
   "source": [
    "df_programa.head()"
   ]
  },
  {
   "cell_type": "markdown",
   "metadata": {
    "id": "qSLhdZB7Nypj"
   },
   "source": [
    "## Parte 4:  Clusterização e comparação"
   ]
  },
  {
   "cell_type": "code",
   "execution_count": 29,
   "metadata": {
    "id": "c6LBbAQjEZAk"
   },
   "outputs": [],
   "source": [
    "#slice para aplicar a clusterização somente no ano de 2017.\n",
    "df_2017 = df_programa[df_programa['AN_BASE'] == 2017]"
   ]
  },
  {
   "cell_type": "code",
   "execution_count": 30,
   "metadata": {
    "colab": {
     "base_uri": "https://localhost:8080/"
    },
    "id": "7f-CLeBgFApm",
    "outputId": "f3ef43a3-6e3b-443a-f169-b2130bb43831"
   },
   "outputs": [
    {
     "data": {
      "text/plain": [
       "array([2017], dtype=int64)"
      ]
     },
     "execution_count": 30,
     "metadata": {},
     "output_type": "execute_result"
    }
   ],
   "source": [
    "df_2017['AN_BASE'].unique()"
   ]
  },
  {
   "cell_type": "code",
   "execution_count": 31,
   "metadata": {
    "colab": {
     "base_uri": "https://localhost:8080/"
    },
    "id": "xKuv6XpYIia-",
    "outputId": "be755a9e-c7f7-49f7-8230-ce9bdd20bb72"
   },
   "outputs": [
    {
     "data": {
      "text/plain": [
       "(212, 48)"
      ]
     },
     "execution_count": 31,
     "metadata": {},
     "output_type": "execute_result"
    }
   ],
   "source": [
    "df_2017.shape"
   ]
  },
  {
   "cell_type": "code",
   "execution_count": 32,
   "metadata": {
    "colab": {
     "base_uri": "https://localhost:8080/"
    },
    "id": "MM5nnHBSCz58",
    "outputId": "48705272-3025-4661-c1fd-f979569cf9d5"
   },
   "outputs": [
    {
     "name": "stdout",
     "output_type": "stream",
     "text": [
      "<class 'pandas.core.frame.DataFrame'>\n",
      "Int64Index: 212 entries, 18 to 3973\n",
      "Data columns (total 48 columns):\n",
      " #   Column                       Non-Null Count  Dtype  \n",
      "---  ------                       --------------  -----  \n",
      " 0   CD_PROGRAMA_IES              212 non-null    object \n",
      " 1   AN_BASE                      212 non-null    int64  \n",
      " 2   IB_Total_docentes            212 non-null    float64\n",
      " 3   IB_Mulheres                  212 non-null    float64\n",
      " 4   IB_Homens                    212 non-null    float64\n",
      " 5   IB_Brasileiros               212 non-null    float64\n",
      " 6   IB_Estrangeiros              212 non-null    float64\n",
      " 7   IB_QTDE_Regime_Parcial       212 non-null    float64\n",
      " 8   IB_QTDE_Regime_Integral      212 non-null    float64\n",
      " 9   IB_QTDE_Regime_Exclusivo     212 non-null    float64\n",
      " 10  IB_QTDE_Prof_Doutor          212 non-null    float64\n",
      " 11  IB_QTDE_Prof_NaoDoutor       212 non-null    float64\n",
      " 12  IB_QTDE_titulados_Brasil     212 non-null    float64\n",
      " 13  IB_QTDE_titulados_Exterior   212 non-null    float64\n",
      " 14  IB_Profs_Colaboradores       212 non-null    float64\n",
      " 15  IB_Profs_ServidoresPublicos  212 non-null    float64\n",
      " 16  IB_Profs_VinculoCLT          212 non-null    float64\n",
      " 17  IB_Profs_Aposentados         212 non-null    float64\n",
      " 18  IB_Profs_BolsaDeFixacao      212 non-null    float64\n",
      " 19  IB_Total_cursos              212 non-null    float64\n",
      " 20  GUS_Lingua_estrangeira       212 non-null    float64\n",
      " 21  AN_NASCIMENTO_DOCENTE        212 non-null    float64\n",
      " 22  GUS_Dis_Homens               212 non-null    float64\n",
      " 23  GUS_Dis_Mulheres             212 non-null    float64\n",
      " 24  GUS_Dis_Brasileiros          212 non-null    float64\n",
      " 25  GUS_Dis_Estrangeiros         212 non-null    float64\n",
      " 26  GUS_diferenca_idade          212 non-null    float64\n",
      " 27  GUS_razao_aluno_prof         212 non-null    float64\n",
      " 28  GUS_Quantidade_Discentes     212 non-null    float64\n",
      " 29  GUS_Dis_Prop_Homens          212 non-null    float64\n",
      " 30  GUS_Dis_Aluno_Tempo          212 non-null    float64\n",
      " 31  QT_MES_TITULACAO             212 non-null    float64\n",
      " 32  GUS_pag_por_aluno            203 non-null    float64\n",
      " 33  CS_STATUS_JURIDICO           212 non-null    object \n",
      " 34  AN_NASCIMENTO_DISCENTE       212 non-null    float64\n",
      " 35  NM_REGIAO                    212 non-null    object \n",
      " 36  SG_UF_PROGRAMA               212 non-null    object \n",
      " 37  CD_CONCEITO_PROGRAMA         212 non-null    int64  \n",
      " 38  UF_Qtd_Proj                  212 non-null    float64\n",
      " 39  UF_Outros projetos           212 non-null    float64\n",
      " 40  UF_Qtd_Financiamentos        212 non-null    float64\n",
      " 41  UF_BOLSA                     212 non-null    float64\n",
      " 42  UF_OUTRO AUXILIO FINANCEIRO  212 non-null    float64\n",
      " 43  CD_AREA_AVALIACAO            212 non-null    int64  \n",
      " 44  ID_SUBTIPO_PRODUCAO          212 non-null    float64\n",
      " 45  NM_SUBTIPO_PRODUCAO          212 non-null    object \n",
      " 46  SG_ENTIDADE_ENSINO           212 non-null    object \n",
      " 47  SEM AUXILIO                  212 non-null    float64\n",
      "dtypes: float64(39), int64(3), object(6)\n",
      "memory usage: 81.2+ KB\n"
     ]
    }
   ],
   "source": [
    "df_2017.info()"
   ]
  },
  {
   "cell_type": "code",
   "execution_count": 33,
   "metadata": {
    "colab": {
     "base_uri": "https://localhost:8080/"
    },
    "id": "Nb8ftlf3vT94",
    "outputId": "56079be7-79a8-4c8e-e568-2a2e6eb29a89"
   },
   "outputs": [
    {
     "data": {
      "text/plain": [
       "array(['FEDERAL', 'ESTADUAL', 'PARTICULAR', 'MUNICIPAL'], dtype=object)"
      ]
     },
     "execution_count": 33,
     "metadata": {},
     "output_type": "execute_result"
    }
   ],
   "source": [
    "df_2017['CS_STATUS_JURIDICO'].unique()"
   ]
  },
  {
   "cell_type": "code",
   "execution_count": 34,
   "metadata": {
    "colab": {
     "base_uri": "https://localhost:8080/"
    },
    "id": "U8ZzkgIJxMYO",
    "outputId": "b7fe8e28-51b5-4902-cd6a-847f5855f129"
   },
   "outputs": [
    {
     "name": "stderr",
     "output_type": "stream",
     "text": [
      "c:\\users\\andre\\appdata\\local\\programs\\python\\python37\\lib\\site-packages\\pandas\\core\\indexing.py:1817: SettingWithCopyWarning: \n",
      "A value is trying to be set on a copy of a slice from a DataFrame.\n",
      "Try using .loc[row_indexer,col_indexer] = value instead\n",
      "\n",
      "See the caveats in the documentation: https://pandas.pydata.org/pandas-docs/stable/user_guide/indexing.html#returning-a-view-versus-a-copy\n",
      "  self._setitem_single_column(loc, value, pi)\n"
     ]
    }
   ],
   "source": [
    "df_2017.loc[df_2017['CS_STATUS_JURIDICO'] == 'FEDERAL', 'CS_STATUS_JURIDICO'] = 1\n",
    "df_2017.loc[df_2017['CS_STATUS_JURIDICO'] == 'PARTICULAR', 'CS_STATUS_JURIDICO'] = 2\n",
    "df_2017.loc[df_2017['CS_STATUS_JURIDICO'] == 'ESTADUAL', 'CS_STATUS_JURIDICO'] = 3\n",
    "df_2017.loc[df_2017['CS_STATUS_JURIDICO'] == 'MUNICIPAL', 'CS_STATUS_JURIDICO'] = 0"
   ]
  },
  {
   "cell_type": "code",
   "execution_count": 35,
   "metadata": {},
   "outputs": [
    {
     "data": {
      "text/plain": [
       "array([1, 3, 2, 0], dtype=object)"
      ]
     },
     "execution_count": 35,
     "metadata": {},
     "output_type": "execute_result"
    }
   ],
   "source": [
    "df_2017['CS_STATUS_JURIDICO'].unique()"
   ]
  },
  {
   "cell_type": "code",
   "execution_count": 36,
   "metadata": {
    "colab": {
     "base_uri": "https://localhost:8080/"
    },
    "id": "udi7YWv1xgAx",
    "outputId": "1ff407e2-521f-4a47-9f25-89cb6502bb99"
   },
   "outputs": [
    {
     "data": {
      "text/plain": [
       "array(['NORTE', 'NORDESTE', 'SUDESTE', 'SUL', 'CENTRO-OESTE'],\n",
       "      dtype=object)"
      ]
     },
     "execution_count": 36,
     "metadata": {},
     "output_type": "execute_result"
    }
   ],
   "source": [
    "df_2017['NM_REGIAO'].unique()"
   ]
  },
  {
   "cell_type": "code",
   "execution_count": 37,
   "metadata": {
    "colab": {
     "base_uri": "https://localhost:8080/"
    },
    "id": "bqzfoImbyZxd",
    "outputId": "bedcde3d-89dd-4b1d-db58-177fdb5b78db"
   },
   "outputs": [],
   "source": [
    "df_2017.loc[df_2017['NM_REGIAO'] == 'SUDESTE', 'NM_REGIAO'] = 1\n",
    "df_2017.loc[df_2017['NM_REGIAO'] == 'CENTRO-OESTE', 'NM_REGIAO'] = 2\n",
    "df_2017.loc[df_2017['NM_REGIAO'] == 'NORTE', 'NM_REGIAO'] = 3\n",
    "df_2017.loc[df_2017['NM_REGIAO'] == 'SUL', 'NM_REGIAO'] = 4\n",
    "df_2017.loc[df_2017['NM_REGIAO'] == 'NORDESTE', 'NM_REGIAO'] = 0\n"
   ]
  },
  {
   "cell_type": "code",
   "execution_count": 38,
   "metadata": {},
   "outputs": [
    {
     "data": {
      "text/plain": [
       "array([3, 0, 1, 4, 2], dtype=object)"
      ]
     },
     "execution_count": 38,
     "metadata": {},
     "output_type": "execute_result"
    }
   ],
   "source": [
    "df_2017['NM_REGIAO'].unique()"
   ]
  },
  {
   "cell_type": "code",
   "execution_count": 39,
   "metadata": {
    "colab": {
     "base_uri": "https://localhost:8080/"
    },
    "id": "eDrVEcU30YU_",
    "outputId": "dc9a8b06-2190-454a-d458-43f136939649"
   },
   "outputs": [
    {
     "data": {
      "text/plain": [
       "array(['DISSERTAÇÃO', 'PROJETO TÉCNICO',\n",
       "       'PROJETO DE INOVAÇÃO TECNOLÓGICA',\n",
       "       'MATERIAL DIDÁTICO E INSTRUCIONAL', 'PRODUTO, PROCESSO OU TÉCNICA',\n",
       "       'TESE', 'PUBLICAÇÃO TECNOLÓGICA', 'MANUAL DE OPERAÇÃO TÉCNICA',\n",
       "       'PROTOCOLO EXPERIMENTAL OU DE APLICAÇÃO EM SERVIÇOS', 'PATENTE',\n",
       "       'ESTUDO DE CASO'], dtype=object)"
      ]
     },
     "execution_count": 39,
     "metadata": {},
     "output_type": "execute_result"
    }
   ],
   "source": [
    "df_2017['NM_SUBTIPO_PRODUCAO'].unique()"
   ]
  },
  {
   "cell_type": "code",
   "execution_count": 40,
   "metadata": {
    "colab": {
     "base_uri": "https://localhost:8080/"
    },
    "id": "wpJgtpGq0Fg4",
    "outputId": "ecef90b0-2680-4c85-a7ce-76888c7112bc"
   },
   "outputs": [
    {
     "name": "stderr",
     "output_type": "stream",
     "text": [
      "c:\\users\\andre\\appdata\\local\\programs\\python\\python37\\lib\\site-packages\\ipykernel_launcher.py:9: SettingWithCopyWarning: \n",
      "A value is trying to be set on a copy of a slice from a DataFrame.\n",
      "Try using .loc[row_indexer,col_indexer] = value instead\n",
      "\n",
      "See the caveats in the documentation: https://pandas.pydata.org/pandas-docs/stable/user_guide/indexing.html#returning-a-view-versus-a-copy\n",
      "  if __name__ == '__main__':\n"
     ]
    }
   ],
   "source": [
    "def Muda_valor (col):\n",
    "  data = col[0]\n",
    "  if data == 'DISSERTAÇÃO':\n",
    "    return 1\n",
    "  elif data == 'TESE':\n",
    "    return 2\n",
    "  else:\n",
    "    return 0\n",
    "df_2017['NM_SUBTIPO_PRODUCAO'] =df_2017[['NM_SUBTIPO_PRODUCAO']].apply(Muda_valor, axis =1)"
   ]
  },
  {
   "cell_type": "code",
   "execution_count": 41,
   "metadata": {
    "colab": {
     "base_uri": "https://localhost:8080/"
    },
    "id": "A8uEbnV21kKt",
    "outputId": "5fbbd6f2-6863-460c-efe0-90a6946b584a"
   },
   "outputs": [
    {
     "data": {
      "text/plain": [
       "array([1, 0, 2], dtype=int64)"
      ]
     },
     "execution_count": 41,
     "metadata": {},
     "output_type": "execute_result"
    }
   ],
   "source": [
    "df_2017['NM_SUBTIPO_PRODUCAO'].unique()"
   ]
  },
  {
   "cell_type": "code",
   "execution_count": 42,
   "metadata": {
    "colab": {
     "base_uri": "https://localhost:8080/"
    },
    "id": "eKHSOssn1zgj",
    "outputId": "f7b14326-9794-40ef-eb27-18a1297854d1"
   },
   "outputs": [
    {
     "name": "stdout",
     "output_type": "stream",
     "text": [
      "<class 'pandas.core.frame.DataFrame'>\n",
      "Int64Index: 212 entries, 18 to 3973\n",
      "Data columns (total 48 columns):\n",
      " #   Column                       Non-Null Count  Dtype  \n",
      "---  ------                       --------------  -----  \n",
      " 0   CD_PROGRAMA_IES              212 non-null    object \n",
      " 1   AN_BASE                      212 non-null    int64  \n",
      " 2   IB_Total_docentes            212 non-null    float64\n",
      " 3   IB_Mulheres                  212 non-null    float64\n",
      " 4   IB_Homens                    212 non-null    float64\n",
      " 5   IB_Brasileiros               212 non-null    float64\n",
      " 6   IB_Estrangeiros              212 non-null    float64\n",
      " 7   IB_QTDE_Regime_Parcial       212 non-null    float64\n",
      " 8   IB_QTDE_Regime_Integral      212 non-null    float64\n",
      " 9   IB_QTDE_Regime_Exclusivo     212 non-null    float64\n",
      " 10  IB_QTDE_Prof_Doutor          212 non-null    float64\n",
      " 11  IB_QTDE_Prof_NaoDoutor       212 non-null    float64\n",
      " 12  IB_QTDE_titulados_Brasil     212 non-null    float64\n",
      " 13  IB_QTDE_titulados_Exterior   212 non-null    float64\n",
      " 14  IB_Profs_Colaboradores       212 non-null    float64\n",
      " 15  IB_Profs_ServidoresPublicos  212 non-null    float64\n",
      " 16  IB_Profs_VinculoCLT          212 non-null    float64\n",
      " 17  IB_Profs_Aposentados         212 non-null    float64\n",
      " 18  IB_Profs_BolsaDeFixacao      212 non-null    float64\n",
      " 19  IB_Total_cursos              212 non-null    float64\n",
      " 20  GUS_Lingua_estrangeira       212 non-null    float64\n",
      " 21  AN_NASCIMENTO_DOCENTE        212 non-null    float64\n",
      " 22  GUS_Dis_Homens               212 non-null    float64\n",
      " 23  GUS_Dis_Mulheres             212 non-null    float64\n",
      " 24  GUS_Dis_Brasileiros          212 non-null    float64\n",
      " 25  GUS_Dis_Estrangeiros         212 non-null    float64\n",
      " 26  GUS_diferenca_idade          212 non-null    float64\n",
      " 27  GUS_razao_aluno_prof         212 non-null    float64\n",
      " 28  GUS_Quantidade_Discentes     212 non-null    float64\n",
      " 29  GUS_Dis_Prop_Homens          212 non-null    float64\n",
      " 30  GUS_Dis_Aluno_Tempo          212 non-null    float64\n",
      " 31  QT_MES_TITULACAO             212 non-null    float64\n",
      " 32  GUS_pag_por_aluno            203 non-null    float64\n",
      " 33  CS_STATUS_JURIDICO           212 non-null    object \n",
      " 34  AN_NASCIMENTO_DISCENTE       212 non-null    float64\n",
      " 35  NM_REGIAO                    212 non-null    object \n",
      " 36  SG_UF_PROGRAMA               212 non-null    object \n",
      " 37  CD_CONCEITO_PROGRAMA         212 non-null    int64  \n",
      " 38  UF_Qtd_Proj                  212 non-null    float64\n",
      " 39  UF_Outros projetos           212 non-null    float64\n",
      " 40  UF_Qtd_Financiamentos        212 non-null    float64\n",
      " 41  UF_BOLSA                     212 non-null    float64\n",
      " 42  UF_OUTRO AUXILIO FINANCEIRO  212 non-null    float64\n",
      " 43  CD_AREA_AVALIACAO            212 non-null    int64  \n",
      " 44  ID_SUBTIPO_PRODUCAO          212 non-null    float64\n",
      " 45  NM_SUBTIPO_PRODUCAO          212 non-null    int64  \n",
      " 46  SG_ENTIDADE_ENSINO           212 non-null    object \n",
      " 47  SEM AUXILIO                  212 non-null    float64\n",
      "dtypes: float64(39), int64(4), object(5)\n",
      "memory usage: 81.2+ KB\n"
     ]
    }
   ],
   "source": [
    "df_2017.info()"
   ]
  },
  {
   "cell_type": "code",
   "execution_count": 43,
   "metadata": {
    "colab": {
     "base_uri": "https://localhost:8080/"
    },
    "id": "Q0mVxrQlzCBD",
    "outputId": "16118d6f-23c8-4bc5-c2db-0b0f02a46637"
   },
   "outputs": [
    {
     "name": "stderr",
     "output_type": "stream",
     "text": [
      "c:\\users\\andre\\appdata\\local\\programs\\python\\python37\\lib\\site-packages\\ipykernel_launcher.py:1: FutureWarning: In a future version of pandas all arguments of DataFrame.drop except for the argument 'labels' will be keyword-only\n",
      "  \"\"\"Entry point for launching an IPython kernel.\n",
      "c:\\users\\andre\\appdata\\local\\programs\\python\\python37\\lib\\site-packages\\pandas\\core\\frame.py:4913: SettingWithCopyWarning: \n",
      "A value is trying to be set on a copy of a slice from a DataFrame\n",
      "\n",
      "See the caveats in the documentation: https://pandas.pydata.org/pandas-docs/stable/user_guide/indexing.html#returning-a-view-versus-a-copy\n",
      "  errors=errors,\n",
      "c:\\users\\andre\\appdata\\local\\programs\\python\\python37\\lib\\site-packages\\ipykernel_launcher.py:2: FutureWarning: In a future version of pandas all arguments of DataFrame.drop except for the argument 'labels' will be keyword-only\n",
      "  \n",
      "c:\\users\\andre\\appdata\\local\\programs\\python\\python37\\lib\\site-packages\\ipykernel_launcher.py:3: FutureWarning: In a future version of pandas all arguments of DataFrame.drop except for the argument 'labels' will be keyword-only\n",
      "  This is separate from the ipykernel package so we can avoid doing imports until\n",
      "c:\\users\\andre\\appdata\\local\\programs\\python\\python37\\lib\\site-packages\\ipykernel_launcher.py:4: FutureWarning: In a future version of pandas all arguments of DataFrame.drop except for the argument 'labels' will be keyword-only\n",
      "  after removing the cwd from sys.path.\n"
     ]
    }
   ],
   "source": [
    "df_2017.drop('SG_ENTIDADE_ENSINO', 1,inplace=True)\n",
    "df_2017.drop('SG_UF_PROGRAMA', 1,inplace=True) \n",
    "df_2017.drop('GUS_pag_por_aluno', 1,inplace=True)\n",
    "df_2017.drop('CD_PROGRAMA_IES', 1,inplace=True)  "
   ]
  },
  {
   "cell_type": "code",
   "execution_count": 44,
   "metadata": {
    "colab": {
     "base_uri": "https://localhost:8080/"
    },
    "id": "1GFiH4q23J5W",
    "outputId": "cf700a18-f5a3-4b51-c773-81c522f09fc6"
   },
   "outputs": [
    {
     "name": "stderr",
     "output_type": "stream",
     "text": [
      "c:\\users\\andre\\appdata\\local\\programs\\python\\python37\\lib\\site-packages\\ipykernel_launcher.py:1: FutureWarning: In a future version of pandas all arguments of DataFrame.drop except for the argument 'labels' will be keyword-only\n",
      "  \"\"\"Entry point for launching an IPython kernel.\n"
     ]
    }
   ],
   "source": [
    "df_2017.drop('NM_REGIAO', 1,inplace=True)  "
   ]
  },
  {
   "cell_type": "code",
   "execution_count": 45,
   "metadata": {
    "colab": {
     "base_uri": "https://localhost:8080/"
    },
    "id": "e_s6Kl5V2v9V",
    "outputId": "1351833f-e7da-4f3d-ff2a-45095fdc5e1f"
   },
   "outputs": [
    {
     "name": "stdout",
     "output_type": "stream",
     "text": [
      "<class 'pandas.core.frame.DataFrame'>\n",
      "Int64Index: 212 entries, 18 to 3973\n",
      "Data columns (total 43 columns):\n",
      " #   Column                       Non-Null Count  Dtype  \n",
      "---  ------                       --------------  -----  \n",
      " 0   AN_BASE                      212 non-null    int64  \n",
      " 1   IB_Total_docentes            212 non-null    float64\n",
      " 2   IB_Mulheres                  212 non-null    float64\n",
      " 3   IB_Homens                    212 non-null    float64\n",
      " 4   IB_Brasileiros               212 non-null    float64\n",
      " 5   IB_Estrangeiros              212 non-null    float64\n",
      " 6   IB_QTDE_Regime_Parcial       212 non-null    float64\n",
      " 7   IB_QTDE_Regime_Integral      212 non-null    float64\n",
      " 8   IB_QTDE_Regime_Exclusivo     212 non-null    float64\n",
      " 9   IB_QTDE_Prof_Doutor          212 non-null    float64\n",
      " 10  IB_QTDE_Prof_NaoDoutor       212 non-null    float64\n",
      " 11  IB_QTDE_titulados_Brasil     212 non-null    float64\n",
      " 12  IB_QTDE_titulados_Exterior   212 non-null    float64\n",
      " 13  IB_Profs_Colaboradores       212 non-null    float64\n",
      " 14  IB_Profs_ServidoresPublicos  212 non-null    float64\n",
      " 15  IB_Profs_VinculoCLT          212 non-null    float64\n",
      " 16  IB_Profs_Aposentados         212 non-null    float64\n",
      " 17  IB_Profs_BolsaDeFixacao      212 non-null    float64\n",
      " 18  IB_Total_cursos              212 non-null    float64\n",
      " 19  GUS_Lingua_estrangeira       212 non-null    float64\n",
      " 20  AN_NASCIMENTO_DOCENTE        212 non-null    float64\n",
      " 21  GUS_Dis_Homens               212 non-null    float64\n",
      " 22  GUS_Dis_Mulheres             212 non-null    float64\n",
      " 23  GUS_Dis_Brasileiros          212 non-null    float64\n",
      " 24  GUS_Dis_Estrangeiros         212 non-null    float64\n",
      " 25  GUS_diferenca_idade          212 non-null    float64\n",
      " 26  GUS_razao_aluno_prof         212 non-null    float64\n",
      " 27  GUS_Quantidade_Discentes     212 non-null    float64\n",
      " 28  GUS_Dis_Prop_Homens          212 non-null    float64\n",
      " 29  GUS_Dis_Aluno_Tempo          212 non-null    float64\n",
      " 30  QT_MES_TITULACAO             212 non-null    float64\n",
      " 31  CS_STATUS_JURIDICO           212 non-null    object \n",
      " 32  AN_NASCIMENTO_DISCENTE       212 non-null    float64\n",
      " 33  CD_CONCEITO_PROGRAMA         212 non-null    int64  \n",
      " 34  UF_Qtd_Proj                  212 non-null    float64\n",
      " 35  UF_Outros projetos           212 non-null    float64\n",
      " 36  UF_Qtd_Financiamentos        212 non-null    float64\n",
      " 37  UF_BOLSA                     212 non-null    float64\n",
      " 38  UF_OUTRO AUXILIO FINANCEIRO  212 non-null    float64\n",
      " 39  CD_AREA_AVALIACAO            212 non-null    int64  \n",
      " 40  ID_SUBTIPO_PRODUCAO          212 non-null    float64\n",
      " 41  NM_SUBTIPO_PRODUCAO          212 non-null    int64  \n",
      " 42  SEM AUXILIO                  212 non-null    float64\n",
      "dtypes: float64(38), int64(4), object(1)\n",
      "memory usage: 72.9+ KB\n"
     ]
    }
   ],
   "source": [
    "df_2017.info()"
   ]
  },
  {
   "cell_type": "markdown",
   "metadata": {
    "id": "EkEgZnM93fmf"
   },
   "source": [
    "### Escalonamento "
   ]
  },
  {
   "cell_type": "code",
   "execution_count": 46,
   "metadata": {
    "id": "c6AKWAGN3kYU"
   },
   "outputs": [],
   "source": [
    "from sklearn.preprocessing import StandardScaler\n",
    "from sklearn.decomposition import PCA"
   ]
  },
  {
   "cell_type": "code",
   "execution_count": 47,
   "metadata": {
    "id": "g7LzOBjI3oHz"
   },
   "outputs": [],
   "source": [
    "f_escalonamento= StandardScaler()\n",
    "D_escalonados= f_escalonamento.fit_transform(df_2017)"
   ]
  },
  {
   "cell_type": "code",
   "execution_count": 48,
   "metadata": {
    "id": "AfFshwge36CH"
   },
   "outputs": [],
   "source": [
    "f_PCA= PCA( n_components=2 )\n",
    "d_PCA= f_PCA.fit_transform(df_2017)"
   ]
  },
  {
   "cell_type": "code",
   "execution_count": 49,
   "metadata": {
    "colab": {
     "base_uri": "https://localhost:8080/"
    },
    "id": "EU7bJvxS4BAG",
    "outputId": "2c004d99-957d-49db-a60e-7a8ec1604041"
   },
   "outputs": [
    {
     "data": {
      "text/plain": [
       "array([[  9.60913451, -32.28693705],\n",
       "       [-25.19493918,  -4.33412338],\n",
       "       [ -5.14557536,  20.49938501],\n",
       "       [ -7.84450677, -26.30820502],\n",
       "       [-29.87509362, -27.88775221]])"
      ]
     },
     "execution_count": 49,
     "metadata": {},
     "output_type": "execute_result"
    }
   ],
   "source": [
    "d_PCA[0:5]"
   ]
  },
  {
   "cell_type": "markdown",
   "metadata": {
    "id": "xIJVRQAe4Kz5"
   },
   "source": [
    "### Cotovelo"
   ]
  },
  {
   "cell_type": "code",
   "execution_count": 50,
   "metadata": {
    "id": "LPoi7ajW4Iax"
   },
   "outputs": [],
   "source": [
    "from sklearn.cluster import KMeans"
   ]
  },
  {
   "cell_type": "code",
   "execution_count": 51,
   "metadata": {
    "id": "FcXE_jhC4PYl"
   },
   "outputs": [],
   "source": [
    "distancia = []\n",
    "repeticoes = range(1,20)\n",
    "for x in repeticoes:\n",
    "  modelo = KMeans(n_clusters=x)\n",
    "  modelo.fit(D_escalonados)\n",
    "  distancia.append(modelo.inertia_)"
   ]
  },
  {
   "cell_type": "code",
   "execution_count": 52,
   "metadata": {
    "colab": {
     "base_uri": "https://localhost:8080/"
    },
    "id": "B43qBfoL4YOv",
    "outputId": "ad0e859a-02b8-4249-8980-57418955b400"
   },
   "outputs": [
    {
     "name": "stdout",
     "output_type": "stream",
     "text": [
      "[8692.0, 6961.668018486746, 6431.527414364396, 5849.9471071240705, 5435.443004223593, 5240.903669459207, 4894.663298043144, 4628.856675301094, 4467.725727928739, 4249.576593299396, 4148.0771943193, 3903.3568979750276, 3755.3182950414007, 3621.115304918957, 3523.118048738703, 3414.805944998584, 3242.70018882866, 3192.695227686592, 3116.5594068640744]\n"
     ]
    }
   ],
   "source": [
    "print(distancia)"
   ]
  },
  {
   "cell_type": "code",
   "execution_count": 53,
   "metadata": {
    "colab": {
     "base_uri": "https://localhost:8080/",
     "height": 530
    },
    "id": "5LGQA5Sd4f0u",
    "outputId": "300a2c04-60a8-4ae0-fa3a-dfc7aa6ba32a"
   },
   "outputs": [
    {
     "data": {
      "text/plain": [
       "Text(0, 0.5, 'distancia do cluster')"
      ]
     },
     "execution_count": 53,
     "metadata": {},
     "output_type": "execute_result"
    },
    {
     "data": {
      "image/png": "[encoded data removed]",
      "text/plain": [
       "<Figure size 720x576 with 1 Axes>"
      ]
     },
     "metadata": {
      "needs_background": "light"
     },
     "output_type": "display_data"
    }
   ],
   "source": [
    "plt.figure(figsize=(10,8))\n",
    "plt.title('Curva de cluster')\n",
    "plt.plot(distancia, 'bx-')\n",
    "plt.xlabel('cluster')\n",
    "plt.ylabel('distancia do cluster')"
   ]
  },
  {
   "cell_type": "code",
   "execution_count": 54,
   "metadata": {
    "id": "hIskg5-94j8k"
   },
   "outputs": [],
   "source": [
    "import math\n",
    "def optimal_number_of_clusters(wcss):\n",
    "    x1, y1 = 2, wcss[0]\n",
    "    x2, y2 = 20, wcss[len(wcss)-1]\n",
    "\n",
    "    distances = []\n",
    "    for i in range(len(wcss)):\n",
    "        x0 = i+2\n",
    "        y0 = wcss[i]\n",
    "        numerator = abs((y2-y1)*x0 - (x2-x1)*y0 + x2*y1 - y2*x1)\n",
    "        denominator = math.sqrt((y2 - y1)**2 + (x2 - x1)**2)\n",
    "        distances.append(numerator/denominator)\n",
    "    \n",
    "    return distances.index(max(distances)) + 2"
   ]
  },
  {
   "cell_type": "code",
   "execution_count": 55,
   "metadata": {
    "colab": {
     "base_uri": "https://localhost:8080/"
    },
    "id": "88a72rfy4vMl",
    "outputId": "fe5672b7-8ac9-4ebe-8c4e-d725abaeadfd"
   },
   "outputs": [
    {
     "data": {
      "text/plain": [
       "6"
      ]
     },
     "execution_count": 55,
     "metadata": {},
     "output_type": "execute_result"
    }
   ],
   "source": [
    "optimal_number_of_clusters(distancia)"
   ]
  },
  {
   "cell_type": "markdown",
   "metadata": {
    "id": "2UwWlOqG42Dg"
   },
   "source": [
    "### Clusterização"
   ]
  },
  {
   "cell_type": "code",
   "execution_count": 56,
   "metadata": {
    "id": "HBoxmp1143ld"
   },
   "outputs": [],
   "source": [
    "modelo=KMeans(n_clusters=6)\n",
    "modelo.fit(D_escalonados)\n",
    "centroides= modelo.cluster_centers_"
   ]
  },
  {
   "cell_type": "code",
   "execution_count": 57,
   "metadata": {
    "id": "5C1fatBv46aV"
   },
   "outputs": [],
   "source": [
    "rotulos = modelo"
   ]
  },
  {
   "cell_type": "code",
   "execution_count": 58,
   "metadata": {
    "colab": {
     "base_uri": "https://localhost:8080/"
    },
    "id": "f34ZJI1f6eHG",
    "outputId": "58b90254-7723-48b5-cce6-d4c719b2b479"
   },
   "outputs": [
    {
     "data": {
      "text/plain": [
       "KMeans(n_clusters=6)"
      ]
     },
     "execution_count": 58,
     "metadata": {},
     "output_type": "execute_result"
    }
   ],
   "source": [
    "rotulos"
   ]
  },
  {
   "cell_type": "code",
   "execution_count": 59,
   "metadata": {
    "id": "bW94y5rh488R"
   },
   "outputs": [],
   "source": [
    "B_PCA=pd.DataFrame(data = d_PCA, columns=['Eixo_1', 'Eixo_2'])"
   ]
  },
  {
   "cell_type": "code",
   "execution_count": 60,
   "metadata": {
    "colab": {
     "base_uri": "https://localhost:8080/",
     "height": 206
    },
    "id": "IOtAmjKr6CSb",
    "outputId": "3217064c-831e-43a1-eee8-146cfbcf9294"
   },
   "outputs": [
    {
     "data": {
      "text/html": [
       "<div>\n",
       "<style scoped>\n",
       "    .dataframe tbody tr th:only-of-type {\n",
       "        vertical-align: middle;\n",
       "    }\n",
       "\n",
       "    .dataframe tbody tr th {\n",
       "        vertical-align: top;\n",
       "    }\n",
       "\n",
       "    .dataframe thead th {\n",
       "        text-align: right;\n",
       "    }\n",
       "</style>\n",
       "<table border=\"1\" class=\"dataframe\">\n",
       "  <thead>\n",
       "    <tr style=\"text-align: right;\">\n",
       "      <th></th>\n",
       "      <th>Eixo_1</th>\n",
       "      <th>Eixo_2</th>\n",
       "    </tr>\n",
       "  </thead>\n",
       "  <tbody>\n",
       "    <tr>\n",
       "      <th>0</th>\n",
       "      <td>9.609135</td>\n",
       "      <td>-32.286937</td>\n",
       "    </tr>\n",
       "    <tr>\n",
       "      <th>1</th>\n",
       "      <td>-25.194939</td>\n",
       "      <td>-4.334123</td>\n",
       "    </tr>\n",
       "    <tr>\n",
       "      <th>2</th>\n",
       "      <td>-5.145575</td>\n",
       "      <td>20.499385</td>\n",
       "    </tr>\n",
       "    <tr>\n",
       "      <th>3</th>\n",
       "      <td>-7.844507</td>\n",
       "      <td>-26.308205</td>\n",
       "    </tr>\n",
       "    <tr>\n",
       "      <th>4</th>\n",
       "      <td>-29.875094</td>\n",
       "      <td>-27.887752</td>\n",
       "    </tr>\n",
       "  </tbody>\n",
       "</table>\n",
       "</div>"
      ],
      "text/plain": [
       "      Eixo_1     Eixo_2\n",
       "0   9.609135 -32.286937\n",
       "1 -25.194939  -4.334123\n",
       "2  -5.145575  20.499385\n",
       "3  -7.844507 -26.308205\n",
       "4 -29.875094 -27.887752"
      ]
     },
     "execution_count": 60,
     "metadata": {},
     "output_type": "execute_result"
    }
   ],
   "source": [
    "B_PCA.head()"
   ]
  },
  {
   "cell_type": "code",
   "execution_count": 61,
   "metadata": {
    "colab": {
     "base_uri": "https://localhost:8080/",
     "height": 531
    },
    "id": "YMMzBYMO4_wn",
    "outputId": "bd9dff03-2e6c-4c9f-8dd1-c0972ff823f9"
   },
   "outputs": [
    {
     "data": {
      "text/plain": [
       "<AxesSubplot:title={'center':'grafico'}, xlabel='Eixo_1', ylabel='Eixo_2'>"
      ]
     },
     "execution_count": 61,
     "metadata": {},
     "output_type": "execute_result"
    },
    {
     "data": {
      "image/png": "[encoded data removed]",
      "text/plain": [
       "<Figure size 720x576 with 1 Axes>"
      ]
     },
     "metadata": {
      "needs_background": "light"
     },
     "output_type": "display_data"
    }
   ],
   "source": [
    "plt.figure(figsize=(10,8))\n",
    "plt.title('grafico')\n",
    "sns.scatterplot(x='Eixo_1', y = 'Eixo_2', data = B_PCA)"
   ]
  },
  {
   "cell_type": "code",
   "execution_count": null,
   "metadata": {
    "colab": {
     "base_uri": "https://localhost:8080/",
     "height": 328
    },
    "id": "RFas9XaN5RVs",
    "outputId": "340b1c19-eeaf-440e-9554-0dc05ddcb59d"
   },
   "outputs": [
    {
     "ename": "ValueError",
     "evalue": "ignored",
     "output_type": "error",
     "traceback": [
      "\u001b[0;31m---------------------------------------------------------------------------\u001b[0m",
      "\u001b[0;31mValueError\u001b[0m                                Traceback (most recent call last)",
      "\u001b[0;32m<ipython-input-278-f50e05c6434c>\u001b[0m in \u001b[0;36m<module>\u001b[0;34m()\u001b[0m\n\u001b[0;32m----> 1\u001b[0;31m \u001b[0mA\u001b[0m \u001b[0;34m=\u001b[0m \u001b[0mpd\u001b[0m\u001b[0;34m.\u001b[0m\u001b[0mconcat\u001b[0m\u001b[0;34m(\u001b[0m\u001b[0;34m[\u001b[0m\u001b[0mB_PCA\u001b[0m\u001b[0;34m,\u001b[0m \u001b[0mpd\u001b[0m\u001b[0;34m.\u001b[0m\u001b[0mDataFrame\u001b[0m\u001b[0;34m(\u001b[0m\u001b[0;34m{\u001b[0m\u001b[0;34m'Cluster'\u001b[0m\u001b[0;34m:\u001b[0m \u001b[0mrotulos\u001b[0m\u001b[0;34m}\u001b[0m\u001b[0;34m)\u001b[0m\u001b[0;34m]\u001b[0m\u001b[0;34m)\u001b[0m\u001b[0;34m\u001b[0m\u001b[0;34m\u001b[0m\u001b[0m\n\u001b[0m\u001b[1;32m      2\u001b[0m \u001b[0mA\u001b[0m\u001b[0;34m.\u001b[0m\u001b[0mhead\u001b[0m\u001b[0;34m(\u001b[0m\u001b[0;34m)\u001b[0m\u001b[0;34m\u001b[0m\u001b[0;34m\u001b[0m\u001b[0m\n",
      "\u001b[0;32m/usr/local/lib/python3.7/dist-packages/pandas/core/frame.py\u001b[0m in \u001b[0;36m__init__\u001b[0;34m(self, data, index, columns, dtype, copy)\u001b[0m\n\u001b[1;32m    612\u001b[0m         \u001b[0;32melif\u001b[0m \u001b[0misinstance\u001b[0m\u001b[0;34m(\u001b[0m\u001b[0mdata\u001b[0m\u001b[0;34m,\u001b[0m \u001b[0mdict\u001b[0m\u001b[0;34m)\u001b[0m\u001b[0;34m:\u001b[0m\u001b[0;34m\u001b[0m\u001b[0;34m\u001b[0m\u001b[0m\n\u001b[1;32m    613\u001b[0m             \u001b[0;31m# GH#38939 de facto copy defaults to False only in non-dict cases\u001b[0m\u001b[0;34m\u001b[0m\u001b[0;34m\u001b[0m\u001b[0;34m\u001b[0m\u001b[0m\n\u001b[0;32m--> 614\u001b[0;31m             \u001b[0mmgr\u001b[0m \u001b[0;34m=\u001b[0m \u001b[0mdict_to_mgr\u001b[0m\u001b[0;34m(\u001b[0m\u001b[0mdata\u001b[0m\u001b[0;34m,\u001b[0m \u001b[0mindex\u001b[0m\u001b[0;34m,\u001b[0m \u001b[0mcolumns\u001b[0m\u001b[0;34m,\u001b[0m \u001b[0mdtype\u001b[0m\u001b[0;34m=\u001b[0m\u001b[0mdtype\u001b[0m\u001b[0;34m,\u001b[0m \u001b[0mcopy\u001b[0m\u001b[0;34m=\u001b[0m\u001b[0mcopy\u001b[0m\u001b[0;34m,\u001b[0m \u001b[0mtyp\u001b[0m\u001b[0;34m=\u001b[0m\u001b[0mmanager\u001b[0m\u001b[0;34m)\u001b[0m\u001b[0;34m\u001b[0m\u001b[0;34m\u001b[0m\u001b[0m\n\u001b[0m\u001b[1;32m    615\u001b[0m         \u001b[0;32melif\u001b[0m \u001b[0misinstance\u001b[0m\u001b[0;34m(\u001b[0m\u001b[0mdata\u001b[0m\u001b[0;34m,\u001b[0m \u001b[0mma\u001b[0m\u001b[0;34m.\u001b[0m\u001b[0mMaskedArray\u001b[0m\u001b[0;34m)\u001b[0m\u001b[0;34m:\u001b[0m\u001b[0;34m\u001b[0m\u001b[0;34m\u001b[0m\u001b[0m\n\u001b[1;32m    616\u001b[0m             \u001b[0;32mimport\u001b[0m \u001b[0mnumpy\u001b[0m\u001b[0;34m.\u001b[0m\u001b[0mma\u001b[0m\u001b[0;34m.\u001b[0m\u001b[0mmrecords\u001b[0m \u001b[0;32mas\u001b[0m \u001b[0mmrecords\u001b[0m\u001b[0;34m\u001b[0m\u001b[0;34m\u001b[0m\u001b[0m\n",
      "\u001b[0;32m/usr/local/lib/python3.7/dist-packages/pandas/core/internals/construction.py\u001b[0m in \u001b[0;36mdict_to_mgr\u001b[0;34m(data, index, columns, dtype, typ, copy)\u001b[0m\n\u001b[1;32m    463\u001b[0m \u001b[0;34m\u001b[0m\u001b[0m\n\u001b[1;32m    464\u001b[0m     return arrays_to_mgr(\n\u001b[0;32m--> 465\u001b[0;31m         \u001b[0marrays\u001b[0m\u001b[0;34m,\u001b[0m \u001b[0mdata_names\u001b[0m\u001b[0;34m,\u001b[0m \u001b[0mindex\u001b[0m\u001b[0;34m,\u001b[0m \u001b[0mcolumns\u001b[0m\u001b[0;34m,\u001b[0m \u001b[0mdtype\u001b[0m\u001b[0;34m=\u001b[0m\u001b[0mdtype\u001b[0m\u001b[0;34m,\u001b[0m \u001b[0mtyp\u001b[0m\u001b[0;34m=\u001b[0m\u001b[0mtyp\u001b[0m\u001b[0;34m,\u001b[0m \u001b[0mconsolidate\u001b[0m\u001b[0;34m=\u001b[0m\u001b[0mcopy\u001b[0m\u001b[0;34m\u001b[0m\u001b[0;34m\u001b[0m\u001b[0m\n\u001b[0m\u001b[1;32m    466\u001b[0m     )\n\u001b[1;32m    467\u001b[0m \u001b[0;34m\u001b[0m\u001b[0m\n",
      "\u001b[0;32m/usr/local/lib/python3.7/dist-packages/pandas/core/internals/construction.py\u001b[0m in \u001b[0;36marrays_to_mgr\u001b[0;34m(arrays, arr_names, index, columns, dtype, verify_integrity, typ, consolidate)\u001b[0m\n\u001b[1;32m    117\u001b[0m         \u001b[0;31m# figure out the index, if necessary\u001b[0m\u001b[0;34m\u001b[0m\u001b[0;34m\u001b[0m\u001b[0;34m\u001b[0m\u001b[0m\n\u001b[1;32m    118\u001b[0m         \u001b[0;32mif\u001b[0m \u001b[0mindex\u001b[0m \u001b[0;32mis\u001b[0m \u001b[0;32mNone\u001b[0m\u001b[0;34m:\u001b[0m\u001b[0;34m\u001b[0m\u001b[0;34m\u001b[0m\u001b[0m\n\u001b[0;32m--> 119\u001b[0;31m             \u001b[0mindex\u001b[0m \u001b[0;34m=\u001b[0m \u001b[0m_extract_index\u001b[0m\u001b[0;34m(\u001b[0m\u001b[0marrays\u001b[0m\u001b[0;34m)\u001b[0m\u001b[0;34m\u001b[0m\u001b[0;34m\u001b[0m\u001b[0m\n\u001b[0m\u001b[1;32m    120\u001b[0m         \u001b[0;32melse\u001b[0m\u001b[0;34m:\u001b[0m\u001b[0;34m\u001b[0m\u001b[0;34m\u001b[0m\u001b[0m\n\u001b[1;32m    121\u001b[0m             \u001b[0mindex\u001b[0m \u001b[0;34m=\u001b[0m \u001b[0mensure_index\u001b[0m\u001b[0;34m(\u001b[0m\u001b[0mindex\u001b[0m\u001b[0;34m)\u001b[0m\u001b[0;34m\u001b[0m\u001b[0;34m\u001b[0m\u001b[0m\n",
      "\u001b[0;32m/usr/local/lib/python3.7/dist-packages/pandas/core/internals/construction.py\u001b[0m in \u001b[0;36m_extract_index\u001b[0;34m(data)\u001b[0m\n\u001b[1;32m    623\u001b[0m \u001b[0;34m\u001b[0m\u001b[0m\n\u001b[1;32m    624\u001b[0m         \u001b[0;32mif\u001b[0m \u001b[0;32mnot\u001b[0m \u001b[0mindexes\u001b[0m \u001b[0;32mand\u001b[0m \u001b[0;32mnot\u001b[0m \u001b[0mraw_lengths\u001b[0m\u001b[0;34m:\u001b[0m\u001b[0;34m\u001b[0m\u001b[0;34m\u001b[0m\u001b[0m\n\u001b[0;32m--> 625\u001b[0;31m             \u001b[0;32mraise\u001b[0m \u001b[0mValueError\u001b[0m\u001b[0;34m(\u001b[0m\u001b[0;34m\"If using all scalar values, you must pass an index\"\u001b[0m\u001b[0;34m)\u001b[0m\u001b[0;34m\u001b[0m\u001b[0;34m\u001b[0m\u001b[0m\n\u001b[0m\u001b[1;32m    626\u001b[0m \u001b[0;34m\u001b[0m\u001b[0m\n\u001b[1;32m    627\u001b[0m         \u001b[0;32mif\u001b[0m \u001b[0mhave_series\u001b[0m\u001b[0;34m:\u001b[0m\u001b[0;34m\u001b[0m\u001b[0;34m\u001b[0m\u001b[0m\n",
      "\u001b[0;31mValueError\u001b[0m: If using all scalar values, you must pass an index"
     ]
    }
   ],
   "source": [
    "#erro ainda não identificado \n",
    "A = pd.concat([B_PCA, pd.DataFrame({'Cluster': rotulos})])\n",
    "A.head()"
   ]
  },
  {
   "cell_type": "code",
   "execution_count": null,
   "metadata": {
    "colab": {
     "base_uri": "https://localhost:8080/",
     "height": 827
    },
    "id": "ri8ZGFEy5DEG",
    "outputId": "b12a9cc3-e470-4cde-ee02-63c64678f514"
   },
   "outputs": [
    {
     "ename": "ValueError",
     "evalue": "ignored",
     "output_type": "error",
     "traceback": [
      "\u001b[0;31m---------------------------------------------------------------------------\u001b[0m",
      "\u001b[0;31mValueError\u001b[0m                                Traceback (most recent call last)",
      "\u001b[0;32m<ipython-input-207-bb75dbe95b62>\u001b[0m in \u001b[0;36m<module>\u001b[0;34m()\u001b[0m\n\u001b[1;32m      2\u001b[0m \u001b[0mplt\u001b[0m\u001b[0;34m.\u001b[0m\u001b[0mfigure\u001b[0m\u001b[0;34m(\u001b[0m\u001b[0mfigsize\u001b[0m\u001b[0;34m=\u001b[0m\u001b[0;34m(\u001b[0m\u001b[0;36m10\u001b[0m\u001b[0;34m,\u001b[0m\u001b[0;36m8\u001b[0m\u001b[0;34m)\u001b[0m\u001b[0;34m)\u001b[0m\u001b[0;34m\u001b[0m\u001b[0;34m\u001b[0m\u001b[0m\n\u001b[1;32m      3\u001b[0m \u001b[0mplt\u001b[0m\u001b[0;34m.\u001b[0m\u001b[0mtitle\u001b[0m\u001b[0;34m(\u001b[0m\u001b[0;34m'DADOS'\u001b[0m\u001b[0;34m)\u001b[0m\u001b[0;34m\u001b[0m\u001b[0;34m\u001b[0m\u001b[0m\n\u001b[0;32m----> 4\u001b[0;31m \u001b[0msns\u001b[0m\u001b[0;34m.\u001b[0m\u001b[0mscatterplot\u001b[0m\u001b[0;34m(\u001b[0m\u001b[0mx\u001b[0m\u001b[0;34m=\u001b[0m\u001b[0;34m'Eixo_1'\u001b[0m\u001b[0;34m,\u001b[0m \u001b[0my\u001b[0m \u001b[0;34m=\u001b[0m\u001b[0;34m'Eixo_2'\u001b[0m\u001b[0;34m,\u001b[0m \u001b[0mhue\u001b[0m\u001b[0;34m=\u001b[0m\u001b[0;34m'Cluster'\u001b[0m\u001b[0;34m,\u001b[0m \u001b[0mdata\u001b[0m \u001b[0;34m=\u001b[0m \u001b[0mB_PCA\u001b[0m\u001b[0;34m,\u001b[0m \u001b[0mpalette\u001b[0m\u001b[0;34m=\u001b[0m\u001b[0mpaletas_cores\u001b[0m\u001b[0;34m[\u001b[0m\u001b[0;36m0\u001b[0m\u001b[0;34m:\u001b[0m\u001b[0;36m6\u001b[0m\u001b[0;34m]\u001b[0m \u001b[0;34m)\u001b[0m\u001b[0;34m\u001b[0m\u001b[0;34m\u001b[0m\u001b[0m\n\u001b[0m",
      "\u001b[0;32m/usr/local/lib/python3.7/dist-packages/seaborn/_decorators.py\u001b[0m in \u001b[0;36minner_f\u001b[0;34m(*args, **kwargs)\u001b[0m\n\u001b[1;32m     44\u001b[0m             )\n\u001b[1;32m     45\u001b[0m         \u001b[0mkwargs\u001b[0m\u001b[0;34m.\u001b[0m\u001b[0mupdate\u001b[0m\u001b[0;34m(\u001b[0m\u001b[0;34m{\u001b[0m\u001b[0mk\u001b[0m\u001b[0;34m:\u001b[0m \u001b[0marg\u001b[0m \u001b[0;32mfor\u001b[0m \u001b[0mk\u001b[0m\u001b[0;34m,\u001b[0m \u001b[0marg\u001b[0m \u001b[0;32min\u001b[0m \u001b[0mzip\u001b[0m\u001b[0;34m(\u001b[0m\u001b[0msig\u001b[0m\u001b[0;34m.\u001b[0m\u001b[0mparameters\u001b[0m\u001b[0;34m,\u001b[0m \u001b[0margs\u001b[0m\u001b[0;34m)\u001b[0m\u001b[0;34m}\u001b[0m\u001b[0;34m)\u001b[0m\u001b[0;34m\u001b[0m\u001b[0;34m\u001b[0m\u001b[0m\n\u001b[0;32m---> 46\u001b[0;31m         \u001b[0;32mreturn\u001b[0m \u001b[0mf\u001b[0m\u001b[0;34m(\u001b[0m\u001b[0;34m**\u001b[0m\u001b[0mkwargs\u001b[0m\u001b[0;34m)\u001b[0m\u001b[0;34m\u001b[0m\u001b[0;34m\u001b[0m\u001b[0m\n\u001b[0m\u001b[1;32m     47\u001b[0m     \u001b[0;32mreturn\u001b[0m \u001b[0minner_f\u001b[0m\u001b[0;34m\u001b[0m\u001b[0;34m\u001b[0m\u001b[0m\n\u001b[1;32m     48\u001b[0m \u001b[0;34m\u001b[0m\u001b[0m\n",
      "\u001b[0;32m/usr/local/lib/python3.7/dist-packages/seaborn/relational.py\u001b[0m in \u001b[0;36mscatterplot\u001b[0;34m(x, y, hue, style, size, data, palette, hue_order, hue_norm, sizes, size_order, size_norm, markers, style_order, x_bins, y_bins, units, estimator, ci, n_boot, alpha, x_jitter, y_jitter, legend, ax, **kwargs)\u001b[0m\n\u001b[1;32m    810\u001b[0m         \u001b[0mx_bins\u001b[0m\u001b[0;34m=\u001b[0m\u001b[0mx_bins\u001b[0m\u001b[0;34m,\u001b[0m \u001b[0my_bins\u001b[0m\u001b[0;34m=\u001b[0m\u001b[0my_bins\u001b[0m\u001b[0;34m,\u001b[0m\u001b[0;34m\u001b[0m\u001b[0;34m\u001b[0m\u001b[0m\n\u001b[1;32m    811\u001b[0m         \u001b[0mestimator\u001b[0m\u001b[0;34m=\u001b[0m\u001b[0mestimator\u001b[0m\u001b[0;34m,\u001b[0m \u001b[0mci\u001b[0m\u001b[0;34m=\u001b[0m\u001b[0mci\u001b[0m\u001b[0;34m,\u001b[0m \u001b[0mn_boot\u001b[0m\u001b[0;34m=\u001b[0m\u001b[0mn_boot\u001b[0m\u001b[0;34m,\u001b[0m\u001b[0;34m\u001b[0m\u001b[0;34m\u001b[0m\u001b[0m\n\u001b[0;32m--> 812\u001b[0;31m         \u001b[0malpha\u001b[0m\u001b[0;34m=\u001b[0m\u001b[0malpha\u001b[0m\u001b[0;34m,\u001b[0m \u001b[0mx_jitter\u001b[0m\u001b[0;34m=\u001b[0m\u001b[0mx_jitter\u001b[0m\u001b[0;34m,\u001b[0m \u001b[0my_jitter\u001b[0m\u001b[0;34m=\u001b[0m\u001b[0my_jitter\u001b[0m\u001b[0;34m,\u001b[0m \u001b[0mlegend\u001b[0m\u001b[0;34m=\u001b[0m\u001b[0mlegend\u001b[0m\u001b[0;34m,\u001b[0m\u001b[0;34m\u001b[0m\u001b[0;34m\u001b[0m\u001b[0m\n\u001b[0m\u001b[1;32m    813\u001b[0m     )\n\u001b[1;32m    814\u001b[0m \u001b[0;34m\u001b[0m\u001b[0m\n",
      "\u001b[0;32m/usr/local/lib/python3.7/dist-packages/seaborn/relational.py\u001b[0m in \u001b[0;36m__init__\u001b[0;34m(self, data, variables, x_bins, y_bins, estimator, ci, n_boot, alpha, x_jitter, y_jitter, legend)\u001b[0m\n\u001b[1;32m    585\u001b[0m         )\n\u001b[1;32m    586\u001b[0m \u001b[0;34m\u001b[0m\u001b[0m\n\u001b[0;32m--> 587\u001b[0;31m         \u001b[0msuper\u001b[0m\u001b[0;34m(\u001b[0m\u001b[0;34m)\u001b[0m\u001b[0;34m.\u001b[0m\u001b[0m__init__\u001b[0m\u001b[0;34m(\u001b[0m\u001b[0mdata\u001b[0m\u001b[0;34m=\u001b[0m\u001b[0mdata\u001b[0m\u001b[0;34m,\u001b[0m \u001b[0mvariables\u001b[0m\u001b[0;34m=\u001b[0m\u001b[0mvariables\u001b[0m\u001b[0;34m)\u001b[0m\u001b[0;34m\u001b[0m\u001b[0;34m\u001b[0m\u001b[0m\n\u001b[0m\u001b[1;32m    588\u001b[0m \u001b[0;34m\u001b[0m\u001b[0m\n\u001b[1;32m    589\u001b[0m         \u001b[0mself\u001b[0m\u001b[0;34m.\u001b[0m\u001b[0malpha\u001b[0m \u001b[0;34m=\u001b[0m \u001b[0malpha\u001b[0m\u001b[0;34m\u001b[0m\u001b[0;34m\u001b[0m\u001b[0m\n",
      "\u001b[0;32m/usr/local/lib/python3.7/dist-packages/seaborn/_core.py\u001b[0m in \u001b[0;36m__init__\u001b[0;34m(self, data, variables)\u001b[0m\n\u001b[1;32m    603\u001b[0m     \u001b[0;32mdef\u001b[0m \u001b[0m__init__\u001b[0m\u001b[0;34m(\u001b[0m\u001b[0mself\u001b[0m\u001b[0;34m,\u001b[0m \u001b[0mdata\u001b[0m\u001b[0;34m=\u001b[0m\u001b[0;32mNone\u001b[0m\u001b[0;34m,\u001b[0m \u001b[0mvariables\u001b[0m\u001b[0;34m=\u001b[0m\u001b[0;34m{\u001b[0m\u001b[0;34m}\u001b[0m\u001b[0;34m)\u001b[0m\u001b[0;34m:\u001b[0m\u001b[0;34m\u001b[0m\u001b[0;34m\u001b[0m\u001b[0m\n\u001b[1;32m    604\u001b[0m \u001b[0;34m\u001b[0m\u001b[0m\n\u001b[0;32m--> 605\u001b[0;31m         \u001b[0mself\u001b[0m\u001b[0;34m.\u001b[0m\u001b[0massign_variables\u001b[0m\u001b[0;34m(\u001b[0m\u001b[0mdata\u001b[0m\u001b[0;34m,\u001b[0m \u001b[0mvariables\u001b[0m\u001b[0;34m)\u001b[0m\u001b[0;34m\u001b[0m\u001b[0;34m\u001b[0m\u001b[0m\n\u001b[0m\u001b[1;32m    606\u001b[0m \u001b[0;34m\u001b[0m\u001b[0m\n\u001b[1;32m    607\u001b[0m         \u001b[0;32mfor\u001b[0m \u001b[0mvar\u001b[0m\u001b[0;34m,\u001b[0m \u001b[0mcls\u001b[0m \u001b[0;32min\u001b[0m \u001b[0mself\u001b[0m\u001b[0;34m.\u001b[0m\u001b[0m_semantic_mappings\u001b[0m\u001b[0;34m.\u001b[0m\u001b[0mitems\u001b[0m\u001b[0;34m(\u001b[0m\u001b[0;34m)\u001b[0m\u001b[0;34m:\u001b[0m\u001b[0;34m\u001b[0m\u001b[0;34m\u001b[0m\u001b[0m\n",
      "\u001b[0;32m/usr/local/lib/python3.7/dist-packages/seaborn/_core.py\u001b[0m in \u001b[0;36massign_variables\u001b[0;34m(self, data, variables)\u001b[0m\n\u001b[1;32m    667\u001b[0m             \u001b[0mself\u001b[0m\u001b[0;34m.\u001b[0m\u001b[0minput_format\u001b[0m \u001b[0;34m=\u001b[0m \u001b[0;34m\"long\"\u001b[0m\u001b[0;34m\u001b[0m\u001b[0;34m\u001b[0m\u001b[0m\n\u001b[1;32m    668\u001b[0m             plot_data, variables = self._assign_variables_longform(\n\u001b[0;32m--> 669\u001b[0;31m                 \u001b[0mdata\u001b[0m\u001b[0;34m,\u001b[0m \u001b[0;34m**\u001b[0m\u001b[0mvariables\u001b[0m\u001b[0;34m,\u001b[0m\u001b[0;34m\u001b[0m\u001b[0;34m\u001b[0m\u001b[0m\n\u001b[0m\u001b[1;32m    670\u001b[0m             )\n\u001b[1;32m    671\u001b[0m \u001b[0;34m\u001b[0m\u001b[0m\n",
      "\u001b[0;32m/usr/local/lib/python3.7/dist-packages/seaborn/_core.py\u001b[0m in \u001b[0;36m_assign_variables_longform\u001b[0;34m(self, data, **kwargs)\u001b[0m\n\u001b[1;32m    901\u001b[0m \u001b[0;34m\u001b[0m\u001b[0m\n\u001b[1;32m    902\u001b[0m                 \u001b[0merr\u001b[0m \u001b[0;34m=\u001b[0m \u001b[0;34mf\"Could not interpret value `{val}` for parameter `{key}`\"\u001b[0m\u001b[0;34m\u001b[0m\u001b[0;34m\u001b[0m\u001b[0m\n\u001b[0;32m--> 903\u001b[0;31m                 \u001b[0;32mraise\u001b[0m \u001b[0mValueError\u001b[0m\u001b[0;34m(\u001b[0m\u001b[0merr\u001b[0m\u001b[0;34m)\u001b[0m\u001b[0;34m\u001b[0m\u001b[0;34m\u001b[0m\u001b[0m\n\u001b[0m\u001b[1;32m    904\u001b[0m \u001b[0;34m\u001b[0m\u001b[0m\n\u001b[1;32m    905\u001b[0m             \u001b[0;32melse\u001b[0m\u001b[0;34m:\u001b[0m\u001b[0;34m\u001b[0m\u001b[0;34m\u001b[0m\u001b[0m\n",
      "\u001b[0;31mValueError\u001b[0m: Could not interpret value `Cluster` for parameter `hue`"
     ]
    },
    {
     "data": {
      "image/png": "[encoded data removed]",
      "text/plain": [
       "<Figure size 720x576 with 1 Axes>"
      ]
     },
     "metadata": {
      "needs_background": "light"
     },
     "output_type": "display_data"
    }
   ],
   "source": [
    "paletas_cores =['red', 'green', 'blue', 'yellow', 'pink', 'gray','purple']\n",
    "plt.figure(figsize=(10,8))\n",
    "plt.title('DADOS')\n",
    "sns.scatterplot(x='Eixo_1', y ='Eixo_2', hue='Cluster', data = A, palette=paletas_cores[0:6] )"
   ]
  }
 ],
 "metadata": {
  "colab": {
   "collapsed_sections": [
    "RX8KG-AScX2d",
    "r3tABI4bqSDt",
    "50rvHvAuK7bz"
   ],
   "name": "features_duplicadas.ipynb",
   "provenance": []
  },
  "kernelspec": {
   "display_name": "Python 3 (ipykernel)",
   "language": "python",
   "name": "python3"
  },
  "language_info": {
   "codemirror_mode": {
    "name": "ipython",
    "version": 3
   },
   "file_extension": ".py",
   "mimetype": "text/x-python",
   "name": "python",
   "nbconvert_exporter": "python",
   "pygments_lexer": "ipython3",
   "version": "3.7.8"
  }
 },
 "nbformat": 4,
 "nbformat_minor": 1
}
