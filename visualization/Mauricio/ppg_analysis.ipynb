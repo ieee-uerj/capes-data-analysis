{
 "cells": [
  {
   "cell_type": "markdown",
   "id": "55e1d040-8f03-478a-83b1-a595a38fe2be",
   "metadata": {},
   "source": [
    "# Programas Analysis"
   ]
  },
  {
   "cell_type": "markdown",
   "id": "2252c394-962e-4696-b82c-8cb52e7594e4",
   "metadata": {},
   "source": [
    "## Importando"
   ]
  },
  {
   "cell_type": "code",
   "execution_count": 1,
   "id": "ef5a551f-aae5-43e2-af47-0a730dc4e626",
   "metadata": {},
   "outputs": [],
   "source": [
    "import pandas as pd\n",
    "import numpy as np\n",
    "import matplotlib.pyplot as plt\n",
    "import seaborn as sns\n",
    "%matplotlib inline\n",
    "\n",
    "pd.set_option('display.max_columns', None)\n",
    "\n",
    "sns.set_palette(\"Dark2\")"
   ]
  },
  {
   "cell_type": "code",
   "execution_count": 11,
   "id": "f19e136c-ae59-4550-90b7-0e69416d3529",
   "metadata": {},
   "outputs": [],
   "source": [
    "uri = 'https://github.com/ieee-uerj/capes-data-analysis/blob/main/data/programas_e_financiadores.parquet?raw=true'\n",
    "ppg_df = pd.read_parquet(uri).iloc[:,1:]  #removendo a primeira coluna"
   ]
  },
  {
   "cell_type": "markdown",
   "id": "95d838d2-2566-4055-8781-92f5225c06e2",
   "metadata": {},
   "source": [
    "## Análise Exploratória"
   ]
  },
  {
   "cell_type": "code",
   "execution_count": 12,
   "id": "6da17d0a-d2e3-434f-b542-834f84f4c1cb",
   "metadata": {},
   "outputs": [
    {
     "data": {
      "text/html": [
       "<div>\n",
       "<style scoped>\n",
       "    .dataframe tbody tr th:only-of-type {\n",
       "        vertical-align: middle;\n",
       "    }\n",
       "\n",
       "    .dataframe tbody tr th {\n",
       "        vertical-align: top;\n",
       "    }\n",
       "\n",
       "    .dataframe thead th {\n",
       "        text-align: right;\n",
       "    }\n",
       "</style>\n",
       "<table border=\"1\" class=\"dataframe\">\n",
       "  <thead>\n",
       "    <tr style=\"text-align: right;\">\n",
       "      <th></th>\n",
       "      <th>AN_BASE</th>\n",
       "      <th>CD_PROGRAMA_IES</th>\n",
       "      <th>NM_MODALIDADE_PROGRAMA</th>\n",
       "      <th>Qtd_Proj</th>\n",
       "      <th>Pesquisas</th>\n",
       "      <th>Outros projetos</th>\n",
       "      <th>CD_CONCEITO_PROGRAMA</th>\n",
       "      <th>Qtd_Financiamentos</th>\n",
       "      <th>BOLSA</th>\n",
       "      <th>OUTRO AUXÍLIO FINANCEIRO</th>\n",
       "      <th>SEM AUXÍLIO</th>\n",
       "    </tr>\n",
       "  </thead>\n",
       "  <tbody>\n",
       "    <tr>\n",
       "      <th>0</th>\n",
       "      <td>2013</td>\n",
       "      <td>12001015018P0</td>\n",
       "      <td>ACADÊMICO</td>\n",
       "      <td>9</td>\n",
       "      <td>8</td>\n",
       "      <td>1</td>\n",
       "      <td>3</td>\n",
       "      <td>19</td>\n",
       "      <td>13</td>\n",
       "      <td>5</td>\n",
       "      <td>1</td>\n",
       "    </tr>\n",
       "    <tr>\n",
       "      <th>1</th>\n",
       "      <td>2013</td>\n",
       "      <td>15001016028P4</td>\n",
       "      <td>ACADÊMICO</td>\n",
       "      <td>128</td>\n",
       "      <td>99</td>\n",
       "      <td>29</td>\n",
       "      <td>4</td>\n",
       "      <td>117</td>\n",
       "      <td>30</td>\n",
       "      <td>84</td>\n",
       "      <td>3</td>\n",
       "    </tr>\n",
       "    <tr>\n",
       "      <th>2</th>\n",
       "      <td>2013</td>\n",
       "      <td>15001016032P1</td>\n",
       "      <td>ACADÊMICO</td>\n",
       "      <td>114</td>\n",
       "      <td>110</td>\n",
       "      <td>4</td>\n",
       "      <td>6</td>\n",
       "      <td>100</td>\n",
       "      <td>11</td>\n",
       "      <td>88</td>\n",
       "      <td>1</td>\n",
       "    </tr>\n",
       "    <tr>\n",
       "      <th>3</th>\n",
       "      <td>2013</td>\n",
       "      <td>15001016044P0</td>\n",
       "      <td>ACADÊMICO</td>\n",
       "      <td>98</td>\n",
       "      <td>96</td>\n",
       "      <td>2</td>\n",
       "      <td>4</td>\n",
       "      <td>62</td>\n",
       "      <td>11</td>\n",
       "      <td>49</td>\n",
       "      <td>2</td>\n",
       "    </tr>\n",
       "    <tr>\n",
       "      <th>4</th>\n",
       "      <td>2013</td>\n",
       "      <td>15001016051P6</td>\n",
       "      <td>ACADÊMICO</td>\n",
       "      <td>35</td>\n",
       "      <td>31</td>\n",
       "      <td>4</td>\n",
       "      <td>4</td>\n",
       "      <td>36</td>\n",
       "      <td>18</td>\n",
       "      <td>17</td>\n",
       "      <td>1</td>\n",
       "    </tr>\n",
       "  </tbody>\n",
       "</table>\n",
       "</div>"
      ],
      "text/plain": [
       "   AN_BASE CD_PROGRAMA_IES NM_MODALIDADE_PROGRAMA  Qtd_Proj  Pesquisas  \\\n",
       "0     2013   12001015018P0              ACADÊMICO         9          8   \n",
       "1     2013   15001016028P4              ACADÊMICO       128         99   \n",
       "2     2013   15001016032P1              ACADÊMICO       114        110   \n",
       "3     2013   15001016044P0              ACADÊMICO        98         96   \n",
       "4     2013   15001016051P6              ACADÊMICO        35         31   \n",
       "\n",
       "   Outros projetos  CD_CONCEITO_PROGRAMA  Qtd_Financiamentos  BOLSA  \\\n",
       "0                1                     3                  19     13   \n",
       "1               29                     4                 117     30   \n",
       "2                4                     6                 100     11   \n",
       "3                2                     4                  62     11   \n",
       "4                4                     4                  36     18   \n",
       "\n",
       "   OUTRO AUXÍLIO FINANCEIRO  SEM AUXÍLIO  \n",
       "0                         5            1  \n",
       "1                        84            3  \n",
       "2                        88            1  \n",
       "3                        49            2  \n",
       "4                        17            1  "
      ]
     },
     "execution_count": 12,
     "metadata": {},
     "output_type": "execute_result"
    }
   ],
   "source": [
    "ppg_df.head()"
   ]
  },
  {
   "cell_type": "code",
   "execution_count": 13,
   "id": "0ac22b70-1576-49d6-b754-8c3cf3d6a4f5",
   "metadata": {},
   "outputs": [
    {
     "name": "stdout",
     "output_type": "stream",
     "text": [
      "<class 'pandas.core.frame.DataFrame'>\n",
      "RangeIndex: 361 entries, 0 to 360\n",
      "Data columns (total 11 columns):\n",
      " #   Column                    Non-Null Count  Dtype \n",
      "---  ------                    --------------  ----- \n",
      " 0   AN_BASE                   361 non-null    int64 \n",
      " 1   CD_PROGRAMA_IES           361 non-null    object\n",
      " 2   NM_MODALIDADE_PROGRAMA    361 non-null    object\n",
      " 3   Qtd_Proj                  361 non-null    int64 \n",
      " 4   Pesquisas                 361 non-null    int64 \n",
      " 5   Outros projetos           361 non-null    int64 \n",
      " 6   CD_CONCEITO_PROGRAMA      361 non-null    int64 \n",
      " 7   Qtd_Financiamentos        361 non-null    int64 \n",
      " 8   BOLSA                     361 non-null    int64 \n",
      " 9   OUTRO AUXÍLIO FINANCEIRO  361 non-null    int64 \n",
      " 10  SEM AUXÍLIO               361 non-null    int64 \n",
      "dtypes: int64(9), object(2)\n",
      "memory usage: 31.1+ KB\n"
     ]
    }
   ],
   "source": [
    "ppg_df.info()"
   ]
  },
  {
   "cell_type": "code",
   "execution_count": 14,
   "id": "19e56540-5507-4966-9b0e-c9b0a9c368bc",
   "metadata": {},
   "outputs": [
    {
     "data": {
      "text/plain": [
       "32008015011P7    6\n",
       "32005016012P4    6\n",
       "41005015007P6    6\n",
       "52001016039P0    6\n",
       "31001017016P1    6\n",
       "                ..\n",
       "33144010008P1    1\n",
       "24001015061P7    1\n",
       "51005018015P7    1\n",
       "31010016002P6    1\n",
       "42007011008P8    1\n",
       "Name: CD_PROGRAMA_IES, Length: 95, dtype: int64"
      ]
     },
     "execution_count": 14,
     "metadata": {},
     "output_type": "execute_result"
    }
   ],
   "source": [
    "ppg_df['CD_PROGRAMA_IES'].value_counts()"
   ]
  },
  {
   "cell_type": "code",
   "execution_count": 15,
   "id": "7c354677-94c2-4ca0-831f-1b974ded90be",
   "metadata": {},
   "outputs": [
    {
     "data": {
      "text/plain": [
       "array([2013, 2014, 2015, 2016, 2017, 2018], dtype=int64)"
      ]
     },
     "execution_count": 15,
     "metadata": {},
     "output_type": "execute_result"
    }
   ],
   "source": [
    "ppg_df['AN_BASE'].unique()"
   ]
  },
  {
   "cell_type": "code",
   "execution_count": 17,
   "id": "46fb7e9c-98ae-4cc1-8788-b98f9639906b",
   "metadata": {},
   "outputs": [
    {
     "data": {
      "text/plain": [
       "1"
      ]
     },
     "execution_count": 17,
     "metadata": {},
     "output_type": "execute_result"
    }
   ],
   "source": [
    "ppg_df.groupby('AN_BASE')['CD_PROGRAMA_IES'].value_counts().max()"
   ]
  },
  {
   "cell_type": "markdown",
   "id": "ce8ef789-2b3b-47d5-a1fe-0f11f6820996",
   "metadata": {},
   "source": [
    "Podemos observar que, felizmente, não há problema com programas repetidos em um mesmo ano dentro desta base."
   ]
  },
  {
   "cell_type": "code",
   "execution_count": 18,
   "id": "7df6d637-3dca-4b15-9c4d-aded231cd70f",
   "metadata": {},
   "outputs": [
    {
     "data": {
      "text/plain": [
       "ACADÊMICO       315\n",
       "PROFISSIONAL     46\n",
       "Name: NM_MODALIDADE_PROGRAMA, dtype: int64"
      ]
     },
     "execution_count": 18,
     "metadata": {},
     "output_type": "execute_result"
    }
   ],
   "source": [
    "ppg_df['NM_MODALIDADE_PROGRAMA'].value_counts()"
   ]
  },
  {
   "cell_type": "code",
   "execution_count": null,
   "id": "e9903ef9-8ae5-418b-80f9-399f28760a2a",
   "metadata": {},
   "outputs": [],
   "source": []
  }
 ],
 "metadata": {
  "kernelspec": {
   "display_name": "Python 3",
   "language": "python",
   "name": "python3"
  },
  "language_info": {
   "codemirror_mode": {
    "name": "ipython",
    "version": 3
   },
   "file_extension": ".py",
   "mimetype": "text/x-python",
   "name": "python",
   "nbconvert_exporter": "python",
   "pygments_lexer": "ipython3",
   "version": "3.8.8"
  }
 },
 "nbformat": 4,
 "nbformat_minor": 5
}
