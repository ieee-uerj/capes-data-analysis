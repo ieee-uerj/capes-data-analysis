{
  "nbformat": 4,
  "nbformat_minor": 0,
  "metadata": {
    "colab": {
      "name": "Capes_docentes",
      "provenance": [],
      "collapsed_sections": []
    },
    "kernelspec": {
      "name": "python3",
      "display_name": "Python 3"
    }
  },
  "cells": [
    {
      "cell_type": "code",
      "metadata": {
        "colab": {
          "base_uri": "https://localhost:8080/"
        },
        "id": "OIZiTpF_0B7c",
        "outputId": "242ee9bd-ac8e-4f9b-d020-44d74ad06f19"
      },
      "source": [
        "from google.colab import drive\r\n",
        "drive.mount('/content/drive')"
      ],
      "execution_count": 94,
      "outputs": [
        {
          "output_type": "stream",
          "text": [
            "Drive already mounted at /content/drive; to attempt to forcibly remount, call drive.mount(\"/content/drive\", force_remount=True).\n"
          ],
          "name": "stdout"
        }
      ]
    },
    {
      "cell_type": "code",
      "metadata": {
        "id": "Iq_j9rGW0H4B"
      },
      "source": [
        "import pandas as pd\r\n",
        "import numpy as np\r\n",
        "import matplotlib.pyplot as plt\r\n",
        "import seaborn as sns\r\n",
        "%matplotlib inline\r\n",
        "import sklearn as skt"
      ],
      "execution_count": 95,
      "outputs": []
    },
    {
      "cell_type": "code",
      "metadata": {
        "colab": {
          "base_uri": "https://localhost:8080/"
        },
        "id": "fj8YyfrD0QkR",
        "outputId": "8d378754-2ada-49af-9d79-9b6bd1d95bac"
      },
      "source": [
        "path = '/content/drive/My Drive/bases_capesppg_docentes/capesppg_docentes_2013-2019.csv'\r\n",
        "df = pd.read_csv(path)"
      ],
      "execution_count": 96,
      "outputs": [
        {
          "output_type": "stream",
          "text": [
            "/usr/local/lib/python3.6/dist-packages/IPython/core/interactiveshell.py:2718: DtypeWarning: Columns (9,29) have mixed types.Specify dtype option on import or set low_memory=False.\n",
            "  interactivity=interactivity, compiler=compiler, result=result)\n"
          ],
          "name": "stderr"
        }
      ]
    },
    {
      "cell_type": "markdown",
      "metadata": {
        "id": "d1uYELCf0Wv2"
      },
      "source": [
        "- Visualizando os dados do dataset:"
      ]
    },
    {
      "cell_type": "code",
      "metadata": {
        "colab": {
          "base_uri": "https://localhost:8080/",
          "height": 394
        },
        "id": "ELpQlPse0TAI",
        "outputId": "07db7ea0-a092-4e17-b4cb-2d169691f9e6"
      },
      "source": [
        "df.head()"
      ],
      "execution_count": 97,
      "outputs": [
        {
          "output_type": "execute_result",
          "data": {
            "text/html": [
              "<div>\n",
              "<style scoped>\n",
              "    .dataframe tbody tr th:only-of-type {\n",
              "        vertical-align: middle;\n",
              "    }\n",
              "\n",
              "    .dataframe tbody tr th {\n",
              "        vertical-align: top;\n",
              "    }\n",
              "\n",
              "    .dataframe thead th {\n",
              "        text-align: right;\n",
              "    }\n",
              "</style>\n",
              "<table border=\"1\" class=\"dataframe\">\n",
              "  <thead>\n",
              "    <tr style=\"text-align: right;\">\n",
              "      <th></th>\n",
              "      <th>AN_BASE</th>\n",
              "      <th>CD_AREA_AVALIACAO</th>\n",
              "      <th>NM_AREA_AVALIACAO</th>\n",
              "      <th>NM_GRANDE_AREA_CONHECIMENTO</th>\n",
              "      <th>NM_AREA_CONHECIMENTO</th>\n",
              "      <th>CD_PROGRAMA_IES</th>\n",
              "      <th>NM_PROGRAMA_IES</th>\n",
              "      <th>NM_GRAU_PROGRAMA</th>\n",
              "      <th>NM_MODALIDADE_PROGRAMA</th>\n",
              "      <th>CD_CONCEITO_PROGRAMA</th>\n",
              "      <th>SG_ENTIDADE_ENSINO</th>\n",
              "      <th>NM_ENTIDADE_ENSINO</th>\n",
              "      <th>CS_STATUS_JURIDICO</th>\n",
              "      <th>SG_UF_PROGRAMA</th>\n",
              "      <th>NM_REGIAO</th>\n",
              "      <th>ID_PESSOA</th>\n",
              "      <th>TP_SEXO_DOCENTE</th>\n",
              "      <th>AN_NASCIMENTO_DOCENTE</th>\n",
              "      <th>DS_FAIXA_ETARIA</th>\n",
              "      <th>NM_PAIS_NACIONALIDADE_DOCENTE</th>\n",
              "      <th>DS_TIPO_VINCULO_DOCENTE_IES</th>\n",
              "      <th>DS_REGIME_TRABALHO</th>\n",
              "      <th>CD_CAT_BOLSA_PRODUTIVIDADE</th>\n",
              "      <th>IN_DOUTOR</th>\n",
              "      <th>AN_TITULACAO</th>\n",
              "      <th>NM_GRAU_TITULACAO</th>\n",
              "      <th>SG_IES_TITULACAO</th>\n",
              "      <th>NM_IES_TITULACAO</th>\n",
              "      <th>NM_PAIS_IES_TITULACAO</th>\n",
              "      <th>DS_CLIENTELA_QUADRIENAL_2017</th>\n",
              "    </tr>\n",
              "  </thead>\n",
              "  <tbody>\n",
              "    <tr>\n",
              "      <th>0</th>\n",
              "      <td>2013</td>\n",
              "      <td>9</td>\n",
              "      <td>CIÊNCIAS BIOLÓGICAS III</td>\n",
              "      <td>CIÊNCIAS BIOLÓGICAS</td>\n",
              "      <td>PARASITOLOGIA</td>\n",
              "      <td>10001018002P1</td>\n",
              "      <td>BIOLOGIA EXPERIMENTAL</td>\n",
              "      <td>MESTRADO/DOUTORADO</td>\n",
              "      <td>ACADÊMICO</td>\n",
              "      <td>3</td>\n",
              "      <td>UNIR</td>\n",
              "      <td>UNIVERSIDADE FEDERAL DE RONDÔNIA</td>\n",
              "      <td>FEDERAL</td>\n",
              "      <td>RO</td>\n",
              "      <td>NORTE</td>\n",
              "      <td>832956</td>\n",
              "      <td>FEMININO</td>\n",
              "      <td>1975</td>\n",
              "      <td>35 A 39 ANOS</td>\n",
              "      <td>BRASIL</td>\n",
              "      <td>COLABORADOR</td>\n",
              "      <td>PARCIAL</td>\n",
              "      <td>NaN</td>\n",
              "      <td>S</td>\n",
              "      <td>2008.0</td>\n",
              "      <td>DOUTORADO</td>\n",
              "      <td>PARIS 7</td>\n",
              "      <td>UNIVERSITÉ PARIS DIDEROT - PARIS VII</td>\n",
              "      <td>FRANÇA</td>\n",
              "      <td>AVALIAÇÃO</td>\n",
              "    </tr>\n",
              "    <tr>\n",
              "      <th>1</th>\n",
              "      <td>2013</td>\n",
              "      <td>9</td>\n",
              "      <td>CIÊNCIAS BIOLÓGICAS III</td>\n",
              "      <td>CIÊNCIAS BIOLÓGICAS</td>\n",
              "      <td>PARASITOLOGIA</td>\n",
              "      <td>10001018002P1</td>\n",
              "      <td>BIOLOGIA EXPERIMENTAL</td>\n",
              "      <td>MESTRADO/DOUTORADO</td>\n",
              "      <td>ACADÊMICO</td>\n",
              "      <td>3</td>\n",
              "      <td>UNIR</td>\n",
              "      <td>UNIVERSIDADE FEDERAL DE RONDÔNIA</td>\n",
              "      <td>FEDERAL</td>\n",
              "      <td>RO</td>\n",
              "      <td>NORTE</td>\n",
              "      <td>34738</td>\n",
              "      <td>MASCULINO</td>\n",
              "      <td>1978</td>\n",
              "      <td>35 A 39 ANOS</td>\n",
              "      <td>BRASIL</td>\n",
              "      <td>COLABORADOR</td>\n",
              "      <td>PARCIAL</td>\n",
              "      <td>NaN</td>\n",
              "      <td>S</td>\n",
              "      <td>2008.0</td>\n",
              "      <td>DOUTORADO</td>\n",
              "      <td>USP/RP</td>\n",
              "      <td>UNIVERSIDADE DE SÃO PAULO/ RIBEIRÃO PRETO</td>\n",
              "      <td>BRASIL</td>\n",
              "      <td>AVALIAÇÃO</td>\n",
              "    </tr>\n",
              "    <tr>\n",
              "      <th>2</th>\n",
              "      <td>2013</td>\n",
              "      <td>9</td>\n",
              "      <td>CIÊNCIAS BIOLÓGICAS III</td>\n",
              "      <td>CIÊNCIAS BIOLÓGICAS</td>\n",
              "      <td>PARASITOLOGIA</td>\n",
              "      <td>10001018002P1</td>\n",
              "      <td>BIOLOGIA EXPERIMENTAL</td>\n",
              "      <td>MESTRADO/DOUTORADO</td>\n",
              "      <td>ACADÊMICO</td>\n",
              "      <td>3</td>\n",
              "      <td>UNIR</td>\n",
              "      <td>UNIVERSIDADE FEDERAL DE RONDÔNIA</td>\n",
              "      <td>FEDERAL</td>\n",
              "      <td>RO</td>\n",
              "      <td>NORTE</td>\n",
              "      <td>729344</td>\n",
              "      <td>MASCULINO</td>\n",
              "      <td>1954</td>\n",
              "      <td>55 A 59 ANOS</td>\n",
              "      <td>BRASIL</td>\n",
              "      <td>COLABORADOR</td>\n",
              "      <td>PARCIAL</td>\n",
              "      <td>NaN</td>\n",
              "      <td>S</td>\n",
              "      <td>2008.0</td>\n",
              "      <td>DOUTORADO</td>\n",
              "      <td>UNIR</td>\n",
              "      <td>UNIVERSIDADE FEDERAL DE RONDÔNIA</td>\n",
              "      <td>BRASIL</td>\n",
              "      <td>AVALIAÇÃO</td>\n",
              "    </tr>\n",
              "    <tr>\n",
              "      <th>3</th>\n",
              "      <td>2013</td>\n",
              "      <td>9</td>\n",
              "      <td>CIÊNCIAS BIOLÓGICAS III</td>\n",
              "      <td>CIÊNCIAS BIOLÓGICAS</td>\n",
              "      <td>PARASITOLOGIA</td>\n",
              "      <td>10001018002P1</td>\n",
              "      <td>BIOLOGIA EXPERIMENTAL</td>\n",
              "      <td>MESTRADO/DOUTORADO</td>\n",
              "      <td>ACADÊMICO</td>\n",
              "      <td>3</td>\n",
              "      <td>UNIR</td>\n",
              "      <td>UNIVERSIDADE FEDERAL DE RONDÔNIA</td>\n",
              "      <td>FEDERAL</td>\n",
              "      <td>RO</td>\n",
              "      <td>NORTE</td>\n",
              "      <td>526496</td>\n",
              "      <td>FEMININO</td>\n",
              "      <td>1966</td>\n",
              "      <td>45 A 49 ANOS</td>\n",
              "      <td>BRASIL</td>\n",
              "      <td>SERVIDOR PÚBLICO</td>\n",
              "      <td>INTEGRAL</td>\n",
              "      <td>NaN</td>\n",
              "      <td>S</td>\n",
              "      <td>1999.0</td>\n",
              "      <td>DOUTORADO</td>\n",
              "      <td>USP/RP</td>\n",
              "      <td>UNIVERSIDADE DE SÃO PAULO/ RIBEIRÃO PRETO</td>\n",
              "      <td>BRASIL</td>\n",
              "      <td>AVALIAÇÃO</td>\n",
              "    </tr>\n",
              "    <tr>\n",
              "      <th>4</th>\n",
              "      <td>2013</td>\n",
              "      <td>9</td>\n",
              "      <td>CIÊNCIAS BIOLÓGICAS III</td>\n",
              "      <td>CIÊNCIAS BIOLÓGICAS</td>\n",
              "      <td>PARASITOLOGIA</td>\n",
              "      <td>10001018002P1</td>\n",
              "      <td>BIOLOGIA EXPERIMENTAL</td>\n",
              "      <td>MESTRADO/DOUTORADO</td>\n",
              "      <td>ACADÊMICO</td>\n",
              "      <td>3</td>\n",
              "      <td>UNIR</td>\n",
              "      <td>UNIVERSIDADE FEDERAL DE RONDÔNIA</td>\n",
              "      <td>FEDERAL</td>\n",
              "      <td>RO</td>\n",
              "      <td>NORTE</td>\n",
              "      <td>10229</td>\n",
              "      <td>MASCULINO</td>\n",
              "      <td>1928</td>\n",
              "      <td>70 OU MAIS</td>\n",
              "      <td>BRASIL</td>\n",
              "      <td>APOSENTADO</td>\n",
              "      <td>PARCIAL</td>\n",
              "      <td>NaN</td>\n",
              "      <td>S</td>\n",
              "      <td>1960.0</td>\n",
              "      <td>DOUTORADO</td>\n",
              "      <td>USP</td>\n",
              "      <td>UNIVERSIDADE DE SÃO PAULO</td>\n",
              "      <td>BRASIL</td>\n",
              "      <td>AVALIAÇÃO</td>\n",
              "    </tr>\n",
              "  </tbody>\n",
              "</table>\n",
              "</div>"
            ],
            "text/plain": [
              "   AN_BASE  ...  DS_CLIENTELA_QUADRIENAL_2017\n",
              "0     2013  ...                     AVALIAÇÃO\n",
              "1     2013  ...                     AVALIAÇÃO\n",
              "2     2013  ...                     AVALIAÇÃO\n",
              "3     2013  ...                     AVALIAÇÃO\n",
              "4     2013  ...                     AVALIAÇÃO\n",
              "\n",
              "[5 rows x 30 columns]"
            ]
          },
          "metadata": {
            "tags": []
          },
          "execution_count": 97
        }
      ]
    },
    {
      "cell_type": "markdown",
      "metadata": {
        "id": "t5Knf3C_0n52"
      },
      "source": [
        "- Demonstrando de forma visual que há dados dos anos 2013 à 2019 neste dataset:"
      ]
    },
    {
      "cell_type": "code",
      "metadata": {
        "colab": {
          "base_uri": "https://localhost:8080/",
          "height": 297
        },
        "id": "_aNLMu5C0gAf",
        "outputId": "ad35449f-8b8c-45c5-aede-49812cd1443d"
      },
      "source": [
        "sns.countplot(x='AN_BASE', data = df)"
      ],
      "execution_count": 98,
      "outputs": [
        {
          "output_type": "execute_result",
          "data": {
            "text/plain": [
              "<matplotlib.axes._subplots.AxesSubplot at 0x7f6b89bc3c50>"
            ]
          },
          "metadata": {
            "tags": []
          },
          "execution_count": 98
        },
        {
          "output_type": "display_data",
          "data": {
            "image/png": "[encoded data removed]",
            "text/plain": [
              "<Figure size 432x288 with 1 Axes>"
            ]
          },
          "metadata": {
            "tags": [],
            "needs_background": "light"
          }
        }
      ]
    },
    {
      "cell_type": "code",
      "metadata": {
        "colab": {
          "base_uri": "https://localhost:8080/"
        },
        "id": "9duiazWR0kMe",
        "outputId": "770ba4c7-46ff-44b1-d99c-55afdac7600c"
      },
      "source": [
        "df.info()"
      ],
      "execution_count": 99,
      "outputs": [
        {
          "output_type": "stream",
          "text": [
            "<class 'pandas.core.frame.DataFrame'>\n",
            "RangeIndex: 662665 entries, 0 to 662664\n",
            "Data columns (total 30 columns):\n",
            " #   Column                         Non-Null Count   Dtype  \n",
            "---  ------                         --------------   -----  \n",
            " 0   AN_BASE                        662665 non-null  int64  \n",
            " 1   CD_AREA_AVALIACAO              662665 non-null  int64  \n",
            " 2   NM_AREA_AVALIACAO              662665 non-null  object \n",
            " 3   NM_GRANDE_AREA_CONHECIMENTO    662665 non-null  object \n",
            " 4   NM_AREA_CONHECIMENTO           662665 non-null  object \n",
            " 5   CD_PROGRAMA_IES                662665 non-null  object \n",
            " 6   NM_PROGRAMA_IES                662665 non-null  object \n",
            " 7   NM_GRAU_PROGRAMA               662665 non-null  object \n",
            " 8   NM_MODALIDADE_PROGRAMA         662665 non-null  object \n",
            " 9   CD_CONCEITO_PROGRAMA           662665 non-null  object \n",
            " 10  SG_ENTIDADE_ENSINO             662665 non-null  object \n",
            " 11  NM_ENTIDADE_ENSINO             662665 non-null  object \n",
            " 12  CS_STATUS_JURIDICO             662665 non-null  object \n",
            " 13  SG_UF_PROGRAMA                 662665 non-null  object \n",
            " 14  NM_REGIAO                      662665 non-null  object \n",
            " 15  ID_PESSOA                      662665 non-null  int64  \n",
            " 16  TP_SEXO_DOCENTE                662665 non-null  object \n",
            " 17  AN_NASCIMENTO_DOCENTE          662665 non-null  int64  \n",
            " 18  DS_FAIXA_ETARIA                662577 non-null  object \n",
            " 19  NM_PAIS_NACIONALIDADE_DOCENTE  662665 non-null  object \n",
            " 20  DS_TIPO_VINCULO_DOCENTE_IES    662660 non-null  object \n",
            " 21  DS_REGIME_TRABALHO             662665 non-null  object \n",
            " 22  CD_CAT_BOLSA_PRODUTIVIDADE     153243 non-null  object \n",
            " 23  IN_DOUTOR                      662665 non-null  object \n",
            " 24  AN_TITULACAO                   662651 non-null  float64\n",
            " 25  NM_GRAU_TITULACAO              662651 non-null  object \n",
            " 26  SG_IES_TITULACAO               648813 non-null  object \n",
            " 27  NM_IES_TITULACAO               662651 non-null  object \n",
            " 28  NM_PAIS_IES_TITULACAO          662651 non-null  object \n",
            " 29  DS_CLIENTELA_QUADRIENAL_2017   350825 non-null  object \n",
            "dtypes: float64(1), int64(4), object(25)\n",
            "memory usage: 151.7+ MB\n"
          ],
          "name": "stdout"
        }
      ]
    },
    {
      "cell_type": "markdown",
      "metadata": {
        "id": "KQk5QjzF1GZe"
      },
      "source": [
        "- As análises envolvendo os conceitos dos programas apresentou erro em diversas situações. Notei que o erro é devido a alguns conceitos estarem no formato string:"
      ]
    },
    {
      "cell_type": "code",
      "metadata": {
        "colab": {
          "base_uri": "https://localhost:8080/"
        },
        "id": "w0DTOFNl0vS4",
        "outputId": "55d7e807-6893-44ea-de1a-640ecc9c8a95"
      },
      "source": [
        "df['CD_CONCEITO_PROGRAMA'].unique()"
      ],
      "execution_count": 100,
      "outputs": [
        {
          "output_type": "execute_result",
          "data": {
            "text/plain": [
              "array([3, 4, 2, 5, 6, 7, 1, '5', '4', '3', '2', '6', '7', '1', 'A'],\n",
              "      dtype=object)"
            ]
          },
          "metadata": {
            "tags": []
          },
          "execution_count": 100
        }
      ]
    },
    {
      "cell_type": "markdown",
      "metadata": {
        "id": "GEeFtptZ17e4"
      },
      "source": [
        "- Abaixo notamos que o conceito 'A' é um problema das bases dos anos 2018 e 2019."
      ]
    },
    {
      "cell_type": "code",
      "metadata": {
        "colab": {
          "base_uri": "https://localhost:8080/"
        },
        "id": "OCUNoWSa1D3N",
        "outputId": "be8d6b93-0697-45ca-9487-3a7e632d753d"
      },
      "source": [
        "df.loc[df.CD_CONCEITO_PROGRAMA == 'A'].AN_BASE.unique()"
      ],
      "execution_count": 101,
      "outputs": [
        {
          "output_type": "execute_result",
          "data": {
            "text/plain": [
              "array([2018, 2019])"
            ]
          },
          "metadata": {
            "tags": []
          },
          "execution_count": 101
        }
      ]
    },
    {
      "cell_type": "markdown",
      "metadata": {
        "id": "phElFuos3-_Q"
      },
      "source": [
        "- Para eliminar os conceitos 'A' criei um dataset filtrando todos os conceitos diferentes de 'A'"
      ]
    },
    {
      "cell_type": "code",
      "metadata": {
        "colab": {
          "base_uri": "https://localhost:8080/"
        },
        "id": "t9lH1Pp216c7",
        "outputId": "ab5db0b9-1455-4079-dc88-f4a2c59e8c8b"
      },
      "source": [
        "df1 = df[df['CD_CONCEITO_PROGRAMA'] != 'A']\r\n",
        "df1['CD_CONCEITO_PROGRAMA'].unique()"
      ],
      "execution_count": 102,
      "outputs": [
        {
          "output_type": "execute_result",
          "data": {
            "text/plain": [
              "array([3, 4, 2, 5, 6, 7, 1, '5', '4', '3', '2', '6', '7', '1'],\n",
              "      dtype=object)"
            ]
          },
          "metadata": {
            "tags": []
          },
          "execution_count": 102
        }
      ]
    },
    {
      "cell_type": "markdown",
      "metadata": {
        "id": "dsO4_31L4VMO"
      },
      "source": [
        "- Com os conceitos 'A' eliminados, o próximo passo foi transformar todos os dados de conceito em variável inteira"
      ]
    },
    {
      "cell_type": "code",
      "metadata": {
        "colab": {
          "base_uri": "https://localhost:8080/"
        },
        "id": "6jaSu6Yg4K_f",
        "outputId": "8594c605-38a3-46e0-e3f5-9098902c122e"
      },
      "source": [
        "df1['CD_CONCEITO_PROGRAMA'].unique()"
      ],
      "execution_count": 103,
      "outputs": [
        {
          "output_type": "execute_result",
          "data": {
            "text/plain": [
              "array([3, 4, 2, 5, 6, 7, 1, '5', '4', '3', '2', '6', '7', '1'],\n",
              "      dtype=object)"
            ]
          },
          "metadata": {
            "tags": []
          },
          "execution_count": 103
        }
      ]
    },
    {
      "cell_type": "code",
      "metadata": {
        "colab": {
          "base_uri": "https://localhost:8080/"
        },
        "id": "d8rR1iUL4Of2",
        "outputId": "0910e782-133e-4b8f-ea97-b261069a9689"
      },
      "source": [
        "df1.CD_CONCEITO_PROGRAMA = df1.CD_CONCEITO_PROGRAMA.astype('int64')"
      ],
      "execution_count": 104,
      "outputs": [
        {
          "output_type": "stream",
          "text": [
            "/usr/local/lib/python3.6/dist-packages/pandas/core/generic.py:5170: SettingWithCopyWarning: \n",
            "A value is trying to be set on a copy of a slice from a DataFrame.\n",
            "Try using .loc[row_indexer,col_indexer] = value instead\n",
            "\n",
            "See the caveats in the documentation: https://pandas.pydata.org/pandas-docs/stable/user_guide/indexing.html#returning-a-view-versus-a-copy\n",
            "  self[name] = value\n"
          ],
          "name": "stderr"
        }
      ]
    },
    {
      "cell_type": "code",
      "metadata": {
        "colab": {
          "base_uri": "https://localhost:8080/"
        },
        "id": "SJPe2K5J4dNI",
        "outputId": "054936cf-b534-491f-8eab-66325d818e0b"
      },
      "source": [
        "df1.info()"
      ],
      "execution_count": 105,
      "outputs": [
        {
          "output_type": "stream",
          "text": [
            "<class 'pandas.core.frame.DataFrame'>\n",
            "Int64Index: 658805 entries, 0 to 662664\n",
            "Data columns (total 30 columns):\n",
            " #   Column                         Non-Null Count   Dtype  \n",
            "---  ------                         --------------   -----  \n",
            " 0   AN_BASE                        658805 non-null  int64  \n",
            " 1   CD_AREA_AVALIACAO              658805 non-null  int64  \n",
            " 2   NM_AREA_AVALIACAO              658805 non-null  object \n",
            " 3   NM_GRANDE_AREA_CONHECIMENTO    658805 non-null  object \n",
            " 4   NM_AREA_CONHECIMENTO           658805 non-null  object \n",
            " 5   CD_PROGRAMA_IES                658805 non-null  object \n",
            " 6   NM_PROGRAMA_IES                658805 non-null  object \n",
            " 7   NM_GRAU_PROGRAMA               658805 non-null  object \n",
            " 8   NM_MODALIDADE_PROGRAMA         658805 non-null  object \n",
            " 9   CD_CONCEITO_PROGRAMA           658805 non-null  int64  \n",
            " 10  SG_ENTIDADE_ENSINO             658805 non-null  object \n",
            " 11  NM_ENTIDADE_ENSINO             658805 non-null  object \n",
            " 12  CS_STATUS_JURIDICO             658805 non-null  object \n",
            " 13  SG_UF_PROGRAMA                 658805 non-null  object \n",
            " 14  NM_REGIAO                      658805 non-null  object \n",
            " 15  ID_PESSOA                      658805 non-null  int64  \n",
            " 16  TP_SEXO_DOCENTE                658805 non-null  object \n",
            " 17  AN_NASCIMENTO_DOCENTE          658805 non-null  int64  \n",
            " 18  DS_FAIXA_ETARIA                658717 non-null  object \n",
            " 19  NM_PAIS_NACIONALIDADE_DOCENTE  658805 non-null  object \n",
            " 20  DS_TIPO_VINCULO_DOCENTE_IES    658800 non-null  object \n",
            " 21  DS_REGIME_TRABALHO             658805 non-null  object \n",
            " 22  CD_CAT_BOLSA_PRODUTIVIDADE     152855 non-null  object \n",
            " 23  IN_DOUTOR                      658805 non-null  object \n",
            " 24  AN_TITULACAO                   658791 non-null  float64\n",
            " 25  NM_GRAU_TITULACAO              658791 non-null  object \n",
            " 26  SG_IES_TITULACAO               644953 non-null  object \n",
            " 27  NM_IES_TITULACAO               658791 non-null  object \n",
            " 28  NM_PAIS_IES_TITULACAO          658791 non-null  object \n",
            " 29  DS_CLIENTELA_QUADRIENAL_2017   350825 non-null  object \n",
            "dtypes: float64(1), int64(5), object(24)\n",
            "memory usage: 155.8+ MB\n"
          ],
          "name": "stdout"
        }
      ]
    },
    {
      "cell_type": "code",
      "metadata": {
        "colab": {
          "base_uri": "https://localhost:8080/"
        },
        "id": "yybJZcCN4izf",
        "outputId": "cef53b6f-7acc-47f0-f3e3-a3ae8f101916"
      },
      "source": [
        "df1['CD_CONCEITO_PROGRAMA'].unique()"
      ],
      "execution_count": 106,
      "outputs": [
        {
          "output_type": "execute_result",
          "data": {
            "text/plain": [
              "array([3, 4, 2, 5, 6, 7, 1])"
            ]
          },
          "metadata": {
            "tags": []
          },
          "execution_count": 106
        }
      ]
    },
    {
      "cell_type": "code",
      "metadata": {
        "colab": {
          "base_uri": "https://localhost:8080/"
        },
        "id": "j7rPshs54y5F",
        "outputId": "fd4a9b0c-0354-4cdb-f777-b94ac7ee34cf"
      },
      "source": [
        "df1.groupby('AN_BASE').mean()['CD_CONCEITO_PROGRAMA'].sort_values(ascending=True)"
      ],
      "execution_count": 107,
      "outputs": [
        {
          "output_type": "execute_result",
          "data": {
            "text/plain": [
              "AN_BASE\n",
              "2016    4.235096\n",
              "2015    4.281794\n",
              "2018    4.311165\n",
              "2014    4.320163\n",
              "2019    4.321311\n",
              "2017    4.326215\n",
              "2013    4.371254\n",
              "Name: CD_CONCEITO_PROGRAMA, dtype: float64"
            ]
          },
          "metadata": {
            "tags": []
          },
          "execution_count": 107
        }
      ]
    },
    {
      "cell_type": "code",
      "metadata": {
        "colab": {
          "base_uri": "https://localhost:8080/"
        },
        "id": "kJ1vc35Y48nC",
        "outputId": "a115e7dc-810c-4df8-9bc5-4d5f70f48a9e"
      },
      "source": [
        "df1.groupby('NM_PAIS_IES_TITULACAO').mean()['CD_CONCEITO_PROGRAMA'].round(2).sort_values(ascending=False).head(15)"
      ],
      "execution_count": 108,
      "outputs": [
        {
          "output_type": "execute_result",
          "data": {
            "text/plain": [
              "NM_PAIS_IES_TITULACAO\n",
              "GEÓRGIA             7.00\n",
              "ESLOVÊNIA           7.00\n",
              "CROÁCIA             6.00\n",
              "SINGAPURA           6.00\n",
              "TURQUIA             6.00\n",
              "PORTO RICO          5.92\n",
              "REPÚBLICA TCHECA    5.36\n",
              "ISRAEL              5.33\n",
              "CAMARÕES            5.33\n",
              "BULGÁRIA            5.33\n",
              "HUNGRIA             5.11\n",
              "DINAMARCA           5.08\n",
              "COREIA DO SUL       5.08\n",
              "TAIWAN              5.00\n",
              "HONG KONG           5.00\n",
              "Name: CD_CONCEITO_PROGRAMA, dtype: float64"
            ]
          },
          "metadata": {
            "tags": []
          },
          "execution_count": 108
        }
      ]
    },
    {
      "cell_type": "markdown",
      "metadata": {
        "id": "jDk8TnrR5Lwo"
      },
      "source": [
        "- Tratando as colunas a fim de gerar features"
      ]
    },
    {
      "cell_type": "code",
      "metadata": {
        "colab": {
          "base_uri": "https://localhost:8080/"
        },
        "id": "atEAWbOU5EM7",
        "outputId": "6f937838-29ed-4455-a121-5fbd27f4de6d"
      },
      "source": [
        "df1['Mulheres'] = np.where(df1['TP_SEXO_DOCENTE'] == 'FEMININO', 1,0)\r\n",
        "print(df1)"
      ],
      "execution_count": 109,
      "outputs": [
        {
          "output_type": "stream",
          "text": [
            "        AN_BASE  CD_AREA_AVALIACAO  ... DS_CLIENTELA_QUADRIENAL_2017 Mulheres\n",
            "0          2013                  9  ...                    AVALIAÇÃO        1\n",
            "1          2013                  9  ...                    AVALIAÇÃO        0\n",
            "2          2013                  9  ...                    AVALIAÇÃO        0\n",
            "3          2013                  9  ...                    AVALIAÇÃO        1\n",
            "4          2013                  9  ...                    AVALIAÇÃO        0\n",
            "...         ...                ...  ...                          ...      ...\n",
            "662660     2019                 26  ...                          NaN        1\n",
            "662661     2019                 26  ...                          NaN        0\n",
            "662662     2019                 26  ...                          NaN        0\n",
            "662663     2019                 26  ...                          NaN        1\n",
            "662664     2019                 26  ...                          NaN        0\n",
            "\n",
            "[658805 rows x 31 columns]\n"
          ],
          "name": "stdout"
        },
        {
          "output_type": "stream",
          "text": [
            "/usr/local/lib/python3.6/dist-packages/ipykernel_launcher.py:1: SettingWithCopyWarning: \n",
            "A value is trying to be set on a copy of a slice from a DataFrame.\n",
            "Try using .loc[row_indexer,col_indexer] = value instead\n",
            "\n",
            "See the caveats in the documentation: https://pandas.pydata.org/pandas-docs/stable/user_guide/indexing.html#returning-a-view-versus-a-copy\n",
            "  \"\"\"Entry point for launching an IPython kernel.\n"
          ],
          "name": "stderr"
        }
      ]
    },
    {
      "cell_type": "code",
      "metadata": {
        "colab": {
          "base_uri": "https://localhost:8080/"
        },
        "id": "oFLeIcGu5KOD",
        "outputId": "d261c660-820c-4b0c-e60d-60bf9dc4186b"
      },
      "source": [
        "df1['Homens'] = np.where(df1['TP_SEXO_DOCENTE'] == 'MASCULINO', 1,0)"
      ],
      "execution_count": 110,
      "outputs": [
        {
          "output_type": "stream",
          "text": [
            "/usr/local/lib/python3.6/dist-packages/ipykernel_launcher.py:1: SettingWithCopyWarning: \n",
            "A value is trying to be set on a copy of a slice from a DataFrame.\n",
            "Try using .loc[row_indexer,col_indexer] = value instead\n",
            "\n",
            "See the caveats in the documentation: https://pandas.pydata.org/pandas-docs/stable/user_guide/indexing.html#returning-a-view-versus-a-copy\n",
            "  \"\"\"Entry point for launching an IPython kernel.\n"
          ],
          "name": "stderr"
        }
      ]
    },
    {
      "cell_type": "code",
      "metadata": {
        "colab": {
          "base_uri": "https://localhost:8080/"
        },
        "id": "-6ic5BIT5UAB",
        "outputId": "6c29371f-6fa9-4b6d-f1d0-32ac84f9f4c4"
      },
      "source": [
        "df1['QTD_DOCENTES'] = df1.agg({'ID_PESSOA': np.size})"
      ],
      "execution_count": 111,
      "outputs": [
        {
          "output_type": "stream",
          "text": [
            "/usr/local/lib/python3.6/dist-packages/ipykernel_launcher.py:1: SettingWithCopyWarning: \n",
            "A value is trying to be set on a copy of a slice from a DataFrame.\n",
            "Try using .loc[row_indexer,col_indexer] = value instead\n",
            "\n",
            "See the caveats in the documentation: https://pandas.pydata.org/pandas-docs/stable/user_guide/indexing.html#returning-a-view-versus-a-copy\n",
            "  \"\"\"Entry point for launching an IPython kernel.\n"
          ],
          "name": "stderr"
        }
      ]
    },
    {
      "cell_type": "code",
      "metadata": {
        "colab": {
          "base_uri": "https://localhost:8080/"
        },
        "id": "SqDJuoDQ5Ymj",
        "outputId": "f011eec3-9d68-4ecb-db72-d6e30814cfa8"
      },
      "source": [
        "df1['Brasileiros'] = np.where(df1['NM_PAIS_NACIONALIDADE_DOCENTE'] == 'BRASIL', 1,0)"
      ],
      "execution_count": 112,
      "outputs": [
        {
          "output_type": "stream",
          "text": [
            "/usr/local/lib/python3.6/dist-packages/ipykernel_launcher.py:1: SettingWithCopyWarning: \n",
            "A value is trying to be set on a copy of a slice from a DataFrame.\n",
            "Try using .loc[row_indexer,col_indexer] = value instead\n",
            "\n",
            "See the caveats in the documentation: https://pandas.pydata.org/pandas-docs/stable/user_guide/indexing.html#returning-a-view-versus-a-copy\n",
            "  \"\"\"Entry point for launching an IPython kernel.\n"
          ],
          "name": "stderr"
        }
      ]
    },
    {
      "cell_type": "code",
      "metadata": {
        "colab": {
          "base_uri": "https://localhost:8080/"
        },
        "id": "zYYXsnP95gZ2",
        "outputId": "1de074ea-7230-45fe-e484-e9e84b7ad04e"
      },
      "source": [
        "df1['Estrangeiros'] = np.where(df1['NM_PAIS_NACIONALIDADE_DOCENTE'] != 'BRASIL', 1,0)"
      ],
      "execution_count": 113,
      "outputs": [
        {
          "output_type": "stream",
          "text": [
            "/usr/local/lib/python3.6/dist-packages/ipykernel_launcher.py:1: SettingWithCopyWarning: \n",
            "A value is trying to be set on a copy of a slice from a DataFrame.\n",
            "Try using .loc[row_indexer,col_indexer] = value instead\n",
            "\n",
            "See the caveats in the documentation: https://pandas.pydata.org/pandas-docs/stable/user_guide/indexing.html#returning-a-view-versus-a-copy\n",
            "  \"\"\"Entry point for launching an IPython kernel.\n"
          ],
          "name": "stderr"
        }
      ]
    },
    {
      "cell_type": "code",
      "metadata": {
        "colab": {
          "base_uri": "https://localhost:8080/"
        },
        "id": "kKGyN2fR6Fyq",
        "outputId": "39b8b40c-64ac-4b5b-8198-7208e1fd1c70"
      },
      "source": [
        "df1['DS_REGIME_TRABALHO'].unique()"
      ],
      "execution_count": 114,
      "outputs": [
        {
          "output_type": "execute_result",
          "data": {
            "text/plain": [
              "array(['PARCIAL', 'INTEGRAL', 'DEDICAÇÃO EXCLUSIVA'], dtype=object)"
            ]
          },
          "metadata": {
            "tags": []
          },
          "execution_count": 114
        }
      ]
    },
    {
      "cell_type": "code",
      "metadata": {
        "colab": {
          "base_uri": "https://localhost:8080/"
        },
        "id": "XllMw6eC6Kar",
        "outputId": "40a00a97-4603-4061-825d-dbac60c0a1ec"
      },
      "source": [
        "df1['QTDE_Regime_Parcial'] = np.where(df1['DS_REGIME_TRABALHO'] == 'PARCIAL', 1,0)"
      ],
      "execution_count": 115,
      "outputs": [
        {
          "output_type": "stream",
          "text": [
            "/usr/local/lib/python3.6/dist-packages/ipykernel_launcher.py:1: SettingWithCopyWarning: \n",
            "A value is trying to be set on a copy of a slice from a DataFrame.\n",
            "Try using .loc[row_indexer,col_indexer] = value instead\n",
            "\n",
            "See the caveats in the documentation: https://pandas.pydata.org/pandas-docs/stable/user_guide/indexing.html#returning-a-view-versus-a-copy\n",
            "  \"\"\"Entry point for launching an IPython kernel.\n"
          ],
          "name": "stderr"
        }
      ]
    },
    {
      "cell_type": "code",
      "metadata": {
        "colab": {
          "base_uri": "https://localhost:8080/"
        },
        "id": "UOmsIDG36PVG",
        "outputId": "1620c5ce-15d9-4d2d-c497-5a366d37cb6c"
      },
      "source": [
        "df1['QTDE_Regime_Integral'] = np.where(df1['DS_REGIME_TRABALHO'] == 'INTEGRAL', 1,0)"
      ],
      "execution_count": 116,
      "outputs": [
        {
          "output_type": "stream",
          "text": [
            "/usr/local/lib/python3.6/dist-packages/ipykernel_launcher.py:1: SettingWithCopyWarning: \n",
            "A value is trying to be set on a copy of a slice from a DataFrame.\n",
            "Try using .loc[row_indexer,col_indexer] = value instead\n",
            "\n",
            "See the caveats in the documentation: https://pandas.pydata.org/pandas-docs/stable/user_guide/indexing.html#returning-a-view-versus-a-copy\n",
            "  \"\"\"Entry point for launching an IPython kernel.\n"
          ],
          "name": "stderr"
        }
      ]
    },
    {
      "cell_type": "code",
      "metadata": {
        "colab": {
          "base_uri": "https://localhost:8080/"
        },
        "id": "cgQ1h7-V6cVf",
        "outputId": "37568f9b-7b35-419b-fb88-a1f4584fcb82"
      },
      "source": [
        "df1['QTDE_Regime_Exclusivo'] = np.where(df1['DS_REGIME_TRABALHO'] == 'DEDICAÇÃO EXCLUSIVA', 1,0)"
      ],
      "execution_count": 117,
      "outputs": [
        {
          "output_type": "stream",
          "text": [
            "/usr/local/lib/python3.6/dist-packages/ipykernel_launcher.py:1: SettingWithCopyWarning: \n",
            "A value is trying to be set on a copy of a slice from a DataFrame.\n",
            "Try using .loc[row_indexer,col_indexer] = value instead\n",
            "\n",
            "See the caveats in the documentation: https://pandas.pydata.org/pandas-docs/stable/user_guide/indexing.html#returning-a-view-versus-a-copy\n",
            "  \"\"\"Entry point for launching an IPython kernel.\n"
          ],
          "name": "stderr"
        }
      ]
    },
    {
      "cell_type": "code",
      "metadata": {
        "colab": {
          "base_uri": "https://localhost:8080/",
          "height": 515
        },
        "id": "Ic07aWUj6jJx",
        "outputId": "d1f3ce28-e0ed-4562-8e11-53a77a6649e8"
      },
      "source": [
        "# a maioria dos dados de grau do programa é 'mestrado/doutorado' vou deixar para trata-los mais tarde e focar nos dados inerentes aos professores\r\n",
        "\r\n",
        "plt.figure(figsize=(10, 8))\r\n",
        "sns.countplot(x='NM_GRAU_PROGRAMA', color=\"azul\", palette='pastel', data = df1)"
      ],
      "execution_count": 118,
      "outputs": [
        {
          "output_type": "execute_result",
          "data": {
            "text/plain": [
              "<matplotlib.axes._subplots.AxesSubplot at 0x7f6b88ab05c0>"
            ]
          },
          "metadata": {
            "tags": []
          },
          "execution_count": 118
        },
        {
          "output_type": "display_data",
          "data": {
            "image/png": "[encoded data removed]",
            "text/plain": [
              "<Figure size 720x576 with 1 Axes>"
            ]
          },
          "metadata": {
            "tags": [],
            "needs_background": "light"
          }
        }
      ]
    },
    {
      "cell_type": "code",
      "metadata": {
        "colab": {
          "base_uri": "https://localhost:8080/"
        },
        "id": "roEh0RGU7F65",
        "outputId": "87efdab8-6a38-43ee-fd61-325ae4224206"
      },
      "source": [
        "df1['DS_TIPO_VINCULO_DOCENTE_IES'].unique()"
      ],
      "execution_count": 119,
      "outputs": [
        {
          "output_type": "execute_result",
          "data": {
            "text/plain": [
              "array(['COLABORADOR', 'SERVIDOR PÚBLICO', 'APOSENTADO', 'CLT',\n",
              "       'BOLSA DE FIXAÇÃO', nan], dtype=object)"
            ]
          },
          "metadata": {
            "tags": []
          },
          "execution_count": 119
        }
      ]
    },
    {
      "cell_type": "code",
      "metadata": {
        "colab": {
          "base_uri": "https://localhost:8080/"
        },
        "id": "zRhkVj2h7Nrv",
        "outputId": "be36c3f4-7065-4bfa-c364-9ca4b3c9fb70"
      },
      "source": [
        "df1['Profs_Colaboradores'] = np.where(df1['DS_TIPO_VINCULO_DOCENTE_IES'] == 'COLABORADOR', 1,0)"
      ],
      "execution_count": 120,
      "outputs": [
        {
          "output_type": "stream",
          "text": [
            "/usr/local/lib/python3.6/dist-packages/ipykernel_launcher.py:1: SettingWithCopyWarning: \n",
            "A value is trying to be set on a copy of a slice from a DataFrame.\n",
            "Try using .loc[row_indexer,col_indexer] = value instead\n",
            "\n",
            "See the caveats in the documentation: https://pandas.pydata.org/pandas-docs/stable/user_guide/indexing.html#returning-a-view-versus-a-copy\n",
            "  \"\"\"Entry point for launching an IPython kernel.\n"
          ],
          "name": "stderr"
        }
      ]
    },
    {
      "cell_type": "code",
      "metadata": {
        "colab": {
          "base_uri": "https://localhost:8080/"
        },
        "id": "CbvAaLZ78OyS",
        "outputId": "9ff62b4b-e48b-419e-814a-e39d12ce1fac"
      },
      "source": [
        "df1['Profs_ServidoresPublicos'] = np.where(df1['DS_TIPO_VINCULO_DOCENTE_IES'] == 'SERVIDOR PÚBLICO', 1,0)"
      ],
      "execution_count": 121,
      "outputs": [
        {
          "output_type": "stream",
          "text": [
            "/usr/local/lib/python3.6/dist-packages/ipykernel_launcher.py:1: SettingWithCopyWarning: \n",
            "A value is trying to be set on a copy of a slice from a DataFrame.\n",
            "Try using .loc[row_indexer,col_indexer] = value instead\n",
            "\n",
            "See the caveats in the documentation: https://pandas.pydata.org/pandas-docs/stable/user_guide/indexing.html#returning-a-view-versus-a-copy\n",
            "  \"\"\"Entry point for launching an IPython kernel.\n"
          ],
          "name": "stderr"
        }
      ]
    },
    {
      "cell_type": "code",
      "metadata": {
        "colab": {
          "base_uri": "https://localhost:8080/"
        },
        "id": "UPjRZd4d8bI6",
        "outputId": "a915db37-49c1-4657-cdd6-8f8b9c29dbc9"
      },
      "source": [
        "df1['Profs_Aposentados'] = np.where(df1['DS_TIPO_VINCULO_DOCENTE_IES'] == 'APOSENTADO', 1,0)"
      ],
      "execution_count": 122,
      "outputs": [
        {
          "output_type": "stream",
          "text": [
            "/usr/local/lib/python3.6/dist-packages/ipykernel_launcher.py:1: SettingWithCopyWarning: \n",
            "A value is trying to be set on a copy of a slice from a DataFrame.\n",
            "Try using .loc[row_indexer,col_indexer] = value instead\n",
            "\n",
            "See the caveats in the documentation: https://pandas.pydata.org/pandas-docs/stable/user_guide/indexing.html#returning-a-view-versus-a-copy\n",
            "  \"\"\"Entry point for launching an IPython kernel.\n"
          ],
          "name": "stderr"
        }
      ]
    },
    {
      "cell_type": "code",
      "metadata": {
        "colab": {
          "base_uri": "https://localhost:8080/"
        },
        "id": "K98zBgyx8pIg",
        "outputId": "97128bcf-9893-4b79-a6f6-114399135dad"
      },
      "source": [
        "df1['Profs_VinculoCLT'] = np.where(df1['DS_TIPO_VINCULO_DOCENTE_IES'] == 'CLT', 1,0)"
      ],
      "execution_count": 123,
      "outputs": [
        {
          "output_type": "stream",
          "text": [
            "/usr/local/lib/python3.6/dist-packages/ipykernel_launcher.py:1: SettingWithCopyWarning: \n",
            "A value is trying to be set on a copy of a slice from a DataFrame.\n",
            "Try using .loc[row_indexer,col_indexer] = value instead\n",
            "\n",
            "See the caveats in the documentation: https://pandas.pydata.org/pandas-docs/stable/user_guide/indexing.html#returning-a-view-versus-a-copy\n",
            "  \"\"\"Entry point for launching an IPython kernel.\n"
          ],
          "name": "stderr"
        }
      ]
    },
    {
      "cell_type": "code",
      "metadata": {
        "colab": {
          "base_uri": "https://localhost:8080/"
        },
        "id": "4yYvDVH081K7",
        "outputId": "dc307383-0df4-47f0-e91c-6e5a6016359b"
      },
      "source": [
        "df1['Profs_BolsaDeFixacao'] = np.where(df1['DS_TIPO_VINCULO_DOCENTE_IES'] == 'BOLSA DE FIXAÇÃO', 1,0)"
      ],
      "execution_count": 124,
      "outputs": [
        {
          "output_type": "stream",
          "text": [
            "/usr/local/lib/python3.6/dist-packages/ipykernel_launcher.py:1: SettingWithCopyWarning: \n",
            "A value is trying to be set on a copy of a slice from a DataFrame.\n",
            "Try using .loc[row_indexer,col_indexer] = value instead\n",
            "\n",
            "See the caveats in the documentation: https://pandas.pydata.org/pandas-docs/stable/user_guide/indexing.html#returning-a-view-versus-a-copy\n",
            "  \"\"\"Entry point for launching an IPython kernel.\n"
          ],
          "name": "stderr"
        }
      ]
    },
    {
      "cell_type": "code",
      "metadata": {
        "colab": {
          "base_uri": "https://localhost:8080/"
        },
        "id": "iSliY5tz9LeA",
        "outputId": "b3be051b-5bde-4c25-b70e-74ff5bee3fda"
      },
      "source": [
        "df1['QTDE_Prof_Doutor'] = np.where(df1['IN_DOUTOR'] == 'S', 1,0)"
      ],
      "execution_count": 125,
      "outputs": [
        {
          "output_type": "stream",
          "text": [
            "/usr/local/lib/python3.6/dist-packages/ipykernel_launcher.py:1: SettingWithCopyWarning: \n",
            "A value is trying to be set on a copy of a slice from a DataFrame.\n",
            "Try using .loc[row_indexer,col_indexer] = value instead\n",
            "\n",
            "See the caveats in the documentation: https://pandas.pydata.org/pandas-docs/stable/user_guide/indexing.html#returning-a-view-versus-a-copy\n",
            "  \"\"\"Entry point for launching an IPython kernel.\n"
          ],
          "name": "stderr"
        }
      ]
    },
    {
      "cell_type": "code",
      "metadata": {
        "colab": {
          "base_uri": "https://localhost:8080/"
        },
        "id": "eCFBnYE69SIi",
        "outputId": "8fd4dd02-1ba2-4e2d-b26f-4188cc70632f"
      },
      "source": [
        "df1['QTDE_Prof_NaoDoutor'] = np.where(df1['IN_DOUTOR'] == 'N', 1,0)"
      ],
      "execution_count": 126,
      "outputs": [
        {
          "output_type": "stream",
          "text": [
            "/usr/local/lib/python3.6/dist-packages/ipykernel_launcher.py:1: SettingWithCopyWarning: \n",
            "A value is trying to be set on a copy of a slice from a DataFrame.\n",
            "Try using .loc[row_indexer,col_indexer] = value instead\n",
            "\n",
            "See the caveats in the documentation: https://pandas.pydata.org/pandas-docs/stable/user_guide/indexing.html#returning-a-view-versus-a-copy\n",
            "  \"\"\"Entry point for launching an IPython kernel.\n"
          ],
          "name": "stderr"
        }
      ]
    },
    {
      "cell_type": "code",
      "metadata": {
        "colab": {
          "base_uri": "https://localhost:8080/"
        },
        "id": "823MOli79uaB",
        "outputId": "64347e08-0ece-4cfc-a924-cb567d884d7e"
      },
      "source": [
        "df1['QTDE_titulados_Brasil'] = np.where(df1['NM_PAIS_IES_TITULACAO'] == 'BRASIL', 1,0)"
      ],
      "execution_count": 127,
      "outputs": [
        {
          "output_type": "stream",
          "text": [
            "/usr/local/lib/python3.6/dist-packages/ipykernel_launcher.py:1: SettingWithCopyWarning: \n",
            "A value is trying to be set on a copy of a slice from a DataFrame.\n",
            "Try using .loc[row_indexer,col_indexer] = value instead\n",
            "\n",
            "See the caveats in the documentation: https://pandas.pydata.org/pandas-docs/stable/user_guide/indexing.html#returning-a-view-versus-a-copy\n",
            "  \"\"\"Entry point for launching an IPython kernel.\n"
          ],
          "name": "stderr"
        }
      ]
    },
    {
      "cell_type": "code",
      "metadata": {
        "colab": {
          "base_uri": "https://localhost:8080/"
        },
        "id": "ppkRjb_z95FE",
        "outputId": "697200dc-b60a-43d1-eaec-ecb3450bf5fe"
      },
      "source": [
        "df1['QTDE_titulados_Exterior'] = np.where(df1['NM_PAIS_IES_TITULACAO'] != 'BRASIL', 1,0)"
      ],
      "execution_count": 128,
      "outputs": [
        {
          "output_type": "stream",
          "text": [
            "/usr/local/lib/python3.6/dist-packages/ipykernel_launcher.py:1: SettingWithCopyWarning: \n",
            "A value is trying to be set on a copy of a slice from a DataFrame.\n",
            "Try using .loc[row_indexer,col_indexer] = value instead\n",
            "\n",
            "See the caveats in the documentation: https://pandas.pydata.org/pandas-docs/stable/user_guide/indexing.html#returning-a-view-versus-a-copy\n",
            "  \"\"\"Entry point for launching an IPython kernel.\n"
          ],
          "name": "stderr"
        }
      ]
    },
    {
      "cell_type": "code",
      "metadata": {
        "colab": {
          "base_uri": "https://localhost:8080/"
        },
        "id": "P97YzJNd-Sf4",
        "outputId": "c0d3754c-9906-4b4e-ec8f-9bfc8397a9c1"
      },
      "source": [
        "# verificar mais tarde\r\n",
        "\r\n",
        "df1['NM_GRAU_TITULACAO'].unique()"
      ],
      "execution_count": 129,
      "outputs": [
        {
          "output_type": "execute_result",
          "data": {
            "text/plain": [
              "array(['DOUTORADO', nan, 'MESTRADO', 'BACHARELADO',\n",
              "       'MESTRADO PROFISSIONAL', 'GRADUAÇÃO'], dtype=object)"
            ]
          },
          "metadata": {
            "tags": []
          },
          "execution_count": 129
        }
      ]
    },
    {
      "cell_type": "code",
      "metadata": {
        "colab": {
          "base_uri": "https://localhost:8080/"
        },
        "id": "k8LcnikR-KrL",
        "outputId": "46b8e5c7-17e4-4581-f17b-28a67c33190e"
      },
      "source": [
        "#verificar mais tarde\r\n",
        "\r\n",
        "df1['DS_CLIENTELA_QUADRIENAL_2017'].unique()"
      ],
      "execution_count": 130,
      "outputs": [
        {
          "output_type": "execute_result",
          "data": {
            "text/plain": [
              "array(['AVALIAÇÃO', 'NÃO', 'AVALIAÇÃO PROFs', 'ACOMPANHAMENTO', nan],\n",
              "      dtype=object)"
            ]
          },
          "metadata": {
            "tags": []
          },
          "execution_count": 130
        }
      ]
    },
    {
      "cell_type": "code",
      "metadata": {
        "colab": {
          "base_uri": "https://localhost:8080/",
          "height": 394
        },
        "id": "VnCrXGdw-BGW",
        "outputId": "9113abaa-198f-44c7-f028-20a37a1bef12"
      },
      "source": [
        "df1.head()"
      ],
      "execution_count": 131,
      "outputs": [
        {
          "output_type": "execute_result",
          "data": {
            "text/html": [
              "<div>\n",
              "<style scoped>\n",
              "    .dataframe tbody tr th:only-of-type {\n",
              "        vertical-align: middle;\n",
              "    }\n",
              "\n",
              "    .dataframe tbody tr th {\n",
              "        vertical-align: top;\n",
              "    }\n",
              "\n",
              "    .dataframe thead th {\n",
              "        text-align: right;\n",
              "    }\n",
              "</style>\n",
              "<table border=\"1\" class=\"dataframe\">\n",
              "  <thead>\n",
              "    <tr style=\"text-align: right;\">\n",
              "      <th></th>\n",
              "      <th>AN_BASE</th>\n",
              "      <th>CD_AREA_AVALIACAO</th>\n",
              "      <th>NM_AREA_AVALIACAO</th>\n",
              "      <th>NM_GRANDE_AREA_CONHECIMENTO</th>\n",
              "      <th>NM_AREA_CONHECIMENTO</th>\n",
              "      <th>CD_PROGRAMA_IES</th>\n",
              "      <th>NM_PROGRAMA_IES</th>\n",
              "      <th>NM_GRAU_PROGRAMA</th>\n",
              "      <th>NM_MODALIDADE_PROGRAMA</th>\n",
              "      <th>CD_CONCEITO_PROGRAMA</th>\n",
              "      <th>SG_ENTIDADE_ENSINO</th>\n",
              "      <th>NM_ENTIDADE_ENSINO</th>\n",
              "      <th>CS_STATUS_JURIDICO</th>\n",
              "      <th>SG_UF_PROGRAMA</th>\n",
              "      <th>NM_REGIAO</th>\n",
              "      <th>ID_PESSOA</th>\n",
              "      <th>TP_SEXO_DOCENTE</th>\n",
              "      <th>AN_NASCIMENTO_DOCENTE</th>\n",
              "      <th>DS_FAIXA_ETARIA</th>\n",
              "      <th>NM_PAIS_NACIONALIDADE_DOCENTE</th>\n",
              "      <th>DS_TIPO_VINCULO_DOCENTE_IES</th>\n",
              "      <th>DS_REGIME_TRABALHO</th>\n",
              "      <th>CD_CAT_BOLSA_PRODUTIVIDADE</th>\n",
              "      <th>IN_DOUTOR</th>\n",
              "      <th>AN_TITULACAO</th>\n",
              "      <th>NM_GRAU_TITULACAO</th>\n",
              "      <th>SG_IES_TITULACAO</th>\n",
              "      <th>NM_IES_TITULACAO</th>\n",
              "      <th>NM_PAIS_IES_TITULACAO</th>\n",
              "      <th>DS_CLIENTELA_QUADRIENAL_2017</th>\n",
              "      <th>Mulheres</th>\n",
              "      <th>Homens</th>\n",
              "      <th>QTD_DOCENTES</th>\n",
              "      <th>Brasileiros</th>\n",
              "      <th>Estrangeiros</th>\n",
              "      <th>QTDE_Regime_Parcial</th>\n",
              "      <th>QTDE_Regime_Integral</th>\n",
              "      <th>QTDE_Regime_Exclusivo</th>\n",
              "      <th>Profs_Colaboradores</th>\n",
              "      <th>Profs_ServidoresPublicos</th>\n",
              "      <th>Profs_Aposentados</th>\n",
              "      <th>Profs_VinculoCLT</th>\n",
              "      <th>Profs_BolsaDeFixacao</th>\n",
              "      <th>QTDE_Prof_Doutor</th>\n",
              "      <th>QTDE_Prof_NaoDoutor</th>\n",
              "      <th>QTDE_titulados_Brasil</th>\n",
              "      <th>QTDE_titulados_Exterior</th>\n",
              "    </tr>\n",
              "  </thead>\n",
              "  <tbody>\n",
              "    <tr>\n",
              "      <th>0</th>\n",
              "      <td>2013</td>\n",
              "      <td>9</td>\n",
              "      <td>CIÊNCIAS BIOLÓGICAS III</td>\n",
              "      <td>CIÊNCIAS BIOLÓGICAS</td>\n",
              "      <td>PARASITOLOGIA</td>\n",
              "      <td>10001018002P1</td>\n",
              "      <td>BIOLOGIA EXPERIMENTAL</td>\n",
              "      <td>MESTRADO/DOUTORADO</td>\n",
              "      <td>ACADÊMICO</td>\n",
              "      <td>3</td>\n",
              "      <td>UNIR</td>\n",
              "      <td>UNIVERSIDADE FEDERAL DE RONDÔNIA</td>\n",
              "      <td>FEDERAL</td>\n",
              "      <td>RO</td>\n",
              "      <td>NORTE</td>\n",
              "      <td>832956</td>\n",
              "      <td>FEMININO</td>\n",
              "      <td>1975</td>\n",
              "      <td>35 A 39 ANOS</td>\n",
              "      <td>BRASIL</td>\n",
              "      <td>COLABORADOR</td>\n",
              "      <td>PARCIAL</td>\n",
              "      <td>NaN</td>\n",
              "      <td>S</td>\n",
              "      <td>2008.0</td>\n",
              "      <td>DOUTORADO</td>\n",
              "      <td>PARIS 7</td>\n",
              "      <td>UNIVERSITÉ PARIS DIDEROT - PARIS VII</td>\n",
              "      <td>FRANÇA</td>\n",
              "      <td>AVALIAÇÃO</td>\n",
              "      <td>1</td>\n",
              "      <td>0</td>\n",
              "      <td>1</td>\n",
              "      <td>1</td>\n",
              "      <td>0</td>\n",
              "      <td>1</td>\n",
              "      <td>0</td>\n",
              "      <td>0</td>\n",
              "      <td>1</td>\n",
              "      <td>0</td>\n",
              "      <td>0</td>\n",
              "      <td>0</td>\n",
              "      <td>0</td>\n",
              "      <td>1</td>\n",
              "      <td>0</td>\n",
              "      <td>0</td>\n",
              "      <td>1</td>\n",
              "    </tr>\n",
              "    <tr>\n",
              "      <th>1</th>\n",
              "      <td>2013</td>\n",
              "      <td>9</td>\n",
              "      <td>CIÊNCIAS BIOLÓGICAS III</td>\n",
              "      <td>CIÊNCIAS BIOLÓGICAS</td>\n",
              "      <td>PARASITOLOGIA</td>\n",
              "      <td>10001018002P1</td>\n",
              "      <td>BIOLOGIA EXPERIMENTAL</td>\n",
              "      <td>MESTRADO/DOUTORADO</td>\n",
              "      <td>ACADÊMICO</td>\n",
              "      <td>3</td>\n",
              "      <td>UNIR</td>\n",
              "      <td>UNIVERSIDADE FEDERAL DE RONDÔNIA</td>\n",
              "      <td>FEDERAL</td>\n",
              "      <td>RO</td>\n",
              "      <td>NORTE</td>\n",
              "      <td>34738</td>\n",
              "      <td>MASCULINO</td>\n",
              "      <td>1978</td>\n",
              "      <td>35 A 39 ANOS</td>\n",
              "      <td>BRASIL</td>\n",
              "      <td>COLABORADOR</td>\n",
              "      <td>PARCIAL</td>\n",
              "      <td>NaN</td>\n",
              "      <td>S</td>\n",
              "      <td>2008.0</td>\n",
              "      <td>DOUTORADO</td>\n",
              "      <td>USP/RP</td>\n",
              "      <td>UNIVERSIDADE DE SÃO PAULO/ RIBEIRÃO PRETO</td>\n",
              "      <td>BRASIL</td>\n",
              "      <td>AVALIAÇÃO</td>\n",
              "      <td>0</td>\n",
              "      <td>1</td>\n",
              "      <td>1</td>\n",
              "      <td>1</td>\n",
              "      <td>0</td>\n",
              "      <td>1</td>\n",
              "      <td>0</td>\n",
              "      <td>0</td>\n",
              "      <td>1</td>\n",
              "      <td>0</td>\n",
              "      <td>0</td>\n",
              "      <td>0</td>\n",
              "      <td>0</td>\n",
              "      <td>1</td>\n",
              "      <td>0</td>\n",
              "      <td>1</td>\n",
              "      <td>0</td>\n",
              "    </tr>\n",
              "    <tr>\n",
              "      <th>2</th>\n",
              "      <td>2013</td>\n",
              "      <td>9</td>\n",
              "      <td>CIÊNCIAS BIOLÓGICAS III</td>\n",
              "      <td>CIÊNCIAS BIOLÓGICAS</td>\n",
              "      <td>PARASITOLOGIA</td>\n",
              "      <td>10001018002P1</td>\n",
              "      <td>BIOLOGIA EXPERIMENTAL</td>\n",
              "      <td>MESTRADO/DOUTORADO</td>\n",
              "      <td>ACADÊMICO</td>\n",
              "      <td>3</td>\n",
              "      <td>UNIR</td>\n",
              "      <td>UNIVERSIDADE FEDERAL DE RONDÔNIA</td>\n",
              "      <td>FEDERAL</td>\n",
              "      <td>RO</td>\n",
              "      <td>NORTE</td>\n",
              "      <td>729344</td>\n",
              "      <td>MASCULINO</td>\n",
              "      <td>1954</td>\n",
              "      <td>55 A 59 ANOS</td>\n",
              "      <td>BRASIL</td>\n",
              "      <td>COLABORADOR</td>\n",
              "      <td>PARCIAL</td>\n",
              "      <td>NaN</td>\n",
              "      <td>S</td>\n",
              "      <td>2008.0</td>\n",
              "      <td>DOUTORADO</td>\n",
              "      <td>UNIR</td>\n",
              "      <td>UNIVERSIDADE FEDERAL DE RONDÔNIA</td>\n",
              "      <td>BRASIL</td>\n",
              "      <td>AVALIAÇÃO</td>\n",
              "      <td>0</td>\n",
              "      <td>1</td>\n",
              "      <td>1</td>\n",
              "      <td>1</td>\n",
              "      <td>0</td>\n",
              "      <td>1</td>\n",
              "      <td>0</td>\n",
              "      <td>0</td>\n",
              "      <td>1</td>\n",
              "      <td>0</td>\n",
              "      <td>0</td>\n",
              "      <td>0</td>\n",
              "      <td>0</td>\n",
              "      <td>1</td>\n",
              "      <td>0</td>\n",
              "      <td>1</td>\n",
              "      <td>0</td>\n",
              "    </tr>\n",
              "    <tr>\n",
              "      <th>3</th>\n",
              "      <td>2013</td>\n",
              "      <td>9</td>\n",
              "      <td>CIÊNCIAS BIOLÓGICAS III</td>\n",
              "      <td>CIÊNCIAS BIOLÓGICAS</td>\n",
              "      <td>PARASITOLOGIA</td>\n",
              "      <td>10001018002P1</td>\n",
              "      <td>BIOLOGIA EXPERIMENTAL</td>\n",
              "      <td>MESTRADO/DOUTORADO</td>\n",
              "      <td>ACADÊMICO</td>\n",
              "      <td>3</td>\n",
              "      <td>UNIR</td>\n",
              "      <td>UNIVERSIDADE FEDERAL DE RONDÔNIA</td>\n",
              "      <td>FEDERAL</td>\n",
              "      <td>RO</td>\n",
              "      <td>NORTE</td>\n",
              "      <td>526496</td>\n",
              "      <td>FEMININO</td>\n",
              "      <td>1966</td>\n",
              "      <td>45 A 49 ANOS</td>\n",
              "      <td>BRASIL</td>\n",
              "      <td>SERVIDOR PÚBLICO</td>\n",
              "      <td>INTEGRAL</td>\n",
              "      <td>NaN</td>\n",
              "      <td>S</td>\n",
              "      <td>1999.0</td>\n",
              "      <td>DOUTORADO</td>\n",
              "      <td>USP/RP</td>\n",
              "      <td>UNIVERSIDADE DE SÃO PAULO/ RIBEIRÃO PRETO</td>\n",
              "      <td>BRASIL</td>\n",
              "      <td>AVALIAÇÃO</td>\n",
              "      <td>1</td>\n",
              "      <td>0</td>\n",
              "      <td>1</td>\n",
              "      <td>1</td>\n",
              "      <td>0</td>\n",
              "      <td>0</td>\n",
              "      <td>1</td>\n",
              "      <td>0</td>\n",
              "      <td>0</td>\n",
              "      <td>1</td>\n",
              "      <td>0</td>\n",
              "      <td>0</td>\n",
              "      <td>0</td>\n",
              "      <td>1</td>\n",
              "      <td>0</td>\n",
              "      <td>1</td>\n",
              "      <td>0</td>\n",
              "    </tr>\n",
              "    <tr>\n",
              "      <th>4</th>\n",
              "      <td>2013</td>\n",
              "      <td>9</td>\n",
              "      <td>CIÊNCIAS BIOLÓGICAS III</td>\n",
              "      <td>CIÊNCIAS BIOLÓGICAS</td>\n",
              "      <td>PARASITOLOGIA</td>\n",
              "      <td>10001018002P1</td>\n",
              "      <td>BIOLOGIA EXPERIMENTAL</td>\n",
              "      <td>MESTRADO/DOUTORADO</td>\n",
              "      <td>ACADÊMICO</td>\n",
              "      <td>3</td>\n",
              "      <td>UNIR</td>\n",
              "      <td>UNIVERSIDADE FEDERAL DE RONDÔNIA</td>\n",
              "      <td>FEDERAL</td>\n",
              "      <td>RO</td>\n",
              "      <td>NORTE</td>\n",
              "      <td>10229</td>\n",
              "      <td>MASCULINO</td>\n",
              "      <td>1928</td>\n",
              "      <td>70 OU MAIS</td>\n",
              "      <td>BRASIL</td>\n",
              "      <td>APOSENTADO</td>\n",
              "      <td>PARCIAL</td>\n",
              "      <td>NaN</td>\n",
              "      <td>S</td>\n",
              "      <td>1960.0</td>\n",
              "      <td>DOUTORADO</td>\n",
              "      <td>USP</td>\n",
              "      <td>UNIVERSIDADE DE SÃO PAULO</td>\n",
              "      <td>BRASIL</td>\n",
              "      <td>AVALIAÇÃO</td>\n",
              "      <td>0</td>\n",
              "      <td>1</td>\n",
              "      <td>1</td>\n",
              "      <td>1</td>\n",
              "      <td>0</td>\n",
              "      <td>1</td>\n",
              "      <td>0</td>\n",
              "      <td>0</td>\n",
              "      <td>0</td>\n",
              "      <td>0</td>\n",
              "      <td>1</td>\n",
              "      <td>0</td>\n",
              "      <td>0</td>\n",
              "      <td>1</td>\n",
              "      <td>0</td>\n",
              "      <td>1</td>\n",
              "      <td>0</td>\n",
              "    </tr>\n",
              "  </tbody>\n",
              "</table>\n",
              "</div>"
            ],
            "text/plain": [
              "   AN_BASE  CD_AREA_AVALIACAO  ... QTDE_titulados_Brasil QTDE_titulados_Exterior\n",
              "0     2013                  9  ...                     0                       1\n",
              "1     2013                  9  ...                     1                       0\n",
              "2     2013                  9  ...                     1                       0\n",
              "3     2013                  9  ...                     1                       0\n",
              "4     2013                  9  ...                     1                       0\n",
              "\n",
              "[5 rows x 47 columns]"
            ]
          },
          "metadata": {
            "tags": []
          },
          "execution_count": 131
        }
      ]
    },
    {
      "cell_type": "markdown",
      "metadata": {
        "id": "YHHqV_IuEYRV"
      },
      "source": [
        "- Algumas visualizações relacionadas a conceito"
      ]
    },
    {
      "cell_type": "code",
      "metadata": {
        "colab": {
          "base_uri": "https://localhost:8080/",
          "height": 450
        },
        "id": "7R4WzP62Gkwh",
        "outputId": "4eb83c05-19d4-45cd-f523-3a561112f3ca"
      },
      "source": [
        "df1.groupby('CD_PROGRAMA_IES').CD_CONCEITO_PROGRAMA.agg(['min','max','mean'])"
      ],
      "execution_count": 144,
      "outputs": [
        {
          "output_type": "execute_result",
          "data": {
            "text/html": [
              "<div>\n",
              "<style scoped>\n",
              "    .dataframe tbody tr th:only-of-type {\n",
              "        vertical-align: middle;\n",
              "    }\n",
              "\n",
              "    .dataframe tbody tr th {\n",
              "        vertical-align: top;\n",
              "    }\n",
              "\n",
              "    .dataframe thead th {\n",
              "        text-align: right;\n",
              "    }\n",
              "</style>\n",
              "<table border=\"1\" class=\"dataframe\">\n",
              "  <thead>\n",
              "    <tr style=\"text-align: right;\">\n",
              "      <th></th>\n",
              "      <th>min</th>\n",
              "      <th>max</th>\n",
              "      <th>mean</th>\n",
              "    </tr>\n",
              "    <tr>\n",
              "      <th>CD_PROGRAMA_IES</th>\n",
              "      <th></th>\n",
              "      <th></th>\n",
              "      <th></th>\n",
              "    </tr>\n",
              "  </thead>\n",
              "  <tbody>\n",
              "    <tr>\n",
              "      <th>10001018002P1</th>\n",
              "      <td>3</td>\n",
              "      <td>4</td>\n",
              "      <td>3.398649</td>\n",
              "    </tr>\n",
              "    <tr>\n",
              "      <th>10001018004P4</th>\n",
              "      <td>4</td>\n",
              "      <td>4</td>\n",
              "      <td>4.000000</td>\n",
              "    </tr>\n",
              "    <tr>\n",
              "      <th>10001018005P0</th>\n",
              "      <td>4</td>\n",
              "      <td>4</td>\n",
              "      <td>4.000000</td>\n",
              "    </tr>\n",
              "    <tr>\n",
              "      <th>10001018006P7</th>\n",
              "      <td>3</td>\n",
              "      <td>4</td>\n",
              "      <td>3.542169</td>\n",
              "    </tr>\n",
              "    <tr>\n",
              "      <th>10001018008P0</th>\n",
              "      <td>2</td>\n",
              "      <td>2</td>\n",
              "      <td>2.000000</td>\n",
              "    </tr>\n",
              "    <tr>\n",
              "      <th>...</th>\n",
              "      <td>...</td>\n",
              "      <td>...</td>\n",
              "      <td>...</td>\n",
              "    </tr>\n",
              "    <tr>\n",
              "      <th>53029011002P7</th>\n",
              "      <td>3</td>\n",
              "      <td>3</td>\n",
              "      <td>3.000000</td>\n",
              "    </tr>\n",
              "    <tr>\n",
              "      <th>53032012001P8</th>\n",
              "      <td>3</td>\n",
              "      <td>3</td>\n",
              "      <td>3.000000</td>\n",
              "    </tr>\n",
              "    <tr>\n",
              "      <th>53037014001P0</th>\n",
              "      <td>3</td>\n",
              "      <td>4</td>\n",
              "      <td>3.460000</td>\n",
              "    </tr>\n",
              "    <tr>\n",
              "      <th>53044002001P7</th>\n",
              "      <td>3</td>\n",
              "      <td>3</td>\n",
              "      <td>3.000000</td>\n",
              "    </tr>\n",
              "    <tr>\n",
              "      <th>53045009001P3</th>\n",
              "      <td>3</td>\n",
              "      <td>3</td>\n",
              "      <td>3.000000</td>\n",
              "    </tr>\n",
              "  </tbody>\n",
              "</table>\n",
              "<p>4466 rows × 3 columns</p>\n",
              "</div>"
            ],
            "text/plain": [
              "                 min  max      mean\n",
              "CD_PROGRAMA_IES                    \n",
              "10001018002P1      3    4  3.398649\n",
              "10001018004P4      4    4  4.000000\n",
              "10001018005P0      4    4  4.000000\n",
              "10001018006P7      3    4  3.542169\n",
              "10001018008P0      2    2  2.000000\n",
              "...              ...  ...       ...\n",
              "53029011002P7      3    3  3.000000\n",
              "53032012001P8      3    3  3.000000\n",
              "53037014001P0      3    4  3.460000\n",
              "53044002001P7      3    3  3.000000\n",
              "53045009001P3      3    3  3.000000\n",
              "\n",
              "[4466 rows x 3 columns]"
            ]
          },
          "metadata": {
            "tags": []
          },
          "execution_count": 144
        }
      ]
    },
    {
      "cell_type": "code",
      "metadata": {
        "id": "FqHK9FgkCc9s",
        "colab": {
          "base_uri": "https://localhost:8080/",
          "height": 450
        },
        "outputId": "92c77141-e769-4bb1-9372-6b3447df507d"
      },
      "source": [
        "df1.groupby('CD_PROGRAMA_IES').CD_CONCEITO_PROGRAMA.agg(['min','max','mean']).sort_values(by='mean', ascending=False)"
      ],
      "execution_count": 143,
      "outputs": [
        {
          "output_type": "execute_result",
          "data": {
            "text/html": [
              "<div>\n",
              "<style scoped>\n",
              "    .dataframe tbody tr th:only-of-type {\n",
              "        vertical-align: middle;\n",
              "    }\n",
              "\n",
              "    .dataframe tbody tr th {\n",
              "        vertical-align: top;\n",
              "    }\n",
              "\n",
              "    .dataframe thead th {\n",
              "        text-align: right;\n",
              "    }\n",
              "</style>\n",
              "<table border=\"1\" class=\"dataframe\">\n",
              "  <thead>\n",
              "    <tr style=\"text-align: right;\">\n",
              "      <th></th>\n",
              "      <th>min</th>\n",
              "      <th>max</th>\n",
              "      <th>mean</th>\n",
              "    </tr>\n",
              "    <tr>\n",
              "      <th>CD_PROGRAMA_IES</th>\n",
              "      <th></th>\n",
              "      <th></th>\n",
              "      <th></th>\n",
              "    </tr>\n",
              "  </thead>\n",
              "  <tbody>\n",
              "    <tr>\n",
              "      <th>33003017003P5</th>\n",
              "      <td>7</td>\n",
              "      <td>7</td>\n",
              "      <td>7.0</td>\n",
              "    </tr>\n",
              "    <tr>\n",
              "      <th>33002061001P3</th>\n",
              "      <td>7</td>\n",
              "      <td>7</td>\n",
              "      <td>7.0</td>\n",
              "    </tr>\n",
              "    <tr>\n",
              "      <th>42001013047P5</th>\n",
              "      <td>7</td>\n",
              "      <td>7</td>\n",
              "      <td>7.0</td>\n",
              "    </tr>\n",
              "    <tr>\n",
              "      <th>33002045020P7</th>\n",
              "      <td>7</td>\n",
              "      <td>7</td>\n",
              "      <td>7.0</td>\n",
              "    </tr>\n",
              "    <tr>\n",
              "      <th>53001010003P2</th>\n",
              "      <td>7</td>\n",
              "      <td>7</td>\n",
              "      <td>7.0</td>\n",
              "    </tr>\n",
              "    <tr>\n",
              "      <th>...</th>\n",
              "      <td>...</td>\n",
              "      <td>...</td>\n",
              "      <td>...</td>\n",
              "    </tr>\n",
              "    <tr>\n",
              "      <th>12001015020P5</th>\n",
              "      <td>2</td>\n",
              "      <td>2</td>\n",
              "      <td>2.0</td>\n",
              "    </tr>\n",
              "    <tr>\n",
              "      <th>12001015028P6</th>\n",
              "      <td>2</td>\n",
              "      <td>2</td>\n",
              "      <td>2.0</td>\n",
              "    </tr>\n",
              "    <tr>\n",
              "      <th>33078017005P2</th>\n",
              "      <td>1</td>\n",
              "      <td>1</td>\n",
              "      <td>1.0</td>\n",
              "    </tr>\n",
              "    <tr>\n",
              "      <th>41001010082P6</th>\n",
              "      <td>1</td>\n",
              "      <td>1</td>\n",
              "      <td>1.0</td>\n",
              "    </tr>\n",
              "    <tr>\n",
              "      <th>31032010004P9</th>\n",
              "      <td>1</td>\n",
              "      <td>1</td>\n",
              "      <td>1.0</td>\n",
              "    </tr>\n",
              "  </tbody>\n",
              "</table>\n",
              "<p>4466 rows × 3 columns</p>\n",
              "</div>"
            ],
            "text/plain": [
              "                 min  max  mean\n",
              "CD_PROGRAMA_IES                \n",
              "33003017003P5      7    7   7.0\n",
              "33002061001P3      7    7   7.0\n",
              "42001013047P5      7    7   7.0\n",
              "33002045020P7      7    7   7.0\n",
              "53001010003P2      7    7   7.0\n",
              "...              ...  ...   ...\n",
              "12001015020P5      2    2   2.0\n",
              "12001015028P6      2    2   2.0\n",
              "33078017005P2      1    1   1.0\n",
              "41001010082P6      1    1   1.0\n",
              "31032010004P9      1    1   1.0\n",
              "\n",
              "[4466 rows x 3 columns]"
            ]
          },
          "metadata": {
            "tags": []
          },
          "execution_count": 143
        }
      ]
    },
    {
      "cell_type": "code",
      "metadata": {
        "colab": {
          "base_uri": "https://localhost:8080/"
        },
        "id": "jOJpudU2G5Nq",
        "outputId": "cac66bc9-bbae-4854-e3c4-ae658bdb90b3"
      },
      "source": [
        "df1['CD_AREA_AVALIACAO'].unique()"
      ],
      "execution_count": 146,
      "outputs": [
        {
          "output_type": "execute_result",
          "data": {
            "text/plain": [
              "array([ 9, 45, 36, 27, 41, 37, 38, 49,  7, 42, 22,  4, 25,  3,  5, 13,  2,\n",
              "       48,  1, 14, 10, 40, 34, 23, 32, 35, 31, 19, 47, 18,  6, 16, 26, 46,\n",
              "       30, 12,  8, 28, 39, 11, 24, 29, 20, 33, 15, 44, 17, 50, 21])"
            ]
          },
          "metadata": {
            "tags": []
          },
          "execution_count": 146
        }
      ]
    },
    {
      "cell_type": "markdown",
      "metadata": {
        "id": "0le4dIIkHcqy"
      },
      "source": [
        "- Dados agrupados por Área de avaliação calculando o valor minimo, máximo ordenados por média."
      ]
    },
    {
      "cell_type": "code",
      "metadata": {
        "colab": {
          "base_uri": "https://localhost:8080/",
          "height": 1000
        },
        "id": "oVYQeyvqG0K4",
        "outputId": "dd0d60e9-40bb-4ba8-b710-4bd18a2e1b53"
      },
      "source": [
        "# como mostrar a coluna de Nome da área também?\r\n",
        "df1.groupby('NM_AREA_AVALIACAO').CD_CONCEITO_PROGRAMA.agg(['min','max','mean']).sort_values(by='mean', ascending=False)\r\n",
        "\r\n",
        "# matematica é vida, change my mind"
      ],
      "execution_count": 158,
      "outputs": [
        {
          "output_type": "execute_result",
          "data": {
            "text/html": [
              "<div>\n",
              "<style scoped>\n",
              "    .dataframe tbody tr th:only-of-type {\n",
              "        vertical-align: middle;\n",
              "    }\n",
              "\n",
              "    .dataframe tbody tr th {\n",
              "        vertical-align: top;\n",
              "    }\n",
              "\n",
              "    .dataframe thead th {\n",
              "        text-align: right;\n",
              "    }\n",
              "</style>\n",
              "<table border=\"1\" class=\"dataframe\">\n",
              "  <thead>\n",
              "    <tr style=\"text-align: right;\">\n",
              "      <th></th>\n",
              "      <th>min</th>\n",
              "      <th>max</th>\n",
              "      <th>mean</th>\n",
              "    </tr>\n",
              "    <tr>\n",
              "      <th>NM_AREA_AVALIACAO</th>\n",
              "      <th></th>\n",
              "      <th></th>\n",
              "      <th></th>\n",
              "    </tr>\n",
              "  </thead>\n",
              "  <tbody>\n",
              "    <tr>\n",
              "      <th>CIÊNCIAS BIOLÓGICAS III</th>\n",
              "      <td>2</td>\n",
              "      <td>7</td>\n",
              "      <td>5.253547</td>\n",
              "    </tr>\n",
              "    <tr>\n",
              "      <th>CIÊNCIAS BIOLÓGICAS II</th>\n",
              "      <td>2</td>\n",
              "      <td>7</td>\n",
              "      <td>5.055178</td>\n",
              "    </tr>\n",
              "    <tr>\n",
              "      <th>ASTRONOMIA / FÍSICA</th>\n",
              "      <td>2</td>\n",
              "      <td>7</td>\n",
              "      <td>5.013819</td>\n",
              "    </tr>\n",
              "    <tr>\n",
              "      <th>QUÍMICA</th>\n",
              "      <td>2</td>\n",
              "      <td>7</td>\n",
              "      <td>4.964991</td>\n",
              "    </tr>\n",
              "    <tr>\n",
              "      <th>MATEMÁTICA / PROBABILIDADE E ESTATÍSTICA</th>\n",
              "      <td>3</td>\n",
              "      <td>7</td>\n",
              "      <td>4.879934</td>\n",
              "    </tr>\n",
              "    <tr>\n",
              "      <th>CIÊNCIAS BIOLÓGICAS I</th>\n",
              "      <td>2</td>\n",
              "      <td>7</td>\n",
              "      <td>4.737299</td>\n",
              "    </tr>\n",
              "    <tr>\n",
              "      <th>GEOCIÊNCIAS</th>\n",
              "      <td>3</td>\n",
              "      <td>7</td>\n",
              "      <td>4.689243</td>\n",
              "    </tr>\n",
              "    <tr>\n",
              "      <th>MEDICINA II</th>\n",
              "      <td>2</td>\n",
              "      <td>7</td>\n",
              "      <td>4.591141</td>\n",
              "    </tr>\n",
              "    <tr>\n",
              "      <th>LINGUÍSTICA E LITERATURA</th>\n",
              "      <td>2</td>\n",
              "      <td>7</td>\n",
              "      <td>4.537373</td>\n",
              "    </tr>\n",
              "    <tr>\n",
              "      <th>MEDICINA VETERINÁRIA</th>\n",
              "      <td>3</td>\n",
              "      <td>7</td>\n",
              "      <td>4.522038</td>\n",
              "    </tr>\n",
              "    <tr>\n",
              "      <th>ANTROPOLOGIA / ARQUEOLOGIA</th>\n",
              "      <td>3</td>\n",
              "      <td>7</td>\n",
              "      <td>4.521492</td>\n",
              "    </tr>\n",
              "    <tr>\n",
              "      <th>MEDICINA I</th>\n",
              "      <td>2</td>\n",
              "      <td>7</td>\n",
              "      <td>4.492270</td>\n",
              "    </tr>\n",
              "    <tr>\n",
              "      <th>ENGENHARIAS IV</th>\n",
              "      <td>2</td>\n",
              "      <td>7</td>\n",
              "      <td>4.478614</td>\n",
              "    </tr>\n",
              "    <tr>\n",
              "      <th>ENGENHARIAS II</th>\n",
              "      <td>2</td>\n",
              "      <td>7</td>\n",
              "      <td>4.403328</td>\n",
              "    </tr>\n",
              "    <tr>\n",
              "      <th>ECONOMIA</th>\n",
              "      <td>3</td>\n",
              "      <td>7</td>\n",
              "      <td>4.399729</td>\n",
              "    </tr>\n",
              "    <tr>\n",
              "      <th>GEOGRAFIA</th>\n",
              "      <td>3</td>\n",
              "      <td>7</td>\n",
              "      <td>4.386235</td>\n",
              "    </tr>\n",
              "    <tr>\n",
              "      <th>CIÊNCIAS AGRÁRIAS I</th>\n",
              "      <td>3</td>\n",
              "      <td>7</td>\n",
              "      <td>4.383463</td>\n",
              "    </tr>\n",
              "    <tr>\n",
              "      <th>BIODIVERSIDADE</th>\n",
              "      <td>1</td>\n",
              "      <td>7</td>\n",
              "      <td>4.371309</td>\n",
              "    </tr>\n",
              "    <tr>\n",
              "      <th>CIÊNCIA DA COMPUTAÇÃO</th>\n",
              "      <td>2</td>\n",
              "      <td>7</td>\n",
              "      <td>4.364633</td>\n",
              "    </tr>\n",
              "    <tr>\n",
              "      <th>SERVIÇO SOCIAL</th>\n",
              "      <td>3</td>\n",
              "      <td>7</td>\n",
              "      <td>4.360600</td>\n",
              "    </tr>\n",
              "    <tr>\n",
              "      <th>ODONTOLOGIA</th>\n",
              "      <td>2</td>\n",
              "      <td>7</td>\n",
              "      <td>4.356259</td>\n",
              "    </tr>\n",
              "    <tr>\n",
              "      <th>FILOSOFIA/TEOLOGIA:SUBCOMISSÃO TEOLOGIA</th>\n",
              "      <td>3</td>\n",
              "      <td>6</td>\n",
              "      <td>4.351020</td>\n",
              "    </tr>\n",
              "    <tr>\n",
              "      <th>SAÚDE COLETIVA</th>\n",
              "      <td>2</td>\n",
              "      <td>7</td>\n",
              "      <td>4.345438</td>\n",
              "    </tr>\n",
              "    <tr>\n",
              "      <th>SOCIOLOGIA</th>\n",
              "      <td>1</td>\n",
              "      <td>7</td>\n",
              "      <td>4.339256</td>\n",
              "    </tr>\n",
              "    <tr>\n",
              "      <th>FILOSOFIA</th>\n",
              "      <td>2</td>\n",
              "      <td>7</td>\n",
              "      <td>4.329307</td>\n",
              "    </tr>\n",
              "    <tr>\n",
              "      <th>HISTÓRIA</th>\n",
              "      <td>2</td>\n",
              "      <td>7</td>\n",
              "      <td>4.326042</td>\n",
              "    </tr>\n",
              "    <tr>\n",
              "      <th>ARTES</th>\n",
              "      <td>2</td>\n",
              "      <td>7</td>\n",
              "      <td>4.310540</td>\n",
              "    </tr>\n",
              "    <tr>\n",
              "      <th>ENFERMAGEM</th>\n",
              "      <td>2</td>\n",
              "      <td>7</td>\n",
              "      <td>4.292318</td>\n",
              "    </tr>\n",
              "    <tr>\n",
              "      <th>PSICOLOGIA</th>\n",
              "      <td>3</td>\n",
              "      <td>7</td>\n",
              "      <td>4.278604</td>\n",
              "    </tr>\n",
              "    <tr>\n",
              "      <th>LETRAS / LINGUÍSTICA</th>\n",
              "      <td>2</td>\n",
              "      <td>7</td>\n",
              "      <td>4.276990</td>\n",
              "    </tr>\n",
              "    <tr>\n",
              "      <th>TEOLOGIA</th>\n",
              "      <td>3</td>\n",
              "      <td>6</td>\n",
              "      <td>4.268966</td>\n",
              "    </tr>\n",
              "    <tr>\n",
              "      <th>CIÊNCIA POLÍTICA E RELAÇÕES INTERNACIONAIS</th>\n",
              "      <td>2</td>\n",
              "      <td>7</td>\n",
              "      <td>4.266927</td>\n",
              "    </tr>\n",
              "    <tr>\n",
              "      <th>BIOTECNOLOGIA</th>\n",
              "      <td>3</td>\n",
              "      <td>7</td>\n",
              "      <td>4.262869</td>\n",
              "    </tr>\n",
              "    <tr>\n",
              "      <th>DIREITO</th>\n",
              "      <td>2</td>\n",
              "      <td>6</td>\n",
              "      <td>4.255219</td>\n",
              "    </tr>\n",
              "    <tr>\n",
              "      <th>MEDICINA III</th>\n",
              "      <td>2</td>\n",
              "      <td>7</td>\n",
              "      <td>4.248226</td>\n",
              "    </tr>\n",
              "    <tr>\n",
              "      <th>MATERIAIS</th>\n",
              "      <td>3</td>\n",
              "      <td>7</td>\n",
              "      <td>4.211794</td>\n",
              "    </tr>\n",
              "    <tr>\n",
              "      <th>EDUCAÇÃO</th>\n",
              "      <td>3</td>\n",
              "      <td>7</td>\n",
              "      <td>4.202371</td>\n",
              "    </tr>\n",
              "    <tr>\n",
              "      <th>FARMÁCIA</th>\n",
              "      <td>3</td>\n",
              "      <td>7</td>\n",
              "      <td>4.197076</td>\n",
              "    </tr>\n",
              "    <tr>\n",
              "      <th>ARTES / MÚSICA</th>\n",
              "      <td>3</td>\n",
              "      <td>7</td>\n",
              "      <td>4.180471</td>\n",
              "    </tr>\n",
              "    <tr>\n",
              "      <th>EDUCAÇÃO FÍSICA</th>\n",
              "      <td>3</td>\n",
              "      <td>7</td>\n",
              "      <td>4.172499</td>\n",
              "    </tr>\n",
              "    <tr>\n",
              "      <th>FILOSOFIA/TEOLOGIA:SUBCOMISSÃO FILOSOFIA</th>\n",
              "      <td>2</td>\n",
              "      <td>5</td>\n",
              "      <td>4.142132</td>\n",
              "    </tr>\n",
              "    <tr>\n",
              "      <th>CIÊNCIAS DA RELIGIÃO E TEOLOGIA</th>\n",
              "      <td>3</td>\n",
              "      <td>6</td>\n",
              "      <td>4.125272</td>\n",
              "    </tr>\n",
              "    <tr>\n",
              "      <th>ENGENHARIAS III</th>\n",
              "      <td>1</td>\n",
              "      <td>7</td>\n",
              "      <td>4.116637</td>\n",
              "    </tr>\n",
              "    <tr>\n",
              "      <th>CIÊNCIA DE ALIMENTOS</th>\n",
              "      <td>2</td>\n",
              "      <td>7</td>\n",
              "      <td>4.109814</td>\n",
              "    </tr>\n",
              "    <tr>\n",
              "      <th>ENGENHARIAS I</th>\n",
              "      <td>2</td>\n",
              "      <td>7</td>\n",
              "      <td>4.093595</td>\n",
              "    </tr>\n",
              "    <tr>\n",
              "      <th>ZOOTECNIA / RECURSOS PESQUEIROS</th>\n",
              "      <td>2</td>\n",
              "      <td>7</td>\n",
              "      <td>4.085748</td>\n",
              "    </tr>\n",
              "    <tr>\n",
              "      <th>ARQUITETURA, URBANISMO E DESIGN</th>\n",
              "      <td>3</td>\n",
              "      <td>6</td>\n",
              "      <td>4.064488</td>\n",
              "    </tr>\n",
              "    <tr>\n",
              "      <th>COMUNICAÇÃO E INFORMAÇÃO</th>\n",
              "      <td>2</td>\n",
              "      <td>7</td>\n",
              "      <td>4.058644</td>\n",
              "    </tr>\n",
              "    <tr>\n",
              "      <th>ADMINISTRAÇÃO PÚBLICA E DE EMPRESAS, CIÊNCIAS CONTÁBEIS E TURISMO</th>\n",
              "      <td>1</td>\n",
              "      <td>7</td>\n",
              "      <td>3.935098</td>\n",
              "    </tr>\n",
              "    <tr>\n",
              "      <th>PLANEJAMENTO URBANO E REGIONAL / DEMOGRAFIA</th>\n",
              "      <td>3</td>\n",
              "      <td>7</td>\n",
              "      <td>3.912034</td>\n",
              "    </tr>\n",
              "    <tr>\n",
              "      <th>NUTRIÇÃO</th>\n",
              "      <td>3</td>\n",
              "      <td>6</td>\n",
              "      <td>3.802761</td>\n",
              "    </tr>\n",
              "    <tr>\n",
              "      <th>CIÊNCIAS AMBIENTAIS</th>\n",
              "      <td>2</td>\n",
              "      <td>7</td>\n",
              "      <td>3.765472</td>\n",
              "    </tr>\n",
              "    <tr>\n",
              "      <th>ENSINO</th>\n",
              "      <td>1</td>\n",
              "      <td>7</td>\n",
              "      <td>3.721837</td>\n",
              "    </tr>\n",
              "    <tr>\n",
              "      <th>INTERDISCIPLINAR</th>\n",
              "      <td>1</td>\n",
              "      <td>7</td>\n",
              "      <td>3.683261</td>\n",
              "    </tr>\n",
              "    <tr>\n",
              "      <th>ARQUITETURA E URBANISMO</th>\n",
              "      <td>3</td>\n",
              "      <td>5</td>\n",
              "      <td>3.678112</td>\n",
              "    </tr>\n",
              "    <tr>\n",
              "      <th>CIÊNCIAS SOCIAIS APLICADAS I</th>\n",
              "      <td>3</td>\n",
              "      <td>4</td>\n",
              "      <td>3.604878</td>\n",
              "    </tr>\n",
              "    <tr>\n",
              "      <th>ADMINISTRAÇÃO, CIÊNCIAS CONTÁBEIS E TURISMO</th>\n",
              "      <td>2</td>\n",
              "      <td>5</td>\n",
              "      <td>3.429477</td>\n",
              "    </tr>\n",
              "  </tbody>\n",
              "</table>\n",
              "</div>"
            ],
            "text/plain": [
              "                                                    min  max      mean\n",
              "NM_AREA_AVALIACAO                                                     \n",
              "CIÊNCIAS BIOLÓGICAS III                               2    7  5.253547\n",
              "CIÊNCIAS BIOLÓGICAS II                                2    7  5.055178\n",
              "ASTRONOMIA / FÍSICA                                   2    7  5.013819\n",
              "QUÍMICA                                               2    7  4.964991\n",
              "MATEMÁTICA / PROBABILIDADE E ESTATÍSTICA              3    7  4.879934\n",
              "CIÊNCIAS BIOLÓGICAS I                                 2    7  4.737299\n",
              "GEOCIÊNCIAS                                           3    7  4.689243\n",
              "MEDICINA II                                           2    7  4.591141\n",
              "LINGUÍSTICA E LITERATURA                              2    7  4.537373\n",
              "MEDICINA VETERINÁRIA                                  3    7  4.522038\n",
              "ANTROPOLOGIA / ARQUEOLOGIA                            3    7  4.521492\n",
              "MEDICINA I                                            2    7  4.492270\n",
              "ENGENHARIAS IV                                        2    7  4.478614\n",
              "ENGENHARIAS II                                        2    7  4.403328\n",
              "ECONOMIA                                              3    7  4.399729\n",
              "GEOGRAFIA                                             3    7  4.386235\n",
              "CIÊNCIAS AGRÁRIAS I                                   3    7  4.383463\n",
              "BIODIVERSIDADE                                        1    7  4.371309\n",
              "CIÊNCIA DA COMPUTAÇÃO                                 2    7  4.364633\n",
              "SERVIÇO SOCIAL                                        3    7  4.360600\n",
              "ODONTOLOGIA                                           2    7  4.356259\n",
              "FILOSOFIA/TEOLOGIA:SUBCOMISSÃO TEOLOGIA               3    6  4.351020\n",
              "SAÚDE COLETIVA                                        2    7  4.345438\n",
              "SOCIOLOGIA                                            1    7  4.339256\n",
              "FILOSOFIA                                             2    7  4.329307\n",
              "HISTÓRIA                                              2    7  4.326042\n",
              "ARTES                                                 2    7  4.310540\n",
              "ENFERMAGEM                                            2    7  4.292318\n",
              "PSICOLOGIA                                            3    7  4.278604\n",
              "LETRAS / LINGUÍSTICA                                  2    7  4.276990\n",
              "TEOLOGIA                                              3    6  4.268966\n",
              "CIÊNCIA POLÍTICA E RELAÇÕES INTERNACIONAIS            2    7  4.266927\n",
              "BIOTECNOLOGIA                                         3    7  4.262869\n",
              "DIREITO                                               2    6  4.255219\n",
              "MEDICINA III                                          2    7  4.248226\n",
              "MATERIAIS                                             3    7  4.211794\n",
              "EDUCAÇÃO                                              3    7  4.202371\n",
              "FARMÁCIA                                              3    7  4.197076\n",
              "ARTES / MÚSICA                                        3    7  4.180471\n",
              "EDUCAÇÃO FÍSICA                                       3    7  4.172499\n",
              "FILOSOFIA/TEOLOGIA:SUBCOMISSÃO FILOSOFIA              2    5  4.142132\n",
              "CIÊNCIAS DA RELIGIÃO E TEOLOGIA                       3    6  4.125272\n",
              "ENGENHARIAS III                                       1    7  4.116637\n",
              "CIÊNCIA DE ALIMENTOS                                  2    7  4.109814\n",
              "ENGENHARIAS I                                         2    7  4.093595\n",
              "ZOOTECNIA / RECURSOS PESQUEIROS                       2    7  4.085748\n",
              "ARQUITETURA, URBANISMO E DESIGN                       3    6  4.064488\n",
              "COMUNICAÇÃO E INFORMAÇÃO                              2    7  4.058644\n",
              "ADMINISTRAÇÃO PÚBLICA E DE EMPRESAS, CIÊNCIAS C...    1    7  3.935098\n",
              "PLANEJAMENTO URBANO E REGIONAL / DEMOGRAFIA           3    7  3.912034\n",
              "NUTRIÇÃO                                              3    6  3.802761\n",
              "CIÊNCIAS AMBIENTAIS                                   2    7  3.765472\n",
              "ENSINO                                                1    7  3.721837\n",
              "INTERDISCIPLINAR                                      1    7  3.683261\n",
              "ARQUITETURA E URBANISMO                               3    5  3.678112\n",
              "CIÊNCIAS SOCIAIS APLICADAS I                          3    4  3.604878\n",
              "ADMINISTRAÇÃO, CIÊNCIAS CONTÁBEIS E TURISMO           2    5  3.429477"
            ]
          },
          "metadata": {
            "tags": []
          },
          "execution_count": 158
        }
      ]
    },
    {
      "cell_type": "code",
      "metadata": {
        "colab": {
          "base_uri": "https://localhost:8080/",
          "height": 297
        },
        "id": "FbiWsFJfD5YH",
        "outputId": "f02c9807-1255-400b-c41a-f5202f4e4de8"
      },
      "source": [
        "#visualização ruim mas vou deixar pra usar de exemplo\r\n",
        "df1.groupby('CD_PROGRAMA_IES').CD_CONCEITO_PROGRAMA.agg(['mean']).plot(kind='line')"
      ],
      "execution_count": 139,
      "outputs": [
        {
          "output_type": "execute_result",
          "data": {
            "text/plain": [
              "<matplotlib.axes._subplots.AxesSubplot at 0x7f6b72254550>"
            ]
          },
          "metadata": {
            "tags": []
          },
          "execution_count": 139
        },
        {
          "output_type": "display_data",
          "data": {
            "image/png": "[encoded data removed]",
            "text/plain": [
              "<Figure size 432x288 with 1 Axes>"
            ]
          },
          "metadata": {
            "tags": [],
            "needs_background": "light"
          }
        }
      ]
    },
    {
      "cell_type": "code",
      "metadata": {
        "id": "o4HspXcl5kSE"
      },
      "source": [
        "# lembrar de definir como tratar os dados de faixa etaria, ano de titulação, grau do programa (podemos tratar mais tarde na base de programa), grau de titulação\r\n",
        "# talvez media de idade mulheres e homens"
      ],
      "execution_count": 133,
      "outputs": []
    },
    {
      "cell_type": "markdown",
      "metadata": {
        "id": "m_GkogK4-fr_"
      },
      "source": [
        "- Agrupando os dados por PPG e Ano, agregando por soma"
      ]
    },
    {
      "cell_type": "code",
      "metadata": {
        "id": "MpERanpr-dsZ"
      },
      "source": [
        "#certeza que tem um jeito mais prático de fazer isso\r\n",
        "\r\n",
        "df2 = df1.groupby(['CD_PROGRAMA_IES','AN_BASE'],as_index=False).agg({'CD_AREA_AVALIACAO': np.max,'CD_CONCEITO_PROGRAMA': np.max, 'QTD_DOCENTES': np.sum,'Mulheres': np.sum, 'Homens': np.sum, 'Brasileiros': np.sum, 'Estrangeiros': np.sum, 'QTDE_Regime_Parcial': np.sum, 'QTDE_Regime_Integral': np.sum, 'QTDE_Regime_Exclusivo': np.sum, 'QTDE_Prof_Doutor': np.sum, 'QTDE_Prof_NaoDoutor': np.sum ,'QTDE_titulados_Brasil': np.sum, 'QTDE_titulados_Exterior':np.sum, 'Profs_Colaboradores':np.sum, 'Profs_ServidoresPublicos': np.sum, 'Profs_VinculoCLT': np.sum, 'Profs_Aposentados':np.sum, 'Profs_BolsaDeFixacao': np.sum })"
      ],
      "execution_count": null,
      "outputs": []
    },
    {
      "cell_type": "code",
      "metadata": {
        "id": "2L1xEMUz_WCX",
        "colab": {
          "base_uri": "https://localhost:8080/",
          "height": 286
        },
        "outputId": "ac4efd91-c6af-420a-b6fe-bc03b19ced70"
      },
      "source": [
        "df2.head(7)"
      ],
      "execution_count": 156,
      "outputs": [
        {
          "output_type": "execute_result",
          "data": {
            "text/html": [
              "<div>\n",
              "<style scoped>\n",
              "    .dataframe tbody tr th:only-of-type {\n",
              "        vertical-align: middle;\n",
              "    }\n",
              "\n",
              "    .dataframe tbody tr th {\n",
              "        vertical-align: top;\n",
              "    }\n",
              "\n",
              "    .dataframe thead th {\n",
              "        text-align: right;\n",
              "    }\n",
              "</style>\n",
              "<table border=\"1\" class=\"dataframe\">\n",
              "  <thead>\n",
              "    <tr style=\"text-align: right;\">\n",
              "      <th></th>\n",
              "      <th>CD_PROGRAMA_IES</th>\n",
              "      <th>AN_BASE</th>\n",
              "      <th>CD_AREA_AVALIACAO</th>\n",
              "      <th>CD_CONCEITO_PROGRAMA</th>\n",
              "      <th>QTD_DOCENTES</th>\n",
              "      <th>Mulheres</th>\n",
              "      <th>Homens</th>\n",
              "      <th>Brasileiros</th>\n",
              "      <th>Estrangeiros</th>\n",
              "      <th>QTDE_Regime_Parcial</th>\n",
              "      <th>QTDE_Regime_Integral</th>\n",
              "      <th>QTDE_Regime_Exclusivo</th>\n",
              "      <th>QTDE_Prof_Doutor</th>\n",
              "      <th>QTDE_Prof_NaoDoutor</th>\n",
              "      <th>QTDE_titulados_Brasil</th>\n",
              "      <th>QTDE_titulados_Exterior</th>\n",
              "      <th>Profs_Colaboradores</th>\n",
              "      <th>Profs_ServidoresPublicos</th>\n",
              "      <th>Profs_VinculoCLT</th>\n",
              "      <th>Profs_Aposentados</th>\n",
              "      <th>Profs_BolsaDeFixacao</th>\n",
              "    </tr>\n",
              "  </thead>\n",
              "  <tbody>\n",
              "    <tr>\n",
              "      <th>0</th>\n",
              "      <td>10001018002P1</td>\n",
              "      <td>2013</td>\n",
              "      <td>9</td>\n",
              "      <td>3</td>\n",
              "      <td>25</td>\n",
              "      <td>10</td>\n",
              "      <td>15</td>\n",
              "      <td>25</td>\n",
              "      <td>0</td>\n",
              "      <td>16</td>\n",
              "      <td>9</td>\n",
              "      <td>0</td>\n",
              "      <td>25</td>\n",
              "      <td>0</td>\n",
              "      <td>23</td>\n",
              "      <td>2</td>\n",
              "      <td>12</td>\n",
              "      <td>8</td>\n",
              "      <td>2</td>\n",
              "      <td>3</td>\n",
              "      <td>0</td>\n",
              "    </tr>\n",
              "    <tr>\n",
              "      <th>1</th>\n",
              "      <td>10001018002P1</td>\n",
              "      <td>2014</td>\n",
              "      <td>9</td>\n",
              "      <td>3</td>\n",
              "      <td>22</td>\n",
              "      <td>8</td>\n",
              "      <td>14</td>\n",
              "      <td>22</td>\n",
              "      <td>0</td>\n",
              "      <td>16</td>\n",
              "      <td>6</td>\n",
              "      <td>0</td>\n",
              "      <td>22</td>\n",
              "      <td>0</td>\n",
              "      <td>20</td>\n",
              "      <td>2</td>\n",
              "      <td>12</td>\n",
              "      <td>7</td>\n",
              "      <td>0</td>\n",
              "      <td>3</td>\n",
              "      <td>0</td>\n",
              "    </tr>\n",
              "    <tr>\n",
              "      <th>2</th>\n",
              "      <td>10001018002P1</td>\n",
              "      <td>2015</td>\n",
              "      <td>9</td>\n",
              "      <td>3</td>\n",
              "      <td>22</td>\n",
              "      <td>8</td>\n",
              "      <td>14</td>\n",
              "      <td>22</td>\n",
              "      <td>0</td>\n",
              "      <td>15</td>\n",
              "      <td>5</td>\n",
              "      <td>2</td>\n",
              "      <td>22</td>\n",
              "      <td>0</td>\n",
              "      <td>20</td>\n",
              "      <td>2</td>\n",
              "      <td>12</td>\n",
              "      <td>9</td>\n",
              "      <td>0</td>\n",
              "      <td>1</td>\n",
              "      <td>0</td>\n",
              "    </tr>\n",
              "    <tr>\n",
              "      <th>3</th>\n",
              "      <td>10001018002P1</td>\n",
              "      <td>2016</td>\n",
              "      <td>9</td>\n",
              "      <td>3</td>\n",
              "      <td>20</td>\n",
              "      <td>7</td>\n",
              "      <td>13</td>\n",
              "      <td>20</td>\n",
              "      <td>0</td>\n",
              "      <td>14</td>\n",
              "      <td>4</td>\n",
              "      <td>2</td>\n",
              "      <td>20</td>\n",
              "      <td>0</td>\n",
              "      <td>18</td>\n",
              "      <td>2</td>\n",
              "      <td>11</td>\n",
              "      <td>8</td>\n",
              "      <td>0</td>\n",
              "      <td>1</td>\n",
              "      <td>0</td>\n",
              "    </tr>\n",
              "    <tr>\n",
              "      <th>4</th>\n",
              "      <td>10001018002P1</td>\n",
              "      <td>2017</td>\n",
              "      <td>9</td>\n",
              "      <td>4</td>\n",
              "      <td>22</td>\n",
              "      <td>8</td>\n",
              "      <td>14</td>\n",
              "      <td>22</td>\n",
              "      <td>0</td>\n",
              "      <td>16</td>\n",
              "      <td>4</td>\n",
              "      <td>2</td>\n",
              "      <td>22</td>\n",
              "      <td>0</td>\n",
              "      <td>20</td>\n",
              "      <td>2</td>\n",
              "      <td>12</td>\n",
              "      <td>9</td>\n",
              "      <td>0</td>\n",
              "      <td>1</td>\n",
              "      <td>0</td>\n",
              "    </tr>\n",
              "    <tr>\n",
              "      <th>5</th>\n",
              "      <td>10001018002P1</td>\n",
              "      <td>2018</td>\n",
              "      <td>9</td>\n",
              "      <td>4</td>\n",
              "      <td>18</td>\n",
              "      <td>6</td>\n",
              "      <td>12</td>\n",
              "      <td>18</td>\n",
              "      <td>0</td>\n",
              "      <td>14</td>\n",
              "      <td>3</td>\n",
              "      <td>1</td>\n",
              "      <td>18</td>\n",
              "      <td>0</td>\n",
              "      <td>16</td>\n",
              "      <td>2</td>\n",
              "      <td>11</td>\n",
              "      <td>7</td>\n",
              "      <td>0</td>\n",
              "      <td>0</td>\n",
              "      <td>0</td>\n",
              "    </tr>\n",
              "    <tr>\n",
              "      <th>6</th>\n",
              "      <td>10001018002P1</td>\n",
              "      <td>2019</td>\n",
              "      <td>9</td>\n",
              "      <td>4</td>\n",
              "      <td>19</td>\n",
              "      <td>8</td>\n",
              "      <td>11</td>\n",
              "      <td>19</td>\n",
              "      <td>0</td>\n",
              "      <td>15</td>\n",
              "      <td>3</td>\n",
              "      <td>1</td>\n",
              "      <td>19</td>\n",
              "      <td>0</td>\n",
              "      <td>17</td>\n",
              "      <td>2</td>\n",
              "      <td>12</td>\n",
              "      <td>7</td>\n",
              "      <td>0</td>\n",
              "      <td>0</td>\n",
              "      <td>0</td>\n",
              "    </tr>\n",
              "  </tbody>\n",
              "</table>\n",
              "</div>"
            ],
            "text/plain": [
              "  CD_PROGRAMA_IES  AN_BASE  ...  Profs_Aposentados  Profs_BolsaDeFixacao\n",
              "0   10001018002P1     2013  ...                  3                     0\n",
              "1   10001018002P1     2014  ...                  3                     0\n",
              "2   10001018002P1     2015  ...                  1                     0\n",
              "3   10001018002P1     2016  ...                  1                     0\n",
              "4   10001018002P1     2017  ...                  1                     0\n",
              "5   10001018002P1     2018  ...                  0                     0\n",
              "6   10001018002P1     2019  ...                  0                     0\n",
              "\n",
              "[7 rows x 21 columns]"
            ]
          },
          "metadata": {
            "tags": []
          },
          "execution_count": 156
        }
      ]
    },
    {
      "cell_type": "markdown",
      "metadata": {
        "id": "RAxURJ0CKSZZ"
      },
      "source": [
        "- O próximo passo seria verificar quais os dados vamos usar como média, ou algo assim & verificar se há dados de features redundantes - se vamos deixar ou excluímos"
      ]
    }
  ]
}