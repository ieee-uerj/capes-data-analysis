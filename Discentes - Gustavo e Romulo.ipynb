{
 "cells": [
  {
   "cell_type": "code",
   "execution_count": 1,
   "metadata": {},
   "outputs": [],
   "source": [
    "import pandas as pd\n",
    "import matplotlib.pyplot as plt\n",
    "import seaborn as sns\n",
    "import numpy as np"
   ]
  },
  {
   "cell_type": "code",
   "execution_count": 2,
   "metadata": {},
   "outputs": [],
   "source": [
    "df=pd.read_excel('br-capes-colsucup-discentes-2013a2016-2020-06-12_2016.xlsx')"
   ]
  },
  {
   "cell_type": "code",
   "execution_count": 3,
   "metadata": {},
   "outputs": [],
   "source": [
    "#df=df.drop(columns=['TP_DOCUMENTO_DISCENTE','NR_DOCUMENTO_DISCENTE','NM_DISCENTE'])\n",
    "#df.to_excel('br-capes-colsucup-discentes-2013a2016-2020-06-12_2016.xlsx')\n",
    "\n",
    "#usei só uma vez para tirar as colunas com informações pessoais"
   ]
  },
  {
   "cell_type": "code",
   "execution_count": 4,
   "metadata": {},
   "outputs": [
    {
     "data": {
      "text/html": [
       "<div>\n",
       "<style scoped>\n",
       "    .dataframe tbody tr th:only-of-type {\n",
       "        vertical-align: middle;\n",
       "    }\n",
       "\n",
       "    .dataframe tbody tr th {\n",
       "        vertical-align: top;\n",
       "    }\n",
       "\n",
       "    .dataframe thead th {\n",
       "        text-align: right;\n",
       "    }\n",
       "</style>\n",
       "<table border=\"1\" class=\"dataframe\">\n",
       "  <thead>\n",
       "    <tr style=\"text-align: right;\">\n",
       "      <th></th>\n",
       "      <th>Unnamed: 0</th>\n",
       "      <th>AN_BASE</th>\n",
       "      <th>NM_GRANDE_AREA_CONHECIMENTO</th>\n",
       "      <th>CD_AREA_AVALIACAO</th>\n",
       "      <th>NM_AREA_AVALIACAO</th>\n",
       "      <th>CD_ENTIDADE_CAPES</th>\n",
       "      <th>CD_ENTIDADE_EMEC</th>\n",
       "      <th>SG_ENTIDADE_ENSINO</th>\n",
       "      <th>NM_ENTIDADE_ENSINO</th>\n",
       "      <th>CS_STATUS_JURIDICO</th>\n",
       "      <th>...</th>\n",
       "      <th>DS_GRAU_ACADEMICO_DISCENTE</th>\n",
       "      <th>ST_INGRESSANTE</th>\n",
       "      <th>NM_SITUACAO_DISCENTE</th>\n",
       "      <th>DT_MATRICULA_DISCENTE</th>\n",
       "      <th>DT_SITUACAO_DISCENTE</th>\n",
       "      <th>QT_MES_TITULACAO</th>\n",
       "      <th>NM_TESE_DISSERTACAO</th>\n",
       "      <th>NM_ORIENTADOR</th>\n",
       "      <th>ID_ADD_FOTO_PROGRAMA</th>\n",
       "      <th>ID_ADD_FOTO_PROGRAMA_IES</th>\n",
       "    </tr>\n",
       "  </thead>\n",
       "  <tbody>\n",
       "    <tr>\n",
       "      <th>0</th>\n",
       "      <td>0</td>\n",
       "      <td>2016</td>\n",
       "      <td>CIÊNCIAS HUMANAS</td>\n",
       "      <td>37</td>\n",
       "      <td>PSICOLOGIA</td>\n",
       "      <td>10001018</td>\n",
       "      <td>699</td>\n",
       "      <td>UNIR</td>\n",
       "      <td>UNIVERSIDADE FEDERAL DE RONDÔNIA</td>\n",
       "      <td>FEDERAL</td>\n",
       "      <td>...</td>\n",
       "      <td>MESTRADO</td>\n",
       "      <td>NÃO</td>\n",
       "      <td>TITULADO</td>\n",
       "      <td>27AUG2014:00:00:00</td>\n",
       "      <td>15DEC2016:00:00:00</td>\n",
       "      <td>27</td>\n",
       "      <td>O PROJETO ¿SALTO¿ DE CORREÇÃO DE FLUXO E O ACE...</td>\n",
       "      <td>MARLI LUCIA TONATTO ZIBETTI</td>\n",
       "      <td>57820</td>\n",
       "      <td>121783</td>\n",
       "    </tr>\n",
       "    <tr>\n",
       "      <th>1</th>\n",
       "      <td>1</td>\n",
       "      <td>2016</td>\n",
       "      <td>CIÊNCIAS HUMANAS</td>\n",
       "      <td>38</td>\n",
       "      <td>EDUCAÇÃO</td>\n",
       "      <td>10001018</td>\n",
       "      <td>699</td>\n",
       "      <td>UNIR</td>\n",
       "      <td>UNIVERSIDADE FEDERAL DE RONDÔNIA</td>\n",
       "      <td>FEDERAL</td>\n",
       "      <td>...</td>\n",
       "      <td>MESTRADO PROFISSIONAL</td>\n",
       "      <td>NÃO</td>\n",
       "      <td>MATRICULADO</td>\n",
       "      <td>09NOV2015:00:00:00</td>\n",
       "      <td>09NOV2015:00:00:00</td>\n",
       "      <td>0</td>\n",
       "      <td>NÃO SE APLICA</td>\n",
       "      <td>NÃO SE APLICA</td>\n",
       "      <td>58004</td>\n",
       "      <td>121952</td>\n",
       "    </tr>\n",
       "    <tr>\n",
       "      <th>2</th>\n",
       "      <td>2</td>\n",
       "      <td>2016</td>\n",
       "      <td>MULTIDISCIPLINAR</td>\n",
       "      <td>45</td>\n",
       "      <td>INTERDISCIPLINAR</td>\n",
       "      <td>10001018</td>\n",
       "      <td>699</td>\n",
       "      <td>UNIR</td>\n",
       "      <td>UNIVERSIDADE FEDERAL DE RONDÔNIA</td>\n",
       "      <td>FEDERAL</td>\n",
       "      <td>...</td>\n",
       "      <td>MESTRADO</td>\n",
       "      <td>NÃO</td>\n",
       "      <td>TITULADO</td>\n",
       "      <td>13NOV2013:00:00:00</td>\n",
       "      <td>08JUN2016:00:00:00</td>\n",
       "      <td>30</td>\n",
       "      <td>MODELAGEM DE SOFTWARE PARA TOMADA DE DECISÃO N...</td>\n",
       "      <td>FABRICIO MORAES DE ALMEIDA</td>\n",
       "      <td>58288</td>\n",
       "      <td>122262</td>\n",
       "    </tr>\n",
       "    <tr>\n",
       "      <th>3</th>\n",
       "      <td>3</td>\n",
       "      <td>2016</td>\n",
       "      <td>CIÊNCIAS BIOLÓGICAS</td>\n",
       "      <td>9</td>\n",
       "      <td>CIÊNCIAS BIOLÓGICAS III</td>\n",
       "      <td>10001018</td>\n",
       "      <td>699</td>\n",
       "      <td>UNIR</td>\n",
       "      <td>UNIVERSIDADE FEDERAL DE RONDÔNIA</td>\n",
       "      <td>FEDERAL</td>\n",
       "      <td>...</td>\n",
       "      <td>MESTRADO</td>\n",
       "      <td>NÃO</td>\n",
       "      <td>MATRICULADO</td>\n",
       "      <td>09APR2015:00:00:00</td>\n",
       "      <td>09APR2015:00:00:00</td>\n",
       "      <td>0</td>\n",
       "      <td>NÃO SE APLICA</td>\n",
       "      <td>NÃO SE APLICA</td>\n",
       "      <td>57437</td>\n",
       "      <td>121358</td>\n",
       "    </tr>\n",
       "    <tr>\n",
       "      <th>4</th>\n",
       "      <td>4</td>\n",
       "      <td>2016</td>\n",
       "      <td>MULTIDISCIPLINAR</td>\n",
       "      <td>45</td>\n",
       "      <td>INTERDISCIPLINAR</td>\n",
       "      <td>10001018</td>\n",
       "      <td>699</td>\n",
       "      <td>UNIR</td>\n",
       "      <td>UNIVERSIDADE FEDERAL DE RONDÔNIA</td>\n",
       "      <td>FEDERAL</td>\n",
       "      <td>...</td>\n",
       "      <td>MESTRADO PROFISSIONAL</td>\n",
       "      <td>SIM</td>\n",
       "      <td>MATRICULADO</td>\n",
       "      <td>17MAR2016:00:00:00</td>\n",
       "      <td>17MAR2016:00:00:00</td>\n",
       "      <td>0</td>\n",
       "      <td>NÃO SE APLICA</td>\n",
       "      <td>NÃO SE APLICA</td>\n",
       "      <td>59782</td>\n",
       "      <td>123869</td>\n",
       "    </tr>\n",
       "  </tbody>\n",
       "</table>\n",
       "<p>5 rows × 36 columns</p>\n",
       "</div>"
      ],
      "text/plain": [
       "   Unnamed: 0  AN_BASE NM_GRANDE_AREA_CONHECIMENTO  CD_AREA_AVALIACAO  \\\n",
       "0           0     2016            CIÊNCIAS HUMANAS                 37   \n",
       "1           1     2016            CIÊNCIAS HUMANAS                 38   \n",
       "2           2     2016            MULTIDISCIPLINAR                 45   \n",
       "3           3     2016         CIÊNCIAS BIOLÓGICAS                  9   \n",
       "4           4     2016            MULTIDISCIPLINAR                 45   \n",
       "\n",
       "         NM_AREA_AVALIACAO  CD_ENTIDADE_CAPES CD_ENTIDADE_EMEC  \\\n",
       "0               PSICOLOGIA           10001018              699   \n",
       "1                 EDUCAÇÃO           10001018              699   \n",
       "2         INTERDISCIPLINAR           10001018              699   \n",
       "3  CIÊNCIAS BIOLÓGICAS III           10001018              699   \n",
       "4         INTERDISCIPLINAR           10001018              699   \n",
       "\n",
       "  SG_ENTIDADE_ENSINO                NM_ENTIDADE_ENSINO CS_STATUS_JURIDICO  \\\n",
       "0               UNIR  UNIVERSIDADE FEDERAL DE RONDÔNIA            FEDERAL   \n",
       "1               UNIR  UNIVERSIDADE FEDERAL DE RONDÔNIA            FEDERAL   \n",
       "2               UNIR  UNIVERSIDADE FEDERAL DE RONDÔNIA            FEDERAL   \n",
       "3               UNIR  UNIVERSIDADE FEDERAL DE RONDÔNIA            FEDERAL   \n",
       "4               UNIR  UNIVERSIDADE FEDERAL DE RONDÔNIA            FEDERAL   \n",
       "\n",
       "   ... DS_GRAU_ACADEMICO_DISCENTE ST_INGRESSANTE NM_SITUACAO_DISCENTE  \\\n",
       "0  ...                   MESTRADO            NÃO             TITULADO   \n",
       "1  ...      MESTRADO PROFISSIONAL            NÃO          MATRICULADO   \n",
       "2  ...                   MESTRADO            NÃO             TITULADO   \n",
       "3  ...                   MESTRADO            NÃO          MATRICULADO   \n",
       "4  ...      MESTRADO PROFISSIONAL            SIM          MATRICULADO   \n",
       "\n",
       "  DT_MATRICULA_DISCENTE DT_SITUACAO_DISCENTE QT_MES_TITULACAO  \\\n",
       "0    27AUG2014:00:00:00   15DEC2016:00:00:00               27   \n",
       "1    09NOV2015:00:00:00   09NOV2015:00:00:00                0   \n",
       "2    13NOV2013:00:00:00   08JUN2016:00:00:00               30   \n",
       "3    09APR2015:00:00:00   09APR2015:00:00:00                0   \n",
       "4    17MAR2016:00:00:00   17MAR2016:00:00:00                0   \n",
       "\n",
       "                                 NM_TESE_DISSERTACAO  \\\n",
       "0  O PROJETO ¿SALTO¿ DE CORREÇÃO DE FLUXO E O ACE...   \n",
       "1                                      NÃO SE APLICA   \n",
       "2  MODELAGEM DE SOFTWARE PARA TOMADA DE DECISÃO N...   \n",
       "3                                      NÃO SE APLICA   \n",
       "4                                      NÃO SE APLICA   \n",
       "\n",
       "                 NM_ORIENTADOR  ID_ADD_FOTO_PROGRAMA  ID_ADD_FOTO_PROGRAMA_IES  \n",
       "0  MARLI LUCIA TONATTO ZIBETTI                 57820                    121783  \n",
       "1                NÃO SE APLICA                 58004                    121952  \n",
       "2   FABRICIO MORAES DE ALMEIDA                 58288                    122262  \n",
       "3                NÃO SE APLICA                 57437                    121358  \n",
       "4                NÃO SE APLICA                 59782                    123869  \n",
       "\n",
       "[5 rows x 36 columns]"
      ]
     },
     "execution_count": 4,
     "metadata": {},
     "output_type": "execute_result"
    }
   ],
   "source": [
    "df.head()"
   ]
  },
  {
   "cell_type": "code",
   "execution_count": 5,
   "metadata": {
    "scrolled": false
   },
   "outputs": [
    {
     "name": "stdout",
     "output_type": "stream",
     "text": [
      "<class 'pandas.core.frame.DataFrame'>\n",
      "RangeIndex: 357353 entries, 0 to 357352\n",
      "Data columns (total 36 columns):\n",
      " #   Column                          Non-Null Count   Dtype \n",
      "---  ------                          --------------   ----- \n",
      " 0   Unnamed: 0                      357353 non-null  int64 \n",
      " 1   AN_BASE                         357353 non-null  int64 \n",
      " 2   NM_GRANDE_AREA_CONHECIMENTO     357353 non-null  object\n",
      " 3   CD_AREA_AVALIACAO               357353 non-null  int64 \n",
      " 4   NM_AREA_AVALIACAO               357353 non-null  object\n",
      " 5   CD_ENTIDADE_CAPES               357353 non-null  int64 \n",
      " 6   CD_ENTIDADE_EMEC                357353 non-null  object\n",
      " 7   SG_ENTIDADE_ENSINO              357353 non-null  object\n",
      " 8   NM_ENTIDADE_ENSINO              357353 non-null  object\n",
      " 9   CS_STATUS_JURIDICO              357353 non-null  object\n",
      " 10  DS_DEPENDENCIA_ADMINISTRATIVA   357353 non-null  object\n",
      " 11  NM_MODALIDADE_PROGRAMA          357353 non-null  object\n",
      " 12  NM_GRAU_PROGRAMA                357353 non-null  object\n",
      " 13  CD_PROGRAMA_IES                 357353 non-null  object\n",
      " 14  NM_PROGRAMA_IES                 357353 non-null  object\n",
      " 15  NM_REGIAO                       357353 non-null  object\n",
      " 16  SG_UF_PROGRAMA                  357353 non-null  object\n",
      " 17  NM_MUNICIPIO_PROGRAMA_IES       357353 non-null  object\n",
      " 18  CD_CONCEITO_PROGRAMA            357353 non-null  int64 \n",
      " 19  CD_CONCEITO_CURSO               357353 non-null  int64 \n",
      " 20  ID_PESSOA                       357353 non-null  int64 \n",
      " 21  NM_PAIS_NACIONALIDADE_DISCENTE  357353 non-null  object\n",
      " 22  DS_TIPO_NACIONALIDADE_DISCENTE  357353 non-null  object\n",
      " 23  TP_SEXO_DISCENTE                357353 non-null  object\n",
      " 24  AN_NASCIMENTO_DISCENTE          357353 non-null  int64 \n",
      " 25  DS_FAIXA_ETARIA                 357353 non-null  object\n",
      " 26  DS_GRAU_ACADEMICO_DISCENTE      357353 non-null  object\n",
      " 27  ST_INGRESSANTE                  357353 non-null  object\n",
      " 28  NM_SITUACAO_DISCENTE            357353 non-null  object\n",
      " 29  DT_MATRICULA_DISCENTE           357353 non-null  object\n",
      " 30  DT_SITUACAO_DISCENTE            357353 non-null  object\n",
      " 31  QT_MES_TITULACAO                357353 non-null  int64 \n",
      " 32  NM_TESE_DISSERTACAO             357353 non-null  object\n",
      " 33  NM_ORIENTADOR                   357353 non-null  object\n",
      " 34  ID_ADD_FOTO_PROGRAMA            357353 non-null  int64 \n",
      " 35  ID_ADD_FOTO_PROGRAMA_IES        357353 non-null  int64 \n",
      "dtypes: int64(11), object(25)\n",
      "memory usage: 98.2+ MB\n"
     ]
    }
   ],
   "source": [
    "df.info()"
   ]
  },
  {
   "cell_type": "code",
   "execution_count": 6,
   "metadata": {},
   "outputs": [],
   "source": [
    "def agrupar(coluna):\n",
    "    '''Faz uma lista dos top 10 programas em relação a feature de escolha.'''\n",
    "    return df.groupby(coluna).mean()['CD_CONCEITO_PROGRAMA'].round(2).sort_values(ascending=False).head(10)"
   ]
  },
  {
   "cell_type": "code",
   "execution_count": 7,
   "metadata": {},
   "outputs": [
    {
     "data": {
      "text/plain": [
       "DS_TIPO_NACIONALIDADE_DISCENTE\n",
       "ESTRANGEIRO    5.26\n",
       "BRASILEIRO     4.44\n",
       "Name: CD_CONCEITO_PROGRAMA, dtype: float64"
      ]
     },
     "execution_count": 7,
     "metadata": {},
     "output_type": "execute_result"
    }
   ],
   "source": [
    "#brasileiro ou gringo\n",
    "\n",
    "agrupar('DS_TIPO_NACIONALIDADE_DISCENTE')"
   ]
  },
  {
   "cell_type": "code",
   "execution_count": 8,
   "metadata": {},
   "outputs": [
    {
     "data": {
      "text/plain": [
       "TP_SEXO_DISCENTE\n",
       "MASCULINO    4.51\n",
       "FEMININO     4.41\n",
       "Name: CD_CONCEITO_PROGRAMA, dtype: float64"
      ]
     },
     "execution_count": 8,
     "metadata": {},
     "output_type": "execute_result"
    }
   ],
   "source": [
    "#sexo\n",
    "\n",
    "agrupar('TP_SEXO_DISCENTE')"
   ]
  },
  {
   "cell_type": "code",
   "execution_count": 9,
   "metadata": {
    "scrolled": false
   },
   "outputs": [
    {
     "name": "stderr",
     "output_type": "stream",
     "text": [
      "/home/gustavo/anaconda3/lib/python3.8/site-packages/seaborn/_decorators.py:36: FutureWarning: Pass the following variables as keyword args: x, y. From version 0.12, the only valid positional argument will be `data`, and passing other arguments without an explicit keyword will result in an error or misinterpretation.\n",
      "  warnings.warn(\n"
     ]
    },
    {
     "data": {
      "text/plain": [
       "(1978.0, 1986.0)"
      ]
     },
     "execution_count": 9,
     "metadata": {},
     "output_type": "execute_result"
    },
    {
     "data": {
      "image/png": "[encoded data removed]",
      "text/plain": [
       "<Figure size 432x288 with 1 Axes>"
      ]
     },
     "metadata": {
      "needs_background": "light"
     },
     "output_type": "display_data"
    }
   ],
   "source": [
    "#relação entre idade e conceito\n",
    "\n",
    "conceito=df.groupby('CD_PROGRAMA_IES').mean()['CD_CONCEITO_PROGRAMA']\n",
    "idade=df.groupby('CD_PROGRAMA_IES').mean()['AN_NASCIMENTO_DISCENTE']\n",
    "sns.regplot(conceito,idade,x_estimator=np.mean,color='black')\n",
    "plt.xlabel('Conceito do programa')\n",
    "plt.ylabel('Idade média dos discentes')\n",
    "plt.ylim(1978,1986)\n",
    "\n",
    "#não tem relação, não esperava por isso"
   ]
  },
  {
   "cell_type": "code",
   "execution_count": 10,
   "metadata": {},
   "outputs": [],
   "source": [
    "df2 =df[df['QT_MES_TITULACAO']!=0]\n",
    "\n",
    "#se a pessoa não estiver titulada o tempo vai estar igual a zero"
   ]
  },
  {
   "cell_type": "code",
   "execution_count": 11,
   "metadata": {},
   "outputs": [
    {
     "name": "stderr",
     "output_type": "stream",
     "text": [
      "/home/gustavo/anaconda3/lib/python3.8/site-packages/seaborn/_decorators.py:36: FutureWarning: Pass the following variables as keyword args: x, y. From version 0.12, the only valid positional argument will be `data`, and passing other arguments without an explicit keyword will result in an error or misinterpretation.\n",
      "  warnings.warn(\n"
     ]
    },
    {
     "data": {
      "text/plain": [
       "(24.0, 48.0)"
      ]
     },
     "execution_count": 11,
     "metadata": {},
     "output_type": "execute_result"
    },
    {
     "data": {
      "image/png": "[encoded data removed]",
      "text/plain": [
       "<Figure size 432x288 with 1 Axes>"
      ]
     },
     "metadata": {
      "needs_background": "light"
     },
     "output_type": "display_data"
    }
   ],
   "source": [
    "#tempo de titulação\n",
    "\n",
    "\n",
    "conceito=df2.groupby('CD_PROGRAMA_IES').mean()['CD_CONCEITO_PROGRAMA']\n",
    "tempo=df2.groupby('CD_PROGRAMA_IES').mean()['QT_MES_TITULACAO']\n",
    "sns.regplot(conceito,tempo,x_estimator=np.mean,color='black',logx=True) #atenção ao logx=True\n",
    "plt.xlabel('Conceito do programa')\n",
    "plt.ylabel('Tempo médio de titulação (meses)')\n",
    "plt.title('Conceito do programa x Tempo médio de titulação')\n",
    "plt.xlim(2.9,7.1)\n",
    "plt.ylim(24,48)"
   ]
  }
 ],
 "metadata": {
  "kernelspec": {
   "display_name": "Python 3",
   "language": "python",
   "name": "python3"
  },
  "language_info": {
   "codemirror_mode": {
    "name": "ipython",
    "version": 3
   },
   "file_extension": ".py",
   "mimetype": "text/x-python",
   "name": "python",
   "nbconvert_exporter": "python",
   "pygments_lexer": "ipython3",
   "version": "3.8.5"
  },
  "varInspector": {
   "cols": {
    "lenName": 16,
    "lenType": 16,
    "lenVar": 40
   },
   "kernels_config": {
    "python": {
     "delete_cmd_postfix": "",
     "delete_cmd_prefix": "del ",
     "library": "var_list.py",
     "varRefreshCmd": "print(var_dic_list())"
    },
    "r": {
     "delete_cmd_postfix": ") ",
     "delete_cmd_prefix": "rm(",
     "library": "var_list.r",
     "varRefreshCmd": "cat(var_dic_list()) "
    }
   },
   "types_to_exclude": [
    "module",
    "function",
    "builtin_function_or_method",
    "instance",
    "_Feature"
   ],
   "window_display": false
  }
 },
 "nbformat": 4,
 "nbformat_minor": 4
}
