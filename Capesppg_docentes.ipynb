{
  "nbformat": 4,
  "nbformat_minor": 0,
  "metadata": {
    "colab": {
      "name": "Capesppg_docentes",
      "provenance": [],
      "collapsed_sections": []
    },
    "kernelspec": {
      "name": "python3",
      "display_name": "Python 3"
    }
  },
  "cells": [
    {
      "cell_type": "code",
      "metadata": {
        "colab": {
          "base_uri": "https://localhost:8080/"
        },
        "id": "5XxOwNUtGnGq",
        "outputId": "4b0309d0-2183-48cb-d8ec-c3318d0dce32"
      },
      "source": [
        "from google.colab import drive\r\n",
        "drive.mount('/content/drive')"
      ],
      "execution_count": null,
      "outputs": [
        {
          "output_type": "stream",
          "text": [
            "Mounted at /content/drive\n"
          ],
          "name": "stdout"
        }
      ]
    },
    {
      "cell_type": "code",
      "metadata": {
        "id": "AO4lDxmGGrY2"
      },
      "source": [
        "import pandas as pd\r\n",
        "import numpy as np\r\n",
        "import matplotlib.pyplot as plt\r\n",
        "import seaborn as sns\r\n",
        "%matplotlib inline\r\n",
        "import sklearn as skt"
      ],
      "execution_count": null,
      "outputs": []
    },
    {
      "cell_type": "markdown",
      "metadata": {
        "id": "WXPgH_qXq5qk"
      },
      "source": [
        "- Após agrupar as bases relacionadas a Docentes de 2013 a 2019, criei o dataset único abaixo:"
      ]
    },
    {
      "cell_type": "code",
      "metadata": {
        "colab": {
          "base_uri": "https://localhost:8080/"
        },
        "id": "I9MYISHnGowO",
        "outputId": "a1dc5573-3a10-4572-a936-5e0f324d0cce"
      },
      "source": [
        "path = '/content/drive/My Drive/bases_capesppg_docentes/capesppg_docentes_2013-2019.csv'\r\n",
        "df = pd.read_csv(path)"
      ],
      "execution_count": null,
      "outputs": [
        {
          "output_type": "stream",
          "text": [
            "/usr/local/lib/python3.6/dist-packages/IPython/core/interactiveshell.py:2718: DtypeWarning: Columns (9,29) have mixed types.Specify dtype option on import or set low_memory=False.\n",
            "  interactivity=interactivity, compiler=compiler, result=result)\n"
          ],
          "name": "stderr"
        }
      ]
    },
    {
      "cell_type": "markdown",
      "metadata": {
        "id": "8cV7NxyhrNcp"
      },
      "source": [
        "- Visualizando os dados do dataset:"
      ]
    },
    {
      "cell_type": "code",
      "metadata": {
        "colab": {
          "base_uri": "https://localhost:8080/",
          "height": 394
        },
        "id": "AhdDu9X_G8jV",
        "outputId": "baf8e21d-3d34-480b-8645-1868e6c7eb5f"
      },
      "source": [
        "df.head()"
      ],
      "execution_count": null,
      "outputs": [
        {
          "output_type": "execute_result",
          "data": {
            "text/html": [
              "<div>\n",
              "<style scoped>\n",
              "    .dataframe tbody tr th:only-of-type {\n",
              "        vertical-align: middle;\n",
              "    }\n",
              "\n",
              "    .dataframe tbody tr th {\n",
              "        vertical-align: top;\n",
              "    }\n",
              "\n",
              "    .dataframe thead th {\n",
              "        text-align: right;\n",
              "    }\n",
              "</style>\n",
              "<table border=\"1\" class=\"dataframe\">\n",
              "  <thead>\n",
              "    <tr style=\"text-align: right;\">\n",
              "      <th></th>\n",
              "      <th>AN_BASE</th>\n",
              "      <th>CD_AREA_AVALIACAO</th>\n",
              "      <th>NM_AREA_AVALIACAO</th>\n",
              "      <th>NM_GRANDE_AREA_CONHECIMENTO</th>\n",
              "      <th>NM_AREA_CONHECIMENTO</th>\n",
              "      <th>CD_PROGRAMA_IES</th>\n",
              "      <th>NM_PROGRAMA_IES</th>\n",
              "      <th>NM_GRAU_PROGRAMA</th>\n",
              "      <th>NM_MODALIDADE_PROGRAMA</th>\n",
              "      <th>CD_CONCEITO_PROGRAMA</th>\n",
              "      <th>SG_ENTIDADE_ENSINO</th>\n",
              "      <th>NM_ENTIDADE_ENSINO</th>\n",
              "      <th>CS_STATUS_JURIDICO</th>\n",
              "      <th>SG_UF_PROGRAMA</th>\n",
              "      <th>NM_REGIAO</th>\n",
              "      <th>ID_PESSOA</th>\n",
              "      <th>TP_SEXO_DOCENTE</th>\n",
              "      <th>AN_NASCIMENTO_DOCENTE</th>\n",
              "      <th>DS_FAIXA_ETARIA</th>\n",
              "      <th>NM_PAIS_NACIONALIDADE_DOCENTE</th>\n",
              "      <th>DS_TIPO_VINCULO_DOCENTE_IES</th>\n",
              "      <th>DS_REGIME_TRABALHO</th>\n",
              "      <th>CD_CAT_BOLSA_PRODUTIVIDADE</th>\n",
              "      <th>IN_DOUTOR</th>\n",
              "      <th>AN_TITULACAO</th>\n",
              "      <th>NM_GRAU_TITULACAO</th>\n",
              "      <th>SG_IES_TITULACAO</th>\n",
              "      <th>NM_IES_TITULACAO</th>\n",
              "      <th>NM_PAIS_IES_TITULACAO</th>\n",
              "      <th>DS_CLIENTELA_QUADRIENAL_2017</th>\n",
              "    </tr>\n",
              "  </thead>\n",
              "  <tbody>\n",
              "    <tr>\n",
              "      <th>0</th>\n",
              "      <td>2013</td>\n",
              "      <td>9</td>\n",
              "      <td>CIÊNCIAS BIOLÓGICAS III</td>\n",
              "      <td>CIÊNCIAS BIOLÓGICAS</td>\n",
              "      <td>PARASITOLOGIA</td>\n",
              "      <td>10001018002P1</td>\n",
              "      <td>BIOLOGIA EXPERIMENTAL</td>\n",
              "      <td>MESTRADO/DOUTORADO</td>\n",
              "      <td>ACADÊMICO</td>\n",
              "      <td>3</td>\n",
              "      <td>UNIR</td>\n",
              "      <td>UNIVERSIDADE FEDERAL DE RONDÔNIA</td>\n",
              "      <td>FEDERAL</td>\n",
              "      <td>RO</td>\n",
              "      <td>NORTE</td>\n",
              "      <td>832956</td>\n",
              "      <td>FEMININO</td>\n",
              "      <td>1975</td>\n",
              "      <td>35 A 39 ANOS</td>\n",
              "      <td>BRASIL</td>\n",
              "      <td>COLABORADOR</td>\n",
              "      <td>PARCIAL</td>\n",
              "      <td>NaN</td>\n",
              "      <td>S</td>\n",
              "      <td>2008.0</td>\n",
              "      <td>DOUTORADO</td>\n",
              "      <td>PARIS 7</td>\n",
              "      <td>UNIVERSITÉ PARIS DIDEROT - PARIS VII</td>\n",
              "      <td>FRANÇA</td>\n",
              "      <td>AVALIAÇÃO</td>\n",
              "    </tr>\n",
              "    <tr>\n",
              "      <th>1</th>\n",
              "      <td>2013</td>\n",
              "      <td>9</td>\n",
              "      <td>CIÊNCIAS BIOLÓGICAS III</td>\n",
              "      <td>CIÊNCIAS BIOLÓGICAS</td>\n",
              "      <td>PARASITOLOGIA</td>\n",
              "      <td>10001018002P1</td>\n",
              "      <td>BIOLOGIA EXPERIMENTAL</td>\n",
              "      <td>MESTRADO/DOUTORADO</td>\n",
              "      <td>ACADÊMICO</td>\n",
              "      <td>3</td>\n",
              "      <td>UNIR</td>\n",
              "      <td>UNIVERSIDADE FEDERAL DE RONDÔNIA</td>\n",
              "      <td>FEDERAL</td>\n",
              "      <td>RO</td>\n",
              "      <td>NORTE</td>\n",
              "      <td>34738</td>\n",
              "      <td>MASCULINO</td>\n",
              "      <td>1978</td>\n",
              "      <td>35 A 39 ANOS</td>\n",
              "      <td>BRASIL</td>\n",
              "      <td>COLABORADOR</td>\n",
              "      <td>PARCIAL</td>\n",
              "      <td>NaN</td>\n",
              "      <td>S</td>\n",
              "      <td>2008.0</td>\n",
              "      <td>DOUTORADO</td>\n",
              "      <td>USP/RP</td>\n",
              "      <td>UNIVERSIDADE DE SÃO PAULO/ RIBEIRÃO PRETO</td>\n",
              "      <td>BRASIL</td>\n",
              "      <td>AVALIAÇÃO</td>\n",
              "    </tr>\n",
              "    <tr>\n",
              "      <th>2</th>\n",
              "      <td>2013</td>\n",
              "      <td>9</td>\n",
              "      <td>CIÊNCIAS BIOLÓGICAS III</td>\n",
              "      <td>CIÊNCIAS BIOLÓGICAS</td>\n",
              "      <td>PARASITOLOGIA</td>\n",
              "      <td>10001018002P1</td>\n",
              "      <td>BIOLOGIA EXPERIMENTAL</td>\n",
              "      <td>MESTRADO/DOUTORADO</td>\n",
              "      <td>ACADÊMICO</td>\n",
              "      <td>3</td>\n",
              "      <td>UNIR</td>\n",
              "      <td>UNIVERSIDADE FEDERAL DE RONDÔNIA</td>\n",
              "      <td>FEDERAL</td>\n",
              "      <td>RO</td>\n",
              "      <td>NORTE</td>\n",
              "      <td>729344</td>\n",
              "      <td>MASCULINO</td>\n",
              "      <td>1954</td>\n",
              "      <td>55 A 59 ANOS</td>\n",
              "      <td>BRASIL</td>\n",
              "      <td>COLABORADOR</td>\n",
              "      <td>PARCIAL</td>\n",
              "      <td>NaN</td>\n",
              "      <td>S</td>\n",
              "      <td>2008.0</td>\n",
              "      <td>DOUTORADO</td>\n",
              "      <td>UNIR</td>\n",
              "      <td>UNIVERSIDADE FEDERAL DE RONDÔNIA</td>\n",
              "      <td>BRASIL</td>\n",
              "      <td>AVALIAÇÃO</td>\n",
              "    </tr>\n",
              "    <tr>\n",
              "      <th>3</th>\n",
              "      <td>2013</td>\n",
              "      <td>9</td>\n",
              "      <td>CIÊNCIAS BIOLÓGICAS III</td>\n",
              "      <td>CIÊNCIAS BIOLÓGICAS</td>\n",
              "      <td>PARASITOLOGIA</td>\n",
              "      <td>10001018002P1</td>\n",
              "      <td>BIOLOGIA EXPERIMENTAL</td>\n",
              "      <td>MESTRADO/DOUTORADO</td>\n",
              "      <td>ACADÊMICO</td>\n",
              "      <td>3</td>\n",
              "      <td>UNIR</td>\n",
              "      <td>UNIVERSIDADE FEDERAL DE RONDÔNIA</td>\n",
              "      <td>FEDERAL</td>\n",
              "      <td>RO</td>\n",
              "      <td>NORTE</td>\n",
              "      <td>526496</td>\n",
              "      <td>FEMININO</td>\n",
              "      <td>1966</td>\n",
              "      <td>45 A 49 ANOS</td>\n",
              "      <td>BRASIL</td>\n",
              "      <td>SERVIDOR PÚBLICO</td>\n",
              "      <td>INTEGRAL</td>\n",
              "      <td>NaN</td>\n",
              "      <td>S</td>\n",
              "      <td>1999.0</td>\n",
              "      <td>DOUTORADO</td>\n",
              "      <td>USP/RP</td>\n",
              "      <td>UNIVERSIDADE DE SÃO PAULO/ RIBEIRÃO PRETO</td>\n",
              "      <td>BRASIL</td>\n",
              "      <td>AVALIAÇÃO</td>\n",
              "    </tr>\n",
              "    <tr>\n",
              "      <th>4</th>\n",
              "      <td>2013</td>\n",
              "      <td>9</td>\n",
              "      <td>CIÊNCIAS BIOLÓGICAS III</td>\n",
              "      <td>CIÊNCIAS BIOLÓGICAS</td>\n",
              "      <td>PARASITOLOGIA</td>\n",
              "      <td>10001018002P1</td>\n",
              "      <td>BIOLOGIA EXPERIMENTAL</td>\n",
              "      <td>MESTRADO/DOUTORADO</td>\n",
              "      <td>ACADÊMICO</td>\n",
              "      <td>3</td>\n",
              "      <td>UNIR</td>\n",
              "      <td>UNIVERSIDADE FEDERAL DE RONDÔNIA</td>\n",
              "      <td>FEDERAL</td>\n",
              "      <td>RO</td>\n",
              "      <td>NORTE</td>\n",
              "      <td>10229</td>\n",
              "      <td>MASCULINO</td>\n",
              "      <td>1928</td>\n",
              "      <td>70 OU MAIS</td>\n",
              "      <td>BRASIL</td>\n",
              "      <td>APOSENTADO</td>\n",
              "      <td>PARCIAL</td>\n",
              "      <td>NaN</td>\n",
              "      <td>S</td>\n",
              "      <td>1960.0</td>\n",
              "      <td>DOUTORADO</td>\n",
              "      <td>USP</td>\n",
              "      <td>UNIVERSIDADE DE SÃO PAULO</td>\n",
              "      <td>BRASIL</td>\n",
              "      <td>AVALIAÇÃO</td>\n",
              "    </tr>\n",
              "  </tbody>\n",
              "</table>\n",
              "</div>"
            ],
            "text/plain": [
              "   AN_BASE  ...  DS_CLIENTELA_QUADRIENAL_2017\n",
              "0     2013  ...                     AVALIAÇÃO\n",
              "1     2013  ...                     AVALIAÇÃO\n",
              "2     2013  ...                     AVALIAÇÃO\n",
              "3     2013  ...                     AVALIAÇÃO\n",
              "4     2013  ...                     AVALIAÇÃO\n",
              "\n",
              "[5 rows x 30 columns]"
            ]
          },
          "metadata": {
            "tags": []
          },
          "execution_count": 6
        }
      ]
    },
    {
      "cell_type": "markdown",
      "metadata": {
        "id": "gHodyBQBrS77"
      },
      "source": [
        "- Demonstrando de forma visual que há dados dos anos 2013 à 2019 neste dataset:"
      ]
    },
    {
      "cell_type": "code",
      "metadata": {
        "colab": {
          "base_uri": "https://localhost:8080/",
          "height": 297
        },
        "id": "DueBHWpPH-h_",
        "outputId": "3b2b2b95-a291-4483-c911-af6cd3808d2d"
      },
      "source": [
        "sns.countplot(x='AN_BASE', data = df)"
      ],
      "execution_count": null,
      "outputs": [
        {
          "output_type": "execute_result",
          "data": {
            "text/plain": [
              "<matplotlib.axes._subplots.AxesSubplot at 0x7ff04f710160>"
            ]
          },
          "metadata": {
            "tags": []
          },
          "execution_count": 7
        },
        {
          "output_type": "display_data",
          "data": {
            "image/png": "[encoded data removed]",
            "text/plain": [
              "<Figure size 432x288 with 1 Axes>"
            ]
          },
          "metadata": {
            "tags": [],
            "needs_background": "light"
          }
        }
      ]
    },
    {
      "cell_type": "code",
      "metadata": {
        "colab": {
          "base_uri": "https://localhost:8080/"
        },
        "id": "1KwQpXAWInuM",
        "outputId": "1b6db2c0-af38-4d56-8f41-14884e4eb756"
      },
      "source": [
        "df.info()"
      ],
      "execution_count": null,
      "outputs": [
        {
          "output_type": "stream",
          "text": [
            "<class 'pandas.core.frame.DataFrame'>\n",
            "RangeIndex: 662665 entries, 0 to 662664\n",
            "Data columns (total 30 columns):\n",
            " #   Column                         Non-Null Count   Dtype  \n",
            "---  ------                         --------------   -----  \n",
            " 0   AN_BASE                        662665 non-null  int64  \n",
            " 1   CD_AREA_AVALIACAO              662665 non-null  int64  \n",
            " 2   NM_AREA_AVALIACAO              662665 non-null  object \n",
            " 3   NM_GRANDE_AREA_CONHECIMENTO    662665 non-null  object \n",
            " 4   NM_AREA_CONHECIMENTO           662665 non-null  object \n",
            " 5   CD_PROGRAMA_IES                662665 non-null  object \n",
            " 6   NM_PROGRAMA_IES                662665 non-null  object \n",
            " 7   NM_GRAU_PROGRAMA               662665 non-null  object \n",
            " 8   NM_MODALIDADE_PROGRAMA         662665 non-null  object \n",
            " 9   CD_CONCEITO_PROGRAMA           662665 non-null  object \n",
            " 10  SG_ENTIDADE_ENSINO             662665 non-null  object \n",
            " 11  NM_ENTIDADE_ENSINO             662665 non-null  object \n",
            " 12  CS_STATUS_JURIDICO             662665 non-null  object \n",
            " 13  SG_UF_PROGRAMA                 662665 non-null  object \n",
            " 14  NM_REGIAO                      662665 non-null  object \n",
            " 15  ID_PESSOA                      662665 non-null  int64  \n",
            " 16  TP_SEXO_DOCENTE                662665 non-null  object \n",
            " 17  AN_NASCIMENTO_DOCENTE          662665 non-null  int64  \n",
            " 18  DS_FAIXA_ETARIA                662577 non-null  object \n",
            " 19  NM_PAIS_NACIONALIDADE_DOCENTE  662665 non-null  object \n",
            " 20  DS_TIPO_VINCULO_DOCENTE_IES    662660 non-null  object \n",
            " 21  DS_REGIME_TRABALHO             662665 non-null  object \n",
            " 22  CD_CAT_BOLSA_PRODUTIVIDADE     153243 non-null  object \n",
            " 23  IN_DOUTOR                      662665 non-null  object \n",
            " 24  AN_TITULACAO                   662651 non-null  float64\n",
            " 25  NM_GRAU_TITULACAO              662651 non-null  object \n",
            " 26  SG_IES_TITULACAO               648813 non-null  object \n",
            " 27  NM_IES_TITULACAO               662651 non-null  object \n",
            " 28  NM_PAIS_IES_TITULACAO          662651 non-null  object \n",
            " 29  DS_CLIENTELA_QUADRIENAL_2017   350825 non-null  object \n",
            "dtypes: float64(1), int64(4), object(25)\n",
            "memory usage: 151.7+ MB\n"
          ],
          "name": "stdout"
        }
      ]
    },
    {
      "cell_type": "markdown",
      "metadata": {
        "id": "2fma6m4JrkS3"
      },
      "source": [
        "- Agrupando os dados por Programa de Pós Graduação"
      ]
    },
    {
      "cell_type": "code",
      "metadata": {
        "colab": {
          "base_uri": "https://localhost:8080/",
          "height": 864
        },
        "id": "CVtT4zJAI6P0",
        "outputId": "ab2eabd5-26d7-4472-8cf3-aa1353e3e34c"
      },
      "source": [
        "#resolvi agrupar depois da exclusao dos conceitos com erro\r\n",
        "\r\n",
        "#df1 = df.groupby('CD_PROGRAMA_IES',as_index=False)\r\n",
        "#df1.first() "
      ],
      "execution_count": null,
      "outputs": [
        {
          "output_type": "execute_result",
          "data": {
            "text/html": [
              "<div>\n",
              "<style scoped>\n",
              "    .dataframe tbody tr th:only-of-type {\n",
              "        vertical-align: middle;\n",
              "    }\n",
              "\n",
              "    .dataframe tbody tr th {\n",
              "        vertical-align: top;\n",
              "    }\n",
              "\n",
              "    .dataframe thead th {\n",
              "        text-align: right;\n",
              "    }\n",
              "</style>\n",
              "<table border=\"1\" class=\"dataframe\">\n",
              "  <thead>\n",
              "    <tr style=\"text-align: right;\">\n",
              "      <th></th>\n",
              "      <th>CD_PROGRAMA_IES</th>\n",
              "      <th>AN_BASE</th>\n",
              "      <th>CD_AREA_AVALIACAO</th>\n",
              "      <th>NM_AREA_AVALIACAO</th>\n",
              "      <th>NM_GRANDE_AREA_CONHECIMENTO</th>\n",
              "      <th>NM_AREA_CONHECIMENTO</th>\n",
              "      <th>NM_PROGRAMA_IES</th>\n",
              "      <th>NM_GRAU_PROGRAMA</th>\n",
              "      <th>NM_MODALIDADE_PROGRAMA</th>\n",
              "      <th>CD_CONCEITO_PROGRAMA</th>\n",
              "      <th>SG_ENTIDADE_ENSINO</th>\n",
              "      <th>NM_ENTIDADE_ENSINO</th>\n",
              "      <th>CS_STATUS_JURIDICO</th>\n",
              "      <th>SG_UF_PROGRAMA</th>\n",
              "      <th>NM_REGIAO</th>\n",
              "      <th>ID_PESSOA</th>\n",
              "      <th>TP_SEXO_DOCENTE</th>\n",
              "      <th>AN_NASCIMENTO_DOCENTE</th>\n",
              "      <th>DS_FAIXA_ETARIA</th>\n",
              "      <th>NM_PAIS_NACIONALIDADE_DOCENTE</th>\n",
              "      <th>DS_TIPO_VINCULO_DOCENTE_IES</th>\n",
              "      <th>DS_REGIME_TRABALHO</th>\n",
              "      <th>CD_CAT_BOLSA_PRODUTIVIDADE</th>\n",
              "      <th>IN_DOUTOR</th>\n",
              "      <th>AN_TITULACAO</th>\n",
              "      <th>NM_GRAU_TITULACAO</th>\n",
              "      <th>SG_IES_TITULACAO</th>\n",
              "      <th>NM_IES_TITULACAO</th>\n",
              "      <th>NM_PAIS_IES_TITULACAO</th>\n",
              "      <th>DS_CLIENTELA_QUADRIENAL_2017</th>\n",
              "    </tr>\n",
              "  </thead>\n",
              "  <tbody>\n",
              "    <tr>\n",
              "      <th>0</th>\n",
              "      <td>10001018002P1</td>\n",
              "      <td>2013</td>\n",
              "      <td>9</td>\n",
              "      <td>CIÊNCIAS BIOLÓGICAS III</td>\n",
              "      <td>CIÊNCIAS BIOLÓGICAS</td>\n",
              "      <td>PARASITOLOGIA</td>\n",
              "      <td>BIOLOGIA EXPERIMENTAL</td>\n",
              "      <td>MESTRADO/DOUTORADO</td>\n",
              "      <td>ACADÊMICO</td>\n",
              "      <td>3</td>\n",
              "      <td>UNIR</td>\n",
              "      <td>UNIVERSIDADE FEDERAL DE RONDÔNIA</td>\n",
              "      <td>FEDERAL</td>\n",
              "      <td>RO</td>\n",
              "      <td>NORTE</td>\n",
              "      <td>832956</td>\n",
              "      <td>FEMININO</td>\n",
              "      <td>1975</td>\n",
              "      <td>35 A 39 ANOS</td>\n",
              "      <td>BRASIL</td>\n",
              "      <td>COLABORADOR</td>\n",
              "      <td>PARCIAL</td>\n",
              "      <td>2</td>\n",
              "      <td>S</td>\n",
              "      <td>2008.0</td>\n",
              "      <td>DOUTORADO</td>\n",
              "      <td>PARIS 7</td>\n",
              "      <td>UNIVERSITÉ PARIS DIDEROT - PARIS VII</td>\n",
              "      <td>FRANÇA</td>\n",
              "      <td>AVALIAÇÃO</td>\n",
              "    </tr>\n",
              "    <tr>\n",
              "      <th>1</th>\n",
              "      <td>10001018004P4</td>\n",
              "      <td>2013</td>\n",
              "      <td>45</td>\n",
              "      <td>INTERDISCIPLINAR</td>\n",
              "      <td>MULTIDISCIPLINAR</td>\n",
              "      <td>MEIO AMBIENTE E AGRÁRIAS</td>\n",
              "      <td>DESENVOLVIMENTO REGIONAL E MEIO AMBIENTE</td>\n",
              "      <td>MESTRADO/DOUTORADO</td>\n",
              "      <td>ACADÊMICO</td>\n",
              "      <td>4</td>\n",
              "      <td>UNIR</td>\n",
              "      <td>UNIVERSIDADE FEDERAL DE RONDÔNIA</td>\n",
              "      <td>FEDERAL</td>\n",
              "      <td>RO</td>\n",
              "      <td>NORTE</td>\n",
              "      <td>10222</td>\n",
              "      <td>MASCULINO</td>\n",
              "      <td>1954</td>\n",
              "      <td>55 A 59 ANOS</td>\n",
              "      <td>BRASIL</td>\n",
              "      <td>SERVIDOR PÚBLICO</td>\n",
              "      <td>INTEGRAL</td>\n",
              "      <td>2</td>\n",
              "      <td>S</td>\n",
              "      <td>1998.0</td>\n",
              "      <td>DOUTORADO</td>\n",
              "      <td>UNESP/RC</td>\n",
              "      <td>UNIVERSIDADE EST.PAULISTA JÚLIO DE MESQUITA FI...</td>\n",
              "      <td>BRASIL</td>\n",
              "      <td>AVALIAÇÃO</td>\n",
              "    </tr>\n",
              "    <tr>\n",
              "      <th>2</th>\n",
              "      <td>10001018005P0</td>\n",
              "      <td>2013</td>\n",
              "      <td>36</td>\n",
              "      <td>GEOGRAFIA</td>\n",
              "      <td>CIÊNCIAS HUMANAS</td>\n",
              "      <td>GEOGRAFIA</td>\n",
              "      <td>GEOGRAFIA</td>\n",
              "      <td>MESTRADO/DOUTORADO</td>\n",
              "      <td>ACADÊMICO</td>\n",
              "      <td>4</td>\n",
              "      <td>UNIR</td>\n",
              "      <td>UNIVERSIDADE FEDERAL DE RONDÔNIA</td>\n",
              "      <td>FEDERAL</td>\n",
              "      <td>RO</td>\n",
              "      <td>NORTE</td>\n",
              "      <td>9039</td>\n",
              "      <td>FEMININO</td>\n",
              "      <td>1964</td>\n",
              "      <td>45 A 49 ANOS</td>\n",
              "      <td>BRASIL</td>\n",
              "      <td>SERVIDOR PÚBLICO</td>\n",
              "      <td>INTEGRAL</td>\n",
              "      <td>1A</td>\n",
              "      <td>S</td>\n",
              "      <td>2004.0</td>\n",
              "      <td>DOUTORADO</td>\n",
              "      <td>UFPA</td>\n",
              "      <td>UNIVERSIDADE FEDERAL DO PARÁ</td>\n",
              "      <td>BRASIL</td>\n",
              "      <td>AVALIAÇÃO</td>\n",
              "    </tr>\n",
              "    <tr>\n",
              "      <th>3</th>\n",
              "      <td>10001018006P7</td>\n",
              "      <td>2013</td>\n",
              "      <td>27</td>\n",
              "      <td>ADMINISTRAÇÃO PÚBLICA E DE EMPRESAS, CIÊNCIAS ...</td>\n",
              "      <td>CIÊNCIAS SOCIAIS APLICADAS</td>\n",
              "      <td>ADMINISTRAÇÃO</td>\n",
              "      <td>ADMINISTRAÇÃO</td>\n",
              "      <td>MESTRADO</td>\n",
              "      <td>ACADÊMICO</td>\n",
              "      <td>4</td>\n",
              "      <td>UNIR</td>\n",
              "      <td>UNIVERSIDADE FEDERAL DE RONDÔNIA</td>\n",
              "      <td>FEDERAL</td>\n",
              "      <td>RO</td>\n",
              "      <td>NORTE</td>\n",
              "      <td>775921</td>\n",
              "      <td>MASCULINO</td>\n",
              "      <td>1954</td>\n",
              "      <td>55 A 59 ANOS</td>\n",
              "      <td>BRASIL</td>\n",
              "      <td>SERVIDOR PÚBLICO</td>\n",
              "      <td>INTEGRAL</td>\n",
              "      <td>1D</td>\n",
              "      <td>S</td>\n",
              "      <td>2010.0</td>\n",
              "      <td>DOUTORADO</td>\n",
              "      <td>UAA</td>\n",
              "      <td>UNIVERSIDAD AUTÓNOMA DE ASUNCIÓN</td>\n",
              "      <td>PARAGUAI</td>\n",
              "      <td>AVALIAÇÃO</td>\n",
              "    </tr>\n",
              "    <tr>\n",
              "      <th>4</th>\n",
              "      <td>10001018008P0</td>\n",
              "      <td>2013</td>\n",
              "      <td>41</td>\n",
              "      <td>LETRAS / LINGUÍSTICA</td>\n",
              "      <td>LINGÜÍSTICA, LETRAS E ARTES</td>\n",
              "      <td>LINGÜÍSTICA</td>\n",
              "      <td>CIÊNCIAS DA LINGUAGEM</td>\n",
              "      <td>MESTRADO</td>\n",
              "      <td>ACADÊMICO</td>\n",
              "      <td>2</td>\n",
              "      <td>UNIR</td>\n",
              "      <td>UNIVERSIDADE FEDERAL DE RONDÔNIA</td>\n",
              "      <td>FEDERAL</td>\n",
              "      <td>RO</td>\n",
              "      <td>NORTE</td>\n",
              "      <td>490149</td>\n",
              "      <td>FEMININO</td>\n",
              "      <td>1963</td>\n",
              "      <td>50 A 54 ANOS</td>\n",
              "      <td>BRASIL</td>\n",
              "      <td>CLT</td>\n",
              "      <td>DEDICAÇÃO EXCLUSIVA</td>\n",
              "      <td>None</td>\n",
              "      <td>S</td>\n",
              "      <td>2001.0</td>\n",
              "      <td>DOUTORADO</td>\n",
              "      <td>UNICAMP</td>\n",
              "      <td>UNIVERSIDADE ESTADUAL DE CAMPINAS</td>\n",
              "      <td>BRASIL</td>\n",
              "      <td>NÃO</td>\n",
              "    </tr>\n",
              "    <tr>\n",
              "      <th>...</th>\n",
              "      <td>...</td>\n",
              "      <td>...</td>\n",
              "      <td>...</td>\n",
              "      <td>...</td>\n",
              "      <td>...</td>\n",
              "      <td>...</td>\n",
              "      <td>...</td>\n",
              "      <td>...</td>\n",
              "      <td>...</td>\n",
              "      <td>...</td>\n",
              "      <td>...</td>\n",
              "      <td>...</td>\n",
              "      <td>...</td>\n",
              "      <td>...</td>\n",
              "      <td>...</td>\n",
              "      <td>...</td>\n",
              "      <td>...</td>\n",
              "      <td>...</td>\n",
              "      <td>...</td>\n",
              "      <td>...</td>\n",
              "      <td>...</td>\n",
              "      <td>...</td>\n",
              "      <td>...</td>\n",
              "      <td>...</td>\n",
              "      <td>...</td>\n",
              "      <td>...</td>\n",
              "      <td>...</td>\n",
              "      <td>...</td>\n",
              "      <td>...</td>\n",
              "      <td>...</td>\n",
              "    </tr>\n",
              "    <tr>\n",
              "      <th>4718</th>\n",
              "      <td>53037014001P0</td>\n",
              "      <td>2013</td>\n",
              "      <td>39</td>\n",
              "      <td>CIÊNCIA POLÍTICA E RELAÇÕES INTERNACIONAIS</td>\n",
              "      <td>CIÊNCIAS HUMANAS</td>\n",
              "      <td>CIÊNCIA POLÍTICA</td>\n",
              "      <td>PODER LEGISLATIVO</td>\n",
              "      <td>MESTRADO PROFISSIONAL</td>\n",
              "      <td>PROFISSIONAL</td>\n",
              "      <td>3</td>\n",
              "      <td>CEFOR</td>\n",
              "      <td>CENTRO DE FORMAÇÃO, TREINAMENTO E APERFEIÇOAMENTO</td>\n",
              "      <td>FEDERAL</td>\n",
              "      <td>DF</td>\n",
              "      <td>CENTRO-OESTE</td>\n",
              "      <td>120356</td>\n",
              "      <td>MASCULINO</td>\n",
              "      <td>1979</td>\n",
              "      <td>30 A 34 ANOS</td>\n",
              "      <td>BRASIL</td>\n",
              "      <td>SERVIDOR PÚBLICO</td>\n",
              "      <td>INTEGRAL</td>\n",
              "      <td>None</td>\n",
              "      <td>S</td>\n",
              "      <td>2006.0</td>\n",
              "      <td>DOUTORADO</td>\n",
              "      <td>UNB</td>\n",
              "      <td>UNIVERSIDADE DE BRASÍLIA</td>\n",
              "      <td>BRASIL</td>\n",
              "      <td>AVALIAÇÃO</td>\n",
              "    </tr>\n",
              "    <tr>\n",
              "      <th>4719</th>\n",
              "      <td>53044002001P7</td>\n",
              "      <td>2015</td>\n",
              "      <td>22</td>\n",
              "      <td>SAÚDE COLETIVA</td>\n",
              "      <td>CIÊNCIAS DA SAÚDE</td>\n",
              "      <td>SAÚDE COLETIVA</td>\n",
              "      <td>POLÍTICAS PÚBLICAS EM SAÚDE</td>\n",
              "      <td>MESTRADO PROFISSIONAL</td>\n",
              "      <td>PROFISSIONAL</td>\n",
              "      <td>3</td>\n",
              "      <td>EGS/FIOCRUZ BRASÍLIA</td>\n",
              "      <td>ESCOLA DE GOVERNO EM SAÚDE/DIRETORIA REGIONAL ...</td>\n",
              "      <td>FEDERAL</td>\n",
              "      <td>DF</td>\n",
              "      <td>CENTRO-OESTE</td>\n",
              "      <td>116242</td>\n",
              "      <td>MASCULINO</td>\n",
              "      <td>1976</td>\n",
              "      <td>35 A 39 ANOS</td>\n",
              "      <td>BRASIL</td>\n",
              "      <td>SERVIDOR PÚBLICO</td>\n",
              "      <td>INTEGRAL</td>\n",
              "      <td>2</td>\n",
              "      <td>S</td>\n",
              "      <td>2015.0</td>\n",
              "      <td>DOUTORADO</td>\n",
              "      <td>UNB</td>\n",
              "      <td>UNIVERSIDADE DE BRASÍLIA</td>\n",
              "      <td>BRASIL</td>\n",
              "      <td>AVALIAÇÃO</td>\n",
              "    </tr>\n",
              "    <tr>\n",
              "      <th>4720</th>\n",
              "      <td>53045009001P3</td>\n",
              "      <td>2014</td>\n",
              "      <td>27</td>\n",
              "      <td>ADMINISTRAÇÃO PÚBLICA E DE EMPRESAS, CIÊNCIAS ...</td>\n",
              "      <td>CIÊNCIAS SOCIAIS APLICADAS</td>\n",
              "      <td>ADMINISTRAÇÃO PÚBLICA</td>\n",
              "      <td>ADMINISTRAÇÃO PÚBLICA EM REDE NACIONAL</td>\n",
              "      <td>MESTRADO PROFISSIONAL</td>\n",
              "      <td>PROFISSIONAL</td>\n",
              "      <td>3</td>\n",
              "      <td>UFCG</td>\n",
              "      <td>UNIVERSIDADE FEDERAL DE CAMPINA GRANDE</td>\n",
              "      <td>FEDERAL</td>\n",
              "      <td>PB</td>\n",
              "      <td>NORDESTE</td>\n",
              "      <td>105227</td>\n",
              "      <td>MASCULINO</td>\n",
              "      <td>1977</td>\n",
              "      <td>35 A 39 ANOS</td>\n",
              "      <td>BRASIL</td>\n",
              "      <td>SERVIDOR PÚBLICO</td>\n",
              "      <td>DEDICAÇÃO EXCLUSIVA</td>\n",
              "      <td>2</td>\n",
              "      <td>S</td>\n",
              "      <td>2014.0</td>\n",
              "      <td>DOUTORADO</td>\n",
              "      <td>UFCG</td>\n",
              "      <td>UNIVERSIDADE FEDERAL DE CAMPINA GRANDE</td>\n",
              "      <td>BRASIL</td>\n",
              "      <td>AVALIAÇÃO</td>\n",
              "    </tr>\n",
              "    <tr>\n",
              "      <th>4721</th>\n",
              "      <td>53062000001P8</td>\n",
              "      <td>2019</td>\n",
              "      <td>39</td>\n",
              "      <td>CIÊNCIA POLÍTICA E RELAÇÕES INTERNACIONAIS</td>\n",
              "      <td>CIÊNCIAS HUMANAS</td>\n",
              "      <td>CIÊNCIA POLÍTICA</td>\n",
              "      <td>POLÍTICAS PÚBLICAS E GOVERNO</td>\n",
              "      <td>MESTRADO</td>\n",
              "      <td>ACADÊMICO</td>\n",
              "      <td>A</td>\n",
              "      <td>FGV/BSB</td>\n",
              "      <td>FUNDACAO GETULIO VARGAS ( BRASÍLIA )</td>\n",
              "      <td>PARTICULAR</td>\n",
              "      <td>DF</td>\n",
              "      <td>CENTRO-OESTE</td>\n",
              "      <td>22058</td>\n",
              "      <td>MASCULINO</td>\n",
              "      <td>1951</td>\n",
              "      <td>65 A 69 ANOS</td>\n",
              "      <td>BRASIL</td>\n",
              "      <td>COLABORADOR</td>\n",
              "      <td>PARCIAL</td>\n",
              "      <td>1B</td>\n",
              "      <td>S</td>\n",
              "      <td>1981.0</td>\n",
              "      <td>DOUTORADO</td>\n",
              "      <td>NI</td>\n",
              "      <td>PRINCETON UNIVERSITY</td>\n",
              "      <td>ESTADOS UNIDOS</td>\n",
              "      <td>None</td>\n",
              "    </tr>\n",
              "    <tr>\n",
              "      <th>4722</th>\n",
              "      <td>53062000002P4</td>\n",
              "      <td>2019</td>\n",
              "      <td>28</td>\n",
              "      <td>ECONOMIA</td>\n",
              "      <td>CIÊNCIAS SOCIAIS APLICADAS</td>\n",
              "      <td>ECONOMIA</td>\n",
              "      <td>ECONOMIA</td>\n",
              "      <td>MESTRADO PROFISSIONAL</td>\n",
              "      <td>PROFISSIONAL</td>\n",
              "      <td>A</td>\n",
              "      <td>FGV/BSB</td>\n",
              "      <td>FUNDACAO GETULIO VARGAS ( BRASÍLIA )</td>\n",
              "      <td>PARTICULAR</td>\n",
              "      <td>DF</td>\n",
              "      <td>CENTRO-OESTE</td>\n",
              "      <td>527221</td>\n",
              "      <td>MASCULINO</td>\n",
              "      <td>1970</td>\n",
              "      <td>45 A 49 ANOS</td>\n",
              "      <td>BRASIL</td>\n",
              "      <td>CLT</td>\n",
              "      <td>PARCIAL</td>\n",
              "      <td>1B</td>\n",
              "      <td>S</td>\n",
              "      <td>2000.0</td>\n",
              "      <td>DOUTORADO</td>\n",
              "      <td>UNB</td>\n",
              "      <td>UNIVERSIDADE DE BRASÍLIA</td>\n",
              "      <td>BRASIL</td>\n",
              "      <td>None</td>\n",
              "    </tr>\n",
              "  </tbody>\n",
              "</table>\n",
              "<p>4723 rows × 30 columns</p>\n",
              "</div>"
            ],
            "text/plain": [
              "     CD_PROGRAMA_IES  ...  DS_CLIENTELA_QUADRIENAL_2017\n",
              "0      10001018002P1  ...                     AVALIAÇÃO\n",
              "1      10001018004P4  ...                     AVALIAÇÃO\n",
              "2      10001018005P0  ...                     AVALIAÇÃO\n",
              "3      10001018006P7  ...                     AVALIAÇÃO\n",
              "4      10001018008P0  ...                           NÃO\n",
              "...              ...  ...                           ...\n",
              "4718   53037014001P0  ...                     AVALIAÇÃO\n",
              "4719   53044002001P7  ...                     AVALIAÇÃO\n",
              "4720   53045009001P3  ...                     AVALIAÇÃO\n",
              "4721   53062000001P8  ...                          None\n",
              "4722   53062000002P4  ...                          None\n",
              "\n",
              "[4723 rows x 30 columns]"
            ]
          },
          "metadata": {
            "tags": []
          },
          "execution_count": 9
        }
      ]
    },
    {
      "cell_type": "markdown",
      "metadata": {
        "id": "_d5S1GLQrrtn"
      },
      "source": [
        "- Erro ao analisar os conceitos dos programas:"
      ]
    },
    {
      "cell_type": "markdown",
      "metadata": {
        "id": "0hWoyq2Ur6l-"
      },
      "source": [
        "As visualizações e agrupamento utilizando os conceitos dos programas apresentou erro em diversar situações\r\n"
      ]
    },
    {
      "cell_type": "code",
      "metadata": {
        "id": "TxneyTA3P0IK"
      },
      "source": [
        "df.groupby('NM_PAIS_IES_TITULACAO').mean()['CD_CONCEITO_PROGRAMA'].round(2).sort_values(ascending=False).head(15)"
      ],
      "execution_count": null,
      "outputs": []
    },
    {
      "cell_type": "markdown",
      "metadata": {
        "id": "xK7NXJMcsRC8"
      },
      "source": [
        "Analisando os dados únicos da coluna Conceito, notei que o erro é devido a alguns conceitos estarem no formato string:"
      ]
    },
    {
      "cell_type": "code",
      "metadata": {
        "id": "JzEEGEtATcxj"
      },
      "source": [
        "df['CD_CONCEITO_PROGRAMA'].unique()"
      ],
      "execution_count": null,
      "outputs": []
    },
    {
      "cell_type": "markdown",
      "metadata": {
        "id": "lNc6OkKmsizT"
      },
      "source": [
        "Abaixo notamos que o conceito 'A' é um problema das bases dos anos 2018 e 2019. "
      ]
    },
    {
      "cell_type": "code",
      "metadata": {
        "id": "Hk16EOk9TsGD"
      },
      "source": [
        "# alguns conceitos de programa são A - dropar todos os 'A'\r\n",
        "\r\n",
        "df.query(\"CD_CONCEITO_PROGRAMA=='A'\").groupby(['CD_PROGRAMA_IES','CD_CONCEITO_PROGRAMA', 'AN_BASE'], as_index=False).first()"
      ],
      "execution_count": null,
      "outputs": []
    },
    {
      "cell_type": "code",
      "metadata": {
        "id": "_oalTGiuUB4V"
      },
      "source": [
        "df1 = df.query(\"CD_CONCEITO_PROGRAMA=='A'\").groupby(['CD_PROGRAMA_IES','CD_CONCEITO_PROGRAMA', 'AN_BASE'], as_index=False).first()\r\n",
        "df1['AN_BASE'].unique()"
      ],
      "execution_count": null,
      "outputs": []
    },
    {
      "cell_type": "markdown",
      "metadata": {
        "id": "bRpXywOBtQ6G"
      },
      "source": [
        "Testei pesquisando na base de dados 'Programa 2018' na tentativa de encontrar o conceito numérico - sem sucesso (também apresentava o conceito 'A'):"
      ]
    },
    {
      "cell_type": "code",
      "metadata": {
        "id": "k3Q1j2yptLTH"
      },
      "source": [
        "df.query(\"CD_CONCEITO_PROGRAMA=='A' and AN_BASE==2018\").groupby(['CD_PROGRAMA_IES','CD_CONCEITO_PROGRAMA', 'AN_BASE'], as_index=False).first()"
      ],
      "execution_count": null,
      "outputs": []
    },
    {
      "cell_type": "code",
      "metadata": {
        "colab": {
          "base_uri": "https://localhost:8080/"
        },
        "id": "Pwazi24ZVuxA",
        "outputId": "b3ec40a5-b810-4e81-b05d-17beb35b245d"
      },
      "source": [
        "# Comprovamos que, após o groupby por cd_programa_ies, temos valores únicos de PPG\r\n",
        "# O próximo passo é utilizar o aggregate e transformar algumas colunas em dados categoricos\r\n",
        "\r\n",
        "x = df['CD_PROGRAMA_IES'].unique().tolist()\r\n",
        "len(x)"
      ],
      "execution_count": null,
      "outputs": [
        {
          "output_type": "execute_result",
          "data": {
            "text/plain": [
              "4723"
            ]
          },
          "metadata": {
            "tags": []
          },
          "execution_count": 11
        }
      ]
    },
    {
      "cell_type": "markdown",
      "metadata": {
        "id": "MJkYbKGV2PBq"
      },
      "source": [
        "- Quantidade de linhas que possuem conceito 'A'"
      ]
    },
    {
      "cell_type": "code",
      "metadata": {
        "id": "-e6JA1eRlqDY",
        "colab": {
          "base_uri": "https://localhost:8080/"
        },
        "outputId": "1d79e077-b393-4019-f1f8-f4f1ef9b5cd7"
      },
      "source": [
        "len(df.query(\"CD_CONCEITO_PROGRAMA=='A'\").groupby(['CD_PROGRAMA_IES'], as_index=False))\r\n"
      ],
      "execution_count": null,
      "outputs": [
        {
          "output_type": "execute_result",
          "data": {
            "text/plain": [
              "257"
            ]
          },
          "metadata": {
            "tags": []
          },
          "execution_count": 12
        }
      ]
    },
    {
      "cell_type": "markdown",
      "metadata": {
        "id": "M1y4TtuF8KTF"
      },
      "source": [
        "- Para eliminar os conceitos listados como 'A' criei um dataset filtrando todos os conceitos diferentes de 'A'"
      ]
    },
    {
      "cell_type": "code",
      "metadata": {
        "colab": {
          "base_uri": "https://localhost:8080/"
        },
        "id": "xMUkmj_hzmdX",
        "outputId": "bb25e05a-99a3-4bfd-e075-ad647756ff41"
      },
      "source": [
        "df1 = df[df['CD_CONCEITO_PROGRAMA'] != 'A']\r\n",
        "df1.info()"
      ],
      "execution_count": null,
      "outputs": [
        {
          "output_type": "stream",
          "text": [
            "<class 'pandas.core.frame.DataFrame'>\n",
            "Int64Index: 658805 entries, 0 to 662664\n",
            "Data columns (total 30 columns):\n",
            " #   Column                         Non-Null Count   Dtype  \n",
            "---  ------                         --------------   -----  \n",
            " 0   AN_BASE                        658805 non-null  int64  \n",
            " 1   CD_AREA_AVALIACAO              658805 non-null  int64  \n",
            " 2   NM_AREA_AVALIACAO              658805 non-null  object \n",
            " 3   NM_GRANDE_AREA_CONHECIMENTO    658805 non-null  object \n",
            " 4   NM_AREA_CONHECIMENTO           658805 non-null  object \n",
            " 5   CD_PROGRAMA_IES                658805 non-null  object \n",
            " 6   NM_PROGRAMA_IES                658805 non-null  object \n",
            " 7   NM_GRAU_PROGRAMA               658805 non-null  object \n",
            " 8   NM_MODALIDADE_PROGRAMA         658805 non-null  object \n",
            " 9   CD_CONCEITO_PROGRAMA           658805 non-null  object \n",
            " 10  SG_ENTIDADE_ENSINO             658805 non-null  object \n",
            " 11  NM_ENTIDADE_ENSINO             658805 non-null  object \n",
            " 12  CS_STATUS_JURIDICO             658805 non-null  object \n",
            " 13  SG_UF_PROGRAMA                 658805 non-null  object \n",
            " 14  NM_REGIAO                      658805 non-null  object \n",
            " 15  ID_PESSOA                      658805 non-null  int64  \n",
            " 16  TP_SEXO_DOCENTE                658805 non-null  object \n",
            " 17  AN_NASCIMENTO_DOCENTE          658805 non-null  int64  \n",
            " 18  DS_FAIXA_ETARIA                658717 non-null  object \n",
            " 19  NM_PAIS_NACIONALIDADE_DOCENTE  658805 non-null  object \n",
            " 20  DS_TIPO_VINCULO_DOCENTE_IES    658800 non-null  object \n",
            " 21  DS_REGIME_TRABALHO             658805 non-null  object \n",
            " 22  CD_CAT_BOLSA_PRODUTIVIDADE     152855 non-null  object \n",
            " 23  IN_DOUTOR                      658805 non-null  object \n",
            " 24  AN_TITULACAO                   658791 non-null  float64\n",
            " 25  NM_GRAU_TITULACAO              658791 non-null  object \n",
            " 26  SG_IES_TITULACAO               644953 non-null  object \n",
            " 27  NM_IES_TITULACAO               658791 non-null  object \n",
            " 28  NM_PAIS_IES_TITULACAO          658791 non-null  object \n",
            " 29  DS_CLIENTELA_QUADRIENAL_2017   350825 non-null  object \n",
            "dtypes: float64(1), int64(4), object(25)\n",
            "memory usage: 155.8+ MB\n"
          ],
          "name": "stdout"
        }
      ]
    },
    {
      "cell_type": "code",
      "metadata": {
        "colab": {
          "base_uri": "https://localhost:8080/"
        },
        "id": "JynyLiLDGoJr",
        "outputId": "4ce4805d-4c8b-4ca2-9f0c-55c54e0fe237"
      },
      "source": [
        "df1['CD_CONCEITO_PROGRAMA'].unique()"
      ],
      "execution_count": null,
      "outputs": [
        {
          "output_type": "execute_result",
          "data": {
            "text/plain": [
              "array([3, 4, 2, 5, 6, 7, 1, '5', '4', '3', '2', '6', '7', '1'],\n",
              "      dtype=object)"
            ]
          },
          "metadata": {
            "tags": []
          },
          "execution_count": 18
        }
      ]
    },
    {
      "cell_type": "markdown",
      "metadata": {
        "id": "27UxaQAh8cl4"
      },
      "source": [
        "- Com os conceitos 'A' eliminados, o próximo passo foi tranformar todos os dados da coluna em variável inteira"
      ]
    },
    {
      "cell_type": "code",
      "metadata": {
        "colab": {
          "base_uri": "https://localhost:8080/"
        },
        "id": "AsKrEazs7pHn",
        "outputId": "2a38c3a5-3221-4ef3-9ab4-7bad3e5bfe72"
      },
      "source": [
        "df1.CD_CONCEITO_PROGRAMA = df1.CD_CONCEITO_PROGRAMA.astype('int64')"
      ],
      "execution_count": null,
      "outputs": [
        {
          "output_type": "stream",
          "text": [
            "/usr/local/lib/python3.6/dist-packages/pandas/core/generic.py:5170: SettingWithCopyWarning: \n",
            "A value is trying to be set on a copy of a slice from a DataFrame.\n",
            "Try using .loc[row_indexer,col_indexer] = value instead\n",
            "\n",
            "See the caveats in the documentation: https://pandas.pydata.org/pandas-docs/stable/user_guide/indexing.html#returning-a-view-versus-a-copy\n",
            "  self[name] = value\n"
          ],
          "name": "stderr"
        }
      ]
    },
    {
      "cell_type": "code",
      "metadata": {
        "colab": {
          "base_uri": "https://localhost:8080/"
        },
        "id": "HIteY-XQ8ED8",
        "outputId": "6157eb33-98ee-4eeb-d965-9cf0c48f42f8"
      },
      "source": [
        "df1.info()"
      ],
      "execution_count": null,
      "outputs": [
        {
          "output_type": "stream",
          "text": [
            "<class 'pandas.core.frame.DataFrame'>\n",
            "Int64Index: 658805 entries, 0 to 662664\n",
            "Data columns (total 30 columns):\n",
            " #   Column                         Non-Null Count   Dtype  \n",
            "---  ------                         --------------   -----  \n",
            " 0   AN_BASE                        658805 non-null  int64  \n",
            " 1   CD_AREA_AVALIACAO              658805 non-null  int64  \n",
            " 2   NM_AREA_AVALIACAO              658805 non-null  object \n",
            " 3   NM_GRANDE_AREA_CONHECIMENTO    658805 non-null  object \n",
            " 4   NM_AREA_CONHECIMENTO           658805 non-null  object \n",
            " 5   CD_PROGRAMA_IES                658805 non-null  object \n",
            " 6   NM_PROGRAMA_IES                658805 non-null  object \n",
            " 7   NM_GRAU_PROGRAMA               658805 non-null  object \n",
            " 8   NM_MODALIDADE_PROGRAMA         658805 non-null  object \n",
            " 9   CD_CONCEITO_PROGRAMA           658805 non-null  int64  \n",
            " 10  SG_ENTIDADE_ENSINO             658805 non-null  object \n",
            " 11  NM_ENTIDADE_ENSINO             658805 non-null  object \n",
            " 12  CS_STATUS_JURIDICO             658805 non-null  object \n",
            " 13  SG_UF_PROGRAMA                 658805 non-null  object \n",
            " 14  NM_REGIAO                      658805 non-null  object \n",
            " 15  ID_PESSOA                      658805 non-null  int64  \n",
            " 16  TP_SEXO_DOCENTE                658805 non-null  object \n",
            " 17  AN_NASCIMENTO_DOCENTE          658805 non-null  int64  \n",
            " 18  DS_FAIXA_ETARIA                658717 non-null  object \n",
            " 19  NM_PAIS_NACIONALIDADE_DOCENTE  658805 non-null  object \n",
            " 20  DS_TIPO_VINCULO_DOCENTE_IES    658800 non-null  object \n",
            " 21  DS_REGIME_TRABALHO             658805 non-null  object \n",
            " 22  CD_CAT_BOLSA_PRODUTIVIDADE     152855 non-null  object \n",
            " 23  IN_DOUTOR                      658805 non-null  object \n",
            " 24  AN_TITULACAO                   658791 non-null  float64\n",
            " 25  NM_GRAU_TITULACAO              658791 non-null  object \n",
            " 26  SG_IES_TITULACAO               644953 non-null  object \n",
            " 27  NM_IES_TITULACAO               658791 non-null  object \n",
            " 28  NM_PAIS_IES_TITULACAO          658791 non-null  object \n",
            " 29  DS_CLIENTELA_QUADRIENAL_2017   350825 non-null  object \n",
            "dtypes: float64(1), int64(5), object(24)\n",
            "memory usage: 155.8+ MB\n"
          ],
          "name": "stdout"
        }
      ]
    },
    {
      "cell_type": "code",
      "metadata": {
        "colab": {
          "base_uri": "https://localhost:8080/"
        },
        "id": "Jp7lNm3F835k",
        "outputId": "8434246e-711e-4663-c83d-18a3f9eef252"
      },
      "source": [
        "#gratidao pandas\r\n",
        "\r\n",
        "df1['CD_CONCEITO_PROGRAMA'].unique()"
      ],
      "execution_count": null,
      "outputs": [
        {
          "output_type": "execute_result",
          "data": {
            "text/plain": [
              "array([3, 4, 2, 5, 6, 7, 1])"
            ]
          },
          "metadata": {
            "tags": []
          },
          "execution_count": 22
        }
      ]
    },
    {
      "cell_type": "code",
      "metadata": {
        "colab": {
          "base_uri": "https://localhost:8080/"
        },
        "id": "7UJZ2WVMIWYF",
        "outputId": "2fa04af8-371f-44d2-b342-e3c58714e1d6"
      },
      "source": [
        "df1.groupby('AN_BASE').mean()['CD_CONCEITO_PROGRAMA'].sort_values(ascending=True)"
      ],
      "execution_count": null,
      "outputs": [
        {
          "output_type": "execute_result",
          "data": {
            "text/plain": [
              "AN_BASE\n",
              "2016    4.235096\n",
              "2015    4.281794\n",
              "2018    4.311165\n",
              "2014    4.320163\n",
              "2019    4.321311\n",
              "2017    4.326215\n",
              "2013    4.371254\n",
              "Name: CD_CONCEITO_PROGRAMA, dtype: float64"
            ]
          },
          "metadata": {
            "tags": []
          },
          "execution_count": 25
        }
      ]
    },
    {
      "cell_type": "code",
      "metadata": {
        "colab": {
          "base_uri": "https://localhost:8080/"
        },
        "id": "0xsJCeSpDsTd",
        "outputId": "fb267507-cc71-4adf-892b-b2920886c969"
      },
      "source": [
        "#essa eu peguei do gustavo\r\n",
        "\r\n",
        "df1.groupby('NM_PAIS_IES_TITULACAO').mean()['CD_CONCEITO_PROGRAMA'].round(2).sort_values(ascending=False).head(15)"
      ],
      "execution_count": null,
      "outputs": [
        {
          "output_type": "execute_result",
          "data": {
            "text/plain": [
              "NM_PAIS_IES_TITULACAO\n",
              "GEÓRGIA             7.00\n",
              "ESLOVÊNIA           7.00\n",
              "CROÁCIA             6.00\n",
              "SINGAPURA           6.00\n",
              "TURQUIA             6.00\n",
              "PORTO RICO          5.92\n",
              "REPÚBLICA TCHECA    5.36\n",
              "ISRAEL              5.33\n",
              "CAMARÕES            5.33\n",
              "BULGÁRIA            5.33\n",
              "HUNGRIA             5.11\n",
              "DINAMARCA           5.08\n",
              "COREIA DO SUL       5.08\n",
              "TAIWAN              5.00\n",
              "HONG KONG           5.00\n",
              "Name: CD_CONCEITO_PROGRAMA, dtype: float64"
            ]
          },
          "metadata": {
            "tags": []
          },
          "execution_count": 28
        }
      ]
    },
    {
      "cell_type": "markdown",
      "metadata": {
        "id": "PzSG1vHkFF-3"
      },
      "source": [
        "- Agora sim agrupando por PPG"
      ]
    },
    {
      "cell_type": "code",
      "metadata": {
        "colab": {
          "base_uri": "https://localhost:8080/",
          "height": 881
        },
        "id": "ms9c2s-GE7hC",
        "outputId": "796903a0-88f6-4d09-f521-d78c114ce9af"
      },
      "source": [
        "df1 = df1.groupby('CD_PROGRAMA_IES',as_index=False)\r\n",
        "df1.first() "
      ],
      "execution_count": null,
      "outputs": [
        {
          "output_type": "execute_result",
          "data": {
            "text/html": [
              "<div>\n",
              "<style scoped>\n",
              "    .dataframe tbody tr th:only-of-type {\n",
              "        vertical-align: middle;\n",
              "    }\n",
              "\n",
              "    .dataframe tbody tr th {\n",
              "        vertical-align: top;\n",
              "    }\n",
              "\n",
              "    .dataframe thead th {\n",
              "        text-align: right;\n",
              "    }\n",
              "</style>\n",
              "<table border=\"1\" class=\"dataframe\">\n",
              "  <thead>\n",
              "    <tr style=\"text-align: right;\">\n",
              "      <th></th>\n",
              "      <th>CD_PROGRAMA_IES</th>\n",
              "      <th>AN_BASE</th>\n",
              "      <th>CD_AREA_AVALIACAO</th>\n",
              "      <th>NM_AREA_AVALIACAO</th>\n",
              "      <th>NM_GRANDE_AREA_CONHECIMENTO</th>\n",
              "      <th>NM_AREA_CONHECIMENTO</th>\n",
              "      <th>NM_PROGRAMA_IES</th>\n",
              "      <th>NM_GRAU_PROGRAMA</th>\n",
              "      <th>NM_MODALIDADE_PROGRAMA</th>\n",
              "      <th>CD_CONCEITO_PROGRAMA</th>\n",
              "      <th>SG_ENTIDADE_ENSINO</th>\n",
              "      <th>NM_ENTIDADE_ENSINO</th>\n",
              "      <th>CS_STATUS_JURIDICO</th>\n",
              "      <th>SG_UF_PROGRAMA</th>\n",
              "      <th>NM_REGIAO</th>\n",
              "      <th>ID_PESSOA</th>\n",
              "      <th>TP_SEXO_DOCENTE</th>\n",
              "      <th>AN_NASCIMENTO_DOCENTE</th>\n",
              "      <th>DS_FAIXA_ETARIA</th>\n",
              "      <th>NM_PAIS_NACIONALIDADE_DOCENTE</th>\n",
              "      <th>DS_TIPO_VINCULO_DOCENTE_IES</th>\n",
              "      <th>DS_REGIME_TRABALHO</th>\n",
              "      <th>CD_CAT_BOLSA_PRODUTIVIDADE</th>\n",
              "      <th>IN_DOUTOR</th>\n",
              "      <th>AN_TITULACAO</th>\n",
              "      <th>NM_GRAU_TITULACAO</th>\n",
              "      <th>SG_IES_TITULACAO</th>\n",
              "      <th>NM_IES_TITULACAO</th>\n",
              "      <th>NM_PAIS_IES_TITULACAO</th>\n",
              "      <th>DS_CLIENTELA_QUADRIENAL_2017</th>\n",
              "    </tr>\n",
              "  </thead>\n",
              "  <tbody>\n",
              "    <tr>\n",
              "      <th>0</th>\n",
              "      <td>10001018002P1</td>\n",
              "      <td>2013</td>\n",
              "      <td>9</td>\n",
              "      <td>CIÊNCIAS BIOLÓGICAS III</td>\n",
              "      <td>CIÊNCIAS BIOLÓGICAS</td>\n",
              "      <td>PARASITOLOGIA</td>\n",
              "      <td>BIOLOGIA EXPERIMENTAL</td>\n",
              "      <td>MESTRADO/DOUTORADO</td>\n",
              "      <td>ACADÊMICO</td>\n",
              "      <td>3</td>\n",
              "      <td>UNIR</td>\n",
              "      <td>UNIVERSIDADE FEDERAL DE RONDÔNIA</td>\n",
              "      <td>FEDERAL</td>\n",
              "      <td>RO</td>\n",
              "      <td>NORTE</td>\n",
              "      <td>832956</td>\n",
              "      <td>FEMININO</td>\n",
              "      <td>1975</td>\n",
              "      <td>35 A 39 ANOS</td>\n",
              "      <td>BRASIL</td>\n",
              "      <td>COLABORADOR</td>\n",
              "      <td>PARCIAL</td>\n",
              "      <td>2</td>\n",
              "      <td>S</td>\n",
              "      <td>2008.0</td>\n",
              "      <td>DOUTORADO</td>\n",
              "      <td>PARIS 7</td>\n",
              "      <td>UNIVERSITÉ PARIS DIDEROT - PARIS VII</td>\n",
              "      <td>FRANÇA</td>\n",
              "      <td>AVALIAÇÃO</td>\n",
              "    </tr>\n",
              "    <tr>\n",
              "      <th>1</th>\n",
              "      <td>10001018004P4</td>\n",
              "      <td>2013</td>\n",
              "      <td>45</td>\n",
              "      <td>INTERDISCIPLINAR</td>\n",
              "      <td>MULTIDISCIPLINAR</td>\n",
              "      <td>MEIO AMBIENTE E AGRÁRIAS</td>\n",
              "      <td>DESENVOLVIMENTO REGIONAL E MEIO AMBIENTE</td>\n",
              "      <td>MESTRADO/DOUTORADO</td>\n",
              "      <td>ACADÊMICO</td>\n",
              "      <td>4</td>\n",
              "      <td>UNIR</td>\n",
              "      <td>UNIVERSIDADE FEDERAL DE RONDÔNIA</td>\n",
              "      <td>FEDERAL</td>\n",
              "      <td>RO</td>\n",
              "      <td>NORTE</td>\n",
              "      <td>10222</td>\n",
              "      <td>MASCULINO</td>\n",
              "      <td>1954</td>\n",
              "      <td>55 A 59 ANOS</td>\n",
              "      <td>BRASIL</td>\n",
              "      <td>SERVIDOR PÚBLICO</td>\n",
              "      <td>INTEGRAL</td>\n",
              "      <td>2</td>\n",
              "      <td>S</td>\n",
              "      <td>1998.0</td>\n",
              "      <td>DOUTORADO</td>\n",
              "      <td>UNESP/RC</td>\n",
              "      <td>UNIVERSIDADE EST.PAULISTA JÚLIO DE MESQUITA FI...</td>\n",
              "      <td>BRASIL</td>\n",
              "      <td>AVALIAÇÃO</td>\n",
              "    </tr>\n",
              "    <tr>\n",
              "      <th>2</th>\n",
              "      <td>10001018005P0</td>\n",
              "      <td>2013</td>\n",
              "      <td>36</td>\n",
              "      <td>GEOGRAFIA</td>\n",
              "      <td>CIÊNCIAS HUMANAS</td>\n",
              "      <td>GEOGRAFIA</td>\n",
              "      <td>GEOGRAFIA</td>\n",
              "      <td>MESTRADO/DOUTORADO</td>\n",
              "      <td>ACADÊMICO</td>\n",
              "      <td>4</td>\n",
              "      <td>UNIR</td>\n",
              "      <td>UNIVERSIDADE FEDERAL DE RONDÔNIA</td>\n",
              "      <td>FEDERAL</td>\n",
              "      <td>RO</td>\n",
              "      <td>NORTE</td>\n",
              "      <td>9039</td>\n",
              "      <td>FEMININO</td>\n",
              "      <td>1964</td>\n",
              "      <td>45 A 49 ANOS</td>\n",
              "      <td>BRASIL</td>\n",
              "      <td>SERVIDOR PÚBLICO</td>\n",
              "      <td>INTEGRAL</td>\n",
              "      <td>1A</td>\n",
              "      <td>S</td>\n",
              "      <td>2004.0</td>\n",
              "      <td>DOUTORADO</td>\n",
              "      <td>UFPA</td>\n",
              "      <td>UNIVERSIDADE FEDERAL DO PARÁ</td>\n",
              "      <td>BRASIL</td>\n",
              "      <td>AVALIAÇÃO</td>\n",
              "    </tr>\n",
              "    <tr>\n",
              "      <th>3</th>\n",
              "      <td>10001018006P7</td>\n",
              "      <td>2013</td>\n",
              "      <td>27</td>\n",
              "      <td>ADMINISTRAÇÃO PÚBLICA E DE EMPRESAS, CIÊNCIAS ...</td>\n",
              "      <td>CIÊNCIAS SOCIAIS APLICADAS</td>\n",
              "      <td>ADMINISTRAÇÃO</td>\n",
              "      <td>ADMINISTRAÇÃO</td>\n",
              "      <td>MESTRADO</td>\n",
              "      <td>ACADÊMICO</td>\n",
              "      <td>4</td>\n",
              "      <td>UNIR</td>\n",
              "      <td>UNIVERSIDADE FEDERAL DE RONDÔNIA</td>\n",
              "      <td>FEDERAL</td>\n",
              "      <td>RO</td>\n",
              "      <td>NORTE</td>\n",
              "      <td>775921</td>\n",
              "      <td>MASCULINO</td>\n",
              "      <td>1954</td>\n",
              "      <td>55 A 59 ANOS</td>\n",
              "      <td>BRASIL</td>\n",
              "      <td>SERVIDOR PÚBLICO</td>\n",
              "      <td>INTEGRAL</td>\n",
              "      <td>1D</td>\n",
              "      <td>S</td>\n",
              "      <td>2010.0</td>\n",
              "      <td>DOUTORADO</td>\n",
              "      <td>UAA</td>\n",
              "      <td>UNIVERSIDAD AUTÓNOMA DE ASUNCIÓN</td>\n",
              "      <td>PARAGUAI</td>\n",
              "      <td>AVALIAÇÃO</td>\n",
              "    </tr>\n",
              "    <tr>\n",
              "      <th>4</th>\n",
              "      <td>10001018008P0</td>\n",
              "      <td>2013</td>\n",
              "      <td>41</td>\n",
              "      <td>LETRAS / LINGUÍSTICA</td>\n",
              "      <td>LINGÜÍSTICA, LETRAS E ARTES</td>\n",
              "      <td>LINGÜÍSTICA</td>\n",
              "      <td>CIÊNCIAS DA LINGUAGEM</td>\n",
              "      <td>MESTRADO</td>\n",
              "      <td>ACADÊMICO</td>\n",
              "      <td>2</td>\n",
              "      <td>UNIR</td>\n",
              "      <td>UNIVERSIDADE FEDERAL DE RONDÔNIA</td>\n",
              "      <td>FEDERAL</td>\n",
              "      <td>RO</td>\n",
              "      <td>NORTE</td>\n",
              "      <td>490149</td>\n",
              "      <td>FEMININO</td>\n",
              "      <td>1963</td>\n",
              "      <td>50 A 54 ANOS</td>\n",
              "      <td>BRASIL</td>\n",
              "      <td>CLT</td>\n",
              "      <td>DEDICAÇÃO EXCLUSIVA</td>\n",
              "      <td>None</td>\n",
              "      <td>S</td>\n",
              "      <td>2001.0</td>\n",
              "      <td>DOUTORADO</td>\n",
              "      <td>UNICAMP</td>\n",
              "      <td>UNIVERSIDADE ESTADUAL DE CAMPINAS</td>\n",
              "      <td>BRASIL</td>\n",
              "      <td>NÃO</td>\n",
              "    </tr>\n",
              "    <tr>\n",
              "      <th>...</th>\n",
              "      <td>...</td>\n",
              "      <td>...</td>\n",
              "      <td>...</td>\n",
              "      <td>...</td>\n",
              "      <td>...</td>\n",
              "      <td>...</td>\n",
              "      <td>...</td>\n",
              "      <td>...</td>\n",
              "      <td>...</td>\n",
              "      <td>...</td>\n",
              "      <td>...</td>\n",
              "      <td>...</td>\n",
              "      <td>...</td>\n",
              "      <td>...</td>\n",
              "      <td>...</td>\n",
              "      <td>...</td>\n",
              "      <td>...</td>\n",
              "      <td>...</td>\n",
              "      <td>...</td>\n",
              "      <td>...</td>\n",
              "      <td>...</td>\n",
              "      <td>...</td>\n",
              "      <td>...</td>\n",
              "      <td>...</td>\n",
              "      <td>...</td>\n",
              "      <td>...</td>\n",
              "      <td>...</td>\n",
              "      <td>...</td>\n",
              "      <td>...</td>\n",
              "      <td>...</td>\n",
              "    </tr>\n",
              "    <tr>\n",
              "      <th>4461</th>\n",
              "      <td>53029011002P7</td>\n",
              "      <td>2017</td>\n",
              "      <td>15</td>\n",
              "      <td>MEDICINA I</td>\n",
              "      <td>CIÊNCIAS DA SAÚDE</td>\n",
              "      <td>MEDICINA</td>\n",
              "      <td>CIÊNCIAS DA SAÚDE</td>\n",
              "      <td>MESTRADO</td>\n",
              "      <td>ACADÊMICO</td>\n",
              "      <td>3</td>\n",
              "      <td>FEPECS-ESCS</td>\n",
              "      <td>ESCOLA SUPERIOR DE CIÊNCIAS DA SAÚDE</td>\n",
              "      <td>FEDERAL</td>\n",
              "      <td>DF</td>\n",
              "      <td>CENTRO-OESTE</td>\n",
              "      <td>375703</td>\n",
              "      <td>FEMININO</td>\n",
              "      <td>1971</td>\n",
              "      <td>45 A 49 ANOS</td>\n",
              "      <td>BRASIL</td>\n",
              "      <td>SERVIDOR PÚBLICO</td>\n",
              "      <td>INTEGRAL</td>\n",
              "      <td>None</td>\n",
              "      <td>S</td>\n",
              "      <td>2010.0</td>\n",
              "      <td>DOUTORADO</td>\n",
              "      <td>UNB</td>\n",
              "      <td>UNIVERSIDADE DE BRASÍLIA</td>\n",
              "      <td>BRASIL</td>\n",
              "      <td>None</td>\n",
              "    </tr>\n",
              "    <tr>\n",
              "      <th>4462</th>\n",
              "      <td>53032012001P8</td>\n",
              "      <td>2016</td>\n",
              "      <td>26</td>\n",
              "      <td>DIREITO</td>\n",
              "      <td>CIÊNCIAS SOCIAIS APLICADAS</td>\n",
              "      <td>DIREITO</td>\n",
              "      <td>DIREITO</td>\n",
              "      <td>MESTRADO</td>\n",
              "      <td>ACADÊMICO</td>\n",
              "      <td>3</td>\n",
              "      <td>UDF</td>\n",
              "      <td>CENTRO UNIVERSITÁRIO DO DISTRITO FEDERAL</td>\n",
              "      <td>PARTICULAR</td>\n",
              "      <td>DF</td>\n",
              "      <td>CENTRO-OESTE</td>\n",
              "      <td>199377</td>\n",
              "      <td>FEMININO</td>\n",
              "      <td>1979</td>\n",
              "      <td>35 A 39 ANOS</td>\n",
              "      <td>BRASIL</td>\n",
              "      <td>CLT</td>\n",
              "      <td>INTEGRAL</td>\n",
              "      <td>None</td>\n",
              "      <td>S</td>\n",
              "      <td>2012.0</td>\n",
              "      <td>DOUTORADO</td>\n",
              "      <td>PUC/MG</td>\n",
              "      <td>PONTIFÍCIA UNIVERSIDADE CATÓLICA DE MINAS GERAIS</td>\n",
              "      <td>BRASIL</td>\n",
              "      <td>ACOMPANHAMENTO</td>\n",
              "    </tr>\n",
              "    <tr>\n",
              "      <th>4463</th>\n",
              "      <td>53037014001P0</td>\n",
              "      <td>2013</td>\n",
              "      <td>39</td>\n",
              "      <td>CIÊNCIA POLÍTICA E RELAÇÕES INTERNACIONAIS</td>\n",
              "      <td>CIÊNCIAS HUMANAS</td>\n",
              "      <td>CIÊNCIA POLÍTICA</td>\n",
              "      <td>PODER LEGISLATIVO</td>\n",
              "      <td>MESTRADO PROFISSIONAL</td>\n",
              "      <td>PROFISSIONAL</td>\n",
              "      <td>3</td>\n",
              "      <td>CEFOR</td>\n",
              "      <td>CENTRO DE FORMAÇÃO, TREINAMENTO E APERFEIÇOAMENTO</td>\n",
              "      <td>FEDERAL</td>\n",
              "      <td>DF</td>\n",
              "      <td>CENTRO-OESTE</td>\n",
              "      <td>120356</td>\n",
              "      <td>MASCULINO</td>\n",
              "      <td>1979</td>\n",
              "      <td>30 A 34 ANOS</td>\n",
              "      <td>BRASIL</td>\n",
              "      <td>SERVIDOR PÚBLICO</td>\n",
              "      <td>INTEGRAL</td>\n",
              "      <td>None</td>\n",
              "      <td>S</td>\n",
              "      <td>2006.0</td>\n",
              "      <td>DOUTORADO</td>\n",
              "      <td>UNB</td>\n",
              "      <td>UNIVERSIDADE DE BRASÍLIA</td>\n",
              "      <td>BRASIL</td>\n",
              "      <td>AVALIAÇÃO</td>\n",
              "    </tr>\n",
              "    <tr>\n",
              "      <th>4464</th>\n",
              "      <td>53044002001P7</td>\n",
              "      <td>2015</td>\n",
              "      <td>22</td>\n",
              "      <td>SAÚDE COLETIVA</td>\n",
              "      <td>CIÊNCIAS DA SAÚDE</td>\n",
              "      <td>SAÚDE COLETIVA</td>\n",
              "      <td>POLÍTICAS PÚBLICAS EM SAÚDE</td>\n",
              "      <td>MESTRADO PROFISSIONAL</td>\n",
              "      <td>PROFISSIONAL</td>\n",
              "      <td>3</td>\n",
              "      <td>EGS/FIOCRUZ BRASÍLIA</td>\n",
              "      <td>ESCOLA DE GOVERNO EM SAÚDE/DIRETORIA REGIONAL ...</td>\n",
              "      <td>FEDERAL</td>\n",
              "      <td>DF</td>\n",
              "      <td>CENTRO-OESTE</td>\n",
              "      <td>116242</td>\n",
              "      <td>MASCULINO</td>\n",
              "      <td>1976</td>\n",
              "      <td>35 A 39 ANOS</td>\n",
              "      <td>BRASIL</td>\n",
              "      <td>SERVIDOR PÚBLICO</td>\n",
              "      <td>INTEGRAL</td>\n",
              "      <td>2</td>\n",
              "      <td>S</td>\n",
              "      <td>2015.0</td>\n",
              "      <td>DOUTORADO</td>\n",
              "      <td>UNB</td>\n",
              "      <td>UNIVERSIDADE DE BRASÍLIA</td>\n",
              "      <td>BRASIL</td>\n",
              "      <td>AVALIAÇÃO</td>\n",
              "    </tr>\n",
              "    <tr>\n",
              "      <th>4465</th>\n",
              "      <td>53045009001P3</td>\n",
              "      <td>2014</td>\n",
              "      <td>27</td>\n",
              "      <td>ADMINISTRAÇÃO PÚBLICA E DE EMPRESAS, CIÊNCIAS ...</td>\n",
              "      <td>CIÊNCIAS SOCIAIS APLICADAS</td>\n",
              "      <td>ADMINISTRAÇÃO PÚBLICA</td>\n",
              "      <td>ADMINISTRAÇÃO PÚBLICA EM REDE NACIONAL</td>\n",
              "      <td>MESTRADO PROFISSIONAL</td>\n",
              "      <td>PROFISSIONAL</td>\n",
              "      <td>3</td>\n",
              "      <td>UFCG</td>\n",
              "      <td>UNIVERSIDADE FEDERAL DE CAMPINA GRANDE</td>\n",
              "      <td>FEDERAL</td>\n",
              "      <td>PB</td>\n",
              "      <td>NORDESTE</td>\n",
              "      <td>105227</td>\n",
              "      <td>MASCULINO</td>\n",
              "      <td>1977</td>\n",
              "      <td>35 A 39 ANOS</td>\n",
              "      <td>BRASIL</td>\n",
              "      <td>SERVIDOR PÚBLICO</td>\n",
              "      <td>DEDICAÇÃO EXCLUSIVA</td>\n",
              "      <td>2</td>\n",
              "      <td>S</td>\n",
              "      <td>2014.0</td>\n",
              "      <td>DOUTORADO</td>\n",
              "      <td>UFCG</td>\n",
              "      <td>UNIVERSIDADE FEDERAL DE CAMPINA GRANDE</td>\n",
              "      <td>BRASIL</td>\n",
              "      <td>AVALIAÇÃO</td>\n",
              "    </tr>\n",
              "  </tbody>\n",
              "</table>\n",
              "<p>4466 rows × 30 columns</p>\n",
              "</div>"
            ],
            "text/plain": [
              "     CD_PROGRAMA_IES  ...  DS_CLIENTELA_QUADRIENAL_2017\n",
              "0      10001018002P1  ...                     AVALIAÇÃO\n",
              "1      10001018004P4  ...                     AVALIAÇÃO\n",
              "2      10001018005P0  ...                     AVALIAÇÃO\n",
              "3      10001018006P7  ...                     AVALIAÇÃO\n",
              "4      10001018008P0  ...                           NÃO\n",
              "...              ...  ...                           ...\n",
              "4461   53029011002P7  ...                          None\n",
              "4462   53032012001P8  ...                ACOMPANHAMENTO\n",
              "4463   53037014001P0  ...                     AVALIAÇÃO\n",
              "4464   53044002001P7  ...                     AVALIAÇÃO\n",
              "4465   53045009001P3  ...                     AVALIAÇÃO\n",
              "\n",
              "[4466 rows x 30 columns]"
            ]
          },
          "metadata": {
            "tags": []
          },
          "execution_count": 30
        }
      ]
    },
    {
      "cell_type": "code",
      "metadata": {
        "colab": {
          "base_uri": "https://localhost:8080/",
          "height": 264
        },
        "id": "l_gCnvFmEiSi",
        "outputId": "5b418dbe-2a4c-4ddc-f829-c59bea8f126d"
      },
      "source": [
        "#duvida: o group by agrupa por chave unica e escolhe ateatoriamente qual linha? \r\n",
        "\r\n",
        "teste = df.groupby('TP_SEXO_DOCENTE',as_index=False)\r\n",
        "teste.first() "
      ],
      "execution_count": null,
      "outputs": [
        {
          "output_type": "execute_result",
          "data": {
            "text/html": [
              "<div>\n",
              "<style scoped>\n",
              "    .dataframe tbody tr th:only-of-type {\n",
              "        vertical-align: middle;\n",
              "    }\n",
              "\n",
              "    .dataframe tbody tr th {\n",
              "        vertical-align: top;\n",
              "    }\n",
              "\n",
              "    .dataframe thead th {\n",
              "        text-align: right;\n",
              "    }\n",
              "</style>\n",
              "<table border=\"1\" class=\"dataframe\">\n",
              "  <thead>\n",
              "    <tr style=\"text-align: right;\">\n",
              "      <th></th>\n",
              "      <th>TP_SEXO_DOCENTE</th>\n",
              "      <th>AN_BASE</th>\n",
              "      <th>CD_AREA_AVALIACAO</th>\n",
              "      <th>NM_AREA_AVALIACAO</th>\n",
              "      <th>NM_GRANDE_AREA_CONHECIMENTO</th>\n",
              "      <th>NM_AREA_CONHECIMENTO</th>\n",
              "      <th>CD_PROGRAMA_IES</th>\n",
              "      <th>NM_PROGRAMA_IES</th>\n",
              "      <th>NM_GRAU_PROGRAMA</th>\n",
              "      <th>NM_MODALIDADE_PROGRAMA</th>\n",
              "      <th>CD_CONCEITO_PROGRAMA</th>\n",
              "      <th>SG_ENTIDADE_ENSINO</th>\n",
              "      <th>NM_ENTIDADE_ENSINO</th>\n",
              "      <th>CS_STATUS_JURIDICO</th>\n",
              "      <th>SG_UF_PROGRAMA</th>\n",
              "      <th>NM_REGIAO</th>\n",
              "      <th>ID_PESSOA</th>\n",
              "      <th>AN_NASCIMENTO_DOCENTE</th>\n",
              "      <th>DS_FAIXA_ETARIA</th>\n",
              "      <th>NM_PAIS_NACIONALIDADE_DOCENTE</th>\n",
              "      <th>DS_TIPO_VINCULO_DOCENTE_IES</th>\n",
              "      <th>DS_REGIME_TRABALHO</th>\n",
              "      <th>CD_CAT_BOLSA_PRODUTIVIDADE</th>\n",
              "      <th>IN_DOUTOR</th>\n",
              "      <th>AN_TITULACAO</th>\n",
              "      <th>NM_GRAU_TITULACAO</th>\n",
              "      <th>SG_IES_TITULACAO</th>\n",
              "      <th>NM_IES_TITULACAO</th>\n",
              "      <th>NM_PAIS_IES_TITULACAO</th>\n",
              "      <th>DS_CLIENTELA_QUADRIENAL_2017</th>\n",
              "    </tr>\n",
              "  </thead>\n",
              "  <tbody>\n",
              "    <tr>\n",
              "      <th>0</th>\n",
              "      <td>FEMININO</td>\n",
              "      <td>2013</td>\n",
              "      <td>9</td>\n",
              "      <td>CIÊNCIAS BIOLÓGICAS III</td>\n",
              "      <td>CIÊNCIAS BIOLÓGICAS</td>\n",
              "      <td>PARASITOLOGIA</td>\n",
              "      <td>10001018002P1</td>\n",
              "      <td>BIOLOGIA EXPERIMENTAL</td>\n",
              "      <td>MESTRADO/DOUTORADO</td>\n",
              "      <td>ACADÊMICO</td>\n",
              "      <td>3</td>\n",
              "      <td>UNIR</td>\n",
              "      <td>UNIVERSIDADE FEDERAL DE RONDÔNIA</td>\n",
              "      <td>FEDERAL</td>\n",
              "      <td>RO</td>\n",
              "      <td>NORTE</td>\n",
              "      <td>832956</td>\n",
              "      <td>1975</td>\n",
              "      <td>35 A 39 ANOS</td>\n",
              "      <td>BRASIL</td>\n",
              "      <td>COLABORADOR</td>\n",
              "      <td>PARCIAL</td>\n",
              "      <td>2</td>\n",
              "      <td>S</td>\n",
              "      <td>2008.0</td>\n",
              "      <td>DOUTORADO</td>\n",
              "      <td>PARIS 7</td>\n",
              "      <td>UNIVERSITÉ PARIS DIDEROT - PARIS VII</td>\n",
              "      <td>FRANÇA</td>\n",
              "      <td>AVALIAÇÃO</td>\n",
              "    </tr>\n",
              "    <tr>\n",
              "      <th>1</th>\n",
              "      <td>MASCULINO</td>\n",
              "      <td>2013</td>\n",
              "      <td>9</td>\n",
              "      <td>CIÊNCIAS BIOLÓGICAS III</td>\n",
              "      <td>CIÊNCIAS BIOLÓGICAS</td>\n",
              "      <td>PARASITOLOGIA</td>\n",
              "      <td>10001018002P1</td>\n",
              "      <td>BIOLOGIA EXPERIMENTAL</td>\n",
              "      <td>MESTRADO/DOUTORADO</td>\n",
              "      <td>ACADÊMICO</td>\n",
              "      <td>3</td>\n",
              "      <td>UNIR</td>\n",
              "      <td>UNIVERSIDADE FEDERAL DE RONDÔNIA</td>\n",
              "      <td>FEDERAL</td>\n",
              "      <td>RO</td>\n",
              "      <td>NORTE</td>\n",
              "      <td>34738</td>\n",
              "      <td>1978</td>\n",
              "      <td>35 A 39 ANOS</td>\n",
              "      <td>BRASIL</td>\n",
              "      <td>COLABORADOR</td>\n",
              "      <td>PARCIAL</td>\n",
              "      <td>2</td>\n",
              "      <td>S</td>\n",
              "      <td>2008.0</td>\n",
              "      <td>DOUTORADO</td>\n",
              "      <td>USP/RP</td>\n",
              "      <td>UNIVERSIDADE DE SÃO PAULO/ RIBEIRÃO PRETO</td>\n",
              "      <td>BRASIL</td>\n",
              "      <td>AVALIAÇÃO</td>\n",
              "    </tr>\n",
              "    <tr>\n",
              "      <th>2</th>\n",
              "      <td>NÃO INFORMADO</td>\n",
              "      <td>2017</td>\n",
              "      <td>39</td>\n",
              "      <td>CIÊNCIA POLÍTICA E RELAÇÕES INTERNACIONAIS</td>\n",
              "      <td>CIÊNCIAS HUMANAS</td>\n",
              "      <td>CIÊNCIA POLÍTICA</td>\n",
              "      <td>33002010030P6</td>\n",
              "      <td>CIÊNCIA POLÍTICA</td>\n",
              "      <td>MESTRADO/DOUTORADO</td>\n",
              "      <td>ACADÊMICO</td>\n",
              "      <td>7</td>\n",
              "      <td>USP</td>\n",
              "      <td>UNIVERSIDADE DE SÃO PAULO</td>\n",
              "      <td>ESTADUAL</td>\n",
              "      <td>SP</td>\n",
              "      <td>SUDESTE</td>\n",
              "      <td>1288334</td>\n",
              "      <td>1900</td>\n",
              "      <td>None</td>\n",
              "      <td>ALBÂNIA</td>\n",
              "      <td>CLT</td>\n",
              "      <td>INTEGRAL</td>\n",
              "      <td>None</td>\n",
              "      <td>S</td>\n",
              "      <td>2000.0</td>\n",
              "      <td>DOUTORADO</td>\n",
              "      <td>NI</td>\n",
              "      <td>UNIVERSITÄT HAMBURG</td>\n",
              "      <td>ALEMANHA</td>\n",
              "      <td>None</td>\n",
              "    </tr>\n",
              "  </tbody>\n",
              "</table>\n",
              "</div>"
            ],
            "text/plain": [
              "  TP_SEXO_DOCENTE  AN_BASE  ...  NM_PAIS_IES_TITULACAO DS_CLIENTELA_QUADRIENAL_2017\n",
              "0        FEMININO     2013  ...                 FRANÇA                    AVALIAÇÃO\n",
              "1       MASCULINO     2013  ...                 BRASIL                    AVALIAÇÃO\n",
              "2   NÃO INFORMADO     2017  ...               ALEMANHA                         None\n",
              "\n",
              "[3 rows x 30 columns]"
            ]
          },
          "metadata": {
            "tags": []
          },
          "execution_count": 37
        }
      ]
    },
    {
      "cell_type": "code",
      "metadata": {
        "colab": {
          "base_uri": "https://localhost:8080/",
          "height": 142
        },
        "id": "WWB_TGEvH3X1",
        "outputId": "193a0a48-9d34-4cec-d42b-e4d58f7b9dba"
      },
      "source": [
        "#acho que esse get_group e size podem ser uteis em algum momento entao deixei\r\n",
        "#teste.get_group(\"FEMININO\")\r\n",
        "\r\n",
        "teste.size()"
      ],
      "execution_count": null,
      "outputs": [
        {
          "output_type": "execute_result",
          "data": {
            "text/html": [
              "<div>\n",
              "<style scoped>\n",
              "    .dataframe tbody tr th:only-of-type {\n",
              "        vertical-align: middle;\n",
              "    }\n",
              "\n",
              "    .dataframe tbody tr th {\n",
              "        vertical-align: top;\n",
              "    }\n",
              "\n",
              "    .dataframe thead th {\n",
              "        text-align: right;\n",
              "    }\n",
              "</style>\n",
              "<table border=\"1\" class=\"dataframe\">\n",
              "  <thead>\n",
              "    <tr style=\"text-align: right;\">\n",
              "      <th></th>\n",
              "      <th>TP_SEXO_DOCENTE</th>\n",
              "      <th>size</th>\n",
              "    </tr>\n",
              "  </thead>\n",
              "  <tbody>\n",
              "    <tr>\n",
              "      <th>0</th>\n",
              "      <td>FEMININO</td>\n",
              "      <td>277488</td>\n",
              "    </tr>\n",
              "    <tr>\n",
              "      <th>1</th>\n",
              "      <td>MASCULINO</td>\n",
              "      <td>385176</td>\n",
              "    </tr>\n",
              "    <tr>\n",
              "      <th>2</th>\n",
              "      <td>NÃO INFORMADO</td>\n",
              "      <td>1</td>\n",
              "    </tr>\n",
              "  </tbody>\n",
              "</table>\n",
              "</div>"
            ],
            "text/plain": [
              "  TP_SEXO_DOCENTE    size\n",
              "0        FEMININO  277488\n",
              "1       MASCULINO  385176\n",
              "2   NÃO INFORMADO       1"
            ]
          },
          "metadata": {
            "tags": []
          },
          "execution_count": 38
        }
      ]
    },
    {
      "cell_type": "markdown",
      "metadata": {
        "id": "H46NZekOg--O"
      },
      "source": [
        "- Testando o aggregate"
      ]
    },
    {
      "cell_type": "code",
      "metadata": {
        "colab": {
          "base_uri": "https://localhost:8080/",
          "height": 419
        },
        "id": "AnN3qgFhLaf-",
        "outputId": "3a0d72c1-8f0b-466d-b076-6b9c7862a820"
      },
      "source": [
        "df1.agg({'CD_CONCEITO_PROGRAMA': np.sum})\r\n",
        "#grouped.agg({\"C\": np.sum, \"D\": lambda x: np.std(x, ddof=1)})"
      ],
      "execution_count": null,
      "outputs": [
        {
          "output_type": "execute_result",
          "data": {
            "text/html": [
              "<div>\n",
              "<style scoped>\n",
              "    .dataframe tbody tr th:only-of-type {\n",
              "        vertical-align: middle;\n",
              "    }\n",
              "\n",
              "    .dataframe tbody tr th {\n",
              "        vertical-align: top;\n",
              "    }\n",
              "\n",
              "    .dataframe thead th {\n",
              "        text-align: right;\n",
              "    }\n",
              "</style>\n",
              "<table border=\"1\" class=\"dataframe\">\n",
              "  <thead>\n",
              "    <tr style=\"text-align: right;\">\n",
              "      <th></th>\n",
              "      <th>CD_PROGRAMA_IES</th>\n",
              "      <th>CD_CONCEITO_PROGRAMA</th>\n",
              "    </tr>\n",
              "  </thead>\n",
              "  <tbody>\n",
              "    <tr>\n",
              "      <th>0</th>\n",
              "      <td>10001018002P1</td>\n",
              "      <td>503</td>\n",
              "    </tr>\n",
              "    <tr>\n",
              "      <th>1</th>\n",
              "      <td>10001018004P4</td>\n",
              "      <td>816</td>\n",
              "    </tr>\n",
              "    <tr>\n",
              "      <th>2</th>\n",
              "      <td>10001018005P0</td>\n",
              "      <td>456</td>\n",
              "    </tr>\n",
              "    <tr>\n",
              "      <th>3</th>\n",
              "      <td>10001018006P7</td>\n",
              "      <td>294</td>\n",
              "    </tr>\n",
              "    <tr>\n",
              "      <th>4</th>\n",
              "      <td>10001018008P0</td>\n",
              "      <td>34</td>\n",
              "    </tr>\n",
              "    <tr>\n",
              "      <th>...</th>\n",
              "      <td>...</td>\n",
              "      <td>...</td>\n",
              "    </tr>\n",
              "    <tr>\n",
              "      <th>4461</th>\n",
              "      <td>53029011002P7</td>\n",
              "      <td>135</td>\n",
              "    </tr>\n",
              "    <tr>\n",
              "      <th>4462</th>\n",
              "      <td>53032012001P8</td>\n",
              "      <td>132</td>\n",
              "    </tr>\n",
              "    <tr>\n",
              "      <th>4463</th>\n",
              "      <td>53037014001P0</td>\n",
              "      <td>519</td>\n",
              "    </tr>\n",
              "    <tr>\n",
              "      <th>4464</th>\n",
              "      <td>53044002001P7</td>\n",
              "      <td>525</td>\n",
              "    </tr>\n",
              "    <tr>\n",
              "      <th>4465</th>\n",
              "      <td>53045009001P3</td>\n",
              "      <td>4272</td>\n",
              "    </tr>\n",
              "  </tbody>\n",
              "</table>\n",
              "<p>4466 rows × 2 columns</p>\n",
              "</div>"
            ],
            "text/plain": [
              "     CD_PROGRAMA_IES  CD_CONCEITO_PROGRAMA\n",
              "0      10001018002P1                   503\n",
              "1      10001018004P4                   816\n",
              "2      10001018005P0                   456\n",
              "3      10001018006P7                   294\n",
              "4      10001018008P0                    34\n",
              "...              ...                   ...\n",
              "4461   53029011002P7                   135\n",
              "4462   53032012001P8                   132\n",
              "4463   53037014001P0                   519\n",
              "4464   53044002001P7                   525\n",
              "4465   53045009001P3                  4272\n",
              "\n",
              "[4466 rows x 2 columns]"
            ]
          },
          "metadata": {
            "tags": []
          },
          "execution_count": 44
        }
      ]
    },
    {
      "cell_type": "code",
      "metadata": {
        "colab": {
          "base_uri": "https://localhost:8080/",
          "height": 419
        },
        "id": "d-AHnaGhT-Af",
        "outputId": "080cdd79-c4c2-43bf-ee4a-ced910bc33fb"
      },
      "source": [
        "# me baseando na ideia dada pelo Lucas, o proximo passo seria fragmentar as colunas ex: coluna=é homem? & é mulher?\r\n",
        "# acredito que após essa mudança, podemos usar o agg abaixo para contabilizar o total de homens e mulheres(np.sum)\r\n",
        "\r\n",
        "df1.agg({'ID_PESSOA': np.size, 'CD_CONCEITO_PROGRAMA': np.max})"
      ],
      "execution_count": null,
      "outputs": [
        {
          "output_type": "execute_result",
          "data": {
            "text/html": [
              "<div>\n",
              "<style scoped>\n",
              "    .dataframe tbody tr th:only-of-type {\n",
              "        vertical-align: middle;\n",
              "    }\n",
              "\n",
              "    .dataframe tbody tr th {\n",
              "        vertical-align: top;\n",
              "    }\n",
              "\n",
              "    .dataframe thead th {\n",
              "        text-align: right;\n",
              "    }\n",
              "</style>\n",
              "<table border=\"1\" class=\"dataframe\">\n",
              "  <thead>\n",
              "    <tr style=\"text-align: right;\">\n",
              "      <th></th>\n",
              "      <th>CD_PROGRAMA_IES</th>\n",
              "      <th>ID_PESSOA</th>\n",
              "      <th>CD_CONCEITO_PROGRAMA</th>\n",
              "    </tr>\n",
              "  </thead>\n",
              "  <tbody>\n",
              "    <tr>\n",
              "      <th>0</th>\n",
              "      <td>10001018002P1</td>\n",
              "      <td>148</td>\n",
              "      <td>4</td>\n",
              "    </tr>\n",
              "    <tr>\n",
              "      <th>1</th>\n",
              "      <td>10001018004P4</td>\n",
              "      <td>204</td>\n",
              "      <td>4</td>\n",
              "    </tr>\n",
              "    <tr>\n",
              "      <th>2</th>\n",
              "      <td>10001018005P0</td>\n",
              "      <td>114</td>\n",
              "      <td>4</td>\n",
              "    </tr>\n",
              "    <tr>\n",
              "      <th>3</th>\n",
              "      <td>10001018006P7</td>\n",
              "      <td>83</td>\n",
              "      <td>4</td>\n",
              "    </tr>\n",
              "    <tr>\n",
              "      <th>4</th>\n",
              "      <td>10001018008P0</td>\n",
              "      <td>17</td>\n",
              "      <td>2</td>\n",
              "    </tr>\n",
              "    <tr>\n",
              "      <th>...</th>\n",
              "      <td>...</td>\n",
              "      <td>...</td>\n",
              "      <td>...</td>\n",
              "    </tr>\n",
              "    <tr>\n",
              "      <th>4461</th>\n",
              "      <td>53029011002P7</td>\n",
              "      <td>45</td>\n",
              "      <td>3</td>\n",
              "    </tr>\n",
              "    <tr>\n",
              "      <th>4462</th>\n",
              "      <td>53032012001P8</td>\n",
              "      <td>44</td>\n",
              "      <td>3</td>\n",
              "    </tr>\n",
              "    <tr>\n",
              "      <th>4463</th>\n",
              "      <td>53037014001P0</td>\n",
              "      <td>150</td>\n",
              "      <td>4</td>\n",
              "    </tr>\n",
              "    <tr>\n",
              "      <th>4464</th>\n",
              "      <td>53044002001P7</td>\n",
              "      <td>175</td>\n",
              "      <td>3</td>\n",
              "    </tr>\n",
              "    <tr>\n",
              "      <th>4465</th>\n",
              "      <td>53045009001P3</td>\n",
              "      <td>1424</td>\n",
              "      <td>3</td>\n",
              "    </tr>\n",
              "  </tbody>\n",
              "</table>\n",
              "<p>4466 rows × 3 columns</p>\n",
              "</div>"
            ],
            "text/plain": [
              "     CD_PROGRAMA_IES  ID_PESSOA  CD_CONCEITO_PROGRAMA\n",
              "0      10001018002P1        148                     4\n",
              "1      10001018004P4        204                     4\n",
              "2      10001018005P0        114                     4\n",
              "3      10001018006P7         83                     4\n",
              "4      10001018008P0         17                     2\n",
              "...              ...        ...                   ...\n",
              "4461   53029011002P7         45                     3\n",
              "4462   53032012001P8         44                     3\n",
              "4463   53037014001P0        150                     4\n",
              "4464   53044002001P7        175                     3\n",
              "4465   53045009001P3       1424                     3\n",
              "\n",
              "[4466 rows x 3 columns]"
            ]
          },
          "metadata": {
            "tags": []
          },
          "execution_count": 59
        }
      ]
    },
    {
      "cell_type": "code",
      "metadata": {
        "colab": {
          "base_uri": "https://localhost:8080/",
          "height": 419
        },
        "id": "oFB3E-EnWtkM",
        "outputId": "df640960-63af-4511-cfdb-ea370e7ee021"
      },
      "source": [
        "df1.agg({'ID_PESSOA': np.size, 'CD_CONCEITO_PROGRAMA': np.min})"
      ],
      "execution_count": null,
      "outputs": [
        {
          "output_type": "execute_result",
          "data": {
            "text/html": [
              "<div>\n",
              "<style scoped>\n",
              "    .dataframe tbody tr th:only-of-type {\n",
              "        vertical-align: middle;\n",
              "    }\n",
              "\n",
              "    .dataframe tbody tr th {\n",
              "        vertical-align: top;\n",
              "    }\n",
              "\n",
              "    .dataframe thead th {\n",
              "        text-align: right;\n",
              "    }\n",
              "</style>\n",
              "<table border=\"1\" class=\"dataframe\">\n",
              "  <thead>\n",
              "    <tr style=\"text-align: right;\">\n",
              "      <th></th>\n",
              "      <th>CD_PROGRAMA_IES</th>\n",
              "      <th>ID_PESSOA</th>\n",
              "      <th>CD_CONCEITO_PROGRAMA</th>\n",
              "    </tr>\n",
              "  </thead>\n",
              "  <tbody>\n",
              "    <tr>\n",
              "      <th>0</th>\n",
              "      <td>10001018002P1</td>\n",
              "      <td>148</td>\n",
              "      <td>3</td>\n",
              "    </tr>\n",
              "    <tr>\n",
              "      <th>1</th>\n",
              "      <td>10001018004P4</td>\n",
              "      <td>204</td>\n",
              "      <td>4</td>\n",
              "    </tr>\n",
              "    <tr>\n",
              "      <th>2</th>\n",
              "      <td>10001018005P0</td>\n",
              "      <td>114</td>\n",
              "      <td>4</td>\n",
              "    </tr>\n",
              "    <tr>\n",
              "      <th>3</th>\n",
              "      <td>10001018006P7</td>\n",
              "      <td>83</td>\n",
              "      <td>3</td>\n",
              "    </tr>\n",
              "    <tr>\n",
              "      <th>4</th>\n",
              "      <td>10001018008P0</td>\n",
              "      <td>17</td>\n",
              "      <td>2</td>\n",
              "    </tr>\n",
              "    <tr>\n",
              "      <th>...</th>\n",
              "      <td>...</td>\n",
              "      <td>...</td>\n",
              "      <td>...</td>\n",
              "    </tr>\n",
              "    <tr>\n",
              "      <th>4461</th>\n",
              "      <td>53029011002P7</td>\n",
              "      <td>45</td>\n",
              "      <td>3</td>\n",
              "    </tr>\n",
              "    <tr>\n",
              "      <th>4462</th>\n",
              "      <td>53032012001P8</td>\n",
              "      <td>44</td>\n",
              "      <td>3</td>\n",
              "    </tr>\n",
              "    <tr>\n",
              "      <th>4463</th>\n",
              "      <td>53037014001P0</td>\n",
              "      <td>150</td>\n",
              "      <td>3</td>\n",
              "    </tr>\n",
              "    <tr>\n",
              "      <th>4464</th>\n",
              "      <td>53044002001P7</td>\n",
              "      <td>175</td>\n",
              "      <td>3</td>\n",
              "    </tr>\n",
              "    <tr>\n",
              "      <th>4465</th>\n",
              "      <td>53045009001P3</td>\n",
              "      <td>1424</td>\n",
              "      <td>3</td>\n",
              "    </tr>\n",
              "  </tbody>\n",
              "</table>\n",
              "<p>4466 rows × 3 columns</p>\n",
              "</div>"
            ],
            "text/plain": [
              "     CD_PROGRAMA_IES  ID_PESSOA  CD_CONCEITO_PROGRAMA\n",
              "0      10001018002P1        148                     3\n",
              "1      10001018004P4        204                     4\n",
              "2      10001018005P0        114                     4\n",
              "3      10001018006P7         83                     3\n",
              "4      10001018008P0         17                     2\n",
              "...              ...        ...                   ...\n",
              "4461   53029011002P7         45                     3\n",
              "4462   53032012001P8         44                     3\n",
              "4463   53037014001P0        150                     3\n",
              "4464   53044002001P7        175                     3\n",
              "4465   53045009001P3       1424                     3\n",
              "\n",
              "[4466 rows x 3 columns]"
            ]
          },
          "metadata": {
            "tags": []
          },
          "execution_count": 60
        }
      ]
    },
    {
      "cell_type": "markdown",
      "metadata": {
        "id": "ZIQKcP1ubbc9"
      },
      "source": [
        "- Devido a ter variação de conceito e quantidade de docentes por ano, seria prudente/correto ter uma linha de programa para cada ano?\r\n",
        "- Se agregarmos por programa, podemos acabar perdendo a variação anual de cada um - tirando a media geral teriamos uma medição estatica. talvez a gente possa concatenar ano e programa, assim teriamos chaves unicas anuais.\r\n",
        "- Ideia: Acho que seria interessante ver uma variação anual (de repente um gif a medida que o ano passa) da media do conceito de programas de uma certa grande área comparada com outra. Ex: a media dos programas de biologia subiu em 2016 enquanto a de quimica caiu (não leva pro coração, gustavo)"
      ]
    },
    {
      "cell_type": "code",
      "metadata": {
        "id": "hOJ4wrq5e7Np"
      },
      "source": [
        ""
      ],
      "execution_count": null,
      "outputs": []
    }
  ]
}