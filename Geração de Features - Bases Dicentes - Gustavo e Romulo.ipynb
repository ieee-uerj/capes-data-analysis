{
 "cells": [
  {
   "cell_type": "markdown",
   "metadata": {},
   "source": [
    "## Importando bibliotecas e o arquivo"
   ]
  },
  {
   "cell_type": "code",
   "execution_count": 1,
   "metadata": {},
   "outputs": [],
   "source": [
    "import pandas as pd\n",
    "import numpy as np\n",
    "import seaborn as sns\n",
    "import matplotlib.pyplot as plt\n",
    "plt.rcParams['figure.figsize'] = (15, 5)"
   ]
  },
  {
   "cell_type": "code",
   "execution_count": 2,
   "metadata": {
    "scrolled": true
   },
   "outputs": [
    {
     "name": "stderr",
     "output_type": "stream",
     "text": [
      "/home/gustavo/anaconda3/lib/python3.8/site-packages/IPython/core/interactiveshell.py:3145: DtypeWarning: Columns (21) have mixed types.Specify dtype option on import or set low_memory=False.\n",
      "  has_raised = await self.run_ast_nodes(code_ast.body, cell_name,\n"
     ]
    }
   ],
   "source": [
    "df=pd.read_csv('data/Discentes_2013-2019.csv',encoding='latin1')"
   ]
  },
  {
   "cell_type": "code",
   "execution_count": 3,
   "metadata": {
    "scrolled": false
   },
   "outputs": [
    {
     "name": "stdout",
     "output_type": "stream",
     "text": [
      "<class 'pandas.core.frame.DataFrame'>\n",
      "RangeIndex: 2476029 entries, 0 to 2476028\n",
      "Data columns (total 22 columns):\n",
      " #   Column                          Dtype \n",
      "---  ------                          ----- \n",
      " 0   AN_BASE                         int64 \n",
      " 1   NM_GRANDE_AREA_CONHECIMENTO     object\n",
      " 2   CD_AREA_AVALIACAO               int64 \n",
      " 3   NM_AREA_AVALIACAO               object\n",
      " 4   CD_ENTIDADE_CAPES               int64 \n",
      " 5   SG_ENTIDADE_ENSINO              object\n",
      " 6   CS_STATUS_JURIDICO              object\n",
      " 7   DS_DEPENDENCIA_ADMINISTRATIVA   object\n",
      " 8   CD_PROGRAMA_IES                 object\n",
      " 9   NM_REGIAO                       object\n",
      " 10  SG_UF_PROGRAMA                  object\n",
      " 11  NM_MUNICIPIO_PROGRAMA_IES       object\n",
      " 12  CD_CONCEITO_PROGRAMA            int64 \n",
      " 13  NM_PAIS_NACIONALIDADE_DISCENTE  object\n",
      " 14  DS_TIPO_NACIONALIDADE_DISCENTE  object\n",
      " 15  TP_SEXO_DISCENTE                object\n",
      " 16  AN_NASCIMENTO_DISCENTE          int64 \n",
      " 17  DS_GRAU_ACADEMICO_DISCENTE      object\n",
      " 18  ST_INGRESSANTE                  object\n",
      " 19  NM_SITUACAO_DISCENTE            object\n",
      " 20  QT_MES_TITULACAO                int64 \n",
      " 21  NM_ORIENTADOR                   object\n",
      "dtypes: int64(6), object(16)\n",
      "memory usage: 415.6+ MB\n"
     ]
    }
   ],
   "source": [
    "df.info()"
   ]
  },
  {
   "cell_type": "markdown",
   "metadata": {},
   "source": [
    "## Agrupando por PPG"
   ]
  },
  {
   "cell_type": "code",
   "execution_count": 4,
   "metadata": {},
   "outputs": [],
   "source": [
    "def contar_homem(array):\n",
    "    L=[]\n",
    "    for i in array:\n",
    "        if i=='MASCULINO':\n",
    "            L.append(1)\n",
    "        else:\n",
    "            L.append(0)\n",
    "    return L\n",
    "\n",
    "def contar_mulher(array):\n",
    "    L=[]\n",
    "    for i in array:\n",
    "        if i=='MASCULINO':\n",
    "            L.append(0)\n",
    "        else:\n",
    "            L.append(1)\n",
    "    return L\n",
    "\n",
    "def contar_brasiliero(array):\n",
    "    L=[]\n",
    "    for i in array:\n",
    "        if i=='BRASILEIRO':\n",
    "            L.append(1)\n",
    "        else:\n",
    "            L.append(0)\n",
    "    return L\n",
    "\n",
    "def contar_estrangeiro(array):\n",
    "    L=[]\n",
    "    for i in array:\n",
    "        if i=='BRASILEIRO':\n",
    "            L.append(0)\n",
    "        else:\n",
    "            L.append(1)\n",
    "    return L\n",
    "\n",
    "def media_especial(array):\n",
    "    '''Tira a média dos valores do array ignorando-se os zeros.'''\n",
    "    valores_nao_nulos=[]\n",
    "    for i in array:\n",
    "        if i!=0:\n",
    "            valores_nao_nulos.append(i)\n",
    "    return np.mean(valores_nao_nulos)"
   ]
  },
  {
   "cell_type": "code",
   "execution_count": 5,
   "metadata": {},
   "outputs": [],
   "source": [
    "df['Homens']=contar_homem(df.TP_SEXO_DISCENTE)\n",
    "df['Mulheres']=contar_mulher(df.TP_SEXO_DISCENTE)\n",
    "df['Brasileiros']=contar_brasiliero(df.DS_TIPO_NACIONALIDADE_DISCENTE)\n",
    "df['Estrangeiros']=contar_estrangeiro(df.DS_TIPO_NACIONALIDADE_DISCENTE)\n",
    "df['Quantidade_Discentes']=[1 for i in range(len(df))]"
   ]
  },
  {
   "cell_type": "code",
   "execution_count": 6,
   "metadata": {},
   "outputs": [
    {
     "name": "stdout",
     "output_type": "stream",
     "text": [
      "<class 'pandas.core.frame.DataFrame'>\n",
      "RangeIndex: 2476029 entries, 0 to 2476028\n",
      "Data columns (total 27 columns):\n",
      " #   Column                          Dtype \n",
      "---  ------                          ----- \n",
      " 0   AN_BASE                         int64 \n",
      " 1   NM_GRANDE_AREA_CONHECIMENTO     object\n",
      " 2   CD_AREA_AVALIACAO               int64 \n",
      " 3   NM_AREA_AVALIACAO               object\n",
      " 4   CD_ENTIDADE_CAPES               int64 \n",
      " 5   SG_ENTIDADE_ENSINO              object\n",
      " 6   CS_STATUS_JURIDICO              object\n",
      " 7   DS_DEPENDENCIA_ADMINISTRATIVA   object\n",
      " 8   CD_PROGRAMA_IES                 object\n",
      " 9   NM_REGIAO                       object\n",
      " 10  SG_UF_PROGRAMA                  object\n",
      " 11  NM_MUNICIPIO_PROGRAMA_IES       object\n",
      " 12  CD_CONCEITO_PROGRAMA            int64 \n",
      " 13  NM_PAIS_NACIONALIDADE_DISCENTE  object\n",
      " 14  DS_TIPO_NACIONALIDADE_DISCENTE  object\n",
      " 15  TP_SEXO_DISCENTE                object\n",
      " 16  AN_NASCIMENTO_DISCENTE          int64 \n",
      " 17  DS_GRAU_ACADEMICO_DISCENTE      object\n",
      " 18  ST_INGRESSANTE                  object\n",
      " 19  NM_SITUACAO_DISCENTE            object\n",
      " 20  QT_MES_TITULACAO                int64 \n",
      " 21  NM_ORIENTADOR                   object\n",
      " 22  Homens                          int64 \n",
      " 23  Mulheres                        int64 \n",
      " 24  Brasileiros                     int64 \n",
      " 25  Estrangeiros                    int64 \n",
      " 26  Quantidade_Discentes            int64 \n",
      "dtypes: int64(11), object(16)\n",
      "memory usage: 510.0+ MB\n"
     ]
    }
   ],
   "source": [
    "df.info()"
   ]
  },
  {
   "cell_type": "code",
   "execution_count": 7,
   "metadata": {},
   "outputs": [
    {
     "name": "stderr",
     "output_type": "stream",
     "text": [
      "/home/gustavo/anaconda3/lib/python3.8/site-packages/numpy/core/fromnumeric.py:3372: RuntimeWarning: Mean of empty slice.\n",
      "  return _methods._mean(a, axis=axis, dtype=dtype,\n",
      "/home/gustavo/anaconda3/lib/python3.8/site-packages/numpy/core/_methods.py:170: RuntimeWarning: invalid value encountered in double_scalars\n",
      "  ret = ret.dtype.type(ret / rcount)\n"
     ]
    }
   ],
   "source": [
    "df1=df.groupby(['CD_PROGRAMA_IES','AN_BASE'],as_index=False).agg({'Homens':np.sum,'Mulheres':np.sum,\n",
    "                                                              'Brasileiros':np.sum, 'Estrangeiros':np.sum,\n",
    "                                                             'Quantidade_Discentes':np.sum,\n",
    "                                                            'QT_MES_TITULACAO':media_especial,\n",
    "                                                            'CD_AREA_AVALIACAO':np.max,'CS_STATUS_JURIDICO':np.max,\n",
    "                                                            'AN_NASCIMENTO_DISCENTE':np.mean,'NM_REGIAO':np.max,\n",
    "                                                            'SG_UF_PROGRAMA':np.max,\n",
    "                                                            'CD_CONCEITO_PROGRAMA':np.max})\n",
    "\n",
    "\n",
    "#esse aviso aparece porque tem uns programas que só tem valor zero a coluna QT_MES_TITULACAO\n",
    "#(zero indica que o progama ainda não foi terminado )"
   ]
  },
  {
   "cell_type": "code",
   "execution_count": 8,
   "metadata": {},
   "outputs": [],
   "source": [
    "df1=df1.set_index(df1.CD_PROGRAMA_IES)"
   ]
  },
  {
   "cell_type": "code",
   "execution_count": 9,
   "metadata": {},
   "outputs": [],
   "source": [
    "def proporcao_homens(df):\n",
    "    L=[]\n",
    "    for i in range(len(df)):\n",
    "        L.append(df.Homens[i]/df.Quantidade_Discentes[i])\n",
    "    return L"
   ]
  },
  {
   "cell_type": "code",
   "execution_count": 10,
   "metadata": {},
   "outputs": [],
   "source": [
    "df1.insert(4,'Prop_Homens',proporcao_homens(df1),True)"
   ]
  },
  {
   "cell_type": "code",
   "execution_count": 11,
   "metadata": {
    "scrolled": false
   },
   "outputs": [
    {
     "data": {
      "text/html": [
       "<div>\n",
       "<style scoped>\n",
       "    .dataframe tbody tr th:only-of-type {\n",
       "        vertical-align: middle;\n",
       "    }\n",
       "\n",
       "    .dataframe tbody tr th {\n",
       "        vertical-align: top;\n",
       "    }\n",
       "\n",
       "    .dataframe thead th {\n",
       "        text-align: right;\n",
       "    }\n",
       "</style>\n",
       "<table border=\"1\" class=\"dataframe\">\n",
       "  <thead>\n",
       "    <tr style=\"text-align: right;\">\n",
       "      <th></th>\n",
       "      <th>CD_PROGRAMA_IES</th>\n",
       "      <th>AN_BASE</th>\n",
       "      <th>Homens</th>\n",
       "      <th>Mulheres</th>\n",
       "      <th>Prop_Homens</th>\n",
       "      <th>Brasileiros</th>\n",
       "      <th>Estrangeiros</th>\n",
       "      <th>Quantidade_Discentes</th>\n",
       "      <th>QT_MES_TITULACAO</th>\n",
       "      <th>CD_AREA_AVALIACAO</th>\n",
       "      <th>CS_STATUS_JURIDICO</th>\n",
       "      <th>AN_NASCIMENTO_DISCENTE</th>\n",
       "      <th>NM_REGIAO</th>\n",
       "      <th>SG_UF_PROGRAMA</th>\n",
       "      <th>CD_CONCEITO_PROGRAMA</th>\n",
       "    </tr>\n",
       "    <tr>\n",
       "      <th>CD_PROGRAMA_IES</th>\n",
       "      <th></th>\n",
       "      <th></th>\n",
       "      <th></th>\n",
       "      <th></th>\n",
       "      <th></th>\n",
       "      <th></th>\n",
       "      <th></th>\n",
       "      <th></th>\n",
       "      <th></th>\n",
       "      <th></th>\n",
       "      <th></th>\n",
       "      <th></th>\n",
       "      <th></th>\n",
       "      <th></th>\n",
       "      <th></th>\n",
       "    </tr>\n",
       "  </thead>\n",
       "  <tbody>\n",
       "    <tr>\n",
       "      <th>10001018002P1</th>\n",
       "      <td>10001018002P1</td>\n",
       "      <td>2013</td>\n",
       "      <td>29</td>\n",
       "      <td>48</td>\n",
       "      <td>0.376623</td>\n",
       "      <td>77</td>\n",
       "      <td>0</td>\n",
       "      <td>77</td>\n",
       "      <td>40.761905</td>\n",
       "      <td>9</td>\n",
       "      <td>FEDERAL</td>\n",
       "      <td>1981.000000</td>\n",
       "      <td>NORTE</td>\n",
       "      <td>RO</td>\n",
       "      <td>3</td>\n",
       "    </tr>\n",
       "    <tr>\n",
       "      <th>10001018002P1</th>\n",
       "      <td>10001018002P1</td>\n",
       "      <td>2014</td>\n",
       "      <td>26</td>\n",
       "      <td>43</td>\n",
       "      <td>0.376812</td>\n",
       "      <td>68</td>\n",
       "      <td>1</td>\n",
       "      <td>69</td>\n",
       "      <td>31.461538</td>\n",
       "      <td>9</td>\n",
       "      <td>FEDERAL</td>\n",
       "      <td>1983.275362</td>\n",
       "      <td>NORTE</td>\n",
       "      <td>RO</td>\n",
       "      <td>3</td>\n",
       "    </tr>\n",
       "    <tr>\n",
       "      <th>10001018002P1</th>\n",
       "      <td>10001018002P1</td>\n",
       "      <td>2015</td>\n",
       "      <td>33</td>\n",
       "      <td>57</td>\n",
       "      <td>0.366667</td>\n",
       "      <td>88</td>\n",
       "      <td>2</td>\n",
       "      <td>90</td>\n",
       "      <td>29.200000</td>\n",
       "      <td>9</td>\n",
       "      <td>FEDERAL</td>\n",
       "      <td>1984.311111</td>\n",
       "      <td>NORTE</td>\n",
       "      <td>RO</td>\n",
       "      <td>3</td>\n",
       "    </tr>\n",
       "    <tr>\n",
       "      <th>10001018002P1</th>\n",
       "      <td>10001018002P1</td>\n",
       "      <td>2016</td>\n",
       "      <td>28</td>\n",
       "      <td>53</td>\n",
       "      <td>0.345679</td>\n",
       "      <td>80</td>\n",
       "      <td>1</td>\n",
       "      <td>81</td>\n",
       "      <td>30.166667</td>\n",
       "      <td>9</td>\n",
       "      <td>FEDERAL</td>\n",
       "      <td>1986.493827</td>\n",
       "      <td>NORTE</td>\n",
       "      <td>RO</td>\n",
       "      <td>3</td>\n",
       "    </tr>\n",
       "    <tr>\n",
       "      <th>10001018002P1</th>\n",
       "      <td>10001018002P1</td>\n",
       "      <td>2017</td>\n",
       "      <td>43</td>\n",
       "      <td>64</td>\n",
       "      <td>0.401869</td>\n",
       "      <td>106</td>\n",
       "      <td>1</td>\n",
       "      <td>107</td>\n",
       "      <td>28.428571</td>\n",
       "      <td>9</td>\n",
       "      <td>FEDERAL</td>\n",
       "      <td>1987.579439</td>\n",
       "      <td>NORTE</td>\n",
       "      <td>RO</td>\n",
       "      <td>4</td>\n",
       "    </tr>\n",
       "    <tr>\n",
       "      <th>10001018002P1</th>\n",
       "      <td>10001018002P1</td>\n",
       "      <td>2018</td>\n",
       "      <td>37</td>\n",
       "      <td>54</td>\n",
       "      <td>0.406593</td>\n",
       "      <td>89</td>\n",
       "      <td>2</td>\n",
       "      <td>91</td>\n",
       "      <td>37.733333</td>\n",
       "      <td>9</td>\n",
       "      <td>FEDERAL</td>\n",
       "      <td>1988.527473</td>\n",
       "      <td>NORTE</td>\n",
       "      <td>RO</td>\n",
       "      <td>4</td>\n",
       "    </tr>\n",
       "    <tr>\n",
       "      <th>10001018002P1</th>\n",
       "      <td>10001018002P1</td>\n",
       "      <td>2019</td>\n",
       "      <td>30</td>\n",
       "      <td>48</td>\n",
       "      <td>0.384615</td>\n",
       "      <td>77</td>\n",
       "      <td>1</td>\n",
       "      <td>78</td>\n",
       "      <td>29.103448</td>\n",
       "      <td>9</td>\n",
       "      <td>FEDERAL</td>\n",
       "      <td>1989.371795</td>\n",
       "      <td>NORTE</td>\n",
       "      <td>RO</td>\n",
       "      <td>4</td>\n",
       "    </tr>\n",
       "    <tr>\n",
       "      <th>10001018004P4</th>\n",
       "      <td>10001018004P4</td>\n",
       "      <td>2013</td>\n",
       "      <td>24</td>\n",
       "      <td>48</td>\n",
       "      <td>0.333333</td>\n",
       "      <td>72</td>\n",
       "      <td>0</td>\n",
       "      <td>72</td>\n",
       "      <td>29.800000</td>\n",
       "      <td>45</td>\n",
       "      <td>FEDERAL</td>\n",
       "      <td>1981.500000</td>\n",
       "      <td>NORTE</td>\n",
       "      <td>RO</td>\n",
       "      <td>4</td>\n",
       "    </tr>\n",
       "    <tr>\n",
       "      <th>10001018004P4</th>\n",
       "      <td>10001018004P4</td>\n",
       "      <td>2014</td>\n",
       "      <td>20</td>\n",
       "      <td>42</td>\n",
       "      <td>0.322581</td>\n",
       "      <td>62</td>\n",
       "      <td>0</td>\n",
       "      <td>62</td>\n",
       "      <td>27.500000</td>\n",
       "      <td>45</td>\n",
       "      <td>FEDERAL</td>\n",
       "      <td>1981.048387</td>\n",
       "      <td>NORTE</td>\n",
       "      <td>RO</td>\n",
       "      <td>4</td>\n",
       "    </tr>\n",
       "    <tr>\n",
       "      <th>10001018004P4</th>\n",
       "      <td>10001018004P4</td>\n",
       "      <td>2015</td>\n",
       "      <td>24</td>\n",
       "      <td>48</td>\n",
       "      <td>0.333333</td>\n",
       "      <td>72</td>\n",
       "      <td>0</td>\n",
       "      <td>72</td>\n",
       "      <td>25.222222</td>\n",
       "      <td>45</td>\n",
       "      <td>FEDERAL</td>\n",
       "      <td>1981.583333</td>\n",
       "      <td>NORTE</td>\n",
       "      <td>RO</td>\n",
       "      <td>4</td>\n",
       "    </tr>\n",
       "  </tbody>\n",
       "</table>\n",
       "</div>"
      ],
      "text/plain": [
       "                CD_PROGRAMA_IES  AN_BASE  Homens  Mulheres  Prop_Homens  \\\n",
       "CD_PROGRAMA_IES                                                           \n",
       "10001018002P1     10001018002P1     2013      29        48     0.376623   \n",
       "10001018002P1     10001018002P1     2014      26        43     0.376812   \n",
       "10001018002P1     10001018002P1     2015      33        57     0.366667   \n",
       "10001018002P1     10001018002P1     2016      28        53     0.345679   \n",
       "10001018002P1     10001018002P1     2017      43        64     0.401869   \n",
       "10001018002P1     10001018002P1     2018      37        54     0.406593   \n",
       "10001018002P1     10001018002P1     2019      30        48     0.384615   \n",
       "10001018004P4     10001018004P4     2013      24        48     0.333333   \n",
       "10001018004P4     10001018004P4     2014      20        42     0.322581   \n",
       "10001018004P4     10001018004P4     2015      24        48     0.333333   \n",
       "\n",
       "                 Brasileiros  Estrangeiros  Quantidade_Discentes  \\\n",
       "CD_PROGRAMA_IES                                                    \n",
       "10001018002P1             77             0                    77   \n",
       "10001018002P1             68             1                    69   \n",
       "10001018002P1             88             2                    90   \n",
       "10001018002P1             80             1                    81   \n",
       "10001018002P1            106             1                   107   \n",
       "10001018002P1             89             2                    91   \n",
       "10001018002P1             77             1                    78   \n",
       "10001018004P4             72             0                    72   \n",
       "10001018004P4             62             0                    62   \n",
       "10001018004P4             72             0                    72   \n",
       "\n",
       "                 QT_MES_TITULACAO  CD_AREA_AVALIACAO CS_STATUS_JURIDICO  \\\n",
       "CD_PROGRAMA_IES                                                           \n",
       "10001018002P1           40.761905                  9            FEDERAL   \n",
       "10001018002P1           31.461538                  9            FEDERAL   \n",
       "10001018002P1           29.200000                  9            FEDERAL   \n",
       "10001018002P1           30.166667                  9            FEDERAL   \n",
       "10001018002P1           28.428571                  9            FEDERAL   \n",
       "10001018002P1           37.733333                  9            FEDERAL   \n",
       "10001018002P1           29.103448                  9            FEDERAL   \n",
       "10001018004P4           29.800000                 45            FEDERAL   \n",
       "10001018004P4           27.500000                 45            FEDERAL   \n",
       "10001018004P4           25.222222                 45            FEDERAL   \n",
       "\n",
       "                 AN_NASCIMENTO_DISCENTE NM_REGIAO SG_UF_PROGRAMA  \\\n",
       "CD_PROGRAMA_IES                                                    \n",
       "10001018002P1               1981.000000     NORTE             RO   \n",
       "10001018002P1               1983.275362     NORTE             RO   \n",
       "10001018002P1               1984.311111     NORTE             RO   \n",
       "10001018002P1               1986.493827     NORTE             RO   \n",
       "10001018002P1               1987.579439     NORTE             RO   \n",
       "10001018002P1               1988.527473     NORTE             RO   \n",
       "10001018002P1               1989.371795     NORTE             RO   \n",
       "10001018004P4               1981.500000     NORTE             RO   \n",
       "10001018004P4               1981.048387     NORTE             RO   \n",
       "10001018004P4               1981.583333     NORTE             RO   \n",
       "\n",
       "                 CD_CONCEITO_PROGRAMA  \n",
       "CD_PROGRAMA_IES                        \n",
       "10001018002P1                       3  \n",
       "10001018002P1                       3  \n",
       "10001018002P1                       3  \n",
       "10001018002P1                       3  \n",
       "10001018002P1                       4  \n",
       "10001018002P1                       4  \n",
       "10001018002P1                       4  \n",
       "10001018004P4                       4  \n",
       "10001018004P4                       4  \n",
       "10001018004P4                       4  "
      ]
     },
     "execution_count": 11,
     "metadata": {},
     "output_type": "execute_result"
    }
   ],
   "source": [
    "df1.head(10)"
   ]
  },
  {
   "cell_type": "code",
   "execution_count": 12,
   "metadata": {},
   "outputs": [
    {
     "name": "stdout",
     "output_type": "stream",
     "text": [
      "<class 'pandas.core.frame.DataFrame'>\n",
      "Index: 28465 entries, 10001018002P1 to 53045009001P3\n",
      "Data columns (total 15 columns):\n",
      " #   Column                  Non-Null Count  Dtype  \n",
      "---  ------                  --------------  -----  \n",
      " 0   CD_PROGRAMA_IES         28465 non-null  object \n",
      " 1   AN_BASE                 28465 non-null  int64  \n",
      " 2   Homens                  28465 non-null  int64  \n",
      " 3   Mulheres                28465 non-null  int64  \n",
      " 4   Prop_Homens             28465 non-null  float64\n",
      " 5   Brasileiros             28465 non-null  int64  \n",
      " 6   Estrangeiros            28465 non-null  int64  \n",
      " 7   Quantidade_Discentes    28465 non-null  int64  \n",
      " 8   QT_MES_TITULACAO        26134 non-null  float64\n",
      " 9   CD_AREA_AVALIACAO       28465 non-null  int64  \n",
      " 10  CS_STATUS_JURIDICO      28465 non-null  object \n",
      " 11  AN_NASCIMENTO_DISCENTE  28465 non-null  float64\n",
      " 12  NM_REGIAO               28465 non-null  object \n",
      " 13  SG_UF_PROGRAMA          28465 non-null  object \n",
      " 14  CD_CONCEITO_PROGRAMA    28465 non-null  int64  \n",
      "dtypes: float64(3), int64(8), object(4)\n",
      "memory usage: 3.5+ MB\n"
     ]
    }
   ],
   "source": [
    "df1.info()"
   ]
  },
  {
   "cell_type": "markdown",
   "metadata": {},
   "source": [
    "## Tentando um ML\n",
    "\n",
    "### Prevendo a nota de um ano a partir das features do ano anterior"
   ]
  },
  {
   "cell_type": "code",
   "execution_count": 13,
   "metadata": {},
   "outputs": [],
   "source": [
    "#coisas para fazer o SVM\n",
    "from sklearn.model_selection import train_test_split\n",
    "from sklearn.preprocessing import StandardScaler\n",
    "from sklearn import svm\n",
    "\n",
    "#coisas para testar\n",
    "from sklearn.metrics import plot_confusion_matrix\n",
    "from sklearn.metrics import f1_score\n",
    "from sklearn.metrics import accuracy_score"
   ]
  },
  {
   "cell_type": "code",
   "execution_count": 14,
   "metadata": {},
   "outputs": [],
   "source": [
    "df1=df1.dropna()\n",
    "df1=df1[np.logical_and(df1['CD_CONCEITO_PROGRAMA']!=1,df1['CD_CONCEITO_PROGRAMA']!=2)] #1 e 2 deixam o gráfico feio"
   ]
  },
  {
   "cell_type": "code",
   "execution_count": 15,
   "metadata": {},
   "outputs": [],
   "source": [
    "#código para dropar qualquer programa o qual não tenha os anos escolhidos\n",
    "antes,depois=2015,2016\n",
    "\n",
    "index=[]\n",
    "[index.append(x) for x in df1.index if x not in index] \n",
    "para_apagar=[]\n",
    "for i in index:\n",
    "    lista=list(df1[df1.index==i]['AN_BASE'])\n",
    "    if antes in lista and depois in lista :\n",
    "        pass\n",
    "    else:\n",
    "        para_apagar.append(i)\n",
    "\n",
    "df1=df1.drop(para_apagar)\n",
    "\n",
    "df1_antes=df1[df1.AN_BASE==antes]\n",
    "df1_depois=df1[df1.AN_BASE==depois]"
   ]
  },
  {
   "cell_type": "code",
   "execution_count": 16,
   "metadata": {},
   "outputs": [],
   "source": [
    "# separando em treino e teste\n",
    "\n",
    "x=df1_antes.iloc[:,6:9] #hm, só três features\n",
    "y=df1_depois.iloc[:,14]\n",
    "\n",
    "x_treino,x_teste,y_treino,y_teste=train_test_split(x,y,random_state=0,test_size=0.2)"
   ]
  },
  {
   "cell_type": "code",
   "execution_count": 17,
   "metadata": {},
   "outputs": [],
   "source": [
    "#fazendo tudo em escala \n",
    "scaler = StandardScaler().fit(x_treino)\n",
    "x_treino=scaler.transform(x_treino)\n",
    "x_teste=scaler.transform(x_teste)"
   ]
  },
  {
   "cell_type": "code",
   "execution_count": 18,
   "metadata": {},
   "outputs": [
    {
     "name": "stdout",
     "output_type": "stream",
     "text": [
      "Score F1 = 0.49\n",
      "Acurácia = 0.52\n"
     ]
    }
   ],
   "source": [
    "#treinando a máquina \n",
    "clf=svm.SVC()\n",
    "clf.fit(x_treino,y_treino)\n",
    "\n",
    "#testando o modelo\n",
    "y_pred=clf.predict(x_teste)\n",
    "print('Score F1 =',round(f1_score(y_teste,y_pred,average='weighted'),2))\n",
    "print('Acurácia =',round(accuracy_score(y_teste,y_pred),2))"
   ]
  },
  {
   "cell_type": "code",
   "execution_count": 19,
   "metadata": {},
   "outputs": [
    {
     "data": {
      "text/plain": [
       "Text(0.5, 1.0, 'Confusion Matrix normalizada para os valores previstos')"
      ]
     },
     "execution_count": 19,
     "metadata": {},
     "output_type": "execute_result"
    },
    {
     "data": {
      "image/png": "[encoded data removed]",
      "text/plain": [
       "<Figure size 1080x360 with 2 Axes>"
      ]
     },
     "metadata": {
      "needs_background": "light"
     },
     "output_type": "display_data"
    }
   ],
   "source": [
    "plot_confusion_matrix(clf,x_teste,y_teste,values_format='.2g',normalize='pred',cmap='Greys')\n",
    "plt.xlabel('Valores previstos')\n",
    "plt.ylabel('Valores reais')\n",
    "plt.title('Confusion Matrix normalizada para os valores previstos')"
   ]
  }
 ],
 "metadata": {
  "kernelspec": {
   "display_name": "Python 3",
   "language": "python",
   "name": "python3"
  },
  "language_info": {
   "codemirror_mode": {
    "name": "ipython",
    "version": 3
   },
   "file_extension": ".py",
   "mimetype": "text/x-python",
   "name": "python",
   "nbconvert_exporter": "python",
   "pygments_lexer": "ipython3",
   "version": "3.8.5"
  },
  "varInspector": {
   "cols": {
    "lenName": 16,
    "lenType": 16,
    "lenVar": 40
   },
   "kernels_config": {
    "python": {
     "delete_cmd_postfix": "",
     "delete_cmd_prefix": "del ",
     "library": "var_list.py",
     "varRefreshCmd": "print(var_dic_list())"
    },
    "r": {
     "delete_cmd_postfix": ") ",
     "delete_cmd_prefix": "rm(",
     "library": "var_list.r",
     "varRefreshCmd": "cat(var_dic_list()) "
    }
   },
   "types_to_exclude": [
    "module",
    "function",
    "builtin_function_or_method",
    "instance",
    "_Feature"
   ],
   "window_display": false
  }
 },
 "nbformat": 4,
 "nbformat_minor": 4
}
