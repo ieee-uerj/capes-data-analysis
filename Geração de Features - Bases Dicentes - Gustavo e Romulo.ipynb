{
 "cells": [
  {
   "cell_type": "markdown",
   "metadata": {},
   "source": [
    "## Importando bibliotecas e o arquivo"
   ]
  },
  {
   "cell_type": "code",
   "execution_count": 1,
   "metadata": {},
   "outputs": [],
   "source": [
    "import pandas as pd\n",
    "import numpy as np\n",
    "import seaborn as sns\n",
    "import matplotlib.pyplot as plt\n",
    "plt.rcParams['figure.figsize'] = (15, 5)"
   ]
  },
  {
   "cell_type": "code",
   "execution_count": 2,
   "metadata": {
    "scrolled": true
   },
   "outputs": [
    {
     "name": "stderr",
     "output_type": "stream",
     "text": [
      "/home/gustavo/anaconda3/lib/python3.8/site-packages/IPython/core/interactiveshell.py:3145: DtypeWarning: Columns (12,21) have mixed types.Specify dtype option on import or set low_memory=False.\n",
      "  has_raised = await self.run_ast_nodes(code_ast.body, cell_name,\n"
     ]
    }
   ],
   "source": [
    "df=pd.read_csv('data/Discentes_2013-2019.csv',encoding='latin1')"
   ]
  },
  {
   "cell_type": "code",
   "execution_count": 3,
   "metadata": {},
   "outputs": [],
   "source": [
    "valores_invalidos=[]\n",
    "for i in range(len(df)):\n",
    "    try:\n",
    "        int(df.CD_CONCEITO_PROGRAMA[i])\n",
    "    except ValueError:\n",
    "        valores_invalidos.append(i)\n",
    "        \n",
    "#tirando os valores\n",
    "df=df.drop(valores_invalidos)\n",
    "\n",
    "#transformando em int\n",
    "df.CD_CONCEITO_PROGRAMA=df.CD_CONCEITO_PROGRAMA.astype('int64')\n",
    "\n",
    "#ajeitando o index\n",
    "df.index=range(0,len(df))"
   ]
  },
  {
   "cell_type": "code",
   "execution_count": 4,
   "metadata": {
    "scrolled": false
   },
   "outputs": [
    {
     "name": "stdout",
     "output_type": "stream",
     "text": [
      "<class 'pandas.core.frame.DataFrame'>\n",
      "RangeIndex: 2476029 entries, 0 to 2476028\n",
      "Data columns (total 22 columns):\n",
      " #   Column                          Dtype \n",
      "---  ------                          ----- \n",
      " 0   AN_BASE                         int64 \n",
      " 1   NM_GRANDE_AREA_CONHECIMENTO     object\n",
      " 2   CD_AREA_AVALIACAO               int64 \n",
      " 3   NM_AREA_AVALIACAO               object\n",
      " 4   CD_ENTIDADE_CAPES               int64 \n",
      " 5   SG_ENTIDADE_ENSINO              object\n",
      " 6   CS_STATUS_JURIDICO              object\n",
      " 7   DS_DEPENDENCIA_ADMINISTRATIVA   object\n",
      " 8   CD_PROGRAMA_IES                 object\n",
      " 9   NM_REGIAO                       object\n",
      " 10  SG_UF_PROGRAMA                  object\n",
      " 11  NM_MUNICIPIO_PROGRAMA_IES       object\n",
      " 12  CD_CONCEITO_PROGRAMA            int64 \n",
      " 13  NM_PAIS_NACIONALIDADE_DISCENTE  object\n",
      " 14  DS_TIPO_NACIONALIDADE_DISCENTE  object\n",
      " 15  TP_SEXO_DISCENTE                object\n",
      " 16  AN_NASCIMENTO_DISCENTE          int64 \n",
      " 17  DS_GRAU_ACADEMICO_DISCENTE      object\n",
      " 18  ST_INGRESSANTE                  object\n",
      " 19  NM_SITUACAO_DISCENTE            object\n",
      " 20  QT_MES_TITULACAO                int64 \n",
      " 21  NM_ORIENTADOR                   object\n",
      "dtypes: int64(6), object(16)\n",
      "memory usage: 415.6+ MB\n"
     ]
    }
   ],
   "source": [
    "df.info()"
   ]
  },
  {
   "cell_type": "markdown",
   "metadata": {},
   "source": [
    "## Agrupando por PPG"
   ]
  },
  {
   "cell_type": "code",
   "execution_count": 5,
   "metadata": {},
   "outputs": [],
   "source": [
    "def contar_homem(array):\n",
    "    L=[]\n",
    "    for i in array:\n",
    "        if i=='MASCULINO':\n",
    "            L.append(1)\n",
    "        else:\n",
    "            L.append(0)\n",
    "    return L\n",
    "\n",
    "def contar_mulher(array):\n",
    "    L=[]\n",
    "    for i in array:\n",
    "        if i=='MASCULINO':\n",
    "            L.append(0)\n",
    "        else:\n",
    "            L.append(1)\n",
    "    return L\n",
    "\n",
    "def contar_brasiliero(array):\n",
    "    L=[]\n",
    "    for i in array:\n",
    "        if i=='BRASILEIRO':\n",
    "            L.append(1)\n",
    "        else:\n",
    "            L.append(0)\n",
    "    return L\n",
    "\n",
    "def contar_estrangeiro(array):\n",
    "    L=[]\n",
    "    for i in array:\n",
    "        if i=='BRASILEIRO':\n",
    "            L.append(0)\n",
    "        else:\n",
    "            L.append(1)\n",
    "    return L\n",
    "\n",
    "def media_especial(array):\n",
    "    '''Tira a média dos valores do array ignorando-se os zeros.'''\n",
    "    valores_nao_nulos=[]\n",
    "    for i in array:\n",
    "        if i!=0:\n",
    "            valores_nao_nulos.append(i)\n",
    "    return np.mean(valores_nao_nulos)"
   ]
  },
  {
   "cell_type": "code",
   "execution_count": 6,
   "metadata": {},
   "outputs": [],
   "source": [
    "df['Homens']=contar_homem(df.TP_SEXO_DISCENTE)\n",
    "df['Mulheres']=contar_mulher(df.TP_SEXO_DISCENTE)\n",
    "df['Brasileiros']=contar_brasiliero(df.DS_TIPO_NACIONALIDADE_DISCENTE)\n",
    "df['Estrangeiros']=contar_estrangeiro(df.DS_TIPO_NACIONALIDADE_DISCENTE)\n",
    "df['Quantidade_Discentes']=[1 for i in range(len(df))]"
   ]
  },
  {
   "cell_type": "code",
   "execution_count": 7,
   "metadata": {},
   "outputs": [
    {
     "name": "stdout",
     "output_type": "stream",
     "text": [
      "<class 'pandas.core.frame.DataFrame'>\n",
      "RangeIndex: 2476029 entries, 0 to 2476028\n",
      "Data columns (total 27 columns):\n",
      " #   Column                          Dtype \n",
      "---  ------                          ----- \n",
      " 0   AN_BASE                         int64 \n",
      " 1   NM_GRANDE_AREA_CONHECIMENTO     object\n",
      " 2   CD_AREA_AVALIACAO               int64 \n",
      " 3   NM_AREA_AVALIACAO               object\n",
      " 4   CD_ENTIDADE_CAPES               int64 \n",
      " 5   SG_ENTIDADE_ENSINO              object\n",
      " 6   CS_STATUS_JURIDICO              object\n",
      " 7   DS_DEPENDENCIA_ADMINISTRATIVA   object\n",
      " 8   CD_PROGRAMA_IES                 object\n",
      " 9   NM_REGIAO                       object\n",
      " 10  SG_UF_PROGRAMA                  object\n",
      " 11  NM_MUNICIPIO_PROGRAMA_IES       object\n",
      " 12  CD_CONCEITO_PROGRAMA            int64 \n",
      " 13  NM_PAIS_NACIONALIDADE_DISCENTE  object\n",
      " 14  DS_TIPO_NACIONALIDADE_DISCENTE  object\n",
      " 15  TP_SEXO_DISCENTE                object\n",
      " 16  AN_NASCIMENTO_DISCENTE          int64 \n",
      " 17  DS_GRAU_ACADEMICO_DISCENTE      object\n",
      " 18  ST_INGRESSANTE                  object\n",
      " 19  NM_SITUACAO_DISCENTE            object\n",
      " 20  QT_MES_TITULACAO                int64 \n",
      " 21  NM_ORIENTADOR                   object\n",
      " 22  Homens                          int64 \n",
      " 23  Mulheres                        int64 \n",
      " 24  Brasileiros                     int64 \n",
      " 25  Estrangeiros                    int64 \n",
      " 26  Quantidade_Discentes            int64 \n",
      "dtypes: int64(11), object(16)\n",
      "memory usage: 510.0+ MB\n"
     ]
    }
   ],
   "source": [
    "df.info()"
   ]
  },
  {
   "cell_type": "code",
   "execution_count": null,
   "metadata": {},
   "outputs": [
    {
     "name": "stderr",
     "output_type": "stream",
     "text": [
      "/home/gustavo/anaconda3/lib/python3.8/site-packages/numpy/core/fromnumeric.py:3372: RuntimeWarning: Mean of empty slice.\n",
      "  return _methods._mean(a, axis=axis, dtype=dtype,\n",
      "/home/gustavo/anaconda3/lib/python3.8/site-packages/numpy/core/_methods.py:170: RuntimeWarning: invalid value encountered in double_scalars\n",
      "  ret = ret.dtype.type(ret / rcount)\n"
     ]
    }
   ],
   "source": [
    "df1=df.groupby(['CD_PROGRAMA_IES','AN_BASE'],as_index=False).agg({'Homens':np.sum,'Mulheres':np.sum,\n",
    "                                                              'Brasileiros':np.sum, 'Estrangeiros':np.sum,\n",
    "                                                             'Quantidade_Discentes':np.sum,\n",
    "                                                            'QT_MES_TITULACAO':media_especial,\n",
    "                                                            'CD_AREA_AVALIACAO':np.max,'CS_STATUS_JURIDICO':np.max,\n",
    "                                                            'AN_NASCIMENTO_DISCENTE':np.mean,'NM_REGIAO':np.max,\n",
    "                                                            'SG_UF_PROGRAMA':np.max,\n",
    "                                                            'CD_CONCEITO_PROGRAMA':np.max})\n",
    "\n",
    "\n",
    "#esse aviso aparece porque tem uns programas que só tem valor zero a coluna QT_MES_TITULACAO\n",
    "#(zero indica que o progama ainda não foi terminado )"
   ]
  },
  {
   "cell_type": "code",
   "execution_count": null,
   "metadata": {},
   "outputs": [],
   "source": [
    "def proporcao_homens(df):\n",
    "    L=[]\n",
    "    for i in range(len(df)):\n",
    "        L.append(df.Homens[i]/df.Quantidade_Discentes[i])\n",
    "    return L"
   ]
  },
  {
   "cell_type": "code",
   "execution_count": null,
   "metadata": {},
   "outputs": [],
   "source": [
    "df1.insert(4,'Prop_Homens',proporcao_homens(df1),True)"
   ]
  },
  {
   "cell_type": "code",
   "execution_count": null,
   "metadata": {
    "scrolled": false
   },
   "outputs": [],
   "source": [
    "df1.head(10)"
   ]
  },
  {
   "cell_type": "code",
   "execution_count": null,
   "metadata": {},
   "outputs": [],
   "source": [
    "df1.info()"
   ]
  },
  {
   "cell_type": "markdown",
   "metadata": {},
   "source": [
    "## Tentando um ML"
   ]
  },
  {
   "cell_type": "code",
   "execution_count": null,
   "metadata": {},
   "outputs": [],
   "source": [
    "#coisas para fazer o SVM\n",
    "from sklearn.model_selection import train_test_split\n",
    "from sklearn.preprocessing import StandardScaler\n",
    "from sklearn import svm\n",
    "\n",
    "#coisas para testar\n",
    "from sklearn.metrics import plot_confusion_matrix\n",
    "from sklearn.metrics import f1_score\n",
    "from sklearn.metrics import accuracy_score"
   ]
  },
  {
   "cell_type": "code",
   "execution_count": null,
   "metadata": {},
   "outputs": [],
   "source": [
    "df1=df1.dropna()"
   ]
  },
  {
   "cell_type": "code",
   "execution_count": null,
   "metadata": {},
   "outputs": [],
   "source": [
    "# separando em treino e teste\n",
    "\n",
    "x=df1.iloc[:,6:9] #hm, só três features\n",
    "y=df1.iloc[:,14]\n",
    "\n",
    "x_treino,x_teste,y_treino,y_teste=train_test_split(x,y,random_state=0,test_size=0.2)"
   ]
  },
  {
   "cell_type": "code",
   "execution_count": null,
   "metadata": {},
   "outputs": [],
   "source": [
    "#fazendo tudo em escala \n",
    "scaler = StandardScaler().fit(x_treino)\n",
    "x_treino=scaler.transform(x_treino)\n",
    "x_teste=scaler.transform(x_teste)"
   ]
  },
  {
   "cell_type": "code",
   "execution_count": null,
   "metadata": {},
   "outputs": [],
   "source": [
    "#treinando a máquina \n",
    "clf=svm.SVC()\n",
    "clf.fit(x_treino,y_treino)\n",
    "\n",
    "#testando o modelo\n",
    "\n",
    "y_pred=clf.predict(x_teste)\n",
    "print('Score F1 =',f1_score(y_teste,y_pred,average='weighted'))\n",
    "print('Acurácia =',accuracy_score(y_teste,y_pred))"
   ]
  },
  {
   "cell_type": "code",
   "execution_count": null,
   "metadata": {},
   "outputs": [],
   "source": [
    "plot_confusion_matrix(clf,x_teste,y_teste,values_format='.2g',normalize='pred',cmap='Greys')\n",
    "plt.xlabel('Valores previstos')\n",
    "plt.ylabel('Valores reais')\n",
    "plt.title('Confusion Matrix normalizada para os valores previstos')"
   ]
  },
  {
   "cell_type": "code",
   "execution_count": null,
   "metadata": {},
   "outputs": [],
   "source": []
  }
 ],
 "metadata": {
  "kernelspec": {
   "display_name": "Python 3",
   "language": "python",
   "name": "python3"
  },
  "language_info": {
   "codemirror_mode": {
    "name": "ipython",
    "version": 3
   },
   "file_extension": ".py",
   "mimetype": "text/x-python",
   "name": "python",
   "nbconvert_exporter": "python",
   "pygments_lexer": "ipython3",
   "version": "3.8.5"
  },
  "varInspector": {
   "cols": {
    "lenName": 16,
    "lenType": 16,
    "lenVar": 40
   },
   "kernels_config": {
    "python": {
     "delete_cmd_postfix": "",
     "delete_cmd_prefix": "del ",
     "library": "var_list.py",
     "varRefreshCmd": "print(var_dic_list())"
    },
    "r": {
     "delete_cmd_postfix": ") ",
     "delete_cmd_prefix": "rm(",
     "library": "var_list.r",
     "varRefreshCmd": "cat(var_dic_list()) "
    }
   },
   "types_to_exclude": [
    "module",
    "function",
    "builtin_function_or_method",
    "instance",
    "_Feature"
   ],
   "window_display": false
  }
 },
 "nbformat": 4,
 "nbformat_minor": 4
}
