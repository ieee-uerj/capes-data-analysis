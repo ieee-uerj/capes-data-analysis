{
 "cells": [
  {
   "cell_type": "markdown",
   "metadata": {},
   "source": [
    "## Importando bibliotecas e o arquivo"
   ]
  },
  {
   "cell_type": "code",
   "execution_count": 1,
   "metadata": {},
   "outputs": [],
   "source": [
    "import pandas as pd\n",
    "import numpy as np\n",
    "import seaborn as sns\n",
    "import matplotlib.pyplot as plt\n"
   ]
  },
  {
   "cell_type": "code",
   "execution_count": 2,
   "metadata": {
    "scrolled": true
   },
   "outputs": [
    {
     "name": "stderr",
     "output_type": "stream",
     "text": [
      "/home/gustavo/anaconda3/lib/python3.8/site-packages/IPython/core/interactiveshell.py:3145: DtypeWarning: Columns (21) have mixed types.Specify dtype option on import or set low_memory=False.\n",
      "  has_raised = await self.run_ast_nodes(code_ast.body, cell_name,\n"
     ]
    }
   ],
   "source": [
    "df=pd.read_csv('data/Discentes_2013-2019.csv',encoding='latin1')"
   ]
  },
  {
   "cell_type": "code",
   "execution_count": 3,
   "metadata": {
    "scrolled": false
   },
   "outputs": [
    {
     "name": "stdout",
     "output_type": "stream",
     "text": [
      "<class 'pandas.core.frame.DataFrame'>\n",
      "RangeIndex: 2476029 entries, 0 to 2476028\n",
      "Data columns (total 22 columns):\n",
      " #   Column                          Dtype \n",
      "---  ------                          ----- \n",
      " 0   AN_BASE                         int64 \n",
      " 1   NM_GRANDE_AREA_CONHECIMENTO     object\n",
      " 2   CD_AREA_AVALIACAO               int64 \n",
      " 3   NM_AREA_AVALIACAO               object\n",
      " 4   CD_ENTIDADE_CAPES               int64 \n",
      " 5   SG_ENTIDADE_ENSINO              object\n",
      " 6   CS_STATUS_JURIDICO              object\n",
      " 7   DS_DEPENDENCIA_ADMINISTRATIVA   object\n",
      " 8   CD_PROGRAMA_IES                 object\n",
      " 9   NM_REGIAO                       object\n",
      " 10  SG_UF_PROGRAMA                  object\n",
      " 11  NM_MUNICIPIO_PROGRAMA_IES       object\n",
      " 12  CD_CONCEITO_PROGRAMA            int64 \n",
      " 13  NM_PAIS_NACIONALIDADE_DISCENTE  object\n",
      " 14  DS_TIPO_NACIONALIDADE_DISCENTE  object\n",
      " 15  TP_SEXO_DISCENTE                object\n",
      " 16  AN_NASCIMENTO_DISCENTE          int64 \n",
      " 17  DS_GRAU_ACADEMICO_DISCENTE      object\n",
      " 18  ST_INGRESSANTE                  object\n",
      " 19  NM_SITUACAO_DISCENTE            object\n",
      " 20  QT_MES_TITULACAO                int64 \n",
      " 21  NM_ORIENTADOR                   object\n",
      "dtypes: int64(6), object(16)\n",
      "memory usage: 415.6+ MB\n"
     ]
    }
   ],
   "source": [
    "df.info()"
   ]
  },
  {
   "cell_type": "markdown",
   "metadata": {},
   "source": [
    "## Agrupando por PPG"
   ]
  },
  {
   "cell_type": "code",
   "execution_count": 4,
   "metadata": {},
   "outputs": [],
   "source": [
    "def contar_homem(array):\n",
    "    L=[]\n",
    "    for i in array:\n",
    "        if i=='MASCULINO':\n",
    "            L.append(1)\n",
    "        else:\n",
    "            L.append(0)\n",
    "    return L\n",
    "\n",
    "def contar_mulher(array):\n",
    "    L=[]\n",
    "    for i in array:\n",
    "        if i=='MASCULINO':\n",
    "            L.append(0)\n",
    "        else:\n",
    "            L.append(1)\n",
    "    return L\n",
    "\n",
    "def contar_brasiliero(array):\n",
    "    L=[]\n",
    "    for i in array:\n",
    "        if i=='BRASILEIRO':\n",
    "            L.append(1)\n",
    "        else:\n",
    "            L.append(0)\n",
    "    return L\n",
    "\n",
    "def contar_estrangeiro(array):\n",
    "    L=[]\n",
    "    for i in array:\n",
    "        if i=='BRASILEIRO':\n",
    "            L.append(0)\n",
    "        else:\n",
    "            L.append(1)\n",
    "    return L\n",
    "\n",
    "def media_especial(array):\n",
    "    '''Tira a média dos valores do array ignorando-se os zeros.'''\n",
    "    valores_nao_nulos=[]\n",
    "    for i in array:\n",
    "        if i!=0:\n",
    "            valores_nao_nulos.append(i)\n",
    "    return np.mean(valores_nao_nulos)"
   ]
  },
  {
   "cell_type": "code",
   "execution_count": 5,
   "metadata": {},
   "outputs": [],
   "source": [
    "df['Homens']=contar_homem(df.TP_SEXO_DISCENTE)\n",
    "df['Mulheres']=contar_mulher(df.TP_SEXO_DISCENTE)\n",
    "df['Brasileiros']=contar_brasiliero(df.DS_TIPO_NACIONALIDADE_DISCENTE)\n",
    "df['Estrangeiros']=contar_estrangeiro(df.DS_TIPO_NACIONALIDADE_DISCENTE)\n",
    "df['Quantidade_Discentes']=[1 for i in range(len(df))]"
   ]
  },
  {
   "cell_type": "code",
   "execution_count": 6,
   "metadata": {},
   "outputs": [
    {
     "name": "stderr",
     "output_type": "stream",
     "text": [
      "/home/gustavo/anaconda3/lib/python3.8/site-packages/numpy/core/fromnumeric.py:3372: RuntimeWarning: Mean of empty slice.\n",
      "  return _methods._mean(a, axis=axis, dtype=dtype,\n",
      "/home/gustavo/anaconda3/lib/python3.8/site-packages/numpy/core/_methods.py:170: RuntimeWarning: invalid value encountered in double_scalars\n",
      "  ret = ret.dtype.type(ret / rcount)\n"
     ]
    }
   ],
   "source": [
    "df1=df.groupby(['CD_PROGRAMA_IES','AN_BASE'],as_index=False).agg({'Homens':np.sum,'Mulheres':np.sum,\n",
    "                                                              'Brasileiros':np.sum, 'Estrangeiros':np.sum,\n",
    "                                                             'Quantidade_Discentes':np.sum,\n",
    "                                                            'QT_MES_TITULACAO':media_especial,\n",
    "                                                            'CD_AREA_AVALIACAO':np.max,'CS_STATUS_JURIDICO':np.max,\n",
    "                                                            'AN_NASCIMENTO_DISCENTE':np.mean,'NM_REGIAO':np.max,\n",
    "                                                            'SG_UF_PROGRAMA':np.max,\n",
    "                                                            'CD_CONCEITO_PROGRAMA':np.max})\n",
    "\n",
    "\n",
    "#esse aviso aparece porque tem uns programas que só tem valor zero a coluna QT_MES_TITULACAO\n",
    "#(zero indica que o progama ainda não foi terminado )"
   ]
  },
  {
   "cell_type": "code",
   "execution_count": 7,
   "metadata": {},
   "outputs": [
    {
     "name": "stderr",
     "output_type": "stream",
     "text": [
      "/home/gustavo/anaconda3/lib/python3.8/site-packages/IPython/core/interactiveshell.py:3145: DtypeWarning: Columns (7) have mixed types.Specify dtype option on import or set low_memory=False.\n",
      "  has_raised = await self.run_ast_nodes(code_ast.body, cell_name,\n"
     ]
    }
   ],
   "source": [
    "#juntado com os dados de número de docentes\n",
    "\n",
    "docentes=pd.read_csv('data/Docentes_2013-2019.csv',encoding='latin1')\n",
    "docentes['Quantidade_Docentes']=[1 for i in range(len(docentes))]\n",
    "docentes=docentes.groupby(['CD_PROGRAMA_IES','AN_BASE'],as_index=False).sum()[['CD_PROGRAMA_IES',\n",
    "                                                                               'AN_BASE','Quantidade_Docentes']]\n",
    "df1=pd.merge(df1,docentes,on=['CD_PROGRAMA_IES','AN_BASE'])\n",
    "df1=df1[['CD_PROGRAMA_IES',\n",
    " 'AN_BASE',\n",
    " 'Homens',\n",
    " 'Mulheres',\n",
    " 'Brasileiros',\n",
    " 'Estrangeiros',\n",
    " 'Quantidade_Discentes',\n",
    " 'QT_MES_TITULACAO',\n",
    " 'Quantidade_Docentes',\n",
    " 'CD_AREA_AVALIACAO',\n",
    " 'CS_STATUS_JURIDICO',\n",
    " 'AN_NASCIMENTO_DISCENTE',\n",
    " 'NM_REGIAO',\n",
    " 'SG_UF_PROGRAMA',\n",
    " 'CD_CONCEITO_PROGRAMA']]"
   ]
  },
  {
   "cell_type": "code",
   "execution_count": 8,
   "metadata": {},
   "outputs": [],
   "source": [
    "para_deletar=[df,docentes]\n",
    "del para_deletar #esse é um jeito de forçar o garbage collector a remover esses dataframes da memória"
   ]
  },
  {
   "cell_type": "code",
   "execution_count": 9,
   "metadata": {},
   "outputs": [],
   "source": [
    "def proporcao_homens(df):\n",
    "    L=[]\n",
    "    for i in range(len(df)):\n",
    "        L.append(df.Homens[i]/df.Quantidade_Discentes[i])\n",
    "    return L\n",
    "\n",
    "def razao_aluno_tempo(df):\n",
    "    '''Retorna a razão aluno/tempo médio de titulação'''\n",
    "    L=[]\n",
    "    for i in range(len(df)):\n",
    "        L.append(df.Quantidade_Discentes[i]/df.QT_MES_TITULACAO[i])\n",
    "    return L\n",
    "\n",
    "def razao_prof_aluno(df):\n",
    "    '''Retorna a razão aluno/professor'''\n",
    "    L=[]\n",
    "    for i in range(len(df)):\n",
    "        L.append(df.Quantidade_Discentes[i]/df.Quantidade_Docentes[i])\n",
    "    return L"
   ]
  },
  {
   "cell_type": "code",
   "execution_count": 10,
   "metadata": {},
   "outputs": [],
   "source": [
    "df1.insert(4,'Prop_Homens',proporcao_homens(df1),True)\n",
    "df1.insert(9,'Aluno_Tempo',razao_aluno_tempo(df1),True)\n",
    "df1.insert(11,'Prof_Aluno',razao_prof_aluno(df1),True)"
   ]
  },
  {
   "cell_type": "code",
   "execution_count": 11,
   "metadata": {},
   "outputs": [
    {
     "name": "stderr",
     "output_type": "stream",
     "text": [
      "/home/gustavo/anaconda3/lib/python3.8/site-packages/seaborn/_decorators.py:36: FutureWarning: Pass the following variables as keyword args: x, y. From version 0.12, the only valid positional argument will be `data`, and passing other arguments without an explicit keyword will result in an error or misinterpretation.\n",
      "  warnings.warn(\n"
     ]
    },
    {
     "data": {
      "text/plain": [
       "<AxesSubplot:xlabel='Prof_Aluno', ylabel='CD_CONCEITO_PROGRAMA'>"
      ]
     },
     "execution_count": 11,
     "metadata": {},
     "output_type": "execute_result"
    },
    {
     "data": {
      "image/png": "[encoded data removed]",
      "text/plain": [
       "<Figure size 432x288 with 1 Axes>"
      ]
     },
     "metadata": {
      "needs_background": "light"
     },
     "output_type": "display_data"
    }
   ],
   "source": [
    "prof_Aluno=df1.groupby('CD_CONCEITO_PROGRAMA').mean()['Prof_Aluno']\n",
    "nota=df1.groupby('CD_CONCEITO_PROGRAMA').mean().index\n",
    "\n",
    "sns.regplot(prof_Aluno,nota)"
   ]
  },
  {
   "cell_type": "code",
   "execution_count": 12,
   "metadata": {},
   "outputs": [
    {
     "name": "stdout",
     "output_type": "stream",
     "text": [
      "<class 'pandas.core.frame.DataFrame'>\n",
      "Int64Index: 28465 entries, 0 to 28464\n",
      "Data columns (total 18 columns):\n",
      " #   Column                  Non-Null Count  Dtype  \n",
      "---  ------                  --------------  -----  \n",
      " 0   CD_PROGRAMA_IES         28465 non-null  object \n",
      " 1   AN_BASE                 28465 non-null  int64  \n",
      " 2   Homens                  28465 non-null  int64  \n",
      " 3   Mulheres                28465 non-null  int64  \n",
      " 4   Prop_Homens             28465 non-null  float64\n",
      " 5   Brasileiros             28465 non-null  int64  \n",
      " 6   Estrangeiros            28465 non-null  int64  \n",
      " 7   Quantidade_Discentes    28465 non-null  int64  \n",
      " 8   QT_MES_TITULACAO        26134 non-null  float64\n",
      " 9   Aluno_Tempo             26134 non-null  float64\n",
      " 10  Quantidade_Docentes     28465 non-null  int64  \n",
      " 11  Prof_Aluno              28465 non-null  float64\n",
      " 12  CD_AREA_AVALIACAO       28465 non-null  int64  \n",
      " 13  CS_STATUS_JURIDICO      28465 non-null  object \n",
      " 14  AN_NASCIMENTO_DISCENTE  28465 non-null  float64\n",
      " 15  NM_REGIAO               28465 non-null  object \n",
      " 16  SG_UF_PROGRAMA          28465 non-null  object \n",
      " 17  CD_CONCEITO_PROGRAMA    28465 non-null  int64  \n",
      "dtypes: float64(5), int64(9), object(4)\n",
      "memory usage: 5.4+ MB\n"
     ]
    }
   ],
   "source": [
    "df1.info()"
   ]
  },
  {
   "cell_type": "markdown",
   "metadata": {},
   "source": [
    "## Tentando um ML\n",
    "\n",
    "### Prevendo a nota de um ano a partir das features do ano anterior"
   ]
  },
  {
   "cell_type": "code",
   "execution_count": 13,
   "metadata": {},
   "outputs": [],
   "source": [
    "#coisas para fazer o SVM\n",
    "from sklearn.model_selection import train_test_split\n",
    "from sklearn.preprocessing import StandardScaler\n",
    "from sklearn import svm\n",
    "\n",
    "#coisas para testar\n",
    "from sklearn.metrics import plot_confusion_matrix\n",
    "from sklearn.metrics import f1_score\n",
    "from sklearn.metrics import accuracy_score"
   ]
  },
  {
   "cell_type": "code",
   "execution_count": 14,
   "metadata": {},
   "outputs": [],
   "source": [
    "df1=df1.dropna()\n",
    "df1=df1[np.logical_and(df1['CD_CONCEITO_PROGRAMA']!=1,df1['CD_CONCEITO_PROGRAMA']!=2)] \n",
    "#1 e 2 quase não existem no dataset e poluem a confusionmatrix"
   ]
  },
  {
   "cell_type": "code",
   "execution_count": 15,
   "metadata": {},
   "outputs": [],
   "source": [
    "#código para dropar qualquer programa o qual não exista em ambos os anos escolhidos\n",
    "antes,depois=2015,2016\n",
    "\n",
    "df1=df1.set_index(df1.CD_PROGRAMA_IES)\n",
    "index=[]\n",
    "[index.append(x) for x in df1.index if x not in index] #tirando os valor\n",
    "para_apagar=[]\n",
    "for i in index:\n",
    "    lista=list(df1[df1.index==i]['AN_BASE'])\n",
    "    if antes in lista and depois in lista :\n",
    "        pass\n",
    "    else:\n",
    "        para_apagar.append(i)\n",
    "\n",
    "df1=df1.drop(para_apagar)\n",
    "\n",
    "df1_antes=df1[df1.AN_BASE==antes]\n",
    "df1_depois=df1[df1.AN_BASE==depois]"
   ]
  },
  {
   "cell_type": "code",
   "execution_count": 16,
   "metadata": {},
   "outputs": [],
   "source": [
    "# separando em treino e teste\n",
    "\n",
    "x=df1_antes.iloc[:,6:11]\n",
    "y=df1_depois.iloc[:,17]\n",
    "\n",
    "x_treino,x_teste,y_treino,y_teste=train_test_split(x,y,random_state=0,test_size=0.2)"
   ]
  },
  {
   "cell_type": "code",
   "execution_count": 17,
   "metadata": {},
   "outputs": [],
   "source": [
    "#fazendo tudo em escala \n",
    "scaler = StandardScaler().fit(x_treino)\n",
    "x_treino=scaler.transform(x_treino)\n",
    "x_teste=scaler.transform(x_teste)"
   ]
  },
  {
   "cell_type": "code",
   "execution_count": 18,
   "metadata": {},
   "outputs": [
    {
     "name": "stdout",
     "output_type": "stream",
     "text": [
      "Score F1 = 0.49\n",
      "Acurácia = 0.52\n"
     ]
    }
   ],
   "source": [
    "#treinando a máquina \n",
    "clf=svm.SVC()\n",
    "clf.fit(x_treino,y_treino)\n",
    "\n",
    "#testando o modelo\n",
    "y_pred=clf.predict(x_teste)\n",
    "print('Score F1 =',round(f1_score(y_teste,y_pred,average='weighted'),2))\n",
    "print('Acurácia =',round(accuracy_score(y_teste,y_pred),2))"
   ]
  },
  {
   "cell_type": "code",
   "execution_count": 19,
   "metadata": {},
   "outputs": [
    {
     "data": {
      "text/plain": [
       "Text(0.5, 1.0, 'Confusion Matrix normalizada para os valores previstos')"
      ]
     },
     "execution_count": 19,
     "metadata": {},
     "output_type": "execute_result"
    },
    {
     "data": {
      "image/png": "[encoded data removed]",
      "text/plain": [
       "<Figure size 1080x360 with 2 Axes>"
      ]
     },
     "metadata": {
      "needs_background": "light"
     },
     "output_type": "display_data"
    }
   ],
   "source": [
    "plt.rcParams['figure.figsize'] = (15, 5)\n",
    "plot_confusion_matrix(clf,x_teste,y_teste,values_format='.2g',normalize='pred',cmap='Greys')\n",
    "plt.xlabel('Valores previstos')\n",
    "plt.ylabel('Valores reais')\n",
    "plt.title('Confusion Matrix normalizada para os valores previstos')"
   ]
  },
  {
   "cell_type": "code",
   "execution_count": null,
   "metadata": {},
   "outputs": [],
   "source": []
  }
 ],
 "metadata": {
  "kernelspec": {
   "display_name": "Python 3",
   "language": "python",
   "name": "python3"
  },
  "language_info": {
   "codemirror_mode": {
    "name": "ipython",
    "version": 3
   },
   "file_extension": ".py",
   "mimetype": "text/x-python",
   "name": "python",
   "nbconvert_exporter": "python",
   "pygments_lexer": "ipython3",
   "version": "3.8.5"
  },
  "varInspector": {
   "cols": {
    "lenName": 16,
    "lenType": 16,
    "lenVar": 40
   },
   "kernels_config": {
    "python": {
     "delete_cmd_postfix": "",
     "delete_cmd_prefix": "del ",
     "library": "var_list.py",
     "varRefreshCmd": "print(var_dic_list())"
    },
    "r": {
     "delete_cmd_postfix": ") ",
     "delete_cmd_prefix": "rm(",
     "library": "var_list.r",
     "varRefreshCmd": "cat(var_dic_list()) "
    }
   },
   "types_to_exclude": [
    "module",
    "function",
    "builtin_function_or_method",
    "instance",
    "_Feature"
   ],
   "window_display": false
  }
 },
 "nbformat": 4,
 "nbformat_minor": 4
}
