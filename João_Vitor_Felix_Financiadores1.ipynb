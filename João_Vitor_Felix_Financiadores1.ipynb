{
  "nbformat": 4,
  "nbformat_minor": 0,
  "metadata": {
    "colab": {
      "name": "João Vitor Felix Financiadores1.ipynb",
      "provenance": [],
      "collapsed_sections": []
    },
    "kernelspec": {
      "display_name": "Python 3",
      "name": "python3"
    }
  },
  "cells": [
    {
      "cell_type": "code",
      "metadata": {
        "id": "3l068Oj1Bb8C",
        "colab": {
          "base_uri": "https://localhost:8080/"
        },
        "outputId": "78937a14-f8e9-410f-bb9c-3e713349fa02"
      },
      "source": [
        "from google.colab import drive\r\n",
        "drive.mount('/content/drive')"
      ],
      "execution_count": 2,
      "outputs": [
        {
          "output_type": "stream",
          "text": [
            "Mounted at /content/drive\n"
          ],
          "name": "stdout"
        }
      ]
    },
    {
      "cell_type": "code",
      "metadata": {
        "id": "H9rwIKLlBfWY"
      },
      "source": [
        "import pandas as pd\r\n",
        "import matplotlib.pyplot as plt\r\n",
        "import seaborn as sns\r\n",
        "path  = 'drive/My Drive/br-capes-colsucup-projeto-financiador-2017-2018-08-01.csv'\r\n",
        "df = pd.read_csv(path, sep=';',encoding='latin1')\r\n",
        "df1 = pd.read_csv(\"drive/My Drive/br-capes-colsucup-projeto-financiador-2018-2019-10-01 (1).csv\",sep=';',encoding='latin1')"
      ],
      "execution_count": 3,
      "outputs": []
    },
    {
      "cell_type": "code",
      "metadata": {
        "id": "NtwY94PyBr9I"
      },
      "source": [
        "df2 = pd.read_csv(\"drive/My Drive/br-capes-colsucup-financiador-2019-2020-11-30.csv\",sep=';',encoding='latin1')\r\n",
        "df3 = pd.read_csv(\"drive/My Drive/ddi-br-capes-colsucup-projeto-financiador-2013a2016-2018-05-01_2016.csv\",sep=';',encoding='latin1')\r\n",
        "df4 = pd.read_csv(\"drive/My Drive/ddi-br-capes-colsucup-projeto-financiador-2013a2016-2018-05-01_2015.csv\",sep=';',encoding='latin1')\r\n",
        "df5 = pd.read_csv(\"drive/My Drive/ddi-br-capes-colsucup-projeto-financiador-2013a2016-2018-05-01_2014.csv\",sep=';',encoding='latin1')\r\n",
        "df6 = pd.read_csv(\"drive/My Drive/ddi-br-capes-colsucup-projeto-financiador-2013a2016-2018-05-01_2013.csv\",sep=';',encoding='latin1' )\r\n"
      ],
      "execution_count": 4,
      "outputs": []
    },
    {
      "cell_type": "code",
      "metadata": {
        "id": "yk6ZKyLg9nnY"
      },
      "source": [
        "#concat das bases de financiadores"
      ],
      "execution_count": null,
      "outputs": []
    },
    {
      "cell_type": "code",
      "metadata": {
        "id": "VS4vXAEv_ten"
      },
      "source": [
        "df_f = pd.concat([df,df1,df2, df3,df4,df5,df6], axis = 0)"
      ],
      "execution_count": 5,
      "outputs": []
    },
    {
      "cell_type": "code",
      "metadata": {
        "colab": {
          "base_uri": "https://localhost:8080/",
          "height": 479
        },
        "id": "OQvy_lt8AZzW",
        "outputId": "19cc8bd6-dc93-4141-a83b-7c104cd75208"
      },
      "source": [
        "df_f.head(\r\n",
        ")"
      ],
      "execution_count": 6,
      "outputs": [
        {
          "output_type": "execute_result",
          "data": {
            "text/html": [
              "<div>\n",
              "<style scoped>\n",
              "    .dataframe tbody tr th:only-of-type {\n",
              "        vertical-align: middle;\n",
              "    }\n",
              "\n",
              "    .dataframe tbody tr th {\n",
              "        vertical-align: top;\n",
              "    }\n",
              "\n",
              "    .dataframe thead th {\n",
              "        text-align: right;\n",
              "    }\n",
              "</style>\n",
              "<table border=\"1\" class=\"dataframe\">\n",
              "  <thead>\n",
              "    <tr style=\"text-align: right;\">\n",
              "      <th></th>\n",
              "      <th>AN_BASE</th>\n",
              "      <th>ID_ADD_FOTO_PROGRAMA</th>\n",
              "      <th>ID_ADD_FOTO_PROGRAMA_IES</th>\n",
              "      <th>ID_ADD_CONTEXTO</th>\n",
              "      <th>ID_PROJETO</th>\n",
              "      <th>CD_PROGRAMA_IES</th>\n",
              "      <th>NM_PROGRAMA_IES</th>\n",
              "      <th>AN_INICIO_PROGRAMA</th>\n",
              "      <th>SG_ENTIDADE_ENSINO</th>\n",
              "      <th>NM_ENTIDADE_ENSINO</th>\n",
              "      <th>NM_NATUREZA_FINANCIAMENTO</th>\n",
              "      <th>NM_FINANCIADOR</th>\n",
              "      <th>SG_PROGRAMA_FOMENTO</th>\n",
              "      <th>NM_PROGRAMA_FOMENTO</th>\n",
              "      <th>IN_FINANCIADOR_ESTRANGEIRO</th>\n",
              "      <th>NM_PAIS_FINANCIADOR</th>\n",
              "    </tr>\n",
              "  </thead>\n",
              "  <tbody>\n",
              "    <tr>\n",
              "      <th>0</th>\n",
              "      <td>2017</td>\n",
              "      <td>64904</td>\n",
              "      <td>127798</td>\n",
              "      <td>4854940</td>\n",
              "      <td>165855</td>\n",
              "      <td>33002010146P4</td>\n",
              "      <td>ODONTOLOGIA(BIOMATERIAIS E BIOLOGIA ORAL)</td>\n",
              "      <td>1988.0</td>\n",
              "      <td>USP</td>\n",
              "      <td>UNIVERSIDADE DE SÃO PAULO</td>\n",
              "      <td>BOLSA</td>\n",
              "      <td>CONS NAC DE DESENVOLVIMENTO CIENTIFICO E TECNO...</td>\n",
              "      <td>GD</td>\n",
              "      <td>BOLSA DE DOUTORADO NO PAÍS GD</td>\n",
              "      <td>NÃO</td>\n",
              "      <td>BRASIL</td>\n",
              "    </tr>\n",
              "    <tr>\n",
              "      <th>1</th>\n",
              "      <td>2017</td>\n",
              "      <td>64904</td>\n",
              "      <td>127798</td>\n",
              "      <td>4854940</td>\n",
              "      <td>165855</td>\n",
              "      <td>33002010146P4</td>\n",
              "      <td>ODONTOLOGIA(BIOMATERIAIS E BIOLOGIA ORAL)</td>\n",
              "      <td>1988.0</td>\n",
              "      <td>USP</td>\n",
              "      <td>UNIVERSIDADE DE SÃO PAULO</td>\n",
              "      <td>BOLSA</td>\n",
              "      <td>FUND COORD DE APERFEICOAMENTO DE PESSOAL DE NI...</td>\n",
              "      <td>DS</td>\n",
              "      <td>PROGRAMA DE DEMANDA SOCIAL</td>\n",
              "      <td>NÃO</td>\n",
              "      <td>BRASIL</td>\n",
              "    </tr>\n",
              "    <tr>\n",
              "      <th>2</th>\n",
              "      <td>2017</td>\n",
              "      <td>64904</td>\n",
              "      <td>127798</td>\n",
              "      <td>4854940</td>\n",
              "      <td>165855</td>\n",
              "      <td>33002010146P4</td>\n",
              "      <td>ODONTOLOGIA(BIOMATERIAIS E BIOLOGIA ORAL)</td>\n",
              "      <td>1988.0</td>\n",
              "      <td>USP</td>\n",
              "      <td>UNIVERSIDADE DE SÃO PAULO</td>\n",
              "      <td>BOLSA</td>\n",
              "      <td>FUND COORD DE APERFEICOAMENTO DE PESSOAL DE NI...</td>\n",
              "      <td>PNPD/CAPES</td>\n",
              "      <td>PROGRAMA NACIONAL DE PÓS-DOUTORADO/CAPES</td>\n",
              "      <td>NÃO</td>\n",
              "      <td>BRASIL</td>\n",
              "    </tr>\n",
              "    <tr>\n",
              "      <th>3</th>\n",
              "      <td>2017</td>\n",
              "      <td>64904</td>\n",
              "      <td>127798</td>\n",
              "      <td>4854940</td>\n",
              "      <td>165855</td>\n",
              "      <td>33002010146P4</td>\n",
              "      <td>ODONTOLOGIA(BIOMATERIAIS E BIOLOGIA ORAL)</td>\n",
              "      <td>1988.0</td>\n",
              "      <td>USP</td>\n",
              "      <td>UNIVERSIDADE DE SÃO PAULO</td>\n",
              "      <td>OUTRO AUXÍLIO FINANCEIRO</td>\n",
              "      <td>FUND COORD DE APERFEICOAMENTO DE PESSOAL DE NI...</td>\n",
              "      <td>PROAP</td>\n",
              "      <td>APOIO À PÓS-GRADUAÇÃO</td>\n",
              "      <td>NÃO</td>\n",
              "      <td>BRASIL</td>\n",
              "    </tr>\n",
              "    <tr>\n",
              "      <th>4</th>\n",
              "      <td>2017</td>\n",
              "      <td>64913</td>\n",
              "      <td>127807</td>\n",
              "      <td>4856161</td>\n",
              "      <td>237993</td>\n",
              "      <td>53001010084P2</td>\n",
              "      <td>CIÊNCIAS DE MATERIAIS</td>\n",
              "      <td>2011.0</td>\n",
              "      <td>UNB</td>\n",
              "      <td>UNIVERSIDADE DE BRASÍLIA</td>\n",
              "      <td>OUTRO AUXÍLIO FINANCEIRO</td>\n",
              "      <td>FUNDACAO DE APOIO A PESQUISA DO DISTRITO FEDER...</td>\n",
              "      <td>FAPDF5/13</td>\n",
              "      <td>FAPDF 05/2013 - PRIMEIROS PROJETOS</td>\n",
              "      <td>NÃO</td>\n",
              "      <td>BRASIL</td>\n",
              "    </tr>\n",
              "  </tbody>\n",
              "</table>\n",
              "</div>"
            ],
            "text/plain": [
              "   AN_BASE  ID_ADD_FOTO_PROGRAMA  ...  IN_FINANCIADOR_ESTRANGEIRO  NM_PAIS_FINANCIADOR\n",
              "0     2017                 64904  ...                         NÃO               BRASIL\n",
              "1     2017                 64904  ...                         NÃO               BRASIL\n",
              "2     2017                 64904  ...                         NÃO               BRASIL\n",
              "3     2017                 64904  ...                         NÃO               BRASIL\n",
              "4     2017                 64913  ...                         NÃO               BRASIL\n",
              "\n",
              "[5 rows x 16 columns]"
            ]
          },
          "metadata": {
            "tags": []
          },
          "execution_count": 6
        }
      ]
    },
    {
      "cell_type": "code",
      "metadata": {
        "id": "k2k2sdXl6fpi"
      },
      "source": [
        "#Insights\r\n"
      ],
      "execution_count": 7,
      "outputs": []
    },
    {
      "cell_type": "code",
      "metadata": {
        "colab": {
          "base_uri": "https://localhost:8080/"
        },
        "id": "dEWC-A9fAb7l",
        "outputId": "03edf5f4-dd89-478d-d220-ffefafa88c77"
      },
      "source": [
        "df_f.isnull().sum().sort_values(ascending = False)"
      ],
      "execution_count": 34,
      "outputs": [
        {
          "output_type": "execute_result",
          "data": {
            "text/plain": [
              "NM_PAIS_FINANCIADOR           540010\n",
              "IN_FINANCIADOR_ESTRANGEIRO    540010\n",
              "SG_PROGRAMA_FOMENTO              921\n",
              "NM_PROGRAMA_FOMENTO              834\n",
              "AN_INICIO_PROGRAMA               113\n",
              "NM_FINANCIADOR                     0\n",
              "NM_NATUREZA_FINANCIAMENTO          0\n",
              "NM_ENTIDADE_ENSINO                 0\n",
              "SG_ENTIDADE_ENSINO                 0\n",
              "NM_PROGRAMA_IES                    0\n",
              "CD_PROGRAMA_IES                    0\n",
              "ID_PROJETO                         0\n",
              "ID_ADD_CONTEXTO                    0\n",
              "ID_ADD_FOTO_PROGRAMA_IES           0\n",
              "ID_ADD_FOTO_PROGRAMA               0\n",
              "AN_BASE                            0\n",
              "dtype: int64"
            ]
          },
          "metadata": {
            "tags": []
          },
          "execution_count": 34
        }
      ]
    },
    {
      "cell_type": "code",
      "metadata": {
        "id": "SkfoqAx494uc"
      },
      "source": [
        "#agrupando por quantidade de finanaciadores"
      ],
      "execution_count": 33,
      "outputs": []
    },
    {
      "cell_type": "code",
      "metadata": {
        "colab": {
          "base_uri": "https://localhost:8080/"
        },
        "id": "HUl2EV0HCtcU",
        "outputId": "49267e88-a8c0-436e-b485-a88ab5e0e360"
      },
      "source": [
        "df_f.groupby('CD_PROGRAMA_IES').count()['NM_PROGRAMA_IES'].sort_values(ascending = False)"
      ],
      "execution_count": 12,
      "outputs": [
        {
          "output_type": "execute_result",
          "data": {
            "text/plain": [
              "CD_PROGRAMA_IES\n",
              "42001013039P2    4265\n",
              "33002010050P7    3476\n",
              "31003010024P0    3408\n",
              "42001013016P2    2738\n",
              "32006012002P5    2500\n",
              "                 ... \n",
              "33107017009P6       1\n",
              "53005015002P8       1\n",
              "40004015070P0       1\n",
              "31066011001P7       1\n",
              "23004010008P5       1\n",
              "Name: NM_PROGRAMA_IES, Length: 4423, dtype: int64"
            ]
          },
          "metadata": {
            "tags": []
          },
          "execution_count": 12
        }
      ]
    },
    {
      "cell_type": "code",
      "metadata": {
        "id": "EHhuODh7-YDM"
      },
      "source": [
        "#verificando se concatenou todos os anos"
      ],
      "execution_count": 35,
      "outputs": []
    },
    {
      "cell_type": "code",
      "metadata": {
        "colab": {
          "base_uri": "https://localhost:8080/",
          "height": 297
        },
        "id": "smZ15FG5DX99",
        "outputId": "42c21e5f-ad8d-42a4-f520-dd96776180da"
      },
      "source": [
        "sns.countplot(x='AN_BASE', data = df_f)"
      ],
      "execution_count": 13,
      "outputs": [
        {
          "output_type": "execute_result",
          "data": {
            "text/plain": [
              "<matplotlib.axes._subplots.AxesSubplot at 0x7fbba62dff10>"
            ]
          },
          "metadata": {
            "tags": []
          },
          "execution_count": 13
        },
        {
          "output_type": "display_data",
          "data": {
            "image/png": "[encoded data removed]",
            "text/plain": [
              "<Figure size 432x288 with 1 Axes>"
            ]
          },
          "metadata": {
            "tags": [],
            "needs_background": "light"
          }
        }
      ]
    },
    {
      "cell_type": "code",
      "metadata": {
        "id": "QQVvPwtO-h-Y"
      },
      "source": [
        "#verificando se o Cd do programa se repete"
      ],
      "execution_count": 36,
      "outputs": []
    },
    {
      "cell_type": "code",
      "metadata": {
        "colab": {
          "base_uri": "https://localhost:8080/",
          "height": 889
        },
        "id": "UAaF-hW97BGc",
        "outputId": "63d8bf0d-45e6-47a9-c402-c2bf43d6efad"
      },
      "source": [
        "df2.query(\"CD_PROGRAMA_IES in ('53001010084P2')\").head(10)"
      ],
      "execution_count": 14,
      "outputs": [
        {
          "output_type": "execute_result",
          "data": {
            "text/html": [
              "<div>\n",
              "<style scoped>\n",
              "    .dataframe tbody tr th:only-of-type {\n",
              "        vertical-align: middle;\n",
              "    }\n",
              "\n",
              "    .dataframe tbody tr th {\n",
              "        vertical-align: top;\n",
              "    }\n",
              "\n",
              "    .dataframe thead th {\n",
              "        text-align: right;\n",
              "    }\n",
              "</style>\n",
              "<table border=\"1\" class=\"dataframe\">\n",
              "  <thead>\n",
              "    <tr style=\"text-align: right;\">\n",
              "      <th></th>\n",
              "      <th>AN_BASE</th>\n",
              "      <th>ID_ADD_FOTO_PROGRAMA</th>\n",
              "      <th>ID_ADD_FOTO_PROGRAMA_IES</th>\n",
              "      <th>ID_ADD_CONTEXTO</th>\n",
              "      <th>ID_PROJETO</th>\n",
              "      <th>CD_PROGRAMA_IES</th>\n",
              "      <th>NM_PROGRAMA_IES</th>\n",
              "      <th>AN_INICIO_PROGRAMA</th>\n",
              "      <th>SG_ENTIDADE_ENSINO</th>\n",
              "      <th>NM_ENTIDADE_ENSINO</th>\n",
              "      <th>NM_NATUREZA_FINANCIAMENTO</th>\n",
              "      <th>NM_FINANCIADOR</th>\n",
              "      <th>SG_PROGRAMA_FOMENTO</th>\n",
              "      <th>NM_PROGRAMA_FOMENTO</th>\n",
              "      <th>IN_FINANCIADOR_ESTRANGEIRO</th>\n",
              "      <th>NM_PAIS_FINANCIADOR</th>\n",
              "    </tr>\n",
              "  </thead>\n",
              "  <tbody>\n",
              "    <tr>\n",
              "      <th>22603</th>\n",
              "      <td>2019</td>\n",
              "      <td>94071</td>\n",
              "      <td>159182</td>\n",
              "      <td>5877771</td>\n",
              "      <td>435906</td>\n",
              "      <td>53001010084P2</td>\n",
              "      <td>CIÊNCIAS DE MATERIAIS</td>\n",
              "      <td>2011</td>\n",
              "      <td>UNB</td>\n",
              "      <td>UNIVERSIDADE DE BRASÍLIA</td>\n",
              "      <td>OUTRO AUXÍLIO FINANCEIRO</td>\n",
              "      <td>CONS NAC DE DESENVOLVIMENTO CIENTIFICO E TECNO...</td>\n",
              "      <td>UNI2016B</td>\n",
              "      <td>EDITAL UNIVERSAL MCTI/CNPQ Nº 01/2016 FAIXA B</td>\n",
              "      <td>NÃO</td>\n",
              "      <td>BRASIL</td>\n",
              "    </tr>\n",
              "    <tr>\n",
              "      <th>22604</th>\n",
              "      <td>2019</td>\n",
              "      <td>94071</td>\n",
              "      <td>159182</td>\n",
              "      <td>5877782</td>\n",
              "      <td>398897</td>\n",
              "      <td>53001010084P2</td>\n",
              "      <td>CIÊNCIAS DE MATERIAIS</td>\n",
              "      <td>2011</td>\n",
              "      <td>UNB</td>\n",
              "      <td>UNIVERSIDADE DE BRASÍLIA</td>\n",
              "      <td>OUTRO AUXÍLIO FINANCEIRO</td>\n",
              "      <td>FUNDACAO DE APOIO A PESQUISA DO DISTRITO FEDER...</td>\n",
              "      <td>ED03/2016</td>\n",
              "      <td>EDITAL 03/2016 - DEMANDA ESPONTÂNEA - FAIXA C</td>\n",
              "      <td>NÃO</td>\n",
              "      <td>BRASIL</td>\n",
              "    </tr>\n",
              "    <tr>\n",
              "      <th>22605</th>\n",
              "      <td>2019</td>\n",
              "      <td>94071</td>\n",
              "      <td>159182</td>\n",
              "      <td>5877775</td>\n",
              "      <td>559921</td>\n",
              "      <td>53001010084P2</td>\n",
              "      <td>CIÊNCIAS DE MATERIAIS</td>\n",
              "      <td>2011</td>\n",
              "      <td>UNB</td>\n",
              "      <td>UNIVERSIDADE DE BRASÍLIA</td>\n",
              "      <td>OUTRO AUXÍLIO FINANCEIRO</td>\n",
              "      <td>FUNDACAO DE APOIO A PESQUISA DO DISTRITO FEDER...</td>\n",
              "      <td>FAP05/2014</td>\n",
              "      <td>EDITAL FAPDF 05/2014 - PROGRAMA DE APOIO A PRI...</td>\n",
              "      <td>NÃO</td>\n",
              "      <td>BRASIL</td>\n",
              "    </tr>\n",
              "    <tr>\n",
              "      <th>22606</th>\n",
              "      <td>2019</td>\n",
              "      <td>94071</td>\n",
              "      <td>159182</td>\n",
              "      <td>5877769</td>\n",
              "      <td>398651</td>\n",
              "      <td>53001010084P2</td>\n",
              "      <td>CIÊNCIAS DE MATERIAIS</td>\n",
              "      <td>2011</td>\n",
              "      <td>UNB</td>\n",
              "      <td>UNIVERSIDADE DE BRASÍLIA</td>\n",
              "      <td>OUTRO AUXÍLIO FINANCEIRO</td>\n",
              "      <td>FUNDACAO DE APOIO A PESQUISA DO DISTRITO FEDER...</td>\n",
              "      <td>PRONEX2016</td>\n",
              "      <td>EDITAL FAPDF 07/2016 PROGRAMA DE APOIO A NÚCLE...</td>\n",
              "      <td>NÃO</td>\n",
              "      <td>BRASIL</td>\n",
              "    </tr>\n",
              "    <tr>\n",
              "      <th>22607</th>\n",
              "      <td>2019</td>\n",
              "      <td>94071</td>\n",
              "      <td>159182</td>\n",
              "      <td>5877785</td>\n",
              "      <td>495482</td>\n",
              "      <td>53001010084P2</td>\n",
              "      <td>CIÊNCIAS DE MATERIAIS</td>\n",
              "      <td>2011</td>\n",
              "      <td>UNB</td>\n",
              "      <td>UNIVERSIDADE DE BRASÍLIA</td>\n",
              "      <td>OUTRO AUXÍLIO FINANCEIRO</td>\n",
              "      <td>FUNDACAO DE APOIO A PESQUISA DO DISTRITO FEDER...</td>\n",
              "      <td>04/2017</td>\n",
              "      <td>EDITAL 04/2017 - SELEÇÃO PÚBLICA DE PROPOSTAS ...</td>\n",
              "      <td>NÃO</td>\n",
              "      <td>BRASIL</td>\n",
              "    </tr>\n",
              "    <tr>\n",
              "      <th>22608</th>\n",
              "      <td>2019</td>\n",
              "      <td>94071</td>\n",
              "      <td>159182</td>\n",
              "      <td>5877781</td>\n",
              "      <td>439966</td>\n",
              "      <td>53001010084P2</td>\n",
              "      <td>CIÊNCIAS DE MATERIAIS</td>\n",
              "      <td>2011</td>\n",
              "      <td>UNB</td>\n",
              "      <td>UNIVERSIDADE DE BRASÍLIA</td>\n",
              "      <td>OUTRO AUXÍLIO FINANCEIRO</td>\n",
              "      <td>FUNDACAO DE APOIO A PESQUISA DO DISTRITO FEDER...</td>\n",
              "      <td>04/2017</td>\n",
              "      <td>EDITAL 04/2017 - SELEÇÃO PÚBLICA DE PROPOSTAS ...</td>\n",
              "      <td>NÃO</td>\n",
              "      <td>BRASIL</td>\n",
              "    </tr>\n",
              "    <tr>\n",
              "      <th>22942</th>\n",
              "      <td>2019</td>\n",
              "      <td>94071</td>\n",
              "      <td>159182</td>\n",
              "      <td>5877779</td>\n",
              "      <td>559879</td>\n",
              "      <td>53001010084P2</td>\n",
              "      <td>CIÊNCIAS DE MATERIAIS</td>\n",
              "      <td>2011</td>\n",
              "      <td>UNB</td>\n",
              "      <td>UNIVERSIDADE DE BRASÍLIA</td>\n",
              "      <td>OUTRO AUXÍLIO FINANCEIRO</td>\n",
              "      <td>FUNDACAO DE APOIO A PESQUISA DO DISTRITO FEDER...</td>\n",
              "      <td>04/2017</td>\n",
              "      <td>EDITAL 04/2017 - SELEÇÃO PÚBLICA DE PROPOSTAS ...</td>\n",
              "      <td>NÃO</td>\n",
              "      <td>BRASIL</td>\n",
              "    </tr>\n",
              "    <tr>\n",
              "      <th>22943</th>\n",
              "      <td>2019</td>\n",
              "      <td>94071</td>\n",
              "      <td>159182</td>\n",
              "      <td>5877778</td>\n",
              "      <td>559913</td>\n",
              "      <td>53001010084P2</td>\n",
              "      <td>CIÊNCIAS DE MATERIAIS</td>\n",
              "      <td>2011</td>\n",
              "      <td>UNB</td>\n",
              "      <td>UNIVERSIDADE DE BRASÍLIA</td>\n",
              "      <td>OUTRO AUXÍLIO FINANCEIRO</td>\n",
              "      <td>FUNDACAO DE APOIO A PESQUISA DO DISTRITO FEDER...</td>\n",
              "      <td>04/2017</td>\n",
              "      <td>EDITAL 04/2017 - SELEÇÃO PÚBLICA DE PROPOSTAS ...</td>\n",
              "      <td>NÃO</td>\n",
              "      <td>BRASIL</td>\n",
              "    </tr>\n",
              "    <tr>\n",
              "      <th>22944</th>\n",
              "      <td>2019</td>\n",
              "      <td>94071</td>\n",
              "      <td>159182</td>\n",
              "      <td>5877777</td>\n",
              "      <td>559923</td>\n",
              "      <td>53001010084P2</td>\n",
              "      <td>CIÊNCIAS DE MATERIAIS</td>\n",
              "      <td>2011</td>\n",
              "      <td>UNB</td>\n",
              "      <td>UNIVERSIDADE DE BRASÍLIA</td>\n",
              "      <td>OUTRO AUXÍLIO FINANCEIRO</td>\n",
              "      <td>FUNDACAO DE APOIO A PESQUISA DO DISTRITO FEDER...</td>\n",
              "      <td>04/2017</td>\n",
              "      <td>EDITAL 04/2017 - SELEÇÃO PÚBLICA DE PROPOSTAS ...</td>\n",
              "      <td>NÃO</td>\n",
              "      <td>BRASIL</td>\n",
              "    </tr>\n",
              "    <tr>\n",
              "      <th>22945</th>\n",
              "      <td>2019</td>\n",
              "      <td>94071</td>\n",
              "      <td>159182</td>\n",
              "      <td>5877776</td>\n",
              "      <td>559917</td>\n",
              "      <td>53001010084P2</td>\n",
              "      <td>CIÊNCIAS DE MATERIAIS</td>\n",
              "      <td>2011</td>\n",
              "      <td>UNB</td>\n",
              "      <td>UNIVERSIDADE DE BRASÍLIA</td>\n",
              "      <td>OUTRO AUXÍLIO FINANCEIRO</td>\n",
              "      <td>FUNDACAO DE APOIO A PESQUISA DO DISTRITO FEDER...</td>\n",
              "      <td>04/2017</td>\n",
              "      <td>EDITAL 04/2017 - SELEÇÃO PÚBLICA DE PROPOSTAS ...</td>\n",
              "      <td>NÃO</td>\n",
              "      <td>BRASIL</td>\n",
              "    </tr>\n",
              "  </tbody>\n",
              "</table>\n",
              "</div>"
            ],
            "text/plain": [
              "       AN_BASE  ...  NM_PAIS_FINANCIADOR\n",
              "22603     2019  ...               BRASIL\n",
              "22604     2019  ...               BRASIL\n",
              "22605     2019  ...               BRASIL\n",
              "22606     2019  ...               BRASIL\n",
              "22607     2019  ...               BRASIL\n",
              "22608     2019  ...               BRASIL\n",
              "22942     2019  ...               BRASIL\n",
              "22943     2019  ...               BRASIL\n",
              "22944     2019  ...               BRASIL\n",
              "22945     2019  ...               BRASIL\n",
              "\n",
              "[10 rows x 16 columns]"
            ]
          },
          "metadata": {
            "tags": []
          },
          "execution_count": 14
        }
      ]
    },
    {
      "cell_type": "code",
      "metadata": {
        "id": "Erth-0yt-vYq"
      },
      "source": [
        "#gerando a principal feature da base"
      ],
      "execution_count": null,
      "outputs": []
    },
    {
      "cell_type": "code",
      "metadata": {
        "id": "_VQuazMp7vbE"
      },
      "source": [
        "a = df_f.groupby(['CD_PROGRAMA_IES', 'AN_BASE']).count()['NM_ENTIDADE_ENSINO'].sort_values(ascending=False).reset_index()"
      ],
      "execution_count": 15,
      "outputs": []
    },
    {
      "cell_type": "code",
      "metadata": {
        "id": "wwYh2VJTCUPR"
      },
      "source": [
        "a = a.rename(columns={'NM_ENTIDADE_ENSINO': 'Qtd_Financiadores'})"
      ],
      "execution_count": 16,
      "outputs": []
    },
    {
      "cell_type": "code",
      "metadata": {
        "colab": {
          "base_uri": "https://localhost:8080/",
          "height": 514
        },
        "id": "hBGj4SdoET_1",
        "outputId": "72598c1d-8848-4ee1-e51e-abbe3ac010d9"
      },
      "source": [
        "a.head(15)"
      ],
      "execution_count": 17,
      "outputs": [
        {
          "output_type": "execute_result",
          "data": {
            "text/html": [
              "<div>\n",
              "<style scoped>\n",
              "    .dataframe tbody tr th:only-of-type {\n",
              "        vertical-align: middle;\n",
              "    }\n",
              "\n",
              "    .dataframe tbody tr th {\n",
              "        vertical-align: top;\n",
              "    }\n",
              "\n",
              "    .dataframe thead th {\n",
              "        text-align: right;\n",
              "    }\n",
              "</style>\n",
              "<table border=\"1\" class=\"dataframe\">\n",
              "  <thead>\n",
              "    <tr style=\"text-align: right;\">\n",
              "      <th></th>\n",
              "      <th>CD_PROGRAMA_IES</th>\n",
              "      <th>AN_BASE</th>\n",
              "      <th>Qtd_Financiadores</th>\n",
              "    </tr>\n",
              "  </thead>\n",
              "  <tbody>\n",
              "    <tr>\n",
              "      <th>0</th>\n",
              "      <td>42001013039P2</td>\n",
              "      <td>2016</td>\n",
              "      <td>742</td>\n",
              "    </tr>\n",
              "    <tr>\n",
              "      <th>1</th>\n",
              "      <td>42001013039P2</td>\n",
              "      <td>2017</td>\n",
              "      <td>733</td>\n",
              "    </tr>\n",
              "    <tr>\n",
              "      <th>2</th>\n",
              "      <td>33002010050P7</td>\n",
              "      <td>2013</td>\n",
              "      <td>687</td>\n",
              "    </tr>\n",
              "    <tr>\n",
              "      <th>3</th>\n",
              "      <td>33002010050P7</td>\n",
              "      <td>2014</td>\n",
              "      <td>683</td>\n",
              "    </tr>\n",
              "    <tr>\n",
              "      <th>4</th>\n",
              "      <td>42001013039P2</td>\n",
              "      <td>2018</td>\n",
              "      <td>659</td>\n",
              "    </tr>\n",
              "    <tr>\n",
              "      <th>5</th>\n",
              "      <td>42001013039P2</td>\n",
              "      <td>2015</td>\n",
              "      <td>615</td>\n",
              "    </tr>\n",
              "    <tr>\n",
              "      <th>6</th>\n",
              "      <td>42001013039P2</td>\n",
              "      <td>2019</td>\n",
              "      <td>590</td>\n",
              "    </tr>\n",
              "    <tr>\n",
              "      <th>7</th>\n",
              "      <td>42001013039P2</td>\n",
              "      <td>2014</td>\n",
              "      <td>529</td>\n",
              "    </tr>\n",
              "    <tr>\n",
              "      <th>8</th>\n",
              "      <td>31003010024P0</td>\n",
              "      <td>2019</td>\n",
              "      <td>528</td>\n",
              "    </tr>\n",
              "    <tr>\n",
              "      <th>9</th>\n",
              "      <td>31003010024P0</td>\n",
              "      <td>2018</td>\n",
              "      <td>521</td>\n",
              "    </tr>\n",
              "    <tr>\n",
              "      <th>10</th>\n",
              "      <td>31003010024P0</td>\n",
              "      <td>2017</td>\n",
              "      <td>519</td>\n",
              "    </tr>\n",
              "    <tr>\n",
              "      <th>11</th>\n",
              "      <td>33002010050P7</td>\n",
              "      <td>2019</td>\n",
              "      <td>504</td>\n",
              "    </tr>\n",
              "    <tr>\n",
              "      <th>12</th>\n",
              "      <td>33004030072P8</td>\n",
              "      <td>2013</td>\n",
              "      <td>502</td>\n",
              "    </tr>\n",
              "    <tr>\n",
              "      <th>13</th>\n",
              "      <td>33002010050P7</td>\n",
              "      <td>2018</td>\n",
              "      <td>500</td>\n",
              "    </tr>\n",
              "    <tr>\n",
              "      <th>14</th>\n",
              "      <td>31003010024P0</td>\n",
              "      <td>2016</td>\n",
              "      <td>500</td>\n",
              "    </tr>\n",
              "  </tbody>\n",
              "</table>\n",
              "</div>"
            ],
            "text/plain": [
              "   CD_PROGRAMA_IES  AN_BASE  Qtd_Financiadores\n",
              "0    42001013039P2     2016                742\n",
              "1    42001013039P2     2017                733\n",
              "2    33002010050P7     2013                687\n",
              "3    33002010050P7     2014                683\n",
              "4    42001013039P2     2018                659\n",
              "5    42001013039P2     2015                615\n",
              "6    42001013039P2     2019                590\n",
              "7    42001013039P2     2014                529\n",
              "8    31003010024P0     2019                528\n",
              "9    31003010024P0     2018                521\n",
              "10   31003010024P0     2017                519\n",
              "11   33002010050P7     2019                504\n",
              "12   33004030072P8     2013                502\n",
              "13   33002010050P7     2018                500\n",
              "14   31003010024P0     2016                500"
            ]
          },
          "metadata": {
            "tags": []
          },
          "execution_count": 17
        }
      ]
    },
    {
      "cell_type": "code",
      "metadata": {
        "id": "DII4zx8F-2sL"
      },
      "source": [
        "#Análise da coluna NM_NATUREZA_FINANCIAMENTO"
      ],
      "execution_count": 37,
      "outputs": []
    },
    {
      "cell_type": "code",
      "metadata": {
        "colab": {
          "base_uri": "https://localhost:8080/",
          "height": 297
        },
        "id": "0cGRcVcEEVSH",
        "outputId": "ec1d9e98-8987-4656-a9b7-51b605d6bec1"
      },
      "source": [
        "sns.countplot(x= 'NM_NATUREZA_FINANCIAMENTO', data= df_f)"
      ],
      "execution_count": 18,
      "outputs": [
        {
          "output_type": "execute_result",
          "data": {
            "text/plain": [
              "<matplotlib.axes._subplots.AxesSubplot at 0x7fbba5b34e90>"
            ]
          },
          "metadata": {
            "tags": []
          },
          "execution_count": 18
        },
        {
          "output_type": "display_data",
          "data": {
            "image/png": "[encoded data removed]",
            "text/plain": [
              "<Figure size 432x288 with 1 Axes>"
            ]
          },
          "metadata": {
            "tags": [],
            "needs_background": "light"
          }
        }
      ]
    },
    {
      "cell_type": "code",
      "metadata": {
        "id": "K3HiiVFh7hx5"
      },
      "source": [
        "#gerando Features com essa coluna"
      ],
      "execution_count": 38,
      "outputs": []
    },
    {
      "cell_type": "code",
      "metadata": {
        "colab": {
          "base_uri": "https://localhost:8080/",
          "height": 479
        },
        "id": "BYpIylVzPqJS",
        "outputId": "10ef606c-0b28-45cb-d9fe-93182393b336"
      },
      "source": [
        "B = df_f.query(\"NM_NATUREZA_FINANCIAMENTO in ('BOLSA')\")\r\n",
        "B.head()\r\n"
      ],
      "execution_count": 20,
      "outputs": [
        {
          "output_type": "execute_result",
          "data": {
            "text/html": [
              "<div>\n",
              "<style scoped>\n",
              "    .dataframe tbody tr th:only-of-type {\n",
              "        vertical-align: middle;\n",
              "    }\n",
              "\n",
              "    .dataframe tbody tr th {\n",
              "        vertical-align: top;\n",
              "    }\n",
              "\n",
              "    .dataframe thead th {\n",
              "        text-align: right;\n",
              "    }\n",
              "</style>\n",
              "<table border=\"1\" class=\"dataframe\">\n",
              "  <thead>\n",
              "    <tr style=\"text-align: right;\">\n",
              "      <th></th>\n",
              "      <th>AN_BASE</th>\n",
              "      <th>ID_ADD_FOTO_PROGRAMA</th>\n",
              "      <th>ID_ADD_FOTO_PROGRAMA_IES</th>\n",
              "      <th>ID_ADD_CONTEXTO</th>\n",
              "      <th>ID_PROJETO</th>\n",
              "      <th>CD_PROGRAMA_IES</th>\n",
              "      <th>NM_PROGRAMA_IES</th>\n",
              "      <th>AN_INICIO_PROGRAMA</th>\n",
              "      <th>SG_ENTIDADE_ENSINO</th>\n",
              "      <th>NM_ENTIDADE_ENSINO</th>\n",
              "      <th>NM_NATUREZA_FINANCIAMENTO</th>\n",
              "      <th>NM_FINANCIADOR</th>\n",
              "      <th>SG_PROGRAMA_FOMENTO</th>\n",
              "      <th>NM_PROGRAMA_FOMENTO</th>\n",
              "      <th>IN_FINANCIADOR_ESTRANGEIRO</th>\n",
              "      <th>NM_PAIS_FINANCIADOR</th>\n",
              "    </tr>\n",
              "  </thead>\n",
              "  <tbody>\n",
              "    <tr>\n",
              "      <th>0</th>\n",
              "      <td>2017</td>\n",
              "      <td>64904</td>\n",
              "      <td>127798</td>\n",
              "      <td>4854940</td>\n",
              "      <td>165855</td>\n",
              "      <td>33002010146P4</td>\n",
              "      <td>ODONTOLOGIA(BIOMATERIAIS E BIOLOGIA ORAL)</td>\n",
              "      <td>1988.0</td>\n",
              "      <td>USP</td>\n",
              "      <td>UNIVERSIDADE DE SÃO PAULO</td>\n",
              "      <td>BOLSA</td>\n",
              "      <td>CONS NAC DE DESENVOLVIMENTO CIENTIFICO E TECNO...</td>\n",
              "      <td>GD</td>\n",
              "      <td>BOLSA DE DOUTORADO NO PAÍS GD</td>\n",
              "      <td>NÃO</td>\n",
              "      <td>BRASIL</td>\n",
              "    </tr>\n",
              "    <tr>\n",
              "      <th>1</th>\n",
              "      <td>2017</td>\n",
              "      <td>64904</td>\n",
              "      <td>127798</td>\n",
              "      <td>4854940</td>\n",
              "      <td>165855</td>\n",
              "      <td>33002010146P4</td>\n",
              "      <td>ODONTOLOGIA(BIOMATERIAIS E BIOLOGIA ORAL)</td>\n",
              "      <td>1988.0</td>\n",
              "      <td>USP</td>\n",
              "      <td>UNIVERSIDADE DE SÃO PAULO</td>\n",
              "      <td>BOLSA</td>\n",
              "      <td>FUND COORD DE APERFEICOAMENTO DE PESSOAL DE NI...</td>\n",
              "      <td>DS</td>\n",
              "      <td>PROGRAMA DE DEMANDA SOCIAL</td>\n",
              "      <td>NÃO</td>\n",
              "      <td>BRASIL</td>\n",
              "    </tr>\n",
              "    <tr>\n",
              "      <th>2</th>\n",
              "      <td>2017</td>\n",
              "      <td>64904</td>\n",
              "      <td>127798</td>\n",
              "      <td>4854940</td>\n",
              "      <td>165855</td>\n",
              "      <td>33002010146P4</td>\n",
              "      <td>ODONTOLOGIA(BIOMATERIAIS E BIOLOGIA ORAL)</td>\n",
              "      <td>1988.0</td>\n",
              "      <td>USP</td>\n",
              "      <td>UNIVERSIDADE DE SÃO PAULO</td>\n",
              "      <td>BOLSA</td>\n",
              "      <td>FUND COORD DE APERFEICOAMENTO DE PESSOAL DE NI...</td>\n",
              "      <td>PNPD/CAPES</td>\n",
              "      <td>PROGRAMA NACIONAL DE PÓS-DOUTORADO/CAPES</td>\n",
              "      <td>NÃO</td>\n",
              "      <td>BRASIL</td>\n",
              "    </tr>\n",
              "    <tr>\n",
              "      <th>17</th>\n",
              "      <td>2017</td>\n",
              "      <td>64937</td>\n",
              "      <td>127831</td>\n",
              "      <td>4856822</td>\n",
              "      <td>442116</td>\n",
              "      <td>15001016022P6</td>\n",
              "      <td>ZOOLOGIA</td>\n",
              "      <td>1996.0</td>\n",
              "      <td>UFPA</td>\n",
              "      <td>UNIVERSIDADE FEDERAL DO PARÁ</td>\n",
              "      <td>BOLSA</td>\n",
              "      <td>CONS NAC DE DESENVOLVIMENTO CIENTIFICO E TECNO...</td>\n",
              "      <td>GM E GD</td>\n",
              "      <td>BOLSA DE MESTRADO GM E DOUTORADO GD</td>\n",
              "      <td>NÃO</td>\n",
              "      <td>BRASIL</td>\n",
              "    </tr>\n",
              "    <tr>\n",
              "      <th>21</th>\n",
              "      <td>2017</td>\n",
              "      <td>64937</td>\n",
              "      <td>127831</td>\n",
              "      <td>4856959</td>\n",
              "      <td>416268</td>\n",
              "      <td>15001016022P6</td>\n",
              "      <td>ZOOLOGIA</td>\n",
              "      <td>1996.0</td>\n",
              "      <td>UFPA</td>\n",
              "      <td>UNIVERSIDADE FEDERAL DO PARÁ</td>\n",
              "      <td>BOLSA</td>\n",
              "      <td>FUNDACAO DE AMPARO A PESQUISA DO ESTADO DO PARA</td>\n",
              "      <td>PRONEX/CNP</td>\n",
              "      <td>PROGRAMA DE APOIO</td>\n",
              "      <td>NÃO</td>\n",
              "      <td>BRASIL</td>\n",
              "    </tr>\n",
              "  </tbody>\n",
              "</table>\n",
              "</div>"
            ],
            "text/plain": [
              "    AN_BASE  ...  NM_PAIS_FINANCIADOR\n",
              "0      2017  ...               BRASIL\n",
              "1      2017  ...               BRASIL\n",
              "2      2017  ...               BRASIL\n",
              "17     2017  ...               BRASIL\n",
              "21     2017  ...               BRASIL\n",
              "\n",
              "[5 rows x 16 columns]"
            ]
          },
          "metadata": {
            "tags": []
          },
          "execution_count": 20
        }
      ]
    },
    {
      "cell_type": "code",
      "metadata": {
        "colab": {
          "base_uri": "https://localhost:8080/",
          "height": 204
        },
        "id": "R7WNwB1-XrWX",
        "outputId": "d2a90205-2ca8-444b-b1de-0e8bb9995dde"
      },
      "source": [
        "B = B.groupby(['CD_PROGRAMA_IES', 'AN_BASE']).count()['NM_ENTIDADE_ENSINO'].sort_values(ascending=False).reset_index()\r\n",
        "B = B.rename(columns={'NM_ENTIDADE_ENSINO': 'BOLSA'})\r\n",
        "B.head()"
      ],
      "execution_count": 21,
      "outputs": [
        {
          "output_type": "execute_result",
          "data": {
            "text/html": [
              "<div>\n",
              "<style scoped>\n",
              "    .dataframe tbody tr th:only-of-type {\n",
              "        vertical-align: middle;\n",
              "    }\n",
              "\n",
              "    .dataframe tbody tr th {\n",
              "        vertical-align: top;\n",
              "    }\n",
              "\n",
              "    .dataframe thead th {\n",
              "        text-align: right;\n",
              "    }\n",
              "</style>\n",
              "<table border=\"1\" class=\"dataframe\">\n",
              "  <thead>\n",
              "    <tr style=\"text-align: right;\">\n",
              "      <th></th>\n",
              "      <th>CD_PROGRAMA_IES</th>\n",
              "      <th>AN_BASE</th>\n",
              "      <th>BOLSA</th>\n",
              "    </tr>\n",
              "  </thead>\n",
              "  <tbody>\n",
              "    <tr>\n",
              "      <th>0</th>\n",
              "      <td>31003010024P0</td>\n",
              "      <td>2019</td>\n",
              "      <td>446</td>\n",
              "    </tr>\n",
              "    <tr>\n",
              "      <th>1</th>\n",
              "      <td>31003010024P0</td>\n",
              "      <td>2018</td>\n",
              "      <td>439</td>\n",
              "    </tr>\n",
              "    <tr>\n",
              "      <th>2</th>\n",
              "      <td>31003010024P0</td>\n",
              "      <td>2017</td>\n",
              "      <td>438</td>\n",
              "    </tr>\n",
              "    <tr>\n",
              "      <th>3</th>\n",
              "      <td>33002010050P7</td>\n",
              "      <td>2013</td>\n",
              "      <td>437</td>\n",
              "    </tr>\n",
              "    <tr>\n",
              "      <th>4</th>\n",
              "      <td>33002010050P7</td>\n",
              "      <td>2014</td>\n",
              "      <td>434</td>\n",
              "    </tr>\n",
              "  </tbody>\n",
              "</table>\n",
              "</div>"
            ],
            "text/plain": [
              "  CD_PROGRAMA_IES  AN_BASE  BOLSA\n",
              "0   31003010024P0     2019    446\n",
              "1   31003010024P0     2018    439\n",
              "2   31003010024P0     2017    438\n",
              "3   33002010050P7     2013    437\n",
              "4   33002010050P7     2014    434"
            ]
          },
          "metadata": {
            "tags": []
          },
          "execution_count": 21
        }
      ]
    },
    {
      "cell_type": "code",
      "metadata": {
        "id": "wDXGo_nJV4lJ"
      },
      "source": [
        "C = df_f.query(\"NM_NATUREZA_FINANCIAMENTO in ('OUTRO AUXÍLIO FINANCEIRO')\")\r\n",
        "C = C.groupby(['CD_PROGRAMA_IES', 'AN_BASE']).count()['NM_ENTIDADE_ENSINO'].sort_values(ascending=False).reset_index()\r\n",
        "C = C.rename(columns={'NM_ENTIDADE_ENSINO': 'OUTRO AUXÍLIO FINANCEIRO'})"
      ],
      "execution_count": 22,
      "outputs": []
    },
    {
      "cell_type": "code",
      "metadata": {
        "id": "XsPna5eyWDNw"
      },
      "source": [
        "D = df_f.query(\"NM_NATUREZA_FINANCIAMENTO in ('SEM AUXÍLIO')\").reset_index()\r\n",
        "D = D.groupby(['CD_PROGRAMA_IES','AN_BASE']).count()['NM_ENTIDADE_ENSINO'].sort_values(ascending=False).reset_index()\r\n",
        "D = D.rename(columns={'NM_ENTIDADE_ENSINO': 'SEM AUXÍLIO'})"
      ],
      "execution_count": 23,
      "outputs": []
    },
    {
      "cell_type": "code",
      "metadata": {
        "id": "QoKX0VoVWG4P"
      },
      "source": [
        ""
      ],
      "execution_count": 23,
      "outputs": []
    },
    {
      "cell_type": "code",
      "metadata": {
        "id": "N7n9SEzCWgUR"
      },
      "source": [
        "e = pd.merge(a, B,  how='inner',  on = ['CD_PROGRAMA_IES', 'AN_BASE'])\r\n",
        "e = pd.merge(e, C,  how='inner',  on = ['CD_PROGRAMA_IES', 'AN_BASE'])\r\n",
        "e = pd.merge(e, D,  how='inner',  on = ['CD_PROGRAMA_IES', 'AN_BASE'])"
      ],
      "execution_count": 24,
      "outputs": []
    },
    {
      "cell_type": "code",
      "metadata": {
        "colab": {
          "base_uri": "https://localhost:8080/",
          "height": 204
        },
        "id": "FdGwBbRHXBV3",
        "outputId": "c4c99786-5e35-4706-da53-29a82a501714"
      },
      "source": [
        "e.head()"
      ],
      "execution_count": 25,
      "outputs": [
        {
          "output_type": "execute_result",
          "data": {
            "text/html": [
              "<div>\n",
              "<style scoped>\n",
              "    .dataframe tbody tr th:only-of-type {\n",
              "        vertical-align: middle;\n",
              "    }\n",
              "\n",
              "    .dataframe tbody tr th {\n",
              "        vertical-align: top;\n",
              "    }\n",
              "\n",
              "    .dataframe thead th {\n",
              "        text-align: right;\n",
              "    }\n",
              "</style>\n",
              "<table border=\"1\" class=\"dataframe\">\n",
              "  <thead>\n",
              "    <tr style=\"text-align: right;\">\n",
              "      <th></th>\n",
              "      <th>CD_PROGRAMA_IES</th>\n",
              "      <th>AN_BASE</th>\n",
              "      <th>Qtd_Financiadores</th>\n",
              "      <th>BOLSA</th>\n",
              "      <th>OUTRO AUXÍLIO FINANCEIRO</th>\n",
              "      <th>SEM AUXÍLIO</th>\n",
              "    </tr>\n",
              "  </thead>\n",
              "  <tbody>\n",
              "    <tr>\n",
              "      <th>0</th>\n",
              "      <td>32004010004P9</td>\n",
              "      <td>2016</td>\n",
              "      <td>380</td>\n",
              "      <td>278</td>\n",
              "      <td>101</td>\n",
              "      <td>1</td>\n",
              "    </tr>\n",
              "    <tr>\n",
              "      <th>1</th>\n",
              "      <td>32004010004P9</td>\n",
              "      <td>2014</td>\n",
              "      <td>350</td>\n",
              "      <td>256</td>\n",
              "      <td>92</td>\n",
              "      <td>2</td>\n",
              "    </tr>\n",
              "    <tr>\n",
              "      <th>2</th>\n",
              "      <td>32004010004P9</td>\n",
              "      <td>2015</td>\n",
              "      <td>338</td>\n",
              "      <td>249</td>\n",
              "      <td>88</td>\n",
              "      <td>1</td>\n",
              "    </tr>\n",
              "    <tr>\n",
              "      <th>3</th>\n",
              "      <td>32004010004P9</td>\n",
              "      <td>2013</td>\n",
              "      <td>332</td>\n",
              "      <td>245</td>\n",
              "      <td>85</td>\n",
              "      <td>2</td>\n",
              "    </tr>\n",
              "    <tr>\n",
              "      <th>4</th>\n",
              "      <td>31001017016P1</td>\n",
              "      <td>2015</td>\n",
              "      <td>240</td>\n",
              "      <td>105</td>\n",
              "      <td>134</td>\n",
              "      <td>1</td>\n",
              "    </tr>\n",
              "  </tbody>\n",
              "</table>\n",
              "</div>"
            ],
            "text/plain": [
              "  CD_PROGRAMA_IES  AN_BASE  ...  OUTRO AUXÍLIO FINANCEIRO  SEM AUXÍLIO\n",
              "0   32004010004P9     2016  ...                       101            1\n",
              "1   32004010004P9     2014  ...                        92            2\n",
              "2   32004010004P9     2015  ...                        88            1\n",
              "3   32004010004P9     2013  ...                        85            2\n",
              "4   31001017016P1     2015  ...                       134            1\n",
              "\n",
              "[5 rows x 6 columns]"
            ]
          },
          "metadata": {
            "tags": []
          },
          "execution_count": 25
        }
      ]
    },
    {
      "cell_type": "code",
      "metadata": {
        "id": "0KjfIr8k_Eg1"
      },
      "source": [
        "#utilizando a base de ppg para a utilização da coluna de conceitos"
      ],
      "execution_count": 39,
      "outputs": []
    },
    {
      "cell_type": "code",
      "metadata": {
        "id": "GMrhQndUSveG"
      },
      "source": [
        "path_ppg_2013 = ('drive/My Drive/br-capes-colsucup-prog-2013a2016-2020-06-12_2013.csv')\r\n",
        "path_ppg_2014 = ('drive/My Drive/br-capes-colsucup-prog-2013a2016-2020-06-12_2014.csv')\r\n",
        "path_ppg_2015 = ('drive/My Drive/br-capes-colsucup-prog-2013a2016-2020-06-12_2015.csv')\r\n",
        "path_ppg_2016 = ('drive/My Drive/br-capes-colsucup-prog-2013a2016-2020-06-12_2016.csv')\r\n",
        "path_ppg_2017 = ('drive/My Drive/br-capes-colsucup-prog-2017-2020-06-12.csv')\r\n",
        "path_ppg_2018 = ('drive/My Drive/br-capes-colsucup-prog-2018-2020-06-12.csv')\r\n",
        " \r\n",
        "df_ppg_2013 = pd.read_csv(path_ppg_2013, sep = ';', encoding = 'latin1')\r\n",
        "df_ppg_2014 = pd.read_csv(path_ppg_2014, sep = ';', encoding = 'latin1')\r\n",
        "df_ppg_2015 = pd.read_csv(path_ppg_2015, sep = ';', encoding = 'latin1')\r\n",
        "df_ppg_2016 = pd.read_csv(path_ppg_2016, sep = ';', encoding = 'latin1')\r\n",
        "df_ppg_2017 = pd.read_csv(path_ppg_2017, sep = ';', encoding = 'latin1')\r\n",
        "df_ppg_2018 = pd.read_csv(path_ppg_2018, sep = ';', encoding = 'latin1')\r\n",
        " \r\n",
        "ppg_final = pd.concat([df_ppg_2013, df_ppg_2014, df_ppg_2015, df_ppg_2016, df_ppg_2017, df_ppg_2018], axis = 0)"
      ],
      "execution_count": 26,
      "outputs": []
    },
    {
      "cell_type": "code",
      "metadata": {
        "id": "CUjUzPLcS-zt"
      },
      "source": [
        "f = ppg_final.drop(columns = ['NM_GRANDE_AREA_CONHECIMENTO', 'NM_AREA_CONHECIMENTO', 'NM_SUBAREA_CONHECIMENTO', 'NM_ESPECIALIDADE', 'CD_AREA_AVALIACAO', 'NM_AREA_AVALIACAO', 'CD_ENTIDADE_CAPES', 'CD_ENTIDADE_EMEC', 'SG_ENTIDADE_ENSINO', 'CS_STATUS_JURIDICO', 'DS_DEPENDENCIA_ADMINISTRATIVA', 'NM_REGIAO', 'DS_ORGANIZACAO_ACADEMICA', 'NM_ENTIDADE_ENSINO',  'NM_MUNICIPIO_PROGRAMA_IES', 'NM_MODALIDADE_PROGRAMA', 'ID_ADD_FOTO_PROGRAMA_IES', 'ID_ADD_FOTO_PROGRAMA', 'NM_PROGRAMA_IES', 'NM_PROGRAMA_IDIOMA', 'SG_UF_PROGRAMA', 'NM_GRAU_PROGRAMA', 'ANO_INICIO_PROGRAMA', 'AN_INICIO_CURSO', 'IN_REDE', 'SG_ENTIDADE_ENSINO_REDE', 'DS_SITUACAO_PROGRAMA', 'DT_SITUACAO_PROGRAMA', 'DS_CLIENTELA_QUADRIENAL_2017', 'NM_AREA_BASICA', 'AN_INICIO_PROGRAMA'])"
      ],
      "execution_count": 27,
      "outputs": []
    },
    {
      "cell_type": "code",
      "metadata": {
        "colab": {
          "base_uri": "https://localhost:8080/",
          "height": 204
        },
        "id": "EbfFhNBmTU6v",
        "outputId": "4993fb85-ec22-456c-c7c3-6c554353eab6"
      },
      "source": [
        "f.head()"
      ],
      "execution_count": 28,
      "outputs": [
        {
          "output_type": "execute_result",
          "data": {
            "text/html": [
              "<div>\n",
              "<style scoped>\n",
              "    .dataframe tbody tr th:only-of-type {\n",
              "        vertical-align: middle;\n",
              "    }\n",
              "\n",
              "    .dataframe tbody tr th {\n",
              "        vertical-align: top;\n",
              "    }\n",
              "\n",
              "    .dataframe thead th {\n",
              "        text-align: right;\n",
              "    }\n",
              "</style>\n",
              "<table border=\"1\" class=\"dataframe\">\n",
              "  <thead>\n",
              "    <tr style=\"text-align: right;\">\n",
              "      <th></th>\n",
              "      <th>AN_BASE</th>\n",
              "      <th>CD_PROGRAMA_IES</th>\n",
              "      <th>CD_CONCEITO_PROGRAMA</th>\n",
              "    </tr>\n",
              "  </thead>\n",
              "  <tbody>\n",
              "    <tr>\n",
              "      <th>0</th>\n",
              "      <td>2013</td>\n",
              "      <td>10001018002P1</td>\n",
              "      <td>3</td>\n",
              "    </tr>\n",
              "    <tr>\n",
              "      <th>1</th>\n",
              "      <td>2013</td>\n",
              "      <td>10001018004P4</td>\n",
              "      <td>4</td>\n",
              "    </tr>\n",
              "    <tr>\n",
              "      <th>2</th>\n",
              "      <td>2013</td>\n",
              "      <td>10001018005P0</td>\n",
              "      <td>4</td>\n",
              "    </tr>\n",
              "    <tr>\n",
              "      <th>3</th>\n",
              "      <td>2013</td>\n",
              "      <td>10001018006P7</td>\n",
              "      <td>4</td>\n",
              "    </tr>\n",
              "    <tr>\n",
              "      <th>4</th>\n",
              "      <td>2013</td>\n",
              "      <td>10001018008P0</td>\n",
              "      <td>2</td>\n",
              "    </tr>\n",
              "  </tbody>\n",
              "</table>\n",
              "</div>"
            ],
            "text/plain": [
              "   AN_BASE CD_PROGRAMA_IES CD_CONCEITO_PROGRAMA\n",
              "0     2013   10001018002P1                    3\n",
              "1     2013   10001018004P4                    4\n",
              "2     2013   10001018005P0                    4\n",
              "3     2013   10001018006P7                    4\n",
              "4     2013   10001018008P0                    2"
            ]
          },
          "metadata": {
            "tags": []
          },
          "execution_count": 28
        }
      ]
    },
    {
      "cell_type": "code",
      "metadata": {
        "id": "jOU2khTFTbM0"
      },
      "source": [
        "e = pd.merge(e, f,  how='inner',  on = ['CD_PROGRAMA_IES', 'AN_BASE'])"
      ],
      "execution_count": 29,
      "outputs": []
    },
    {
      "cell_type": "code",
      "metadata": {
        "colab": {
          "base_uri": "https://localhost:8080/",
          "height": 204
        },
        "id": "8ar5e9R9USxJ",
        "outputId": "a4c63142-59db-4938-b37e-38659ba04e6f"
      },
      "source": [
        "e.head()"
      ],
      "execution_count": 30,
      "outputs": [
        {
          "output_type": "execute_result",
          "data": {
            "text/html": [
              "<div>\n",
              "<style scoped>\n",
              "    .dataframe tbody tr th:only-of-type {\n",
              "        vertical-align: middle;\n",
              "    }\n",
              "\n",
              "    .dataframe tbody tr th {\n",
              "        vertical-align: top;\n",
              "    }\n",
              "\n",
              "    .dataframe thead th {\n",
              "        text-align: right;\n",
              "    }\n",
              "</style>\n",
              "<table border=\"1\" class=\"dataframe\">\n",
              "  <thead>\n",
              "    <tr style=\"text-align: right;\">\n",
              "      <th></th>\n",
              "      <th>CD_PROGRAMA_IES</th>\n",
              "      <th>AN_BASE</th>\n",
              "      <th>Qtd_Financiadores</th>\n",
              "      <th>BOLSA</th>\n",
              "      <th>OUTRO AUXÍLIO FINANCEIRO</th>\n",
              "      <th>SEM AUXÍLIO</th>\n",
              "      <th>CD_CONCEITO_PROGRAMA</th>\n",
              "    </tr>\n",
              "  </thead>\n",
              "  <tbody>\n",
              "    <tr>\n",
              "      <th>0</th>\n",
              "      <td>32004010004P9</td>\n",
              "      <td>2016</td>\n",
              "      <td>380</td>\n",
              "      <td>278</td>\n",
              "      <td>101</td>\n",
              "      <td>1</td>\n",
              "      <td>5</td>\n",
              "    </tr>\n",
              "    <tr>\n",
              "      <th>1</th>\n",
              "      <td>32004010004P9</td>\n",
              "      <td>2014</td>\n",
              "      <td>350</td>\n",
              "      <td>256</td>\n",
              "      <td>92</td>\n",
              "      <td>2</td>\n",
              "      <td>5</td>\n",
              "    </tr>\n",
              "    <tr>\n",
              "      <th>2</th>\n",
              "      <td>32004010004P9</td>\n",
              "      <td>2015</td>\n",
              "      <td>338</td>\n",
              "      <td>249</td>\n",
              "      <td>88</td>\n",
              "      <td>1</td>\n",
              "      <td>5</td>\n",
              "    </tr>\n",
              "    <tr>\n",
              "      <th>3</th>\n",
              "      <td>32004010004P9</td>\n",
              "      <td>2013</td>\n",
              "      <td>332</td>\n",
              "      <td>245</td>\n",
              "      <td>85</td>\n",
              "      <td>2</td>\n",
              "      <td>5</td>\n",
              "    </tr>\n",
              "    <tr>\n",
              "      <th>4</th>\n",
              "      <td>31001017016P1</td>\n",
              "      <td>2015</td>\n",
              "      <td>240</td>\n",
              "      <td>105</td>\n",
              "      <td>134</td>\n",
              "      <td>1</td>\n",
              "      <td>6</td>\n",
              "    </tr>\n",
              "  </tbody>\n",
              "</table>\n",
              "</div>"
            ],
            "text/plain": [
              "  CD_PROGRAMA_IES  AN_BASE  ...  SEM AUXÍLIO  CD_CONCEITO_PROGRAMA\n",
              "0   32004010004P9     2016  ...            1                     5\n",
              "1   32004010004P9     2014  ...            2                     5\n",
              "2   32004010004P9     2015  ...            1                     5\n",
              "3   32004010004P9     2013  ...            2                     5\n",
              "4   31001017016P1     2015  ...            1                     6\n",
              "\n",
              "[5 rows x 7 columns]"
            ]
          },
          "metadata": {
            "tags": []
          },
          "execution_count": 30
        }
      ]
    },
    {
      "cell_type": "code",
      "metadata": {
        "id": "kXWz9F2cUUYc"
      },
      "source": [
        "e = e[['CD_PROGRAMA_IES','AN_BASE','CD_CONCEITO_PROGRAMA', 'Qtd_Financiadores','BOLSA','OUTRO AUXÍLIO FINANCEIRO','SEM AUXÍLIO']]"
      ],
      "execution_count": 31,
      "outputs": []
    },
    {
      "cell_type": "code",
      "metadata": {
        "id": "njJ69FTp_TP8"
      },
      "source": [
        "#feature gerado"
      ],
      "execution_count": 40,
      "outputs": []
    },
    {
      "cell_type": "code",
      "metadata": {
        "id": "Z7WG4iiWUwkN",
        "colab": {
          "base_uri": "https://localhost:8080/",
          "height": 204
        },
        "outputId": "71a5b619-2dab-431a-952e-851deb901dc2"
      },
      "source": [
        "e.head()"
      ],
      "execution_count": 32,
      "outputs": [
        {
          "output_type": "execute_result",
          "data": {
            "text/html": [
              "<div>\n",
              "<style scoped>\n",
              "    .dataframe tbody tr th:only-of-type {\n",
              "        vertical-align: middle;\n",
              "    }\n",
              "\n",
              "    .dataframe tbody tr th {\n",
              "        vertical-align: top;\n",
              "    }\n",
              "\n",
              "    .dataframe thead th {\n",
              "        text-align: right;\n",
              "    }\n",
              "</style>\n",
              "<table border=\"1\" class=\"dataframe\">\n",
              "  <thead>\n",
              "    <tr style=\"text-align: right;\">\n",
              "      <th></th>\n",
              "      <th>CD_PROGRAMA_IES</th>\n",
              "      <th>AN_BASE</th>\n",
              "      <th>CD_CONCEITO_PROGRAMA</th>\n",
              "      <th>Qtd_Financiadores</th>\n",
              "      <th>BOLSA</th>\n",
              "      <th>OUTRO AUXÍLIO FINANCEIRO</th>\n",
              "      <th>SEM AUXÍLIO</th>\n",
              "    </tr>\n",
              "  </thead>\n",
              "  <tbody>\n",
              "    <tr>\n",
              "      <th>0</th>\n",
              "      <td>32004010004P9</td>\n",
              "      <td>2016</td>\n",
              "      <td>5</td>\n",
              "      <td>380</td>\n",
              "      <td>278</td>\n",
              "      <td>101</td>\n",
              "      <td>1</td>\n",
              "    </tr>\n",
              "    <tr>\n",
              "      <th>1</th>\n",
              "      <td>32004010004P9</td>\n",
              "      <td>2014</td>\n",
              "      <td>5</td>\n",
              "      <td>350</td>\n",
              "      <td>256</td>\n",
              "      <td>92</td>\n",
              "      <td>2</td>\n",
              "    </tr>\n",
              "    <tr>\n",
              "      <th>2</th>\n",
              "      <td>32004010004P9</td>\n",
              "      <td>2015</td>\n",
              "      <td>5</td>\n",
              "      <td>338</td>\n",
              "      <td>249</td>\n",
              "      <td>88</td>\n",
              "      <td>1</td>\n",
              "    </tr>\n",
              "    <tr>\n",
              "      <th>3</th>\n",
              "      <td>32004010004P9</td>\n",
              "      <td>2013</td>\n",
              "      <td>5</td>\n",
              "      <td>332</td>\n",
              "      <td>245</td>\n",
              "      <td>85</td>\n",
              "      <td>2</td>\n",
              "    </tr>\n",
              "    <tr>\n",
              "      <th>4</th>\n",
              "      <td>31001017016P1</td>\n",
              "      <td>2015</td>\n",
              "      <td>6</td>\n",
              "      <td>240</td>\n",
              "      <td>105</td>\n",
              "      <td>134</td>\n",
              "      <td>1</td>\n",
              "    </tr>\n",
              "  </tbody>\n",
              "</table>\n",
              "</div>"
            ],
            "text/plain": [
              "  CD_PROGRAMA_IES  AN_BASE  ... OUTRO AUXÍLIO FINANCEIRO  SEM AUXÍLIO\n",
              "0   32004010004P9     2016  ...                      101            1\n",
              "1   32004010004P9     2014  ...                       92            2\n",
              "2   32004010004P9     2015  ...                       88            1\n",
              "3   32004010004P9     2013  ...                       85            2\n",
              "4   31001017016P1     2015  ...                      134            1\n",
              "\n",
              "[5 rows x 7 columns]"
            ]
          },
          "metadata": {
            "tags": []
          },
          "execution_count": 32
        }
      ]
    },
    {
      "cell_type": "code",
      "metadata": {
        "id": "4_RrmrBRUyBk"
      },
      "source": [
        ""
      ],
      "execution_count": 32,
      "outputs": []
    }
  ]
}